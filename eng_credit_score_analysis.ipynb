{
  "cells": [
    {
      "cell_type": "markdown",
      "id": "77808d5d",
      "metadata": {
        "deletable": false,
        "editable": false,
        "id": "77808d5d"
      },
      "source": [
        "# Investigation of Borrower Reliability"
      ]
    },
    {
      "cell_type": "markdown",
      "id": "fa5a76d4",
      "metadata": {
        "deletable": false,
        "editable": false,
        "id": "fa5a76d4"
      },
      "source": [
        "## Let's open the dataset and analyze general information about the data"
      ]
    },
    {
      "cell_type": "markdown",
      "id": "e4d6746d",
      "metadata": {
        "deletable": false,
        "editable": false,
        "id": "e4d6746d"
      },
      "source": [
        "**We import the pandas library and read the data from the csv file into a dataframe, saving it into the `data` variable.**"
      ]
    },
    {
      "cell_type": "code",
      "execution_count": 69,
      "id": "3f6c2ff8",
      "metadata": {
        "deletable": false,
        "id": "3f6c2ff8",
        "outputId": "a69c1cbd-faa8-4a0a-f618-4703e1a2475e",
        "colab": {
          "base_uri": "https://localhost:8080/"
        }
      },
      "outputs": [
        {
          "output_type": "stream",
          "name": "stdout",
          "text": [
            "Drive already mounted at /content/drive; to attempt to forcibly remount, call drive.mount(\"/content/drive\", force_remount=True).\n"
          ]
        }
      ],
      "source": [
        "import pandas as pd\n",
        "\n",
        "from google.colab import drive\n",
        "drive.mount('/content/drive')\n",
        "csv_path = '/content/drive/My Drive/projects/bank_credit_score_analysis/data.csv'\n",
        "# Read the CSV file into a Pandas DataFrame\n",
        "data = pd.read_csv(csv_path)"
      ]
    },
    {
      "cell_type": "markdown",
      "id": "8a4f44d9",
      "metadata": {
        "deletable": false,
        "editable": false,
        "id": "8a4f44d9"
      },
      "source": [
        "**Display the first 20 lines of the `data` dataframe on the screen.**"
      ]
    },
    {
      "cell_type": "code",
      "execution_count": 70,
      "id": "b3b43276",
      "metadata": {
        "deletable": false,
        "id": "b3b43276",
        "outputId": "3b6fd090-98e6-4819-af03-b0df4f1a2763",
        "colab": {
          "base_uri": "https://localhost:8080/",
          "height": 1000
        }
      },
      "outputs": [
        {
          "output_type": "execute_result",
          "data": {
            "text/plain": [
              "    children  days_employed  dob_years            education  education_id  \\\n",
              "0          1   -8437.673028         42               высшее             0   \n",
              "1          1   -4024.803754         36              среднее             1   \n",
              "2          0   -5623.422610         33              Среднее             1   \n",
              "3          3   -4124.747207         32              среднее             1   \n",
              "4          0  340266.072047         53              среднее             1   \n",
              "5          0    -926.185831         27               высшее             0   \n",
              "6          0   -2879.202052         43               высшее             0   \n",
              "7          0    -152.779569         50              СРЕДНЕЕ             1   \n",
              "8          2   -6929.865299         35               ВЫСШЕЕ             0   \n",
              "9          0   -2188.756445         41              среднее             1   \n",
              "10         2   -4171.483647         36               высшее             0   \n",
              "11         0    -792.701887         40              среднее             1   \n",
              "12         0            NaN         65              среднее             1   \n",
              "13         0   -1846.641941         54  неоконченное высшее             2   \n",
              "14         0   -1844.956182         56               высшее             0   \n",
              "15         1    -972.364419         26              среднее             1   \n",
              "16         0   -1719.934226         35              среднее             1   \n",
              "17         0   -2369.999720         33               высшее             0   \n",
              "18         0  400281.136913         53              среднее             1   \n",
              "19         0  -10038.818549         48              СРЕДНЕЕ             1   \n",
              "\n",
              "       family_status  family_status_id gender income_type  debt  \\\n",
              "0    женат / замужем                 0      F   сотрудник     0   \n",
              "1    женат / замужем                 0      F   сотрудник     0   \n",
              "2    женат / замужем                 0      M   сотрудник     0   \n",
              "3    женат / замужем                 0      M   сотрудник     0   \n",
              "4   гражданский брак                 1      F   пенсионер     0   \n",
              "5   гражданский брак                 1      M   компаньон     0   \n",
              "6    женат / замужем                 0      F   компаньон     0   \n",
              "7    женат / замужем                 0      M   сотрудник     0   \n",
              "8   гражданский брак                 1      F   сотрудник     0   \n",
              "9    женат / замужем                 0      M   сотрудник     0   \n",
              "10   женат / замужем                 0      M   компаньон     0   \n",
              "11   женат / замужем                 0      F   сотрудник     0   \n",
              "12  гражданский брак                 1      M   пенсионер     0   \n",
              "13   женат / замужем                 0      F   сотрудник     0   \n",
              "14  гражданский брак                 1      F   компаньон     1   \n",
              "15   женат / замужем                 0      F   сотрудник     0   \n",
              "16   женат / замужем                 0      F   сотрудник     0   \n",
              "17  гражданский брак                 1      M   сотрудник     0   \n",
              "18    вдовец / вдова                 2      F   пенсионер     0   \n",
              "19         в разводе                 3      F   сотрудник     0   \n",
              "\n",
              "     total_income                                 purpose  \n",
              "0   253875.639453                           покупка жилья  \n",
              "1   112080.014102                 приобретение автомобиля  \n",
              "2   145885.952297                           покупка жилья  \n",
              "3   267628.550329              дополнительное образование  \n",
              "4   158616.077870                         сыграть свадьбу  \n",
              "5   255763.565419                           покупка жилья  \n",
              "6   240525.971920                       операции с жильем  \n",
              "7   135823.934197                             образование  \n",
              "8    95856.832424                   на проведение свадьбы  \n",
              "9   144425.938277                 покупка жилья для семьи  \n",
              "10  113943.491460                    покупка недвижимости  \n",
              "11   77069.234271       покупка коммерческой недвижимости  \n",
              "12            NaN                         сыграть свадьбу  \n",
              "13  130458.228857                 приобретение автомобиля  \n",
              "14  165127.911772              покупка жилой недвижимости  \n",
              "15  116820.904450  строительство собственной недвижимости  \n",
              "16  289202.704229                            недвижимость  \n",
              "17   90410.586745              строительство недвижимости  \n",
              "18   56823.777243      на покупку подержанного автомобиля  \n",
              "19  242831.107982            на покупку своего автомобиля  "
            ],
            "text/html": [
              "\n",
              "  <div id=\"df-6b128b01-5a4b-47ef-9b21-7f040529a33d\" class=\"colab-df-container\">\n",
              "    <div>\n",
              "<style scoped>\n",
              "    .dataframe tbody tr th:only-of-type {\n",
              "        vertical-align: middle;\n",
              "    }\n",
              "\n",
              "    .dataframe tbody tr th {\n",
              "        vertical-align: top;\n",
              "    }\n",
              "\n",
              "    .dataframe thead th {\n",
              "        text-align: right;\n",
              "    }\n",
              "</style>\n",
              "<table border=\"1\" class=\"dataframe\">\n",
              "  <thead>\n",
              "    <tr style=\"text-align: right;\">\n",
              "      <th></th>\n",
              "      <th>children</th>\n",
              "      <th>days_employed</th>\n",
              "      <th>dob_years</th>\n",
              "      <th>education</th>\n",
              "      <th>education_id</th>\n",
              "      <th>family_status</th>\n",
              "      <th>family_status_id</th>\n",
              "      <th>gender</th>\n",
              "      <th>income_type</th>\n",
              "      <th>debt</th>\n",
              "      <th>total_income</th>\n",
              "      <th>purpose</th>\n",
              "    </tr>\n",
              "  </thead>\n",
              "  <tbody>\n",
              "    <tr>\n",
              "      <th>0</th>\n",
              "      <td>1</td>\n",
              "      <td>-8437.673028</td>\n",
              "      <td>42</td>\n",
              "      <td>высшее</td>\n",
              "      <td>0</td>\n",
              "      <td>женат / замужем</td>\n",
              "      <td>0</td>\n",
              "      <td>F</td>\n",
              "      <td>сотрудник</td>\n",
              "      <td>0</td>\n",
              "      <td>253875.639453</td>\n",
              "      <td>покупка жилья</td>\n",
              "    </tr>\n",
              "    <tr>\n",
              "      <th>1</th>\n",
              "      <td>1</td>\n",
              "      <td>-4024.803754</td>\n",
              "      <td>36</td>\n",
              "      <td>среднее</td>\n",
              "      <td>1</td>\n",
              "      <td>женат / замужем</td>\n",
              "      <td>0</td>\n",
              "      <td>F</td>\n",
              "      <td>сотрудник</td>\n",
              "      <td>0</td>\n",
              "      <td>112080.014102</td>\n",
              "      <td>приобретение автомобиля</td>\n",
              "    </tr>\n",
              "    <tr>\n",
              "      <th>2</th>\n",
              "      <td>0</td>\n",
              "      <td>-5623.422610</td>\n",
              "      <td>33</td>\n",
              "      <td>Среднее</td>\n",
              "      <td>1</td>\n",
              "      <td>женат / замужем</td>\n",
              "      <td>0</td>\n",
              "      <td>M</td>\n",
              "      <td>сотрудник</td>\n",
              "      <td>0</td>\n",
              "      <td>145885.952297</td>\n",
              "      <td>покупка жилья</td>\n",
              "    </tr>\n",
              "    <tr>\n",
              "      <th>3</th>\n",
              "      <td>3</td>\n",
              "      <td>-4124.747207</td>\n",
              "      <td>32</td>\n",
              "      <td>среднее</td>\n",
              "      <td>1</td>\n",
              "      <td>женат / замужем</td>\n",
              "      <td>0</td>\n",
              "      <td>M</td>\n",
              "      <td>сотрудник</td>\n",
              "      <td>0</td>\n",
              "      <td>267628.550329</td>\n",
              "      <td>дополнительное образование</td>\n",
              "    </tr>\n",
              "    <tr>\n",
              "      <th>4</th>\n",
              "      <td>0</td>\n",
              "      <td>340266.072047</td>\n",
              "      <td>53</td>\n",
              "      <td>среднее</td>\n",
              "      <td>1</td>\n",
              "      <td>гражданский брак</td>\n",
              "      <td>1</td>\n",
              "      <td>F</td>\n",
              "      <td>пенсионер</td>\n",
              "      <td>0</td>\n",
              "      <td>158616.077870</td>\n",
              "      <td>сыграть свадьбу</td>\n",
              "    </tr>\n",
              "    <tr>\n",
              "      <th>5</th>\n",
              "      <td>0</td>\n",
              "      <td>-926.185831</td>\n",
              "      <td>27</td>\n",
              "      <td>высшее</td>\n",
              "      <td>0</td>\n",
              "      <td>гражданский брак</td>\n",
              "      <td>1</td>\n",
              "      <td>M</td>\n",
              "      <td>компаньон</td>\n",
              "      <td>0</td>\n",
              "      <td>255763.565419</td>\n",
              "      <td>покупка жилья</td>\n",
              "    </tr>\n",
              "    <tr>\n",
              "      <th>6</th>\n",
              "      <td>0</td>\n",
              "      <td>-2879.202052</td>\n",
              "      <td>43</td>\n",
              "      <td>высшее</td>\n",
              "      <td>0</td>\n",
              "      <td>женат / замужем</td>\n",
              "      <td>0</td>\n",
              "      <td>F</td>\n",
              "      <td>компаньон</td>\n",
              "      <td>0</td>\n",
              "      <td>240525.971920</td>\n",
              "      <td>операции с жильем</td>\n",
              "    </tr>\n",
              "    <tr>\n",
              "      <th>7</th>\n",
              "      <td>0</td>\n",
              "      <td>-152.779569</td>\n",
              "      <td>50</td>\n",
              "      <td>СРЕДНЕЕ</td>\n",
              "      <td>1</td>\n",
              "      <td>женат / замужем</td>\n",
              "      <td>0</td>\n",
              "      <td>M</td>\n",
              "      <td>сотрудник</td>\n",
              "      <td>0</td>\n",
              "      <td>135823.934197</td>\n",
              "      <td>образование</td>\n",
              "    </tr>\n",
              "    <tr>\n",
              "      <th>8</th>\n",
              "      <td>2</td>\n",
              "      <td>-6929.865299</td>\n",
              "      <td>35</td>\n",
              "      <td>ВЫСШЕЕ</td>\n",
              "      <td>0</td>\n",
              "      <td>гражданский брак</td>\n",
              "      <td>1</td>\n",
              "      <td>F</td>\n",
              "      <td>сотрудник</td>\n",
              "      <td>0</td>\n",
              "      <td>95856.832424</td>\n",
              "      <td>на проведение свадьбы</td>\n",
              "    </tr>\n",
              "    <tr>\n",
              "      <th>9</th>\n",
              "      <td>0</td>\n",
              "      <td>-2188.756445</td>\n",
              "      <td>41</td>\n",
              "      <td>среднее</td>\n",
              "      <td>1</td>\n",
              "      <td>женат / замужем</td>\n",
              "      <td>0</td>\n",
              "      <td>M</td>\n",
              "      <td>сотрудник</td>\n",
              "      <td>0</td>\n",
              "      <td>144425.938277</td>\n",
              "      <td>покупка жилья для семьи</td>\n",
              "    </tr>\n",
              "    <tr>\n",
              "      <th>10</th>\n",
              "      <td>2</td>\n",
              "      <td>-4171.483647</td>\n",
              "      <td>36</td>\n",
              "      <td>высшее</td>\n",
              "      <td>0</td>\n",
              "      <td>женат / замужем</td>\n",
              "      <td>0</td>\n",
              "      <td>M</td>\n",
              "      <td>компаньон</td>\n",
              "      <td>0</td>\n",
              "      <td>113943.491460</td>\n",
              "      <td>покупка недвижимости</td>\n",
              "    </tr>\n",
              "    <tr>\n",
              "      <th>11</th>\n",
              "      <td>0</td>\n",
              "      <td>-792.701887</td>\n",
              "      <td>40</td>\n",
              "      <td>среднее</td>\n",
              "      <td>1</td>\n",
              "      <td>женат / замужем</td>\n",
              "      <td>0</td>\n",
              "      <td>F</td>\n",
              "      <td>сотрудник</td>\n",
              "      <td>0</td>\n",
              "      <td>77069.234271</td>\n",
              "      <td>покупка коммерческой недвижимости</td>\n",
              "    </tr>\n",
              "    <tr>\n",
              "      <th>12</th>\n",
              "      <td>0</td>\n",
              "      <td>NaN</td>\n",
              "      <td>65</td>\n",
              "      <td>среднее</td>\n",
              "      <td>1</td>\n",
              "      <td>гражданский брак</td>\n",
              "      <td>1</td>\n",
              "      <td>M</td>\n",
              "      <td>пенсионер</td>\n",
              "      <td>0</td>\n",
              "      <td>NaN</td>\n",
              "      <td>сыграть свадьбу</td>\n",
              "    </tr>\n",
              "    <tr>\n",
              "      <th>13</th>\n",
              "      <td>0</td>\n",
              "      <td>-1846.641941</td>\n",
              "      <td>54</td>\n",
              "      <td>неоконченное высшее</td>\n",
              "      <td>2</td>\n",
              "      <td>женат / замужем</td>\n",
              "      <td>0</td>\n",
              "      <td>F</td>\n",
              "      <td>сотрудник</td>\n",
              "      <td>0</td>\n",
              "      <td>130458.228857</td>\n",
              "      <td>приобретение автомобиля</td>\n",
              "    </tr>\n",
              "    <tr>\n",
              "      <th>14</th>\n",
              "      <td>0</td>\n",
              "      <td>-1844.956182</td>\n",
              "      <td>56</td>\n",
              "      <td>высшее</td>\n",
              "      <td>0</td>\n",
              "      <td>гражданский брак</td>\n",
              "      <td>1</td>\n",
              "      <td>F</td>\n",
              "      <td>компаньон</td>\n",
              "      <td>1</td>\n",
              "      <td>165127.911772</td>\n",
              "      <td>покупка жилой недвижимости</td>\n",
              "    </tr>\n",
              "    <tr>\n",
              "      <th>15</th>\n",
              "      <td>1</td>\n",
              "      <td>-972.364419</td>\n",
              "      <td>26</td>\n",
              "      <td>среднее</td>\n",
              "      <td>1</td>\n",
              "      <td>женат / замужем</td>\n",
              "      <td>0</td>\n",
              "      <td>F</td>\n",
              "      <td>сотрудник</td>\n",
              "      <td>0</td>\n",
              "      <td>116820.904450</td>\n",
              "      <td>строительство собственной недвижимости</td>\n",
              "    </tr>\n",
              "    <tr>\n",
              "      <th>16</th>\n",
              "      <td>0</td>\n",
              "      <td>-1719.934226</td>\n",
              "      <td>35</td>\n",
              "      <td>среднее</td>\n",
              "      <td>1</td>\n",
              "      <td>женат / замужем</td>\n",
              "      <td>0</td>\n",
              "      <td>F</td>\n",
              "      <td>сотрудник</td>\n",
              "      <td>0</td>\n",
              "      <td>289202.704229</td>\n",
              "      <td>недвижимость</td>\n",
              "    </tr>\n",
              "    <tr>\n",
              "      <th>17</th>\n",
              "      <td>0</td>\n",
              "      <td>-2369.999720</td>\n",
              "      <td>33</td>\n",
              "      <td>высшее</td>\n",
              "      <td>0</td>\n",
              "      <td>гражданский брак</td>\n",
              "      <td>1</td>\n",
              "      <td>M</td>\n",
              "      <td>сотрудник</td>\n",
              "      <td>0</td>\n",
              "      <td>90410.586745</td>\n",
              "      <td>строительство недвижимости</td>\n",
              "    </tr>\n",
              "    <tr>\n",
              "      <th>18</th>\n",
              "      <td>0</td>\n",
              "      <td>400281.136913</td>\n",
              "      <td>53</td>\n",
              "      <td>среднее</td>\n",
              "      <td>1</td>\n",
              "      <td>вдовец / вдова</td>\n",
              "      <td>2</td>\n",
              "      <td>F</td>\n",
              "      <td>пенсионер</td>\n",
              "      <td>0</td>\n",
              "      <td>56823.777243</td>\n",
              "      <td>на покупку подержанного автомобиля</td>\n",
              "    </tr>\n",
              "    <tr>\n",
              "      <th>19</th>\n",
              "      <td>0</td>\n",
              "      <td>-10038.818549</td>\n",
              "      <td>48</td>\n",
              "      <td>СРЕДНЕЕ</td>\n",
              "      <td>1</td>\n",
              "      <td>в разводе</td>\n",
              "      <td>3</td>\n",
              "      <td>F</td>\n",
              "      <td>сотрудник</td>\n",
              "      <td>0</td>\n",
              "      <td>242831.107982</td>\n",
              "      <td>на покупку своего автомобиля</td>\n",
              "    </tr>\n",
              "  </tbody>\n",
              "</table>\n",
              "</div>\n",
              "    <div class=\"colab-df-buttons\">\n",
              "\n",
              "  <div class=\"colab-df-container\">\n",
              "    <button class=\"colab-df-convert\" onclick=\"convertToInteractive('df-6b128b01-5a4b-47ef-9b21-7f040529a33d')\"\n",
              "            title=\"Convert this dataframe to an interactive table.\"\n",
              "            style=\"display:none;\">\n",
              "\n",
              "  <svg xmlns=\"http://www.w3.org/2000/svg\" height=\"24px\" viewBox=\"0 -960 960 960\">\n",
              "    <path d=\"M120-120v-720h720v720H120Zm60-500h600v-160H180v160Zm220 220h160v-160H400v160Zm0 220h160v-160H400v160ZM180-400h160v-160H180v160Zm440 0h160v-160H620v160ZM180-180h160v-160H180v160Zm440 0h160v-160H620v160Z\"/>\n",
              "  </svg>\n",
              "    </button>\n",
              "\n",
              "  <style>\n",
              "    .colab-df-container {\n",
              "      display:flex;\n",
              "      gap: 12px;\n",
              "    }\n",
              "\n",
              "    .colab-df-convert {\n",
              "      background-color: #E8F0FE;\n",
              "      border: none;\n",
              "      border-radius: 50%;\n",
              "      cursor: pointer;\n",
              "      display: none;\n",
              "      fill: #1967D2;\n",
              "      height: 32px;\n",
              "      padding: 0 0 0 0;\n",
              "      width: 32px;\n",
              "    }\n",
              "\n",
              "    .colab-df-convert:hover {\n",
              "      background-color: #E2EBFA;\n",
              "      box-shadow: 0px 1px 2px rgba(60, 64, 67, 0.3), 0px 1px 3px 1px rgba(60, 64, 67, 0.15);\n",
              "      fill: #174EA6;\n",
              "    }\n",
              "\n",
              "    .colab-df-buttons div {\n",
              "      margin-bottom: 4px;\n",
              "    }\n",
              "\n",
              "    [theme=dark] .colab-df-convert {\n",
              "      background-color: #3B4455;\n",
              "      fill: #D2E3FC;\n",
              "    }\n",
              "\n",
              "    [theme=dark] .colab-df-convert:hover {\n",
              "      background-color: #434B5C;\n",
              "      box-shadow: 0px 1px 3px 1px rgba(0, 0, 0, 0.15);\n",
              "      filter: drop-shadow(0px 1px 2px rgba(0, 0, 0, 0.3));\n",
              "      fill: #FFFFFF;\n",
              "    }\n",
              "  </style>\n",
              "\n",
              "    <script>\n",
              "      const buttonEl =\n",
              "        document.querySelector('#df-6b128b01-5a4b-47ef-9b21-7f040529a33d button.colab-df-convert');\n",
              "      buttonEl.style.display =\n",
              "        google.colab.kernel.accessAllowed ? 'block' : 'none';\n",
              "\n",
              "      async function convertToInteractive(key) {\n",
              "        const element = document.querySelector('#df-6b128b01-5a4b-47ef-9b21-7f040529a33d');\n",
              "        const dataTable =\n",
              "          await google.colab.kernel.invokeFunction('convertToInteractive',\n",
              "                                                    [key], {});\n",
              "        if (!dataTable) return;\n",
              "\n",
              "        const docLinkHtml = 'Like what you see? Visit the ' +\n",
              "          '<a target=\"_blank\" href=https://colab.research.google.com/notebooks/data_table.ipynb>data table notebook</a>'\n",
              "          + ' to learn more about interactive tables.';\n",
              "        element.innerHTML = '';\n",
              "        dataTable['output_type'] = 'display_data';\n",
              "        await google.colab.output.renderOutput(dataTable, element);\n",
              "        const docLink = document.createElement('div');\n",
              "        docLink.innerHTML = docLinkHtml;\n",
              "        element.appendChild(docLink);\n",
              "      }\n",
              "    </script>\n",
              "  </div>\n",
              "\n",
              "\n",
              "<div id=\"df-be188aae-042c-4608-ba14-b556a37777d9\">\n",
              "  <button class=\"colab-df-quickchart\" onclick=\"quickchart('df-be188aae-042c-4608-ba14-b556a37777d9')\"\n",
              "            title=\"Suggest charts.\"\n",
              "            style=\"display:none;\">\n",
              "\n",
              "<svg xmlns=\"http://www.w3.org/2000/svg\" height=\"24px\"viewBox=\"0 0 24 24\"\n",
              "     width=\"24px\">\n",
              "    <g>\n",
              "        <path d=\"M19 3H5c-1.1 0-2 .9-2 2v14c0 1.1.9 2 2 2h14c1.1 0 2-.9 2-2V5c0-1.1-.9-2-2-2zM9 17H7v-7h2v7zm4 0h-2V7h2v10zm4 0h-2v-4h2v4z\"/>\n",
              "    </g>\n",
              "</svg>\n",
              "  </button>\n",
              "\n",
              "<style>\n",
              "  .colab-df-quickchart {\n",
              "      --bg-color: #E8F0FE;\n",
              "      --fill-color: #1967D2;\n",
              "      --hover-bg-color: #E2EBFA;\n",
              "      --hover-fill-color: #174EA6;\n",
              "      --disabled-fill-color: #AAA;\n",
              "      --disabled-bg-color: #DDD;\n",
              "  }\n",
              "\n",
              "  [theme=dark] .colab-df-quickchart {\n",
              "      --bg-color: #3B4455;\n",
              "      --fill-color: #D2E3FC;\n",
              "      --hover-bg-color: #434B5C;\n",
              "      --hover-fill-color: #FFFFFF;\n",
              "      --disabled-bg-color: #3B4455;\n",
              "      --disabled-fill-color: #666;\n",
              "  }\n",
              "\n",
              "  .colab-df-quickchart {\n",
              "    background-color: var(--bg-color);\n",
              "    border: none;\n",
              "    border-radius: 50%;\n",
              "    cursor: pointer;\n",
              "    display: none;\n",
              "    fill: var(--fill-color);\n",
              "    height: 32px;\n",
              "    padding: 0;\n",
              "    width: 32px;\n",
              "  }\n",
              "\n",
              "  .colab-df-quickchart:hover {\n",
              "    background-color: var(--hover-bg-color);\n",
              "    box-shadow: 0 1px 2px rgba(60, 64, 67, 0.3), 0 1px 3px 1px rgba(60, 64, 67, 0.15);\n",
              "    fill: var(--button-hover-fill-color);\n",
              "  }\n",
              "\n",
              "  .colab-df-quickchart-complete:disabled,\n",
              "  .colab-df-quickchart-complete:disabled:hover {\n",
              "    background-color: var(--disabled-bg-color);\n",
              "    fill: var(--disabled-fill-color);\n",
              "    box-shadow: none;\n",
              "  }\n",
              "\n",
              "  .colab-df-spinner {\n",
              "    border: 2px solid var(--fill-color);\n",
              "    border-color: transparent;\n",
              "    border-bottom-color: var(--fill-color);\n",
              "    animation:\n",
              "      spin 1s steps(1) infinite;\n",
              "  }\n",
              "\n",
              "  @keyframes spin {\n",
              "    0% {\n",
              "      border-color: transparent;\n",
              "      border-bottom-color: var(--fill-color);\n",
              "      border-left-color: var(--fill-color);\n",
              "    }\n",
              "    20% {\n",
              "      border-color: transparent;\n",
              "      border-left-color: var(--fill-color);\n",
              "      border-top-color: var(--fill-color);\n",
              "    }\n",
              "    30% {\n",
              "      border-color: transparent;\n",
              "      border-left-color: var(--fill-color);\n",
              "      border-top-color: var(--fill-color);\n",
              "      border-right-color: var(--fill-color);\n",
              "    }\n",
              "    40% {\n",
              "      border-color: transparent;\n",
              "      border-right-color: var(--fill-color);\n",
              "      border-top-color: var(--fill-color);\n",
              "    }\n",
              "    60% {\n",
              "      border-color: transparent;\n",
              "      border-right-color: var(--fill-color);\n",
              "    }\n",
              "    80% {\n",
              "      border-color: transparent;\n",
              "      border-right-color: var(--fill-color);\n",
              "      border-bottom-color: var(--fill-color);\n",
              "    }\n",
              "    90% {\n",
              "      border-color: transparent;\n",
              "      border-bottom-color: var(--fill-color);\n",
              "    }\n",
              "  }\n",
              "</style>\n",
              "\n",
              "  <script>\n",
              "    async function quickchart(key) {\n",
              "      const quickchartButtonEl =\n",
              "        document.querySelector('#' + key + ' button');\n",
              "      quickchartButtonEl.disabled = true;  // To prevent multiple clicks.\n",
              "      quickchartButtonEl.classList.add('colab-df-spinner');\n",
              "      try {\n",
              "        const charts = await google.colab.kernel.invokeFunction(\n",
              "            'suggestCharts', [key], {});\n",
              "      } catch (error) {\n",
              "        console.error('Error during call to suggestCharts:', error);\n",
              "      }\n",
              "      quickchartButtonEl.classList.remove('colab-df-spinner');\n",
              "      quickchartButtonEl.classList.add('colab-df-quickchart-complete');\n",
              "    }\n",
              "    (() => {\n",
              "      let quickchartButtonEl =\n",
              "        document.querySelector('#df-be188aae-042c-4608-ba14-b556a37777d9 button');\n",
              "      quickchartButtonEl.style.display =\n",
              "        google.colab.kernel.accessAllowed ? 'block' : 'none';\n",
              "    })();\n",
              "  </script>\n",
              "</div>\n",
              "    </div>\n",
              "  </div>\n"
            ]
          },
          "metadata": {},
          "execution_count": 70
        }
      ],
      "source": [
        "data.head(20)"
      ]
    },
    {
      "cell_type": "markdown",
      "id": "fe9cc8d5",
      "metadata": {
        "deletable": false,
        "editable": false,
        "id": "fe9cc8d5"
      },
      "source": [
        "**Display basic information about the dataframe using the `info()` method.**"
      ]
    },
    {
      "cell_type": "markdown",
      "id": "244d310f",
      "metadata": {
        "id": "244d310f"
      },
      "source": [
        "<a id='item_1_1'></a> [Go to step 3](#item_2_7_1_1)"
      ]
    },
    {
      "cell_type": "code",
      "execution_count": 71,
      "id": "36818b8c",
      "metadata": {
        "deletable": false,
        "id": "36818b8c",
        "outputId": "e850a9d3-ecb5-43e5-e5f0-e6615a16c79a",
        "colab": {
          "base_uri": "https://localhost:8080/"
        }
      },
      "outputs": [
        {
          "output_type": "stream",
          "name": "stdout",
          "text": [
            "<class 'pandas.core.frame.DataFrame'>\n",
            "RangeIndex: 21525 entries, 0 to 21524\n",
            "Data columns (total 12 columns):\n",
            " #   Column            Non-Null Count  Dtype  \n",
            "---  ------            --------------  -----  \n",
            " 0   children          21525 non-null  int64  \n",
            " 1   days_employed     19351 non-null  float64\n",
            " 2   dob_years         21525 non-null  int64  \n",
            " 3   education         21525 non-null  object \n",
            " 4   education_id      21525 non-null  int64  \n",
            " 5   family_status     21525 non-null  object \n",
            " 6   family_status_id  21525 non-null  int64  \n",
            " 7   gender            21525 non-null  object \n",
            " 8   income_type       21525 non-null  object \n",
            " 9   debt              21525 non-null  int64  \n",
            " 10  total_income      19351 non-null  float64\n",
            " 11  purpose           21525 non-null  object \n",
            "dtypes: float64(2), int64(5), object(5)\n",
            "memory usage: 2.0+ MB\n"
          ]
        }
      ],
      "source": [
        "data.info()"
      ]
    },
    {
      "cell_type": "markdown",
      "id": "67e396af",
      "metadata": {
        "deletable": false,
        "editable": false,
        "id": "67e396af"
      },
      "source": [
        "## Data preprocessing"
      ]
    },
    {
      "cell_type": "markdown",
      "id": "056b507f",
      "metadata": {
        "deletable": false,
        "editable": false,
        "id": "056b507f"
      },
      "source": [
        "### Removing missing values in data"
      ]
    },
    {
      "cell_type": "markdown",
      "id": "7031fdfe",
      "metadata": {
        "deletable": false,
        "editable": false,
        "id": "7031fdfe"
      },
      "source": [
        "**Display the number of missing values for each column. We use a combination of two methods.**"
      ]
    },
    {
      "cell_type": "code",
      "execution_count": 72,
      "id": "bebe5036",
      "metadata": {
        "deletable": false,
        "id": "bebe5036",
        "outputId": "790042ca-7232-4f15-92cf-ead10fe6dd66",
        "colab": {
          "base_uri": "https://localhost:8080/"
        }
      },
      "outputs": [
        {
          "output_type": "execute_result",
          "data": {
            "text/plain": [
              "children               0\n",
              "days_employed       2174\n",
              "dob_years              0\n",
              "education              0\n",
              "education_id           0\n",
              "family_status          0\n",
              "family_status_id       0\n",
              "gender                 0\n",
              "income_type            0\n",
              "debt                   0\n",
              "total_income        2174\n",
              "purpose                0\n",
              "dtype: int64"
            ]
          },
          "metadata": {},
          "execution_count": 72
        }
      ],
      "source": [
        "data.isna().sum()"
      ]
    },
    {
      "cell_type": "markdown",
      "id": "ab9c9da3",
      "metadata": {
        "id": "ab9c9da3"
      },
      "source": [
        "**Before preprocessing the dataframe, we will check whether the gaps in the `days_employed` and `total_income` columns are in the same rows , because the number of gaps is the same and equal to 2174. And also how these gaps are distributed among the values in the columns `dob_years`, `education_id`, `family_status_id`, `gender`, `income_type`, `debt`**"
      ]
    },
    {
      "cell_type": "markdown",
      "id": "76e0723c",
      "metadata": {
        "id": "76e0723c"
      },
      "source": [
        "**Let's first display the number of rows that have both missing values in the `days_employed` column and in the `total_income` column, using logical indexing and the `count()` method.**"
      ]
    },
    {
      "cell_type": "code",
      "execution_count": 73,
      "id": "83f8d785",
      "metadata": {
        "id": "83f8d785",
        "outputId": "24b6f9f8-01c0-422e-8b9e-4f974ef2acbe",
        "colab": {
          "base_uri": "https://localhost:8080/"
        }
      },
      "outputs": [
        {
          "output_type": "execute_result",
          "data": {
            "text/plain": [
              "2174"
            ]
          },
          "metadata": {},
          "execution_count": 73
        }
      ],
      "source": [
        "data.loc[(data['days_employed'].isna()) & (data['total_income'].isna())]['debt'].count()"
      ]
    },
    {
      "cell_type": "markdown",
      "id": "cf97f6e2",
      "metadata": {
        "id": "cf97f6e2"
      },
      "source": [
        "We see that the value matches the number of gaps in each of the `days_employed` and `total_income` columns. We can conclude that the gaps in both columns correspond to the same row in the `data` dataframe."
      ]
    },
    {
      "cell_type": "markdown",
      "id": "58cabd7f",
      "metadata": {
        "id": "58cabd7f"
      },
      "source": [
        "**Let's check one by one how these gaps in the `data` dataframe are distributed among the values in the `dob_years`, `education_id`, `family_status_id`, `gender`, `income_type`, `debt` columns, using logical indexing and the `value_counts( )` with the `normalize=True` parameter to obtain the result as a fraction of the total number of passes.**"
      ]
    },
    {
      "cell_type": "markdown",
      "id": "47a60aa3",
      "metadata": {
        "id": "47a60aa3"
      },
      "source": [
        "**Let's start with the distribution by the `dob_years` column, but additionally use the `cut()` function, where we put the sorted `dob_years` column in the first place of the argument, and put 5 in the second place of the argument to split all age values into 5 equal ranges. Let’s also add the condition of being at least 19 years old, because after all the preprocessing below, we already know that our “useful” data starts from 19 years of age and above.**"
      ]
    },
    {
      "cell_type": "code",
      "execution_count": 74,
      "id": "07fbaff9",
      "metadata": {
        "id": "07fbaff9",
        "outputId": "4a27f76a-2835-4d3d-ed5a-4adaa6fd75ee",
        "colab": {
          "base_uri": "https://localhost:8080/"
        }
      },
      "outputs": [
        {
          "output_type": "execute_result",
          "data": {
            "text/plain": [
              "(62.2, 73.0]      0.067930\n",
              "(18.946, 29.8]    0.138170\n",
              "(51.4, 62.2]      0.237985\n",
              "(40.6, 51.4]      0.264325\n",
              "(29.8, 40.6]      0.291590\n",
              "Name: dob_years, dtype: float64"
            ]
          },
          "metadata": {},
          "execution_count": 74
        }
      ],
      "source": [
        "pd.cut(data.loc[(data['total_income'].isna()) & (data['dob_years'] >= 19)]['dob_years'], 5).value_counts(normalize=True).sort_values()"
      ]
    },
    {
      "cell_type": "markdown",
      "id": "918230ac",
      "metadata": {
        "id": "918230ac"
      },
      "source": [
        "We do not see any obvious dependence of gaps in the dataframe on age ranges here. But the lowest percentage of absences corresponds to ages from 18 to 30 and from 62 to 73 years."
      ]
    },
    {
      "cell_type": "markdown",
      "id": "1a8e152c",
      "metadata": {
        "id": "1a8e152c"
      },
      "source": [
        "**Next, let’s look at the distribution of gaps in the `education_id` column and display in the line below, before removing implicit duplicates, the correspondence between the values of the `education_id` and `education` columns for the first two rows**"
      ]
    },
    {
      "cell_type": "code",
      "execution_count": 75,
      "id": "764b1454",
      "metadata": {
        "scrolled": false,
        "id": "764b1454",
        "outputId": "8b7bd99a-b9ea-4d42-a239-135345d2b760",
        "colab": {
          "base_uri": "https://localhost:8080/",
          "height": 196
        }
      },
      "outputs": [
        {
          "output_type": "stream",
          "name": "stdout",
          "text": [
            "1    0.708372\n",
            "0    0.250230\n",
            "2    0.031739\n",
            "3    0.009660\n",
            "Name: education_id, dtype: float64\n"
          ]
        },
        {
          "output_type": "execute_result",
          "data": {
            "text/plain": [
              "  education  education_id\n",
              "0    высшее             0\n",
              "1   среднее             1"
            ],
            "text/html": [
              "\n",
              "  <div id=\"df-d615a72a-ac67-43e2-a57a-716f6420923e\" class=\"colab-df-container\">\n",
              "    <div>\n",
              "<style scoped>\n",
              "    .dataframe tbody tr th:only-of-type {\n",
              "        vertical-align: middle;\n",
              "    }\n",
              "\n",
              "    .dataframe tbody tr th {\n",
              "        vertical-align: top;\n",
              "    }\n",
              "\n",
              "    .dataframe thead th {\n",
              "        text-align: right;\n",
              "    }\n",
              "</style>\n",
              "<table border=\"1\" class=\"dataframe\">\n",
              "  <thead>\n",
              "    <tr style=\"text-align: right;\">\n",
              "      <th></th>\n",
              "      <th>education</th>\n",
              "      <th>education_id</th>\n",
              "    </tr>\n",
              "  </thead>\n",
              "  <tbody>\n",
              "    <tr>\n",
              "      <th>0</th>\n",
              "      <td>высшее</td>\n",
              "      <td>0</td>\n",
              "    </tr>\n",
              "    <tr>\n",
              "      <th>1</th>\n",
              "      <td>среднее</td>\n",
              "      <td>1</td>\n",
              "    </tr>\n",
              "  </tbody>\n",
              "</table>\n",
              "</div>\n",
              "    <div class=\"colab-df-buttons\">\n",
              "\n",
              "  <div class=\"colab-df-container\">\n",
              "    <button class=\"colab-df-convert\" onclick=\"convertToInteractive('df-d615a72a-ac67-43e2-a57a-716f6420923e')\"\n",
              "            title=\"Convert this dataframe to an interactive table.\"\n",
              "            style=\"display:none;\">\n",
              "\n",
              "  <svg xmlns=\"http://www.w3.org/2000/svg\" height=\"24px\" viewBox=\"0 -960 960 960\">\n",
              "    <path d=\"M120-120v-720h720v720H120Zm60-500h600v-160H180v160Zm220 220h160v-160H400v160Zm0 220h160v-160H400v160ZM180-400h160v-160H180v160Zm440 0h160v-160H620v160ZM180-180h160v-160H180v160Zm440 0h160v-160H620v160Z\"/>\n",
              "  </svg>\n",
              "    </button>\n",
              "\n",
              "  <style>\n",
              "    .colab-df-container {\n",
              "      display:flex;\n",
              "      gap: 12px;\n",
              "    }\n",
              "\n",
              "    .colab-df-convert {\n",
              "      background-color: #E8F0FE;\n",
              "      border: none;\n",
              "      border-radius: 50%;\n",
              "      cursor: pointer;\n",
              "      display: none;\n",
              "      fill: #1967D2;\n",
              "      height: 32px;\n",
              "      padding: 0 0 0 0;\n",
              "      width: 32px;\n",
              "    }\n",
              "\n",
              "    .colab-df-convert:hover {\n",
              "      background-color: #E2EBFA;\n",
              "      box-shadow: 0px 1px 2px rgba(60, 64, 67, 0.3), 0px 1px 3px 1px rgba(60, 64, 67, 0.15);\n",
              "      fill: #174EA6;\n",
              "    }\n",
              "\n",
              "    .colab-df-buttons div {\n",
              "      margin-bottom: 4px;\n",
              "    }\n",
              "\n",
              "    [theme=dark] .colab-df-convert {\n",
              "      background-color: #3B4455;\n",
              "      fill: #D2E3FC;\n",
              "    }\n",
              "\n",
              "    [theme=dark] .colab-df-convert:hover {\n",
              "      background-color: #434B5C;\n",
              "      box-shadow: 0px 1px 3px 1px rgba(0, 0, 0, 0.15);\n",
              "      filter: drop-shadow(0px 1px 2px rgba(0, 0, 0, 0.3));\n",
              "      fill: #FFFFFF;\n",
              "    }\n",
              "  </style>\n",
              "\n",
              "    <script>\n",
              "      const buttonEl =\n",
              "        document.querySelector('#df-d615a72a-ac67-43e2-a57a-716f6420923e button.colab-df-convert');\n",
              "      buttonEl.style.display =\n",
              "        google.colab.kernel.accessAllowed ? 'block' : 'none';\n",
              "\n",
              "      async function convertToInteractive(key) {\n",
              "        const element = document.querySelector('#df-d615a72a-ac67-43e2-a57a-716f6420923e');\n",
              "        const dataTable =\n",
              "          await google.colab.kernel.invokeFunction('convertToInteractive',\n",
              "                                                    [key], {});\n",
              "        if (!dataTable) return;\n",
              "\n",
              "        const docLinkHtml = 'Like what you see? Visit the ' +\n",
              "          '<a target=\"_blank\" href=https://colab.research.google.com/notebooks/data_table.ipynb>data table notebook</a>'\n",
              "          + ' to learn more about interactive tables.';\n",
              "        element.innerHTML = '';\n",
              "        dataTable['output_type'] = 'display_data';\n",
              "        await google.colab.output.renderOutput(dataTable, element);\n",
              "        const docLink = document.createElement('div');\n",
              "        docLink.innerHTML = docLinkHtml;\n",
              "        element.appendChild(docLink);\n",
              "      }\n",
              "    </script>\n",
              "  </div>\n",
              "\n",
              "\n",
              "<div id=\"df-97ee93ca-08ad-444c-96f1-b9a634fe1fc7\">\n",
              "  <button class=\"colab-df-quickchart\" onclick=\"quickchart('df-97ee93ca-08ad-444c-96f1-b9a634fe1fc7')\"\n",
              "            title=\"Suggest charts.\"\n",
              "            style=\"display:none;\">\n",
              "\n",
              "<svg xmlns=\"http://www.w3.org/2000/svg\" height=\"24px\"viewBox=\"0 0 24 24\"\n",
              "     width=\"24px\">\n",
              "    <g>\n",
              "        <path d=\"M19 3H5c-1.1 0-2 .9-2 2v14c0 1.1.9 2 2 2h14c1.1 0 2-.9 2-2V5c0-1.1-.9-2-2-2zM9 17H7v-7h2v7zm4 0h-2V7h2v10zm4 0h-2v-4h2v4z\"/>\n",
              "    </g>\n",
              "</svg>\n",
              "  </button>\n",
              "\n",
              "<style>\n",
              "  .colab-df-quickchart {\n",
              "      --bg-color: #E8F0FE;\n",
              "      --fill-color: #1967D2;\n",
              "      --hover-bg-color: #E2EBFA;\n",
              "      --hover-fill-color: #174EA6;\n",
              "      --disabled-fill-color: #AAA;\n",
              "      --disabled-bg-color: #DDD;\n",
              "  }\n",
              "\n",
              "  [theme=dark] .colab-df-quickchart {\n",
              "      --bg-color: #3B4455;\n",
              "      --fill-color: #D2E3FC;\n",
              "      --hover-bg-color: #434B5C;\n",
              "      --hover-fill-color: #FFFFFF;\n",
              "      --disabled-bg-color: #3B4455;\n",
              "      --disabled-fill-color: #666;\n",
              "  }\n",
              "\n",
              "  .colab-df-quickchart {\n",
              "    background-color: var(--bg-color);\n",
              "    border: none;\n",
              "    border-radius: 50%;\n",
              "    cursor: pointer;\n",
              "    display: none;\n",
              "    fill: var(--fill-color);\n",
              "    height: 32px;\n",
              "    padding: 0;\n",
              "    width: 32px;\n",
              "  }\n",
              "\n",
              "  .colab-df-quickchart:hover {\n",
              "    background-color: var(--hover-bg-color);\n",
              "    box-shadow: 0 1px 2px rgba(60, 64, 67, 0.3), 0 1px 3px 1px rgba(60, 64, 67, 0.15);\n",
              "    fill: var(--button-hover-fill-color);\n",
              "  }\n",
              "\n",
              "  .colab-df-quickchart-complete:disabled,\n",
              "  .colab-df-quickchart-complete:disabled:hover {\n",
              "    background-color: var(--disabled-bg-color);\n",
              "    fill: var(--disabled-fill-color);\n",
              "    box-shadow: none;\n",
              "  }\n",
              "\n",
              "  .colab-df-spinner {\n",
              "    border: 2px solid var(--fill-color);\n",
              "    border-color: transparent;\n",
              "    border-bottom-color: var(--fill-color);\n",
              "    animation:\n",
              "      spin 1s steps(1) infinite;\n",
              "  }\n",
              "\n",
              "  @keyframes spin {\n",
              "    0% {\n",
              "      border-color: transparent;\n",
              "      border-bottom-color: var(--fill-color);\n",
              "      border-left-color: var(--fill-color);\n",
              "    }\n",
              "    20% {\n",
              "      border-color: transparent;\n",
              "      border-left-color: var(--fill-color);\n",
              "      border-top-color: var(--fill-color);\n",
              "    }\n",
              "    30% {\n",
              "      border-color: transparent;\n",
              "      border-left-color: var(--fill-color);\n",
              "      border-top-color: var(--fill-color);\n",
              "      border-right-color: var(--fill-color);\n",
              "    }\n",
              "    40% {\n",
              "      border-color: transparent;\n",
              "      border-right-color: var(--fill-color);\n",
              "      border-top-color: var(--fill-color);\n",
              "    }\n",
              "    60% {\n",
              "      border-color: transparent;\n",
              "      border-right-color: var(--fill-color);\n",
              "    }\n",
              "    80% {\n",
              "      border-color: transparent;\n",
              "      border-right-color: var(--fill-color);\n",
              "      border-bottom-color: var(--fill-color);\n",
              "    }\n",
              "    90% {\n",
              "      border-color: transparent;\n",
              "      border-bottom-color: var(--fill-color);\n",
              "    }\n",
              "  }\n",
              "</style>\n",
              "\n",
              "  <script>\n",
              "    async function quickchart(key) {\n",
              "      const quickchartButtonEl =\n",
              "        document.querySelector('#' + key + ' button');\n",
              "      quickchartButtonEl.disabled = true;  // To prevent multiple clicks.\n",
              "      quickchartButtonEl.classList.add('colab-df-spinner');\n",
              "      try {\n",
              "        const charts = await google.colab.kernel.invokeFunction(\n",
              "            'suggestCharts', [key], {});\n",
              "      } catch (error) {\n",
              "        console.error('Error during call to suggestCharts:', error);\n",
              "      }\n",
              "      quickchartButtonEl.classList.remove('colab-df-spinner');\n",
              "      quickchartButtonEl.classList.add('colab-df-quickchart-complete');\n",
              "    }\n",
              "    (() => {\n",
              "      let quickchartButtonEl =\n",
              "        document.querySelector('#df-97ee93ca-08ad-444c-96f1-b9a634fe1fc7 button');\n",
              "      quickchartButtonEl.style.display =\n",
              "        google.colab.kernel.accessAllowed ? 'block' : 'none';\n",
              "    })();\n",
              "  </script>\n",
              "</div>\n",
              "    </div>\n",
              "  </div>\n"
            ]
          },
          "metadata": {},
          "execution_count": 75
        }
      ],
      "source": [
        "print(data[data['total_income'].isna()]['education_id'].value_counts(normalize=True))\n",
        "data[data['education_id'] <= 1][['education', 'education_id']].head(2)"
      ]
    },
    {
      "cell_type": "markdown",
      "id": "0186a336",
      "metadata": {
        "id": "0186a336"
      },
      "source": [
        "We see that the largest number of gaps corresponds to the value `'average'` ~71% and the value ``highest'` ~25%."
      ]
    },
    {
      "cell_type": "markdown",
      "id": "20d75fde",
      "metadata": {
        "id": "20d75fde"
      },
      "source": [
        "**Next, let’s look at the distribution of gaps in the `family_status_id` column and display in the line below, before removing implicit duplicates, the correspondence between the values of the `family_status_id` column and `family_status`.**"
      ]
    },
    {
      "cell_type": "code",
      "execution_count": 76,
      "id": "66feb1a9",
      "metadata": {
        "scrolled": true,
        "id": "66feb1a9",
        "outputId": "c6fc2bb5-0f2f-43a5-b7ac-7327baeac516",
        "colab": {
          "base_uri": "https://localhost:8080/"
        }
      },
      "outputs": [
        {
          "output_type": "stream",
          "name": "stdout",
          "text": [
            "0    0.568997\n",
            "1    0.203312\n",
            "4    0.132475\n",
            "3    0.051518\n",
            "2    0.043698\n",
            "Name: family_status_id, dtype: float64\n"
          ]
        },
        {
          "output_type": "execute_result",
          "data": {
            "text/plain": [
              "family_status\n",
              "Не женат / не замужем    [4]\n",
              "в разводе                [3]\n",
              "вдовец / вдова           [2]\n",
              "гражданский брак         [1]\n",
              "женат / замужем          [0]\n",
              "Name: family_status_id, dtype: object"
            ]
          },
          "metadata": {},
          "execution_count": 76
        }
      ],
      "source": [
        "print(data[data['total_income'].isna()]['family_status_id'].value_counts(normalize=True))\n",
        "data.groupby('family_status')['family_status_id'].unique()"
      ]
    },
    {
      "cell_type": "markdown",
      "id": "bf68cba5",
      "metadata": {
        "id": "bf68cba5"
      },
      "source": [
        "We see that the most gaps correspond to the value “married” ~57% and the value “civil marriage” ~20%."
      ]
    },
    {
      "cell_type": "markdown",
      "id": "a25408c1",
      "metadata": {
        "id": "a25408c1"
      },
      "source": [
        "**Next, let's look at the distribution of gaps in the `gender` column.**"
      ]
    },
    {
      "cell_type": "code",
      "execution_count": 77,
      "id": "9acce896",
      "metadata": {
        "id": "9acce896",
        "outputId": "e500cdfc-22cd-4752-ee9b-254f932869c8",
        "colab": {
          "base_uri": "https://localhost:8080/"
        }
      },
      "outputs": [
        {
          "output_type": "execute_result",
          "data": {
            "text/plain": [
              "F    0.682613\n",
              "M    0.317387\n",
              "Name: gender, dtype: float64"
            ]
          },
          "metadata": {},
          "execution_count": 77
        }
      ],
      "source": [
        "data[data['total_income'].isna()]['gender'].value_counts(normalize=True)"
      ]
    },
    {
      "cell_type": "markdown",
      "id": "a1e45877",
      "metadata": {
        "id": "a1e45877"
      },
      "source": [
        "We see that most of the gaps correspond to the value `'F'` ~68%."
      ]
    },
    {
      "cell_type": "markdown",
      "id": "9f8abc8c",
      "metadata": {
        "id": "9f8abc8c"
      },
      "source": [
        "**Next, let's look at the distribution of gaps by the `income_type` column.**"
      ]
    },
    {
      "cell_type": "code",
      "execution_count": 78,
      "id": "b359ff1b",
      "metadata": {
        "id": "b359ff1b",
        "outputId": "d611e450-0364-49ba-df97-98e834640b2d",
        "colab": {
          "base_uri": "https://localhost:8080/"
        }
      },
      "outputs": [
        {
          "output_type": "execute_result",
          "data": {
            "text/plain": [
              "сотрудник          0.508280\n",
              "компаньон          0.233671\n",
              "пенсионер          0.189972\n",
              "госслужащий        0.067617\n",
              "предприниматель    0.000460\n",
              "Name: income_type, dtype: float64"
            ]
          },
          "metadata": {},
          "execution_count": 78
        }
      ],
      "source": [
        "data[data['total_income'].isna()]['income_type'].value_counts(normalize=True)"
      ]
    },
    {
      "cell_type": "markdown",
      "id": "9be3173a",
      "metadata": {
        "id": "9be3173a"
      },
      "source": [
        "We see that the most gaps correspond to the value `'employee'` ~51% and the value ``companion'` ~23%."
      ]
    },
    {
      "cell_type": "markdown",
      "id": "f0aeeb5a",
      "metadata": {
        "id": "f0aeeb5a"
      },
      "source": [
        "**Next, let's look at the distribution of gaps in the `debt` column.**"
      ]
    },
    {
      "cell_type": "code",
      "execution_count": 79,
      "id": "838b9bcf",
      "metadata": {
        "id": "838b9bcf",
        "outputId": "b6839cab-c524-4b1d-e4d9-60a6624d7a52",
        "colab": {
          "base_uri": "https://localhost:8080/"
        }
      },
      "outputs": [
        {
          "output_type": "execute_result",
          "data": {
            "text/plain": [
              "0    0.921803\n",
              "1    0.078197\n",
              "Name: debt, dtype: float64"
            ]
          },
          "metadata": {},
          "execution_count": 79
        }
      ],
      "source": [
        "data[data['total_income'].isna()]['debt'].value_counts(normalize=True)"
      ]
    },
    {
      "cell_type": "markdown",
      "id": "14e781e6",
      "metadata": {
        "id": "14e781e6"
      },
      "source": [
        "We see that most of the gaps correspond to the value `'0'` ~92%, which corresponds to the absence of loan debt."
      ]
    },
    {
      "cell_type": "markdown",
      "id": "bca963ca",
      "metadata": {
        "deletable": false,
        "editable": false,
        "id": "bca963ca"
      },
      "source": [
        "**Two columns have missing values. One of them is `days_employed`. The gaps in this column will be processed in the next step. Another column with missing values, `total_income`, stores income data. The amount of income is most influenced by the type of employment, so fill the gaps in this column with the median value for each type from the `income_type` column. For example, for a person with an employment type of `employee`, the gap in the `total_income` column must be filled with the median income among all records with the same type.**"
      ]
    },
    {
      "cell_type": "code",
      "execution_count": 80,
      "id": "f889b1ce",
      "metadata": {
        "deletable": false,
        "id": "f889b1ce"
      },
      "outputs": [],
      "source": [
        "for t in data['income_type'].unique():\n",
        "    data.loc[(data['income_type'] == t) & (data['total_income'].isna()), 'total_income'] = \\\n",
        "    data.loc[(data['income_type'] == t), 'total_income'].median()"
      ]
    },
    {
      "cell_type": "markdown",
      "id": "64d878ed",
      "metadata": {
        "deletable": false,
        "editable": false,
        "id": "64d878ed"
      },
      "source": [
        "### Handling anomalous values"
      ]
    },
    {
      "cell_type": "markdown",
      "id": "726368ba",
      "metadata": {
        "deletable": false,
        "editable": false,
        "id": "726368ba"
      },
      "source": [
        "**The data may contain artifacts (anomalies) - values that do not reflect reality and appeared due to some error. such an artifact would be a negative number of days of employment in the `days_employed` column. This is normal for real data. Let's process the values in this column: replace all negative values with positive ones using the `abs()` method.**"
      ]
    },
    {
      "cell_type": "code",
      "execution_count": 81,
      "id": "628d96f2",
      "metadata": {
        "deletable": false,
        "id": "628d96f2"
      },
      "outputs": [],
      "source": [
        "data['days_employed'] = data['days_employed'].abs()"
      ]
    },
    {
      "cell_type": "markdown",
      "id": "f2aeece5",
      "metadata": {
        "deletable": false,
        "editable": false,
        "id": "f2aeece5"
      },
      "source": [
        "**For each type of employment, we will display the median value of length of service `days_employed` in days.**"
      ]
    },
    {
      "cell_type": "code",
      "execution_count": 82,
      "id": "92647cfe",
      "metadata": {
        "deletable": false,
        "id": "92647cfe",
        "outputId": "66fb2e0c-9002-4d15-b0a3-2133d8002cd5",
        "colab": {
          "base_uri": "https://localhost:8080/"
        }
      },
      "outputs": [
        {
          "output_type": "execute_result",
          "data": {
            "text/plain": [
              "income_type\n",
              "безработный        366413.652744\n",
              "в декрете            3296.759962\n",
              "госслужащий          2689.368353\n",
              "компаньон            1547.382223\n",
              "пенсионер          365213.306266\n",
              "предприниматель       520.848083\n",
              "сотрудник            1574.202821\n",
              "студент               578.751554\n",
              "Name: days_employed, dtype: float64"
            ]
          },
          "metadata": {},
          "execution_count": 82
        }
      ],
      "source": [
        "data.groupby('income_type')['days_employed'].agg('median')"
      ]
    },
    {
      "cell_type": "markdown",
      "id": "5779203b",
      "metadata": {
        "deletable": false,
        "editable": false,
        "id": "5779203b"
      },
      "source": [
        "Two types (unemployed and pensioners) will have abnormally large values. It is difficult to correct such values, so we will leave them as they are. Moreover, this column will not be needed for research."
      ]
    },
    {
      "cell_type": "markdown",
      "id": "c504ce17",
      "metadata": {
        "deletable": false,
        "editable": false,
        "id": "c504ce17"
      },
      "source": [
        "**We will display a list of unique values for the `children` column.**"
      ]
    },
    {
      "cell_type": "code",
      "execution_count": 83,
      "id": "7b226d1f",
      "metadata": {
        "deletable": false,
        "id": "7b226d1f",
        "outputId": "6a2c35c5-8dd3-4295-fca8-cee428e27418",
        "colab": {
          "base_uri": "https://localhost:8080/"
        }
      },
      "outputs": [
        {
          "output_type": "execute_result",
          "data": {
            "text/plain": [
              "array([ 1,  0,  3,  2, -1,  4, 20,  5])"
            ]
          },
          "metadata": {},
          "execution_count": 83
        }
      ],
      "source": [
        "data['children'].unique()"
      ]
    },
    {
      "cell_type": "markdown",
      "id": "a085713e",
      "metadata": {
        "id": "a085713e"
      },
      "source": [
        "**Let's estimate how many rows of data will be lost if rows with anomalous values in the `children` column are deleted.**"
      ]
    },
    {
      "cell_type": "code",
      "execution_count": 84,
      "id": "6d3ef65b",
      "metadata": {
        "id": "6d3ef65b",
        "outputId": "8b06c9c2-5ae8-4f6c-dbba-10658271fa1c",
        "colab": {
          "base_uri": "https://localhost:8080/"
        }
      },
      "outputs": [
        {
          "output_type": "execute_result",
          "data": {
            "text/plain": [
              "123"
            ]
          },
          "metadata": {},
          "execution_count": 84
        }
      ],
      "source": [
        "data[(data['children'] == -1) | (data['children'] == 20)]['children'].count()"
      ]
    },
    {
      "cell_type": "markdown",
      "id": "76491f78",
      "metadata": {
        "id": "76491f78"
      },
      "source": [
        "We get a value of less than 1% of all data, which can be considered not a critical reduction in data for analysis."
      ]
    },
    {
      "cell_type": "markdown",
      "id": "b7d2d8e5",
      "metadata": {
        "deletable": false,
        "editable": false,
        "id": "b7d2d8e5"
      },
      "source": [
        "**There are two anomalous values in the `children` column. Let's remove lines containing such anomalous values from the `data` dataframe.**"
      ]
    },
    {
      "cell_type": "code",
      "execution_count": 85,
      "id": "ae869b30",
      "metadata": {
        "deletable": false,
        "id": "ae869b30"
      },
      "outputs": [],
      "source": [
        "data = data[(data['children'] != -1) & (data['children'] != 20)]"
      ]
    },
    {
      "cell_type": "markdown",
      "id": "5bc90639",
      "metadata": {
        "deletable": false,
        "editable": false,
        "id": "5bc90639"
      },
      "source": [
        "**Let's list the unique values of the `children` column again to make sure the artifacts have been removed.**"
      ]
    },
    {
      "cell_type": "code",
      "execution_count": 86,
      "id": "752b6632",
      "metadata": {
        "deletable": false,
        "id": "752b6632",
        "outputId": "76d3e364-ce96-4e27-9fbd-c3fde58dc946",
        "colab": {
          "base_uri": "https://localhost:8080/"
        }
      },
      "outputs": [
        {
          "output_type": "execute_result",
          "data": {
            "text/plain": [
              "array([1, 0, 3, 2, 4, 5])"
            ]
          },
          "metadata": {},
          "execution_count": 86
        }
      ],
      "source": [
        "data['children'].unique()"
      ]
    },
    {
      "cell_type": "markdown",
      "id": "312dfe23",
      "metadata": {
        "deletable": false,
        "editable": false,
        "id": "312dfe23"
      },
      "source": [
        "### Removing gaps (continued)"
      ]
    },
    {
      "cell_type": "markdown",
      "id": "de30bae6",
      "metadata": {
        "deletable": false,
        "editable": false,
        "id": "de30bae6"
      },
      "source": [
        "**Fill in the blanks in the `days_employed` column with the median values for each `income_type` employment type.**"
      ]
    },
    {
      "cell_type": "code",
      "execution_count": 87,
      "id": "98853599",
      "metadata": {
        "deletable": false,
        "id": "98853599"
      },
      "outputs": [],
      "source": [
        "for t in data['income_type'].unique():\n",
        "    data.loc[(data['income_type'] == t) & (data['days_employed'].isna()), 'days_employed'] = \\\n",
        "    data.loc[(data['income_type'] == t), 'days_employed'].median()"
      ]
    },
    {
      "cell_type": "markdown",
      "id": "49a56946",
      "metadata": {
        "deletable": false,
        "editable": false,
        "id": "49a56946"
      },
      "source": [
        "**Make sure all blanks are filled in. Let's check ourselves and once again display the number of missing values for each column using two methods.**"
      ]
    },
    {
      "cell_type": "code",
      "execution_count": 88,
      "id": "15bf5d8e",
      "metadata": {
        "deletable": false,
        "id": "15bf5d8e",
        "outputId": "fc8233be-3eab-4af2-da44-be964f24d40d",
        "colab": {
          "base_uri": "https://localhost:8080/"
        }
      },
      "outputs": [
        {
          "output_type": "execute_result",
          "data": {
            "text/plain": [
              "children            0\n",
              "days_employed       0\n",
              "dob_years           0\n",
              "education           0\n",
              "education_id        0\n",
              "family_status       0\n",
              "family_status_id    0\n",
              "gender              0\n",
              "income_type         0\n",
              "debt                0\n",
              "total_income        0\n",
              "purpose             0\n",
              "dtype: int64"
            ]
          },
          "metadata": {},
          "execution_count": 88
        }
      ],
      "source": [
        "data.isna().sum()"
      ]
    },
    {
      "cell_type": "markdown",
      "id": "7bb6a365",
      "metadata": {
        "deletable": false,
        "editable": false,
        "id": "7bb6a365"
      },
      "source": [
        "### Changing data types"
      ]
    },
    {
      "cell_type": "markdown",
      "id": "71f7c337",
      "metadata": {
        "deletable": false,
        "editable": false,
        "id": "71f7c337"
      },
      "source": [
        "**Replace the real data type in the `total_income` column with an integer using the `astype()` method.**"
      ]
    },
    {
      "cell_type": "code",
      "execution_count": 89,
      "id": "243527e0",
      "metadata": {
        "deletable": false,
        "id": "243527e0",
        "outputId": "7583d106-ece9-40a7-e6be-3e9f58919257",
        "colab": {
          "base_uri": "https://localhost:8080/"
        }
      },
      "outputs": [
        {
          "output_type": "stream",
          "name": "stderr",
          "text": [
            "<ipython-input-89-230bf46a8b16>:1: SettingWithCopyWarning: \n",
            "A value is trying to be set on a copy of a slice from a DataFrame.\n",
            "Try using .loc[row_indexer,col_indexer] = value instead\n",
            "\n",
            "See the caveats in the documentation: https://pandas.pydata.org/pandas-docs/stable/user_guide/indexing.html#returning-a-view-versus-a-copy\n",
            "  data['total_income'] = data['total_income'].astype('int')\n"
          ]
        }
      ],
      "source": [
        "data['total_income'] = data['total_income'].astype('int')"
      ]
    },
    {
      "cell_type": "markdown",
      "id": "ea2cd912",
      "metadata": {
        "deletable": false,
        "editable": false,
        "id": "ea2cd912"
      },
      "source": [
        "### Handling duplicates"
      ]
    },
    {
      "cell_type": "markdown",
      "id": "faa9fb88",
      "metadata": {
        "deletable": false,
        "editable": false,
        "id": "faa9fb88"
      },
      "source": [
        "**Let's handle implicit duplicates in the `education` column. This column has the same values, but written differently, using uppercase and lowercase letters. Let's convert them to lower case.**"
      ]
    },
    {
      "cell_type": "code",
      "execution_count": 90,
      "id": "4b896269",
      "metadata": {
        "deletable": false,
        "id": "4b896269",
        "outputId": "4617f8ca-f010-43d2-98de-9ef728107747",
        "colab": {
          "base_uri": "https://localhost:8080/"
        }
      },
      "outputs": [
        {
          "output_type": "stream",
          "name": "stderr",
          "text": [
            "<ipython-input-90-d4b849f854d7>:1: SettingWithCopyWarning: \n",
            "A value is trying to be set on a copy of a slice from a DataFrame.\n",
            "Try using .loc[row_indexer,col_indexer] = value instead\n",
            "\n",
            "See the caveats in the documentation: https://pandas.pydata.org/pandas-docs/stable/user_guide/indexing.html#returning-a-view-versus-a-copy\n",
            "  data['education'] = data['education'].str.lower()\n"
          ]
        }
      ],
      "source": [
        "data['education'] = data['education'].str.lower()"
      ]
    },
    {
      "cell_type": "markdown",
      "id": "77abd04b",
      "metadata": {
        "deletable": false,
        "editable": false,
        "id": "77abd04b"
      },
      "source": [
        "**We will display the number of duplicate rows in the data. If such lines are present, delete them.**"
      ]
    },
    {
      "cell_type": "markdown",
      "id": "ae9cd0c2",
      "metadata": {
        "id": "ae9cd0c2"
      },
      "source": [
        "<a id='item_2_5'></a> [Go to step 3](#item_2_7_1_2)"
      ]
    },
    {
      "cell_type": "code",
      "execution_count": 91,
      "id": "491a74be",
      "metadata": {
        "deletable": false,
        "id": "491a74be",
        "outputId": "c1656ed6-4d3e-40a8-8af0-662e2680bd09",
        "colab": {
          "base_uri": "https://localhost:8080/"
        }
      },
      "outputs": [
        {
          "output_type": "execute_result",
          "data": {
            "text/plain": [
              "71"
            ]
          },
          "metadata": {},
          "execution_count": 91
        }
      ],
      "source": [
        "data.duplicated().sum()"
      ]
    },
    {
      "cell_type": "code",
      "execution_count": 92,
      "id": "2b6409a4",
      "metadata": {
        "deletable": false,
        "id": "2b6409a4"
      },
      "outputs": [],
      "source": [
        "data = data.drop_duplicates()"
      ]
    },
    {
      "cell_type": "markdown",
      "id": "cbfad705",
      "metadata": {
        "deletable": false,
        "editable": false,
        "id": "cbfad705"
      },
      "source": [
        "### Data categorization"
      ]
    },
    {
      "cell_type": "markdown",
      "id": "07adaf02",
      "metadata": {
        "deletable": false,
        "editable": false,
        "id": "07adaf02"
      },
      "source": [
        "**Based on the ranges indicated below, we will create a `total_income_category` column with categories in the `data` dataframe:**\n",
        "\n",
        "- 0–30000 — `'E'`;\n",
        "- 30001–50000 — `'D'`;\n",
        "- 50001–200000 — `'C'`;\n",
        "- 200001–1000000 — `'B'`;\n",
        "- 1000001 and above - `'A'`.\n",
        "\n",
        "\n",
        "**For example, we will assign category `'E'' to a borrower with an income of 25,000, and category `'B'' to a client receiving 235,000. We use our own function called `categorize_income()` and the `apply()` method.**"
      ]
    },
    {
      "cell_type": "markdown",
      "id": "83e848e8",
      "metadata": {
        "id": "83e848e8"
      },
      "source": [
        "[to step 2.7.1.1](#item_2_7_1_1_2) <a id='item_2_6_1'></a>"
      ]
    },
    {
      "cell_type": "code",
      "execution_count": 93,
      "id": "d9e22038",
      "metadata": {
        "deletable": false,
        "id": "d9e22038"
      },
      "outputs": [],
      "source": [
        "def categorize_income(income):\n",
        "    try:\n",
        "        if 0 <= income <= 30000:\n",
        "            return 'E'\n",
        "        elif 30001 <= income <= 50000:\n",
        "            return 'D'\n",
        "        elif 50001 <= income <= 200000:\n",
        "            return 'C'\n",
        "        elif 200001 <= income <= 1000000:\n",
        "            return 'B'\n",
        "        elif income >= 1000001:\n",
        "            return 'A'\n",
        "    except:\n",
        "        pass"
      ]
    },
    {
      "cell_type": "code",
      "execution_count": 94,
      "id": "0f2740ca",
      "metadata": {
        "deletable": false,
        "id": "0f2740ca",
        "outputId": "41ce2c84-2108-4615-a6dc-89eb5961967b",
        "colab": {
          "base_uri": "https://localhost:8080/"
        }
      },
      "outputs": [
        {
          "output_type": "stream",
          "name": "stderr",
          "text": [
            "<ipython-input-94-0bc713f3049f>:1: SettingWithCopyWarning: \n",
            "A value is trying to be set on a copy of a slice from a DataFrame.\n",
            "Try using .loc[row_indexer,col_indexer] = value instead\n",
            "\n",
            "See the caveats in the documentation: https://pandas.pydata.org/pandas-docs/stable/user_guide/indexing.html#returning-a-view-versus-a-copy\n",
            "  data['total_income_category'] = data['total_income'].apply(categorize_income)\n"
          ]
        }
      ],
      "source": [
        "data['total_income_category'] = data['total_income'].apply(categorize_income)"
      ]
    },
    {
      "cell_type": "markdown",
      "id": "8eb4a49f",
      "metadata": {
        "deletable": false,
        "editable": false,
        "id": "8eb4a49f"
      },
      "source": [
        "**We will display a list of unique purposes for taking out a loan from the `purpose` column.**"
      ]
    },
    {
      "cell_type": "code",
      "execution_count": 95,
      "id": "8ec74b51",
      "metadata": {
        "deletable": false,
        "id": "8ec74b51",
        "outputId": "c74f51ea-77fd-4579-a224-35dd8bc23133",
        "colab": {
          "base_uri": "https://localhost:8080/"
        }
      },
      "outputs": [
        {
          "output_type": "execute_result",
          "data": {
            "text/plain": [
              "array(['покупка жилья', 'приобретение автомобиля',\n",
              "       'дополнительное образование', 'сыграть свадьбу',\n",
              "       'операции с жильем', 'образование', 'на проведение свадьбы',\n",
              "       'покупка жилья для семьи', 'покупка недвижимости',\n",
              "       'покупка коммерческой недвижимости', 'покупка жилой недвижимости',\n",
              "       'строительство собственной недвижимости', 'недвижимость',\n",
              "       'строительство недвижимости', 'на покупку подержанного автомобиля',\n",
              "       'на покупку своего автомобиля',\n",
              "       'операции с коммерческой недвижимостью',\n",
              "       'строительство жилой недвижимости', 'жилье',\n",
              "       'операции со своей недвижимостью', 'автомобили',\n",
              "       'заняться образованием', 'сделка с подержанным автомобилем',\n",
              "       'получение образования', 'автомобиль', 'свадьба',\n",
              "       'получение дополнительного образования', 'покупка своего жилья',\n",
              "       'операции с недвижимостью', 'получение высшего образования',\n",
              "       'свой автомобиль', 'сделка с автомобилем',\n",
              "       'профильное образование', 'высшее образование',\n",
              "       'покупка жилья для сдачи', 'на покупку автомобиля', 'ремонт жилью',\n",
              "       'заняться высшим образованием'], dtype=object)"
            ]
          },
          "metadata": {},
          "execution_count": 95
        }
      ],
      "source": [
        "data['purpose'].unique()"
      ]
    },
    {
      "cell_type": "markdown",
      "id": "8907e741",
      "metadata": {
        "deletable": false,
        "editable": false,
        "id": "8907e741"
      },
      "source": [
        "**Let's create a function that, based on the data from the `purpose` column, will form a new `purpose_category` column, which will include the following categories:**\n",
        "\n",
        "- ``operations with a car'`,\n",
        "- ``real estate transactions'`,\n",
        "- ``carrying out a wedding'`,\n",
        "- ``getting an education'`.\n",
        "\n",
        "**For example, if the `purpose` column contains the substring ``for the purchase of a car'`, then the `purpose_category` column will contain the string ``operations with a car'`.**\n",
        "\n",
        "**We use our own function called `categorize_purpose()` and the `apply()` method. Let's examine the data in the `purpose` column and determine which substrings will help correctly determine the category.**"
      ]
    },
    {
      "cell_type": "code",
      "execution_count": 96,
      "id": "4d4097e7",
      "metadata": {
        "deletable": false,
        "id": "4d4097e7"
      },
      "outputs": [],
      "source": [
        "def categorize_purpose(row):\n",
        "    try:\n",
        "        if 'автом' in row:\n",
        "            return 'операции с автомобилем'\n",
        "        elif 'жил' in row or 'недвиж' in row:\n",
        "            return 'операции с недвижимостью'\n",
        "        elif 'свад' in row:\n",
        "            return 'проведение свадьбы'\n",
        "        elif 'образов' in row:\n",
        "            return 'получение образования'\n",
        "    except:\n",
        "        return 'нет категории'"
      ]
    },
    {
      "cell_type": "code",
      "execution_count": 97,
      "id": "91465d64",
      "metadata": {
        "deletable": false,
        "id": "91465d64",
        "outputId": "56621299-39b3-425d-9d5f-c1e44394d0ba",
        "colab": {
          "base_uri": "https://localhost:8080/"
        }
      },
      "outputs": [
        {
          "output_type": "stream",
          "name": "stderr",
          "text": [
            "<ipython-input-97-ecf9d79505dd>:1: SettingWithCopyWarning: \n",
            "A value is trying to be set on a copy of a slice from a DataFrame.\n",
            "Try using .loc[row_indexer,col_indexer] = value instead\n",
            "\n",
            "See the caveats in the documentation: https://pandas.pydata.org/pandas-docs/stable/user_guide/indexing.html#returning-a-view-versus-a-copy\n",
            "  data['purpose_category'] = data['purpose'].apply(categorize_purpose)\n"
          ]
        }
      ],
      "source": [
        "data['purpose_category'] = data['purpose'].apply(categorize_purpose)"
      ]
    },
    {
      "cell_type": "markdown",
      "id": "b86d8fe1",
      "metadata": {
        "deletable": false,
        "editable": false,
        "id": "b86d8fe1"
      },
      "source": [
        "### 3. Explore the data"
      ]
    },
    {
      "cell_type": "markdown",
      "id": "eca40348",
      "metadata": {
        "deletable": false,
        "editable": false,
        "id": "eca40348"
      },
      "source": [
        "#### 3.1 Let's check whether there is a relationship between the number of children and repayment of the loan on time."
      ]
    },
    {
      "cell_type": "markdown",
      "id": "3ea007c0",
      "metadata": {
        "id": "3ea007c0"
      },
      "source": [
        "##### Before proceeding to the study of the dependency from clause 2.7.1, it is necessary to additionally check that the preprocessing of the data frame data `data` has been completed completely and you can continue working with it."
      ]
    },
    {
      "cell_type": "markdown",
      "id": "c0fb6b45",
      "metadata": {
        "id": "c0fb6b45"
      },
      "source": [
        "**<a id='item_2_7_1_2'></a> Previously, we deleted rows with obvious duplicates ([here](#item_2_5)) and did not reset the indexing in the `data` dataframe. Let's do this now using the `reset_index()` method with the `drop=True` parameter, thereby not saving the old indexing.**"
      ]
    },
    {
      "cell_type": "code",
      "execution_count": 98,
      "id": "d30a05da",
      "metadata": {
        "id": "d30a05da"
      },
      "outputs": [],
      "source": [
        "data = data.reset_index(drop=True)"
      ]
    },
    {
      "cell_type": "markdown",
      "id": "2fed2951",
      "metadata": {
        "id": "2fed2951"
      },
      "source": [
        "**After performing all the operations with the data above, let's check the current information about the `data` dataframe using the `info()` method.**"
      ]
    },
    {
      "cell_type": "code",
      "execution_count": 99,
      "id": "3577662c",
      "metadata": {
        "deletable": false,
        "id": "3577662c",
        "scrolled": true,
        "outputId": "35610703-3cff-43ae-8fb2-39f37d2a3a24",
        "colab": {
          "base_uri": "https://localhost:8080/"
        }
      },
      "outputs": [
        {
          "output_type": "stream",
          "name": "stdout",
          "text": [
            "<class 'pandas.core.frame.DataFrame'>\n",
            "RangeIndex: 21331 entries, 0 to 21330\n",
            "Data columns (total 14 columns):\n",
            " #   Column                 Non-Null Count  Dtype  \n",
            "---  ------                 --------------  -----  \n",
            " 0   children               21331 non-null  int64  \n",
            " 1   days_employed          21331 non-null  float64\n",
            " 2   dob_years              21331 non-null  int64  \n",
            " 3   education              21331 non-null  object \n",
            " 4   education_id           21331 non-null  int64  \n",
            " 5   family_status          21331 non-null  object \n",
            " 6   family_status_id       21331 non-null  int64  \n",
            " 7   gender                 21331 non-null  object \n",
            " 8   income_type            21331 non-null  object \n",
            " 9   debt                   21331 non-null  int64  \n",
            " 10  total_income           21331 non-null  int64  \n",
            " 11  purpose                21331 non-null  object \n",
            " 12  total_income_category  21331 non-null  object \n",
            " 13  purpose_category       21331 non-null  object \n",
            "dtypes: float64(1), int64(6), object(7)\n",
            "memory usage: 2.3+ MB\n"
          ]
        }
      ],
      "source": [
        "data.info()"
      ]
    },
    {
      "cell_type": "markdown",
      "id": "26f9b7b6",
      "metadata": {
        "id": "26f9b7b6"
      },
      "source": [
        "We see that after removing rows with anomalous data in the `children` column and removing obvious duplicates, the number of rows in the `data` dataframe decreased from 21525 to 21331 compared to the original dataframe ([information about the original DF](#item_1_1)), which is less than 1% of all lines.\n",
        "We consider such a reduction in the amount of data to have a non-critical impact on further research and can continue it. <a id='item_2_7_1_1'></a>\n",
        "\n",
        "We also see that all columns now have no gaps (`NaN`\\`None` objects) and all columns have the same number of rows."
      ]
    },
    {
      "cell_type": "markdown",
      "id": "72a397f8",
      "metadata": {
        "id": "72a397f8"
      },
      "source": [
        "**Let's now evaluate the updated data. Let's print the first 20 lines of the updated dataframe `data`**"
      ]
    },
    {
      "cell_type": "code",
      "execution_count": 100,
      "id": "2bfc1ec6",
      "metadata": {
        "scrolled": true,
        "id": "2bfc1ec6",
        "outputId": "a86decf7-99c9-4a89-9061-9f16179786c9",
        "colab": {
          "base_uri": "https://localhost:8080/",
          "height": 1000
        }
      },
      "outputs": [
        {
          "output_type": "execute_result",
          "data": {
            "text/plain": [
              "    children  days_employed  dob_years            education  education_id  \\\n",
              "0          1    8437.673028         42               высшее             0   \n",
              "1          1    4024.803754         36              среднее             1   \n",
              "2          0    5623.422610         33              среднее             1   \n",
              "3          3    4124.747207         32              среднее             1   \n",
              "4          0  340266.072047         53              среднее             1   \n",
              "5          0     926.185831         27               высшее             0   \n",
              "6          0    2879.202052         43               высшее             0   \n",
              "7          0     152.779569         50              среднее             1   \n",
              "8          2    6929.865299         35               высшее             0   \n",
              "9          0    2188.756445         41              среднее             1   \n",
              "10         2    4171.483647         36               высшее             0   \n",
              "11         0     792.701887         40              среднее             1   \n",
              "12         0  365286.622650         65              среднее             1   \n",
              "13         0    1846.641941         54  неоконченное высшее             2   \n",
              "14         0    1844.956182         56               высшее             0   \n",
              "15         1     972.364419         26              среднее             1   \n",
              "16         0    1719.934226         35              среднее             1   \n",
              "17         0    2369.999720         33               высшее             0   \n",
              "18         0  400281.136913         53              среднее             1   \n",
              "19         0   10038.818549         48              среднее             1   \n",
              "\n",
              "       family_status  family_status_id gender income_type  debt  total_income  \\\n",
              "0    женат / замужем                 0      F   сотрудник     0        253875   \n",
              "1    женат / замужем                 0      F   сотрудник     0        112080   \n",
              "2    женат / замужем                 0      M   сотрудник     0        145885   \n",
              "3    женат / замужем                 0      M   сотрудник     0        267628   \n",
              "4   гражданский брак                 1      F   пенсионер     0        158616   \n",
              "5   гражданский брак                 1      M   компаньон     0        255763   \n",
              "6    женат / замужем                 0      F   компаньон     0        240525   \n",
              "7    женат / замужем                 0      M   сотрудник     0        135823   \n",
              "8   гражданский брак                 1      F   сотрудник     0         95856   \n",
              "9    женат / замужем                 0      M   сотрудник     0        144425   \n",
              "10   женат / замужем                 0      M   компаньон     0        113943   \n",
              "11   женат / замужем                 0      F   сотрудник     0         77069   \n",
              "12  гражданский брак                 1      M   пенсионер     0        118514   \n",
              "13   женат / замужем                 0      F   сотрудник     0        130458   \n",
              "14  гражданский брак                 1      F   компаньон     1        165127   \n",
              "15   женат / замужем                 0      F   сотрудник     0        116820   \n",
              "16   женат / замужем                 0      F   сотрудник     0        289202   \n",
              "17  гражданский брак                 1      M   сотрудник     0         90410   \n",
              "18    вдовец / вдова                 2      F   пенсионер     0         56823   \n",
              "19         в разводе                 3      F   сотрудник     0        242831   \n",
              "\n",
              "                                   purpose total_income_category  \\\n",
              "0                            покупка жилья                     B   \n",
              "1                  приобретение автомобиля                     C   \n",
              "2                            покупка жилья                     C   \n",
              "3               дополнительное образование                     B   \n",
              "4                          сыграть свадьбу                     C   \n",
              "5                            покупка жилья                     B   \n",
              "6                        операции с жильем                     B   \n",
              "7                              образование                     C   \n",
              "8                    на проведение свадьбы                     C   \n",
              "9                  покупка жилья для семьи                     C   \n",
              "10                    покупка недвижимости                     C   \n",
              "11       покупка коммерческой недвижимости                     C   \n",
              "12                         сыграть свадьбу                     C   \n",
              "13                 приобретение автомобиля                     C   \n",
              "14              покупка жилой недвижимости                     C   \n",
              "15  строительство собственной недвижимости                     C   \n",
              "16                            недвижимость                     B   \n",
              "17              строительство недвижимости                     C   \n",
              "18      на покупку подержанного автомобиля                     C   \n",
              "19            на покупку своего автомобиля                     B   \n",
              "\n",
              "            purpose_category  \n",
              "0   операции с недвижимостью  \n",
              "1     операции с автомобилем  \n",
              "2   операции с недвижимостью  \n",
              "3      получение образования  \n",
              "4         проведение свадьбы  \n",
              "5   операции с недвижимостью  \n",
              "6   операции с недвижимостью  \n",
              "7      получение образования  \n",
              "8         проведение свадьбы  \n",
              "9   операции с недвижимостью  \n",
              "10  операции с недвижимостью  \n",
              "11  операции с недвижимостью  \n",
              "12        проведение свадьбы  \n",
              "13    операции с автомобилем  \n",
              "14  операции с недвижимостью  \n",
              "15  операции с недвижимостью  \n",
              "16  операции с недвижимостью  \n",
              "17  операции с недвижимостью  \n",
              "18    операции с автомобилем  \n",
              "19    операции с автомобилем  "
            ],
            "text/html": [
              "\n",
              "  <div id=\"df-37ac30ec-cb49-4b5b-86ec-f460d6760c4a\" class=\"colab-df-container\">\n",
              "    <div>\n",
              "<style scoped>\n",
              "    .dataframe tbody tr th:only-of-type {\n",
              "        vertical-align: middle;\n",
              "    }\n",
              "\n",
              "    .dataframe tbody tr th {\n",
              "        vertical-align: top;\n",
              "    }\n",
              "\n",
              "    .dataframe thead th {\n",
              "        text-align: right;\n",
              "    }\n",
              "</style>\n",
              "<table border=\"1\" class=\"dataframe\">\n",
              "  <thead>\n",
              "    <tr style=\"text-align: right;\">\n",
              "      <th></th>\n",
              "      <th>children</th>\n",
              "      <th>days_employed</th>\n",
              "      <th>dob_years</th>\n",
              "      <th>education</th>\n",
              "      <th>education_id</th>\n",
              "      <th>family_status</th>\n",
              "      <th>family_status_id</th>\n",
              "      <th>gender</th>\n",
              "      <th>income_type</th>\n",
              "      <th>debt</th>\n",
              "      <th>total_income</th>\n",
              "      <th>purpose</th>\n",
              "      <th>total_income_category</th>\n",
              "      <th>purpose_category</th>\n",
              "    </tr>\n",
              "  </thead>\n",
              "  <tbody>\n",
              "    <tr>\n",
              "      <th>0</th>\n",
              "      <td>1</td>\n",
              "      <td>8437.673028</td>\n",
              "      <td>42</td>\n",
              "      <td>высшее</td>\n",
              "      <td>0</td>\n",
              "      <td>женат / замужем</td>\n",
              "      <td>0</td>\n",
              "      <td>F</td>\n",
              "      <td>сотрудник</td>\n",
              "      <td>0</td>\n",
              "      <td>253875</td>\n",
              "      <td>покупка жилья</td>\n",
              "      <td>B</td>\n",
              "      <td>операции с недвижимостью</td>\n",
              "    </tr>\n",
              "    <tr>\n",
              "      <th>1</th>\n",
              "      <td>1</td>\n",
              "      <td>4024.803754</td>\n",
              "      <td>36</td>\n",
              "      <td>среднее</td>\n",
              "      <td>1</td>\n",
              "      <td>женат / замужем</td>\n",
              "      <td>0</td>\n",
              "      <td>F</td>\n",
              "      <td>сотрудник</td>\n",
              "      <td>0</td>\n",
              "      <td>112080</td>\n",
              "      <td>приобретение автомобиля</td>\n",
              "      <td>C</td>\n",
              "      <td>операции с автомобилем</td>\n",
              "    </tr>\n",
              "    <tr>\n",
              "      <th>2</th>\n",
              "      <td>0</td>\n",
              "      <td>5623.422610</td>\n",
              "      <td>33</td>\n",
              "      <td>среднее</td>\n",
              "      <td>1</td>\n",
              "      <td>женат / замужем</td>\n",
              "      <td>0</td>\n",
              "      <td>M</td>\n",
              "      <td>сотрудник</td>\n",
              "      <td>0</td>\n",
              "      <td>145885</td>\n",
              "      <td>покупка жилья</td>\n",
              "      <td>C</td>\n",
              "      <td>операции с недвижимостью</td>\n",
              "    </tr>\n",
              "    <tr>\n",
              "      <th>3</th>\n",
              "      <td>3</td>\n",
              "      <td>4124.747207</td>\n",
              "      <td>32</td>\n",
              "      <td>среднее</td>\n",
              "      <td>1</td>\n",
              "      <td>женат / замужем</td>\n",
              "      <td>0</td>\n",
              "      <td>M</td>\n",
              "      <td>сотрудник</td>\n",
              "      <td>0</td>\n",
              "      <td>267628</td>\n",
              "      <td>дополнительное образование</td>\n",
              "      <td>B</td>\n",
              "      <td>получение образования</td>\n",
              "    </tr>\n",
              "    <tr>\n",
              "      <th>4</th>\n",
              "      <td>0</td>\n",
              "      <td>340266.072047</td>\n",
              "      <td>53</td>\n",
              "      <td>среднее</td>\n",
              "      <td>1</td>\n",
              "      <td>гражданский брак</td>\n",
              "      <td>1</td>\n",
              "      <td>F</td>\n",
              "      <td>пенсионер</td>\n",
              "      <td>0</td>\n",
              "      <td>158616</td>\n",
              "      <td>сыграть свадьбу</td>\n",
              "      <td>C</td>\n",
              "      <td>проведение свадьбы</td>\n",
              "    </tr>\n",
              "    <tr>\n",
              "      <th>5</th>\n",
              "      <td>0</td>\n",
              "      <td>926.185831</td>\n",
              "      <td>27</td>\n",
              "      <td>высшее</td>\n",
              "      <td>0</td>\n",
              "      <td>гражданский брак</td>\n",
              "      <td>1</td>\n",
              "      <td>M</td>\n",
              "      <td>компаньон</td>\n",
              "      <td>0</td>\n",
              "      <td>255763</td>\n",
              "      <td>покупка жилья</td>\n",
              "      <td>B</td>\n",
              "      <td>операции с недвижимостью</td>\n",
              "    </tr>\n",
              "    <tr>\n",
              "      <th>6</th>\n",
              "      <td>0</td>\n",
              "      <td>2879.202052</td>\n",
              "      <td>43</td>\n",
              "      <td>высшее</td>\n",
              "      <td>0</td>\n",
              "      <td>женат / замужем</td>\n",
              "      <td>0</td>\n",
              "      <td>F</td>\n",
              "      <td>компаньон</td>\n",
              "      <td>0</td>\n",
              "      <td>240525</td>\n",
              "      <td>операции с жильем</td>\n",
              "      <td>B</td>\n",
              "      <td>операции с недвижимостью</td>\n",
              "    </tr>\n",
              "    <tr>\n",
              "      <th>7</th>\n",
              "      <td>0</td>\n",
              "      <td>152.779569</td>\n",
              "      <td>50</td>\n",
              "      <td>среднее</td>\n",
              "      <td>1</td>\n",
              "      <td>женат / замужем</td>\n",
              "      <td>0</td>\n",
              "      <td>M</td>\n",
              "      <td>сотрудник</td>\n",
              "      <td>0</td>\n",
              "      <td>135823</td>\n",
              "      <td>образование</td>\n",
              "      <td>C</td>\n",
              "      <td>получение образования</td>\n",
              "    </tr>\n",
              "    <tr>\n",
              "      <th>8</th>\n",
              "      <td>2</td>\n",
              "      <td>6929.865299</td>\n",
              "      <td>35</td>\n",
              "      <td>высшее</td>\n",
              "      <td>0</td>\n",
              "      <td>гражданский брак</td>\n",
              "      <td>1</td>\n",
              "      <td>F</td>\n",
              "      <td>сотрудник</td>\n",
              "      <td>0</td>\n",
              "      <td>95856</td>\n",
              "      <td>на проведение свадьбы</td>\n",
              "      <td>C</td>\n",
              "      <td>проведение свадьбы</td>\n",
              "    </tr>\n",
              "    <tr>\n",
              "      <th>9</th>\n",
              "      <td>0</td>\n",
              "      <td>2188.756445</td>\n",
              "      <td>41</td>\n",
              "      <td>среднее</td>\n",
              "      <td>1</td>\n",
              "      <td>женат / замужем</td>\n",
              "      <td>0</td>\n",
              "      <td>M</td>\n",
              "      <td>сотрудник</td>\n",
              "      <td>0</td>\n",
              "      <td>144425</td>\n",
              "      <td>покупка жилья для семьи</td>\n",
              "      <td>C</td>\n",
              "      <td>операции с недвижимостью</td>\n",
              "    </tr>\n",
              "    <tr>\n",
              "      <th>10</th>\n",
              "      <td>2</td>\n",
              "      <td>4171.483647</td>\n",
              "      <td>36</td>\n",
              "      <td>высшее</td>\n",
              "      <td>0</td>\n",
              "      <td>женат / замужем</td>\n",
              "      <td>0</td>\n",
              "      <td>M</td>\n",
              "      <td>компаньон</td>\n",
              "      <td>0</td>\n",
              "      <td>113943</td>\n",
              "      <td>покупка недвижимости</td>\n",
              "      <td>C</td>\n",
              "      <td>операции с недвижимостью</td>\n",
              "    </tr>\n",
              "    <tr>\n",
              "      <th>11</th>\n",
              "      <td>0</td>\n",
              "      <td>792.701887</td>\n",
              "      <td>40</td>\n",
              "      <td>среднее</td>\n",
              "      <td>1</td>\n",
              "      <td>женат / замужем</td>\n",
              "      <td>0</td>\n",
              "      <td>F</td>\n",
              "      <td>сотрудник</td>\n",
              "      <td>0</td>\n",
              "      <td>77069</td>\n",
              "      <td>покупка коммерческой недвижимости</td>\n",
              "      <td>C</td>\n",
              "      <td>операции с недвижимостью</td>\n",
              "    </tr>\n",
              "    <tr>\n",
              "      <th>12</th>\n",
              "      <td>0</td>\n",
              "      <td>365286.622650</td>\n",
              "      <td>65</td>\n",
              "      <td>среднее</td>\n",
              "      <td>1</td>\n",
              "      <td>гражданский брак</td>\n",
              "      <td>1</td>\n",
              "      <td>M</td>\n",
              "      <td>пенсионер</td>\n",
              "      <td>0</td>\n",
              "      <td>118514</td>\n",
              "      <td>сыграть свадьбу</td>\n",
              "      <td>C</td>\n",
              "      <td>проведение свадьбы</td>\n",
              "    </tr>\n",
              "    <tr>\n",
              "      <th>13</th>\n",
              "      <td>0</td>\n",
              "      <td>1846.641941</td>\n",
              "      <td>54</td>\n",
              "      <td>неоконченное высшее</td>\n",
              "      <td>2</td>\n",
              "      <td>женат / замужем</td>\n",
              "      <td>0</td>\n",
              "      <td>F</td>\n",
              "      <td>сотрудник</td>\n",
              "      <td>0</td>\n",
              "      <td>130458</td>\n",
              "      <td>приобретение автомобиля</td>\n",
              "      <td>C</td>\n",
              "      <td>операции с автомобилем</td>\n",
              "    </tr>\n",
              "    <tr>\n",
              "      <th>14</th>\n",
              "      <td>0</td>\n",
              "      <td>1844.956182</td>\n",
              "      <td>56</td>\n",
              "      <td>высшее</td>\n",
              "      <td>0</td>\n",
              "      <td>гражданский брак</td>\n",
              "      <td>1</td>\n",
              "      <td>F</td>\n",
              "      <td>компаньон</td>\n",
              "      <td>1</td>\n",
              "      <td>165127</td>\n",
              "      <td>покупка жилой недвижимости</td>\n",
              "      <td>C</td>\n",
              "      <td>операции с недвижимостью</td>\n",
              "    </tr>\n",
              "    <tr>\n",
              "      <th>15</th>\n",
              "      <td>1</td>\n",
              "      <td>972.364419</td>\n",
              "      <td>26</td>\n",
              "      <td>среднее</td>\n",
              "      <td>1</td>\n",
              "      <td>женат / замужем</td>\n",
              "      <td>0</td>\n",
              "      <td>F</td>\n",
              "      <td>сотрудник</td>\n",
              "      <td>0</td>\n",
              "      <td>116820</td>\n",
              "      <td>строительство собственной недвижимости</td>\n",
              "      <td>C</td>\n",
              "      <td>операции с недвижимостью</td>\n",
              "    </tr>\n",
              "    <tr>\n",
              "      <th>16</th>\n",
              "      <td>0</td>\n",
              "      <td>1719.934226</td>\n",
              "      <td>35</td>\n",
              "      <td>среднее</td>\n",
              "      <td>1</td>\n",
              "      <td>женат / замужем</td>\n",
              "      <td>0</td>\n",
              "      <td>F</td>\n",
              "      <td>сотрудник</td>\n",
              "      <td>0</td>\n",
              "      <td>289202</td>\n",
              "      <td>недвижимость</td>\n",
              "      <td>B</td>\n",
              "      <td>операции с недвижимостью</td>\n",
              "    </tr>\n",
              "    <tr>\n",
              "      <th>17</th>\n",
              "      <td>0</td>\n",
              "      <td>2369.999720</td>\n",
              "      <td>33</td>\n",
              "      <td>высшее</td>\n",
              "      <td>0</td>\n",
              "      <td>гражданский брак</td>\n",
              "      <td>1</td>\n",
              "      <td>M</td>\n",
              "      <td>сотрудник</td>\n",
              "      <td>0</td>\n",
              "      <td>90410</td>\n",
              "      <td>строительство недвижимости</td>\n",
              "      <td>C</td>\n",
              "      <td>операции с недвижимостью</td>\n",
              "    </tr>\n",
              "    <tr>\n",
              "      <th>18</th>\n",
              "      <td>0</td>\n",
              "      <td>400281.136913</td>\n",
              "      <td>53</td>\n",
              "      <td>среднее</td>\n",
              "      <td>1</td>\n",
              "      <td>вдовец / вдова</td>\n",
              "      <td>2</td>\n",
              "      <td>F</td>\n",
              "      <td>пенсионер</td>\n",
              "      <td>0</td>\n",
              "      <td>56823</td>\n",
              "      <td>на покупку подержанного автомобиля</td>\n",
              "      <td>C</td>\n",
              "      <td>операции с автомобилем</td>\n",
              "    </tr>\n",
              "    <tr>\n",
              "      <th>19</th>\n",
              "      <td>0</td>\n",
              "      <td>10038.818549</td>\n",
              "      <td>48</td>\n",
              "      <td>среднее</td>\n",
              "      <td>1</td>\n",
              "      <td>в разводе</td>\n",
              "      <td>3</td>\n",
              "      <td>F</td>\n",
              "      <td>сотрудник</td>\n",
              "      <td>0</td>\n",
              "      <td>242831</td>\n",
              "      <td>на покупку своего автомобиля</td>\n",
              "      <td>B</td>\n",
              "      <td>операции с автомобилем</td>\n",
              "    </tr>\n",
              "  </tbody>\n",
              "</table>\n",
              "</div>\n",
              "    <div class=\"colab-df-buttons\">\n",
              "\n",
              "  <div class=\"colab-df-container\">\n",
              "    <button class=\"colab-df-convert\" onclick=\"convertToInteractive('df-37ac30ec-cb49-4b5b-86ec-f460d6760c4a')\"\n",
              "            title=\"Convert this dataframe to an interactive table.\"\n",
              "            style=\"display:none;\">\n",
              "\n",
              "  <svg xmlns=\"http://www.w3.org/2000/svg\" height=\"24px\" viewBox=\"0 -960 960 960\">\n",
              "    <path d=\"M120-120v-720h720v720H120Zm60-500h600v-160H180v160Zm220 220h160v-160H400v160Zm0 220h160v-160H400v160ZM180-400h160v-160H180v160Zm440 0h160v-160H620v160ZM180-180h160v-160H180v160Zm440 0h160v-160H620v160Z\"/>\n",
              "  </svg>\n",
              "    </button>\n",
              "\n",
              "  <style>\n",
              "    .colab-df-container {\n",
              "      display:flex;\n",
              "      gap: 12px;\n",
              "    }\n",
              "\n",
              "    .colab-df-convert {\n",
              "      background-color: #E8F0FE;\n",
              "      border: none;\n",
              "      border-radius: 50%;\n",
              "      cursor: pointer;\n",
              "      display: none;\n",
              "      fill: #1967D2;\n",
              "      height: 32px;\n",
              "      padding: 0 0 0 0;\n",
              "      width: 32px;\n",
              "    }\n",
              "\n",
              "    .colab-df-convert:hover {\n",
              "      background-color: #E2EBFA;\n",
              "      box-shadow: 0px 1px 2px rgba(60, 64, 67, 0.3), 0px 1px 3px 1px rgba(60, 64, 67, 0.15);\n",
              "      fill: #174EA6;\n",
              "    }\n",
              "\n",
              "    .colab-df-buttons div {\n",
              "      margin-bottom: 4px;\n",
              "    }\n",
              "\n",
              "    [theme=dark] .colab-df-convert {\n",
              "      background-color: #3B4455;\n",
              "      fill: #D2E3FC;\n",
              "    }\n",
              "\n",
              "    [theme=dark] .colab-df-convert:hover {\n",
              "      background-color: #434B5C;\n",
              "      box-shadow: 0px 1px 3px 1px rgba(0, 0, 0, 0.15);\n",
              "      filter: drop-shadow(0px 1px 2px rgba(0, 0, 0, 0.3));\n",
              "      fill: #FFFFFF;\n",
              "    }\n",
              "  </style>\n",
              "\n",
              "    <script>\n",
              "      const buttonEl =\n",
              "        document.querySelector('#df-37ac30ec-cb49-4b5b-86ec-f460d6760c4a button.colab-df-convert');\n",
              "      buttonEl.style.display =\n",
              "        google.colab.kernel.accessAllowed ? 'block' : 'none';\n",
              "\n",
              "      async function convertToInteractive(key) {\n",
              "        const element = document.querySelector('#df-37ac30ec-cb49-4b5b-86ec-f460d6760c4a');\n",
              "        const dataTable =\n",
              "          await google.colab.kernel.invokeFunction('convertToInteractive',\n",
              "                                                    [key], {});\n",
              "        if (!dataTable) return;\n",
              "\n",
              "        const docLinkHtml = 'Like what you see? Visit the ' +\n",
              "          '<a target=\"_blank\" href=https://colab.research.google.com/notebooks/data_table.ipynb>data table notebook</a>'\n",
              "          + ' to learn more about interactive tables.';\n",
              "        element.innerHTML = '';\n",
              "        dataTable['output_type'] = 'display_data';\n",
              "        await google.colab.output.renderOutput(dataTable, element);\n",
              "        const docLink = document.createElement('div');\n",
              "        docLink.innerHTML = docLinkHtml;\n",
              "        element.appendChild(docLink);\n",
              "      }\n",
              "    </script>\n",
              "  </div>\n",
              "\n",
              "\n",
              "<div id=\"df-02c2c493-2204-47e6-a2a7-96d4183a19a0\">\n",
              "  <button class=\"colab-df-quickchart\" onclick=\"quickchart('df-02c2c493-2204-47e6-a2a7-96d4183a19a0')\"\n",
              "            title=\"Suggest charts.\"\n",
              "            style=\"display:none;\">\n",
              "\n",
              "<svg xmlns=\"http://www.w3.org/2000/svg\" height=\"24px\"viewBox=\"0 0 24 24\"\n",
              "     width=\"24px\">\n",
              "    <g>\n",
              "        <path d=\"M19 3H5c-1.1 0-2 .9-2 2v14c0 1.1.9 2 2 2h14c1.1 0 2-.9 2-2V5c0-1.1-.9-2-2-2zM9 17H7v-7h2v7zm4 0h-2V7h2v10zm4 0h-2v-4h2v4z\"/>\n",
              "    </g>\n",
              "</svg>\n",
              "  </button>\n",
              "\n",
              "<style>\n",
              "  .colab-df-quickchart {\n",
              "      --bg-color: #E8F0FE;\n",
              "      --fill-color: #1967D2;\n",
              "      --hover-bg-color: #E2EBFA;\n",
              "      --hover-fill-color: #174EA6;\n",
              "      --disabled-fill-color: #AAA;\n",
              "      --disabled-bg-color: #DDD;\n",
              "  }\n",
              "\n",
              "  [theme=dark] .colab-df-quickchart {\n",
              "      --bg-color: #3B4455;\n",
              "      --fill-color: #D2E3FC;\n",
              "      --hover-bg-color: #434B5C;\n",
              "      --hover-fill-color: #FFFFFF;\n",
              "      --disabled-bg-color: #3B4455;\n",
              "      --disabled-fill-color: #666;\n",
              "  }\n",
              "\n",
              "  .colab-df-quickchart {\n",
              "    background-color: var(--bg-color);\n",
              "    border: none;\n",
              "    border-radius: 50%;\n",
              "    cursor: pointer;\n",
              "    display: none;\n",
              "    fill: var(--fill-color);\n",
              "    height: 32px;\n",
              "    padding: 0;\n",
              "    width: 32px;\n",
              "  }\n",
              "\n",
              "  .colab-df-quickchart:hover {\n",
              "    background-color: var(--hover-bg-color);\n",
              "    box-shadow: 0 1px 2px rgba(60, 64, 67, 0.3), 0 1px 3px 1px rgba(60, 64, 67, 0.15);\n",
              "    fill: var(--button-hover-fill-color);\n",
              "  }\n",
              "\n",
              "  .colab-df-quickchart-complete:disabled,\n",
              "  .colab-df-quickchart-complete:disabled:hover {\n",
              "    background-color: var(--disabled-bg-color);\n",
              "    fill: var(--disabled-fill-color);\n",
              "    box-shadow: none;\n",
              "  }\n",
              "\n",
              "  .colab-df-spinner {\n",
              "    border: 2px solid var(--fill-color);\n",
              "    border-color: transparent;\n",
              "    border-bottom-color: var(--fill-color);\n",
              "    animation:\n",
              "      spin 1s steps(1) infinite;\n",
              "  }\n",
              "\n",
              "  @keyframes spin {\n",
              "    0% {\n",
              "      border-color: transparent;\n",
              "      border-bottom-color: var(--fill-color);\n",
              "      border-left-color: var(--fill-color);\n",
              "    }\n",
              "    20% {\n",
              "      border-color: transparent;\n",
              "      border-left-color: var(--fill-color);\n",
              "      border-top-color: var(--fill-color);\n",
              "    }\n",
              "    30% {\n",
              "      border-color: transparent;\n",
              "      border-left-color: var(--fill-color);\n",
              "      border-top-color: var(--fill-color);\n",
              "      border-right-color: var(--fill-color);\n",
              "    }\n",
              "    40% {\n",
              "      border-color: transparent;\n",
              "      border-right-color: var(--fill-color);\n",
              "      border-top-color: var(--fill-color);\n",
              "    }\n",
              "    60% {\n",
              "      border-color: transparent;\n",
              "      border-right-color: var(--fill-color);\n",
              "    }\n",
              "    80% {\n",
              "      border-color: transparent;\n",
              "      border-right-color: var(--fill-color);\n",
              "      border-bottom-color: var(--fill-color);\n",
              "    }\n",
              "    90% {\n",
              "      border-color: transparent;\n",
              "      border-bottom-color: var(--fill-color);\n",
              "    }\n",
              "  }\n",
              "</style>\n",
              "\n",
              "  <script>\n",
              "    async function quickchart(key) {\n",
              "      const quickchartButtonEl =\n",
              "        document.querySelector('#' + key + ' button');\n",
              "      quickchartButtonEl.disabled = true;  // To prevent multiple clicks.\n",
              "      quickchartButtonEl.classList.add('colab-df-spinner');\n",
              "      try {\n",
              "        const charts = await google.colab.kernel.invokeFunction(\n",
              "            'suggestCharts', [key], {});\n",
              "      } catch (error) {\n",
              "        console.error('Error during call to suggestCharts:', error);\n",
              "      }\n",
              "      quickchartButtonEl.classList.remove('colab-df-spinner');\n",
              "      quickchartButtonEl.classList.add('colab-df-quickchart-complete');\n",
              "    }\n",
              "    (() => {\n",
              "      let quickchartButtonEl =\n",
              "        document.querySelector('#df-02c2c493-2204-47e6-a2a7-96d4183a19a0 button');\n",
              "      quickchartButtonEl.style.display =\n",
              "        google.colab.kernel.accessAllowed ? 'block' : 'none';\n",
              "    })();\n",
              "  </script>\n",
              "</div>\n",
              "    </div>\n",
              "  </div>\n"
            ]
          },
          "metadata": {},
          "execution_count": 100
        }
      ],
      "source": [
        "data.head(20)"
      ]
    },
    {
      "cell_type": "markdown",
      "id": "6b87d5e3",
      "metadata": {
        "id": "6b87d5e3"
      },
      "source": [
        "The first thing that catches your eye is the float type of the `days_employed` column, although for our research, integer values for this parameter will be enough, so let’s convert the values of this column to the `int` type.\n",
        "\n",
        "The data types of quantitative and categorical variables are appropriate for the purpose."
      ]
    },
    {
      "cell_type": "markdown",
      "id": "ad54b921",
      "metadata": {
        "id": "ad54b921"
      },
      "source": [
        "**Convert the data in the `days_employed` column to an integer type using the `astype()` method**"
      ]
    },
    {
      "cell_type": "code",
      "execution_count": 101,
      "id": "5efd7179",
      "metadata": {
        "id": "5efd7179"
      },
      "outputs": [],
      "source": [
        "data['days_employed'] = data['days_employed'].astype('int')"
      ]
    },
    {
      "cell_type": "markdown",
      "id": "ec3edcac",
      "metadata": {
        "id": "ec3edcac"
      },
      "source": [
        "**After all the transformations, we will check the data in those columns of the `data` dataframe that were not previously checked for implicit duplicates and errors, using the `unique()` method. Let's apply it one by one to the columns `dob_years`, `education`, `education_id`, `family_status`, `family_status_id`, `gender`, `income_type`, `debt`.**"
      ]
    },
    {
      "cell_type": "markdown",
      "id": "c5cf1f54",
      "metadata": {
        "id": "c5cf1f54"
      },
      "source": [
        "**Apply the `unique()` method to the `dob_years` column of the `data` dataframe. Let's immediately sort the data in ascending order using the `sort_values()`** method"
      ]
    },
    {
      "cell_type": "code",
      "execution_count": 102,
      "id": "39d72ac8",
      "metadata": {
        "id": "39d72ac8",
        "outputId": "afb81808-6d3d-4729-ceb5-1f09af5bdb4c",
        "colab": {
          "base_uri": "https://localhost:8080/"
        }
      },
      "outputs": [
        {
          "output_type": "execute_result",
          "data": {
            "text/plain": [
              "array([ 0, 19, 20, 21, 22, 23, 24, 25, 26, 27, 28, 29, 30, 31, 32, 33, 34,\n",
              "       35, 36, 37, 38, 39, 40, 41, 42, 43, 44, 45, 46, 47, 48, 49, 50, 51,\n",
              "       52, 53, 54, 55, 56, 57, 58, 59, 60, 61, 62, 63, 64, 65, 66, 67, 68,\n",
              "       69, 70, 71, 72, 73, 74, 75])"
            ]
          },
          "metadata": {},
          "execution_count": 102
        }
      ],
      "source": [
        "data['dob_years'].sort_values().unique()"
      ]
    },
    {
      "cell_type": "markdown",
      "id": "fed98f2a",
      "metadata": {
        "id": "fed98f2a"
      },
      "source": [
        "We see that there are some rows with the value 0, which is an incorrect age value."
      ]
    },
    {
      "cell_type": "markdown",
      "id": "a8727d57",
      "metadata": {
        "id": "a8727d57"
      },
      "source": [
        "**Let's clarify how many rows have an age in the `dob_years` column equal to 0. We find out this using logical indexing of the `data` dataframe and the `count()` method.**"
      ]
    },
    {
      "cell_type": "code",
      "execution_count": 103,
      "id": "e93302ae",
      "metadata": {
        "id": "e93302ae",
        "outputId": "6d9f17d3-f153-4b20-aae6-c4a36ec40679",
        "colab": {
          "base_uri": "https://localhost:8080/"
        }
      },
      "outputs": [
        {
          "output_type": "execute_result",
          "data": {
            "text/plain": [
              "100"
            ]
          },
          "metadata": {},
          "execution_count": 103
        }
      ],
      "source": [
        "data[data['dob_years'] == 0]['dob_years'].count()"
      ]
    },
    {
      "cell_type": "markdown",
      "id": "23027bfd",
      "metadata": {
        "id": "23027bfd"
      },
      "source": [
        "The number of rows with an age of 0 is 100, which is less than 0.5% of the total number of rows 21331."
      ]
    },
    {
      "cell_type": "markdown",
      "id": "3675665f",
      "metadata": {
        "id": "3675665f"
      },
      "source": [
        "**Delete rows in which the age (the values of the `dob_years` column) is equal to the anomalous value 0 and reset the indexing in the `data` dataframe using the `reset_index()` method with the `drop=True` parameter, thereby not saving the old indexing. **"
      ]
    },
    {
      "cell_type": "code",
      "execution_count": 104,
      "id": "0a4d0174",
      "metadata": {
        "id": "0a4d0174"
      },
      "outputs": [],
      "source": [
        "data = data[data['dob_years'] != 0].reset_index(drop=True)"
      ]
    },
    {
      "cell_type": "markdown",
      "id": "eccd9f20",
      "metadata": {
        "id": "eccd9f20"
      },
      "source": [
        "**Now let's check the unique age values in the `dob_years` column of the `data` dataframe.**"
      ]
    },
    {
      "cell_type": "code",
      "execution_count": 105,
      "id": "4e25b29b",
      "metadata": {
        "id": "4e25b29b",
        "outputId": "d7544a73-0962-49ec-c2dd-aceaca27632e",
        "colab": {
          "base_uri": "https://localhost:8080/"
        }
      },
      "outputs": [
        {
          "output_type": "execute_result",
          "data": {
            "text/plain": [
              "array([19, 20, 21, 22, 23, 24, 25, 26, 27, 28, 29, 30, 31, 32, 33, 34, 35,\n",
              "       36, 37, 38, 39, 40, 41, 42, 43, 44, 45, 46, 47, 48, 49, 50, 51, 52,\n",
              "       53, 54, 55, 56, 57, 58, 59, 60, 61, 62, 63, 64, 65, 66, 67, 68, 69,\n",
              "       70, 71, 72, 73, 74, 75])"
            ]
          },
          "metadata": {},
          "execution_count": 105
        }
      ],
      "source": [
        "data['dob_years'].sort_values().unique()"
      ]
    },
    {
      "cell_type": "markdown",
      "id": "4a3811ef",
      "metadata": {
        "id": "4a3811ef"
      },
      "source": [
        "We see that rows with zero age were successfully deleted."
      ]
    },
    {
      "cell_type": "markdown",
      "id": "29ac32af",
      "metadata": {
        "id": "29ac32af"
      },
      "source": [
        "**Apply the `unique()` method to the `education` column of the `data` dataframe.**"
      ]
    },
    {
      "cell_type": "code",
      "execution_count": 106,
      "id": "01f5b94d",
      "metadata": {
        "id": "01f5b94d",
        "outputId": "bcb221fa-a467-4843-bf75-021a12d4f28c",
        "colab": {
          "base_uri": "https://localhost:8080/"
        }
      },
      "outputs": [
        {
          "output_type": "execute_result",
          "data": {
            "text/plain": [
              "array(['высшее', 'среднее', 'неоконченное высшее', 'начальное',\n",
              "       'ученая степень'], dtype=object)"
            ]
          },
          "metadata": {},
          "execution_count": 106
        }
      ],
      "source": [
        "data['education'].unique()"
      ]
    },
    {
      "cell_type": "markdown",
      "id": "22fd53f4",
      "metadata": {
        "id": "22fd53f4"
      },
      "source": [
        "Everything is fine with the uniqueness of the values; there are no implicit duplicates in this column."
      ]
    },
    {
      "cell_type": "markdown",
      "id": "50aa7add",
      "metadata": {
        "id": "50aa7add"
      },
      "source": [
        "**Apply the `unique()` method to the `education_id` column of the `data` dataframe.**"
      ]
    },
    {
      "cell_type": "code",
      "execution_count": 107,
      "id": "6bcd2cfa",
      "metadata": {
        "id": "6bcd2cfa",
        "outputId": "043a0c4b-d74e-4429-934c-431225302d3a",
        "colab": {
          "base_uri": "https://localhost:8080/"
        }
      },
      "outputs": [
        {
          "output_type": "execute_result",
          "data": {
            "text/plain": [
              "array([0, 1, 2, 3, 4])"
            ]
          },
          "metadata": {},
          "execution_count": 107
        }
      ],
      "source": [
        "data['education_id'].unique()"
      ]
    },
    {
      "cell_type": "markdown",
      "id": "17480287",
      "metadata": {
        "id": "17480287"
      },
      "source": [
        "We can conclude that the number of unique identifiers in the `education_id` column is equal to the number of unique values in the `education` column."
      ]
    },
    {
      "cell_type": "markdown",
      "id": "eb6f4905",
      "metadata": {
        "id": "eb6f4905"
      },
      "source": [
        "**Now let’s check whether the `education` and `education_id` columns are correctly correlated in all rows of the `data` dataframe. To do this, we use the method to calculate the average value `mean()` for the `education_id` column for the `data` dataframe grouped by the values of the `education` column.\n",
        "If the values of these columns are correlated without errors in all rows, we will obtain an integer value as a result of applying the method in each case.**"
      ]
    },
    {
      "cell_type": "code",
      "execution_count": 108,
      "id": "f3f237f4",
      "metadata": {
        "id": "f3f237f4",
        "outputId": "5b5275bf-d11f-4427-faac-2cfb88216902",
        "colab": {
          "base_uri": "https://localhost:8080/"
        }
      },
      "outputs": [
        {
          "output_type": "execute_result",
          "data": {
            "text/plain": [
              "education\n",
              "высшее                 0.0\n",
              "начальное              3.0\n",
              "неоконченное высшее    2.0\n",
              "среднее                1.0\n",
              "ученая степень         4.0\n",
              "Name: education_id, dtype: float64"
            ]
          },
          "metadata": {},
          "execution_count": 108
        }
      ],
      "source": [
        "data.groupby('education')['education_id'].mean()"
      ]
    },
    {
      "cell_type": "markdown",
      "id": "370dd0fe",
      "metadata": {
        "id": "370dd0fe"
      },
      "source": [
        "We conclude that the values of the `education` and `education_id` columns are correlated correctly."
      ]
    },
    {
      "cell_type": "markdown",
      "id": "5a9af220",
      "metadata": {
        "id": "5a9af220"
      },
      "source": [
        "**Apply the `unique()` method to the `family_status` column of the `data` dataframe.**"
      ]
    },
    {
      "cell_type": "code",
      "execution_count": 109,
      "id": "04cee274",
      "metadata": {
        "id": "04cee274",
        "outputId": "97044fbe-edc6-4b3c-9b06-9df1df6f5b72",
        "colab": {
          "base_uri": "https://localhost:8080/"
        }
      },
      "outputs": [
        {
          "output_type": "execute_result",
          "data": {
            "text/plain": [
              "array(['женат / замужем', 'гражданский брак', 'вдовец / вдова',\n",
              "       'в разводе', 'Не женат / не замужем'], dtype=object)"
            ]
          },
          "metadata": {},
          "execution_count": 109
        }
      ],
      "source": [
        "data['family_status'].unique()"
      ]
    },
    {
      "cell_type": "markdown",
      "id": "2326c24b",
      "metadata": {
        "id": "2326c24b"
      },
      "source": [
        "Everything is fine with the uniqueness of the values; there are no implicit duplicates in this column. But one of the values has a capital letter."
      ]
    },
    {
      "cell_type": "markdown",
      "id": "fc621186",
      "metadata": {
        "id": "fc621186"
      },
      "source": [
        "**We will reduce all values to the standard of lowercase letters. To do this, apply the `str.lower()` method to all values in the `family_status` column.**"
      ]
    },
    {
      "cell_type": "code",
      "execution_count": 110,
      "id": "d897cb59",
      "metadata": {
        "id": "d897cb59"
      },
      "outputs": [],
      "source": [
        "data['family_status'] = data['family_status'].str.lower()"
      ]
    },
    {
      "cell_type": "markdown",
      "id": "1eac07a4",
      "metadata": {
        "id": "1eac07a4"
      },
      "source": [
        "**Apply the `unique()` method to the `family_status_id` column of the `data` dataframe.**"
      ]
    },
    {
      "cell_type": "code",
      "execution_count": 111,
      "id": "c03fd703",
      "metadata": {
        "id": "c03fd703",
        "outputId": "3afa785f-55ac-41b7-b8f8-218e69748376",
        "colab": {
          "base_uri": "https://localhost:8080/"
        }
      },
      "outputs": [
        {
          "output_type": "execute_result",
          "data": {
            "text/plain": [
              "array([0, 1, 2, 3, 4])"
            ]
          },
          "metadata": {},
          "execution_count": 111
        }
      ],
      "source": [
        "data['family_status_id'].unique()"
      ]
    },
    {
      "cell_type": "markdown",
      "id": "52a68a20",
      "metadata": {
        "id": "52a68a20"
      },
      "source": [
        "We can conclude that the number of unique identifiers in the `family_status_id` column is equal to the number of unique values in the `family_status` column."
      ]
    },
    {
      "cell_type": "markdown",
      "id": "adc3dfb6",
      "metadata": {
        "id": "adc3dfb6"
      },
      "source": [
        "**Now let's check whether the `family_status` and `family_status_id` columns are correctly correlated in all rows of the `data` dataframe. To do this, we use the method to calculate the average value `mean()` for the `family_status_id` column for the `data` dataframe, grouped by the values of the `family_status` column.\n",
        "If the values of these columns are correlated without errors in all rows, we will obtain an integer value as a result of applying the method in each case.**"
      ]
    },
    {
      "cell_type": "code",
      "execution_count": 112,
      "id": "ebdecba8",
      "metadata": {
        "id": "ebdecba8",
        "outputId": "7409f610-6eb9-43d8-981b-d07fa7b7607a",
        "colab": {
          "base_uri": "https://localhost:8080/"
        }
      },
      "outputs": [
        {
          "output_type": "execute_result",
          "data": {
            "text/plain": [
              "family_status\n",
              "в разводе                3.0\n",
              "вдовец / вдова           2.0\n",
              "гражданский брак         1.0\n",
              "женат / замужем          0.0\n",
              "не женат / не замужем    4.0\n",
              "Name: family_status_id, dtype: float64"
            ]
          },
          "metadata": {},
          "execution_count": 112
        }
      ],
      "source": [
        "data.groupby('family_status')['family_status_id'].mean()"
      ]
    },
    {
      "cell_type": "markdown",
      "id": "04db9974",
      "metadata": {
        "id": "04db9974"
      },
      "source": [
        "We conclude that the values of the `family_status` and `family_status_id` columns are correlated correctly."
      ]
    },
    {
      "cell_type": "markdown",
      "id": "b617654f",
      "metadata": {
        "id": "b617654f"
      },
      "source": [
        "**Apply the `unique()` method to the `gender` column of the `data` dataframe.**"
      ]
    },
    {
      "cell_type": "code",
      "execution_count": 113,
      "id": "9de22049",
      "metadata": {
        "id": "9de22049",
        "outputId": "96d1bf94-c9e7-42c7-a0ce-8602686d807f",
        "colab": {
          "base_uri": "https://localhost:8080/"
        }
      },
      "outputs": [
        {
          "output_type": "execute_result",
          "data": {
            "text/plain": [
              "array(['F', 'M', 'XNA'], dtype=object)"
            ]
          },
          "metadata": {},
          "execution_count": 113
        }
      ],
      "source": [
        "data['gender'].unique()"
      ]
    },
    {
      "cell_type": "markdown",
      "id": "81c19afe",
      "metadata": {
        "id": "81c19afe"
      },
      "source": [
        "Everything is fine with the uniqueness of the values; there are no implicit duplicates in this column. But\n",
        "In addition to the standard two types of floors, we see a strange value `'XNA'`"
      ]
    },
    {
      "cell_type": "markdown",
      "id": "8b7c0ec3",
      "metadata": {
        "id": "8b7c0ec3"
      },
      "source": [
        "**Let's count how many rows of the dataframe `data` have the value `'XNA'` in the `gener` column. To do this, we use logical indexing and the `count()` method.**"
      ]
    },
    {
      "cell_type": "code",
      "execution_count": 114,
      "id": "547db1eb",
      "metadata": {
        "id": "547db1eb",
        "outputId": "53222126-0aa4-4918-a382-2ce5dfd1a964",
        "colab": {
          "base_uri": "https://localhost:8080/"
        }
      },
      "outputs": [
        {
          "output_type": "execute_result",
          "data": {
            "text/plain": [
              "1"
            ]
          },
          "metadata": {},
          "execution_count": 114
        }
      ],
      "source": [
        "data[data['gender'] == 'XNA']['gender'].count()"
      ]
    },
    {
      "cell_type": "markdown",
      "id": "b9188204",
      "metadata": {
        "id": "b9188204"
      },
      "source": [
        "There was only one such value in the `data` dataframe. We consider it anomalous and not affecting the analysis, so we will delete it."
      ]
    },
    {
      "cell_type": "markdown",
      "id": "04d0f81b",
      "metadata": {
        "id": "04d0f81b"
      },
      "source": [
        "**Delete the row of the `data` dataframe with the anomalous value `'XNA'` in the `gender` column and reset the indexing in the `data` dataframe using the `reset_index()` method with the `drop=True` parameter, thereby not saving the old one indexing.**"
      ]
    },
    {
      "cell_type": "code",
      "execution_count": 115,
      "id": "ce14fb49",
      "metadata": {
        "id": "ce14fb49"
      },
      "outputs": [],
      "source": [
        "data = data[data['gender'] != 'XNA'].reset_index(drop=True)"
      ]
    },
    {
      "cell_type": "markdown",
      "id": "a456463a",
      "metadata": {
        "id": "a456463a"
      },
      "source": [
        "**Apply the `unique()` method to the `income_type` column of the `data` dataframe.**"
      ]
    },
    {
      "cell_type": "code",
      "execution_count": 116,
      "id": "597a98e0",
      "metadata": {
        "id": "597a98e0",
        "outputId": "acbcc162-140a-4159-9375-d114b23ab2ad",
        "colab": {
          "base_uri": "https://localhost:8080/"
        }
      },
      "outputs": [
        {
          "output_type": "execute_result",
          "data": {
            "text/plain": [
              "array(['сотрудник', 'пенсионер', 'компаньон', 'госслужащий',\n",
              "       'безработный', 'предприниматель', 'студент', 'в декрете'],\n",
              "      dtype=object)"
            ]
          },
          "metadata": {},
          "execution_count": 116
        }
      ],
      "source": [
        "data['income_type'].unique()"
      ]
    },
    {
      "cell_type": "markdown",
      "id": "e9c53f69",
      "metadata": {
        "id": "e9c53f69"
      },
      "source": [
        "Everything is fine with the uniqueness of the values; there are no implicit duplicates in this column."
      ]
    },
    {
      "cell_type": "markdown",
      "id": "68086ea1",
      "metadata": {
        "id": "68086ea1"
      },
      "source": [
        "**Apply the `unique()` method to the `debt` column of the `data` dataframe.**"
      ]
    },
    {
      "cell_type": "code",
      "execution_count": 117,
      "id": "f44598c4",
      "metadata": {
        "id": "f44598c4",
        "outputId": "966ad97d-d727-4dee-9a09-3d6e98513e93",
        "colab": {
          "base_uri": "https://localhost:8080/"
        }
      },
      "outputs": [
        {
          "output_type": "execute_result",
          "data": {
            "text/plain": [
              "array([0, 1])"
            ]
          },
          "metadata": {},
          "execution_count": 117
        }
      ],
      "source": [
        "data['debt'].unique()"
      ]
    },
    {
      "cell_type": "markdown",
      "id": "434938e8",
      "metadata": {
        "id": "434938e8"
      },
      "source": [
        "Everything is fine with the uniqueness of the values; there are no implicit duplicates in this column."
      ]
    },
    {
      "cell_type": "markdown",
      "id": "9db19a5c",
      "metadata": {
        "id": "9db19a5c"
      },
      "source": [
        "**We will categorize the data. Let's create \"directories\" for the columns `education`, `family_status`, `total_income_category`, `purpose_category`, `income_type`. After this, we will resave the filtered dataframe into a new variable.**"
      ]
    },
    {
      "cell_type": "markdown",
      "id": "a2864187",
      "metadata": {
        "id": "a2864187"
      },
      "source": [
        "**We will create a “directory” of education levels and assign each level to its id. Let's do this by grouping the original dataframe `data` by the `education_id` column for the `education` column and the `unique()` method. Let's save the new \"reference\" dataframe under the name `education_dict`**"
      ]
    },
    {
      "cell_type": "code",
      "execution_count": 118,
      "id": "1d711c3e",
      "metadata": {
        "id": "1d711c3e",
        "outputId": "bf3d0e70-4be6-4721-9ebb-fb95127b56bf",
        "colab": {
          "base_uri": "https://localhost:8080/",
          "height": 204
        }
      },
      "outputs": [
        {
          "output_type": "execute_result",
          "data": {
            "text/plain": [
              "             education  education_id\n",
              "0               высшее             0\n",
              "1              среднее             1\n",
              "2  неоконченное высшее             2\n",
              "3            начальное             3\n",
              "4       ученая степень             4"
            ],
            "text/html": [
              "\n",
              "  <div id=\"df-999fcac9-6e4c-486f-bbe7-0f6709e6f7a1\" class=\"colab-df-container\">\n",
              "    <div>\n",
              "<style scoped>\n",
              "    .dataframe tbody tr th:only-of-type {\n",
              "        vertical-align: middle;\n",
              "    }\n",
              "\n",
              "    .dataframe tbody tr th {\n",
              "        vertical-align: top;\n",
              "    }\n",
              "\n",
              "    .dataframe thead th {\n",
              "        text-align: right;\n",
              "    }\n",
              "</style>\n",
              "<table border=\"1\" class=\"dataframe\">\n",
              "  <thead>\n",
              "    <tr style=\"text-align: right;\">\n",
              "      <th></th>\n",
              "      <th>education</th>\n",
              "      <th>education_id</th>\n",
              "    </tr>\n",
              "  </thead>\n",
              "  <tbody>\n",
              "    <tr>\n",
              "      <th>0</th>\n",
              "      <td>высшее</td>\n",
              "      <td>0</td>\n",
              "    </tr>\n",
              "    <tr>\n",
              "      <th>1</th>\n",
              "      <td>среднее</td>\n",
              "      <td>1</td>\n",
              "    </tr>\n",
              "    <tr>\n",
              "      <th>2</th>\n",
              "      <td>неоконченное высшее</td>\n",
              "      <td>2</td>\n",
              "    </tr>\n",
              "    <tr>\n",
              "      <th>3</th>\n",
              "      <td>начальное</td>\n",
              "      <td>3</td>\n",
              "    </tr>\n",
              "    <tr>\n",
              "      <th>4</th>\n",
              "      <td>ученая степень</td>\n",
              "      <td>4</td>\n",
              "    </tr>\n",
              "  </tbody>\n",
              "</table>\n",
              "</div>\n",
              "    <div class=\"colab-df-buttons\">\n",
              "\n",
              "  <div class=\"colab-df-container\">\n",
              "    <button class=\"colab-df-convert\" onclick=\"convertToInteractive('df-999fcac9-6e4c-486f-bbe7-0f6709e6f7a1')\"\n",
              "            title=\"Convert this dataframe to an interactive table.\"\n",
              "            style=\"display:none;\">\n",
              "\n",
              "  <svg xmlns=\"http://www.w3.org/2000/svg\" height=\"24px\" viewBox=\"0 -960 960 960\">\n",
              "    <path d=\"M120-120v-720h720v720H120Zm60-500h600v-160H180v160Zm220 220h160v-160H400v160Zm0 220h160v-160H400v160ZM180-400h160v-160H180v160Zm440 0h160v-160H620v160ZM180-180h160v-160H180v160Zm440 0h160v-160H620v160Z\"/>\n",
              "  </svg>\n",
              "    </button>\n",
              "\n",
              "  <style>\n",
              "    .colab-df-container {\n",
              "      display:flex;\n",
              "      gap: 12px;\n",
              "    }\n",
              "\n",
              "    .colab-df-convert {\n",
              "      background-color: #E8F0FE;\n",
              "      border: none;\n",
              "      border-radius: 50%;\n",
              "      cursor: pointer;\n",
              "      display: none;\n",
              "      fill: #1967D2;\n",
              "      height: 32px;\n",
              "      padding: 0 0 0 0;\n",
              "      width: 32px;\n",
              "    }\n",
              "\n",
              "    .colab-df-convert:hover {\n",
              "      background-color: #E2EBFA;\n",
              "      box-shadow: 0px 1px 2px rgba(60, 64, 67, 0.3), 0px 1px 3px 1px rgba(60, 64, 67, 0.15);\n",
              "      fill: #174EA6;\n",
              "    }\n",
              "\n",
              "    .colab-df-buttons div {\n",
              "      margin-bottom: 4px;\n",
              "    }\n",
              "\n",
              "    [theme=dark] .colab-df-convert {\n",
              "      background-color: #3B4455;\n",
              "      fill: #D2E3FC;\n",
              "    }\n",
              "\n",
              "    [theme=dark] .colab-df-convert:hover {\n",
              "      background-color: #434B5C;\n",
              "      box-shadow: 0px 1px 3px 1px rgba(0, 0, 0, 0.15);\n",
              "      filter: drop-shadow(0px 1px 2px rgba(0, 0, 0, 0.3));\n",
              "      fill: #FFFFFF;\n",
              "    }\n",
              "  </style>\n",
              "\n",
              "    <script>\n",
              "      const buttonEl =\n",
              "        document.querySelector('#df-999fcac9-6e4c-486f-bbe7-0f6709e6f7a1 button.colab-df-convert');\n",
              "      buttonEl.style.display =\n",
              "        google.colab.kernel.accessAllowed ? 'block' : 'none';\n",
              "\n",
              "      async function convertToInteractive(key) {\n",
              "        const element = document.querySelector('#df-999fcac9-6e4c-486f-bbe7-0f6709e6f7a1');\n",
              "        const dataTable =\n",
              "          await google.colab.kernel.invokeFunction('convertToInteractive',\n",
              "                                                    [key], {});\n",
              "        if (!dataTable) return;\n",
              "\n",
              "        const docLinkHtml = 'Like what you see? Visit the ' +\n",
              "          '<a target=\"_blank\" href=https://colab.research.google.com/notebooks/data_table.ipynb>data table notebook</a>'\n",
              "          + ' to learn more about interactive tables.';\n",
              "        element.innerHTML = '';\n",
              "        dataTable['output_type'] = 'display_data';\n",
              "        await google.colab.output.renderOutput(dataTable, element);\n",
              "        const docLink = document.createElement('div');\n",
              "        docLink.innerHTML = docLinkHtml;\n",
              "        element.appendChild(docLink);\n",
              "      }\n",
              "    </script>\n",
              "  </div>\n",
              "\n",
              "\n",
              "<div id=\"df-7305585e-97c2-4553-9c9a-f26dd9c94012\">\n",
              "  <button class=\"colab-df-quickchart\" onclick=\"quickchart('df-7305585e-97c2-4553-9c9a-f26dd9c94012')\"\n",
              "            title=\"Suggest charts.\"\n",
              "            style=\"display:none;\">\n",
              "\n",
              "<svg xmlns=\"http://www.w3.org/2000/svg\" height=\"24px\"viewBox=\"0 0 24 24\"\n",
              "     width=\"24px\">\n",
              "    <g>\n",
              "        <path d=\"M19 3H5c-1.1 0-2 .9-2 2v14c0 1.1.9 2 2 2h14c1.1 0 2-.9 2-2V5c0-1.1-.9-2-2-2zM9 17H7v-7h2v7zm4 0h-2V7h2v10zm4 0h-2v-4h2v4z\"/>\n",
              "    </g>\n",
              "</svg>\n",
              "  </button>\n",
              "\n",
              "<style>\n",
              "  .colab-df-quickchart {\n",
              "      --bg-color: #E8F0FE;\n",
              "      --fill-color: #1967D2;\n",
              "      --hover-bg-color: #E2EBFA;\n",
              "      --hover-fill-color: #174EA6;\n",
              "      --disabled-fill-color: #AAA;\n",
              "      --disabled-bg-color: #DDD;\n",
              "  }\n",
              "\n",
              "  [theme=dark] .colab-df-quickchart {\n",
              "      --bg-color: #3B4455;\n",
              "      --fill-color: #D2E3FC;\n",
              "      --hover-bg-color: #434B5C;\n",
              "      --hover-fill-color: #FFFFFF;\n",
              "      --disabled-bg-color: #3B4455;\n",
              "      --disabled-fill-color: #666;\n",
              "  }\n",
              "\n",
              "  .colab-df-quickchart {\n",
              "    background-color: var(--bg-color);\n",
              "    border: none;\n",
              "    border-radius: 50%;\n",
              "    cursor: pointer;\n",
              "    display: none;\n",
              "    fill: var(--fill-color);\n",
              "    height: 32px;\n",
              "    padding: 0;\n",
              "    width: 32px;\n",
              "  }\n",
              "\n",
              "  .colab-df-quickchart:hover {\n",
              "    background-color: var(--hover-bg-color);\n",
              "    box-shadow: 0 1px 2px rgba(60, 64, 67, 0.3), 0 1px 3px 1px rgba(60, 64, 67, 0.15);\n",
              "    fill: var(--button-hover-fill-color);\n",
              "  }\n",
              "\n",
              "  .colab-df-quickchart-complete:disabled,\n",
              "  .colab-df-quickchart-complete:disabled:hover {\n",
              "    background-color: var(--disabled-bg-color);\n",
              "    fill: var(--disabled-fill-color);\n",
              "    box-shadow: none;\n",
              "  }\n",
              "\n",
              "  .colab-df-spinner {\n",
              "    border: 2px solid var(--fill-color);\n",
              "    border-color: transparent;\n",
              "    border-bottom-color: var(--fill-color);\n",
              "    animation:\n",
              "      spin 1s steps(1) infinite;\n",
              "  }\n",
              "\n",
              "  @keyframes spin {\n",
              "    0% {\n",
              "      border-color: transparent;\n",
              "      border-bottom-color: var(--fill-color);\n",
              "      border-left-color: var(--fill-color);\n",
              "    }\n",
              "    20% {\n",
              "      border-color: transparent;\n",
              "      border-left-color: var(--fill-color);\n",
              "      border-top-color: var(--fill-color);\n",
              "    }\n",
              "    30% {\n",
              "      border-color: transparent;\n",
              "      border-left-color: var(--fill-color);\n",
              "      border-top-color: var(--fill-color);\n",
              "      border-right-color: var(--fill-color);\n",
              "    }\n",
              "    40% {\n",
              "      border-color: transparent;\n",
              "      border-right-color: var(--fill-color);\n",
              "      border-top-color: var(--fill-color);\n",
              "    }\n",
              "    60% {\n",
              "      border-color: transparent;\n",
              "      border-right-color: var(--fill-color);\n",
              "    }\n",
              "    80% {\n",
              "      border-color: transparent;\n",
              "      border-right-color: var(--fill-color);\n",
              "      border-bottom-color: var(--fill-color);\n",
              "    }\n",
              "    90% {\n",
              "      border-color: transparent;\n",
              "      border-bottom-color: var(--fill-color);\n",
              "    }\n",
              "  }\n",
              "</style>\n",
              "\n",
              "  <script>\n",
              "    async function quickchart(key) {\n",
              "      const quickchartButtonEl =\n",
              "        document.querySelector('#' + key + ' button');\n",
              "      quickchartButtonEl.disabled = true;  // To prevent multiple clicks.\n",
              "      quickchartButtonEl.classList.add('colab-df-spinner');\n",
              "      try {\n",
              "        const charts = await google.colab.kernel.invokeFunction(\n",
              "            'suggestCharts', [key], {});\n",
              "      } catch (error) {\n",
              "        console.error('Error during call to suggestCharts:', error);\n",
              "      }\n",
              "      quickchartButtonEl.classList.remove('colab-df-spinner');\n",
              "      quickchartButtonEl.classList.add('colab-df-quickchart-complete');\n",
              "    }\n",
              "    (() => {\n",
              "      let quickchartButtonEl =\n",
              "        document.querySelector('#df-7305585e-97c2-4553-9c9a-f26dd9c94012 button');\n",
              "      quickchartButtonEl.style.display =\n",
              "        google.colab.kernel.accessAllowed ? 'block' : 'none';\n",
              "    })();\n",
              "  </script>\n",
              "</div>\n",
              "    </div>\n",
              "  </div>\n"
            ]
          },
          "metadata": {},
          "execution_count": 118
        }
      ],
      "source": [
        "education_dict = data[['education','education_id']].drop_duplicates().reset_index(drop=True)\n",
        "education_dict"
      ]
    },
    {
      "cell_type": "markdown",
      "id": "5d34cf65",
      "metadata": {
        "id": "5d34cf65"
      },
      "source": [
        "**Let's do similar actions for the `family_status_id` and `family_status` columns. Let's save the new \"reference\" dataframe under the name `family_status_dict`**"
      ]
    },
    {
      "cell_type": "code",
      "execution_count": 119,
      "id": "8b1c39b6",
      "metadata": {
        "id": "8b1c39b6",
        "outputId": "9957eace-3a6f-4a76-8415-413a9aefb6a8",
        "colab": {
          "base_uri": "https://localhost:8080/",
          "height": 204
        }
      },
      "outputs": [
        {
          "output_type": "execute_result",
          "data": {
            "text/plain": [
              "   family_status_id          family_status\n",
              "0                 0        женат / замужем\n",
              "1                 1       гражданский брак\n",
              "2                 2         вдовец / вдова\n",
              "3                 3              в разводе\n",
              "4                 4  не женат / не замужем"
            ],
            "text/html": [
              "\n",
              "  <div id=\"df-4a37a01e-0000-450d-91b6-e27e6d8e53c5\" class=\"colab-df-container\">\n",
              "    <div>\n",
              "<style scoped>\n",
              "    .dataframe tbody tr th:only-of-type {\n",
              "        vertical-align: middle;\n",
              "    }\n",
              "\n",
              "    .dataframe tbody tr th {\n",
              "        vertical-align: top;\n",
              "    }\n",
              "\n",
              "    .dataframe thead th {\n",
              "        text-align: right;\n",
              "    }\n",
              "</style>\n",
              "<table border=\"1\" class=\"dataframe\">\n",
              "  <thead>\n",
              "    <tr style=\"text-align: right;\">\n",
              "      <th></th>\n",
              "      <th>family_status_id</th>\n",
              "      <th>family_status</th>\n",
              "    </tr>\n",
              "  </thead>\n",
              "  <tbody>\n",
              "    <tr>\n",
              "      <th>0</th>\n",
              "      <td>0</td>\n",
              "      <td>женат / замужем</td>\n",
              "    </tr>\n",
              "    <tr>\n",
              "      <th>1</th>\n",
              "      <td>1</td>\n",
              "      <td>гражданский брак</td>\n",
              "    </tr>\n",
              "    <tr>\n",
              "      <th>2</th>\n",
              "      <td>2</td>\n",
              "      <td>вдовец / вдова</td>\n",
              "    </tr>\n",
              "    <tr>\n",
              "      <th>3</th>\n",
              "      <td>3</td>\n",
              "      <td>в разводе</td>\n",
              "    </tr>\n",
              "    <tr>\n",
              "      <th>4</th>\n",
              "      <td>4</td>\n",
              "      <td>не женат / не замужем</td>\n",
              "    </tr>\n",
              "  </tbody>\n",
              "</table>\n",
              "</div>\n",
              "    <div class=\"colab-df-buttons\">\n",
              "\n",
              "  <div class=\"colab-df-container\">\n",
              "    <button class=\"colab-df-convert\" onclick=\"convertToInteractive('df-4a37a01e-0000-450d-91b6-e27e6d8e53c5')\"\n",
              "            title=\"Convert this dataframe to an interactive table.\"\n",
              "            style=\"display:none;\">\n",
              "\n",
              "  <svg xmlns=\"http://www.w3.org/2000/svg\" height=\"24px\" viewBox=\"0 -960 960 960\">\n",
              "    <path d=\"M120-120v-720h720v720H120Zm60-500h600v-160H180v160Zm220 220h160v-160H400v160Zm0 220h160v-160H400v160ZM180-400h160v-160H180v160Zm440 0h160v-160H620v160ZM180-180h160v-160H180v160Zm440 0h160v-160H620v160Z\"/>\n",
              "  </svg>\n",
              "    </button>\n",
              "\n",
              "  <style>\n",
              "    .colab-df-container {\n",
              "      display:flex;\n",
              "      gap: 12px;\n",
              "    }\n",
              "\n",
              "    .colab-df-convert {\n",
              "      background-color: #E8F0FE;\n",
              "      border: none;\n",
              "      border-radius: 50%;\n",
              "      cursor: pointer;\n",
              "      display: none;\n",
              "      fill: #1967D2;\n",
              "      height: 32px;\n",
              "      padding: 0 0 0 0;\n",
              "      width: 32px;\n",
              "    }\n",
              "\n",
              "    .colab-df-convert:hover {\n",
              "      background-color: #E2EBFA;\n",
              "      box-shadow: 0px 1px 2px rgba(60, 64, 67, 0.3), 0px 1px 3px 1px rgba(60, 64, 67, 0.15);\n",
              "      fill: #174EA6;\n",
              "    }\n",
              "\n",
              "    .colab-df-buttons div {\n",
              "      margin-bottom: 4px;\n",
              "    }\n",
              "\n",
              "    [theme=dark] .colab-df-convert {\n",
              "      background-color: #3B4455;\n",
              "      fill: #D2E3FC;\n",
              "    }\n",
              "\n",
              "    [theme=dark] .colab-df-convert:hover {\n",
              "      background-color: #434B5C;\n",
              "      box-shadow: 0px 1px 3px 1px rgba(0, 0, 0, 0.15);\n",
              "      filter: drop-shadow(0px 1px 2px rgba(0, 0, 0, 0.3));\n",
              "      fill: #FFFFFF;\n",
              "    }\n",
              "  </style>\n",
              "\n",
              "    <script>\n",
              "      const buttonEl =\n",
              "        document.querySelector('#df-4a37a01e-0000-450d-91b6-e27e6d8e53c5 button.colab-df-convert');\n",
              "      buttonEl.style.display =\n",
              "        google.colab.kernel.accessAllowed ? 'block' : 'none';\n",
              "\n",
              "      async function convertToInteractive(key) {\n",
              "        const element = document.querySelector('#df-4a37a01e-0000-450d-91b6-e27e6d8e53c5');\n",
              "        const dataTable =\n",
              "          await google.colab.kernel.invokeFunction('convertToInteractive',\n",
              "                                                    [key], {});\n",
              "        if (!dataTable) return;\n",
              "\n",
              "        const docLinkHtml = 'Like what you see? Visit the ' +\n",
              "          '<a target=\"_blank\" href=https://colab.research.google.com/notebooks/data_table.ipynb>data table notebook</a>'\n",
              "          + ' to learn more about interactive tables.';\n",
              "        element.innerHTML = '';\n",
              "        dataTable['output_type'] = 'display_data';\n",
              "        await google.colab.output.renderOutput(dataTable, element);\n",
              "        const docLink = document.createElement('div');\n",
              "        docLink.innerHTML = docLinkHtml;\n",
              "        element.appendChild(docLink);\n",
              "      }\n",
              "    </script>\n",
              "  </div>\n",
              "\n",
              "\n",
              "<div id=\"df-0fc552be-c359-461c-a424-abe7e500ea18\">\n",
              "  <button class=\"colab-df-quickchart\" onclick=\"quickchart('df-0fc552be-c359-461c-a424-abe7e500ea18')\"\n",
              "            title=\"Suggest charts.\"\n",
              "            style=\"display:none;\">\n",
              "\n",
              "<svg xmlns=\"http://www.w3.org/2000/svg\" height=\"24px\"viewBox=\"0 0 24 24\"\n",
              "     width=\"24px\">\n",
              "    <g>\n",
              "        <path d=\"M19 3H5c-1.1 0-2 .9-2 2v14c0 1.1.9 2 2 2h14c1.1 0 2-.9 2-2V5c0-1.1-.9-2-2-2zM9 17H7v-7h2v7zm4 0h-2V7h2v10zm4 0h-2v-4h2v4z\"/>\n",
              "    </g>\n",
              "</svg>\n",
              "  </button>\n",
              "\n",
              "<style>\n",
              "  .colab-df-quickchart {\n",
              "      --bg-color: #E8F0FE;\n",
              "      --fill-color: #1967D2;\n",
              "      --hover-bg-color: #E2EBFA;\n",
              "      --hover-fill-color: #174EA6;\n",
              "      --disabled-fill-color: #AAA;\n",
              "      --disabled-bg-color: #DDD;\n",
              "  }\n",
              "\n",
              "  [theme=dark] .colab-df-quickchart {\n",
              "      --bg-color: #3B4455;\n",
              "      --fill-color: #D2E3FC;\n",
              "      --hover-bg-color: #434B5C;\n",
              "      --hover-fill-color: #FFFFFF;\n",
              "      --disabled-bg-color: #3B4455;\n",
              "      --disabled-fill-color: #666;\n",
              "  }\n",
              "\n",
              "  .colab-df-quickchart {\n",
              "    background-color: var(--bg-color);\n",
              "    border: none;\n",
              "    border-radius: 50%;\n",
              "    cursor: pointer;\n",
              "    display: none;\n",
              "    fill: var(--fill-color);\n",
              "    height: 32px;\n",
              "    padding: 0;\n",
              "    width: 32px;\n",
              "  }\n",
              "\n",
              "  .colab-df-quickchart:hover {\n",
              "    background-color: var(--hover-bg-color);\n",
              "    box-shadow: 0 1px 2px rgba(60, 64, 67, 0.3), 0 1px 3px 1px rgba(60, 64, 67, 0.15);\n",
              "    fill: var(--button-hover-fill-color);\n",
              "  }\n",
              "\n",
              "  .colab-df-quickchart-complete:disabled,\n",
              "  .colab-df-quickchart-complete:disabled:hover {\n",
              "    background-color: var(--disabled-bg-color);\n",
              "    fill: var(--disabled-fill-color);\n",
              "    box-shadow: none;\n",
              "  }\n",
              "\n",
              "  .colab-df-spinner {\n",
              "    border: 2px solid var(--fill-color);\n",
              "    border-color: transparent;\n",
              "    border-bottom-color: var(--fill-color);\n",
              "    animation:\n",
              "      spin 1s steps(1) infinite;\n",
              "  }\n",
              "\n",
              "  @keyframes spin {\n",
              "    0% {\n",
              "      border-color: transparent;\n",
              "      border-bottom-color: var(--fill-color);\n",
              "      border-left-color: var(--fill-color);\n",
              "    }\n",
              "    20% {\n",
              "      border-color: transparent;\n",
              "      border-left-color: var(--fill-color);\n",
              "      border-top-color: var(--fill-color);\n",
              "    }\n",
              "    30% {\n",
              "      border-color: transparent;\n",
              "      border-left-color: var(--fill-color);\n",
              "      border-top-color: var(--fill-color);\n",
              "      border-right-color: var(--fill-color);\n",
              "    }\n",
              "    40% {\n",
              "      border-color: transparent;\n",
              "      border-right-color: var(--fill-color);\n",
              "      border-top-color: var(--fill-color);\n",
              "    }\n",
              "    60% {\n",
              "      border-color: transparent;\n",
              "      border-right-color: var(--fill-color);\n",
              "    }\n",
              "    80% {\n",
              "      border-color: transparent;\n",
              "      border-right-color: var(--fill-color);\n",
              "      border-bottom-color: var(--fill-color);\n",
              "    }\n",
              "    90% {\n",
              "      border-color: transparent;\n",
              "      border-bottom-color: var(--fill-color);\n",
              "    }\n",
              "  }\n",
              "</style>\n",
              "\n",
              "  <script>\n",
              "    async function quickchart(key) {\n",
              "      const quickchartButtonEl =\n",
              "        document.querySelector('#' + key + ' button');\n",
              "      quickchartButtonEl.disabled = true;  // To prevent multiple clicks.\n",
              "      quickchartButtonEl.classList.add('colab-df-spinner');\n",
              "      try {\n",
              "        const charts = await google.colab.kernel.invokeFunction(\n",
              "            'suggestCharts', [key], {});\n",
              "      } catch (error) {\n",
              "        console.error('Error during call to suggestCharts:', error);\n",
              "      }\n",
              "      quickchartButtonEl.classList.remove('colab-df-spinner');\n",
              "      quickchartButtonEl.classList.add('colab-df-quickchart-complete');\n",
              "    }\n",
              "    (() => {\n",
              "      let quickchartButtonEl =\n",
              "        document.querySelector('#df-0fc552be-c359-461c-a424-abe7e500ea18 button');\n",
              "      quickchartButtonEl.style.display =\n",
              "        google.colab.kernel.accessAllowed ? 'block' : 'none';\n",
              "    })();\n",
              "  </script>\n",
              "</div>\n",
              "    </div>\n",
              "  </div>\n"
            ]
          },
          "metadata": {},
          "execution_count": 119
        }
      ],
      "source": [
        "family_status_dict = data[['family_status_id','family_status']].drop_duplicates().reset_index(drop=True)\n",
        "family_status_dict"
      ]
    },
    {
      "cell_type": "markdown",
      "id": "d7568161",
      "metadata": {
        "id": "d7568161"
      },
      "source": [
        "**Let's create a new “reference” dataframe under the name `total_income_dict` for the ratio of categories of total income and the range of income for each of these categories in accordance with how it was written in the function for assigning these categories in [clause 2.6.1](#item_2_6_1 ).**"
      ]
    },
    {
      "cell_type": "code",
      "execution_count": 120,
      "id": "fa29f371",
      "metadata": {
        "id": "fa29f371",
        "outputId": "ed839d91-1884-461a-fa0e-66bfded9a0ba",
        "colab": {
          "base_uri": "https://localhost:8080/",
          "height": 204
        }
      },
      "outputs": [
        {
          "output_type": "execute_result",
          "data": {
            "text/plain": [
              "  total_income_category      min        max\n",
              "0                     A  1000001        inf\n",
              "1                     B   200001  1000000.0\n",
              "2                     C    50001   200000.0\n",
              "3                     D    30001    50000.0\n",
              "4                     E        0    30000.0"
            ],
            "text/html": [
              "\n",
              "  <div id=\"df-90195a22-bb0f-4dc3-9a48-61f586557b85\" class=\"colab-df-container\">\n",
              "    <div>\n",
              "<style scoped>\n",
              "    .dataframe tbody tr th:only-of-type {\n",
              "        vertical-align: middle;\n",
              "    }\n",
              "\n",
              "    .dataframe tbody tr th {\n",
              "        vertical-align: top;\n",
              "    }\n",
              "\n",
              "    .dataframe thead th {\n",
              "        text-align: right;\n",
              "    }\n",
              "</style>\n",
              "<table border=\"1\" class=\"dataframe\">\n",
              "  <thead>\n",
              "    <tr style=\"text-align: right;\">\n",
              "      <th></th>\n",
              "      <th>total_income_category</th>\n",
              "      <th>min</th>\n",
              "      <th>max</th>\n",
              "    </tr>\n",
              "  </thead>\n",
              "  <tbody>\n",
              "    <tr>\n",
              "      <th>0</th>\n",
              "      <td>A</td>\n",
              "      <td>1000001</td>\n",
              "      <td>inf</td>\n",
              "    </tr>\n",
              "    <tr>\n",
              "      <th>1</th>\n",
              "      <td>B</td>\n",
              "      <td>200001</td>\n",
              "      <td>1000000.0</td>\n",
              "    </tr>\n",
              "    <tr>\n",
              "      <th>2</th>\n",
              "      <td>C</td>\n",
              "      <td>50001</td>\n",
              "      <td>200000.0</td>\n",
              "    </tr>\n",
              "    <tr>\n",
              "      <th>3</th>\n",
              "      <td>D</td>\n",
              "      <td>30001</td>\n",
              "      <td>50000.0</td>\n",
              "    </tr>\n",
              "    <tr>\n",
              "      <th>4</th>\n",
              "      <td>E</td>\n",
              "      <td>0</td>\n",
              "      <td>30000.0</td>\n",
              "    </tr>\n",
              "  </tbody>\n",
              "</table>\n",
              "</div>\n",
              "    <div class=\"colab-df-buttons\">\n",
              "\n",
              "  <div class=\"colab-df-container\">\n",
              "    <button class=\"colab-df-convert\" onclick=\"convertToInteractive('df-90195a22-bb0f-4dc3-9a48-61f586557b85')\"\n",
              "            title=\"Convert this dataframe to an interactive table.\"\n",
              "            style=\"display:none;\">\n",
              "\n",
              "  <svg xmlns=\"http://www.w3.org/2000/svg\" height=\"24px\" viewBox=\"0 -960 960 960\">\n",
              "    <path d=\"M120-120v-720h720v720H120Zm60-500h600v-160H180v160Zm220 220h160v-160H400v160Zm0 220h160v-160H400v160ZM180-400h160v-160H180v160Zm440 0h160v-160H620v160ZM180-180h160v-160H180v160Zm440 0h160v-160H620v160Z\"/>\n",
              "  </svg>\n",
              "    </button>\n",
              "\n",
              "  <style>\n",
              "    .colab-df-container {\n",
              "      display:flex;\n",
              "      gap: 12px;\n",
              "    }\n",
              "\n",
              "    .colab-df-convert {\n",
              "      background-color: #E8F0FE;\n",
              "      border: none;\n",
              "      border-radius: 50%;\n",
              "      cursor: pointer;\n",
              "      display: none;\n",
              "      fill: #1967D2;\n",
              "      height: 32px;\n",
              "      padding: 0 0 0 0;\n",
              "      width: 32px;\n",
              "    }\n",
              "\n",
              "    .colab-df-convert:hover {\n",
              "      background-color: #E2EBFA;\n",
              "      box-shadow: 0px 1px 2px rgba(60, 64, 67, 0.3), 0px 1px 3px 1px rgba(60, 64, 67, 0.15);\n",
              "      fill: #174EA6;\n",
              "    }\n",
              "\n",
              "    .colab-df-buttons div {\n",
              "      margin-bottom: 4px;\n",
              "    }\n",
              "\n",
              "    [theme=dark] .colab-df-convert {\n",
              "      background-color: #3B4455;\n",
              "      fill: #D2E3FC;\n",
              "    }\n",
              "\n",
              "    [theme=dark] .colab-df-convert:hover {\n",
              "      background-color: #434B5C;\n",
              "      box-shadow: 0px 1px 3px 1px rgba(0, 0, 0, 0.15);\n",
              "      filter: drop-shadow(0px 1px 2px rgba(0, 0, 0, 0.3));\n",
              "      fill: #FFFFFF;\n",
              "    }\n",
              "  </style>\n",
              "\n",
              "    <script>\n",
              "      const buttonEl =\n",
              "        document.querySelector('#df-90195a22-bb0f-4dc3-9a48-61f586557b85 button.colab-df-convert');\n",
              "      buttonEl.style.display =\n",
              "        google.colab.kernel.accessAllowed ? 'block' : 'none';\n",
              "\n",
              "      async function convertToInteractive(key) {\n",
              "        const element = document.querySelector('#df-90195a22-bb0f-4dc3-9a48-61f586557b85');\n",
              "        const dataTable =\n",
              "          await google.colab.kernel.invokeFunction('convertToInteractive',\n",
              "                                                    [key], {});\n",
              "        if (!dataTable) return;\n",
              "\n",
              "        const docLinkHtml = 'Like what you see? Visit the ' +\n",
              "          '<a target=\"_blank\" href=https://colab.research.google.com/notebooks/data_table.ipynb>data table notebook</a>'\n",
              "          + ' to learn more about interactive tables.';\n",
              "        element.innerHTML = '';\n",
              "        dataTable['output_type'] = 'display_data';\n",
              "        await google.colab.output.renderOutput(dataTable, element);\n",
              "        const docLink = document.createElement('div');\n",
              "        docLink.innerHTML = docLinkHtml;\n",
              "        element.appendChild(docLink);\n",
              "      }\n",
              "    </script>\n",
              "  </div>\n",
              "\n",
              "\n",
              "<div id=\"df-28a80e2e-ab8a-4b7b-a27a-cc03e59312d5\">\n",
              "  <button class=\"colab-df-quickchart\" onclick=\"quickchart('df-28a80e2e-ab8a-4b7b-a27a-cc03e59312d5')\"\n",
              "            title=\"Suggest charts.\"\n",
              "            style=\"display:none;\">\n",
              "\n",
              "<svg xmlns=\"http://www.w3.org/2000/svg\" height=\"24px\"viewBox=\"0 0 24 24\"\n",
              "     width=\"24px\">\n",
              "    <g>\n",
              "        <path d=\"M19 3H5c-1.1 0-2 .9-2 2v14c0 1.1.9 2 2 2h14c1.1 0 2-.9 2-2V5c0-1.1-.9-2-2-2zM9 17H7v-7h2v7zm4 0h-2V7h2v10zm4 0h-2v-4h2v4z\"/>\n",
              "    </g>\n",
              "</svg>\n",
              "  </button>\n",
              "\n",
              "<style>\n",
              "  .colab-df-quickchart {\n",
              "      --bg-color: #E8F0FE;\n",
              "      --fill-color: #1967D2;\n",
              "      --hover-bg-color: #E2EBFA;\n",
              "      --hover-fill-color: #174EA6;\n",
              "      --disabled-fill-color: #AAA;\n",
              "      --disabled-bg-color: #DDD;\n",
              "  }\n",
              "\n",
              "  [theme=dark] .colab-df-quickchart {\n",
              "      --bg-color: #3B4455;\n",
              "      --fill-color: #D2E3FC;\n",
              "      --hover-bg-color: #434B5C;\n",
              "      --hover-fill-color: #FFFFFF;\n",
              "      --disabled-bg-color: #3B4455;\n",
              "      --disabled-fill-color: #666;\n",
              "  }\n",
              "\n",
              "  .colab-df-quickchart {\n",
              "    background-color: var(--bg-color);\n",
              "    border: none;\n",
              "    border-radius: 50%;\n",
              "    cursor: pointer;\n",
              "    display: none;\n",
              "    fill: var(--fill-color);\n",
              "    height: 32px;\n",
              "    padding: 0;\n",
              "    width: 32px;\n",
              "  }\n",
              "\n",
              "  .colab-df-quickchart:hover {\n",
              "    background-color: var(--hover-bg-color);\n",
              "    box-shadow: 0 1px 2px rgba(60, 64, 67, 0.3), 0 1px 3px 1px rgba(60, 64, 67, 0.15);\n",
              "    fill: var(--button-hover-fill-color);\n",
              "  }\n",
              "\n",
              "  .colab-df-quickchart-complete:disabled,\n",
              "  .colab-df-quickchart-complete:disabled:hover {\n",
              "    background-color: var(--disabled-bg-color);\n",
              "    fill: var(--disabled-fill-color);\n",
              "    box-shadow: none;\n",
              "  }\n",
              "\n",
              "  .colab-df-spinner {\n",
              "    border: 2px solid var(--fill-color);\n",
              "    border-color: transparent;\n",
              "    border-bottom-color: var(--fill-color);\n",
              "    animation:\n",
              "      spin 1s steps(1) infinite;\n",
              "  }\n",
              "\n",
              "  @keyframes spin {\n",
              "    0% {\n",
              "      border-color: transparent;\n",
              "      border-bottom-color: var(--fill-color);\n",
              "      border-left-color: var(--fill-color);\n",
              "    }\n",
              "    20% {\n",
              "      border-color: transparent;\n",
              "      border-left-color: var(--fill-color);\n",
              "      border-top-color: var(--fill-color);\n",
              "    }\n",
              "    30% {\n",
              "      border-color: transparent;\n",
              "      border-left-color: var(--fill-color);\n",
              "      border-top-color: var(--fill-color);\n",
              "      border-right-color: var(--fill-color);\n",
              "    }\n",
              "    40% {\n",
              "      border-color: transparent;\n",
              "      border-right-color: var(--fill-color);\n",
              "      border-top-color: var(--fill-color);\n",
              "    }\n",
              "    60% {\n",
              "      border-color: transparent;\n",
              "      border-right-color: var(--fill-color);\n",
              "    }\n",
              "    80% {\n",
              "      border-color: transparent;\n",
              "      border-right-color: var(--fill-color);\n",
              "      border-bottom-color: var(--fill-color);\n",
              "    }\n",
              "    90% {\n",
              "      border-color: transparent;\n",
              "      border-bottom-color: var(--fill-color);\n",
              "    }\n",
              "  }\n",
              "</style>\n",
              "\n",
              "  <script>\n",
              "    async function quickchart(key) {\n",
              "      const quickchartButtonEl =\n",
              "        document.querySelector('#' + key + ' button');\n",
              "      quickchartButtonEl.disabled = true;  // To prevent multiple clicks.\n",
              "      quickchartButtonEl.classList.add('colab-df-spinner');\n",
              "      try {\n",
              "        const charts = await google.colab.kernel.invokeFunction(\n",
              "            'suggestCharts', [key], {});\n",
              "      } catch (error) {\n",
              "        console.error('Error during call to suggestCharts:', error);\n",
              "      }\n",
              "      quickchartButtonEl.classList.remove('colab-df-spinner');\n",
              "      quickchartButtonEl.classList.add('colab-df-quickchart-complete');\n",
              "    }\n",
              "    (() => {\n",
              "      let quickchartButtonEl =\n",
              "        document.querySelector('#df-28a80e2e-ab8a-4b7b-a27a-cc03e59312d5 button');\n",
              "      quickchartButtonEl.style.display =\n",
              "        google.colab.kernel.accessAllowed ? 'block' : 'none';\n",
              "    })();\n",
              "  </script>\n",
              "</div>\n",
              "    </div>\n",
              "  </div>\n"
            ]
          },
          "metadata": {},
          "execution_count": 120
        }
      ],
      "source": [
        "total_income_dict = pd.DataFrame(\n",
        "                                 {'total_income_category': ['A', 'B', 'C', 'D', 'E'],\n",
        "                                  'min': [1000001, 200001, 50001, 30001, 0],\n",
        "                                  'max': [float('inf'), 1000000, 200000, 50000, 30000]}\n",
        "                                 )\n",
        "total_income_dict"
      ]
    },
    {
      "cell_type": "markdown",
      "id": "2c837c69",
      "metadata": {
        "id": "2c837c69"
      },
      "source": [
        "**Let's create a function named `purpose_id()`, which will help, based on the data from the `purpose_category` column, to form a new column `purpose_category_id`, which will include identifiers with the following correspondence:**\n",
        "\n",
        "- `0` - `'operations with the car'`,\n",
        "- `1` - ``real estate transactions'`,\n",
        "- `2` - ``wedding'`,\n",
        "- `3` - ``getting an education'`.\n",
        "\n",
        "\n",
        "**Using this function and the `apply()` method we will create a new column in the dataframe.**"
      ]
    },
    {
      "cell_type": "code",
      "execution_count": 121,
      "id": "dbd7ef9b",
      "metadata": {
        "id": "dbd7ef9b"
      },
      "outputs": [],
      "source": [
        "def purpose_id(purpose_category):\n",
        "    try:\n",
        "        if purpose_category == 'операции с автомобилем':\n",
        "            return 0\n",
        "        elif purpose_category == 'операции с недвижимостью':\n",
        "            return 1\n",
        "        elif purpose_category == 'проведение свадьбы':\n",
        "            return 2\n",
        "        elif purpose_category == 'получение образования':\n",
        "            return 3\n",
        "        else:\n",
        "            return -1\n",
        "    except:\n",
        "        return -2\n",
        "data['purpose_category_id'] = data['purpose_category'].apply(purpose_id)"
      ]
    },
    {
      "cell_type": "markdown",
      "id": "9f70b728",
      "metadata": {
        "id": "9f70b728"
      },
      "source": [
        "**Let's create a new “reference” dataframe called `purpose_dict` for the relationship between the identifier and the corresponding loan purpose category. Let's do this by grouping the original dataframe `data` by the `purpose_category_id` column for the `purpose_category` column and the `unique()` method.**"
      ]
    },
    {
      "cell_type": "code",
      "execution_count": 122,
      "id": "8c2d9c89",
      "metadata": {
        "id": "8c2d9c89",
        "outputId": "3ffc2439-ea10-40cf-8ef1-c5a5b2a831ba",
        "colab": {
          "base_uri": "https://localhost:8080/",
          "height": 173
        }
      },
      "outputs": [
        {
          "output_type": "execute_result",
          "data": {
            "text/plain": [
              "   purpose_category_id          purpose_category\n",
              "0                    1  операции с недвижимостью\n",
              "1                    0    операции с автомобилем\n",
              "2                    3     получение образования\n",
              "3                    2        проведение свадьбы"
            ],
            "text/html": [
              "\n",
              "  <div id=\"df-0e7c5a5e-b38c-47c3-b756-0720c7fd038e\" class=\"colab-df-container\">\n",
              "    <div>\n",
              "<style scoped>\n",
              "    .dataframe tbody tr th:only-of-type {\n",
              "        vertical-align: middle;\n",
              "    }\n",
              "\n",
              "    .dataframe tbody tr th {\n",
              "        vertical-align: top;\n",
              "    }\n",
              "\n",
              "    .dataframe thead th {\n",
              "        text-align: right;\n",
              "    }\n",
              "</style>\n",
              "<table border=\"1\" class=\"dataframe\">\n",
              "  <thead>\n",
              "    <tr style=\"text-align: right;\">\n",
              "      <th></th>\n",
              "      <th>purpose_category_id</th>\n",
              "      <th>purpose_category</th>\n",
              "    </tr>\n",
              "  </thead>\n",
              "  <tbody>\n",
              "    <tr>\n",
              "      <th>0</th>\n",
              "      <td>1</td>\n",
              "      <td>операции с недвижимостью</td>\n",
              "    </tr>\n",
              "    <tr>\n",
              "      <th>1</th>\n",
              "      <td>0</td>\n",
              "      <td>операции с автомобилем</td>\n",
              "    </tr>\n",
              "    <tr>\n",
              "      <th>2</th>\n",
              "      <td>3</td>\n",
              "      <td>получение образования</td>\n",
              "    </tr>\n",
              "    <tr>\n",
              "      <th>3</th>\n",
              "      <td>2</td>\n",
              "      <td>проведение свадьбы</td>\n",
              "    </tr>\n",
              "  </tbody>\n",
              "</table>\n",
              "</div>\n",
              "    <div class=\"colab-df-buttons\">\n",
              "\n",
              "  <div class=\"colab-df-container\">\n",
              "    <button class=\"colab-df-convert\" onclick=\"convertToInteractive('df-0e7c5a5e-b38c-47c3-b756-0720c7fd038e')\"\n",
              "            title=\"Convert this dataframe to an interactive table.\"\n",
              "            style=\"display:none;\">\n",
              "\n",
              "  <svg xmlns=\"http://www.w3.org/2000/svg\" height=\"24px\" viewBox=\"0 -960 960 960\">\n",
              "    <path d=\"M120-120v-720h720v720H120Zm60-500h600v-160H180v160Zm220 220h160v-160H400v160Zm0 220h160v-160H400v160ZM180-400h160v-160H180v160Zm440 0h160v-160H620v160ZM180-180h160v-160H180v160Zm440 0h160v-160H620v160Z\"/>\n",
              "  </svg>\n",
              "    </button>\n",
              "\n",
              "  <style>\n",
              "    .colab-df-container {\n",
              "      display:flex;\n",
              "      gap: 12px;\n",
              "    }\n",
              "\n",
              "    .colab-df-convert {\n",
              "      background-color: #E8F0FE;\n",
              "      border: none;\n",
              "      border-radius: 50%;\n",
              "      cursor: pointer;\n",
              "      display: none;\n",
              "      fill: #1967D2;\n",
              "      height: 32px;\n",
              "      padding: 0 0 0 0;\n",
              "      width: 32px;\n",
              "    }\n",
              "\n",
              "    .colab-df-convert:hover {\n",
              "      background-color: #E2EBFA;\n",
              "      box-shadow: 0px 1px 2px rgba(60, 64, 67, 0.3), 0px 1px 3px 1px rgba(60, 64, 67, 0.15);\n",
              "      fill: #174EA6;\n",
              "    }\n",
              "\n",
              "    .colab-df-buttons div {\n",
              "      margin-bottom: 4px;\n",
              "    }\n",
              "\n",
              "    [theme=dark] .colab-df-convert {\n",
              "      background-color: #3B4455;\n",
              "      fill: #D2E3FC;\n",
              "    }\n",
              "\n",
              "    [theme=dark] .colab-df-convert:hover {\n",
              "      background-color: #434B5C;\n",
              "      box-shadow: 0px 1px 3px 1px rgba(0, 0, 0, 0.15);\n",
              "      filter: drop-shadow(0px 1px 2px rgba(0, 0, 0, 0.3));\n",
              "      fill: #FFFFFF;\n",
              "    }\n",
              "  </style>\n",
              "\n",
              "    <script>\n",
              "      const buttonEl =\n",
              "        document.querySelector('#df-0e7c5a5e-b38c-47c3-b756-0720c7fd038e button.colab-df-convert');\n",
              "      buttonEl.style.display =\n",
              "        google.colab.kernel.accessAllowed ? 'block' : 'none';\n",
              "\n",
              "      async function convertToInteractive(key) {\n",
              "        const element = document.querySelector('#df-0e7c5a5e-b38c-47c3-b756-0720c7fd038e');\n",
              "        const dataTable =\n",
              "          await google.colab.kernel.invokeFunction('convertToInteractive',\n",
              "                                                    [key], {});\n",
              "        if (!dataTable) return;\n",
              "\n",
              "        const docLinkHtml = 'Like what you see? Visit the ' +\n",
              "          '<a target=\"_blank\" href=https://colab.research.google.com/notebooks/data_table.ipynb>data table notebook</a>'\n",
              "          + ' to learn more about interactive tables.';\n",
              "        element.innerHTML = '';\n",
              "        dataTable['output_type'] = 'display_data';\n",
              "        await google.colab.output.renderOutput(dataTable, element);\n",
              "        const docLink = document.createElement('div');\n",
              "        docLink.innerHTML = docLinkHtml;\n",
              "        element.appendChild(docLink);\n",
              "      }\n",
              "    </script>\n",
              "  </div>\n",
              "\n",
              "\n",
              "<div id=\"df-9436b82e-2b83-40f1-9252-d64e6f5707e1\">\n",
              "  <button class=\"colab-df-quickchart\" onclick=\"quickchart('df-9436b82e-2b83-40f1-9252-d64e6f5707e1')\"\n",
              "            title=\"Suggest charts.\"\n",
              "            style=\"display:none;\">\n",
              "\n",
              "<svg xmlns=\"http://www.w3.org/2000/svg\" height=\"24px\"viewBox=\"0 0 24 24\"\n",
              "     width=\"24px\">\n",
              "    <g>\n",
              "        <path d=\"M19 3H5c-1.1 0-2 .9-2 2v14c0 1.1.9 2 2 2h14c1.1 0 2-.9 2-2V5c0-1.1-.9-2-2-2zM9 17H7v-7h2v7zm4 0h-2V7h2v10zm4 0h-2v-4h2v4z\"/>\n",
              "    </g>\n",
              "</svg>\n",
              "  </button>\n",
              "\n",
              "<style>\n",
              "  .colab-df-quickchart {\n",
              "      --bg-color: #E8F0FE;\n",
              "      --fill-color: #1967D2;\n",
              "      --hover-bg-color: #E2EBFA;\n",
              "      --hover-fill-color: #174EA6;\n",
              "      --disabled-fill-color: #AAA;\n",
              "      --disabled-bg-color: #DDD;\n",
              "  }\n",
              "\n",
              "  [theme=dark] .colab-df-quickchart {\n",
              "      --bg-color: #3B4455;\n",
              "      --fill-color: #D2E3FC;\n",
              "      --hover-bg-color: #434B5C;\n",
              "      --hover-fill-color: #FFFFFF;\n",
              "      --disabled-bg-color: #3B4455;\n",
              "      --disabled-fill-color: #666;\n",
              "  }\n",
              "\n",
              "  .colab-df-quickchart {\n",
              "    background-color: var(--bg-color);\n",
              "    border: none;\n",
              "    border-radius: 50%;\n",
              "    cursor: pointer;\n",
              "    display: none;\n",
              "    fill: var(--fill-color);\n",
              "    height: 32px;\n",
              "    padding: 0;\n",
              "    width: 32px;\n",
              "  }\n",
              "\n",
              "  .colab-df-quickchart:hover {\n",
              "    background-color: var(--hover-bg-color);\n",
              "    box-shadow: 0 1px 2px rgba(60, 64, 67, 0.3), 0 1px 3px 1px rgba(60, 64, 67, 0.15);\n",
              "    fill: var(--button-hover-fill-color);\n",
              "  }\n",
              "\n",
              "  .colab-df-quickchart-complete:disabled,\n",
              "  .colab-df-quickchart-complete:disabled:hover {\n",
              "    background-color: var(--disabled-bg-color);\n",
              "    fill: var(--disabled-fill-color);\n",
              "    box-shadow: none;\n",
              "  }\n",
              "\n",
              "  .colab-df-spinner {\n",
              "    border: 2px solid var(--fill-color);\n",
              "    border-color: transparent;\n",
              "    border-bottom-color: var(--fill-color);\n",
              "    animation:\n",
              "      spin 1s steps(1) infinite;\n",
              "  }\n",
              "\n",
              "  @keyframes spin {\n",
              "    0% {\n",
              "      border-color: transparent;\n",
              "      border-bottom-color: var(--fill-color);\n",
              "      border-left-color: var(--fill-color);\n",
              "    }\n",
              "    20% {\n",
              "      border-color: transparent;\n",
              "      border-left-color: var(--fill-color);\n",
              "      border-top-color: var(--fill-color);\n",
              "    }\n",
              "    30% {\n",
              "      border-color: transparent;\n",
              "      border-left-color: var(--fill-color);\n",
              "      border-top-color: var(--fill-color);\n",
              "      border-right-color: var(--fill-color);\n",
              "    }\n",
              "    40% {\n",
              "      border-color: transparent;\n",
              "      border-right-color: var(--fill-color);\n",
              "      border-top-color: var(--fill-color);\n",
              "    }\n",
              "    60% {\n",
              "      border-color: transparent;\n",
              "      border-right-color: var(--fill-color);\n",
              "    }\n",
              "    80% {\n",
              "      border-color: transparent;\n",
              "      border-right-color: var(--fill-color);\n",
              "      border-bottom-color: var(--fill-color);\n",
              "    }\n",
              "    90% {\n",
              "      border-color: transparent;\n",
              "      border-bottom-color: var(--fill-color);\n",
              "    }\n",
              "  }\n",
              "</style>\n",
              "\n",
              "  <script>\n",
              "    async function quickchart(key) {\n",
              "      const quickchartButtonEl =\n",
              "        document.querySelector('#' + key + ' button');\n",
              "      quickchartButtonEl.disabled = true;  // To prevent multiple clicks.\n",
              "      quickchartButtonEl.classList.add('colab-df-spinner');\n",
              "      try {\n",
              "        const charts = await google.colab.kernel.invokeFunction(\n",
              "            'suggestCharts', [key], {});\n",
              "      } catch (error) {\n",
              "        console.error('Error during call to suggestCharts:', error);\n",
              "      }\n",
              "      quickchartButtonEl.classList.remove('colab-df-spinner');\n",
              "      quickchartButtonEl.classList.add('colab-df-quickchart-complete');\n",
              "    }\n",
              "    (() => {\n",
              "      let quickchartButtonEl =\n",
              "        document.querySelector('#df-9436b82e-2b83-40f1-9252-d64e6f5707e1 button');\n",
              "      quickchartButtonEl.style.display =\n",
              "        google.colab.kernel.accessAllowed ? 'block' : 'none';\n",
              "    })();\n",
              "  </script>\n",
              "</div>\n",
              "    </div>\n",
              "  </div>\n"
            ]
          },
          "metadata": {},
          "execution_count": 122
        }
      ],
      "source": [
        "purpose_dict = data[['purpose_category_id','purpose_category']].drop_duplicates().reset_index(drop=True)\n",
        "purpose_dict"
      ]
    },
    {
      "cell_type": "markdown",
      "id": "4d92a1d2",
      "metadata": {
        "id": "4d92a1d2"
      },
      "source": [
        "**Let's create a function called `income_type_id()`, which will help, based on the data from the `income_type` column, to form a new column `income_type_id`, which will include identifiers with the following correspondence:**\n",
        "\n",
        "- `0` - `'employee'`,\n",
        "- `1` - ``pensioner'`,\n",
        "- `2` - ``companion'`,\n",
        "- `3` - ``civil servant'`,\n",
        "- `4` - ``unemployed'`,\n",
        "- `5` - ``entrepreneur'`,\n",
        "- `6` - `'student'`,\n",
        "- `7` - ``on maternity leave'`.\n",
        "\n",
        "\n",
        "**Using this function and the `apply()` method we will create a new column in the dataframe.**"
      ]
    },
    {
      "cell_type": "code",
      "execution_count": 123,
      "id": "491b621b",
      "metadata": {
        "id": "491b621b"
      },
      "outputs": [],
      "source": [
        "def income_type_id(income_type):\n",
        "    try:\n",
        "        if income_type == 'сотрудник':\n",
        "            return 0\n",
        "        elif income_type == 'пенсионер':\n",
        "            return 1\n",
        "        elif income_type == 'компаньон':\n",
        "            return 2\n",
        "        elif income_type == 'госслужащий':\n",
        "            return 3\n",
        "        elif income_type == 'безработный':\n",
        "            return 4\n",
        "        elif income_type == 'предприниматель':\n",
        "            return 5\n",
        "        elif income_type == 'студент':\n",
        "            return 6\n",
        "        elif income_type == 'в декрете':\n",
        "            return 7\n",
        "        else:\n",
        "            return -1\n",
        "    except:\n",
        "        return -2\n",
        "data['income_type_id'] = data['income_type'].apply(income_type_id)"
      ]
    },
    {
      "cell_type": "markdown",
      "id": "a5a70522",
      "metadata": {
        "id": "a5a70522"
      },
      "source": [
        "**Let's create a new “reference” dataframe called `income_type_dict` for the relationship between the identifier and the client’s corresponding employment goal. Let's do this by grouping the original dataframe `data` by the `income_type_id` column for the `income_type` column and the `unique()` method.**"
      ]
    },
    {
      "cell_type": "code",
      "execution_count": 124,
      "id": "1edee871",
      "metadata": {
        "id": "1edee871",
        "outputId": "d7092188-61e7-452a-eadf-7e924af91451",
        "colab": {
          "base_uri": "https://localhost:8080/",
          "height": 297
        }
      },
      "outputs": [
        {
          "output_type": "execute_result",
          "data": {
            "text/plain": [
              "   income_type_id      income_type\n",
              "0               0        сотрудник\n",
              "1               1        пенсионер\n",
              "2               2        компаньон\n",
              "3               3      госслужащий\n",
              "4               4      безработный\n",
              "5               5  предприниматель\n",
              "6               6          студент\n",
              "7               7        в декрете"
            ],
            "text/html": [
              "\n",
              "  <div id=\"df-e79b6a78-4d55-49a1-95ea-5599f7a281df\" class=\"colab-df-container\">\n",
              "    <div>\n",
              "<style scoped>\n",
              "    .dataframe tbody tr th:only-of-type {\n",
              "        vertical-align: middle;\n",
              "    }\n",
              "\n",
              "    .dataframe tbody tr th {\n",
              "        vertical-align: top;\n",
              "    }\n",
              "\n",
              "    .dataframe thead th {\n",
              "        text-align: right;\n",
              "    }\n",
              "</style>\n",
              "<table border=\"1\" class=\"dataframe\">\n",
              "  <thead>\n",
              "    <tr style=\"text-align: right;\">\n",
              "      <th></th>\n",
              "      <th>income_type_id</th>\n",
              "      <th>income_type</th>\n",
              "    </tr>\n",
              "  </thead>\n",
              "  <tbody>\n",
              "    <tr>\n",
              "      <th>0</th>\n",
              "      <td>0</td>\n",
              "      <td>сотрудник</td>\n",
              "    </tr>\n",
              "    <tr>\n",
              "      <th>1</th>\n",
              "      <td>1</td>\n",
              "      <td>пенсионер</td>\n",
              "    </tr>\n",
              "    <tr>\n",
              "      <th>2</th>\n",
              "      <td>2</td>\n",
              "      <td>компаньон</td>\n",
              "    </tr>\n",
              "    <tr>\n",
              "      <th>3</th>\n",
              "      <td>3</td>\n",
              "      <td>госслужащий</td>\n",
              "    </tr>\n",
              "    <tr>\n",
              "      <th>4</th>\n",
              "      <td>4</td>\n",
              "      <td>безработный</td>\n",
              "    </tr>\n",
              "    <tr>\n",
              "      <th>5</th>\n",
              "      <td>5</td>\n",
              "      <td>предприниматель</td>\n",
              "    </tr>\n",
              "    <tr>\n",
              "      <th>6</th>\n",
              "      <td>6</td>\n",
              "      <td>студент</td>\n",
              "    </tr>\n",
              "    <tr>\n",
              "      <th>7</th>\n",
              "      <td>7</td>\n",
              "      <td>в декрете</td>\n",
              "    </tr>\n",
              "  </tbody>\n",
              "</table>\n",
              "</div>\n",
              "    <div class=\"colab-df-buttons\">\n",
              "\n",
              "  <div class=\"colab-df-container\">\n",
              "    <button class=\"colab-df-convert\" onclick=\"convertToInteractive('df-e79b6a78-4d55-49a1-95ea-5599f7a281df')\"\n",
              "            title=\"Convert this dataframe to an interactive table.\"\n",
              "            style=\"display:none;\">\n",
              "\n",
              "  <svg xmlns=\"http://www.w3.org/2000/svg\" height=\"24px\" viewBox=\"0 -960 960 960\">\n",
              "    <path d=\"M120-120v-720h720v720H120Zm60-500h600v-160H180v160Zm220 220h160v-160H400v160Zm0 220h160v-160H400v160ZM180-400h160v-160H180v160Zm440 0h160v-160H620v160ZM180-180h160v-160H180v160Zm440 0h160v-160H620v160Z\"/>\n",
              "  </svg>\n",
              "    </button>\n",
              "\n",
              "  <style>\n",
              "    .colab-df-container {\n",
              "      display:flex;\n",
              "      gap: 12px;\n",
              "    }\n",
              "\n",
              "    .colab-df-convert {\n",
              "      background-color: #E8F0FE;\n",
              "      border: none;\n",
              "      border-radius: 50%;\n",
              "      cursor: pointer;\n",
              "      display: none;\n",
              "      fill: #1967D2;\n",
              "      height: 32px;\n",
              "      padding: 0 0 0 0;\n",
              "      width: 32px;\n",
              "    }\n",
              "\n",
              "    .colab-df-convert:hover {\n",
              "      background-color: #E2EBFA;\n",
              "      box-shadow: 0px 1px 2px rgba(60, 64, 67, 0.3), 0px 1px 3px 1px rgba(60, 64, 67, 0.15);\n",
              "      fill: #174EA6;\n",
              "    }\n",
              "\n",
              "    .colab-df-buttons div {\n",
              "      margin-bottom: 4px;\n",
              "    }\n",
              "\n",
              "    [theme=dark] .colab-df-convert {\n",
              "      background-color: #3B4455;\n",
              "      fill: #D2E3FC;\n",
              "    }\n",
              "\n",
              "    [theme=dark] .colab-df-convert:hover {\n",
              "      background-color: #434B5C;\n",
              "      box-shadow: 0px 1px 3px 1px rgba(0, 0, 0, 0.15);\n",
              "      filter: drop-shadow(0px 1px 2px rgba(0, 0, 0, 0.3));\n",
              "      fill: #FFFFFF;\n",
              "    }\n",
              "  </style>\n",
              "\n",
              "    <script>\n",
              "      const buttonEl =\n",
              "        document.querySelector('#df-e79b6a78-4d55-49a1-95ea-5599f7a281df button.colab-df-convert');\n",
              "      buttonEl.style.display =\n",
              "        google.colab.kernel.accessAllowed ? 'block' : 'none';\n",
              "\n",
              "      async function convertToInteractive(key) {\n",
              "        const element = document.querySelector('#df-e79b6a78-4d55-49a1-95ea-5599f7a281df');\n",
              "        const dataTable =\n",
              "          await google.colab.kernel.invokeFunction('convertToInteractive',\n",
              "                                                    [key], {});\n",
              "        if (!dataTable) return;\n",
              "\n",
              "        const docLinkHtml = 'Like what you see? Visit the ' +\n",
              "          '<a target=\"_blank\" href=https://colab.research.google.com/notebooks/data_table.ipynb>data table notebook</a>'\n",
              "          + ' to learn more about interactive tables.';\n",
              "        element.innerHTML = '';\n",
              "        dataTable['output_type'] = 'display_data';\n",
              "        await google.colab.output.renderOutput(dataTable, element);\n",
              "        const docLink = document.createElement('div');\n",
              "        docLink.innerHTML = docLinkHtml;\n",
              "        element.appendChild(docLink);\n",
              "      }\n",
              "    </script>\n",
              "  </div>\n",
              "\n",
              "\n",
              "<div id=\"df-5ad2f358-0c55-46de-b0ba-9493256a1933\">\n",
              "  <button class=\"colab-df-quickchart\" onclick=\"quickchart('df-5ad2f358-0c55-46de-b0ba-9493256a1933')\"\n",
              "            title=\"Suggest charts.\"\n",
              "            style=\"display:none;\">\n",
              "\n",
              "<svg xmlns=\"http://www.w3.org/2000/svg\" height=\"24px\"viewBox=\"0 0 24 24\"\n",
              "     width=\"24px\">\n",
              "    <g>\n",
              "        <path d=\"M19 3H5c-1.1 0-2 .9-2 2v14c0 1.1.9 2 2 2h14c1.1 0 2-.9 2-2V5c0-1.1-.9-2-2-2zM9 17H7v-7h2v7zm4 0h-2V7h2v10zm4 0h-2v-4h2v4z\"/>\n",
              "    </g>\n",
              "</svg>\n",
              "  </button>\n",
              "\n",
              "<style>\n",
              "  .colab-df-quickchart {\n",
              "      --bg-color: #E8F0FE;\n",
              "      --fill-color: #1967D2;\n",
              "      --hover-bg-color: #E2EBFA;\n",
              "      --hover-fill-color: #174EA6;\n",
              "      --disabled-fill-color: #AAA;\n",
              "      --disabled-bg-color: #DDD;\n",
              "  }\n",
              "\n",
              "  [theme=dark] .colab-df-quickchart {\n",
              "      --bg-color: #3B4455;\n",
              "      --fill-color: #D2E3FC;\n",
              "      --hover-bg-color: #434B5C;\n",
              "      --hover-fill-color: #FFFFFF;\n",
              "      --disabled-bg-color: #3B4455;\n",
              "      --disabled-fill-color: #666;\n",
              "  }\n",
              "\n",
              "  .colab-df-quickchart {\n",
              "    background-color: var(--bg-color);\n",
              "    border: none;\n",
              "    border-radius: 50%;\n",
              "    cursor: pointer;\n",
              "    display: none;\n",
              "    fill: var(--fill-color);\n",
              "    height: 32px;\n",
              "    padding: 0;\n",
              "    width: 32px;\n",
              "  }\n",
              "\n",
              "  .colab-df-quickchart:hover {\n",
              "    background-color: var(--hover-bg-color);\n",
              "    box-shadow: 0 1px 2px rgba(60, 64, 67, 0.3), 0 1px 3px 1px rgba(60, 64, 67, 0.15);\n",
              "    fill: var(--button-hover-fill-color);\n",
              "  }\n",
              "\n",
              "  .colab-df-quickchart-complete:disabled,\n",
              "  .colab-df-quickchart-complete:disabled:hover {\n",
              "    background-color: var(--disabled-bg-color);\n",
              "    fill: var(--disabled-fill-color);\n",
              "    box-shadow: none;\n",
              "  }\n",
              "\n",
              "  .colab-df-spinner {\n",
              "    border: 2px solid var(--fill-color);\n",
              "    border-color: transparent;\n",
              "    border-bottom-color: var(--fill-color);\n",
              "    animation:\n",
              "      spin 1s steps(1) infinite;\n",
              "  }\n",
              "\n",
              "  @keyframes spin {\n",
              "    0% {\n",
              "      border-color: transparent;\n",
              "      border-bottom-color: var(--fill-color);\n",
              "      border-left-color: var(--fill-color);\n",
              "    }\n",
              "    20% {\n",
              "      border-color: transparent;\n",
              "      border-left-color: var(--fill-color);\n",
              "      border-top-color: var(--fill-color);\n",
              "    }\n",
              "    30% {\n",
              "      border-color: transparent;\n",
              "      border-left-color: var(--fill-color);\n",
              "      border-top-color: var(--fill-color);\n",
              "      border-right-color: var(--fill-color);\n",
              "    }\n",
              "    40% {\n",
              "      border-color: transparent;\n",
              "      border-right-color: var(--fill-color);\n",
              "      border-top-color: var(--fill-color);\n",
              "    }\n",
              "    60% {\n",
              "      border-color: transparent;\n",
              "      border-right-color: var(--fill-color);\n",
              "    }\n",
              "    80% {\n",
              "      border-color: transparent;\n",
              "      border-right-color: var(--fill-color);\n",
              "      border-bottom-color: var(--fill-color);\n",
              "    }\n",
              "    90% {\n",
              "      border-color: transparent;\n",
              "      border-bottom-color: var(--fill-color);\n",
              "    }\n",
              "  }\n",
              "</style>\n",
              "\n",
              "  <script>\n",
              "    async function quickchart(key) {\n",
              "      const quickchartButtonEl =\n",
              "        document.querySelector('#' + key + ' button');\n",
              "      quickchartButtonEl.disabled = true;  // To prevent multiple clicks.\n",
              "      quickchartButtonEl.classList.add('colab-df-spinner');\n",
              "      try {\n",
              "        const charts = await google.colab.kernel.invokeFunction(\n",
              "            'suggestCharts', [key], {});\n",
              "      } catch (error) {\n",
              "        console.error('Error during call to suggestCharts:', error);\n",
              "      }\n",
              "      quickchartButtonEl.classList.remove('colab-df-spinner');\n",
              "      quickchartButtonEl.classList.add('colab-df-quickchart-complete');\n",
              "    }\n",
              "    (() => {\n",
              "      let quickchartButtonEl =\n",
              "        document.querySelector('#df-5ad2f358-0c55-46de-b0ba-9493256a1933 button');\n",
              "      quickchartButtonEl.style.display =\n",
              "        google.colab.kernel.accessAllowed ? 'block' : 'none';\n",
              "    })();\n",
              "  </script>\n",
              "</div>\n",
              "    </div>\n",
              "  </div>\n"
            ]
          },
          "metadata": {},
          "execution_count": 124
        }
      ],
      "source": [
        "income_type_dict = data[['income_type_id','income_type']].drop_duplicates().reset_index(drop=True)\n",
        "income_type_dict"
      ]
    },
    {
      "cell_type": "markdown",
      "id": "d497985c",
      "metadata": {
        "id": "d497985c"
      },
      "source": [
        "**Let's create a new dataframe filtered by the list of columns, leaving only columns with id and categories, for the convenience of further analysis and viewing of data. Let's print it in the top 10 lines.**"
      ]
    },
    {
      "cell_type": "code",
      "execution_count": 125,
      "id": "23a7823c",
      "metadata": {
        "id": "23a7823c",
        "outputId": "69ccf7db-8d58-4896-b9b8-6272e2055256",
        "colab": {
          "base_uri": "https://localhost:8080/",
          "height": 359
        }
      },
      "outputs": [
        {
          "output_type": "execute_result",
          "data": {
            "text/plain": [
              "   children  days_employed  dob_years  education_id  family_status_id gender  \\\n",
              "0         1           8437         42             0                 0      F   \n",
              "1         1           4024         36             1                 0      F   \n",
              "2         0           5623         33             1                 0      M   \n",
              "3         3           4124         32             1                 0      M   \n",
              "4         0         340266         53             1                 1      F   \n",
              "5         0            926         27             0                 1      M   \n",
              "6         0           2879         43             0                 0      F   \n",
              "7         0            152         50             1                 0      M   \n",
              "8         2           6929         35             0                 1      F   \n",
              "9         0           2188         41             1                 0      M   \n",
              "\n",
              "   income_type_id  debt total_income_category  purpose_category_id  \n",
              "0               0     0                     B                    1  \n",
              "1               0     0                     C                    0  \n",
              "2               0     0                     C                    1  \n",
              "3               0     0                     B                    3  \n",
              "4               1     0                     C                    2  \n",
              "5               2     0                     B                    1  \n",
              "6               2     0                     B                    1  \n",
              "7               0     0                     C                    3  \n",
              "8               0     0                     C                    2  \n",
              "9               0     0                     C                    1  "
            ],
            "text/html": [
              "\n",
              "  <div id=\"df-61a6f216-5320-42be-a587-90e621d04e72\" class=\"colab-df-container\">\n",
              "    <div>\n",
              "<style scoped>\n",
              "    .dataframe tbody tr th:only-of-type {\n",
              "        vertical-align: middle;\n",
              "    }\n",
              "\n",
              "    .dataframe tbody tr th {\n",
              "        vertical-align: top;\n",
              "    }\n",
              "\n",
              "    .dataframe thead th {\n",
              "        text-align: right;\n",
              "    }\n",
              "</style>\n",
              "<table border=\"1\" class=\"dataframe\">\n",
              "  <thead>\n",
              "    <tr style=\"text-align: right;\">\n",
              "      <th></th>\n",
              "      <th>children</th>\n",
              "      <th>days_employed</th>\n",
              "      <th>dob_years</th>\n",
              "      <th>education_id</th>\n",
              "      <th>family_status_id</th>\n",
              "      <th>gender</th>\n",
              "      <th>income_type_id</th>\n",
              "      <th>debt</th>\n",
              "      <th>total_income_category</th>\n",
              "      <th>purpose_category_id</th>\n",
              "    </tr>\n",
              "  </thead>\n",
              "  <tbody>\n",
              "    <tr>\n",
              "      <th>0</th>\n",
              "      <td>1</td>\n",
              "      <td>8437</td>\n",
              "      <td>42</td>\n",
              "      <td>0</td>\n",
              "      <td>0</td>\n",
              "      <td>F</td>\n",
              "      <td>0</td>\n",
              "      <td>0</td>\n",
              "      <td>B</td>\n",
              "      <td>1</td>\n",
              "    </tr>\n",
              "    <tr>\n",
              "      <th>1</th>\n",
              "      <td>1</td>\n",
              "      <td>4024</td>\n",
              "      <td>36</td>\n",
              "      <td>1</td>\n",
              "      <td>0</td>\n",
              "      <td>F</td>\n",
              "      <td>0</td>\n",
              "      <td>0</td>\n",
              "      <td>C</td>\n",
              "      <td>0</td>\n",
              "    </tr>\n",
              "    <tr>\n",
              "      <th>2</th>\n",
              "      <td>0</td>\n",
              "      <td>5623</td>\n",
              "      <td>33</td>\n",
              "      <td>1</td>\n",
              "      <td>0</td>\n",
              "      <td>M</td>\n",
              "      <td>0</td>\n",
              "      <td>0</td>\n",
              "      <td>C</td>\n",
              "      <td>1</td>\n",
              "    </tr>\n",
              "    <tr>\n",
              "      <th>3</th>\n",
              "      <td>3</td>\n",
              "      <td>4124</td>\n",
              "      <td>32</td>\n",
              "      <td>1</td>\n",
              "      <td>0</td>\n",
              "      <td>M</td>\n",
              "      <td>0</td>\n",
              "      <td>0</td>\n",
              "      <td>B</td>\n",
              "      <td>3</td>\n",
              "    </tr>\n",
              "    <tr>\n",
              "      <th>4</th>\n",
              "      <td>0</td>\n",
              "      <td>340266</td>\n",
              "      <td>53</td>\n",
              "      <td>1</td>\n",
              "      <td>1</td>\n",
              "      <td>F</td>\n",
              "      <td>1</td>\n",
              "      <td>0</td>\n",
              "      <td>C</td>\n",
              "      <td>2</td>\n",
              "    </tr>\n",
              "    <tr>\n",
              "      <th>5</th>\n",
              "      <td>0</td>\n",
              "      <td>926</td>\n",
              "      <td>27</td>\n",
              "      <td>0</td>\n",
              "      <td>1</td>\n",
              "      <td>M</td>\n",
              "      <td>2</td>\n",
              "      <td>0</td>\n",
              "      <td>B</td>\n",
              "      <td>1</td>\n",
              "    </tr>\n",
              "    <tr>\n",
              "      <th>6</th>\n",
              "      <td>0</td>\n",
              "      <td>2879</td>\n",
              "      <td>43</td>\n",
              "      <td>0</td>\n",
              "      <td>0</td>\n",
              "      <td>F</td>\n",
              "      <td>2</td>\n",
              "      <td>0</td>\n",
              "      <td>B</td>\n",
              "      <td>1</td>\n",
              "    </tr>\n",
              "    <tr>\n",
              "      <th>7</th>\n",
              "      <td>0</td>\n",
              "      <td>152</td>\n",
              "      <td>50</td>\n",
              "      <td>1</td>\n",
              "      <td>0</td>\n",
              "      <td>M</td>\n",
              "      <td>0</td>\n",
              "      <td>0</td>\n",
              "      <td>C</td>\n",
              "      <td>3</td>\n",
              "    </tr>\n",
              "    <tr>\n",
              "      <th>8</th>\n",
              "      <td>2</td>\n",
              "      <td>6929</td>\n",
              "      <td>35</td>\n",
              "      <td>0</td>\n",
              "      <td>1</td>\n",
              "      <td>F</td>\n",
              "      <td>0</td>\n",
              "      <td>0</td>\n",
              "      <td>C</td>\n",
              "      <td>2</td>\n",
              "    </tr>\n",
              "    <tr>\n",
              "      <th>9</th>\n",
              "      <td>0</td>\n",
              "      <td>2188</td>\n",
              "      <td>41</td>\n",
              "      <td>1</td>\n",
              "      <td>0</td>\n",
              "      <td>M</td>\n",
              "      <td>0</td>\n",
              "      <td>0</td>\n",
              "      <td>C</td>\n",
              "      <td>1</td>\n",
              "    </tr>\n",
              "  </tbody>\n",
              "</table>\n",
              "</div>\n",
              "    <div class=\"colab-df-buttons\">\n",
              "\n",
              "  <div class=\"colab-df-container\">\n",
              "    <button class=\"colab-df-convert\" onclick=\"convertToInteractive('df-61a6f216-5320-42be-a587-90e621d04e72')\"\n",
              "            title=\"Convert this dataframe to an interactive table.\"\n",
              "            style=\"display:none;\">\n",
              "\n",
              "  <svg xmlns=\"http://www.w3.org/2000/svg\" height=\"24px\" viewBox=\"0 -960 960 960\">\n",
              "    <path d=\"M120-120v-720h720v720H120Zm60-500h600v-160H180v160Zm220 220h160v-160H400v160Zm0 220h160v-160H400v160ZM180-400h160v-160H180v160Zm440 0h160v-160H620v160ZM180-180h160v-160H180v160Zm440 0h160v-160H620v160Z\"/>\n",
              "  </svg>\n",
              "    </button>\n",
              "\n",
              "  <style>\n",
              "    .colab-df-container {\n",
              "      display:flex;\n",
              "      gap: 12px;\n",
              "    }\n",
              "\n",
              "    .colab-df-convert {\n",
              "      background-color: #E8F0FE;\n",
              "      border: none;\n",
              "      border-radius: 50%;\n",
              "      cursor: pointer;\n",
              "      display: none;\n",
              "      fill: #1967D2;\n",
              "      height: 32px;\n",
              "      padding: 0 0 0 0;\n",
              "      width: 32px;\n",
              "    }\n",
              "\n",
              "    .colab-df-convert:hover {\n",
              "      background-color: #E2EBFA;\n",
              "      box-shadow: 0px 1px 2px rgba(60, 64, 67, 0.3), 0px 1px 3px 1px rgba(60, 64, 67, 0.15);\n",
              "      fill: #174EA6;\n",
              "    }\n",
              "\n",
              "    .colab-df-buttons div {\n",
              "      margin-bottom: 4px;\n",
              "    }\n",
              "\n",
              "    [theme=dark] .colab-df-convert {\n",
              "      background-color: #3B4455;\n",
              "      fill: #D2E3FC;\n",
              "    }\n",
              "\n",
              "    [theme=dark] .colab-df-convert:hover {\n",
              "      background-color: #434B5C;\n",
              "      box-shadow: 0px 1px 3px 1px rgba(0, 0, 0, 0.15);\n",
              "      filter: drop-shadow(0px 1px 2px rgba(0, 0, 0, 0.3));\n",
              "      fill: #FFFFFF;\n",
              "    }\n",
              "  </style>\n",
              "\n",
              "    <script>\n",
              "      const buttonEl =\n",
              "        document.querySelector('#df-61a6f216-5320-42be-a587-90e621d04e72 button.colab-df-convert');\n",
              "      buttonEl.style.display =\n",
              "        google.colab.kernel.accessAllowed ? 'block' : 'none';\n",
              "\n",
              "      async function convertToInteractive(key) {\n",
              "        const element = document.querySelector('#df-61a6f216-5320-42be-a587-90e621d04e72');\n",
              "        const dataTable =\n",
              "          await google.colab.kernel.invokeFunction('convertToInteractive',\n",
              "                                                    [key], {});\n",
              "        if (!dataTable) return;\n",
              "\n",
              "        const docLinkHtml = 'Like what you see? Visit the ' +\n",
              "          '<a target=\"_blank\" href=https://colab.research.google.com/notebooks/data_table.ipynb>data table notebook</a>'\n",
              "          + ' to learn more about interactive tables.';\n",
              "        element.innerHTML = '';\n",
              "        dataTable['output_type'] = 'display_data';\n",
              "        await google.colab.output.renderOutput(dataTable, element);\n",
              "        const docLink = document.createElement('div');\n",
              "        docLink.innerHTML = docLinkHtml;\n",
              "        element.appendChild(docLink);\n",
              "      }\n",
              "    </script>\n",
              "  </div>\n",
              "\n",
              "\n",
              "<div id=\"df-cf1979b8-106e-4e1d-8b00-b08dd72ef7aa\">\n",
              "  <button class=\"colab-df-quickchart\" onclick=\"quickchart('df-cf1979b8-106e-4e1d-8b00-b08dd72ef7aa')\"\n",
              "            title=\"Suggest charts.\"\n",
              "            style=\"display:none;\">\n",
              "\n",
              "<svg xmlns=\"http://www.w3.org/2000/svg\" height=\"24px\"viewBox=\"0 0 24 24\"\n",
              "     width=\"24px\">\n",
              "    <g>\n",
              "        <path d=\"M19 3H5c-1.1 0-2 .9-2 2v14c0 1.1.9 2 2 2h14c1.1 0 2-.9 2-2V5c0-1.1-.9-2-2-2zM9 17H7v-7h2v7zm4 0h-2V7h2v10zm4 0h-2v-4h2v4z\"/>\n",
              "    </g>\n",
              "</svg>\n",
              "  </button>\n",
              "\n",
              "<style>\n",
              "  .colab-df-quickchart {\n",
              "      --bg-color: #E8F0FE;\n",
              "      --fill-color: #1967D2;\n",
              "      --hover-bg-color: #E2EBFA;\n",
              "      --hover-fill-color: #174EA6;\n",
              "      --disabled-fill-color: #AAA;\n",
              "      --disabled-bg-color: #DDD;\n",
              "  }\n",
              "\n",
              "  [theme=dark] .colab-df-quickchart {\n",
              "      --bg-color: #3B4455;\n",
              "      --fill-color: #D2E3FC;\n",
              "      --hover-bg-color: #434B5C;\n",
              "      --hover-fill-color: #FFFFFF;\n",
              "      --disabled-bg-color: #3B4455;\n",
              "      --disabled-fill-color: #666;\n",
              "  }\n",
              "\n",
              "  .colab-df-quickchart {\n",
              "    background-color: var(--bg-color);\n",
              "    border: none;\n",
              "    border-radius: 50%;\n",
              "    cursor: pointer;\n",
              "    display: none;\n",
              "    fill: var(--fill-color);\n",
              "    height: 32px;\n",
              "    padding: 0;\n",
              "    width: 32px;\n",
              "  }\n",
              "\n",
              "  .colab-df-quickchart:hover {\n",
              "    background-color: var(--hover-bg-color);\n",
              "    box-shadow: 0 1px 2px rgba(60, 64, 67, 0.3), 0 1px 3px 1px rgba(60, 64, 67, 0.15);\n",
              "    fill: var(--button-hover-fill-color);\n",
              "  }\n",
              "\n",
              "  .colab-df-quickchart-complete:disabled,\n",
              "  .colab-df-quickchart-complete:disabled:hover {\n",
              "    background-color: var(--disabled-bg-color);\n",
              "    fill: var(--disabled-fill-color);\n",
              "    box-shadow: none;\n",
              "  }\n",
              "\n",
              "  .colab-df-spinner {\n",
              "    border: 2px solid var(--fill-color);\n",
              "    border-color: transparent;\n",
              "    border-bottom-color: var(--fill-color);\n",
              "    animation:\n",
              "      spin 1s steps(1) infinite;\n",
              "  }\n",
              "\n",
              "  @keyframes spin {\n",
              "    0% {\n",
              "      border-color: transparent;\n",
              "      border-bottom-color: var(--fill-color);\n",
              "      border-left-color: var(--fill-color);\n",
              "    }\n",
              "    20% {\n",
              "      border-color: transparent;\n",
              "      border-left-color: var(--fill-color);\n",
              "      border-top-color: var(--fill-color);\n",
              "    }\n",
              "    30% {\n",
              "      border-color: transparent;\n",
              "      border-left-color: var(--fill-color);\n",
              "      border-top-color: var(--fill-color);\n",
              "      border-right-color: var(--fill-color);\n",
              "    }\n",
              "    40% {\n",
              "      border-color: transparent;\n",
              "      border-right-color: var(--fill-color);\n",
              "      border-top-color: var(--fill-color);\n",
              "    }\n",
              "    60% {\n",
              "      border-color: transparent;\n",
              "      border-right-color: var(--fill-color);\n",
              "    }\n",
              "    80% {\n",
              "      border-color: transparent;\n",
              "      border-right-color: var(--fill-color);\n",
              "      border-bottom-color: var(--fill-color);\n",
              "    }\n",
              "    90% {\n",
              "      border-color: transparent;\n",
              "      border-bottom-color: var(--fill-color);\n",
              "    }\n",
              "  }\n",
              "</style>\n",
              "\n",
              "  <script>\n",
              "    async function quickchart(key) {\n",
              "      const quickchartButtonEl =\n",
              "        document.querySelector('#' + key + ' button');\n",
              "      quickchartButtonEl.disabled = true;  // To prevent multiple clicks.\n",
              "      quickchartButtonEl.classList.add('colab-df-spinner');\n",
              "      try {\n",
              "        const charts = await google.colab.kernel.invokeFunction(\n",
              "            'suggestCharts', [key], {});\n",
              "      } catch (error) {\n",
              "        console.error('Error during call to suggestCharts:', error);\n",
              "      }\n",
              "      quickchartButtonEl.classList.remove('colab-df-spinner');\n",
              "      quickchartButtonEl.classList.add('colab-df-quickchart-complete');\n",
              "    }\n",
              "    (() => {\n",
              "      let quickchartButtonEl =\n",
              "        document.querySelector('#df-cf1979b8-106e-4e1d-8b00-b08dd72ef7aa button');\n",
              "      quickchartButtonEl.style.display =\n",
              "        google.colab.kernel.accessAllowed ? 'block' : 'none';\n",
              "    })();\n",
              "  </script>\n",
              "</div>\n",
              "    </div>\n",
              "  </div>\n"
            ]
          },
          "metadata": {},
          "execution_count": 125
        }
      ],
      "source": [
        "df = data[['children', 'days_employed', 'dob_years', 'education_id', 'family_status_id', 'gender', 'income_type_id', 'debt', 'total_income_category', 'purpose_category_id']].copy()\n",
        "df.head(10)"
      ]
    },
    {
      "cell_type": "markdown",
      "id": "9119ca21",
      "metadata": {
        "id": "9119ca21"
      },
      "source": [
        "**Preprocessing of the data in the original dataframe is completed, you can begin further analysis of hypothetical dependencies. We are now working with the prepared dataframe `df`.**"
      ]
    },
    {
      "cell_type": "markdown",
      "id": "6968e605",
      "metadata": {
        "id": "6968e605"
      },
      "source": [
        "##### Let's return to the study of the issue in this subparagraph: is there a relationship between the number of children and repayment of the loan on time?"
      ]
    },
    {
      "cell_type": "markdown",
      "id": "90763529",
      "metadata": {
        "id": "90763529"
      },
      "source": [
        "**Let's find out what percentage of the total number of clients had debt on repaying loans. To do this, apply the `mean()` method to the `debt` column.**"
      ]
    },
    {
      "cell_type": "code",
      "execution_count": 126,
      "id": "b915d338",
      "metadata": {
        "id": "b915d338",
        "outputId": "18172d65-7a12-431b-a517-0a9eb1d987a8",
        "colab": {
          "base_uri": "https://localhost:8080/"
        }
      },
      "outputs": [
        {
          "output_type": "execute_result",
          "data": {
            "text/plain": [
              "0.08120584079133301"
            ]
          },
          "metadata": {},
          "execution_count": 126
        }
      ],
      "source": [
        "df['debt'].mean()"
      ]
    },
    {
      "cell_type": "markdown",
      "id": "098bcbce",
      "metadata": {
        "id": "098bcbce"
      },
      "source": [
        "Only 8.1% of all clients had loan repayment arrears. The percentage is not very large, but not negligibly small, so we will further analyze the data."
      ]
    },
    {
      "cell_type": "markdown",
      "id": "8128ef1d",
      "metadata": {
        "id": "8128ef1d"
      },
      "source": [
        "**Let's group the data frame in such a way as to see how the share of those who had debt on loan repayment is distributed depending on the number of children and the number of clients in each of these groups. To do this, let's group by the `children` column for the `debt` column and use the `agg()` function in which the arguments will be two methods `count` and `mean`.**"
      ]
    },
    {
      "cell_type": "code",
      "execution_count": 127,
      "id": "c787ea6e",
      "metadata": {
        "id": "c787ea6e",
        "outputId": "72a2e5d2-2600-4246-b961-a50d85b97899",
        "colab": {
          "base_uri": "https://localhost:8080/",
          "height": 266
        }
      },
      "outputs": [
        {
          "output_type": "execute_result",
          "data": {
            "text/plain": [
              "          count      mean\n",
              "children                 \n",
              "0         14021  0.075458\n",
              "1          4792  0.092028\n",
              "2          2039  0.095145\n",
              "3           328  0.082317\n",
              "4            41  0.097561\n",
              "5             9  0.000000"
            ],
            "text/html": [
              "\n",
              "  <div id=\"df-7d5e431b-7f07-4202-919b-2aad08cf60c1\" class=\"colab-df-container\">\n",
              "    <div>\n",
              "<style scoped>\n",
              "    .dataframe tbody tr th:only-of-type {\n",
              "        vertical-align: middle;\n",
              "    }\n",
              "\n",
              "    .dataframe tbody tr th {\n",
              "        vertical-align: top;\n",
              "    }\n",
              "\n",
              "    .dataframe thead th {\n",
              "        text-align: right;\n",
              "    }\n",
              "</style>\n",
              "<table border=\"1\" class=\"dataframe\">\n",
              "  <thead>\n",
              "    <tr style=\"text-align: right;\">\n",
              "      <th></th>\n",
              "      <th>count</th>\n",
              "      <th>mean</th>\n",
              "    </tr>\n",
              "    <tr>\n",
              "      <th>children</th>\n",
              "      <th></th>\n",
              "      <th></th>\n",
              "    </tr>\n",
              "  </thead>\n",
              "  <tbody>\n",
              "    <tr>\n",
              "      <th>0</th>\n",
              "      <td>14021</td>\n",
              "      <td>0.075458</td>\n",
              "    </tr>\n",
              "    <tr>\n",
              "      <th>1</th>\n",
              "      <td>4792</td>\n",
              "      <td>0.092028</td>\n",
              "    </tr>\n",
              "    <tr>\n",
              "      <th>2</th>\n",
              "      <td>2039</td>\n",
              "      <td>0.095145</td>\n",
              "    </tr>\n",
              "    <tr>\n",
              "      <th>3</th>\n",
              "      <td>328</td>\n",
              "      <td>0.082317</td>\n",
              "    </tr>\n",
              "    <tr>\n",
              "      <th>4</th>\n",
              "      <td>41</td>\n",
              "      <td>0.097561</td>\n",
              "    </tr>\n",
              "    <tr>\n",
              "      <th>5</th>\n",
              "      <td>9</td>\n",
              "      <td>0.000000</td>\n",
              "    </tr>\n",
              "  </tbody>\n",
              "</table>\n",
              "</div>\n",
              "    <div class=\"colab-df-buttons\">\n",
              "\n",
              "  <div class=\"colab-df-container\">\n",
              "    <button class=\"colab-df-convert\" onclick=\"convertToInteractive('df-7d5e431b-7f07-4202-919b-2aad08cf60c1')\"\n",
              "            title=\"Convert this dataframe to an interactive table.\"\n",
              "            style=\"display:none;\">\n",
              "\n",
              "  <svg xmlns=\"http://www.w3.org/2000/svg\" height=\"24px\" viewBox=\"0 -960 960 960\">\n",
              "    <path d=\"M120-120v-720h720v720H120Zm60-500h600v-160H180v160Zm220 220h160v-160H400v160Zm0 220h160v-160H400v160ZM180-400h160v-160H180v160Zm440 0h160v-160H620v160ZM180-180h160v-160H180v160Zm440 0h160v-160H620v160Z\"/>\n",
              "  </svg>\n",
              "    </button>\n",
              "\n",
              "  <style>\n",
              "    .colab-df-container {\n",
              "      display:flex;\n",
              "      gap: 12px;\n",
              "    }\n",
              "\n",
              "    .colab-df-convert {\n",
              "      background-color: #E8F0FE;\n",
              "      border: none;\n",
              "      border-radius: 50%;\n",
              "      cursor: pointer;\n",
              "      display: none;\n",
              "      fill: #1967D2;\n",
              "      height: 32px;\n",
              "      padding: 0 0 0 0;\n",
              "      width: 32px;\n",
              "    }\n",
              "\n",
              "    .colab-df-convert:hover {\n",
              "      background-color: #E2EBFA;\n",
              "      box-shadow: 0px 1px 2px rgba(60, 64, 67, 0.3), 0px 1px 3px 1px rgba(60, 64, 67, 0.15);\n",
              "      fill: #174EA6;\n",
              "    }\n",
              "\n",
              "    .colab-df-buttons div {\n",
              "      margin-bottom: 4px;\n",
              "    }\n",
              "\n",
              "    [theme=dark] .colab-df-convert {\n",
              "      background-color: #3B4455;\n",
              "      fill: #D2E3FC;\n",
              "    }\n",
              "\n",
              "    [theme=dark] .colab-df-convert:hover {\n",
              "      background-color: #434B5C;\n",
              "      box-shadow: 0px 1px 3px 1px rgba(0, 0, 0, 0.15);\n",
              "      filter: drop-shadow(0px 1px 2px rgba(0, 0, 0, 0.3));\n",
              "      fill: #FFFFFF;\n",
              "    }\n",
              "  </style>\n",
              "\n",
              "    <script>\n",
              "      const buttonEl =\n",
              "        document.querySelector('#df-7d5e431b-7f07-4202-919b-2aad08cf60c1 button.colab-df-convert');\n",
              "      buttonEl.style.display =\n",
              "        google.colab.kernel.accessAllowed ? 'block' : 'none';\n",
              "\n",
              "      async function convertToInteractive(key) {\n",
              "        const element = document.querySelector('#df-7d5e431b-7f07-4202-919b-2aad08cf60c1');\n",
              "        const dataTable =\n",
              "          await google.colab.kernel.invokeFunction('convertToInteractive',\n",
              "                                                    [key], {});\n",
              "        if (!dataTable) return;\n",
              "\n",
              "        const docLinkHtml = 'Like what you see? Visit the ' +\n",
              "          '<a target=\"_blank\" href=https://colab.research.google.com/notebooks/data_table.ipynb>data table notebook</a>'\n",
              "          + ' to learn more about interactive tables.';\n",
              "        element.innerHTML = '';\n",
              "        dataTable['output_type'] = 'display_data';\n",
              "        await google.colab.output.renderOutput(dataTable, element);\n",
              "        const docLink = document.createElement('div');\n",
              "        docLink.innerHTML = docLinkHtml;\n",
              "        element.appendChild(docLink);\n",
              "      }\n",
              "    </script>\n",
              "  </div>\n",
              "\n",
              "\n",
              "<div id=\"df-d05ea5fb-f2b7-404e-a311-b45735f708dc\">\n",
              "  <button class=\"colab-df-quickchart\" onclick=\"quickchart('df-d05ea5fb-f2b7-404e-a311-b45735f708dc')\"\n",
              "            title=\"Suggest charts.\"\n",
              "            style=\"display:none;\">\n",
              "\n",
              "<svg xmlns=\"http://www.w3.org/2000/svg\" height=\"24px\"viewBox=\"0 0 24 24\"\n",
              "     width=\"24px\">\n",
              "    <g>\n",
              "        <path d=\"M19 3H5c-1.1 0-2 .9-2 2v14c0 1.1.9 2 2 2h14c1.1 0 2-.9 2-2V5c0-1.1-.9-2-2-2zM9 17H7v-7h2v7zm4 0h-2V7h2v10zm4 0h-2v-4h2v4z\"/>\n",
              "    </g>\n",
              "</svg>\n",
              "  </button>\n",
              "\n",
              "<style>\n",
              "  .colab-df-quickchart {\n",
              "      --bg-color: #E8F0FE;\n",
              "      --fill-color: #1967D2;\n",
              "      --hover-bg-color: #E2EBFA;\n",
              "      --hover-fill-color: #174EA6;\n",
              "      --disabled-fill-color: #AAA;\n",
              "      --disabled-bg-color: #DDD;\n",
              "  }\n",
              "\n",
              "  [theme=dark] .colab-df-quickchart {\n",
              "      --bg-color: #3B4455;\n",
              "      --fill-color: #D2E3FC;\n",
              "      --hover-bg-color: #434B5C;\n",
              "      --hover-fill-color: #FFFFFF;\n",
              "      --disabled-bg-color: #3B4455;\n",
              "      --disabled-fill-color: #666;\n",
              "  }\n",
              "\n",
              "  .colab-df-quickchart {\n",
              "    background-color: var(--bg-color);\n",
              "    border: none;\n",
              "    border-radius: 50%;\n",
              "    cursor: pointer;\n",
              "    display: none;\n",
              "    fill: var(--fill-color);\n",
              "    height: 32px;\n",
              "    padding: 0;\n",
              "    width: 32px;\n",
              "  }\n",
              "\n",
              "  .colab-df-quickchart:hover {\n",
              "    background-color: var(--hover-bg-color);\n",
              "    box-shadow: 0 1px 2px rgba(60, 64, 67, 0.3), 0 1px 3px 1px rgba(60, 64, 67, 0.15);\n",
              "    fill: var(--button-hover-fill-color);\n",
              "  }\n",
              "\n",
              "  .colab-df-quickchart-complete:disabled,\n",
              "  .colab-df-quickchart-complete:disabled:hover {\n",
              "    background-color: var(--disabled-bg-color);\n",
              "    fill: var(--disabled-fill-color);\n",
              "    box-shadow: none;\n",
              "  }\n",
              "\n",
              "  .colab-df-spinner {\n",
              "    border: 2px solid var(--fill-color);\n",
              "    border-color: transparent;\n",
              "    border-bottom-color: var(--fill-color);\n",
              "    animation:\n",
              "      spin 1s steps(1) infinite;\n",
              "  }\n",
              "\n",
              "  @keyframes spin {\n",
              "    0% {\n",
              "      border-color: transparent;\n",
              "      border-bottom-color: var(--fill-color);\n",
              "      border-left-color: var(--fill-color);\n",
              "    }\n",
              "    20% {\n",
              "      border-color: transparent;\n",
              "      border-left-color: var(--fill-color);\n",
              "      border-top-color: var(--fill-color);\n",
              "    }\n",
              "    30% {\n",
              "      border-color: transparent;\n",
              "      border-left-color: var(--fill-color);\n",
              "      border-top-color: var(--fill-color);\n",
              "      border-right-color: var(--fill-color);\n",
              "    }\n",
              "    40% {\n",
              "      border-color: transparent;\n",
              "      border-right-color: var(--fill-color);\n",
              "      border-top-color: var(--fill-color);\n",
              "    }\n",
              "    60% {\n",
              "      border-color: transparent;\n",
              "      border-right-color: var(--fill-color);\n",
              "    }\n",
              "    80% {\n",
              "      border-color: transparent;\n",
              "      border-right-color: var(--fill-color);\n",
              "      border-bottom-color: var(--fill-color);\n",
              "    }\n",
              "    90% {\n",
              "      border-color: transparent;\n",
              "      border-bottom-color: var(--fill-color);\n",
              "    }\n",
              "  }\n",
              "</style>\n",
              "\n",
              "  <script>\n",
              "    async function quickchart(key) {\n",
              "      const quickchartButtonEl =\n",
              "        document.querySelector('#' + key + ' button');\n",
              "      quickchartButtonEl.disabled = true;  // To prevent multiple clicks.\n",
              "      quickchartButtonEl.classList.add('colab-df-spinner');\n",
              "      try {\n",
              "        const charts = await google.colab.kernel.invokeFunction(\n",
              "            'suggestCharts', [key], {});\n",
              "      } catch (error) {\n",
              "        console.error('Error during call to suggestCharts:', error);\n",
              "      }\n",
              "      quickchartButtonEl.classList.remove('colab-df-spinner');\n",
              "      quickchartButtonEl.classList.add('colab-df-quickchart-complete');\n",
              "    }\n",
              "    (() => {\n",
              "      let quickchartButtonEl =\n",
              "        document.querySelector('#df-d05ea5fb-f2b7-404e-a311-b45735f708dc button');\n",
              "      quickchartButtonEl.style.display =\n",
              "        google.colab.kernel.accessAllowed ? 'block' : 'none';\n",
              "    })();\n",
              "  </script>\n",
              "</div>\n",
              "    </div>\n",
              "  </div>\n"
            ]
          },
          "metadata": {},
          "execution_count": 127
        }
      ],
      "source": [
        "df.groupby('children')['debt'].agg(['count', 'mean'])"
      ]
    },
    {
      "cell_type": "code",
      "execution_count": 128,
      "id": "9e2db448",
      "metadata": {
        "id": "9e2db448",
        "outputId": "eaa3462d-4a1b-4aec-fce2-70275a2429fc",
        "colab": {
          "base_uri": "https://localhost:8080/",
          "height": 204
        }
      },
      "outputs": [
        {
          "output_type": "execute_result",
          "data": {
            "text/plain": [
              "  total_income_category  customer_count  debt_sum  debt_share\n",
              "3                     D             347        21    0.060519\n",
              "1                     B            4987       353    0.070784\n",
              "0                     A              25         2    0.080000\n",
              "2                     C           15849      1346    0.084926\n",
              "4                     E              22         2    0.090909"
            ],
            "text/html": [
              "\n",
              "  <div id=\"df-88ed8e5c-5dbb-4646-b6a2-0916bee5262f\" class=\"colab-df-container\">\n",
              "    <div>\n",
              "<style scoped>\n",
              "    .dataframe tbody tr th:only-of-type {\n",
              "        vertical-align: middle;\n",
              "    }\n",
              "\n",
              "    .dataframe tbody tr th {\n",
              "        vertical-align: top;\n",
              "    }\n",
              "\n",
              "    .dataframe thead th {\n",
              "        text-align: right;\n",
              "    }\n",
              "</style>\n",
              "<table border=\"1\" class=\"dataframe\">\n",
              "  <thead>\n",
              "    <tr style=\"text-align: right;\">\n",
              "      <th></th>\n",
              "      <th>total_income_category</th>\n",
              "      <th>customer_count</th>\n",
              "      <th>debt_sum</th>\n",
              "      <th>debt_share</th>\n",
              "    </tr>\n",
              "  </thead>\n",
              "  <tbody>\n",
              "    <tr>\n",
              "      <th>3</th>\n",
              "      <td>D</td>\n",
              "      <td>347</td>\n",
              "      <td>21</td>\n",
              "      <td>0.060519</td>\n",
              "    </tr>\n",
              "    <tr>\n",
              "      <th>1</th>\n",
              "      <td>B</td>\n",
              "      <td>4987</td>\n",
              "      <td>353</td>\n",
              "      <td>0.070784</td>\n",
              "    </tr>\n",
              "    <tr>\n",
              "      <th>0</th>\n",
              "      <td>A</td>\n",
              "      <td>25</td>\n",
              "      <td>2</td>\n",
              "      <td>0.080000</td>\n",
              "    </tr>\n",
              "    <tr>\n",
              "      <th>2</th>\n",
              "      <td>C</td>\n",
              "      <td>15849</td>\n",
              "      <td>1346</td>\n",
              "      <td>0.084926</td>\n",
              "    </tr>\n",
              "    <tr>\n",
              "      <th>4</th>\n",
              "      <td>E</td>\n",
              "      <td>22</td>\n",
              "      <td>2</td>\n",
              "      <td>0.090909</td>\n",
              "    </tr>\n",
              "  </tbody>\n",
              "</table>\n",
              "</div>\n",
              "    <div class=\"colab-df-buttons\">\n",
              "\n",
              "  <div class=\"colab-df-container\">\n",
              "    <button class=\"colab-df-convert\" onclick=\"convertToInteractive('df-88ed8e5c-5dbb-4646-b6a2-0916bee5262f')\"\n",
              "            title=\"Convert this dataframe to an interactive table.\"\n",
              "            style=\"display:none;\">\n",
              "\n",
              "  <svg xmlns=\"http://www.w3.org/2000/svg\" height=\"24px\" viewBox=\"0 -960 960 960\">\n",
              "    <path d=\"M120-120v-720h720v720H120Zm60-500h600v-160H180v160Zm220 220h160v-160H400v160Zm0 220h160v-160H400v160ZM180-400h160v-160H180v160Zm440 0h160v-160H620v160ZM180-180h160v-160H180v160Zm440 0h160v-160H620v160Z\"/>\n",
              "  </svg>\n",
              "    </button>\n",
              "\n",
              "  <style>\n",
              "    .colab-df-container {\n",
              "      display:flex;\n",
              "      gap: 12px;\n",
              "    }\n",
              "\n",
              "    .colab-df-convert {\n",
              "      background-color: #E8F0FE;\n",
              "      border: none;\n",
              "      border-radius: 50%;\n",
              "      cursor: pointer;\n",
              "      display: none;\n",
              "      fill: #1967D2;\n",
              "      height: 32px;\n",
              "      padding: 0 0 0 0;\n",
              "      width: 32px;\n",
              "    }\n",
              "\n",
              "    .colab-df-convert:hover {\n",
              "      background-color: #E2EBFA;\n",
              "      box-shadow: 0px 1px 2px rgba(60, 64, 67, 0.3), 0px 1px 3px 1px rgba(60, 64, 67, 0.15);\n",
              "      fill: #174EA6;\n",
              "    }\n",
              "\n",
              "    .colab-df-buttons div {\n",
              "      margin-bottom: 4px;\n",
              "    }\n",
              "\n",
              "    [theme=dark] .colab-df-convert {\n",
              "      background-color: #3B4455;\n",
              "      fill: #D2E3FC;\n",
              "    }\n",
              "\n",
              "    [theme=dark] .colab-df-convert:hover {\n",
              "      background-color: #434B5C;\n",
              "      box-shadow: 0px 1px 3px 1px rgba(0, 0, 0, 0.15);\n",
              "      filter: drop-shadow(0px 1px 2px rgba(0, 0, 0, 0.3));\n",
              "      fill: #FFFFFF;\n",
              "    }\n",
              "  </style>\n",
              "\n",
              "    <script>\n",
              "      const buttonEl =\n",
              "        document.querySelector('#df-88ed8e5c-5dbb-4646-b6a2-0916bee5262f button.colab-df-convert');\n",
              "      buttonEl.style.display =\n",
              "        google.colab.kernel.accessAllowed ? 'block' : 'none';\n",
              "\n",
              "      async function convertToInteractive(key) {\n",
              "        const element = document.querySelector('#df-88ed8e5c-5dbb-4646-b6a2-0916bee5262f');\n",
              "        const dataTable =\n",
              "          await google.colab.kernel.invokeFunction('convertToInteractive',\n",
              "                                                    [key], {});\n",
              "        if (!dataTable) return;\n",
              "\n",
              "        const docLinkHtml = 'Like what you see? Visit the ' +\n",
              "          '<a target=\"_blank\" href=https://colab.research.google.com/notebooks/data_table.ipynb>data table notebook</a>'\n",
              "          + ' to learn more about interactive tables.';\n",
              "        element.innerHTML = '';\n",
              "        dataTable['output_type'] = 'display_data';\n",
              "        await google.colab.output.renderOutput(dataTable, element);\n",
              "        const docLink = document.createElement('div');\n",
              "        docLink.innerHTML = docLinkHtml;\n",
              "        element.appendChild(docLink);\n",
              "      }\n",
              "    </script>\n",
              "  </div>\n",
              "\n",
              "\n",
              "<div id=\"df-b8ed4fae-d47f-4259-bff1-2e568ce5ac9b\">\n",
              "  <button class=\"colab-df-quickchart\" onclick=\"quickchart('df-b8ed4fae-d47f-4259-bff1-2e568ce5ac9b')\"\n",
              "            title=\"Suggest charts.\"\n",
              "            style=\"display:none;\">\n",
              "\n",
              "<svg xmlns=\"http://www.w3.org/2000/svg\" height=\"24px\"viewBox=\"0 0 24 24\"\n",
              "     width=\"24px\">\n",
              "    <g>\n",
              "        <path d=\"M19 3H5c-1.1 0-2 .9-2 2v14c0 1.1.9 2 2 2h14c1.1 0 2-.9 2-2V5c0-1.1-.9-2-2-2zM9 17H7v-7h2v7zm4 0h-2V7h2v10zm4 0h-2v-4h2v4z\"/>\n",
              "    </g>\n",
              "</svg>\n",
              "  </button>\n",
              "\n",
              "<style>\n",
              "  .colab-df-quickchart {\n",
              "      --bg-color: #E8F0FE;\n",
              "      --fill-color: #1967D2;\n",
              "      --hover-bg-color: #E2EBFA;\n",
              "      --hover-fill-color: #174EA6;\n",
              "      --disabled-fill-color: #AAA;\n",
              "      --disabled-bg-color: #DDD;\n",
              "  }\n",
              "\n",
              "  [theme=dark] .colab-df-quickchart {\n",
              "      --bg-color: #3B4455;\n",
              "      --fill-color: #D2E3FC;\n",
              "      --hover-bg-color: #434B5C;\n",
              "      --hover-fill-color: #FFFFFF;\n",
              "      --disabled-bg-color: #3B4455;\n",
              "      --disabled-fill-color: #666;\n",
              "  }\n",
              "\n",
              "  .colab-df-quickchart {\n",
              "    background-color: var(--bg-color);\n",
              "    border: none;\n",
              "    border-radius: 50%;\n",
              "    cursor: pointer;\n",
              "    display: none;\n",
              "    fill: var(--fill-color);\n",
              "    height: 32px;\n",
              "    padding: 0;\n",
              "    width: 32px;\n",
              "  }\n",
              "\n",
              "  .colab-df-quickchart:hover {\n",
              "    background-color: var(--hover-bg-color);\n",
              "    box-shadow: 0 1px 2px rgba(60, 64, 67, 0.3), 0 1px 3px 1px rgba(60, 64, 67, 0.15);\n",
              "    fill: var(--button-hover-fill-color);\n",
              "  }\n",
              "\n",
              "  .colab-df-quickchart-complete:disabled,\n",
              "  .colab-df-quickchart-complete:disabled:hover {\n",
              "    background-color: var(--disabled-bg-color);\n",
              "    fill: var(--disabled-fill-color);\n",
              "    box-shadow: none;\n",
              "  }\n",
              "\n",
              "  .colab-df-spinner {\n",
              "    border: 2px solid var(--fill-color);\n",
              "    border-color: transparent;\n",
              "    border-bottom-color: var(--fill-color);\n",
              "    animation:\n",
              "      spin 1s steps(1) infinite;\n",
              "  }\n",
              "\n",
              "  @keyframes spin {\n",
              "    0% {\n",
              "      border-color: transparent;\n",
              "      border-bottom-color: var(--fill-color);\n",
              "      border-left-color: var(--fill-color);\n",
              "    }\n",
              "    20% {\n",
              "      border-color: transparent;\n",
              "      border-left-color: var(--fill-color);\n",
              "      border-top-color: var(--fill-color);\n",
              "    }\n",
              "    30% {\n",
              "      border-color: transparent;\n",
              "      border-left-color: var(--fill-color);\n",
              "      border-top-color: var(--fill-color);\n",
              "      border-right-color: var(--fill-color);\n",
              "    }\n",
              "    40% {\n",
              "      border-color: transparent;\n",
              "      border-right-color: var(--fill-color);\n",
              "      border-top-color: var(--fill-color);\n",
              "    }\n",
              "    60% {\n",
              "      border-color: transparent;\n",
              "      border-right-color: var(--fill-color);\n",
              "    }\n",
              "    80% {\n",
              "      border-color: transparent;\n",
              "      border-right-color: var(--fill-color);\n",
              "      border-bottom-color: var(--fill-color);\n",
              "    }\n",
              "    90% {\n",
              "      border-color: transparent;\n",
              "      border-bottom-color: var(--fill-color);\n",
              "    }\n",
              "  }\n",
              "</style>\n",
              "\n",
              "  <script>\n",
              "    async function quickchart(key) {\n",
              "      const quickchartButtonEl =\n",
              "        document.querySelector('#' + key + ' button');\n",
              "      quickchartButtonEl.disabled = true;  // To prevent multiple clicks.\n",
              "      quickchartButtonEl.classList.add('colab-df-spinner');\n",
              "      try {\n",
              "        const charts = await google.colab.kernel.invokeFunction(\n",
              "            'suggestCharts', [key], {});\n",
              "      } catch (error) {\n",
              "        console.error('Error during call to suggestCharts:', error);\n",
              "      }\n",
              "      quickchartButtonEl.classList.remove('colab-df-spinner');\n",
              "      quickchartButtonEl.classList.add('colab-df-quickchart-complete');\n",
              "    }\n",
              "    (() => {\n",
              "      let quickchartButtonEl =\n",
              "        document.querySelector('#df-b8ed4fae-d47f-4259-bff1-2e568ce5ac9b button');\n",
              "      quickchartButtonEl.style.display =\n",
              "        google.colab.kernel.accessAllowed ? 'block' : 'none';\n",
              "    })();\n",
              "  </script>\n",
              "</div>\n",
              "    </div>\n",
              "  </div>\n"
            ]
          },
          "metadata": {},
          "execution_count": 128
        }
      ],
      "source": [
        "def pivot_generator(dataframe, column):\n",
        "    t = pd.pivot_table(dataframe,\n",
        "               index=column,\n",
        "               values='debt',\n",
        "               aggfunc=['count', 'sum','mean'])\n",
        "    t.columns = ['_'.join(col).strip() for col in t.columns.values]\n",
        "    t = t.reset_index().sort_values(by='mean_debt')\n",
        "    t.columns = [column, 'customer_count', 'debt_sum', 'debt_share']\n",
        "    return t\n",
        "\n",
        "pivot_generator(df,'total_income_category')"
      ]
    },
    {
      "cell_type": "markdown",
      "id": "ea7d2c5b",
      "metadata": {
        "id": "ea7d2c5b"
      },
      "source": [
        "**Let us now construct a bar chart reflecting the dependence of the share of those who had debt on loan repayment on the number of children.**"
      ]
    },
    {
      "cell_type": "code",
      "execution_count": 129,
      "id": "51d475fa",
      "metadata": {
        "id": "51d475fa",
        "outputId": "6ce7aa03-bcb5-4906-fe4f-9d57dd4ddecf",
        "colab": {
          "base_uri": "https://localhost:8080/",
          "height": 444
        }
      },
      "outputs": [
        {
          "output_type": "display_data",
          "data": {
            "text/plain": [
              "<Figure size 640x480 with 1 Axes>"
            ],
            "image/png": "[encoded data removed]"
          },
          "metadata": {}
        }
      ],
      "source": [
        "df.groupby('children')['debt'].mean().plot(kind='bar');"
      ]
    },
    {
      "cell_type": "markdown",
      "id": "414cf529",
      "metadata": {
        "id": "414cf529"
      },
      "source": [
        "We see that groups with 4 and 5 children are very few in number compared to the total number, so information on the dependence of the presence of loan debt for these groups will be unrepresentative. For correct analysis, you can combine these groups with a group with 3 children. In this case, we leave the new group with the integer value 3, because If you assign the string value `3 or more` for a given group, for example, then you will have to change the type to `str` for all other numeric values in the `children` column, and this is not very true for quantitative variables."
      ]
    },
    {
      "cell_type": "markdown",
      "id": "1c6a5066",
      "metadata": {
        "id": "1c6a5066"
      },
      "source": [
        "**Let's write a function that will change the value in the `children` column to 3 if the current value in the cell is more than 3.**"
      ]
    },
    {
      "cell_type": "code",
      "execution_count": 130,
      "id": "c2b9a2ca",
      "metadata": {
        "id": "c2b9a2ca"
      },
      "outputs": [],
      "source": [
        "def children_number(number):\n",
        "    try:\n",
        "        if 3 < number:\n",
        "            return 3\n",
        "        else:\n",
        "            return number\n",
        "    except:\n",
        "        pass"
      ]
    },
    {
      "cell_type": "markdown",
      "id": "5a7fa4c3",
      "metadata": {
        "id": "5a7fa4c3"
      },
      "source": [
        "**Now apply this function to the `children` column with adjusted values and see how the percentage of those in debt is distributed depending on the number of children and the number of clients in each of these groups. To do this, let's group by the `children` column for the `debt` column and use the `agg()` function in which the arguments will be two methods `count` and `mean`.**\n",
        "\n",
        "**We will also use the `value_counts` method with the `normalize=True` parameter to estimate the proportion of each group by the number of children in the entire dataframe**"
      ]
    },
    {
      "cell_type": "code",
      "execution_count": 131,
      "id": "4398fe87",
      "metadata": {
        "id": "4398fe87",
        "outputId": "4f2c34a7-eebd-45d3-aec1-09c11090e90c",
        "colab": {
          "base_uri": "https://localhost:8080/"
        }
      },
      "outputs": [
        {
          "output_type": "stream",
          "name": "stdout",
          "text": [
            "          count      mean\n",
            "children                 \n",
            "0         14021  0.075458\n",
            "1          4792  0.092028\n",
            "2          2039  0.095145\n",
            "3           378  0.082011\n"
          ]
        },
        {
          "output_type": "execute_result",
          "data": {
            "text/plain": [
              "0    0.660433\n",
              "1    0.225718\n",
              "2    0.096043\n",
              "3    0.017805\n",
              "Name: children, dtype: float64"
            ]
          },
          "metadata": {},
          "execution_count": 131
        }
      ],
      "source": [
        "df['children'] = df['children'].apply(children_number)\n",
        "print(df.groupby('children')['debt'].agg(['count', 'mean']))\n",
        "df['children'].value_counts(normalize=True)"
      ]
    },
    {
      "cell_type": "markdown",
      "id": "f26e4ee4",
      "metadata": {
        "id": "f26e4ee4"
      },
      "source": [
        "**Let us now construct a bar chart using the updated values, reflecting the dependence of the share of those who had debt on loan repayment on the number of children.**"
      ]
    },
    {
      "cell_type": "code",
      "execution_count": 132,
      "id": "bb52f061",
      "metadata": {
        "id": "bb52f061",
        "outputId": "05854418-0133-406b-8ba9-4b2b7ab5e671",
        "colab": {
          "base_uri": "https://localhost:8080/",
          "height": 444
        }
      },
      "outputs": [
        {
          "output_type": "display_data",
          "data": {
            "text/plain": [
              "<Figure size 640x480 with 1 Axes>"
            ],
            "image/png": "[encoded data removed]"
          },
          "metadata": {}
        }
      ],
      "source": [
        "df.groupby('children')['debt'].mean().plot(kind='bar');"
      ]
    },
    {
      "cell_type": "markdown",
      "id": "58783877",
      "metadata": {
        "id": "58783877"
      },
      "source": [
        "**We see from the diagram that the share of clients who had a loan repayment debt grows depending on the number of children the client has, however, for the value `3` (3 or more children), the share of those who had a loan repayment debt falls to a level corresponding to the values absence of children and presence of one child. At the same time, the minimum share of those who had debt is in the largest group with a value of 0 children.**\n",
        "\n",
        "**Let’s check how clients with different numbers of children are distributed across monthly income categories. To do this, we will build a pivot table using the `pivot_table()` method, in which we will take information about the presence of debt as values, and display the share with debt using the `mean()` method and the number of records for the intersection of income categories and the number of children with using the `count()` method to evaluate whether this data can be used in our analysis.**\n",
        "\n",
        "**Additionally, for orientation in the data, we will display a “dictionary” `total_income_dict` of income level categories.**"
      ]
    },
    {
      "cell_type": "code",
      "execution_count": 133,
      "id": "28fe8f57",
      "metadata": {
        "id": "28fe8f57",
        "outputId": "27b843be-bc15-4fc1-9409-4ee7002b1237",
        "colab": {
          "base_uri": "https://localhost:8080/",
          "height": 771
        }
      },
      "outputs": [
        {
          "output_type": "stream",
          "name": "stdout",
          "text": [
            "  total_income_category      min        max\n",
            "0                     A  1000001        inf\n",
            "1                     B   200001  1000000.0\n",
            "2                     C    50001   200000.0\n",
            "3                     D    30001    50000.0\n",
            "4                     E        0    30000.0\n"
          ]
        },
        {
          "output_type": "execute_result",
          "data": {
            "text/plain": [
              "                                count_debt  mean_debt\n",
              "children total_income_category                       \n",
              "1        E                               4   0.000000\n",
              "3        A                               1   0.000000\n",
              "2        E                               1   0.000000\n",
              "         A                               3   0.000000\n",
              "0        D                             241   0.049793\n",
              "3        B                              99   0.050505\n",
              "1        D                              66   0.060606\n",
              "0        B                            3227   0.067865\n",
              "1        B                            1164   0.075601\n",
              "0        C                           10524   0.078297\n",
              "2        B                             497   0.082495\n",
              "0        A                              12   0.083333\n",
              "3        C                             272   0.091912\n",
              "1        C                            3549   0.098056\n",
              "2        C                            1504   0.099069\n",
              "1        A                               9   0.111111\n",
              "2        D                              34   0.117647\n",
              "0        E                              17   0.117647\n",
              "3        D                               6   0.166667"
            ],
            "text/html": [
              "\n",
              "  <div id=\"df-342923f8-7d27-4a96-ad1d-736585edb294\" class=\"colab-df-container\">\n",
              "    <div>\n",
              "<style scoped>\n",
              "    .dataframe tbody tr th:only-of-type {\n",
              "        vertical-align: middle;\n",
              "    }\n",
              "\n",
              "    .dataframe tbody tr th {\n",
              "        vertical-align: top;\n",
              "    }\n",
              "\n",
              "    .dataframe thead th {\n",
              "        text-align: right;\n",
              "    }\n",
              "</style>\n",
              "<table border=\"1\" class=\"dataframe\">\n",
              "  <thead>\n",
              "    <tr style=\"text-align: right;\">\n",
              "      <th></th>\n",
              "      <th></th>\n",
              "      <th>count_debt</th>\n",
              "      <th>mean_debt</th>\n",
              "    </tr>\n",
              "    <tr>\n",
              "      <th>children</th>\n",
              "      <th>total_income_category</th>\n",
              "      <th></th>\n",
              "      <th></th>\n",
              "    </tr>\n",
              "  </thead>\n",
              "  <tbody>\n",
              "    <tr>\n",
              "      <th>1</th>\n",
              "      <th>E</th>\n",
              "      <td>4</td>\n",
              "      <td>0.000000</td>\n",
              "    </tr>\n",
              "    <tr>\n",
              "      <th>3</th>\n",
              "      <th>A</th>\n",
              "      <td>1</td>\n",
              "      <td>0.000000</td>\n",
              "    </tr>\n",
              "    <tr>\n",
              "      <th rowspan=\"2\" valign=\"top\">2</th>\n",
              "      <th>E</th>\n",
              "      <td>1</td>\n",
              "      <td>0.000000</td>\n",
              "    </tr>\n",
              "    <tr>\n",
              "      <th>A</th>\n",
              "      <td>3</td>\n",
              "      <td>0.000000</td>\n",
              "    </tr>\n",
              "    <tr>\n",
              "      <th>0</th>\n",
              "      <th>D</th>\n",
              "      <td>241</td>\n",
              "      <td>0.049793</td>\n",
              "    </tr>\n",
              "    <tr>\n",
              "      <th>3</th>\n",
              "      <th>B</th>\n",
              "      <td>99</td>\n",
              "      <td>0.050505</td>\n",
              "    </tr>\n",
              "    <tr>\n",
              "      <th>1</th>\n",
              "      <th>D</th>\n",
              "      <td>66</td>\n",
              "      <td>0.060606</td>\n",
              "    </tr>\n",
              "    <tr>\n",
              "      <th>0</th>\n",
              "      <th>B</th>\n",
              "      <td>3227</td>\n",
              "      <td>0.067865</td>\n",
              "    </tr>\n",
              "    <tr>\n",
              "      <th>1</th>\n",
              "      <th>B</th>\n",
              "      <td>1164</td>\n",
              "      <td>0.075601</td>\n",
              "    </tr>\n",
              "    <tr>\n",
              "      <th>0</th>\n",
              "      <th>C</th>\n",
              "      <td>10524</td>\n",
              "      <td>0.078297</td>\n",
              "    </tr>\n",
              "    <tr>\n",
              "      <th>2</th>\n",
              "      <th>B</th>\n",
              "      <td>497</td>\n",
              "      <td>0.082495</td>\n",
              "    </tr>\n",
              "    <tr>\n",
              "      <th>0</th>\n",
              "      <th>A</th>\n",
              "      <td>12</td>\n",
              "      <td>0.083333</td>\n",
              "    </tr>\n",
              "    <tr>\n",
              "      <th>3</th>\n",
              "      <th>C</th>\n",
              "      <td>272</td>\n",
              "      <td>0.091912</td>\n",
              "    </tr>\n",
              "    <tr>\n",
              "      <th>1</th>\n",
              "      <th>C</th>\n",
              "      <td>3549</td>\n",
              "      <td>0.098056</td>\n",
              "    </tr>\n",
              "    <tr>\n",
              "      <th>2</th>\n",
              "      <th>C</th>\n",
              "      <td>1504</td>\n",
              "      <td>0.099069</td>\n",
              "    </tr>\n",
              "    <tr>\n",
              "      <th>1</th>\n",
              "      <th>A</th>\n",
              "      <td>9</td>\n",
              "      <td>0.111111</td>\n",
              "    </tr>\n",
              "    <tr>\n",
              "      <th>2</th>\n",
              "      <th>D</th>\n",
              "      <td>34</td>\n",
              "      <td>0.117647</td>\n",
              "    </tr>\n",
              "    <tr>\n",
              "      <th>0</th>\n",
              "      <th>E</th>\n",
              "      <td>17</td>\n",
              "      <td>0.117647</td>\n",
              "    </tr>\n",
              "    <tr>\n",
              "      <th>3</th>\n",
              "      <th>D</th>\n",
              "      <td>6</td>\n",
              "      <td>0.166667</td>\n",
              "    </tr>\n",
              "  </tbody>\n",
              "</table>\n",
              "</div>\n",
              "    <div class=\"colab-df-buttons\">\n",
              "\n",
              "  <div class=\"colab-df-container\">\n",
              "    <button class=\"colab-df-convert\" onclick=\"convertToInteractive('df-342923f8-7d27-4a96-ad1d-736585edb294')\"\n",
              "            title=\"Convert this dataframe to an interactive table.\"\n",
              "            style=\"display:none;\">\n",
              "\n",
              "  <svg xmlns=\"http://www.w3.org/2000/svg\" height=\"24px\" viewBox=\"0 -960 960 960\">\n",
              "    <path d=\"M120-120v-720h720v720H120Zm60-500h600v-160H180v160Zm220 220h160v-160H400v160Zm0 220h160v-160H400v160ZM180-400h160v-160H180v160Zm440 0h160v-160H620v160ZM180-180h160v-160H180v160Zm440 0h160v-160H620v160Z\"/>\n",
              "  </svg>\n",
              "    </button>\n",
              "\n",
              "  <style>\n",
              "    .colab-df-container {\n",
              "      display:flex;\n",
              "      gap: 12px;\n",
              "    }\n",
              "\n",
              "    .colab-df-convert {\n",
              "      background-color: #E8F0FE;\n",
              "      border: none;\n",
              "      border-radius: 50%;\n",
              "      cursor: pointer;\n",
              "      display: none;\n",
              "      fill: #1967D2;\n",
              "      height: 32px;\n",
              "      padding: 0 0 0 0;\n",
              "      width: 32px;\n",
              "    }\n",
              "\n",
              "    .colab-df-convert:hover {\n",
              "      background-color: #E2EBFA;\n",
              "      box-shadow: 0px 1px 2px rgba(60, 64, 67, 0.3), 0px 1px 3px 1px rgba(60, 64, 67, 0.15);\n",
              "      fill: #174EA6;\n",
              "    }\n",
              "\n",
              "    .colab-df-buttons div {\n",
              "      margin-bottom: 4px;\n",
              "    }\n",
              "\n",
              "    [theme=dark] .colab-df-convert {\n",
              "      background-color: #3B4455;\n",
              "      fill: #D2E3FC;\n",
              "    }\n",
              "\n",
              "    [theme=dark] .colab-df-convert:hover {\n",
              "      background-color: #434B5C;\n",
              "      box-shadow: 0px 1px 3px 1px rgba(0, 0, 0, 0.15);\n",
              "      filter: drop-shadow(0px 1px 2px rgba(0, 0, 0, 0.3));\n",
              "      fill: #FFFFFF;\n",
              "    }\n",
              "  </style>\n",
              "\n",
              "    <script>\n",
              "      const buttonEl =\n",
              "        document.querySelector('#df-342923f8-7d27-4a96-ad1d-736585edb294 button.colab-df-convert');\n",
              "      buttonEl.style.display =\n",
              "        google.colab.kernel.accessAllowed ? 'block' : 'none';\n",
              "\n",
              "      async function convertToInteractive(key) {\n",
              "        const element = document.querySelector('#df-342923f8-7d27-4a96-ad1d-736585edb294');\n",
              "        const dataTable =\n",
              "          await google.colab.kernel.invokeFunction('convertToInteractive',\n",
              "                                                    [key], {});\n",
              "        if (!dataTable) return;\n",
              "\n",
              "        const docLinkHtml = 'Like what you see? Visit the ' +\n",
              "          '<a target=\"_blank\" href=https://colab.research.google.com/notebooks/data_table.ipynb>data table notebook</a>'\n",
              "          + ' to learn more about interactive tables.';\n",
              "        element.innerHTML = '';\n",
              "        dataTable['output_type'] = 'display_data';\n",
              "        await google.colab.output.renderOutput(dataTable, element);\n",
              "        const docLink = document.createElement('div');\n",
              "        docLink.innerHTML = docLinkHtml;\n",
              "        element.appendChild(docLink);\n",
              "      }\n",
              "    </script>\n",
              "  </div>\n",
              "\n",
              "\n",
              "<div id=\"df-df5d7f67-40fa-4954-80d6-920b4b4c0127\">\n",
              "  <button class=\"colab-df-quickchart\" onclick=\"quickchart('df-df5d7f67-40fa-4954-80d6-920b4b4c0127')\"\n",
              "            title=\"Suggest charts.\"\n",
              "            style=\"display:none;\">\n",
              "\n",
              "<svg xmlns=\"http://www.w3.org/2000/svg\" height=\"24px\"viewBox=\"0 0 24 24\"\n",
              "     width=\"24px\">\n",
              "    <g>\n",
              "        <path d=\"M19 3H5c-1.1 0-2 .9-2 2v14c0 1.1.9 2 2 2h14c1.1 0 2-.9 2-2V5c0-1.1-.9-2-2-2zM9 17H7v-7h2v7zm4 0h-2V7h2v10zm4 0h-2v-4h2v4z\"/>\n",
              "    </g>\n",
              "</svg>\n",
              "  </button>\n",
              "\n",
              "<style>\n",
              "  .colab-df-quickchart {\n",
              "      --bg-color: #E8F0FE;\n",
              "      --fill-color: #1967D2;\n",
              "      --hover-bg-color: #E2EBFA;\n",
              "      --hover-fill-color: #174EA6;\n",
              "      --disabled-fill-color: #AAA;\n",
              "      --disabled-bg-color: #DDD;\n",
              "  }\n",
              "\n",
              "  [theme=dark] .colab-df-quickchart {\n",
              "      --bg-color: #3B4455;\n",
              "      --fill-color: #D2E3FC;\n",
              "      --hover-bg-color: #434B5C;\n",
              "      --hover-fill-color: #FFFFFF;\n",
              "      --disabled-bg-color: #3B4455;\n",
              "      --disabled-fill-color: #666;\n",
              "  }\n",
              "\n",
              "  .colab-df-quickchart {\n",
              "    background-color: var(--bg-color);\n",
              "    border: none;\n",
              "    border-radius: 50%;\n",
              "    cursor: pointer;\n",
              "    display: none;\n",
              "    fill: var(--fill-color);\n",
              "    height: 32px;\n",
              "    padding: 0;\n",
              "    width: 32px;\n",
              "  }\n",
              "\n",
              "  .colab-df-quickchart:hover {\n",
              "    background-color: var(--hover-bg-color);\n",
              "    box-shadow: 0 1px 2px rgba(60, 64, 67, 0.3), 0 1px 3px 1px rgba(60, 64, 67, 0.15);\n",
              "    fill: var(--button-hover-fill-color);\n",
              "  }\n",
              "\n",
              "  .colab-df-quickchart-complete:disabled,\n",
              "  .colab-df-quickchart-complete:disabled:hover {\n",
              "    background-color: var(--disabled-bg-color);\n",
              "    fill: var(--disabled-fill-color);\n",
              "    box-shadow: none;\n",
              "  }\n",
              "\n",
              "  .colab-df-spinner {\n",
              "    border: 2px solid var(--fill-color);\n",
              "    border-color: transparent;\n",
              "    border-bottom-color: var(--fill-color);\n",
              "    animation:\n",
              "      spin 1s steps(1) infinite;\n",
              "  }\n",
              "\n",
              "  @keyframes spin {\n",
              "    0% {\n",
              "      border-color: transparent;\n",
              "      border-bottom-color: var(--fill-color);\n",
              "      border-left-color: var(--fill-color);\n",
              "    }\n",
              "    20% {\n",
              "      border-color: transparent;\n",
              "      border-left-color: var(--fill-color);\n",
              "      border-top-color: var(--fill-color);\n",
              "    }\n",
              "    30% {\n",
              "      border-color: transparent;\n",
              "      border-left-color: var(--fill-color);\n",
              "      border-top-color: var(--fill-color);\n",
              "      border-right-color: var(--fill-color);\n",
              "    }\n",
              "    40% {\n",
              "      border-color: transparent;\n",
              "      border-right-color: var(--fill-color);\n",
              "      border-top-color: var(--fill-color);\n",
              "    }\n",
              "    60% {\n",
              "      border-color: transparent;\n",
              "      border-right-color: var(--fill-color);\n",
              "    }\n",
              "    80% {\n",
              "      border-color: transparent;\n",
              "      border-right-color: var(--fill-color);\n",
              "      border-bottom-color: var(--fill-color);\n",
              "    }\n",
              "    90% {\n",
              "      border-color: transparent;\n",
              "      border-bottom-color: var(--fill-color);\n",
              "    }\n",
              "  }\n",
              "</style>\n",
              "\n",
              "  <script>\n",
              "    async function quickchart(key) {\n",
              "      const quickchartButtonEl =\n",
              "        document.querySelector('#' + key + ' button');\n",
              "      quickchartButtonEl.disabled = true;  // To prevent multiple clicks.\n",
              "      quickchartButtonEl.classList.add('colab-df-spinner');\n",
              "      try {\n",
              "        const charts = await google.colab.kernel.invokeFunction(\n",
              "            'suggestCharts', [key], {});\n",
              "      } catch (error) {\n",
              "        console.error('Error during call to suggestCharts:', error);\n",
              "      }\n",
              "      quickchartButtonEl.classList.remove('colab-df-spinner');\n",
              "      quickchartButtonEl.classList.add('colab-df-quickchart-complete');\n",
              "    }\n",
              "    (() => {\n",
              "      let quickchartButtonEl =\n",
              "        document.querySelector('#df-df5d7f67-40fa-4954-80d6-920b4b4c0127 button');\n",
              "      quickchartButtonEl.style.display =\n",
              "        google.colab.kernel.accessAllowed ? 'block' : 'none';\n",
              "    })();\n",
              "  </script>\n",
              "</div>\n",
              "    </div>\n",
              "  </div>\n"
            ]
          },
          "metadata": {},
          "execution_count": 133
        }
      ],
      "source": [
        "print(total_income_dict)\n",
        "t = pd.pivot_table(df,\n",
        "               index=['children', 'total_income_category'],\n",
        "               values='debt',\n",
        "               aggfunc=['count','mean'])\n",
        "t.columns = ['_'.join(col).strip() for col in t.columns.values]\n",
        "t.sort_values(by='mean_debt')"
      ]
    },
    {
      "cell_type": "markdown",
      "id": "d5f977e8",
      "metadata": {
        "id": "d5f977e8"
      },
      "source": [
        "**The number of records for categories `'A'` and `'E'` is very small among other values, which will only interfere with the analysis. Let's discard these values from our sample, build a pivot table after filtering with the same two functions `mean()` and `count()` and sort it in ascending order.**"
      ]
    },
    {
      "cell_type": "code",
      "execution_count": 134,
      "id": "32a0a6d7",
      "metadata": {
        "id": "32a0a6d7",
        "outputId": "a5eac53d-cc30-492e-a293-f1335a03f6a8",
        "colab": {
          "base_uri": "https://localhost:8080/",
          "height": 452
        }
      },
      "outputs": [
        {
          "output_type": "execute_result",
          "data": {
            "text/plain": [
              "                                count_debt  mean_debt\n",
              "children total_income_category                       \n",
              "0        D                             241   0.049793\n",
              "3        B                              99   0.050505\n",
              "1        D                              66   0.060606\n",
              "0        B                            3227   0.067865\n",
              "1        B                            1164   0.075601\n",
              "0        C                           10524   0.078297\n",
              "2        B                             497   0.082495\n",
              "3        C                             272   0.091912\n",
              "1        C                            3549   0.098056\n",
              "2        C                            1504   0.099069\n",
              "         D                              34   0.117647\n",
              "3        D                               6   0.166667"
            ],
            "text/html": [
              "\n",
              "  <div id=\"df-c1508ea1-7358-4829-ba39-269c2ea6fedb\" class=\"colab-df-container\">\n",
              "    <div>\n",
              "<style scoped>\n",
              "    .dataframe tbody tr th:only-of-type {\n",
              "        vertical-align: middle;\n",
              "    }\n",
              "\n",
              "    .dataframe tbody tr th {\n",
              "        vertical-align: top;\n",
              "    }\n",
              "\n",
              "    .dataframe thead th {\n",
              "        text-align: right;\n",
              "    }\n",
              "</style>\n",
              "<table border=\"1\" class=\"dataframe\">\n",
              "  <thead>\n",
              "    <tr style=\"text-align: right;\">\n",
              "      <th></th>\n",
              "      <th></th>\n",
              "      <th>count_debt</th>\n",
              "      <th>mean_debt</th>\n",
              "    </tr>\n",
              "    <tr>\n",
              "      <th>children</th>\n",
              "      <th>total_income_category</th>\n",
              "      <th></th>\n",
              "      <th></th>\n",
              "    </tr>\n",
              "  </thead>\n",
              "  <tbody>\n",
              "    <tr>\n",
              "      <th>0</th>\n",
              "      <th>D</th>\n",
              "      <td>241</td>\n",
              "      <td>0.049793</td>\n",
              "    </tr>\n",
              "    <tr>\n",
              "      <th>3</th>\n",
              "      <th>B</th>\n",
              "      <td>99</td>\n",
              "      <td>0.050505</td>\n",
              "    </tr>\n",
              "    <tr>\n",
              "      <th>1</th>\n",
              "      <th>D</th>\n",
              "      <td>66</td>\n",
              "      <td>0.060606</td>\n",
              "    </tr>\n",
              "    <tr>\n",
              "      <th>0</th>\n",
              "      <th>B</th>\n",
              "      <td>3227</td>\n",
              "      <td>0.067865</td>\n",
              "    </tr>\n",
              "    <tr>\n",
              "      <th>1</th>\n",
              "      <th>B</th>\n",
              "      <td>1164</td>\n",
              "      <td>0.075601</td>\n",
              "    </tr>\n",
              "    <tr>\n",
              "      <th>0</th>\n",
              "      <th>C</th>\n",
              "      <td>10524</td>\n",
              "      <td>0.078297</td>\n",
              "    </tr>\n",
              "    <tr>\n",
              "      <th>2</th>\n",
              "      <th>B</th>\n",
              "      <td>497</td>\n",
              "      <td>0.082495</td>\n",
              "    </tr>\n",
              "    <tr>\n",
              "      <th>3</th>\n",
              "      <th>C</th>\n",
              "      <td>272</td>\n",
              "      <td>0.091912</td>\n",
              "    </tr>\n",
              "    <tr>\n",
              "      <th>1</th>\n",
              "      <th>C</th>\n",
              "      <td>3549</td>\n",
              "      <td>0.098056</td>\n",
              "    </tr>\n",
              "    <tr>\n",
              "      <th rowspan=\"2\" valign=\"top\">2</th>\n",
              "      <th>C</th>\n",
              "      <td>1504</td>\n",
              "      <td>0.099069</td>\n",
              "    </tr>\n",
              "    <tr>\n",
              "      <th>D</th>\n",
              "      <td>34</td>\n",
              "      <td>0.117647</td>\n",
              "    </tr>\n",
              "    <tr>\n",
              "      <th>3</th>\n",
              "      <th>D</th>\n",
              "      <td>6</td>\n",
              "      <td>0.166667</td>\n",
              "    </tr>\n",
              "  </tbody>\n",
              "</table>\n",
              "</div>\n",
              "    <div class=\"colab-df-buttons\">\n",
              "\n",
              "  <div class=\"colab-df-container\">\n",
              "    <button class=\"colab-df-convert\" onclick=\"convertToInteractive('df-c1508ea1-7358-4829-ba39-269c2ea6fedb')\"\n",
              "            title=\"Convert this dataframe to an interactive table.\"\n",
              "            style=\"display:none;\">\n",
              "\n",
              "  <svg xmlns=\"http://www.w3.org/2000/svg\" height=\"24px\" viewBox=\"0 -960 960 960\">\n",
              "    <path d=\"M120-120v-720h720v720H120Zm60-500h600v-160H180v160Zm220 220h160v-160H400v160Zm0 220h160v-160H400v160ZM180-400h160v-160H180v160Zm440 0h160v-160H620v160ZM180-180h160v-160H180v160Zm440 0h160v-160H620v160Z\"/>\n",
              "  </svg>\n",
              "    </button>\n",
              "\n",
              "  <style>\n",
              "    .colab-df-container {\n",
              "      display:flex;\n",
              "      gap: 12px;\n",
              "    }\n",
              "\n",
              "    .colab-df-convert {\n",
              "      background-color: #E8F0FE;\n",
              "      border: none;\n",
              "      border-radius: 50%;\n",
              "      cursor: pointer;\n",
              "      display: none;\n",
              "      fill: #1967D2;\n",
              "      height: 32px;\n",
              "      padding: 0 0 0 0;\n",
              "      width: 32px;\n",
              "    }\n",
              "\n",
              "    .colab-df-convert:hover {\n",
              "      background-color: #E2EBFA;\n",
              "      box-shadow: 0px 1px 2px rgba(60, 64, 67, 0.3), 0px 1px 3px 1px rgba(60, 64, 67, 0.15);\n",
              "      fill: #174EA6;\n",
              "    }\n",
              "\n",
              "    .colab-df-buttons div {\n",
              "      margin-bottom: 4px;\n",
              "    }\n",
              "\n",
              "    [theme=dark] .colab-df-convert {\n",
              "      background-color: #3B4455;\n",
              "      fill: #D2E3FC;\n",
              "    }\n",
              "\n",
              "    [theme=dark] .colab-df-convert:hover {\n",
              "      background-color: #434B5C;\n",
              "      box-shadow: 0px 1px 3px 1px rgba(0, 0, 0, 0.15);\n",
              "      filter: drop-shadow(0px 1px 2px rgba(0, 0, 0, 0.3));\n",
              "      fill: #FFFFFF;\n",
              "    }\n",
              "  </style>\n",
              "\n",
              "    <script>\n",
              "      const buttonEl =\n",
              "        document.querySelector('#df-c1508ea1-7358-4829-ba39-269c2ea6fedb button.colab-df-convert');\n",
              "      buttonEl.style.display =\n",
              "        google.colab.kernel.accessAllowed ? 'block' : 'none';\n",
              "\n",
              "      async function convertToInteractive(key) {\n",
              "        const element = document.querySelector('#df-c1508ea1-7358-4829-ba39-269c2ea6fedb');\n",
              "        const dataTable =\n",
              "          await google.colab.kernel.invokeFunction('convertToInteractive',\n",
              "                                                    [key], {});\n",
              "        if (!dataTable) return;\n",
              "\n",
              "        const docLinkHtml = 'Like what you see? Visit the ' +\n",
              "          '<a target=\"_blank\" href=https://colab.research.google.com/notebooks/data_table.ipynb>data table notebook</a>'\n",
              "          + ' to learn more about interactive tables.';\n",
              "        element.innerHTML = '';\n",
              "        dataTable['output_type'] = 'display_data';\n",
              "        await google.colab.output.renderOutput(dataTable, element);\n",
              "        const docLink = document.createElement('div');\n",
              "        docLink.innerHTML = docLinkHtml;\n",
              "        element.appendChild(docLink);\n",
              "      }\n",
              "    </script>\n",
              "  </div>\n",
              "\n",
              "\n",
              "<div id=\"df-601bd9c5-ceee-46f7-827e-8fa8408d0b53\">\n",
              "  <button class=\"colab-df-quickchart\" onclick=\"quickchart('df-601bd9c5-ceee-46f7-827e-8fa8408d0b53')\"\n",
              "            title=\"Suggest charts.\"\n",
              "            style=\"display:none;\">\n",
              "\n",
              "<svg xmlns=\"http://www.w3.org/2000/svg\" height=\"24px\"viewBox=\"0 0 24 24\"\n",
              "     width=\"24px\">\n",
              "    <g>\n",
              "        <path d=\"M19 3H5c-1.1 0-2 .9-2 2v14c0 1.1.9 2 2 2h14c1.1 0 2-.9 2-2V5c0-1.1-.9-2-2-2zM9 17H7v-7h2v7zm4 0h-2V7h2v10zm4 0h-2v-4h2v4z\"/>\n",
              "    </g>\n",
              "</svg>\n",
              "  </button>\n",
              "\n",
              "<style>\n",
              "  .colab-df-quickchart {\n",
              "      --bg-color: #E8F0FE;\n",
              "      --fill-color: #1967D2;\n",
              "      --hover-bg-color: #E2EBFA;\n",
              "      --hover-fill-color: #174EA6;\n",
              "      --disabled-fill-color: #AAA;\n",
              "      --disabled-bg-color: #DDD;\n",
              "  }\n",
              "\n",
              "  [theme=dark] .colab-df-quickchart {\n",
              "      --bg-color: #3B4455;\n",
              "      --fill-color: #D2E3FC;\n",
              "      --hover-bg-color: #434B5C;\n",
              "      --hover-fill-color: #FFFFFF;\n",
              "      --disabled-bg-color: #3B4455;\n",
              "      --disabled-fill-color: #666;\n",
              "  }\n",
              "\n",
              "  .colab-df-quickchart {\n",
              "    background-color: var(--bg-color);\n",
              "    border: none;\n",
              "    border-radius: 50%;\n",
              "    cursor: pointer;\n",
              "    display: none;\n",
              "    fill: var(--fill-color);\n",
              "    height: 32px;\n",
              "    padding: 0;\n",
              "    width: 32px;\n",
              "  }\n",
              "\n",
              "  .colab-df-quickchart:hover {\n",
              "    background-color: var(--hover-bg-color);\n",
              "    box-shadow: 0 1px 2px rgba(60, 64, 67, 0.3), 0 1px 3px 1px rgba(60, 64, 67, 0.15);\n",
              "    fill: var(--button-hover-fill-color);\n",
              "  }\n",
              "\n",
              "  .colab-df-quickchart-complete:disabled,\n",
              "  .colab-df-quickchart-complete:disabled:hover {\n",
              "    background-color: var(--disabled-bg-color);\n",
              "    fill: var(--disabled-fill-color);\n",
              "    box-shadow: none;\n",
              "  }\n",
              "\n",
              "  .colab-df-spinner {\n",
              "    border: 2px solid var(--fill-color);\n",
              "    border-color: transparent;\n",
              "    border-bottom-color: var(--fill-color);\n",
              "    animation:\n",
              "      spin 1s steps(1) infinite;\n",
              "  }\n",
              "\n",
              "  @keyframes spin {\n",
              "    0% {\n",
              "      border-color: transparent;\n",
              "      border-bottom-color: var(--fill-color);\n",
              "      border-left-color: var(--fill-color);\n",
              "    }\n",
              "    20% {\n",
              "      border-color: transparent;\n",
              "      border-left-color: var(--fill-color);\n",
              "      border-top-color: var(--fill-color);\n",
              "    }\n",
              "    30% {\n",
              "      border-color: transparent;\n",
              "      border-left-color: var(--fill-color);\n",
              "      border-top-color: var(--fill-color);\n",
              "      border-right-color: var(--fill-color);\n",
              "    }\n",
              "    40% {\n",
              "      border-color: transparent;\n",
              "      border-right-color: var(--fill-color);\n",
              "      border-top-color: var(--fill-color);\n",
              "    }\n",
              "    60% {\n",
              "      border-color: transparent;\n",
              "      border-right-color: var(--fill-color);\n",
              "    }\n",
              "    80% {\n",
              "      border-color: transparent;\n",
              "      border-right-color: var(--fill-color);\n",
              "      border-bottom-color: var(--fill-color);\n",
              "    }\n",
              "    90% {\n",
              "      border-color: transparent;\n",
              "      border-bottom-color: var(--fill-color);\n",
              "    }\n",
              "  }\n",
              "</style>\n",
              "\n",
              "  <script>\n",
              "    async function quickchart(key) {\n",
              "      const quickchartButtonEl =\n",
              "        document.querySelector('#' + key + ' button');\n",
              "      quickchartButtonEl.disabled = true;  // To prevent multiple clicks.\n",
              "      quickchartButtonEl.classList.add('colab-df-spinner');\n",
              "      try {\n",
              "        const charts = await google.colab.kernel.invokeFunction(\n",
              "            'suggestCharts', [key], {});\n",
              "      } catch (error) {\n",
              "        console.error('Error during call to suggestCharts:', error);\n",
              "      }\n",
              "      quickchartButtonEl.classList.remove('colab-df-spinner');\n",
              "      quickchartButtonEl.classList.add('colab-df-quickchart-complete');\n",
              "    }\n",
              "    (() => {\n",
              "      let quickchartButtonEl =\n",
              "        document.querySelector('#df-601bd9c5-ceee-46f7-827e-8fa8408d0b53 button');\n",
              "      quickchartButtonEl.style.display =\n",
              "        google.colab.kernel.accessAllowed ? 'block' : 'none';\n",
              "    })();\n",
              "  </script>\n",
              "</div>\n",
              "    </div>\n",
              "  </div>\n"
            ]
          },
          "metadata": {},
          "execution_count": 134
        }
      ],
      "source": [
        "t = pd.pivot_table(df[(df['total_income_category'] != 'A')&(df['total_income_category'] != 'E')],\n",
        "               index=['children', 'total_income_category'],\n",
        "               values='debt',\n",
        "               aggfunc=['count','mean'])\n",
        "t.columns = ['_'.join(col).strip() for col in t.columns.values]\n",
        "t.sort_values(by='mean_debt')"
      ]
    },
    {
      "cell_type": "markdown",
      "id": "7e4c634c",
      "metadata": {
        "id": "7e4c634c"
      },
      "source": [
        "**It was not possible to identify any clear connection between the amount of income in the group with 3 children, which would explain the decrease in the share of debtors in the presence of 3 children.**\n",
        "\n",
        "**Let's continue researching other connections.**"
      ]
    },
    {
      "cell_type": "markdown",
      "id": "5d3c652a",
      "metadata": {
        "id": "5d3c652a"
      },
      "source": [
        "**Let’s check how clients with different numbers of children are distributed according to loan purposes. To do this, we will build a pivot table using the `pivot_table()` method, in which we will take information about the presence of debt as values, and display the share of debt using the `mean()` method and the number of records for the intersection of loan goals and the number of children with using the `count()` method to evaluate whether this data can be used in our analysis.**\n",
        "\n",
        "**Additionally, for orientation in the data, we will display a “dictionary” `purpose_dict` of loan goals.**"
      ]
    },
    {
      "cell_type": "code",
      "execution_count": 135,
      "id": "be2f1534",
      "metadata": {
        "id": "be2f1534",
        "outputId": "7224751a-787b-42f8-e88c-6ead4a9dae72",
        "colab": {
          "base_uri": "https://localhost:8080/",
          "height": 661
        }
      },
      "outputs": [
        {
          "output_type": "stream",
          "name": "stdout",
          "text": [
            "   purpose_category_id          purpose_category\n",
            "0                    1  операции с недвижимостью\n",
            "1                    0    операции с автомобилем\n",
            "2                    3     получение образования\n",
            "3                    2        проведение свадьбы\n"
          ]
        },
        {
          "output_type": "execute_result",
          "data": {
            "text/plain": [
              "                              count_debt  mean_debt\n",
              "children purpose_category_id                       \n",
              "3        3                            77   0.051948\n",
              "2        2                           215   0.055814\n",
              "0        1                          7043   0.067301\n",
              "         2                          1519   0.074391\n",
              "1        1                          2442   0.081491\n",
              "3        1                           193   0.082902\n",
              "         0                            72   0.083333\n",
              "0        0                          2832   0.085452\n",
              "2        1                          1025   0.085854\n",
              "0        3                          2627   0.087172\n",
              "1        2                           529   0.096408\n",
              "         3                           865   0.104046\n",
              "         0                           956   0.105649\n",
              "2        3                           401   0.114713\n",
              "         0                           398   0.120603\n",
              "3        2                            36   0.138889"
            ],
            "text/html": [
              "\n",
              "  <div id=\"df-9a4f44f6-ff91-4f97-8dad-cbb58e3725ca\" class=\"colab-df-container\">\n",
              "    <div>\n",
              "<style scoped>\n",
              "    .dataframe tbody tr th:only-of-type {\n",
              "        vertical-align: middle;\n",
              "    }\n",
              "\n",
              "    .dataframe tbody tr th {\n",
              "        vertical-align: top;\n",
              "    }\n",
              "\n",
              "    .dataframe thead th {\n",
              "        text-align: right;\n",
              "    }\n",
              "</style>\n",
              "<table border=\"1\" class=\"dataframe\">\n",
              "  <thead>\n",
              "    <tr style=\"text-align: right;\">\n",
              "      <th></th>\n",
              "      <th></th>\n",
              "      <th>count_debt</th>\n",
              "      <th>mean_debt</th>\n",
              "    </tr>\n",
              "    <tr>\n",
              "      <th>children</th>\n",
              "      <th>purpose_category_id</th>\n",
              "      <th></th>\n",
              "      <th></th>\n",
              "    </tr>\n",
              "  </thead>\n",
              "  <tbody>\n",
              "    <tr>\n",
              "      <th>3</th>\n",
              "      <th>3</th>\n",
              "      <td>77</td>\n",
              "      <td>0.051948</td>\n",
              "    </tr>\n",
              "    <tr>\n",
              "      <th>2</th>\n",
              "      <th>2</th>\n",
              "      <td>215</td>\n",
              "      <td>0.055814</td>\n",
              "    </tr>\n",
              "    <tr>\n",
              "      <th rowspan=\"2\" valign=\"top\">0</th>\n",
              "      <th>1</th>\n",
              "      <td>7043</td>\n",
              "      <td>0.067301</td>\n",
              "    </tr>\n",
              "    <tr>\n",
              "      <th>2</th>\n",
              "      <td>1519</td>\n",
              "      <td>0.074391</td>\n",
              "    </tr>\n",
              "    <tr>\n",
              "      <th>1</th>\n",
              "      <th>1</th>\n",
              "      <td>2442</td>\n",
              "      <td>0.081491</td>\n",
              "    </tr>\n",
              "    <tr>\n",
              "      <th rowspan=\"2\" valign=\"top\">3</th>\n",
              "      <th>1</th>\n",
              "      <td>193</td>\n",
              "      <td>0.082902</td>\n",
              "    </tr>\n",
              "    <tr>\n",
              "      <th>0</th>\n",
              "      <td>72</td>\n",
              "      <td>0.083333</td>\n",
              "    </tr>\n",
              "    <tr>\n",
              "      <th>0</th>\n",
              "      <th>0</th>\n",
              "      <td>2832</td>\n",
              "      <td>0.085452</td>\n",
              "    </tr>\n",
              "    <tr>\n",
              "      <th>2</th>\n",
              "      <th>1</th>\n",
              "      <td>1025</td>\n",
              "      <td>0.085854</td>\n",
              "    </tr>\n",
              "    <tr>\n",
              "      <th>0</th>\n",
              "      <th>3</th>\n",
              "      <td>2627</td>\n",
              "      <td>0.087172</td>\n",
              "    </tr>\n",
              "    <tr>\n",
              "      <th rowspan=\"3\" valign=\"top\">1</th>\n",
              "      <th>2</th>\n",
              "      <td>529</td>\n",
              "      <td>0.096408</td>\n",
              "    </tr>\n",
              "    <tr>\n",
              "      <th>3</th>\n",
              "      <td>865</td>\n",
              "      <td>0.104046</td>\n",
              "    </tr>\n",
              "    <tr>\n",
              "      <th>0</th>\n",
              "      <td>956</td>\n",
              "      <td>0.105649</td>\n",
              "    </tr>\n",
              "    <tr>\n",
              "      <th rowspan=\"2\" valign=\"top\">2</th>\n",
              "      <th>3</th>\n",
              "      <td>401</td>\n",
              "      <td>0.114713</td>\n",
              "    </tr>\n",
              "    <tr>\n",
              "      <th>0</th>\n",
              "      <td>398</td>\n",
              "      <td>0.120603</td>\n",
              "    </tr>\n",
              "    <tr>\n",
              "      <th>3</th>\n",
              "      <th>2</th>\n",
              "      <td>36</td>\n",
              "      <td>0.138889</td>\n",
              "    </tr>\n",
              "  </tbody>\n",
              "</table>\n",
              "</div>\n",
              "    <div class=\"colab-df-buttons\">\n",
              "\n",
              "  <div class=\"colab-df-container\">\n",
              "    <button class=\"colab-df-convert\" onclick=\"convertToInteractive('df-9a4f44f6-ff91-4f97-8dad-cbb58e3725ca')\"\n",
              "            title=\"Convert this dataframe to an interactive table.\"\n",
              "            style=\"display:none;\">\n",
              "\n",
              "  <svg xmlns=\"http://www.w3.org/2000/svg\" height=\"24px\" viewBox=\"0 -960 960 960\">\n",
              "    <path d=\"M120-120v-720h720v720H120Zm60-500h600v-160H180v160Zm220 220h160v-160H400v160Zm0 220h160v-160H400v160ZM180-400h160v-160H180v160Zm440 0h160v-160H620v160ZM180-180h160v-160H180v160Zm440 0h160v-160H620v160Z\"/>\n",
              "  </svg>\n",
              "    </button>\n",
              "\n",
              "  <style>\n",
              "    .colab-df-container {\n",
              "      display:flex;\n",
              "      gap: 12px;\n",
              "    }\n",
              "\n",
              "    .colab-df-convert {\n",
              "      background-color: #E8F0FE;\n",
              "      border: none;\n",
              "      border-radius: 50%;\n",
              "      cursor: pointer;\n",
              "      display: none;\n",
              "      fill: #1967D2;\n",
              "      height: 32px;\n",
              "      padding: 0 0 0 0;\n",
              "      width: 32px;\n",
              "    }\n",
              "\n",
              "    .colab-df-convert:hover {\n",
              "      background-color: #E2EBFA;\n",
              "      box-shadow: 0px 1px 2px rgba(60, 64, 67, 0.3), 0px 1px 3px 1px rgba(60, 64, 67, 0.15);\n",
              "      fill: #174EA6;\n",
              "    }\n",
              "\n",
              "    .colab-df-buttons div {\n",
              "      margin-bottom: 4px;\n",
              "    }\n",
              "\n",
              "    [theme=dark] .colab-df-convert {\n",
              "      background-color: #3B4455;\n",
              "      fill: #D2E3FC;\n",
              "    }\n",
              "\n",
              "    [theme=dark] .colab-df-convert:hover {\n",
              "      background-color: #434B5C;\n",
              "      box-shadow: 0px 1px 3px 1px rgba(0, 0, 0, 0.15);\n",
              "      filter: drop-shadow(0px 1px 2px rgba(0, 0, 0, 0.3));\n",
              "      fill: #FFFFFF;\n",
              "    }\n",
              "  </style>\n",
              "\n",
              "    <script>\n",
              "      const buttonEl =\n",
              "        document.querySelector('#df-9a4f44f6-ff91-4f97-8dad-cbb58e3725ca button.colab-df-convert');\n",
              "      buttonEl.style.display =\n",
              "        google.colab.kernel.accessAllowed ? 'block' : 'none';\n",
              "\n",
              "      async function convertToInteractive(key) {\n",
              "        const element = document.querySelector('#df-9a4f44f6-ff91-4f97-8dad-cbb58e3725ca');\n",
              "        const dataTable =\n",
              "          await google.colab.kernel.invokeFunction('convertToInteractive',\n",
              "                                                    [key], {});\n",
              "        if (!dataTable) return;\n",
              "\n",
              "        const docLinkHtml = 'Like what you see? Visit the ' +\n",
              "          '<a target=\"_blank\" href=https://colab.research.google.com/notebooks/data_table.ipynb>data table notebook</a>'\n",
              "          + ' to learn more about interactive tables.';\n",
              "        element.innerHTML = '';\n",
              "        dataTable['output_type'] = 'display_data';\n",
              "        await google.colab.output.renderOutput(dataTable, element);\n",
              "        const docLink = document.createElement('div');\n",
              "        docLink.innerHTML = docLinkHtml;\n",
              "        element.appendChild(docLink);\n",
              "      }\n",
              "    </script>\n",
              "  </div>\n",
              "\n",
              "\n",
              "<div id=\"df-523af679-5e17-4fdb-9cd2-d100076e394c\">\n",
              "  <button class=\"colab-df-quickchart\" onclick=\"quickchart('df-523af679-5e17-4fdb-9cd2-d100076e394c')\"\n",
              "            title=\"Suggest charts.\"\n",
              "            style=\"display:none;\">\n",
              "\n",
              "<svg xmlns=\"http://www.w3.org/2000/svg\" height=\"24px\"viewBox=\"0 0 24 24\"\n",
              "     width=\"24px\">\n",
              "    <g>\n",
              "        <path d=\"M19 3H5c-1.1 0-2 .9-2 2v14c0 1.1.9 2 2 2h14c1.1 0 2-.9 2-2V5c0-1.1-.9-2-2-2zM9 17H7v-7h2v7zm4 0h-2V7h2v10zm4 0h-2v-4h2v4z\"/>\n",
              "    </g>\n",
              "</svg>\n",
              "  </button>\n",
              "\n",
              "<style>\n",
              "  .colab-df-quickchart {\n",
              "      --bg-color: #E8F0FE;\n",
              "      --fill-color: #1967D2;\n",
              "      --hover-bg-color: #E2EBFA;\n",
              "      --hover-fill-color: #174EA6;\n",
              "      --disabled-fill-color: #AAA;\n",
              "      --disabled-bg-color: #DDD;\n",
              "  }\n",
              "\n",
              "  [theme=dark] .colab-df-quickchart {\n",
              "      --bg-color: #3B4455;\n",
              "      --fill-color: #D2E3FC;\n",
              "      --hover-bg-color: #434B5C;\n",
              "      --hover-fill-color: #FFFFFF;\n",
              "      --disabled-bg-color: #3B4455;\n",
              "      --disabled-fill-color: #666;\n",
              "  }\n",
              "\n",
              "  .colab-df-quickchart {\n",
              "    background-color: var(--bg-color);\n",
              "    border: none;\n",
              "    border-radius: 50%;\n",
              "    cursor: pointer;\n",
              "    display: none;\n",
              "    fill: var(--fill-color);\n",
              "    height: 32px;\n",
              "    padding: 0;\n",
              "    width: 32px;\n",
              "  }\n",
              "\n",
              "  .colab-df-quickchart:hover {\n",
              "    background-color: var(--hover-bg-color);\n",
              "    box-shadow: 0 1px 2px rgba(60, 64, 67, 0.3), 0 1px 3px 1px rgba(60, 64, 67, 0.15);\n",
              "    fill: var(--button-hover-fill-color);\n",
              "  }\n",
              "\n",
              "  .colab-df-quickchart-complete:disabled,\n",
              "  .colab-df-quickchart-complete:disabled:hover {\n",
              "    background-color: var(--disabled-bg-color);\n",
              "    fill: var(--disabled-fill-color);\n",
              "    box-shadow: none;\n",
              "  }\n",
              "\n",
              "  .colab-df-spinner {\n",
              "    border: 2px solid var(--fill-color);\n",
              "    border-color: transparent;\n",
              "    border-bottom-color: var(--fill-color);\n",
              "    animation:\n",
              "      spin 1s steps(1) infinite;\n",
              "  }\n",
              "\n",
              "  @keyframes spin {\n",
              "    0% {\n",
              "      border-color: transparent;\n",
              "      border-bottom-color: var(--fill-color);\n",
              "      border-left-color: var(--fill-color);\n",
              "    }\n",
              "    20% {\n",
              "      border-color: transparent;\n",
              "      border-left-color: var(--fill-color);\n",
              "      border-top-color: var(--fill-color);\n",
              "    }\n",
              "    30% {\n",
              "      border-color: transparent;\n",
              "      border-left-color: var(--fill-color);\n",
              "      border-top-color: var(--fill-color);\n",
              "      border-right-color: var(--fill-color);\n",
              "    }\n",
              "    40% {\n",
              "      border-color: transparent;\n",
              "      border-right-color: var(--fill-color);\n",
              "      border-top-color: var(--fill-color);\n",
              "    }\n",
              "    60% {\n",
              "      border-color: transparent;\n",
              "      border-right-color: var(--fill-color);\n",
              "    }\n",
              "    80% {\n",
              "      border-color: transparent;\n",
              "      border-right-color: var(--fill-color);\n",
              "      border-bottom-color: var(--fill-color);\n",
              "    }\n",
              "    90% {\n",
              "      border-color: transparent;\n",
              "      border-bottom-color: var(--fill-color);\n",
              "    }\n",
              "  }\n",
              "</style>\n",
              "\n",
              "  <script>\n",
              "    async function quickchart(key) {\n",
              "      const quickchartButtonEl =\n",
              "        document.querySelector('#' + key + ' button');\n",
              "      quickchartButtonEl.disabled = true;  // To prevent multiple clicks.\n",
              "      quickchartButtonEl.classList.add('colab-df-spinner');\n",
              "      try {\n",
              "        const charts = await google.colab.kernel.invokeFunction(\n",
              "            'suggestCharts', [key], {});\n",
              "      } catch (error) {\n",
              "        console.error('Error during call to suggestCharts:', error);\n",
              "      }\n",
              "      quickchartButtonEl.classList.remove('colab-df-spinner');\n",
              "      quickchartButtonEl.classList.add('colab-df-quickchart-complete');\n",
              "    }\n",
              "    (() => {\n",
              "      let quickchartButtonEl =\n",
              "        document.querySelector('#df-523af679-5e17-4fdb-9cd2-d100076e394c button');\n",
              "      quickchartButtonEl.style.display =\n",
              "        google.colab.kernel.accessAllowed ? 'block' : 'none';\n",
              "    })();\n",
              "  </script>\n",
              "</div>\n",
              "    </div>\n",
              "  </div>\n"
            ]
          },
          "metadata": {},
          "execution_count": 135
        }
      ],
      "source": [
        "print(purpose_dict)\n",
        "t = pd.pivot_table(df,\n",
        "               index=['children', 'purpose_category_id'],\n",
        "               values='debt',\n",
        "               aggfunc=['count','mean'])\n",
        "t.columns = ['_'.join(col).strip() for col in t.columns.values]\n",
        "t.sort_values(by='mean_debt')"
      ]
    },
    {
      "cell_type": "markdown",
      "id": "ce649537",
      "metadata": {
        "id": "ce649537"
      },
      "source": [
        "**We see that a large share of the group with 3 children took out a loan for the purpose of “real estate transactions.” Let's check the distribution of the shares of debtors by loan purpose in the entire dataframe and display it in the form of a bar chart in increasing order of the share of debtors.**"
      ]
    },
    {
      "cell_type": "code",
      "execution_count": 136,
      "id": "72d1b45d",
      "metadata": {
        "id": "72d1b45d",
        "outputId": "002495da-39d8-4f20-ba12-4e833d39aeab",
        "colab": {
          "base_uri": "https://localhost:8080/",
          "height": 444
        }
      },
      "outputs": [
        {
          "output_type": "display_data",
          "data": {
            "text/plain": [
              "<Figure size 640x480 with 1 Axes>"
            ],
            "image/png": "[encoded data removed]"
          },
          "metadata": {}
        }
      ],
      "source": [
        "df.groupby('purpose_category_id')['debt'].mean().sort_values().plot(kind='bar');"
      ]
    },
    {
      "cell_type": "markdown",
      "id": "192d9018",
      "metadata": {
        "id": "192d9018"
      },
      "source": [
        "**We see that the smallest share of debtors was in the group where the purpose of the loan was “real estate transactions.” This is where a possible explanation appears for why in the group with 3 children we received a smaller share of debtors than in the group with 2 children. Most of the clients with 3 children took out a loan to improve their living conditions, which is usually secured by the collateral of the same real estate. However, one must also take into account the fact that the group of 3 or more children is extremely small in terms of the number of clients compared to the total number of clients in the dataframe and is only 1.8%, which may mean that it is unrepresentative**"
      ]
    },
    {
      "cell_type": "markdown",
      "id": "ca907a0d",
      "metadata": {
        "deletable": false,
        "id": "ca907a0d"
      },
      "source": [
        "**Conclusion: we see that the share of clients who had a loan repayment debt grows depending on the number of children the client has, however, for the value of `3` or more children, the share of those who had a loan repayment debt falls, but the number of this group of clients is only 1.8% of all clients in the dataset, which may give incorrect results due to the unrepresentativeness of this group.**"
      ]
    },
    {
      "cell_type": "markdown",
      "id": "76794f71",
      "metadata": {
        "deletable": false,
        "editable": false,
        "id": "76794f71"
      },
      "source": [
        "#### 3.2 Let's check whether there is a relationship between marital status and repayment of the loan on time."
      ]
    },
    {
      "cell_type": "markdown",
      "id": "c9ceebfc",
      "metadata": {
        "id": "c9ceebfc"
      },
      "source": [
        "**Let’s group the data frame in such a way as to see how the share of those who had debt to repay the loan is distributed depending on their marital status and the number of clients in each of these groups. To do this, we will group by the `family_status_id` column for the `debt` column and apply the `agg()` function in which the arguments will be two methods `count` and `mean`.**\n",
        "\n",
        "**We will also use the `value_counts` method with the `normalize=True` parameter to estimate the proportion of each group with different marital status in the entire dataframe**"
      ]
    },
    {
      "cell_type": "code",
      "execution_count": 137,
      "id": "c752b1ea",
      "metadata": {
        "deletable": false,
        "id": "c752b1ea",
        "outputId": "c5cbecbc-d991-4898-c3cf-874c215bf015",
        "colab": {
          "base_uri": "https://localhost:8080/"
        }
      },
      "outputs": [
        {
          "output_type": "stream",
          "name": "stdout",
          "text": [
            "                      mean  count\n",
            "family_status_id                 \n",
            "0                 0.075575  12213\n",
            "1                 0.093142   4112\n",
            "2                 0.065539    946\n",
            "3                 0.071247   1179\n",
            "4                 0.097842   2780\n"
          ]
        },
        {
          "output_type": "execute_result",
          "data": {
            "text/plain": [
              "0    0.575271\n",
              "1    0.193688\n",
              "4    0.130947\n",
              "3    0.055535\n",
              "2    0.044560\n",
              "Name: family_status_id, dtype: float64"
            ]
          },
          "metadata": {},
          "execution_count": 137
        }
      ],
      "source": [
        "print(df.groupby('family_status_id')['debt'].agg(['mean', 'count']))\n",
        "df['family_status_id'].value_counts(normalize=True)"
      ]
    },
    {
      "cell_type": "markdown",
      "id": "348548dc",
      "metadata": {
        "id": "348548dc"
      },
      "source": [
        "**Let us now construct a column chart in ascending order according to the values reflecting the share of those who had debts depending on their marital status. Additionally, we will display a “dictionary” of these values to make it easier to correlate the identifier and the corresponding value of the client’s marital status.**"
      ]
    },
    {
      "cell_type": "code",
      "execution_count": 138,
      "id": "616ba7e8",
      "metadata": {
        "id": "616ba7e8",
        "outputId": "f144a9f5-ad59-4d73-97cb-c3d9e55f7e32",
        "colab": {
          "base_uri": "https://localhost:8080/",
          "height": 563
        }
      },
      "outputs": [
        {
          "output_type": "stream",
          "name": "stdout",
          "text": [
            "   family_status_id          family_status\n",
            "0                 0        женат / замужем\n",
            "1                 1       гражданский брак\n",
            "2                 2         вдовец / вдова\n",
            "3                 3              в разводе\n",
            "4                 4  не женат / не замужем\n"
          ]
        },
        {
          "output_type": "execute_result",
          "data": {
            "text/plain": [
              "<Axes: xlabel='family_status_id'>"
            ]
          },
          "metadata": {},
          "execution_count": 138
        },
        {
          "output_type": "display_data",
          "data": {
            "text/plain": [
              "<Figure size 640x480 with 1 Axes>"
            ],
            "image/png": "[encoded data removed]"
          },
          "metadata": {}
        }
      ],
      "source": [
        "print(family_status_dict)\n",
        "df.groupby('family_status_id')['debt'].mean().sort_values().plot(kind='bar')"
      ]
    },
    {
      "cell_type": "markdown",
      "id": "69040ab5",
      "metadata": {
        "deletable": false,
        "id": "69040ab5"
      },
      "source": [
        "**Conclusion: we see that the share of having a loan repayment debt is higher among those clients who are in a “civil marriage” or “single”, and for the value “not married” the share of those who had a loan repayment debt the highest of all. At the same time, for the values `widower/widow` and `divorced`, the share of those who had debt to repay the loan is the lowest, but these groups are not numerous - 4.4% and 5.5% of the total number of clients in the dataset, respectively.**"
      ]
    },
    {
      "cell_type": "markdown",
      "id": "5b5bd26c",
      "metadata": {
        "deletable": false,
        "editable": false,
        "id": "5b5bd26c"
      },
      "source": [
        "#### 3.3 Let's check whether there is a relationship between the level of income and repayment of the loan on time."
      ]
    },
    {
      "cell_type": "markdown",
      "id": "00cc7000",
      "metadata": {
        "id": "00cc7000"
      },
      "source": [
        "**Let's group the data frame in such a way as to see how the share of those who had debt on loan repayment is distributed depending on the level of income and the number of clients in each of these groups. To do this, let's group by the `total_income_category` column for the `debt` column and apply the `agg()` function in which the arguments will be two methods `count` and `mean`.**\n",
        "\n",
        "**We will also use the `value_counts` method with the `normalize=True` parameter to estimate the proportion of the number of each category in the entire dataframe**"
      ]
    },
    {
      "cell_type": "code",
      "execution_count": 139,
      "id": "8e550074",
      "metadata": {
        "id": "8e550074",
        "outputId": "395ae49c-fc5e-40b7-cc96-9db5f6441720",
        "colab": {
          "base_uri": "https://localhost:8080/"
        }
      },
      "outputs": [
        {
          "output_type": "stream",
          "name": "stdout",
          "text": [
            "                           mean  count\n",
            "total_income_category                 \n",
            "A                      0.080000     25\n",
            "B                      0.070784   4987\n",
            "C                      0.084926  15849\n",
            "D                      0.060519    347\n",
            "E                      0.090909     22\n"
          ]
        },
        {
          "output_type": "execute_result",
          "data": {
            "text/plain": [
              "C    0.746538\n",
              "B    0.234903\n",
              "D    0.016345\n",
              "A    0.001178\n",
              "E    0.001036\n",
              "Name: total_income_category, dtype: float64"
            ]
          },
          "metadata": {},
          "execution_count": 139
        }
      ],
      "source": [
        "print(df.groupby('total_income_category')['debt'].agg(['mean', 'count']))\n",
        "df['total_income_category'].value_counts(normalize=True)"
      ]
    },
    {
      "cell_type": "markdown",
      "id": "ae83e03b",
      "metadata": {
        "id": "ae83e03b"
      },
      "source": [
        "**Let us now construct a bar chart reflecting the dependence of the share of those who had debt on loan repayment on the level of income. Additionally, we will display a “dictionary” of these values to make it easier to correlate the key and the corresponding value of the client’s income level range.**"
      ]
    },
    {
      "cell_type": "code",
      "execution_count": 140,
      "id": "edf31b4d",
      "metadata": {
        "deletable": false,
        "id": "edf31b4d",
        "outputId": "b17d1943-63a6-4c7c-c1b0-7fa83589c813",
        "colab": {
          "base_uri": "https://localhost:8080/",
          "height": 548
        }
      },
      "outputs": [
        {
          "output_type": "stream",
          "name": "stdout",
          "text": [
            "  total_income_category      min        max\n",
            "0                     A  1000001        inf\n",
            "1                     B   200001  1000000.0\n",
            "2                     C    50001   200000.0\n",
            "3                     D    30001    50000.0\n",
            "4                     E        0    30000.0\n"
          ]
        },
        {
          "output_type": "display_data",
          "data": {
            "text/plain": [
              "<Figure size 640x480 with 1 Axes>"
            ],
            "image/png": "[encoded data removed]"
          },
          "metadata": {}
        }
      ],
      "source": [
        "print(total_income_dict)\n",
        "df.groupby('total_income_category')['debt'].mean().plot(kind='bar');"
      ]
    },
    {
      "cell_type": "markdown",
      "id": "6befa87c",
      "metadata": {
        "id": "6befa87c"
      },
      "source": [
        "**We see that the amount of data in income categories `'A'`, `'D'`, `'E'` is too small in comparison with other categories to take into account the shares of debtors in these categories, the number of these categories from the total dataset 0.1%, 0.1% and 1.6% respectively. Let's discard them in the analysis.**"
      ]
    },
    {
      "cell_type": "code",
      "execution_count": 141,
      "id": "bcd6ebb3",
      "metadata": {
        "id": "bcd6ebb3",
        "outputId": "7980a1ab-fdcd-4e7e-a381-e111d2c365b1",
        "colab": {
          "base_uri": "https://localhost:8080/",
          "height": 445
        }
      },
      "outputs": [
        {
          "output_type": "display_data",
          "data": {
            "text/plain": [
              "<Figure size 640x480 with 1 Axes>"
            ],
            "image/png": "[encoded data removed]"
          },
          "metadata": {}
        }
      ],
      "source": [
        "df[(df['total_income_category'] == 'B') | (df['total_income_category'] == 'C')].groupby('total_income_category')['debt'].mean().plot(kind='bar');"
      ]
    },
    {
      "cell_type": "markdown",
      "id": "f2e666e6",
      "metadata": {
        "deletable": false,
        "id": "f2e666e6"
      },
      "source": [
        "**Conclusion: We see that the lower the client’s income level, the higher the likelihood of loan debt.**"
      ]
    },
    {
      "cell_type": "markdown",
      "id": "3930e6dd",
      "metadata": {
        "deletable": false,
        "editable": false,
        "id": "3930e6dd"
      },
      "source": [
        "#### 3.4 Let's check how different purposes of a loan affect its repayment on time."
      ]
    },
    {
      "cell_type": "markdown",
      "id": "cdf0e042",
      "metadata": {
        "id": "cdf0e042"
      },
      "source": [
        "**Let’s group the data frame in such a way as to see how the share of those who had a loan repayment debt is distributed depending on the purpose of the loan and the number of clients in each of these groups. To do this, we will group by the `purpose_category_id` column for the `debt` column and apply the `agg()` function in which the arguments will be two methods `count` and `mean`.**"
      ]
    },
    {
      "cell_type": "code",
      "execution_count": 142,
      "id": "2a3d7279",
      "metadata": {
        "deletable": false,
        "id": "2a3d7279",
        "outputId": "3ce2f3fc-19e4-4ead-c070-128516141ed2",
        "colab": {
          "base_uri": "https://localhost:8080/",
          "height": 204
        }
      },
      "outputs": [
        {
          "output_type": "execute_result",
          "data": {
            "text/plain": [
              "                         mean  count\n",
              "purpose_category_id                 \n",
              "0                    0.093236   4258\n",
              "1                    0.072596  10703\n",
              "2                    0.078730   2299\n",
              "3                    0.092947   3970"
            ],
            "text/html": [
              "\n",
              "  <div id=\"df-ad36a020-6cdf-43ad-97dd-5219fe5b984c\" class=\"colab-df-container\">\n",
              "    <div>\n",
              "<style scoped>\n",
              "    .dataframe tbody tr th:only-of-type {\n",
              "        vertical-align: middle;\n",
              "    }\n",
              "\n",
              "    .dataframe tbody tr th {\n",
              "        vertical-align: top;\n",
              "    }\n",
              "\n",
              "    .dataframe thead th {\n",
              "        text-align: right;\n",
              "    }\n",
              "</style>\n",
              "<table border=\"1\" class=\"dataframe\">\n",
              "  <thead>\n",
              "    <tr style=\"text-align: right;\">\n",
              "      <th></th>\n",
              "      <th>mean</th>\n",
              "      <th>count</th>\n",
              "    </tr>\n",
              "    <tr>\n",
              "      <th>purpose_category_id</th>\n",
              "      <th></th>\n",
              "      <th></th>\n",
              "    </tr>\n",
              "  </thead>\n",
              "  <tbody>\n",
              "    <tr>\n",
              "      <th>0</th>\n",
              "      <td>0.093236</td>\n",
              "      <td>4258</td>\n",
              "    </tr>\n",
              "    <tr>\n",
              "      <th>1</th>\n",
              "      <td>0.072596</td>\n",
              "      <td>10703</td>\n",
              "    </tr>\n",
              "    <tr>\n",
              "      <th>2</th>\n",
              "      <td>0.078730</td>\n",
              "      <td>2299</td>\n",
              "    </tr>\n",
              "    <tr>\n",
              "      <th>3</th>\n",
              "      <td>0.092947</td>\n",
              "      <td>3970</td>\n",
              "    </tr>\n",
              "  </tbody>\n",
              "</table>\n",
              "</div>\n",
              "    <div class=\"colab-df-buttons\">\n",
              "\n",
              "  <div class=\"colab-df-container\">\n",
              "    <button class=\"colab-df-convert\" onclick=\"convertToInteractive('df-ad36a020-6cdf-43ad-97dd-5219fe5b984c')\"\n",
              "            title=\"Convert this dataframe to an interactive table.\"\n",
              "            style=\"display:none;\">\n",
              "\n",
              "  <svg xmlns=\"http://www.w3.org/2000/svg\" height=\"24px\" viewBox=\"0 -960 960 960\">\n",
              "    <path d=\"M120-120v-720h720v720H120Zm60-500h600v-160H180v160Zm220 220h160v-160H400v160Zm0 220h160v-160H400v160ZM180-400h160v-160H180v160Zm440 0h160v-160H620v160ZM180-180h160v-160H180v160Zm440 0h160v-160H620v160Z\"/>\n",
              "  </svg>\n",
              "    </button>\n",
              "\n",
              "  <style>\n",
              "    .colab-df-container {\n",
              "      display:flex;\n",
              "      gap: 12px;\n",
              "    }\n",
              "\n",
              "    .colab-df-convert {\n",
              "      background-color: #E8F0FE;\n",
              "      border: none;\n",
              "      border-radius: 50%;\n",
              "      cursor: pointer;\n",
              "      display: none;\n",
              "      fill: #1967D2;\n",
              "      height: 32px;\n",
              "      padding: 0 0 0 0;\n",
              "      width: 32px;\n",
              "    }\n",
              "\n",
              "    .colab-df-convert:hover {\n",
              "      background-color: #E2EBFA;\n",
              "      box-shadow: 0px 1px 2px rgba(60, 64, 67, 0.3), 0px 1px 3px 1px rgba(60, 64, 67, 0.15);\n",
              "      fill: #174EA6;\n",
              "    }\n",
              "\n",
              "    .colab-df-buttons div {\n",
              "      margin-bottom: 4px;\n",
              "    }\n",
              "\n",
              "    [theme=dark] .colab-df-convert {\n",
              "      background-color: #3B4455;\n",
              "      fill: #D2E3FC;\n",
              "    }\n",
              "\n",
              "    [theme=dark] .colab-df-convert:hover {\n",
              "      background-color: #434B5C;\n",
              "      box-shadow: 0px 1px 3px 1px rgba(0, 0, 0, 0.15);\n",
              "      filter: drop-shadow(0px 1px 2px rgba(0, 0, 0, 0.3));\n",
              "      fill: #FFFFFF;\n",
              "    }\n",
              "  </style>\n",
              "\n",
              "    <script>\n",
              "      const buttonEl =\n",
              "        document.querySelector('#df-ad36a020-6cdf-43ad-97dd-5219fe5b984c button.colab-df-convert');\n",
              "      buttonEl.style.display =\n",
              "        google.colab.kernel.accessAllowed ? 'block' : 'none';\n",
              "\n",
              "      async function convertToInteractive(key) {\n",
              "        const element = document.querySelector('#df-ad36a020-6cdf-43ad-97dd-5219fe5b984c');\n",
              "        const dataTable =\n",
              "          await google.colab.kernel.invokeFunction('convertToInteractive',\n",
              "                                                    [key], {});\n",
              "        if (!dataTable) return;\n",
              "\n",
              "        const docLinkHtml = 'Like what you see? Visit the ' +\n",
              "          '<a target=\"_blank\" href=https://colab.research.google.com/notebooks/data_table.ipynb>data table notebook</a>'\n",
              "          + ' to learn more about interactive tables.';\n",
              "        element.innerHTML = '';\n",
              "        dataTable['output_type'] = 'display_data';\n",
              "        await google.colab.output.renderOutput(dataTable, element);\n",
              "        const docLink = document.createElement('div');\n",
              "        docLink.innerHTML = docLinkHtml;\n",
              "        element.appendChild(docLink);\n",
              "      }\n",
              "    </script>\n",
              "  </div>\n",
              "\n",
              "\n",
              "<div id=\"df-b618f671-6e41-4487-8698-1ccdf07f50c7\">\n",
              "  <button class=\"colab-df-quickchart\" onclick=\"quickchart('df-b618f671-6e41-4487-8698-1ccdf07f50c7')\"\n",
              "            title=\"Suggest charts.\"\n",
              "            style=\"display:none;\">\n",
              "\n",
              "<svg xmlns=\"http://www.w3.org/2000/svg\" height=\"24px\"viewBox=\"0 0 24 24\"\n",
              "     width=\"24px\">\n",
              "    <g>\n",
              "        <path d=\"M19 3H5c-1.1 0-2 .9-2 2v14c0 1.1.9 2 2 2h14c1.1 0 2-.9 2-2V5c0-1.1-.9-2-2-2zM9 17H7v-7h2v7zm4 0h-2V7h2v10zm4 0h-2v-4h2v4z\"/>\n",
              "    </g>\n",
              "</svg>\n",
              "  </button>\n",
              "\n",
              "<style>\n",
              "  .colab-df-quickchart {\n",
              "      --bg-color: #E8F0FE;\n",
              "      --fill-color: #1967D2;\n",
              "      --hover-bg-color: #E2EBFA;\n",
              "      --hover-fill-color: #174EA6;\n",
              "      --disabled-fill-color: #AAA;\n",
              "      --disabled-bg-color: #DDD;\n",
              "  }\n",
              "\n",
              "  [theme=dark] .colab-df-quickchart {\n",
              "      --bg-color: #3B4455;\n",
              "      --fill-color: #D2E3FC;\n",
              "      --hover-bg-color: #434B5C;\n",
              "      --hover-fill-color: #FFFFFF;\n",
              "      --disabled-bg-color: #3B4455;\n",
              "      --disabled-fill-color: #666;\n",
              "  }\n",
              "\n",
              "  .colab-df-quickchart {\n",
              "    background-color: var(--bg-color);\n",
              "    border: none;\n",
              "    border-radius: 50%;\n",
              "    cursor: pointer;\n",
              "    display: none;\n",
              "    fill: var(--fill-color);\n",
              "    height: 32px;\n",
              "    padding: 0;\n",
              "    width: 32px;\n",
              "  }\n",
              "\n",
              "  .colab-df-quickchart:hover {\n",
              "    background-color: var(--hover-bg-color);\n",
              "    box-shadow: 0 1px 2px rgba(60, 64, 67, 0.3), 0 1px 3px 1px rgba(60, 64, 67, 0.15);\n",
              "    fill: var(--button-hover-fill-color);\n",
              "  }\n",
              "\n",
              "  .colab-df-quickchart-complete:disabled,\n",
              "  .colab-df-quickchart-complete:disabled:hover {\n",
              "    background-color: var(--disabled-bg-color);\n",
              "    fill: var(--disabled-fill-color);\n",
              "    box-shadow: none;\n",
              "  }\n",
              "\n",
              "  .colab-df-spinner {\n",
              "    border: 2px solid var(--fill-color);\n",
              "    border-color: transparent;\n",
              "    border-bottom-color: var(--fill-color);\n",
              "    animation:\n",
              "      spin 1s steps(1) infinite;\n",
              "  }\n",
              "\n",
              "  @keyframes spin {\n",
              "    0% {\n",
              "      border-color: transparent;\n",
              "      border-bottom-color: var(--fill-color);\n",
              "      border-left-color: var(--fill-color);\n",
              "    }\n",
              "    20% {\n",
              "      border-color: transparent;\n",
              "      border-left-color: var(--fill-color);\n",
              "      border-top-color: var(--fill-color);\n",
              "    }\n",
              "    30% {\n",
              "      border-color: transparent;\n",
              "      border-left-color: var(--fill-color);\n",
              "      border-top-color: var(--fill-color);\n",
              "      border-right-color: var(--fill-color);\n",
              "    }\n",
              "    40% {\n",
              "      border-color: transparent;\n",
              "      border-right-color: var(--fill-color);\n",
              "      border-top-color: var(--fill-color);\n",
              "    }\n",
              "    60% {\n",
              "      border-color: transparent;\n",
              "      border-right-color: var(--fill-color);\n",
              "    }\n",
              "    80% {\n",
              "      border-color: transparent;\n",
              "      border-right-color: var(--fill-color);\n",
              "      border-bottom-color: var(--fill-color);\n",
              "    }\n",
              "    90% {\n",
              "      border-color: transparent;\n",
              "      border-bottom-color: var(--fill-color);\n",
              "    }\n",
              "  }\n",
              "</style>\n",
              "\n",
              "  <script>\n",
              "    async function quickchart(key) {\n",
              "      const quickchartButtonEl =\n",
              "        document.querySelector('#' + key + ' button');\n",
              "      quickchartButtonEl.disabled = true;  // To prevent multiple clicks.\n",
              "      quickchartButtonEl.classList.add('colab-df-spinner');\n",
              "      try {\n",
              "        const charts = await google.colab.kernel.invokeFunction(\n",
              "            'suggestCharts', [key], {});\n",
              "      } catch (error) {\n",
              "        console.error('Error during call to suggestCharts:', error);\n",
              "      }\n",
              "      quickchartButtonEl.classList.remove('colab-df-spinner');\n",
              "      quickchartButtonEl.classList.add('colab-df-quickchart-complete');\n",
              "    }\n",
              "    (() => {\n",
              "      let quickchartButtonEl =\n",
              "        document.querySelector('#df-b618f671-6e41-4487-8698-1ccdf07f50c7 button');\n",
              "      quickchartButtonEl.style.display =\n",
              "        google.colab.kernel.accessAllowed ? 'block' : 'none';\n",
              "    })();\n",
              "  </script>\n",
              "</div>\n",
              "    </div>\n",
              "  </div>\n"
            ]
          },
          "metadata": {},
          "execution_count": 142
        }
      ],
      "source": [
        "df.groupby('purpose_category_id')['debt'].agg(['mean', 'count'])"
      ]
    },
    {
      "cell_type": "markdown",
      "id": "27098b51",
      "metadata": {
        "id": "27098b51"
      },
      "source": [
        "**Let us now construct a column chart in ascending order, reflecting the dependence of the share of those who had a debt to repay the loan on the purpose of the loan. Additionally, we will display a “dictionary” of these values to make it easier to correlate the identifier and the corresponding value of the client’s loan purpose.**"
      ]
    },
    {
      "cell_type": "code",
      "execution_count": 143,
      "id": "b988ec56",
      "metadata": {
        "id": "b988ec56",
        "outputId": "d6551742-3cd0-4e2d-91ee-ea05edc04269",
        "colab": {
          "base_uri": "https://localhost:8080/",
          "height": 529
        }
      },
      "outputs": [
        {
          "output_type": "stream",
          "name": "stdout",
          "text": [
            "   purpose_category_id          purpose_category\n",
            "0                    1  операции с недвижимостью\n",
            "1                    0    операции с автомобилем\n",
            "2                    3     получение образования\n",
            "3                    2        проведение свадьбы\n"
          ]
        },
        {
          "output_type": "display_data",
          "data": {
            "text/plain": [
              "<Figure size 640x480 with 1 Axes>"
            ],
            "image/png": "[encoded data removed]"
          },
          "metadata": {}
        }
      ],
      "source": [
        "print(purpose_dict)\n",
        "df.groupby('purpose_category_id')['debt'].mean().sort_values(ascending=True).plot(kind='bar', ylim=0);"
      ]
    },
    {
      "cell_type": "markdown",
      "id": "4844bb9a",
      "metadata": {
        "deletable": false,
        "id": "4844bb9a"
      },
      "source": [
        "**Conclusion: car loans have the largest share of debtors. At the same time, real estate transactions have the smallest share of debtors.**"
      ]
    },
    {
      "cell_type": "markdown",
      "id": "f561a8b6",
      "metadata": {
        "deletable": false,
        "editable": false,
        "id": "f561a8b6"
      },
      "source": [
        "#### 3.5 Possible reasons for the appearance of gaps in the source data."
      ]
    },
    {
      "cell_type": "markdown",
      "id": "259a02c5",
      "metadata": {
        "deletable": false,
        "id": "259a02c5"
      },
      "source": [
        "The reasons may be related to either a problem in unloading data from the source database or problems when entering data into the source database. Based on the [research](#item_1_2) I conducted above in paragraph 1.1, the following features were discovered:*\n",
        "\n",
        "- Gaps in both `total_income` and `days_employed` columns refer to the same rows,\n",
        "- The lowest percentage of absences corresponds to ages from 18 to 30 and from 62 to 73 years,\n",
        "- 71% of missing values correspond to the value `'average'' in the `education` column,\n",
        "- 57% of gaps correspond to the value `'married'' in the `family_status` column,\n",
        "- 68% of gaps correspond to the value `'F'` in the `gender` column,\n",
        "- 51% of gaps correspond to the value `'employee'` in the `income_type` column,\n",
        "- 92% of missing values correspond to the value `'0'` in the `debt` column.\n",
        "\n",
        "**First hypothesis:** gaps in the values of income and total work experience are associated with the human factor.\n",
        "For example, users filling out a form to apply for a loan did not provide this information. It can be assumed that this is typical for young men/women who do not yet have work experience and a regular income and are applying for a loan for the first time. However, the percentage of absences for ages 18 to 30 is minimal, although the highest percentage of absences is typical for people who have not previously had debt on loans.\n",
        "The hypothesis is not supported due to the distribution of absences relative to the age of the people.\n",
        "Also, if applicants omitted these fields in the application form, we would most likely see gaps in at least one of the lines in two columns in different lines, but in our case, gaps in two columns refer to the same lines, which may indicate some systemic nature of these omissions.\n",
        "\n",
        "**Second hypothesis:** gaps in the data are due to a technical factor, and these data were not transferred from the database, for example, containing information about people who do not have debts (since the gap rate is 92% for people without debts). This hypothesis is also supported by the systematic nature of the omission in both columns - i.e. gaps in two different columns are specific only to the same rows (people). * <a id='item_2_7_5'></a>"
      ]
    },
    {
      "cell_type": "markdown",
      "id": "bb7d30b5",
      "metadata": {
        "deletable": false,
        "editable": false,
        "id": "bb7d30b5"
      },
      "source": [
        "#### 3.6 Let us explain why filling in the blanks with the median value is the best solution for quantitative variables."
      ]
    },
    {
      "cell_type": "markdown",
      "id": "4bca245d",
      "metadata": {
        "deletable": false,
        "id": "4bca245d"
      },
      "source": [
        "How do you know which solution is worse or better when filling in the blanks? Very simply, filling in the blanks should not skew the results of the data study in the wrong direction. Thus, it is necessary to determine which option for filling in the gaps will give the least distortion in the research results. As one of the characteristics of a sample of quantitative variables, you can take the average value of this sample. If the average (not the arithmetic mean) value of the sample after filling in the gaps is not distorted, we can assume that we have minimally distorted the results of the study, provided that the overall percentage of omissions in this sample of quantitative variables is small, of course."
      ]
    },
    {
      "cell_type": "markdown",
      "id": "826a133d",
      "metadata": {
        "id": "826a133d"
      },
      "source": [
        "As you know, the mean and median estimate the values at the center of the sample. If the values of quantitative variables in the sample are evenly distributed, then the arithmetic mean is suitable for estimating the average value of the entire sample. But when there are values that stand out strongly from the bulk of values in the sample of quantitative variables, then these values greatly shift the value of the average up or down. This is why it is better to estimate the average of a sample of quantitative variables with values in a wide range using the median."
      ]
    },
    {
      "cell_type": "markdown",
      "id": "3ef75731",
      "metadata": {
        "id": "3ef75731"
      },
      "source": [
        "**We will show the difference between the median and the arithmetic mean in a sample with a large outlier.**"
      ]
    },
    {
      "cell_type": "code",
      "execution_count": 144,
      "id": "ca303e21",
      "metadata": {
        "id": "ca303e21",
        "outputId": "891afad0-15be-43df-f1cb-42355d9a506f",
        "colab": {
          "base_uri": "https://localhost:8080/"
        }
      },
      "outputs": [
        {
          "output_type": "stream",
          "name": "stdout",
          "text": [
            "mean = 10.9\n",
            "median = 1.0\n"
          ]
        }
      ],
      "source": [
        "import statistics\n",
        "\n",
        "list = [1]*9 + [100]*1 # create a list of 9 elements with value 1 and one element with value 100\n",
        "\n",
        "print('mean =', statistics.mean(list)) # display the arithmetic mean of the list\n",
        "print('median =', statistics.median(list)) # display the median value of the list"
      ]
    },
    {
      "cell_type": "markdown",
      "id": "97aa2723",
      "metadata": {
        "id": "97aa2723"
      },
      "source": [
        "This example clearly shows the difference between the median and the arithmetic mean in a sample with large outliers."
      ]
    },
    {
      "cell_type": "markdown",
      "id": "ef5fa9f5",
      "metadata": {
        "id": "ef5fa9f5"
      },
      "source": [
        "Let's now consider several options for filling in the blanks. And let's see the impact of each option on the median value of the sample.\n",
        "Obviously, if we fill in the gaps with a value different from the median, we will, to one degree or another, shift the median of the entire sample towards its original value. And only if the gap is filled in with the median value, the median of the entire sample will not change, thereby the result of data processing will minimally affect the results of the study, I repeat, with a small percentage of gaps from the total number of quantitative variables in this sample."
      ]
    },
    {
      "cell_type": "markdown",
      "id": "df091020",
      "metadata": {
        "id": "df091020"
      },
      "source": [
        "**Let's conduct a practical experiment. Let's fill a list of 1000 values with a sequence of numbers from 1 to 1000, and for every 10th value in the list we will put a significantly larger number, creating so-called value outliers in the sample. Let's calculate the arithmetic mean and median values for this sample.**"
      ]
    },
    {
      "cell_type": "code",
      "execution_count": 145,
      "id": "f4470ae3",
      "metadata": {
        "id": "f4470ae3",
        "outputId": "6473dc70-c86b-4faf-be5a-92042008f902",
        "colab": {
          "base_uri": "https://localhost:8080/"
        }
      },
      "outputs": [
        {
          "output_type": "stream",
          "name": "stdout",
          "text": [
            "length data = 1000\n",
            "mean data = 1489.5\n",
            "median data = 552.5\n"
          ]
        }
      ],
      "source": [
        "data_analysis = []\n",
        "\n",
        "for i in range(1000): # loop to fill a list with 1000 elements\n",
        "    if i % 10 == 0: # if the value of i is a multiple of 10\n",
        "        i += i * 20 # increase the value of i by a factor of 20 to obtain elements with large outliers in the list\n",
        "    data_analysis.append(i) # add this element to the end of our list\n",
        "\n",
        "len_data = len(data_analysis) # write to the variable length of the original list\n",
        "mean_data = statistics.mean(data_analysis) # write the arithmetic mean of the original list into a variable\n",
        "median_data = statistics.median(data_analysis) # write the median value of the original list into a variable\n",
        "\n",
        "print('length data =', len_data) # display the length of the original list\n",
        "print('mean data =', mean_data) # display the arithmetic mean of the original list\n",
        "print('median data =', median_data) # display the median value of the original list"
      ]
    },
    {
      "cell_type": "markdown",
      "id": "05167d18",
      "metadata": {
        "id": "05167d18"
      },
      "source": [
        "**Now in our list of 1000 values, let’s select in the center a section of 100 values (10% of the entire sample), which we will represent as “gaps”. Let us now calculate the arithmetic mean and median value of the new sample, which differs from the original by 10% missing all values in the center of the sample.**"
      ]
    },
    {
      "cell_type": "code",
      "execution_count": 146,
      "id": "75ce0675",
      "metadata": {
        "id": "75ce0675",
        "outputId": "ee8b2cf1-46de-4ac0-e948-48a6183be963",
        "colab": {
          "base_uri": "https://localhost:8080/"
        }
      },
      "outputs": [
        {
          "output_type": "stream",
          "name": "stdout",
          "text": [
            "length data_cut = 900\n",
            "mean data_cut = 1489.5\n",
            "median data_cut = 596.5\n"
          ]
        }
      ],
      "source": [
        "''' fill the new list data_new with values from the original data list, excluding 100 values in the original selection,\n",
        "those. values with indexes from 450 to 549 will not be included in the new list'''\n",
        "data_cut = [] # declare a new list\n",
        "\n",
        "for i in range(len(data_analysis)): # go through the indexes of the old list\n",
        "    if i  < 450 or i > 549: # if the element's index value is not in the range [450;549]\n",
        "        data_cut.append(data_analysis[i]) # add an element with the given index from the original list to the new one\n",
        "\n",
        "len_data_cut = len(data_cut) # write the length of the \"truncated\" list to a variable\n",
        "mean_data_cut = statistics.mean(data_cut) # write the arithmetic mean of the “truncated” list into a variable\n",
        "median_data_cut = statistics.median(data_cut) # write the median value of the “truncated” list into a variable\n",
        "\n",
        "print('length data_cut =', len_data_cut) # display the length of the \"truncated\" list\n",
        "print('mean data_cut =', mean_data_cut) # display the arithmetic mean of the \"truncated\" list\n",
        "print('median data_cut =', median_data_cut) # display the median value of the \"truncated\" list"
      ]
    },
    {
      "cell_type": "markdown",
      "id": "46171008",
      "metadata": {
        "id": "46171008"
      },
      "source": [
        "**We see that the arithmetic mean of the original list and the “truncated” list are the same. Next, let's check how replacing the \"gaps\" in the original list with different values will affect the median value of the new list and compare this value with the median value of the original list without the \"gaps\".**"
      ]
    },
    {
      "cell_type": "markdown",
      "id": "93aabe99",
      "metadata": {
        "id": "93aabe99"
      },
      "source": [
        "**Let’s first fill the “gaps” with zero values.**"
      ]
    },
    {
      "cell_type": "code",
      "execution_count": 147,
      "id": "73fbd62b",
      "metadata": {
        "id": "73fbd62b",
        "outputId": "cbc8cd9f-7ba1-4e1b-c70c-42e0b4896638",
        "colab": {
          "base_uri": "https://localhost:8080/"
        }
      },
      "outputs": [
        {
          "output_type": "stream",
          "name": "stdout",
          "text": [
            "length data_new_zero = 1000\n",
            "mean data_new_zero = 1340.55\n",
            "median data_new_zero = 441.5\n"
          ]
        }
      ],
      "source": [
        "data_new_zero = data_cut[:] # a new list, which will be similar to the original one, but in which we will replace the 100 elements in the center with zero\n",
        "\n",
        "for i in range(450, 550): # go only through indices from 450 to 549\n",
        "     data_new_zero.insert(i, 0) # fill the list with the value 0 starting from index 450 to index 549\n",
        "\n",
        "len_data_new_zero = len(data_new_zero) # write to the variable length of the new list\n",
        "mean_data_new_zero = statistics.mean(data_new_zero) # write the arithmetic mean of the new list to a variable\n",
        "median_data_new_zero = statistics.median(data_new_zero) # write the median value of the new list to a variable\n",
        "\n",
        "print('length data_new_zero =', len_data_new_zero) # print the length of the new list\n",
        "print('mean data_new_zero =', mean_data_new_zero) # print the arithmetic mean of the new list\n",
        "print('median data_new_zero =', median_data_new_zero) # print the median value of the new list"
      ]
    },
    {
      "cell_type": "markdown",
      "id": "45f73a80",
      "metadata": {
        "id": "45f73a80"
      },
      "source": [
        "**Now let’s fill the “gaps” with the values of the arithmetic average of the “truncated” list.**"
      ]
    },
    {
      "cell_type": "code",
      "execution_count": 148,
      "id": "ff99bfdd",
      "metadata": {
        "id": "ff99bfdd",
        "outputId": "7b52507b-a031-448c-93cc-6014b0c30223",
        "colab": {
          "base_uri": "https://localhost:8080/"
        }
      },
      "outputs": [
        {
          "output_type": "stream",
          "name": "stdout",
          "text": [
            "length data_new_mean = 1000\n",
            "mean data_new_mean = 1489.5\n",
            "median data_new_mean = 651.5\n"
          ]
        }
      ],
      "source": [
        "data_new_mean = data_cut[:] # new list, which will be similar to the original one, but in which we will replace 100 elements in the center of the mean. \"truncated list\"\n",
        "\n",
        "for i in range(450, 550): # go only through indices from 450 to 549\n",
        "     data_new_mean.insert(i, mean_data_cut) # fill the list of average arithms. the value of the \"trimmed\" list starting from index 450, ending with index 549\n",
        "\n",
        "len_data_new_mean = len(data_new_mean) # write to the variable length of the new list\n",
        "mean_data_new_mean = statistics.mean(data_new_mean) # write the arithmetic mean of the new list to the variable\n",
        "median_data_new_mean = statistics.median(data_new_mean) # write the median value of the new list to a variable\n",
        "\n",
        "print('length data_new_mean =', len_data_new_mean) # print the length of the new list\n",
        "print('mean data_new_mean =', mean_data_new_mean) # print the arithmetic mean of the new list\n",
        "print('median data_new_mean =', median_data_new_mean) # print the median value of the new list"
      ]
    },
    {
      "cell_type": "markdown",
      "id": "6a3a41b2",
      "metadata": {
        "id": "6a3a41b2"
      },
      "source": [
        "**Now let’s fill the “gaps” with the values of the median of the “truncated” list.**"
      ]
    },
    {
      "cell_type": "code",
      "execution_count": 149,
      "id": "7ebd3752",
      "metadata": {
        "id": "7ebd3752",
        "outputId": "ffc9b83a-c4ae-4564-a3c1-ccffbeda1476",
        "colab": {
          "base_uri": "https://localhost:8080/"
        }
      },
      "outputs": [
        {
          "output_type": "stream",
          "name": "stdout",
          "text": [
            "length data_new_median = 1000\n",
            "mean data_new_median = 1400.2\n",
            "median data_new_median = 596.5\n"
          ]
        }
      ],
      "source": [
        "data_new_median = data_cut[:] # a new list, which will be similar to the original one, but in which we will replace the 100 elements in the center with the median of the \"cut list\"\n",
        "\n",
        "for i in range(450, 550): # go only through indices from 450 to 549\n",
        "     data_new_median.insert(i, median_data_cut) # fill the list with the median of the “trimmed” list starting from index 450, ending with index 549\n",
        "\n",
        "len_data_new_median = len(data_new_median) # write to the variable length of the new list\n",
        "mean_data_new_median = statistics.mean(data_new_median) # write the arithmetic mean of the new list to a variable\n",
        "median_data_new_median = statistics.median(data_new_median) # write the median value of the new list to a variable\n",
        "\n",
        "print('length data_new_median =', len_data_new_median) # print the length of the new list\n",
        "print('mean data_new_median =', mean_data_new_median) # print the arithmetic mean of the new list\n",
        "print('median data_new_median =', median_data_new_median) # print the median value of the new list"
      ]
    },
    {
      "cell_type": "markdown",
      "id": "f4f73198",
      "metadata": {
        "id": "f4f73198"
      },
      "source": [
        "**Let's analyze the data obtained by creating a table from it.**"
      ]
    },
    {
      "cell_type": "code",
      "execution_count": 150,
      "id": "6e8aa53e",
      "metadata": {
        "id": "6e8aa53e",
        "outputId": "89a653d8-5886-4f09-d6e0-1702d82a0ccf",
        "colab": {
          "base_uri": "https://localhost:8080/",
          "height": 173
        }
      },
      "outputs": [
        {
          "output_type": "execute_result",
          "data": {
            "text/plain": [
              "                    func  default_list  cut_list  list_with_zero  \\\n",
              "0                   mean        1489.5    1489.5         1340.55   \n",
              "1                 median         552.5     596.5          441.50   \n",
              "2    mean_diff_w_defualt           0.0       0.0         -148.95   \n",
              "3  median_diff_w_defualt           0.0      44.0         -111.00   \n",
              "\n",
              "   list_with_mean  list_with_median  \n",
              "0          1489.5            1400.2  \n",
              "1           651.5             596.5  \n",
              "2             0.0             -89.3  \n",
              "3            99.0               0.0  "
            ],
            "text/html": [
              "\n",
              "  <div id=\"df-36c17c8b-4ad5-4783-b059-b132f4abed82\" class=\"colab-df-container\">\n",
              "    <div>\n",
              "<style scoped>\n",
              "    .dataframe tbody tr th:only-of-type {\n",
              "        vertical-align: middle;\n",
              "    }\n",
              "\n",
              "    .dataframe tbody tr th {\n",
              "        vertical-align: top;\n",
              "    }\n",
              "\n",
              "    .dataframe thead th {\n",
              "        text-align: right;\n",
              "    }\n",
              "</style>\n",
              "<table border=\"1\" class=\"dataframe\">\n",
              "  <thead>\n",
              "    <tr style=\"text-align: right;\">\n",
              "      <th></th>\n",
              "      <th>func</th>\n",
              "      <th>default_list</th>\n",
              "      <th>cut_list</th>\n",
              "      <th>list_with_zero</th>\n",
              "      <th>list_with_mean</th>\n",
              "      <th>list_with_median</th>\n",
              "    </tr>\n",
              "  </thead>\n",
              "  <tbody>\n",
              "    <tr>\n",
              "      <th>0</th>\n",
              "      <td>mean</td>\n",
              "      <td>1489.5</td>\n",
              "      <td>1489.5</td>\n",
              "      <td>1340.55</td>\n",
              "      <td>1489.5</td>\n",
              "      <td>1400.2</td>\n",
              "    </tr>\n",
              "    <tr>\n",
              "      <th>1</th>\n",
              "      <td>median</td>\n",
              "      <td>552.5</td>\n",
              "      <td>596.5</td>\n",
              "      <td>441.50</td>\n",
              "      <td>651.5</td>\n",
              "      <td>596.5</td>\n",
              "    </tr>\n",
              "    <tr>\n",
              "      <th>2</th>\n",
              "      <td>mean_diff_w_defualt</td>\n",
              "      <td>0.0</td>\n",
              "      <td>0.0</td>\n",
              "      <td>-148.95</td>\n",
              "      <td>0.0</td>\n",
              "      <td>-89.3</td>\n",
              "    </tr>\n",
              "    <tr>\n",
              "      <th>3</th>\n",
              "      <td>median_diff_w_defualt</td>\n",
              "      <td>0.0</td>\n",
              "      <td>44.0</td>\n",
              "      <td>-111.00</td>\n",
              "      <td>99.0</td>\n",
              "      <td>0.0</td>\n",
              "    </tr>\n",
              "  </tbody>\n",
              "</table>\n",
              "</div>\n",
              "    <div class=\"colab-df-buttons\">\n",
              "\n",
              "  <div class=\"colab-df-container\">\n",
              "    <button class=\"colab-df-convert\" onclick=\"convertToInteractive('df-36c17c8b-4ad5-4783-b059-b132f4abed82')\"\n",
              "            title=\"Convert this dataframe to an interactive table.\"\n",
              "            style=\"display:none;\">\n",
              "\n",
              "  <svg xmlns=\"http://www.w3.org/2000/svg\" height=\"24px\" viewBox=\"0 -960 960 960\">\n",
              "    <path d=\"M120-120v-720h720v720H120Zm60-500h600v-160H180v160Zm220 220h160v-160H400v160Zm0 220h160v-160H400v160ZM180-400h160v-160H180v160Zm440 0h160v-160H620v160ZM180-180h160v-160H180v160Zm440 0h160v-160H620v160Z\"/>\n",
              "  </svg>\n",
              "    </button>\n",
              "\n",
              "  <style>\n",
              "    .colab-df-container {\n",
              "      display:flex;\n",
              "      gap: 12px;\n",
              "    }\n",
              "\n",
              "    .colab-df-convert {\n",
              "      background-color: #E8F0FE;\n",
              "      border: none;\n",
              "      border-radius: 50%;\n",
              "      cursor: pointer;\n",
              "      display: none;\n",
              "      fill: #1967D2;\n",
              "      height: 32px;\n",
              "      padding: 0 0 0 0;\n",
              "      width: 32px;\n",
              "    }\n",
              "\n",
              "    .colab-df-convert:hover {\n",
              "      background-color: #E2EBFA;\n",
              "      box-shadow: 0px 1px 2px rgba(60, 64, 67, 0.3), 0px 1px 3px 1px rgba(60, 64, 67, 0.15);\n",
              "      fill: #174EA6;\n",
              "    }\n",
              "\n",
              "    .colab-df-buttons div {\n",
              "      margin-bottom: 4px;\n",
              "    }\n",
              "\n",
              "    [theme=dark] .colab-df-convert {\n",
              "      background-color: #3B4455;\n",
              "      fill: #D2E3FC;\n",
              "    }\n",
              "\n",
              "    [theme=dark] .colab-df-convert:hover {\n",
              "      background-color: #434B5C;\n",
              "      box-shadow: 0px 1px 3px 1px rgba(0, 0, 0, 0.15);\n",
              "      filter: drop-shadow(0px 1px 2px rgba(0, 0, 0, 0.3));\n",
              "      fill: #FFFFFF;\n",
              "    }\n",
              "  </style>\n",
              "\n",
              "    <script>\n",
              "      const buttonEl =\n",
              "        document.querySelector('#df-36c17c8b-4ad5-4783-b059-b132f4abed82 button.colab-df-convert');\n",
              "      buttonEl.style.display =\n",
              "        google.colab.kernel.accessAllowed ? 'block' : 'none';\n",
              "\n",
              "      async function convertToInteractive(key) {\n",
              "        const element = document.querySelector('#df-36c17c8b-4ad5-4783-b059-b132f4abed82');\n",
              "        const dataTable =\n",
              "          await google.colab.kernel.invokeFunction('convertToInteractive',\n",
              "                                                    [key], {});\n",
              "        if (!dataTable) return;\n",
              "\n",
              "        const docLinkHtml = 'Like what you see? Visit the ' +\n",
              "          '<a target=\"_blank\" href=https://colab.research.google.com/notebooks/data_table.ipynb>data table notebook</a>'\n",
              "          + ' to learn more about interactive tables.';\n",
              "        element.innerHTML = '';\n",
              "        dataTable['output_type'] = 'display_data';\n",
              "        await google.colab.output.renderOutput(dataTable, element);\n",
              "        const docLink = document.createElement('div');\n",
              "        docLink.innerHTML = docLinkHtml;\n",
              "        element.appendChild(docLink);\n",
              "      }\n",
              "    </script>\n",
              "  </div>\n",
              "\n",
              "\n",
              "<div id=\"df-930e48cf-72b7-4e18-8c99-1b401c14cccb\">\n",
              "  <button class=\"colab-df-quickchart\" onclick=\"quickchart('df-930e48cf-72b7-4e18-8c99-1b401c14cccb')\"\n",
              "            title=\"Suggest charts.\"\n",
              "            style=\"display:none;\">\n",
              "\n",
              "<svg xmlns=\"http://www.w3.org/2000/svg\" height=\"24px\"viewBox=\"0 0 24 24\"\n",
              "     width=\"24px\">\n",
              "    <g>\n",
              "        <path d=\"M19 3H5c-1.1 0-2 .9-2 2v14c0 1.1.9 2 2 2h14c1.1 0 2-.9 2-2V5c0-1.1-.9-2-2-2zM9 17H7v-7h2v7zm4 0h-2V7h2v10zm4 0h-2v-4h2v4z\"/>\n",
              "    </g>\n",
              "</svg>\n",
              "  </button>\n",
              "\n",
              "<style>\n",
              "  .colab-df-quickchart {\n",
              "      --bg-color: #E8F0FE;\n",
              "      --fill-color: #1967D2;\n",
              "      --hover-bg-color: #E2EBFA;\n",
              "      --hover-fill-color: #174EA6;\n",
              "      --disabled-fill-color: #AAA;\n",
              "      --disabled-bg-color: #DDD;\n",
              "  }\n",
              "\n",
              "  [theme=dark] .colab-df-quickchart {\n",
              "      --bg-color: #3B4455;\n",
              "      --fill-color: #D2E3FC;\n",
              "      --hover-bg-color: #434B5C;\n",
              "      --hover-fill-color: #FFFFFF;\n",
              "      --disabled-bg-color: #3B4455;\n",
              "      --disabled-fill-color: #666;\n",
              "  }\n",
              "\n",
              "  .colab-df-quickchart {\n",
              "    background-color: var(--bg-color);\n",
              "    border: none;\n",
              "    border-radius: 50%;\n",
              "    cursor: pointer;\n",
              "    display: none;\n",
              "    fill: var(--fill-color);\n",
              "    height: 32px;\n",
              "    padding: 0;\n",
              "    width: 32px;\n",
              "  }\n",
              "\n",
              "  .colab-df-quickchart:hover {\n",
              "    background-color: var(--hover-bg-color);\n",
              "    box-shadow: 0 1px 2px rgba(60, 64, 67, 0.3), 0 1px 3px 1px rgba(60, 64, 67, 0.15);\n",
              "    fill: var(--button-hover-fill-color);\n",
              "  }\n",
              "\n",
              "  .colab-df-quickchart-complete:disabled,\n",
              "  .colab-df-quickchart-complete:disabled:hover {\n",
              "    background-color: var(--disabled-bg-color);\n",
              "    fill: var(--disabled-fill-color);\n",
              "    box-shadow: none;\n",
              "  }\n",
              "\n",
              "  .colab-df-spinner {\n",
              "    border: 2px solid var(--fill-color);\n",
              "    border-color: transparent;\n",
              "    border-bottom-color: var(--fill-color);\n",
              "    animation:\n",
              "      spin 1s steps(1) infinite;\n",
              "  }\n",
              "\n",
              "  @keyframes spin {\n",
              "    0% {\n",
              "      border-color: transparent;\n",
              "      border-bottom-color: var(--fill-color);\n",
              "      border-left-color: var(--fill-color);\n",
              "    }\n",
              "    20% {\n",
              "      border-color: transparent;\n",
              "      border-left-color: var(--fill-color);\n",
              "      border-top-color: var(--fill-color);\n",
              "    }\n",
              "    30% {\n",
              "      border-color: transparent;\n",
              "      border-left-color: var(--fill-color);\n",
              "      border-top-color: var(--fill-color);\n",
              "      border-right-color: var(--fill-color);\n",
              "    }\n",
              "    40% {\n",
              "      border-color: transparent;\n",
              "      border-right-color: var(--fill-color);\n",
              "      border-top-color: var(--fill-color);\n",
              "    }\n",
              "    60% {\n",
              "      border-color: transparent;\n",
              "      border-right-color: var(--fill-color);\n",
              "    }\n",
              "    80% {\n",
              "      border-color: transparent;\n",
              "      border-right-color: var(--fill-color);\n",
              "      border-bottom-color: var(--fill-color);\n",
              "    }\n",
              "    90% {\n",
              "      border-color: transparent;\n",
              "      border-bottom-color: var(--fill-color);\n",
              "    }\n",
              "  }\n",
              "</style>\n",
              "\n",
              "  <script>\n",
              "    async function quickchart(key) {\n",
              "      const quickchartButtonEl =\n",
              "        document.querySelector('#' + key + ' button');\n",
              "      quickchartButtonEl.disabled = true;  // To prevent multiple clicks.\n",
              "      quickchartButtonEl.classList.add('colab-df-spinner');\n",
              "      try {\n",
              "        const charts = await google.colab.kernel.invokeFunction(\n",
              "            'suggestCharts', [key], {});\n",
              "      } catch (error) {\n",
              "        console.error('Error during call to suggestCharts:', error);\n",
              "      }\n",
              "      quickchartButtonEl.classList.remove('colab-df-spinner');\n",
              "      quickchartButtonEl.classList.add('colab-df-quickchart-complete');\n",
              "    }\n",
              "    (() => {\n",
              "      let quickchartButtonEl =\n",
              "        document.querySelector('#df-930e48cf-72b7-4e18-8c99-1b401c14cccb button');\n",
              "      quickchartButtonEl.style.display =\n",
              "        google.colab.kernel.accessAllowed ? 'block' : 'none';\n",
              "    })();\n",
              "  </script>\n",
              "</div>\n",
              "    </div>\n",
              "  </div>\n"
            ]
          },
          "metadata": {},
          "execution_count": 150
        }
      ],
      "source": [
        "''' Create a table with the obtained values of the arithmetic mean and median for each of the resulting lists.\n",
        "We will also display in the bottom line the difference of the corresponding values compared to the values\n",
        "related to the original complete list.'''\n",
        "\n",
        "gap_analysis = pd.DataFrame(\n",
        "              {'func': ['mean', 'median', 'mean_diff_w_defualt', 'median_diff_w_defualt'],\n",
        "               'default_list': [mean_data, median_data, 0, 0],\n",
        "               'cut_list': [mean_data_cut, median_data_cut, mean_data_cut - mean_data, median_data_cut - median_data],\n",
        "               'list_with_zero': [mean_data_new_zero, median_data_new_zero, mean_data_new_zero - mean_data, median_data_new_zero - median_data],\n",
        "               'list_with_mean': [mean_data_new_mean, median_data_new_mean, mean_data_new_mean - mean_data, median_data_new_mean - median_data],\n",
        "               'list_with_median': [mean_data_new_median, median_data_new_median, mean_data_new_median - mean_data, median_data_new_median - median_data_new_median]\n",
        "              })\n",
        "gap_analysis"
      ]
    },
    {
      "cell_type": "markdown",
      "id": "d72a1315",
      "metadata": {
        "id": "d72a1315"
      },
      "source": [
        "**From here we can conclude that the smallest difference in the median value of the new and original samples of a quantitative variable is obtained if the missing values in the original sample are filled using the median value among the known values of the original sample. The mean and median differ if there are outliers (values that stand out from the overall sample) in the sample. The median allows you to level out their influence.**"
      ]
    },
    {
      "cell_type": "markdown",
      "id": "97df9a82",
      "metadata": {
        "deletable": false,
        "editable": false,
        "id": "97df9a82"
      },
      "source": [
        "### Step 4: general conclusion."
      ]
    },
    {
      "cell_type": "markdown",
      "id": "3493221a",
      "metadata": {
        "deletable": false,
        "id": "3493221a"
      },
      "source": [
        "**Based on each point, we have identified the most reliable groups of clients. Let us now check by complex filtering of the dataframe and using pivot tables using the `pivot_table` method whether this is true. Let's check the share of debtors for the combination: clients without children who take out a loan for real estate transactions and who (1) are a widow/widower, (2) are divorced and (3) are married.**\n",
        "\n",
        "**We will also once again display the total share of debtors in the entire dataset as a reference value.**"
      ]
    },
    {
      "cell_type": "code",
      "execution_count": 151,
      "id": "deb49e3d",
      "metadata": {
        "id": "deb49e3d",
        "outputId": "2388f581-59a7-4072-ad08-f5341b17fefc",
        "colab": {
          "base_uri": "https://localhost:8080/",
          "height": 972
        }
      },
      "outputs": [
        {
          "output_type": "stream",
          "name": "stdout",
          "text": [
            "   purpose_category_id          purpose_category\n",
            "0                    1  операции с недвижимостью\n",
            "1                    0    операции с автомобилем\n",
            "2                    3     получение образования\n",
            "3                    2        проведение свадьбы\n",
            "\n",
            "\n",
            "   family_status_id          family_status\n",
            "0                 0        женат / замужем\n",
            "1                 1       гражданский брак\n",
            "2                 2         вдовец / вдова\n",
            "3                 3              в разводе\n",
            "4                 4  не женат / не замужем\n",
            "\n",
            "\n",
            "Total share of debtors in the entire dataframe = 0.08120584079133301\n"
          ]
        },
        {
          "output_type": "execute_result",
          "data": {
            "text/plain": [
              "                                               count_debt  mean_debt\n",
              "children purpose_category_id family_status_id                       \n",
              "3        3                   4                          3   0.000000\n",
              "         1                   2                          4   0.000000\n",
              "                             1                         17   0.000000\n",
              "         0                   4                          4   0.000000\n",
              "                             3                          2   0.000000\n",
              "2        3                   2                          2   0.000000\n",
              "3        3                   2                          3   0.000000\n",
              "1        0                   2                         11   0.000000\n",
              "         3                   3                         61   0.032787\n",
              "3        3                   0                         65   0.046154\n",
              "0        1                   2                        469   0.046908\n",
              "2        2                   1                        215   0.055814\n",
              "         1                   3                         47   0.063830\n",
              "0        1                   0                       4220   0.065640\n",
              "         0                   3                        192   0.067708\n",
              "3        0                   0                         59   0.067797\n",
              "0        1                   3                        427   0.067916\n",
              "         3                   2                        174   0.068966\n",
              "2        3                   4                         14   0.071429\n",
              "1        1                   3                        182   0.071429"
            ],
            "text/html": [
              "\n",
              "  <div id=\"df-a00c48a6-e2ee-48dd-a562-881a00566b88\" class=\"colab-df-container\">\n",
              "    <div>\n",
              "<style scoped>\n",
              "    .dataframe tbody tr th:only-of-type {\n",
              "        vertical-align: middle;\n",
              "    }\n",
              "\n",
              "    .dataframe tbody tr th {\n",
              "        vertical-align: top;\n",
              "    }\n",
              "\n",
              "    .dataframe thead th {\n",
              "        text-align: right;\n",
              "    }\n",
              "</style>\n",
              "<table border=\"1\" class=\"dataframe\">\n",
              "  <thead>\n",
              "    <tr style=\"text-align: right;\">\n",
              "      <th></th>\n",
              "      <th></th>\n",
              "      <th></th>\n",
              "      <th>count_debt</th>\n",
              "      <th>mean_debt</th>\n",
              "    </tr>\n",
              "    <tr>\n",
              "      <th>children</th>\n",
              "      <th>purpose_category_id</th>\n",
              "      <th>family_status_id</th>\n",
              "      <th></th>\n",
              "      <th></th>\n",
              "    </tr>\n",
              "  </thead>\n",
              "  <tbody>\n",
              "    <tr>\n",
              "      <th rowspan=\"5\" valign=\"top\">3</th>\n",
              "      <th>3</th>\n",
              "      <th>4</th>\n",
              "      <td>3</td>\n",
              "      <td>0.000000</td>\n",
              "    </tr>\n",
              "    <tr>\n",
              "      <th rowspan=\"2\" valign=\"top\">1</th>\n",
              "      <th>2</th>\n",
              "      <td>4</td>\n",
              "      <td>0.000000</td>\n",
              "    </tr>\n",
              "    <tr>\n",
              "      <th>1</th>\n",
              "      <td>17</td>\n",
              "      <td>0.000000</td>\n",
              "    </tr>\n",
              "    <tr>\n",
              "      <th rowspan=\"2\" valign=\"top\">0</th>\n",
              "      <th>4</th>\n",
              "      <td>4</td>\n",
              "      <td>0.000000</td>\n",
              "    </tr>\n",
              "    <tr>\n",
              "      <th>3</th>\n",
              "      <td>2</td>\n",
              "      <td>0.000000</td>\n",
              "    </tr>\n",
              "    <tr>\n",
              "      <th>2</th>\n",
              "      <th>3</th>\n",
              "      <th>2</th>\n",
              "      <td>2</td>\n",
              "      <td>0.000000</td>\n",
              "    </tr>\n",
              "    <tr>\n",
              "      <th>3</th>\n",
              "      <th>3</th>\n",
              "      <th>2</th>\n",
              "      <td>3</td>\n",
              "      <td>0.000000</td>\n",
              "    </tr>\n",
              "    <tr>\n",
              "      <th rowspan=\"2\" valign=\"top\">1</th>\n",
              "      <th>0</th>\n",
              "      <th>2</th>\n",
              "      <td>11</td>\n",
              "      <td>0.000000</td>\n",
              "    </tr>\n",
              "    <tr>\n",
              "      <th>3</th>\n",
              "      <th>3</th>\n",
              "      <td>61</td>\n",
              "      <td>0.032787</td>\n",
              "    </tr>\n",
              "    <tr>\n",
              "      <th>3</th>\n",
              "      <th>3</th>\n",
              "      <th>0</th>\n",
              "      <td>65</td>\n",
              "      <td>0.046154</td>\n",
              "    </tr>\n",
              "    <tr>\n",
              "      <th>0</th>\n",
              "      <th>1</th>\n",
              "      <th>2</th>\n",
              "      <td>469</td>\n",
              "      <td>0.046908</td>\n",
              "    </tr>\n",
              "    <tr>\n",
              "      <th rowspan=\"2\" valign=\"top\">2</th>\n",
              "      <th>2</th>\n",
              "      <th>1</th>\n",
              "      <td>215</td>\n",
              "      <td>0.055814</td>\n",
              "    </tr>\n",
              "    <tr>\n",
              "      <th>1</th>\n",
              "      <th>3</th>\n",
              "      <td>47</td>\n",
              "      <td>0.063830</td>\n",
              "    </tr>\n",
              "    <tr>\n",
              "      <th rowspan=\"2\" valign=\"top\">0</th>\n",
              "      <th>1</th>\n",
              "      <th>0</th>\n",
              "      <td>4220</td>\n",
              "      <td>0.065640</td>\n",
              "    </tr>\n",
              "    <tr>\n",
              "      <th>0</th>\n",
              "      <th>3</th>\n",
              "      <td>192</td>\n",
              "      <td>0.067708</td>\n",
              "    </tr>\n",
              "    <tr>\n",
              "      <th>3</th>\n",
              "      <th>0</th>\n",
              "      <th>0</th>\n",
              "      <td>59</td>\n",
              "      <td>0.067797</td>\n",
              "    </tr>\n",
              "    <tr>\n",
              "      <th rowspan=\"2\" valign=\"top\">0</th>\n",
              "      <th>1</th>\n",
              "      <th>3</th>\n",
              "      <td>427</td>\n",
              "      <td>0.067916</td>\n",
              "    </tr>\n",
              "    <tr>\n",
              "      <th>3</th>\n",
              "      <th>2</th>\n",
              "      <td>174</td>\n",
              "      <td>0.068966</td>\n",
              "    </tr>\n",
              "    <tr>\n",
              "      <th>2</th>\n",
              "      <th>3</th>\n",
              "      <th>4</th>\n",
              "      <td>14</td>\n",
              "      <td>0.071429</td>\n",
              "    </tr>\n",
              "    <tr>\n",
              "      <th>1</th>\n",
              "      <th>1</th>\n",
              "      <th>3</th>\n",
              "      <td>182</td>\n",
              "      <td>0.071429</td>\n",
              "    </tr>\n",
              "  </tbody>\n",
              "</table>\n",
              "</div>\n",
              "    <div class=\"colab-df-buttons\">\n",
              "\n",
              "  <div class=\"colab-df-container\">\n",
              "    <button class=\"colab-df-convert\" onclick=\"convertToInteractive('df-a00c48a6-e2ee-48dd-a562-881a00566b88')\"\n",
              "            title=\"Convert this dataframe to an interactive table.\"\n",
              "            style=\"display:none;\">\n",
              "\n",
              "  <svg xmlns=\"http://www.w3.org/2000/svg\" height=\"24px\" viewBox=\"0 -960 960 960\">\n",
              "    <path d=\"M120-120v-720h720v720H120Zm60-500h600v-160H180v160Zm220 220h160v-160H400v160Zm0 220h160v-160H400v160ZM180-400h160v-160H180v160Zm440 0h160v-160H620v160ZM180-180h160v-160H180v160Zm440 0h160v-160H620v160Z\"/>\n",
              "  </svg>\n",
              "    </button>\n",
              "\n",
              "  <style>\n",
              "    .colab-df-container {\n",
              "      display:flex;\n",
              "      gap: 12px;\n",
              "    }\n",
              "\n",
              "    .colab-df-convert {\n",
              "      background-color: #E8F0FE;\n",
              "      border: none;\n",
              "      border-radius: 50%;\n",
              "      cursor: pointer;\n",
              "      display: none;\n",
              "      fill: #1967D2;\n",
              "      height: 32px;\n",
              "      padding: 0 0 0 0;\n",
              "      width: 32px;\n",
              "    }\n",
              "\n",
              "    .colab-df-convert:hover {\n",
              "      background-color: #E2EBFA;\n",
              "      box-shadow: 0px 1px 2px rgba(60, 64, 67, 0.3), 0px 1px 3px 1px rgba(60, 64, 67, 0.15);\n",
              "      fill: #174EA6;\n",
              "    }\n",
              "\n",
              "    .colab-df-buttons div {\n",
              "      margin-bottom: 4px;\n",
              "    }\n",
              "\n",
              "    [theme=dark] .colab-df-convert {\n",
              "      background-color: #3B4455;\n",
              "      fill: #D2E3FC;\n",
              "    }\n",
              "\n",
              "    [theme=dark] .colab-df-convert:hover {\n",
              "      background-color: #434B5C;\n",
              "      box-shadow: 0px 1px 3px 1px rgba(0, 0, 0, 0.15);\n",
              "      filter: drop-shadow(0px 1px 2px rgba(0, 0, 0, 0.3));\n",
              "      fill: #FFFFFF;\n",
              "    }\n",
              "  </style>\n",
              "\n",
              "    <script>\n",
              "      const buttonEl =\n",
              "        document.querySelector('#df-a00c48a6-e2ee-48dd-a562-881a00566b88 button.colab-df-convert');\n",
              "      buttonEl.style.display =\n",
              "        google.colab.kernel.accessAllowed ? 'block' : 'none';\n",
              "\n",
              "      async function convertToInteractive(key) {\n",
              "        const element = document.querySelector('#df-a00c48a6-e2ee-48dd-a562-881a00566b88');\n",
              "        const dataTable =\n",
              "          await google.colab.kernel.invokeFunction('convertToInteractive',\n",
              "                                                    [key], {});\n",
              "        if (!dataTable) return;\n",
              "\n",
              "        const docLinkHtml = 'Like what you see? Visit the ' +\n",
              "          '<a target=\"_blank\" href=https://colab.research.google.com/notebooks/data_table.ipynb>data table notebook</a>'\n",
              "          + ' to learn more about interactive tables.';\n",
              "        element.innerHTML = '';\n",
              "        dataTable['output_type'] = 'display_data';\n",
              "        await google.colab.output.renderOutput(dataTable, element);\n",
              "        const docLink = document.createElement('div');\n",
              "        docLink.innerHTML = docLinkHtml;\n",
              "        element.appendChild(docLink);\n",
              "      }\n",
              "    </script>\n",
              "  </div>\n",
              "\n",
              "\n",
              "<div id=\"df-774498be-d1c2-4d05-b212-8081e70ef3c0\">\n",
              "  <button class=\"colab-df-quickchart\" onclick=\"quickchart('df-774498be-d1c2-4d05-b212-8081e70ef3c0')\"\n",
              "            title=\"Suggest charts.\"\n",
              "            style=\"display:none;\">\n",
              "\n",
              "<svg xmlns=\"http://www.w3.org/2000/svg\" height=\"24px\"viewBox=\"0 0 24 24\"\n",
              "     width=\"24px\">\n",
              "    <g>\n",
              "        <path d=\"M19 3H5c-1.1 0-2 .9-2 2v14c0 1.1.9 2 2 2h14c1.1 0 2-.9 2-2V5c0-1.1-.9-2-2-2zM9 17H7v-7h2v7zm4 0h-2V7h2v10zm4 0h-2v-4h2v4z\"/>\n",
              "    </g>\n",
              "</svg>\n",
              "  </button>\n",
              "\n",
              "<style>\n",
              "  .colab-df-quickchart {\n",
              "      --bg-color: #E8F0FE;\n",
              "      --fill-color: #1967D2;\n",
              "      --hover-bg-color: #E2EBFA;\n",
              "      --hover-fill-color: #174EA6;\n",
              "      --disabled-fill-color: #AAA;\n",
              "      --disabled-bg-color: #DDD;\n",
              "  }\n",
              "\n",
              "  [theme=dark] .colab-df-quickchart {\n",
              "      --bg-color: #3B4455;\n",
              "      --fill-color: #D2E3FC;\n",
              "      --hover-bg-color: #434B5C;\n",
              "      --hover-fill-color: #FFFFFF;\n",
              "      --disabled-bg-color: #3B4455;\n",
              "      --disabled-fill-color: #666;\n",
              "  }\n",
              "\n",
              "  .colab-df-quickchart {\n",
              "    background-color: var(--bg-color);\n",
              "    border: none;\n",
              "    border-radius: 50%;\n",
              "    cursor: pointer;\n",
              "    display: none;\n",
              "    fill: var(--fill-color);\n",
              "    height: 32px;\n",
              "    padding: 0;\n",
              "    width: 32px;\n",
              "  }\n",
              "\n",
              "  .colab-df-quickchart:hover {\n",
              "    background-color: var(--hover-bg-color);\n",
              "    box-shadow: 0 1px 2px rgba(60, 64, 67, 0.3), 0 1px 3px 1px rgba(60, 64, 67, 0.15);\n",
              "    fill: var(--button-hover-fill-color);\n",
              "  }\n",
              "\n",
              "  .colab-df-quickchart-complete:disabled,\n",
              "  .colab-df-quickchart-complete:disabled:hover {\n",
              "    background-color: var(--disabled-bg-color);\n",
              "    fill: var(--disabled-fill-color);\n",
              "    box-shadow: none;\n",
              "  }\n",
              "\n",
              "  .colab-df-spinner {\n",
              "    border: 2px solid var(--fill-color);\n",
              "    border-color: transparent;\n",
              "    border-bottom-color: var(--fill-color);\n",
              "    animation:\n",
              "      spin 1s steps(1) infinite;\n",
              "  }\n",
              "\n",
              "  @keyframes spin {\n",
              "    0% {\n",
              "      border-color: transparent;\n",
              "      border-bottom-color: var(--fill-color);\n",
              "      border-left-color: var(--fill-color);\n",
              "    }\n",
              "    20% {\n",
              "      border-color: transparent;\n",
              "      border-left-color: var(--fill-color);\n",
              "      border-top-color: var(--fill-color);\n",
              "    }\n",
              "    30% {\n",
              "      border-color: transparent;\n",
              "      border-left-color: var(--fill-color);\n",
              "      border-top-color: var(--fill-color);\n",
              "      border-right-color: var(--fill-color);\n",
              "    }\n",
              "    40% {\n",
              "      border-color: transparent;\n",
              "      border-right-color: var(--fill-color);\n",
              "      border-top-color: var(--fill-color);\n",
              "    }\n",
              "    60% {\n",
              "      border-color: transparent;\n",
              "      border-right-color: var(--fill-color);\n",
              "    }\n",
              "    80% {\n",
              "      border-color: transparent;\n",
              "      border-right-color: var(--fill-color);\n",
              "      border-bottom-color: var(--fill-color);\n",
              "    }\n",
              "    90% {\n",
              "      border-color: transparent;\n",
              "      border-bottom-color: var(--fill-color);\n",
              "    }\n",
              "  }\n",
              "</style>\n",
              "\n",
              "  <script>\n",
              "    async function quickchart(key) {\n",
              "      const quickchartButtonEl =\n",
              "        document.querySelector('#' + key + ' button');\n",
              "      quickchartButtonEl.disabled = true;  // To prevent multiple clicks.\n",
              "      quickchartButtonEl.classList.add('colab-df-spinner');\n",
              "      try {\n",
              "        const charts = await google.colab.kernel.invokeFunction(\n",
              "            'suggestCharts', [key], {});\n",
              "      } catch (error) {\n",
              "        console.error('Error during call to suggestCharts:', error);\n",
              "      }\n",
              "      quickchartButtonEl.classList.remove('colab-df-spinner');\n",
              "      quickchartButtonEl.classList.add('colab-df-quickchart-complete');\n",
              "    }\n",
              "    (() => {\n",
              "      let quickchartButtonEl =\n",
              "        document.querySelector('#df-774498be-d1c2-4d05-b212-8081e70ef3c0 button');\n",
              "      quickchartButtonEl.style.display =\n",
              "        google.colab.kernel.accessAllowed ? 'block' : 'none';\n",
              "    })();\n",
              "  </script>\n",
              "</div>\n",
              "    </div>\n",
              "  </div>\n"
            ]
          },
          "metadata": {},
          "execution_count": 151
        }
      ],
      "source": [
        "print(purpose_dict) # print a dictionary of loan purposes\n",
        "print('\\n') # separated by an empty line\n",
        "print(family_status_dict) # print a dictionary of marital status statuses\n",
        "print('\\n') # separated by an empty line\n",
        "print('Total share of debtors in the entire dataframe =',df['debt'].mean()) # print the total share of debtors in the entire dataframe\n",
        "t1 = pd.pivot_table(df,\n",
        "                index=['children', 'purpose_category_id', 'family_status_id'],\n",
        "                values='debt',\n",
        "                aggfunc=['count','mean']) # create a pivot table\n",
        "\n",
        "t1.columns = [''.join(col).strip() for col in t.columns.values]\n",
        "t1.sort_values(by='mean_debt').head(20) # sort by increasing share of debtors and display the first 20 lines"
      ]
    },
    {
      "cell_type": "markdown",
      "id": "03f3f518",
      "metadata": {
        "id": "03f3f518"
      },
      "source": [
        "**The first complex group in the list, which has a representative number of participants (4220 people) and the smallest share of debtors (0.0656), corresponds to the following values: `children = 0`, `purpose_category_id = 1`, `family_status_id = 0`, which confirms our final hypothesis - a client without children, who has a loan purpose - real estate transactions and marital status - married - the most reliable borrower.**"
      ]
    },
    {
      "cell_type": "markdown",
      "id": "c13aaedc",
      "metadata": {
        "id": "c13aaedc"
      },
      "source": [
        "**Based on each point, we have identified the most reliable groups of clients. Let us now check by complex filtering of the dataframe and using pivot tables using the `pivot_table` method whether this is true. Let's check the share of debtors for the combination: clients with a high income category, without children, who take out a loan for real estate transactions and who (1) are a widow\\widower,\n",
        "(2) are divorced and (3) married.**\n",
        "\n",
        "**We will also once again display the total share of debtors in the entire dataset as a reference value.**"
      ]
    },
    {
      "cell_type": "code",
      "execution_count": 152,
      "id": "26a2e5fc",
      "metadata": {
        "id": "26a2e5fc",
        "outputId": "904f1c91-e0ea-4596-f76e-501a0f13c7b9",
        "colab": {
          "base_uri": "https://localhost:8080/",
          "height": 1000
        }
      },
      "outputs": [
        {
          "output_type": "stream",
          "name": "stdout",
          "text": [
            "  total_income_category      min        max\n",
            "0                     A  1000001        inf\n",
            "1                     B   200001  1000000.0\n",
            "2                     C    50001   200000.0\n",
            "3                     D    30001    50000.0\n",
            "4                     E        0    30000.0\n",
            "\n",
            "\n",
            "   purpose_category_id          purpose_category\n",
            "0                    1  операции с недвижимостью\n",
            "1                    0    операции с автомобилем\n",
            "2                    3     получение образования\n",
            "3                    2        проведение свадьбы\n",
            "\n",
            "\n",
            "   family_status_id          family_status\n",
            "0                 0        женат / замужем\n",
            "1                 1       гражданский брак\n",
            "2                 2         вдовец / вдова\n",
            "3                 3              в разводе\n",
            "4                 4  не женат / не замужем\n",
            "\n",
            "\n",
            "Total share of debtors in the entire dataframe = 0.08120584079133301\n"
          ]
        },
        {
          "output_type": "execute_result",
          "data": {
            "text/plain": [
              "                                                                     count_debt  \\\n",
              "total_income_category children purpose_category_id family_status_id               \n",
              "B                     1        2                   1                        126   \n",
              "C                     0        1                   2                        381   \n",
              "B                     0        1                   1                        145   \n",
              "                               3                   0                        359   \n",
              "                      2        1                   0                        223   \n",
              "                      0        1                   0                        993   \n",
              "                               2                   1                        349   \n",
              "                               1                   3                        110   \n",
              "C                     2        2                   1                        155   \n",
              "                      0        1                   0                       3132   \n",
              "                               3                   2                        147   \n",
              "                               0                   0                       1227   \n",
              "                               1                   3                        311   \n",
              "B                     1        0                   0                        182   \n",
              "C                     0        3                   3                        126   \n",
              "B                     1        1                   0                        417   \n",
              "C                     1        1                   3                        139   \n",
              "                                                   0                       1254   \n",
              "                      0        1                   4                        950   \n",
              "B                     1        3                   0                        131   \n",
              "\n",
              "                                                                     mean_debt  \n",
              "total_income_category children purpose_category_id family_status_id             \n",
              "B                     1        2                   1                  0.031746  \n",
              "C                     0        1                   2                  0.049869  \n",
              "B                     0        1                   1                  0.055172  \n",
              "                               3                   0                  0.055710  \n",
              "                      2        1                   0                  0.058296  \n",
              "                      0        1                   0                  0.061430  \n",
              "                               2                   1                  0.063037  \n",
              "                               1                   3                  0.063636  \n",
              "C                     2        2                   1                  0.064516  \n",
              "                      0        1                   0                  0.067369  \n",
              "                               3                   2                  0.068027  \n",
              "                               0                   0                  0.070090  \n",
              "                               1                   3                  0.070740  \n",
              "B                     1        0                   0                  0.071429  \n",
              "C                     0        3                   3                  0.071429  \n",
              "B                     1        1                   0                  0.071942  \n",
              "C                     1        1                   3                  0.071942  \n",
              "                                                   0                  0.072568  \n",
              "                      0        1                   4                  0.074737  \n",
              "B                     1        3                   0                  0.076336  "
            ],
            "text/html": [
              "\n",
              "  <div id=\"df-a47fc3ed-bfdc-4765-9f6b-8018957e1cb7\" class=\"colab-df-container\">\n",
              "    <div>\n",
              "<style scoped>\n",
              "    .dataframe tbody tr th:only-of-type {\n",
              "        vertical-align: middle;\n",
              "    }\n",
              "\n",
              "    .dataframe tbody tr th {\n",
              "        vertical-align: top;\n",
              "    }\n",
              "\n",
              "    .dataframe thead th {\n",
              "        text-align: right;\n",
              "    }\n",
              "</style>\n",
              "<table border=\"1\" class=\"dataframe\">\n",
              "  <thead>\n",
              "    <tr style=\"text-align: right;\">\n",
              "      <th></th>\n",
              "      <th></th>\n",
              "      <th></th>\n",
              "      <th></th>\n",
              "      <th>count_debt</th>\n",
              "      <th>mean_debt</th>\n",
              "    </tr>\n",
              "    <tr>\n",
              "      <th>total_income_category</th>\n",
              "      <th>children</th>\n",
              "      <th>purpose_category_id</th>\n",
              "      <th>family_status_id</th>\n",
              "      <th></th>\n",
              "      <th></th>\n",
              "    </tr>\n",
              "  </thead>\n",
              "  <tbody>\n",
              "    <tr>\n",
              "      <th>B</th>\n",
              "      <th>1</th>\n",
              "      <th>2</th>\n",
              "      <th>1</th>\n",
              "      <td>126</td>\n",
              "      <td>0.031746</td>\n",
              "    </tr>\n",
              "    <tr>\n",
              "      <th>C</th>\n",
              "      <th>0</th>\n",
              "      <th>1</th>\n",
              "      <th>2</th>\n",
              "      <td>381</td>\n",
              "      <td>0.049869</td>\n",
              "    </tr>\n",
              "    <tr>\n",
              "      <th rowspan=\"6\" valign=\"top\">B</th>\n",
              "      <th rowspan=\"2\" valign=\"top\">0</th>\n",
              "      <th>1</th>\n",
              "      <th>1</th>\n",
              "      <td>145</td>\n",
              "      <td>0.055172</td>\n",
              "    </tr>\n",
              "    <tr>\n",
              "      <th>3</th>\n",
              "      <th>0</th>\n",
              "      <td>359</td>\n",
              "      <td>0.055710</td>\n",
              "    </tr>\n",
              "    <tr>\n",
              "      <th>2</th>\n",
              "      <th>1</th>\n",
              "      <th>0</th>\n",
              "      <td>223</td>\n",
              "      <td>0.058296</td>\n",
              "    </tr>\n",
              "    <tr>\n",
              "      <th rowspan=\"3\" valign=\"top\">0</th>\n",
              "      <th>1</th>\n",
              "      <th>0</th>\n",
              "      <td>993</td>\n",
              "      <td>0.061430</td>\n",
              "    </tr>\n",
              "    <tr>\n",
              "      <th>2</th>\n",
              "      <th>1</th>\n",
              "      <td>349</td>\n",
              "      <td>0.063037</td>\n",
              "    </tr>\n",
              "    <tr>\n",
              "      <th>1</th>\n",
              "      <th>3</th>\n",
              "      <td>110</td>\n",
              "      <td>0.063636</td>\n",
              "    </tr>\n",
              "    <tr>\n",
              "      <th rowspan=\"5\" valign=\"top\">C</th>\n",
              "      <th>2</th>\n",
              "      <th>2</th>\n",
              "      <th>1</th>\n",
              "      <td>155</td>\n",
              "      <td>0.064516</td>\n",
              "    </tr>\n",
              "    <tr>\n",
              "      <th rowspan=\"4\" valign=\"top\">0</th>\n",
              "      <th>1</th>\n",
              "      <th>0</th>\n",
              "      <td>3132</td>\n",
              "      <td>0.067369</td>\n",
              "    </tr>\n",
              "    <tr>\n",
              "      <th>3</th>\n",
              "      <th>2</th>\n",
              "      <td>147</td>\n",
              "      <td>0.068027</td>\n",
              "    </tr>\n",
              "    <tr>\n",
              "      <th>0</th>\n",
              "      <th>0</th>\n",
              "      <td>1227</td>\n",
              "      <td>0.070090</td>\n",
              "    </tr>\n",
              "    <tr>\n",
              "      <th>1</th>\n",
              "      <th>3</th>\n",
              "      <td>311</td>\n",
              "      <td>0.070740</td>\n",
              "    </tr>\n",
              "    <tr>\n",
              "      <th>B</th>\n",
              "      <th>1</th>\n",
              "      <th>0</th>\n",
              "      <th>0</th>\n",
              "      <td>182</td>\n",
              "      <td>0.071429</td>\n",
              "    </tr>\n",
              "    <tr>\n",
              "      <th>C</th>\n",
              "      <th>0</th>\n",
              "      <th>3</th>\n",
              "      <th>3</th>\n",
              "      <td>126</td>\n",
              "      <td>0.071429</td>\n",
              "    </tr>\n",
              "    <tr>\n",
              "      <th>B</th>\n",
              "      <th>1</th>\n",
              "      <th>1</th>\n",
              "      <th>0</th>\n",
              "      <td>417</td>\n",
              "      <td>0.071942</td>\n",
              "    </tr>\n",
              "    <tr>\n",
              "      <th rowspan=\"3\" valign=\"top\">C</th>\n",
              "      <th rowspan=\"2\" valign=\"top\">1</th>\n",
              "      <th rowspan=\"2\" valign=\"top\">1</th>\n",
              "      <th>3</th>\n",
              "      <td>139</td>\n",
              "      <td>0.071942</td>\n",
              "    </tr>\n",
              "    <tr>\n",
              "      <th>0</th>\n",
              "      <td>1254</td>\n",
              "      <td>0.072568</td>\n",
              "    </tr>\n",
              "    <tr>\n",
              "      <th>0</th>\n",
              "      <th>1</th>\n",
              "      <th>4</th>\n",
              "      <td>950</td>\n",
              "      <td>0.074737</td>\n",
              "    </tr>\n",
              "    <tr>\n",
              "      <th>B</th>\n",
              "      <th>1</th>\n",
              "      <th>3</th>\n",
              "      <th>0</th>\n",
              "      <td>131</td>\n",
              "      <td>0.076336</td>\n",
              "    </tr>\n",
              "  </tbody>\n",
              "</table>\n",
              "</div>\n",
              "    <div class=\"colab-df-buttons\">\n",
              "\n",
              "  <div class=\"colab-df-container\">\n",
              "    <button class=\"colab-df-convert\" onclick=\"convertToInteractive('df-a47fc3ed-bfdc-4765-9f6b-8018957e1cb7')\"\n",
              "            title=\"Convert this dataframe to an interactive table.\"\n",
              "            style=\"display:none;\">\n",
              "\n",
              "  <svg xmlns=\"http://www.w3.org/2000/svg\" height=\"24px\" viewBox=\"0 -960 960 960\">\n",
              "    <path d=\"M120-120v-720h720v720H120Zm60-500h600v-160H180v160Zm220 220h160v-160H400v160Zm0 220h160v-160H400v160ZM180-400h160v-160H180v160Zm440 0h160v-160H620v160ZM180-180h160v-160H180v160Zm440 0h160v-160H620v160Z\"/>\n",
              "  </svg>\n",
              "    </button>\n",
              "\n",
              "  <style>\n",
              "    .colab-df-container {\n",
              "      display:flex;\n",
              "      gap: 12px;\n",
              "    }\n",
              "\n",
              "    .colab-df-convert {\n",
              "      background-color: #E8F0FE;\n",
              "      border: none;\n",
              "      border-radius: 50%;\n",
              "      cursor: pointer;\n",
              "      display: none;\n",
              "      fill: #1967D2;\n",
              "      height: 32px;\n",
              "      padding: 0 0 0 0;\n",
              "      width: 32px;\n",
              "    }\n",
              "\n",
              "    .colab-df-convert:hover {\n",
              "      background-color: #E2EBFA;\n",
              "      box-shadow: 0px 1px 2px rgba(60, 64, 67, 0.3), 0px 1px 3px 1px rgba(60, 64, 67, 0.15);\n",
              "      fill: #174EA6;\n",
              "    }\n",
              "\n",
              "    .colab-df-buttons div {\n",
              "      margin-bottom: 4px;\n",
              "    }\n",
              "\n",
              "    [theme=dark] .colab-df-convert {\n",
              "      background-color: #3B4455;\n",
              "      fill: #D2E3FC;\n",
              "    }\n",
              "\n",
              "    [theme=dark] .colab-df-convert:hover {\n",
              "      background-color: #434B5C;\n",
              "      box-shadow: 0px 1px 3px 1px rgba(0, 0, 0, 0.15);\n",
              "      filter: drop-shadow(0px 1px 2px rgba(0, 0, 0, 0.3));\n",
              "      fill: #FFFFFF;\n",
              "    }\n",
              "  </style>\n",
              "\n",
              "    <script>\n",
              "      const buttonEl =\n",
              "        document.querySelector('#df-a47fc3ed-bfdc-4765-9f6b-8018957e1cb7 button.colab-df-convert');\n",
              "      buttonEl.style.display =\n",
              "        google.colab.kernel.accessAllowed ? 'block' : 'none';\n",
              "\n",
              "      async function convertToInteractive(key) {\n",
              "        const element = document.querySelector('#df-a47fc3ed-bfdc-4765-9f6b-8018957e1cb7');\n",
              "        const dataTable =\n",
              "          await google.colab.kernel.invokeFunction('convertToInteractive',\n",
              "                                                    [key], {});\n",
              "        if (!dataTable) return;\n",
              "\n",
              "        const docLinkHtml = 'Like what you see? Visit the ' +\n",
              "          '<a target=\"_blank\" href=https://colab.research.google.com/notebooks/data_table.ipynb>data table notebook</a>'\n",
              "          + ' to learn more about interactive tables.';\n",
              "        element.innerHTML = '';\n",
              "        dataTable['output_type'] = 'display_data';\n",
              "        await google.colab.output.renderOutput(dataTable, element);\n",
              "        const docLink = document.createElement('div');\n",
              "        docLink.innerHTML = docLinkHtml;\n",
              "        element.appendChild(docLink);\n",
              "      }\n",
              "    </script>\n",
              "  </div>\n",
              "\n",
              "\n",
              "<div id=\"df-fe9d4186-05aa-4590-9ce2-6cf36196b134\">\n",
              "  <button class=\"colab-df-quickchart\" onclick=\"quickchart('df-fe9d4186-05aa-4590-9ce2-6cf36196b134')\"\n",
              "            title=\"Suggest charts.\"\n",
              "            style=\"display:none;\">\n",
              "\n",
              "<svg xmlns=\"http://www.w3.org/2000/svg\" height=\"24px\"viewBox=\"0 0 24 24\"\n",
              "     width=\"24px\">\n",
              "    <g>\n",
              "        <path d=\"M19 3H5c-1.1 0-2 .9-2 2v14c0 1.1.9 2 2 2h14c1.1 0 2-.9 2-2V5c0-1.1-.9-2-2-2zM9 17H7v-7h2v7zm4 0h-2V7h2v10zm4 0h-2v-4h2v4z\"/>\n",
              "    </g>\n",
              "</svg>\n",
              "  </button>\n",
              "\n",
              "<style>\n",
              "  .colab-df-quickchart {\n",
              "      --bg-color: #E8F0FE;\n",
              "      --fill-color: #1967D2;\n",
              "      --hover-bg-color: #E2EBFA;\n",
              "      --hover-fill-color: #174EA6;\n",
              "      --disabled-fill-color: #AAA;\n",
              "      --disabled-bg-color: #DDD;\n",
              "  }\n",
              "\n",
              "  [theme=dark] .colab-df-quickchart {\n",
              "      --bg-color: #3B4455;\n",
              "      --fill-color: #D2E3FC;\n",
              "      --hover-bg-color: #434B5C;\n",
              "      --hover-fill-color: #FFFFFF;\n",
              "      --disabled-bg-color: #3B4455;\n",
              "      --disabled-fill-color: #666;\n",
              "  }\n",
              "\n",
              "  .colab-df-quickchart {\n",
              "    background-color: var(--bg-color);\n",
              "    border: none;\n",
              "    border-radius: 50%;\n",
              "    cursor: pointer;\n",
              "    display: none;\n",
              "    fill: var(--fill-color);\n",
              "    height: 32px;\n",
              "    padding: 0;\n",
              "    width: 32px;\n",
              "  }\n",
              "\n",
              "  .colab-df-quickchart:hover {\n",
              "    background-color: var(--hover-bg-color);\n",
              "    box-shadow: 0 1px 2px rgba(60, 64, 67, 0.3), 0 1px 3px 1px rgba(60, 64, 67, 0.15);\n",
              "    fill: var(--button-hover-fill-color);\n",
              "  }\n",
              "\n",
              "  .colab-df-quickchart-complete:disabled,\n",
              "  .colab-df-quickchart-complete:disabled:hover {\n",
              "    background-color: var(--disabled-bg-color);\n",
              "    fill: var(--disabled-fill-color);\n",
              "    box-shadow: none;\n",
              "  }\n",
              "\n",
              "  .colab-df-spinner {\n",
              "    border: 2px solid var(--fill-color);\n",
              "    border-color: transparent;\n",
              "    border-bottom-color: var(--fill-color);\n",
              "    animation:\n",
              "      spin 1s steps(1) infinite;\n",
              "  }\n",
              "\n",
              "  @keyframes spin {\n",
              "    0% {\n",
              "      border-color: transparent;\n",
              "      border-bottom-color: var(--fill-color);\n",
              "      border-left-color: var(--fill-color);\n",
              "    }\n",
              "    20% {\n",
              "      border-color: transparent;\n",
              "      border-left-color: var(--fill-color);\n",
              "      border-top-color: var(--fill-color);\n",
              "    }\n",
              "    30% {\n",
              "      border-color: transparent;\n",
              "      border-left-color: var(--fill-color);\n",
              "      border-top-color: var(--fill-color);\n",
              "      border-right-color: var(--fill-color);\n",
              "    }\n",
              "    40% {\n",
              "      border-color: transparent;\n",
              "      border-right-color: var(--fill-color);\n",
              "      border-top-color: var(--fill-color);\n",
              "    }\n",
              "    60% {\n",
              "      border-color: transparent;\n",
              "      border-right-color: var(--fill-color);\n",
              "    }\n",
              "    80% {\n",
              "      border-color: transparent;\n",
              "      border-right-color: var(--fill-color);\n",
              "      border-bottom-color: var(--fill-color);\n",
              "    }\n",
              "    90% {\n",
              "      border-color: transparent;\n",
              "      border-bottom-color: var(--fill-color);\n",
              "    }\n",
              "  }\n",
              "</style>\n",
              "\n",
              "  <script>\n",
              "    async function quickchart(key) {\n",
              "      const quickchartButtonEl =\n",
              "        document.querySelector('#' + key + ' button');\n",
              "      quickchartButtonEl.disabled = true;  // To prevent multiple clicks.\n",
              "      quickchartButtonEl.classList.add('colab-df-spinner');\n",
              "      try {\n",
              "        const charts = await google.colab.kernel.invokeFunction(\n",
              "            'suggestCharts', [key], {});\n",
              "      } catch (error) {\n",
              "        console.error('Error during call to suggestCharts:', error);\n",
              "      }\n",
              "      quickchartButtonEl.classList.remove('colab-df-spinner');\n",
              "      quickchartButtonEl.classList.add('colab-df-quickchart-complete');\n",
              "    }\n",
              "    (() => {\n",
              "      let quickchartButtonEl =\n",
              "        document.querySelector('#df-fe9d4186-05aa-4590-9ce2-6cf36196b134 button');\n",
              "      quickchartButtonEl.style.display =\n",
              "        google.colab.kernel.accessAllowed ? 'block' : 'none';\n",
              "    })();\n",
              "  </script>\n",
              "</div>\n",
              "    </div>\n",
              "  </div>\n"
            ]
          },
          "metadata": {},
          "execution_count": 152
        }
      ],
      "source": [
        "print(total_income_dict) # print income category dictionary\n",
        "print('\\n') # separated by an empty line\n",
        "print(purpose_dict) # print a dictionary of loan purposes\n",
        "print('\\n') # separated by an empty line\n",
        "print(family_status_dict) # print a dictionary of marital status statuses\n",
        "print('\\n') # separated by an empty line\n",
        "print('Total share of debtors in the entire dataframe =',df['debt'].mean()) # print the total share of debtors in the entire dataframe\n",
        "t1 = pd.pivot_table(df,\n",
        "                index=['total_income_category', 'children', 'purpose_category_id', 'family_status_id'],\n",
        "                values='debt',\n",
        "                aggfunc=['count','mean']) # create a pivot table\n",
        "\n",
        "t1.columns = [''.join(col).strip() for col in t.columns.values]\n",
        "t1[t1['count_debt'] > 100].sort_values(by='mean_debt').head(20)\n",
        "# select overlapping samples, where there are more than 100 participants, sort by increasing share of debtors and display the first 20 lines"
      ]
    },
    {
      "cell_type": "markdown",
      "id": "d7776131",
      "metadata": {
        "id": "d7776131"
      },
      "source": [
        "**The first two in the list of complex groups with a representative number of participants (993 and 3132 people) and the smallest share of debtors (0.0614 and 0.674) correspond to the following values: `total_income_category = B or C` `children = 0`, `purpose_category_id = 1` , `family_status_id = 0`, which confirms our final hypothesis - the client has priority with an income of more than 200 thousand rubles or at least more than 50 thousand rubles, without children, having the purpose of the loan - real estate transactions and family status married - the most reliable borrower.**"
      ]
    },
    {
      "cell_type": "markdown",
      "id": "50b14d08",
      "metadata": {
        "id": "50b14d08"
      },
      "source": [
        "**Let’s now check which client is the riskiest for the bank in terms of repaying the loan on time. To do this, let's evaluate the \"tail\" of our filtered pivot table.**"
      ]
    },
    {
      "cell_type": "code",
      "execution_count": 153,
      "id": "e9bb6348",
      "metadata": {
        "id": "e9bb6348",
        "outputId": "ea2a4607-cc85-41de-9eca-59a8c7a0e5f3",
        "colab": {
          "base_uri": "https://localhost:8080/",
          "height": 1000
        }
      },
      "outputs": [
        {
          "output_type": "stream",
          "name": "stdout",
          "text": [
            "  total_income_category      min        max\n",
            "0                     A  1000001        inf\n",
            "1                     B   200001  1000000.0\n",
            "2                     C    50001   200000.0\n",
            "3                     D    30001    50000.0\n",
            "4                     E        0    30000.0\n",
            "\n",
            "\n",
            "   purpose_category_id          purpose_category\n",
            "0                    1  операции с недвижимостью\n",
            "1                    0    операции с автомобилем\n",
            "2                    3     получение образования\n",
            "3                    2        проведение свадьбы\n",
            "\n",
            "\n",
            "   family_status_id          family_status\n",
            "0                 0        женат / замужем\n",
            "1                 1       гражданский брак\n",
            "2                 2         вдовец / вдова\n",
            "3                 3              в разводе\n",
            "4                 4  не женат / не замужем\n",
            "\n",
            "\n",
            "Total share of debtors in the entire dataframe = 0.08120584079133301\n"
          ]
        },
        {
          "output_type": "execute_result",
          "data": {
            "text/plain": [
              "                                                                     count_debt  \\\n",
              "total_income_category children purpose_category_id family_status_id               \n",
              "C                     0        3                   1                        195   \n",
              "                      1        1                   1                        190   \n",
              "                      0        0                   4                        396   \n",
              "B                     0        0                   4                        118   \n",
              "C                     1        2                   1                        395   \n",
              "                      0        3                   4                        335   \n",
              "                      2        3                   0                        253   \n",
              "                      0        0                   1                        208   \n",
              "                      2        0                   0                        233   \n",
              "                      1        1                   4                        188   \n",
              "B                     0        3                   4                        113   \n",
              "C                     1        3                   0                        450   \n",
              "                               0                   0                        482   \n",
              "                      0        0                   2                        165   \n",
              "                      3        1                   0                        117   \n",
              "                      2        1                   0                        629   \n",
              "                      0        1                   1                        491   \n",
              "                               0                   3                        141   \n",
              "                               3                   0                       1176   \n",
              "                               2                   1                       1143   \n",
              "\n",
              "                                                                     mean_debt  \n",
              "total_income_category children purpose_category_id family_status_id             \n",
              "C                     0        3                   1                  0.148718  \n",
              "                      1        1                   1                  0.136842  \n",
              "                      0        0                   4                  0.123737  \n",
              "B                     0        0                   4                  0.118644  \n",
              "C                     1        2                   1                  0.116456  \n",
              "                      0        3                   4                  0.113433  \n",
              "                      2        3                   0                  0.110672  \n",
              "                      0        0                   1                  0.110577  \n",
              "                      2        0                   0                  0.107296  \n",
              "                      1        1                   4                  0.106383  \n",
              "B                     0        3                   4                  0.106195  \n",
              "C                     1        3                   0                  0.104444  \n",
              "                               0                   0                  0.101660  \n",
              "                      0        0                   2                  0.096970  \n",
              "                      3        1                   0                  0.094017  \n",
              "                      2        1                   0                  0.092210  \n",
              "                      0        1                   1                  0.085540  \n",
              "                               0                   3                  0.085106  \n",
              "                               3                   0                  0.082483  \n",
              "                               2                   1                  0.078740  "
            ],
            "text/html": [
              "\n",
              "  <div id=\"df-eefbd661-9a81-4234-964a-89a7c8d0cde5\" class=\"colab-df-container\">\n",
              "    <div>\n",
              "<style scoped>\n",
              "    .dataframe tbody tr th:only-of-type {\n",
              "        vertical-align: middle;\n",
              "    }\n",
              "\n",
              "    .dataframe tbody tr th {\n",
              "        vertical-align: top;\n",
              "    }\n",
              "\n",
              "    .dataframe thead th {\n",
              "        text-align: right;\n",
              "    }\n",
              "</style>\n",
              "<table border=\"1\" class=\"dataframe\">\n",
              "  <thead>\n",
              "    <tr style=\"text-align: right;\">\n",
              "      <th></th>\n",
              "      <th></th>\n",
              "      <th></th>\n",
              "      <th></th>\n",
              "      <th>count_debt</th>\n",
              "      <th>mean_debt</th>\n",
              "    </tr>\n",
              "    <tr>\n",
              "      <th>total_income_category</th>\n",
              "      <th>children</th>\n",
              "      <th>purpose_category_id</th>\n",
              "      <th>family_status_id</th>\n",
              "      <th></th>\n",
              "      <th></th>\n",
              "    </tr>\n",
              "  </thead>\n",
              "  <tbody>\n",
              "    <tr>\n",
              "      <th rowspan=\"3\" valign=\"top\">C</th>\n",
              "      <th>0</th>\n",
              "      <th>3</th>\n",
              "      <th>1</th>\n",
              "      <td>195</td>\n",
              "      <td>0.148718</td>\n",
              "    </tr>\n",
              "    <tr>\n",
              "      <th>1</th>\n",
              "      <th>1</th>\n",
              "      <th>1</th>\n",
              "      <td>190</td>\n",
              "      <td>0.136842</td>\n",
              "    </tr>\n",
              "    <tr>\n",
              "      <th>0</th>\n",
              "      <th>0</th>\n",
              "      <th>4</th>\n",
              "      <td>396</td>\n",
              "      <td>0.123737</td>\n",
              "    </tr>\n",
              "    <tr>\n",
              "      <th>B</th>\n",
              "      <th>0</th>\n",
              "      <th>0</th>\n",
              "      <th>4</th>\n",
              "      <td>118</td>\n",
              "      <td>0.118644</td>\n",
              "    </tr>\n",
              "    <tr>\n",
              "      <th rowspan=\"6\" valign=\"top\">C</th>\n",
              "      <th>1</th>\n",
              "      <th>2</th>\n",
              "      <th>1</th>\n",
              "      <td>395</td>\n",
              "      <td>0.116456</td>\n",
              "    </tr>\n",
              "    <tr>\n",
              "      <th>0</th>\n",
              "      <th>3</th>\n",
              "      <th>4</th>\n",
              "      <td>335</td>\n",
              "      <td>0.113433</td>\n",
              "    </tr>\n",
              "    <tr>\n",
              "      <th>2</th>\n",
              "      <th>3</th>\n",
              "      <th>0</th>\n",
              "      <td>253</td>\n",
              "      <td>0.110672</td>\n",
              "    </tr>\n",
              "    <tr>\n",
              "      <th>0</th>\n",
              "      <th>0</th>\n",
              "      <th>1</th>\n",
              "      <td>208</td>\n",
              "      <td>0.110577</td>\n",
              "    </tr>\n",
              "    <tr>\n",
              "      <th>2</th>\n",
              "      <th>0</th>\n",
              "      <th>0</th>\n",
              "      <td>233</td>\n",
              "      <td>0.107296</td>\n",
              "    </tr>\n",
              "    <tr>\n",
              "      <th>1</th>\n",
              "      <th>1</th>\n",
              "      <th>4</th>\n",
              "      <td>188</td>\n",
              "      <td>0.106383</td>\n",
              "    </tr>\n",
              "    <tr>\n",
              "      <th>B</th>\n",
              "      <th>0</th>\n",
              "      <th>3</th>\n",
              "      <th>4</th>\n",
              "      <td>113</td>\n",
              "      <td>0.106195</td>\n",
              "    </tr>\n",
              "    <tr>\n",
              "      <th rowspan=\"9\" valign=\"top\">C</th>\n",
              "      <th rowspan=\"2\" valign=\"top\">1</th>\n",
              "      <th>3</th>\n",
              "      <th>0</th>\n",
              "      <td>450</td>\n",
              "      <td>0.104444</td>\n",
              "    </tr>\n",
              "    <tr>\n",
              "      <th>0</th>\n",
              "      <th>0</th>\n",
              "      <td>482</td>\n",
              "      <td>0.101660</td>\n",
              "    </tr>\n",
              "    <tr>\n",
              "      <th>0</th>\n",
              "      <th>0</th>\n",
              "      <th>2</th>\n",
              "      <td>165</td>\n",
              "      <td>0.096970</td>\n",
              "    </tr>\n",
              "    <tr>\n",
              "      <th>3</th>\n",
              "      <th>1</th>\n",
              "      <th>0</th>\n",
              "      <td>117</td>\n",
              "      <td>0.094017</td>\n",
              "    </tr>\n",
              "    <tr>\n",
              "      <th>2</th>\n",
              "      <th>1</th>\n",
              "      <th>0</th>\n",
              "      <td>629</td>\n",
              "      <td>0.092210</td>\n",
              "    </tr>\n",
              "    <tr>\n",
              "      <th rowspan=\"4\" valign=\"top\">0</th>\n",
              "      <th>1</th>\n",
              "      <th>1</th>\n",
              "      <td>491</td>\n",
              "      <td>0.085540</td>\n",
              "    </tr>\n",
              "    <tr>\n",
              "      <th>0</th>\n",
              "      <th>3</th>\n",
              "      <td>141</td>\n",
              "      <td>0.085106</td>\n",
              "    </tr>\n",
              "    <tr>\n",
              "      <th>3</th>\n",
              "      <th>0</th>\n",
              "      <td>1176</td>\n",
              "      <td>0.082483</td>\n",
              "    </tr>\n",
              "    <tr>\n",
              "      <th>2</th>\n",
              "      <th>1</th>\n",
              "      <td>1143</td>\n",
              "      <td>0.078740</td>\n",
              "    </tr>\n",
              "  </tbody>\n",
              "</table>\n",
              "</div>\n",
              "    <div class=\"colab-df-buttons\">\n",
              "\n",
              "  <div class=\"colab-df-container\">\n",
              "    <button class=\"colab-df-convert\" onclick=\"convertToInteractive('df-eefbd661-9a81-4234-964a-89a7c8d0cde5')\"\n",
              "            title=\"Convert this dataframe to an interactive table.\"\n",
              "            style=\"display:none;\">\n",
              "\n",
              "  <svg xmlns=\"http://www.w3.org/2000/svg\" height=\"24px\" viewBox=\"0 -960 960 960\">\n",
              "    <path d=\"M120-120v-720h720v720H120Zm60-500h600v-160H180v160Zm220 220h160v-160H400v160Zm0 220h160v-160H400v160ZM180-400h160v-160H180v160Zm440 0h160v-160H620v160ZM180-180h160v-160H180v160Zm440 0h160v-160H620v160Z\"/>\n",
              "  </svg>\n",
              "    </button>\n",
              "\n",
              "  <style>\n",
              "    .colab-df-container {\n",
              "      display:flex;\n",
              "      gap: 12px;\n",
              "    }\n",
              "\n",
              "    .colab-df-convert {\n",
              "      background-color: #E8F0FE;\n",
              "      border: none;\n",
              "      border-radius: 50%;\n",
              "      cursor: pointer;\n",
              "      display: none;\n",
              "      fill: #1967D2;\n",
              "      height: 32px;\n",
              "      padding: 0 0 0 0;\n",
              "      width: 32px;\n",
              "    }\n",
              "\n",
              "    .colab-df-convert:hover {\n",
              "      background-color: #E2EBFA;\n",
              "      box-shadow: 0px 1px 2px rgba(60, 64, 67, 0.3), 0px 1px 3px 1px rgba(60, 64, 67, 0.15);\n",
              "      fill: #174EA6;\n",
              "    }\n",
              "\n",
              "    .colab-df-buttons div {\n",
              "      margin-bottom: 4px;\n",
              "    }\n",
              "\n",
              "    [theme=dark] .colab-df-convert {\n",
              "      background-color: #3B4455;\n",
              "      fill: #D2E3FC;\n",
              "    }\n",
              "\n",
              "    [theme=dark] .colab-df-convert:hover {\n",
              "      background-color: #434B5C;\n",
              "      box-shadow: 0px 1px 3px 1px rgba(0, 0, 0, 0.15);\n",
              "      filter: drop-shadow(0px 1px 2px rgba(0, 0, 0, 0.3));\n",
              "      fill: #FFFFFF;\n",
              "    }\n",
              "  </style>\n",
              "\n",
              "    <script>\n",
              "      const buttonEl =\n",
              "        document.querySelector('#df-eefbd661-9a81-4234-964a-89a7c8d0cde5 button.colab-df-convert');\n",
              "      buttonEl.style.display =\n",
              "        google.colab.kernel.accessAllowed ? 'block' : 'none';\n",
              "\n",
              "      async function convertToInteractive(key) {\n",
              "        const element = document.querySelector('#df-eefbd661-9a81-4234-964a-89a7c8d0cde5');\n",
              "        const dataTable =\n",
              "          await google.colab.kernel.invokeFunction('convertToInteractive',\n",
              "                                                    [key], {});\n",
              "        if (!dataTable) return;\n",
              "\n",
              "        const docLinkHtml = 'Like what you see? Visit the ' +\n",
              "          '<a target=\"_blank\" href=https://colab.research.google.com/notebooks/data_table.ipynb>data table notebook</a>'\n",
              "          + ' to learn more about interactive tables.';\n",
              "        element.innerHTML = '';\n",
              "        dataTable['output_type'] = 'display_data';\n",
              "        await google.colab.output.renderOutput(dataTable, element);\n",
              "        const docLink = document.createElement('div');\n",
              "        docLink.innerHTML = docLinkHtml;\n",
              "        element.appendChild(docLink);\n",
              "      }\n",
              "    </script>\n",
              "  </div>\n",
              "\n",
              "\n",
              "<div id=\"df-9b5b7400-d417-45fa-b348-dd9598fc5e4f\">\n",
              "  <button class=\"colab-df-quickchart\" onclick=\"quickchart('df-9b5b7400-d417-45fa-b348-dd9598fc5e4f')\"\n",
              "            title=\"Suggest charts.\"\n",
              "            style=\"display:none;\">\n",
              "\n",
              "<svg xmlns=\"http://www.w3.org/2000/svg\" height=\"24px\"viewBox=\"0 0 24 24\"\n",
              "     width=\"24px\">\n",
              "    <g>\n",
              "        <path d=\"M19 3H5c-1.1 0-2 .9-2 2v14c0 1.1.9 2 2 2h14c1.1 0 2-.9 2-2V5c0-1.1-.9-2-2-2zM9 17H7v-7h2v7zm4 0h-2V7h2v10zm4 0h-2v-4h2v4z\"/>\n",
              "    </g>\n",
              "</svg>\n",
              "  </button>\n",
              "\n",
              "<style>\n",
              "  .colab-df-quickchart {\n",
              "      --bg-color: #E8F0FE;\n",
              "      --fill-color: #1967D2;\n",
              "      --hover-bg-color: #E2EBFA;\n",
              "      --hover-fill-color: #174EA6;\n",
              "      --disabled-fill-color: #AAA;\n",
              "      --disabled-bg-color: #DDD;\n",
              "  }\n",
              "\n",
              "  [theme=dark] .colab-df-quickchart {\n",
              "      --bg-color: #3B4455;\n",
              "      --fill-color: #D2E3FC;\n",
              "      --hover-bg-color: #434B5C;\n",
              "      --hover-fill-color: #FFFFFF;\n",
              "      --disabled-bg-color: #3B4455;\n",
              "      --disabled-fill-color: #666;\n",
              "  }\n",
              "\n",
              "  .colab-df-quickchart {\n",
              "    background-color: var(--bg-color);\n",
              "    border: none;\n",
              "    border-radius: 50%;\n",
              "    cursor: pointer;\n",
              "    display: none;\n",
              "    fill: var(--fill-color);\n",
              "    height: 32px;\n",
              "    padding: 0;\n",
              "    width: 32px;\n",
              "  }\n",
              "\n",
              "  .colab-df-quickchart:hover {\n",
              "    background-color: var(--hover-bg-color);\n",
              "    box-shadow: 0 1px 2px rgba(60, 64, 67, 0.3), 0 1px 3px 1px rgba(60, 64, 67, 0.15);\n",
              "    fill: var(--button-hover-fill-color);\n",
              "  }\n",
              "\n",
              "  .colab-df-quickchart-complete:disabled,\n",
              "  .colab-df-quickchart-complete:disabled:hover {\n",
              "    background-color: var(--disabled-bg-color);\n",
              "    fill: var(--disabled-fill-color);\n",
              "    box-shadow: none;\n",
              "  }\n",
              "\n",
              "  .colab-df-spinner {\n",
              "    border: 2px solid var(--fill-color);\n",
              "    border-color: transparent;\n",
              "    border-bottom-color: var(--fill-color);\n",
              "    animation:\n",
              "      spin 1s steps(1) infinite;\n",
              "  }\n",
              "\n",
              "  @keyframes spin {\n",
              "    0% {\n",
              "      border-color: transparent;\n",
              "      border-bottom-color: var(--fill-color);\n",
              "      border-left-color: var(--fill-color);\n",
              "    }\n",
              "    20% {\n",
              "      border-color: transparent;\n",
              "      border-left-color: var(--fill-color);\n",
              "      border-top-color: var(--fill-color);\n",
              "    }\n",
              "    30% {\n",
              "      border-color: transparent;\n",
              "      border-left-color: var(--fill-color);\n",
              "      border-top-color: var(--fill-color);\n",
              "      border-right-color: var(--fill-color);\n",
              "    }\n",
              "    40% {\n",
              "      border-color: transparent;\n",
              "      border-right-color: var(--fill-color);\n",
              "      border-top-color: var(--fill-color);\n",
              "    }\n",
              "    60% {\n",
              "      border-color: transparent;\n",
              "      border-right-color: var(--fill-color);\n",
              "    }\n",
              "    80% {\n",
              "      border-color: transparent;\n",
              "      border-right-color: var(--fill-color);\n",
              "      border-bottom-color: var(--fill-color);\n",
              "    }\n",
              "    90% {\n",
              "      border-color: transparent;\n",
              "      border-bottom-color: var(--fill-color);\n",
              "    }\n",
              "  }\n",
              "</style>\n",
              "\n",
              "  <script>\n",
              "    async function quickchart(key) {\n",
              "      const quickchartButtonEl =\n",
              "        document.querySelector('#' + key + ' button');\n",
              "      quickchartButtonEl.disabled = true;  // To prevent multiple clicks.\n",
              "      quickchartButtonEl.classList.add('colab-df-spinner');\n",
              "      try {\n",
              "        const charts = await google.colab.kernel.invokeFunction(\n",
              "            'suggestCharts', [key], {});\n",
              "      } catch (error) {\n",
              "        console.error('Error during call to suggestCharts:', error);\n",
              "      }\n",
              "      quickchartButtonEl.classList.remove('colab-df-spinner');\n",
              "      quickchartButtonEl.classList.add('colab-df-quickchart-complete');\n",
              "    }\n",
              "    (() => {\n",
              "      let quickchartButtonEl =\n",
              "        document.querySelector('#df-9b5b7400-d417-45fa-b348-dd9598fc5e4f button');\n",
              "      quickchartButtonEl.style.display =\n",
              "        google.colab.kernel.accessAllowed ? 'block' : 'none';\n",
              "    })();\n",
              "  </script>\n",
              "</div>\n",
              "    </div>\n",
              "  </div>\n"
            ]
          },
          "metadata": {},
          "execution_count": 153
        }
      ],
      "source": [
        "print(total_income_dict) # print income category dictionary\n",
        "print('\\n') # separated by an empty line\n",
        "print(purpose_dict) # print a dictionary of loan purposes\n",
        "print('\\n') # separated by an empty line\n",
        "print(family_status_dict) # print a dictionary of marital status statuses\n",
        "print('\\n') # separated by an empty line\n",
        "print('Total share of debtors in the entire dataframe =',df['debt'].mean()) # print the total share of debtors in the entire dataframe\n",
        "t1[t1['count_debt'] > 100].sort_values(by='mean_debt', ascending=False).head(20)\n",
        "# select overlapping samples, where there are more than 100 participants, sort in descending order of the shares of debtors and display the first 20 lines"
      ]
    },
    {
      "cell_type": "markdown",
      "id": "de61fe83",
      "metadata": {
        "id": "de61fe83"
      },
      "source": [
        "**We see that most of the debtors are concentrated in category `'C'`, so we will make a new grouping of the dataframe and create a new summary table based on it, which is already more “readable”.**"
      ]
    },
    {
      "cell_type": "code",
      "execution_count": 154,
      "id": "bd3b3286",
      "metadata": {
        "id": "bd3b3286",
        "outputId": "13eec4f3-7d08-4654-852b-b808c55b8280",
        "colab": {
          "base_uri": "https://localhost:8080/",
          "height": 1000
        }
      },
      "outputs": [
        {
          "output_type": "display_data",
          "data": {
            "text/plain": [
              "  total_income_category      min        max\n",
              "0                     A  1000001        inf\n",
              "1                     B   200001  1000000.0\n",
              "2                     C    50001   200000.0\n",
              "3                     D    30001    50000.0\n",
              "4                     E        0    30000.0"
            ],
            "text/html": [
              "\n",
              "  <div id=\"df-5846ca5a-26ee-46ea-bde3-fb91dec80dac\" class=\"colab-df-container\">\n",
              "    <div>\n",
              "<style scoped>\n",
              "    .dataframe tbody tr th:only-of-type {\n",
              "        vertical-align: middle;\n",
              "    }\n",
              "\n",
              "    .dataframe tbody tr th {\n",
              "        vertical-align: top;\n",
              "    }\n",
              "\n",
              "    .dataframe thead th {\n",
              "        text-align: right;\n",
              "    }\n",
              "</style>\n",
              "<table border=\"1\" class=\"dataframe\">\n",
              "  <thead>\n",
              "    <tr style=\"text-align: right;\">\n",
              "      <th></th>\n",
              "      <th>total_income_category</th>\n",
              "      <th>min</th>\n",
              "      <th>max</th>\n",
              "    </tr>\n",
              "  </thead>\n",
              "  <tbody>\n",
              "    <tr>\n",
              "      <th>0</th>\n",
              "      <td>A</td>\n",
              "      <td>1000001</td>\n",
              "      <td>inf</td>\n",
              "    </tr>\n",
              "    <tr>\n",
              "      <th>1</th>\n",
              "      <td>B</td>\n",
              "      <td>200001</td>\n",
              "      <td>1000000.0</td>\n",
              "    </tr>\n",
              "    <tr>\n",
              "      <th>2</th>\n",
              "      <td>C</td>\n",
              "      <td>50001</td>\n",
              "      <td>200000.0</td>\n",
              "    </tr>\n",
              "    <tr>\n",
              "      <th>3</th>\n",
              "      <td>D</td>\n",
              "      <td>30001</td>\n",
              "      <td>50000.0</td>\n",
              "    </tr>\n",
              "    <tr>\n",
              "      <th>4</th>\n",
              "      <td>E</td>\n",
              "      <td>0</td>\n",
              "      <td>30000.0</td>\n",
              "    </tr>\n",
              "  </tbody>\n",
              "</table>\n",
              "</div>\n",
              "    <div class=\"colab-df-buttons\">\n",
              "\n",
              "  <div class=\"colab-df-container\">\n",
              "    <button class=\"colab-df-convert\" onclick=\"convertToInteractive('df-5846ca5a-26ee-46ea-bde3-fb91dec80dac')\"\n",
              "            title=\"Convert this dataframe to an interactive table.\"\n",
              "            style=\"display:none;\">\n",
              "\n",
              "  <svg xmlns=\"http://www.w3.org/2000/svg\" height=\"24px\" viewBox=\"0 -960 960 960\">\n",
              "    <path d=\"M120-120v-720h720v720H120Zm60-500h600v-160H180v160Zm220 220h160v-160H400v160Zm0 220h160v-160H400v160ZM180-400h160v-160H180v160Zm440 0h160v-160H620v160ZM180-180h160v-160H180v160Zm440 0h160v-160H620v160Z\"/>\n",
              "  </svg>\n",
              "    </button>\n",
              "\n",
              "  <style>\n",
              "    .colab-df-container {\n",
              "      display:flex;\n",
              "      gap: 12px;\n",
              "    }\n",
              "\n",
              "    .colab-df-convert {\n",
              "      background-color: #E8F0FE;\n",
              "      border: none;\n",
              "      border-radius: 50%;\n",
              "      cursor: pointer;\n",
              "      display: none;\n",
              "      fill: #1967D2;\n",
              "      height: 32px;\n",
              "      padding: 0 0 0 0;\n",
              "      width: 32px;\n",
              "    }\n",
              "\n",
              "    .colab-df-convert:hover {\n",
              "      background-color: #E2EBFA;\n",
              "      box-shadow: 0px 1px 2px rgba(60, 64, 67, 0.3), 0px 1px 3px 1px rgba(60, 64, 67, 0.15);\n",
              "      fill: #174EA6;\n",
              "    }\n",
              "\n",
              "    .colab-df-buttons div {\n",
              "      margin-bottom: 4px;\n",
              "    }\n",
              "\n",
              "    [theme=dark] .colab-df-convert {\n",
              "      background-color: #3B4455;\n",
              "      fill: #D2E3FC;\n",
              "    }\n",
              "\n",
              "    [theme=dark] .colab-df-convert:hover {\n",
              "      background-color: #434B5C;\n",
              "      box-shadow: 0px 1px 3px 1px rgba(0, 0, 0, 0.15);\n",
              "      filter: drop-shadow(0px 1px 2px rgba(0, 0, 0, 0.3));\n",
              "      fill: #FFFFFF;\n",
              "    }\n",
              "  </style>\n",
              "\n",
              "    <script>\n",
              "      const buttonEl =\n",
              "        document.querySelector('#df-5846ca5a-26ee-46ea-bde3-fb91dec80dac button.colab-df-convert');\n",
              "      buttonEl.style.display =\n",
              "        google.colab.kernel.accessAllowed ? 'block' : 'none';\n",
              "\n",
              "      async function convertToInteractive(key) {\n",
              "        const element = document.querySelector('#df-5846ca5a-26ee-46ea-bde3-fb91dec80dac');\n",
              "        const dataTable =\n",
              "          await google.colab.kernel.invokeFunction('convertToInteractive',\n",
              "                                                    [key], {});\n",
              "        if (!dataTable) return;\n",
              "\n",
              "        const docLinkHtml = 'Like what you see? Visit the ' +\n",
              "          '<a target=\"_blank\" href=https://colab.research.google.com/notebooks/data_table.ipynb>data table notebook</a>'\n",
              "          + ' to learn more about interactive tables.';\n",
              "        element.innerHTML = '';\n",
              "        dataTable['output_type'] = 'display_data';\n",
              "        await google.colab.output.renderOutput(dataTable, element);\n",
              "        const docLink = document.createElement('div');\n",
              "        docLink.innerHTML = docLinkHtml;\n",
              "        element.appendChild(docLink);\n",
              "      }\n",
              "    </script>\n",
              "  </div>\n",
              "\n",
              "\n",
              "<div id=\"df-622bdff2-1614-4229-958c-d03e9d8a8f0e\">\n",
              "  <button class=\"colab-df-quickchart\" onclick=\"quickchart('df-622bdff2-1614-4229-958c-d03e9d8a8f0e')\"\n",
              "            title=\"Suggest charts.\"\n",
              "            style=\"display:none;\">\n",
              "\n",
              "<svg xmlns=\"http://www.w3.org/2000/svg\" height=\"24px\"viewBox=\"0 0 24 24\"\n",
              "     width=\"24px\">\n",
              "    <g>\n",
              "        <path d=\"M19 3H5c-1.1 0-2 .9-2 2v14c0 1.1.9 2 2 2h14c1.1 0 2-.9 2-2V5c0-1.1-.9-2-2-2zM9 17H7v-7h2v7zm4 0h-2V7h2v10zm4 0h-2v-4h2v4z\"/>\n",
              "    </g>\n",
              "</svg>\n",
              "  </button>\n",
              "\n",
              "<style>\n",
              "  .colab-df-quickchart {\n",
              "      --bg-color: #E8F0FE;\n",
              "      --fill-color: #1967D2;\n",
              "      --hover-bg-color: #E2EBFA;\n",
              "      --hover-fill-color: #174EA6;\n",
              "      --disabled-fill-color: #AAA;\n",
              "      --disabled-bg-color: #DDD;\n",
              "  }\n",
              "\n",
              "  [theme=dark] .colab-df-quickchart {\n",
              "      --bg-color: #3B4455;\n",
              "      --fill-color: #D2E3FC;\n",
              "      --hover-bg-color: #434B5C;\n",
              "      --hover-fill-color: #FFFFFF;\n",
              "      --disabled-bg-color: #3B4455;\n",
              "      --disabled-fill-color: #666;\n",
              "  }\n",
              "\n",
              "  .colab-df-quickchart {\n",
              "    background-color: var(--bg-color);\n",
              "    border: none;\n",
              "    border-radius: 50%;\n",
              "    cursor: pointer;\n",
              "    display: none;\n",
              "    fill: var(--fill-color);\n",
              "    height: 32px;\n",
              "    padding: 0;\n",
              "    width: 32px;\n",
              "  }\n",
              "\n",
              "  .colab-df-quickchart:hover {\n",
              "    background-color: var(--hover-bg-color);\n",
              "    box-shadow: 0 1px 2px rgba(60, 64, 67, 0.3), 0 1px 3px 1px rgba(60, 64, 67, 0.15);\n",
              "    fill: var(--button-hover-fill-color);\n",
              "  }\n",
              "\n",
              "  .colab-df-quickchart-complete:disabled,\n",
              "  .colab-df-quickchart-complete:disabled:hover {\n",
              "    background-color: var(--disabled-bg-color);\n",
              "    fill: var(--disabled-fill-color);\n",
              "    box-shadow: none;\n",
              "  }\n",
              "\n",
              "  .colab-df-spinner {\n",
              "    border: 2px solid var(--fill-color);\n",
              "    border-color: transparent;\n",
              "    border-bottom-color: var(--fill-color);\n",
              "    animation:\n",
              "      spin 1s steps(1) infinite;\n",
              "  }\n",
              "\n",
              "  @keyframes spin {\n",
              "    0% {\n",
              "      border-color: transparent;\n",
              "      border-bottom-color: var(--fill-color);\n",
              "      border-left-color: var(--fill-color);\n",
              "    }\n",
              "    20% {\n",
              "      border-color: transparent;\n",
              "      border-left-color: var(--fill-color);\n",
              "      border-top-color: var(--fill-color);\n",
              "    }\n",
              "    30% {\n",
              "      border-color: transparent;\n",
              "      border-left-color: var(--fill-color);\n",
              "      border-top-color: var(--fill-color);\n",
              "      border-right-color: var(--fill-color);\n",
              "    }\n",
              "    40% {\n",
              "      border-color: transparent;\n",
              "      border-right-color: var(--fill-color);\n",
              "      border-top-color: var(--fill-color);\n",
              "    }\n",
              "    60% {\n",
              "      border-color: transparent;\n",
              "      border-right-color: var(--fill-color);\n",
              "    }\n",
              "    80% {\n",
              "      border-color: transparent;\n",
              "      border-right-color: var(--fill-color);\n",
              "      border-bottom-color: var(--fill-color);\n",
              "    }\n",
              "    90% {\n",
              "      border-color: transparent;\n",
              "      border-bottom-color: var(--fill-color);\n",
              "    }\n",
              "  }\n",
              "</style>\n",
              "\n",
              "  <script>\n",
              "    async function quickchart(key) {\n",
              "      const quickchartButtonEl =\n",
              "        document.querySelector('#' + key + ' button');\n",
              "      quickchartButtonEl.disabled = true;  // To prevent multiple clicks.\n",
              "      quickchartButtonEl.classList.add('colab-df-spinner');\n",
              "      try {\n",
              "        const charts = await google.colab.kernel.invokeFunction(\n",
              "            'suggestCharts', [key], {});\n",
              "      } catch (error) {\n",
              "        console.error('Error during call to suggestCharts:', error);\n",
              "      }\n",
              "      quickchartButtonEl.classList.remove('colab-df-spinner');\n",
              "      quickchartButtonEl.classList.add('colab-df-quickchart-complete');\n",
              "    }\n",
              "    (() => {\n",
              "      let quickchartButtonEl =\n",
              "        document.querySelector('#df-622bdff2-1614-4229-958c-d03e9d8a8f0e button');\n",
              "      quickchartButtonEl.style.display =\n",
              "        google.colab.kernel.accessAllowed ? 'block' : 'none';\n",
              "    })();\n",
              "  </script>\n",
              "</div>\n",
              "    </div>\n",
              "  </div>\n"
            ]
          },
          "metadata": {}
        },
        {
          "output_type": "display_data",
          "data": {
            "text/plain": [
              "   purpose_category_id          purpose_category\n",
              "0                    1  операции с недвижимостью\n",
              "1                    0    операции с автомобилем\n",
              "2                    3     получение образования\n",
              "3                    2        проведение свадьбы"
            ],
            "text/html": [
              "\n",
              "  <div id=\"df-7081df18-82ed-4e6c-9b06-dc5c38a537d6\" class=\"colab-df-container\">\n",
              "    <div>\n",
              "<style scoped>\n",
              "    .dataframe tbody tr th:only-of-type {\n",
              "        vertical-align: middle;\n",
              "    }\n",
              "\n",
              "    .dataframe tbody tr th {\n",
              "        vertical-align: top;\n",
              "    }\n",
              "\n",
              "    .dataframe thead th {\n",
              "        text-align: right;\n",
              "    }\n",
              "</style>\n",
              "<table border=\"1\" class=\"dataframe\">\n",
              "  <thead>\n",
              "    <tr style=\"text-align: right;\">\n",
              "      <th></th>\n",
              "      <th>purpose_category_id</th>\n",
              "      <th>purpose_category</th>\n",
              "    </tr>\n",
              "  </thead>\n",
              "  <tbody>\n",
              "    <tr>\n",
              "      <th>0</th>\n",
              "      <td>1</td>\n",
              "      <td>операции с недвижимостью</td>\n",
              "    </tr>\n",
              "    <tr>\n",
              "      <th>1</th>\n",
              "      <td>0</td>\n",
              "      <td>операции с автомобилем</td>\n",
              "    </tr>\n",
              "    <tr>\n",
              "      <th>2</th>\n",
              "      <td>3</td>\n",
              "      <td>получение образования</td>\n",
              "    </tr>\n",
              "    <tr>\n",
              "      <th>3</th>\n",
              "      <td>2</td>\n",
              "      <td>проведение свадьбы</td>\n",
              "    </tr>\n",
              "  </tbody>\n",
              "</table>\n",
              "</div>\n",
              "    <div class=\"colab-df-buttons\">\n",
              "\n",
              "  <div class=\"colab-df-container\">\n",
              "    <button class=\"colab-df-convert\" onclick=\"convertToInteractive('df-7081df18-82ed-4e6c-9b06-dc5c38a537d6')\"\n",
              "            title=\"Convert this dataframe to an interactive table.\"\n",
              "            style=\"display:none;\">\n",
              "\n",
              "  <svg xmlns=\"http://www.w3.org/2000/svg\" height=\"24px\" viewBox=\"0 -960 960 960\">\n",
              "    <path d=\"M120-120v-720h720v720H120Zm60-500h600v-160H180v160Zm220 220h160v-160H400v160Zm0 220h160v-160H400v160ZM180-400h160v-160H180v160Zm440 0h160v-160H620v160ZM180-180h160v-160H180v160Zm440 0h160v-160H620v160Z\"/>\n",
              "  </svg>\n",
              "    </button>\n",
              "\n",
              "  <style>\n",
              "    .colab-df-container {\n",
              "      display:flex;\n",
              "      gap: 12px;\n",
              "    }\n",
              "\n",
              "    .colab-df-convert {\n",
              "      background-color: #E8F0FE;\n",
              "      border: none;\n",
              "      border-radius: 50%;\n",
              "      cursor: pointer;\n",
              "      display: none;\n",
              "      fill: #1967D2;\n",
              "      height: 32px;\n",
              "      padding: 0 0 0 0;\n",
              "      width: 32px;\n",
              "    }\n",
              "\n",
              "    .colab-df-convert:hover {\n",
              "      background-color: #E2EBFA;\n",
              "      box-shadow: 0px 1px 2px rgba(60, 64, 67, 0.3), 0px 1px 3px 1px rgba(60, 64, 67, 0.15);\n",
              "      fill: #174EA6;\n",
              "    }\n",
              "\n",
              "    .colab-df-buttons div {\n",
              "      margin-bottom: 4px;\n",
              "    }\n",
              "\n",
              "    [theme=dark] .colab-df-convert {\n",
              "      background-color: #3B4455;\n",
              "      fill: #D2E3FC;\n",
              "    }\n",
              "\n",
              "    [theme=dark] .colab-df-convert:hover {\n",
              "      background-color: #434B5C;\n",
              "      box-shadow: 0px 1px 3px 1px rgba(0, 0, 0, 0.15);\n",
              "      filter: drop-shadow(0px 1px 2px rgba(0, 0, 0, 0.3));\n",
              "      fill: #FFFFFF;\n",
              "    }\n",
              "  </style>\n",
              "\n",
              "    <script>\n",
              "      const buttonEl =\n",
              "        document.querySelector('#df-7081df18-82ed-4e6c-9b06-dc5c38a537d6 button.colab-df-convert');\n",
              "      buttonEl.style.display =\n",
              "        google.colab.kernel.accessAllowed ? 'block' : 'none';\n",
              "\n",
              "      async function convertToInteractive(key) {\n",
              "        const element = document.querySelector('#df-7081df18-82ed-4e6c-9b06-dc5c38a537d6');\n",
              "        const dataTable =\n",
              "          await google.colab.kernel.invokeFunction('convertToInteractive',\n",
              "                                                    [key], {});\n",
              "        if (!dataTable) return;\n",
              "\n",
              "        const docLinkHtml = 'Like what you see? Visit the ' +\n",
              "          '<a target=\"_blank\" href=https://colab.research.google.com/notebooks/data_table.ipynb>data table notebook</a>'\n",
              "          + ' to learn more about interactive tables.';\n",
              "        element.innerHTML = '';\n",
              "        dataTable['output_type'] = 'display_data';\n",
              "        await google.colab.output.renderOutput(dataTable, element);\n",
              "        const docLink = document.createElement('div');\n",
              "        docLink.innerHTML = docLinkHtml;\n",
              "        element.appendChild(docLink);\n",
              "      }\n",
              "    </script>\n",
              "  </div>\n",
              "\n",
              "\n",
              "<div id=\"df-41ce1acf-a1e6-4fd0-92cd-5ae3a5d7d997\">\n",
              "  <button class=\"colab-df-quickchart\" onclick=\"quickchart('df-41ce1acf-a1e6-4fd0-92cd-5ae3a5d7d997')\"\n",
              "            title=\"Suggest charts.\"\n",
              "            style=\"display:none;\">\n",
              "\n",
              "<svg xmlns=\"http://www.w3.org/2000/svg\" height=\"24px\"viewBox=\"0 0 24 24\"\n",
              "     width=\"24px\">\n",
              "    <g>\n",
              "        <path d=\"M19 3H5c-1.1 0-2 .9-2 2v14c0 1.1.9 2 2 2h14c1.1 0 2-.9 2-2V5c0-1.1-.9-2-2-2zM9 17H7v-7h2v7zm4 0h-2V7h2v10zm4 0h-2v-4h2v4z\"/>\n",
              "    </g>\n",
              "</svg>\n",
              "  </button>\n",
              "\n",
              "<style>\n",
              "  .colab-df-quickchart {\n",
              "      --bg-color: #E8F0FE;\n",
              "      --fill-color: #1967D2;\n",
              "      --hover-bg-color: #E2EBFA;\n",
              "      --hover-fill-color: #174EA6;\n",
              "      --disabled-fill-color: #AAA;\n",
              "      --disabled-bg-color: #DDD;\n",
              "  }\n",
              "\n",
              "  [theme=dark] .colab-df-quickchart {\n",
              "      --bg-color: #3B4455;\n",
              "      --fill-color: #D2E3FC;\n",
              "      --hover-bg-color: #434B5C;\n",
              "      --hover-fill-color: #FFFFFF;\n",
              "      --disabled-bg-color: #3B4455;\n",
              "      --disabled-fill-color: #666;\n",
              "  }\n",
              "\n",
              "  .colab-df-quickchart {\n",
              "    background-color: var(--bg-color);\n",
              "    border: none;\n",
              "    border-radius: 50%;\n",
              "    cursor: pointer;\n",
              "    display: none;\n",
              "    fill: var(--fill-color);\n",
              "    height: 32px;\n",
              "    padding: 0;\n",
              "    width: 32px;\n",
              "  }\n",
              "\n",
              "  .colab-df-quickchart:hover {\n",
              "    background-color: var(--hover-bg-color);\n",
              "    box-shadow: 0 1px 2px rgba(60, 64, 67, 0.3), 0 1px 3px 1px rgba(60, 64, 67, 0.15);\n",
              "    fill: var(--button-hover-fill-color);\n",
              "  }\n",
              "\n",
              "  .colab-df-quickchart-complete:disabled,\n",
              "  .colab-df-quickchart-complete:disabled:hover {\n",
              "    background-color: var(--disabled-bg-color);\n",
              "    fill: var(--disabled-fill-color);\n",
              "    box-shadow: none;\n",
              "  }\n",
              "\n",
              "  .colab-df-spinner {\n",
              "    border: 2px solid var(--fill-color);\n",
              "    border-color: transparent;\n",
              "    border-bottom-color: var(--fill-color);\n",
              "    animation:\n",
              "      spin 1s steps(1) infinite;\n",
              "  }\n",
              "\n",
              "  @keyframes spin {\n",
              "    0% {\n",
              "      border-color: transparent;\n",
              "      border-bottom-color: var(--fill-color);\n",
              "      border-left-color: var(--fill-color);\n",
              "    }\n",
              "    20% {\n",
              "      border-color: transparent;\n",
              "      border-left-color: var(--fill-color);\n",
              "      border-top-color: var(--fill-color);\n",
              "    }\n",
              "    30% {\n",
              "      border-color: transparent;\n",
              "      border-left-color: var(--fill-color);\n",
              "      border-top-color: var(--fill-color);\n",
              "      border-right-color: var(--fill-color);\n",
              "    }\n",
              "    40% {\n",
              "      border-color: transparent;\n",
              "      border-right-color: var(--fill-color);\n",
              "      border-top-color: var(--fill-color);\n",
              "    }\n",
              "    60% {\n",
              "      border-color: transparent;\n",
              "      border-right-color: var(--fill-color);\n",
              "    }\n",
              "    80% {\n",
              "      border-color: transparent;\n",
              "      border-right-color: var(--fill-color);\n",
              "      border-bottom-color: var(--fill-color);\n",
              "    }\n",
              "    90% {\n",
              "      border-color: transparent;\n",
              "      border-bottom-color: var(--fill-color);\n",
              "    }\n",
              "  }\n",
              "</style>\n",
              "\n",
              "  <script>\n",
              "    async function quickchart(key) {\n",
              "      const quickchartButtonEl =\n",
              "        document.querySelector('#' + key + ' button');\n",
              "      quickchartButtonEl.disabled = true;  // To prevent multiple clicks.\n",
              "      quickchartButtonEl.classList.add('colab-df-spinner');\n",
              "      try {\n",
              "        const charts = await google.colab.kernel.invokeFunction(\n",
              "            'suggestCharts', [key], {});\n",
              "      } catch (error) {\n",
              "        console.error('Error during call to suggestCharts:', error);\n",
              "      }\n",
              "      quickchartButtonEl.classList.remove('colab-df-spinner');\n",
              "      quickchartButtonEl.classList.add('colab-df-quickchart-complete');\n",
              "    }\n",
              "    (() => {\n",
              "      let quickchartButtonEl =\n",
              "        document.querySelector('#df-41ce1acf-a1e6-4fd0-92cd-5ae3a5d7d997 button');\n",
              "      quickchartButtonEl.style.display =\n",
              "        google.colab.kernel.accessAllowed ? 'block' : 'none';\n",
              "    })();\n",
              "  </script>\n",
              "</div>\n",
              "    </div>\n",
              "  </div>\n"
            ]
          },
          "metadata": {}
        },
        {
          "output_type": "display_data",
          "data": {
            "text/plain": [
              "   family_status_id          family_status\n",
              "0                 0        женат / замужем\n",
              "1                 1       гражданский брак\n",
              "2                 2         вдовец / вдова\n",
              "3                 3              в разводе\n",
              "4                 4  не женат / не замужем"
            ],
            "text/html": [
              "\n",
              "  <div id=\"df-9afec528-3b19-4305-9e4e-0daf6f9542f1\" class=\"colab-df-container\">\n",
              "    <div>\n",
              "<style scoped>\n",
              "    .dataframe tbody tr th:only-of-type {\n",
              "        vertical-align: middle;\n",
              "    }\n",
              "\n",
              "    .dataframe tbody tr th {\n",
              "        vertical-align: top;\n",
              "    }\n",
              "\n",
              "    .dataframe thead th {\n",
              "        text-align: right;\n",
              "    }\n",
              "</style>\n",
              "<table border=\"1\" class=\"dataframe\">\n",
              "  <thead>\n",
              "    <tr style=\"text-align: right;\">\n",
              "      <th></th>\n",
              "      <th>family_status_id</th>\n",
              "      <th>family_status</th>\n",
              "    </tr>\n",
              "  </thead>\n",
              "  <tbody>\n",
              "    <tr>\n",
              "      <th>0</th>\n",
              "      <td>0</td>\n",
              "      <td>женат / замужем</td>\n",
              "    </tr>\n",
              "    <tr>\n",
              "      <th>1</th>\n",
              "      <td>1</td>\n",
              "      <td>гражданский брак</td>\n",
              "    </tr>\n",
              "    <tr>\n",
              "      <th>2</th>\n",
              "      <td>2</td>\n",
              "      <td>вдовец / вдова</td>\n",
              "    </tr>\n",
              "    <tr>\n",
              "      <th>3</th>\n",
              "      <td>3</td>\n",
              "      <td>в разводе</td>\n",
              "    </tr>\n",
              "    <tr>\n",
              "      <th>4</th>\n",
              "      <td>4</td>\n",
              "      <td>не женат / не замужем</td>\n",
              "    </tr>\n",
              "  </tbody>\n",
              "</table>\n",
              "</div>\n",
              "    <div class=\"colab-df-buttons\">\n",
              "\n",
              "  <div class=\"colab-df-container\">\n",
              "    <button class=\"colab-df-convert\" onclick=\"convertToInteractive('df-9afec528-3b19-4305-9e4e-0daf6f9542f1')\"\n",
              "            title=\"Convert this dataframe to an interactive table.\"\n",
              "            style=\"display:none;\">\n",
              "\n",
              "  <svg xmlns=\"http://www.w3.org/2000/svg\" height=\"24px\" viewBox=\"0 -960 960 960\">\n",
              "    <path d=\"M120-120v-720h720v720H120Zm60-500h600v-160H180v160Zm220 220h160v-160H400v160Zm0 220h160v-160H400v160ZM180-400h160v-160H180v160Zm440 0h160v-160H620v160ZM180-180h160v-160H180v160Zm440 0h160v-160H620v160Z\"/>\n",
              "  </svg>\n",
              "    </button>\n",
              "\n",
              "  <style>\n",
              "    .colab-df-container {\n",
              "      display:flex;\n",
              "      gap: 12px;\n",
              "    }\n",
              "\n",
              "    .colab-df-convert {\n",
              "      background-color: #E8F0FE;\n",
              "      border: none;\n",
              "      border-radius: 50%;\n",
              "      cursor: pointer;\n",
              "      display: none;\n",
              "      fill: #1967D2;\n",
              "      height: 32px;\n",
              "      padding: 0 0 0 0;\n",
              "      width: 32px;\n",
              "    }\n",
              "\n",
              "    .colab-df-convert:hover {\n",
              "      background-color: #E2EBFA;\n",
              "      box-shadow: 0px 1px 2px rgba(60, 64, 67, 0.3), 0px 1px 3px 1px rgba(60, 64, 67, 0.15);\n",
              "      fill: #174EA6;\n",
              "    }\n",
              "\n",
              "    .colab-df-buttons div {\n",
              "      margin-bottom: 4px;\n",
              "    }\n",
              "\n",
              "    [theme=dark] .colab-df-convert {\n",
              "      background-color: #3B4455;\n",
              "      fill: #D2E3FC;\n",
              "    }\n",
              "\n",
              "    [theme=dark] .colab-df-convert:hover {\n",
              "      background-color: #434B5C;\n",
              "      box-shadow: 0px 1px 3px 1px rgba(0, 0, 0, 0.15);\n",
              "      filter: drop-shadow(0px 1px 2px rgba(0, 0, 0, 0.3));\n",
              "      fill: #FFFFFF;\n",
              "    }\n",
              "  </style>\n",
              "\n",
              "    <script>\n",
              "      const buttonEl =\n",
              "        document.querySelector('#df-9afec528-3b19-4305-9e4e-0daf6f9542f1 button.colab-df-convert');\n",
              "      buttonEl.style.display =\n",
              "        google.colab.kernel.accessAllowed ? 'block' : 'none';\n",
              "\n",
              "      async function convertToInteractive(key) {\n",
              "        const element = document.querySelector('#df-9afec528-3b19-4305-9e4e-0daf6f9542f1');\n",
              "        const dataTable =\n",
              "          await google.colab.kernel.invokeFunction('convertToInteractive',\n",
              "                                                    [key], {});\n",
              "        if (!dataTable) return;\n",
              "\n",
              "        const docLinkHtml = 'Like what you see? Visit the ' +\n",
              "          '<a target=\"_blank\" href=https://colab.research.google.com/notebooks/data_table.ipynb>data table notebook</a>'\n",
              "          + ' to learn more about interactive tables.';\n",
              "        element.innerHTML = '';\n",
              "        dataTable['output_type'] = 'display_data';\n",
              "        await google.colab.output.renderOutput(dataTable, element);\n",
              "        const docLink = document.createElement('div');\n",
              "        docLink.innerHTML = docLinkHtml;\n",
              "        element.appendChild(docLink);\n",
              "      }\n",
              "    </script>\n",
              "  </div>\n",
              "\n",
              "\n",
              "<div id=\"df-02261bc7-66e9-40c6-9e48-42b99bf8ae61\">\n",
              "  <button class=\"colab-df-quickchart\" onclick=\"quickchart('df-02261bc7-66e9-40c6-9e48-42b99bf8ae61')\"\n",
              "            title=\"Suggest charts.\"\n",
              "            style=\"display:none;\">\n",
              "\n",
              "<svg xmlns=\"http://www.w3.org/2000/svg\" height=\"24px\"viewBox=\"0 0 24 24\"\n",
              "     width=\"24px\">\n",
              "    <g>\n",
              "        <path d=\"M19 3H5c-1.1 0-2 .9-2 2v14c0 1.1.9 2 2 2h14c1.1 0 2-.9 2-2V5c0-1.1-.9-2-2-2zM9 17H7v-7h2v7zm4 0h-2V7h2v10zm4 0h-2v-4h2v4z\"/>\n",
              "    </g>\n",
              "</svg>\n",
              "  </button>\n",
              "\n",
              "<style>\n",
              "  .colab-df-quickchart {\n",
              "      --bg-color: #E8F0FE;\n",
              "      --fill-color: #1967D2;\n",
              "      --hover-bg-color: #E2EBFA;\n",
              "      --hover-fill-color: #174EA6;\n",
              "      --disabled-fill-color: #AAA;\n",
              "      --disabled-bg-color: #DDD;\n",
              "  }\n",
              "\n",
              "  [theme=dark] .colab-df-quickchart {\n",
              "      --bg-color: #3B4455;\n",
              "      --fill-color: #D2E3FC;\n",
              "      --hover-bg-color: #434B5C;\n",
              "      --hover-fill-color: #FFFFFF;\n",
              "      --disabled-bg-color: #3B4455;\n",
              "      --disabled-fill-color: #666;\n",
              "  }\n",
              "\n",
              "  .colab-df-quickchart {\n",
              "    background-color: var(--bg-color);\n",
              "    border: none;\n",
              "    border-radius: 50%;\n",
              "    cursor: pointer;\n",
              "    display: none;\n",
              "    fill: var(--fill-color);\n",
              "    height: 32px;\n",
              "    padding: 0;\n",
              "    width: 32px;\n",
              "  }\n",
              "\n",
              "  .colab-df-quickchart:hover {\n",
              "    background-color: var(--hover-bg-color);\n",
              "    box-shadow: 0 1px 2px rgba(60, 64, 67, 0.3), 0 1px 3px 1px rgba(60, 64, 67, 0.15);\n",
              "    fill: var(--button-hover-fill-color);\n",
              "  }\n",
              "\n",
              "  .colab-df-quickchart-complete:disabled,\n",
              "  .colab-df-quickchart-complete:disabled:hover {\n",
              "    background-color: var(--disabled-bg-color);\n",
              "    fill: var(--disabled-fill-color);\n",
              "    box-shadow: none;\n",
              "  }\n",
              "\n",
              "  .colab-df-spinner {\n",
              "    border: 2px solid var(--fill-color);\n",
              "    border-color: transparent;\n",
              "    border-bottom-color: var(--fill-color);\n",
              "    animation:\n",
              "      spin 1s steps(1) infinite;\n",
              "  }\n",
              "\n",
              "  @keyframes spin {\n",
              "    0% {\n",
              "      border-color: transparent;\n",
              "      border-bottom-color: var(--fill-color);\n",
              "      border-left-color: var(--fill-color);\n",
              "    }\n",
              "    20% {\n",
              "      border-color: transparent;\n",
              "      border-left-color: var(--fill-color);\n",
              "      border-top-color: var(--fill-color);\n",
              "    }\n",
              "    30% {\n",
              "      border-color: transparent;\n",
              "      border-left-color: var(--fill-color);\n",
              "      border-top-color: var(--fill-color);\n",
              "      border-right-color: var(--fill-color);\n",
              "    }\n",
              "    40% {\n",
              "      border-color: transparent;\n",
              "      border-right-color: var(--fill-color);\n",
              "      border-top-color: var(--fill-color);\n",
              "    }\n",
              "    60% {\n",
              "      border-color: transparent;\n",
              "      border-right-color: var(--fill-color);\n",
              "    }\n",
              "    80% {\n",
              "      border-color: transparent;\n",
              "      border-right-color: var(--fill-color);\n",
              "      border-bottom-color: var(--fill-color);\n",
              "    }\n",
              "    90% {\n",
              "      border-color: transparent;\n",
              "      border-bottom-color: var(--fill-color);\n",
              "    }\n",
              "  }\n",
              "</style>\n",
              "\n",
              "  <script>\n",
              "    async function quickchart(key) {\n",
              "      const quickchartButtonEl =\n",
              "        document.querySelector('#' + key + ' button');\n",
              "      quickchartButtonEl.disabled = true;  // To prevent multiple clicks.\n",
              "      quickchartButtonEl.classList.add('colab-df-spinner');\n",
              "      try {\n",
              "        const charts = await google.colab.kernel.invokeFunction(\n",
              "            'suggestCharts', [key], {});\n",
              "      } catch (error) {\n",
              "        console.error('Error during call to suggestCharts:', error);\n",
              "      }\n",
              "      quickchartButtonEl.classList.remove('colab-df-spinner');\n",
              "      quickchartButtonEl.classList.add('colab-df-quickchart-complete');\n",
              "    }\n",
              "    (() => {\n",
              "      let quickchartButtonEl =\n",
              "        document.querySelector('#df-02261bc7-66e9-40c6-9e48-42b99bf8ae61 button');\n",
              "      quickchartButtonEl.style.display =\n",
              "        google.colab.kernel.accessAllowed ? 'block' : 'none';\n",
              "    })();\n",
              "  </script>\n",
              "</div>\n",
              "    </div>\n",
              "  </div>\n"
            ]
          },
          "metadata": {}
        },
        {
          "output_type": "display_data",
          "data": {
            "text/plain": [
              "'Total share of debtors in the entire dataframe:'"
            ],
            "application/vnd.google.colaboratory.intrinsic+json": {
              "type": "string"
            }
          },
          "metadata": {}
        },
        {
          "output_type": "display_data",
          "data": {
            "text/plain": [
              "0.08120584079133301"
            ]
          },
          "metadata": {}
        },
        {
          "output_type": "execute_result",
          "data": {
            "text/plain": [
              "                                                                     count_debt  \\\n",
              "total_income_category children purpose_category_id family_status_id               \n",
              "C                     0        3                   1                        195   \n",
              "                      1        1                   1                        190   \n",
              "                      0        0                   4                        396   \n",
              "                      1        2                   1                        395   \n",
              "                      0        3                   4                        335   \n",
              "                      2        3                   0                        253   \n",
              "                      0        0                   1                        208   \n",
              "                      2        0                   0                        233   \n",
              "                      1        1                   4                        188   \n",
              "                               3                   0                        450   \n",
              "                               0                   0                        482   \n",
              "                      0        0                   2                        165   \n",
              "                      3        1                   0                        117   \n",
              "                      2        1                   0                        629   \n",
              "                      0        1                   1                        491   \n",
              "                               0                   3                        141   \n",
              "                               3                   0                       1176   \n",
              "                               2                   1                       1143   \n",
              "                               1                   4                        950   \n",
              "                      1        1                   0                       1254   \n",
              "\n",
              "                                                                     mean_debt  \n",
              "total_income_category children purpose_category_id family_status_id             \n",
              "C                     0        3                   1                  0.148718  \n",
              "                      1        1                   1                  0.136842  \n",
              "                      0        0                   4                  0.123737  \n",
              "                      1        2                   1                  0.116456  \n",
              "                      0        3                   4                  0.113433  \n",
              "                      2        3                   0                  0.110672  \n",
              "                      0        0                   1                  0.110577  \n",
              "                      2        0                   0                  0.107296  \n",
              "                      1        1                   4                  0.106383  \n",
              "                               3                   0                  0.104444  \n",
              "                               0                   0                  0.101660  \n",
              "                      0        0                   2                  0.096970  \n",
              "                      3        1                   0                  0.094017  \n",
              "                      2        1                   0                  0.092210  \n",
              "                      0        1                   1                  0.085540  \n",
              "                               0                   3                  0.085106  \n",
              "                               3                   0                  0.082483  \n",
              "                               2                   1                  0.078740  \n",
              "                               1                   4                  0.074737  \n",
              "                      1        1                   0                  0.072568  "
            ],
            "text/html": [
              "\n",
              "  <div id=\"df-32470ea2-e14a-4ebc-ad05-cf51b53f39b8\" class=\"colab-df-container\">\n",
              "    <div>\n",
              "<style scoped>\n",
              "    .dataframe tbody tr th:only-of-type {\n",
              "        vertical-align: middle;\n",
              "    }\n",
              "\n",
              "    .dataframe tbody tr th {\n",
              "        vertical-align: top;\n",
              "    }\n",
              "\n",
              "    .dataframe thead th {\n",
              "        text-align: right;\n",
              "    }\n",
              "</style>\n",
              "<table border=\"1\" class=\"dataframe\">\n",
              "  <thead>\n",
              "    <tr style=\"text-align: right;\">\n",
              "      <th></th>\n",
              "      <th></th>\n",
              "      <th></th>\n",
              "      <th></th>\n",
              "      <th>count_debt</th>\n",
              "      <th>mean_debt</th>\n",
              "    </tr>\n",
              "    <tr>\n",
              "      <th>total_income_category</th>\n",
              "      <th>children</th>\n",
              "      <th>purpose_category_id</th>\n",
              "      <th>family_status_id</th>\n",
              "      <th></th>\n",
              "      <th></th>\n",
              "    </tr>\n",
              "  </thead>\n",
              "  <tbody>\n",
              "    <tr>\n",
              "      <th rowspan=\"20\" valign=\"top\">C</th>\n",
              "      <th>0</th>\n",
              "      <th>3</th>\n",
              "      <th>1</th>\n",
              "      <td>195</td>\n",
              "      <td>0.148718</td>\n",
              "    </tr>\n",
              "    <tr>\n",
              "      <th>1</th>\n",
              "      <th>1</th>\n",
              "      <th>1</th>\n",
              "      <td>190</td>\n",
              "      <td>0.136842</td>\n",
              "    </tr>\n",
              "    <tr>\n",
              "      <th>0</th>\n",
              "      <th>0</th>\n",
              "      <th>4</th>\n",
              "      <td>396</td>\n",
              "      <td>0.123737</td>\n",
              "    </tr>\n",
              "    <tr>\n",
              "      <th>1</th>\n",
              "      <th>2</th>\n",
              "      <th>1</th>\n",
              "      <td>395</td>\n",
              "      <td>0.116456</td>\n",
              "    </tr>\n",
              "    <tr>\n",
              "      <th>0</th>\n",
              "      <th>3</th>\n",
              "      <th>4</th>\n",
              "      <td>335</td>\n",
              "      <td>0.113433</td>\n",
              "    </tr>\n",
              "    <tr>\n",
              "      <th>2</th>\n",
              "      <th>3</th>\n",
              "      <th>0</th>\n",
              "      <td>253</td>\n",
              "      <td>0.110672</td>\n",
              "    </tr>\n",
              "    <tr>\n",
              "      <th>0</th>\n",
              "      <th>0</th>\n",
              "      <th>1</th>\n",
              "      <td>208</td>\n",
              "      <td>0.110577</td>\n",
              "    </tr>\n",
              "    <tr>\n",
              "      <th>2</th>\n",
              "      <th>0</th>\n",
              "      <th>0</th>\n",
              "      <td>233</td>\n",
              "      <td>0.107296</td>\n",
              "    </tr>\n",
              "    <tr>\n",
              "      <th rowspan=\"3\" valign=\"top\">1</th>\n",
              "      <th>1</th>\n",
              "      <th>4</th>\n",
              "      <td>188</td>\n",
              "      <td>0.106383</td>\n",
              "    </tr>\n",
              "    <tr>\n",
              "      <th>3</th>\n",
              "      <th>0</th>\n",
              "      <td>450</td>\n",
              "      <td>0.104444</td>\n",
              "    </tr>\n",
              "    <tr>\n",
              "      <th>0</th>\n",
              "      <th>0</th>\n",
              "      <td>482</td>\n",
              "      <td>0.101660</td>\n",
              "    </tr>\n",
              "    <tr>\n",
              "      <th>0</th>\n",
              "      <th>0</th>\n",
              "      <th>2</th>\n",
              "      <td>165</td>\n",
              "      <td>0.096970</td>\n",
              "    </tr>\n",
              "    <tr>\n",
              "      <th>3</th>\n",
              "      <th>1</th>\n",
              "      <th>0</th>\n",
              "      <td>117</td>\n",
              "      <td>0.094017</td>\n",
              "    </tr>\n",
              "    <tr>\n",
              "      <th>2</th>\n",
              "      <th>1</th>\n",
              "      <th>0</th>\n",
              "      <td>629</td>\n",
              "      <td>0.092210</td>\n",
              "    </tr>\n",
              "    <tr>\n",
              "      <th rowspan=\"5\" valign=\"top\">0</th>\n",
              "      <th>1</th>\n",
              "      <th>1</th>\n",
              "      <td>491</td>\n",
              "      <td>0.085540</td>\n",
              "    </tr>\n",
              "    <tr>\n",
              "      <th>0</th>\n",
              "      <th>3</th>\n",
              "      <td>141</td>\n",
              "      <td>0.085106</td>\n",
              "    </tr>\n",
              "    <tr>\n",
              "      <th>3</th>\n",
              "      <th>0</th>\n",
              "      <td>1176</td>\n",
              "      <td>0.082483</td>\n",
              "    </tr>\n",
              "    <tr>\n",
              "      <th>2</th>\n",
              "      <th>1</th>\n",
              "      <td>1143</td>\n",
              "      <td>0.078740</td>\n",
              "    </tr>\n",
              "    <tr>\n",
              "      <th>1</th>\n",
              "      <th>4</th>\n",
              "      <td>950</td>\n",
              "      <td>0.074737</td>\n",
              "    </tr>\n",
              "    <tr>\n",
              "      <th>1</th>\n",
              "      <th>1</th>\n",
              "      <th>0</th>\n",
              "      <td>1254</td>\n",
              "      <td>0.072568</td>\n",
              "    </tr>\n",
              "  </tbody>\n",
              "</table>\n",
              "</div>\n",
              "    <div class=\"colab-df-buttons\">\n",
              "\n",
              "  <div class=\"colab-df-container\">\n",
              "    <button class=\"colab-df-convert\" onclick=\"convertToInteractive('df-32470ea2-e14a-4ebc-ad05-cf51b53f39b8')\"\n",
              "            title=\"Convert this dataframe to an interactive table.\"\n",
              "            style=\"display:none;\">\n",
              "\n",
              "  <svg xmlns=\"http://www.w3.org/2000/svg\" height=\"24px\" viewBox=\"0 -960 960 960\">\n",
              "    <path d=\"M120-120v-720h720v720H120Zm60-500h600v-160H180v160Zm220 220h160v-160H400v160Zm0 220h160v-160H400v160ZM180-400h160v-160H180v160Zm440 0h160v-160H620v160ZM180-180h160v-160H180v160Zm440 0h160v-160H620v160Z\"/>\n",
              "  </svg>\n",
              "    </button>\n",
              "\n",
              "  <style>\n",
              "    .colab-df-container {\n",
              "      display:flex;\n",
              "      gap: 12px;\n",
              "    }\n",
              "\n",
              "    .colab-df-convert {\n",
              "      background-color: #E8F0FE;\n",
              "      border: none;\n",
              "      border-radius: 50%;\n",
              "      cursor: pointer;\n",
              "      display: none;\n",
              "      fill: #1967D2;\n",
              "      height: 32px;\n",
              "      padding: 0 0 0 0;\n",
              "      width: 32px;\n",
              "    }\n",
              "\n",
              "    .colab-df-convert:hover {\n",
              "      background-color: #E2EBFA;\n",
              "      box-shadow: 0px 1px 2px rgba(60, 64, 67, 0.3), 0px 1px 3px 1px rgba(60, 64, 67, 0.15);\n",
              "      fill: #174EA6;\n",
              "    }\n",
              "\n",
              "    .colab-df-buttons div {\n",
              "      margin-bottom: 4px;\n",
              "    }\n",
              "\n",
              "    [theme=dark] .colab-df-convert {\n",
              "      background-color: #3B4455;\n",
              "      fill: #D2E3FC;\n",
              "    }\n",
              "\n",
              "    [theme=dark] .colab-df-convert:hover {\n",
              "      background-color: #434B5C;\n",
              "      box-shadow: 0px 1px 3px 1px rgba(0, 0, 0, 0.15);\n",
              "      filter: drop-shadow(0px 1px 2px rgba(0, 0, 0, 0.3));\n",
              "      fill: #FFFFFF;\n",
              "    }\n",
              "  </style>\n",
              "\n",
              "    <script>\n",
              "      const buttonEl =\n",
              "        document.querySelector('#df-32470ea2-e14a-4ebc-ad05-cf51b53f39b8 button.colab-df-convert');\n",
              "      buttonEl.style.display =\n",
              "        google.colab.kernel.accessAllowed ? 'block' : 'none';\n",
              "\n",
              "      async function convertToInteractive(key) {\n",
              "        const element = document.querySelector('#df-32470ea2-e14a-4ebc-ad05-cf51b53f39b8');\n",
              "        const dataTable =\n",
              "          await google.colab.kernel.invokeFunction('convertToInteractive',\n",
              "                                                    [key], {});\n",
              "        if (!dataTable) return;\n",
              "\n",
              "        const docLinkHtml = 'Like what you see? Visit the ' +\n",
              "          '<a target=\"_blank\" href=https://colab.research.google.com/notebooks/data_table.ipynb>data table notebook</a>'\n",
              "          + ' to learn more about interactive tables.';\n",
              "        element.innerHTML = '';\n",
              "        dataTable['output_type'] = 'display_data';\n",
              "        await google.colab.output.renderOutput(dataTable, element);\n",
              "        const docLink = document.createElement('div');\n",
              "        docLink.innerHTML = docLinkHtml;\n",
              "        element.appendChild(docLink);\n",
              "      }\n",
              "    </script>\n",
              "  </div>\n",
              "\n",
              "\n",
              "<div id=\"df-133d2f26-d109-4f29-ba08-856bf2505518\">\n",
              "  <button class=\"colab-df-quickchart\" onclick=\"quickchart('df-133d2f26-d109-4f29-ba08-856bf2505518')\"\n",
              "            title=\"Suggest charts.\"\n",
              "            style=\"display:none;\">\n",
              "\n",
              "<svg xmlns=\"http://www.w3.org/2000/svg\" height=\"24px\"viewBox=\"0 0 24 24\"\n",
              "     width=\"24px\">\n",
              "    <g>\n",
              "        <path d=\"M19 3H5c-1.1 0-2 .9-2 2v14c0 1.1.9 2 2 2h14c1.1 0 2-.9 2-2V5c0-1.1-.9-2-2-2zM9 17H7v-7h2v7zm4 0h-2V7h2v10zm4 0h-2v-4h2v4z\"/>\n",
              "    </g>\n",
              "</svg>\n",
              "  </button>\n",
              "\n",
              "<style>\n",
              "  .colab-df-quickchart {\n",
              "      --bg-color: #E8F0FE;\n",
              "      --fill-color: #1967D2;\n",
              "      --hover-bg-color: #E2EBFA;\n",
              "      --hover-fill-color: #174EA6;\n",
              "      --disabled-fill-color: #AAA;\n",
              "      --disabled-bg-color: #DDD;\n",
              "  }\n",
              "\n",
              "  [theme=dark] .colab-df-quickchart {\n",
              "      --bg-color: #3B4455;\n",
              "      --fill-color: #D2E3FC;\n",
              "      --hover-bg-color: #434B5C;\n",
              "      --hover-fill-color: #FFFFFF;\n",
              "      --disabled-bg-color: #3B4455;\n",
              "      --disabled-fill-color: #666;\n",
              "  }\n",
              "\n",
              "  .colab-df-quickchart {\n",
              "    background-color: var(--bg-color);\n",
              "    border: none;\n",
              "    border-radius: 50%;\n",
              "    cursor: pointer;\n",
              "    display: none;\n",
              "    fill: var(--fill-color);\n",
              "    height: 32px;\n",
              "    padding: 0;\n",
              "    width: 32px;\n",
              "  }\n",
              "\n",
              "  .colab-df-quickchart:hover {\n",
              "    background-color: var(--hover-bg-color);\n",
              "    box-shadow: 0 1px 2px rgba(60, 64, 67, 0.3), 0 1px 3px 1px rgba(60, 64, 67, 0.15);\n",
              "    fill: var(--button-hover-fill-color);\n",
              "  }\n",
              "\n",
              "  .colab-df-quickchart-complete:disabled,\n",
              "  .colab-df-quickchart-complete:disabled:hover {\n",
              "    background-color: var(--disabled-bg-color);\n",
              "    fill: var(--disabled-fill-color);\n",
              "    box-shadow: none;\n",
              "  }\n",
              "\n",
              "  .colab-df-spinner {\n",
              "    border: 2px solid var(--fill-color);\n",
              "    border-color: transparent;\n",
              "    border-bottom-color: var(--fill-color);\n",
              "    animation:\n",
              "      spin 1s steps(1) infinite;\n",
              "  }\n",
              "\n",
              "  @keyframes spin {\n",
              "    0% {\n",
              "      border-color: transparent;\n",
              "      border-bottom-color: var(--fill-color);\n",
              "      border-left-color: var(--fill-color);\n",
              "    }\n",
              "    20% {\n",
              "      border-color: transparent;\n",
              "      border-left-color: var(--fill-color);\n",
              "      border-top-color: var(--fill-color);\n",
              "    }\n",
              "    30% {\n",
              "      border-color: transparent;\n",
              "      border-left-color: var(--fill-color);\n",
              "      border-top-color: var(--fill-color);\n",
              "      border-right-color: var(--fill-color);\n",
              "    }\n",
              "    40% {\n",
              "      border-color: transparent;\n",
              "      border-right-color: var(--fill-color);\n",
              "      border-top-color: var(--fill-color);\n",
              "    }\n",
              "    60% {\n",
              "      border-color: transparent;\n",
              "      border-right-color: var(--fill-color);\n",
              "    }\n",
              "    80% {\n",
              "      border-color: transparent;\n",
              "      border-right-color: var(--fill-color);\n",
              "      border-bottom-color: var(--fill-color);\n",
              "    }\n",
              "    90% {\n",
              "      border-color: transparent;\n",
              "      border-bottom-color: var(--fill-color);\n",
              "    }\n",
              "  }\n",
              "</style>\n",
              "\n",
              "  <script>\n",
              "    async function quickchart(key) {\n",
              "      const quickchartButtonEl =\n",
              "        document.querySelector('#' + key + ' button');\n",
              "      quickchartButtonEl.disabled = true;  // To prevent multiple clicks.\n",
              "      quickchartButtonEl.classList.add('colab-df-spinner');\n",
              "      try {\n",
              "        const charts = await google.colab.kernel.invokeFunction(\n",
              "            'suggestCharts', [key], {});\n",
              "      } catch (error) {\n",
              "        console.error('Error during call to suggestCharts:', error);\n",
              "      }\n",
              "      quickchartButtonEl.classList.remove('colab-df-spinner');\n",
              "      quickchartButtonEl.classList.add('colab-df-quickchart-complete');\n",
              "    }\n",
              "    (() => {\n",
              "      let quickchartButtonEl =\n",
              "        document.querySelector('#df-133d2f26-d109-4f29-ba08-856bf2505518 button');\n",
              "      quickchartButtonEl.style.display =\n",
              "        google.colab.kernel.accessAllowed ? 'block' : 'none';\n",
              "    })();\n",
              "  </script>\n",
              "</div>\n",
              "    </div>\n",
              "  </div>\n"
            ]
          },
          "metadata": {},
          "execution_count": 154
        }
      ],
      "source": [
        "display(total_income_dict) # display income category dictionary\n",
        "#display()# separated by an empty line\n",
        "display(purpose_dict) # display a dictionary of loan purposes\n",
        "#display() # separated by an empty line\n",
        "display(family_status_dict) # display a dictionary of marital status statuses\n",
        "#display() # separated by an empty line\n",
        "display('Total share of debtors in the entire dataframe:',df['debt'].mean()) # display the total share of debtors in the entire dataframe\n",
        "t1 = t1.query('total_income_category == \"C\"') # filter the dataframe by category \"C\"\n",
        "t1[t1['count_debt'] > 100].sort_values(by='mean_debt', ascending=False).head(20)\n",
        "# select overlapping samples, where there are more than 100 participants, sort in descending order of the shares of debtors and display the first 20 lines"
      ]
    },
    {
      "cell_type": "markdown",
      "id": "d3a8706f",
      "metadata": {
        "id": "d3a8706f"
      },
      "source": [
        "**The current version of the summary table shows that all complex groups are no longer as numerous. Therefore, let’s take the first group in the list with about 400 people and having the largest share of debtors (0.0124). This group corresponds to the following values: `total_income_category = C` `children = 0`, `purpose_category_id = 0`, `family_status_id = 4`, which corresponds to the following data - a client with a small income of up to 200 thousand rubles, without children, with a loan purpose - transactions with a car and marital status not married\\ not married - i.e. this is a portrait of the most unreliable borrower for a bank.**"
      ]
    }
  ],
  "metadata": {
    "ExecuteTimeLog": [
      {
        "duration": 45,
        "start_time": "2022-10-25T23:08:40.912Z"
      },
      {
        "duration": 450,
        "start_time": "2022-10-25T23:09:05.884Z"
      },
      {
        "duration": 22,
        "start_time": "2022-10-25T23:09:08.129Z"
      },
      {
        "duration": 20,
        "start_time": "2022-10-25T23:09:11.035Z"
      },
      {
        "duration": 10,
        "start_time": "2022-10-25T23:09:13.252Z"
      },
      {
        "duration": 41,
        "start_time": "2022-10-25T23:09:15.184Z"
      },
      {
        "duration": 3,
        "start_time": "2022-10-25T23:09:17.700Z"
      },
      {
        "duration": 7,
        "start_time": "2022-10-25T23:09:18.586Z"
      },
      {
        "duration": 4,
        "start_time": "2022-10-25T23:09:20.742Z"
      },
      {
        "duration": 7,
        "start_time": "2022-10-25T23:09:22.727Z"
      },
      {
        "duration": 4,
        "start_time": "2022-10-25T23:09:24.461Z"
      },
      {
        "duration": 34,
        "start_time": "2022-10-25T23:09:26.133Z"
      },
      {
        "duration": 10,
        "start_time": "2022-10-25T23:09:27.683Z"
      },
      {
        "duration": 4,
        "start_time": "2022-10-25T23:09:29.479Z"
      },
      {
        "duration": 13,
        "start_time": "2022-10-25T23:09:31.572Z"
      },
      {
        "duration": 22,
        "start_time": "2022-10-25T23:09:33.613Z"
      },
      {
        "duration": 17,
        "start_time": "2022-10-25T23:09:35.097Z"
      },
      {
        "duration": 4,
        "start_time": "2022-10-25T23:09:36.694Z"
      },
      {
        "duration": 10,
        "start_time": "2022-10-25T23:09:38.540Z"
      },
      {
        "duration": 6,
        "start_time": "2022-10-25T23:09:39.975Z"
      },
      {
        "duration": 3,
        "start_time": "2022-10-25T23:09:42.761Z"
      },
      {
        "duration": 9,
        "start_time": "2022-10-25T23:09:44.510Z"
      },
      {
        "duration": 22,
        "start_time": "2022-10-25T23:09:49.522Z"
      },
      {
        "duration": 15,
        "start_time": "2022-10-25T23:10:17.150Z"
      },
      {
        "duration": 11,
        "start_time": "2022-10-25T23:10:28.186Z"
      },
      {
        "duration": 29,
        "start_time": "2022-10-25T23:10:46.201Z"
      },
      {
        "duration": 5,
        "start_time": "2022-10-25T23:10:48.936Z"
      },
      {
        "duration": 49,
        "start_time": "2022-10-26T10:29:32.737Z"
      },
      {
        "duration": 499,
        "start_time": "2022-10-26T10:29:41.682Z"
      },
      {
        "duration": 23,
        "start_time": "2022-10-26T10:29:45.399Z"
      },
      {
        "duration": 18,
        "start_time": "2022-10-26T10:29:48.230Z"
      },
      {
        "duration": 11,
        "start_time": "2022-10-26T10:29:50.274Z"
      },
      {
        "duration": 15,
        "start_time": "2022-10-26T10:29:52.748Z"
      },
      {
        "duration": 30,
        "start_time": "2022-10-26T10:30:37.528Z"
      },
      {
        "duration": 41,
        "start_time": "2022-10-26T10:43:13.299Z"
      },
      {
        "duration": 13,
        "start_time": "2022-10-26T10:43:18.967Z"
      },
      {
        "duration": 15,
        "start_time": "2022-10-26T10:43:26.571Z"
      },
      {
        "duration": 73,
        "start_time": "2022-10-26T10:43:49.369Z"
      },
      {
        "duration": 16,
        "start_time": "2022-10-26T10:43:50.701Z"
      },
      {
        "duration": 15,
        "start_time": "2022-10-26T10:43:55.094Z"
      },
      {
        "duration": 13,
        "start_time": "2022-10-26T10:44:00.244Z"
      },
      {
        "duration": 38,
        "start_time": "2022-10-26T10:44:02.729Z"
      },
      {
        "duration": 4,
        "start_time": "2022-10-26T10:44:05.161Z"
      },
      {
        "duration": 9,
        "start_time": "2022-10-26T10:44:07.327Z"
      },
      {
        "duration": 4,
        "start_time": "2022-10-26T10:44:09.868Z"
      },
      {
        "duration": 24,
        "start_time": "2022-10-26T10:44:11.841Z"
      },
      {
        "duration": 5,
        "start_time": "2022-10-26T10:44:13.924Z"
      },
      {
        "duration": 38,
        "start_time": "2022-10-26T10:44:16.897Z"
      },
      {
        "duration": 11,
        "start_time": "2022-10-26T10:44:19.260Z"
      },
      {
        "duration": 4,
        "start_time": "2022-10-26T10:44:23.779Z"
      },
      {
        "duration": 11,
        "start_time": "2022-10-26T10:44:26.341Z"
      },
      {
        "duration": 21,
        "start_time": "2022-10-26T10:44:27.840Z"
      },
      {
        "duration": 18,
        "start_time": "2022-10-26T10:44:28.916Z"
      },
      {
        "duration": 4,
        "start_time": "2022-10-26T10:44:31.246Z"
      },
      {
        "duration": 10,
        "start_time": "2022-10-26T10:44:32.618Z"
      },
      {
        "duration": 7,
        "start_time": "2022-10-26T10:44:33.900Z"
      },
      {
        "duration": 4,
        "start_time": "2022-10-26T10:44:36.560Z"
      },
      {
        "duration": 13,
        "start_time": "2022-10-26T10:44:38.332Z"
      },
      {
        "duration": 18,
        "start_time": "2022-10-26T10:44:41.061Z"
      },
      {
        "duration": 17,
        "start_time": "2022-10-26T11:40:30.680Z"
      },
      {
        "duration": 19,
        "start_time": "2022-10-26T11:41:22.747Z"
      },
      {
        "duration": 3,
        "start_time": "2022-10-26T12:06:15.066Z"
      },
      {
        "duration": 4,
        "start_time": "2022-10-26T12:06:17.997Z"
      },
      {
        "duration": 17,
        "start_time": "2022-10-26T12:06:27.375Z"
      },
      {
        "duration": 3,
        "start_time": "2022-10-26T12:17:12.813Z"
      },
      {
        "duration": 22,
        "start_time": "2022-10-26T12:37:03.099Z"
      },
      {
        "duration": 4,
        "start_time": "2022-10-26T12:54:54.043Z"
      },
      {
        "duration": 8,
        "start_time": "2022-10-26T12:55:33.435Z"
      },
      {
        "duration": 3,
        "start_time": "2022-10-26T12:56:20.173Z"
      },
      {
        "duration": 3,
        "start_time": "2022-10-26T12:56:21.959Z"
      },
      {
        "duration": 3,
        "start_time": "2022-10-26T12:56:23.024Z"
      },
      {
        "duration": 4,
        "start_time": "2022-10-26T12:56:28.924Z"
      },
      {
        "duration": 3,
        "start_time": "2022-10-26T12:57:24.337Z"
      },
      {
        "duration": 5,
        "start_time": "2022-10-26T12:59:21.281Z"
      },
      {
        "duration": 7,
        "start_time": "2022-10-26T12:59:38.102Z"
      },
      {
        "duration": 9,
        "start_time": "2022-10-26T13:01:40.541Z"
      },
      {
        "duration": 7,
        "start_time": "2022-10-26T13:02:47.554Z"
      },
      {
        "duration": 9,
        "start_time": "2022-10-26T13:07:14.106Z"
      },
      {
        "duration": 5,
        "start_time": "2022-10-26T13:08:43.440Z"
      },
      {
        "duration": 21,
        "start_time": "2022-10-26T13:21:16.612Z"
      },
      {
        "duration": 17,
        "start_time": "2022-10-26T13:21:48.043Z"
      },
      {
        "duration": 17,
        "start_time": "2022-10-26T13:21:58.750Z"
      },
      {
        "duration": 22,
        "start_time": "2022-10-26T13:22:02.734Z"
      },
      {
        "duration": 18,
        "start_time": "2022-10-26T13:22:12.600Z"
      },
      {
        "duration": 7,
        "start_time": "2022-10-26T13:22:18.596Z"
      },
      {
        "duration": 18,
        "start_time": "2022-10-26T13:22:21.440Z"
      },
      {
        "duration": 3,
        "start_time": "2022-10-26T13:49:59.658Z"
      },
      {
        "duration": 3,
        "start_time": "2022-10-26T13:50:01.028Z"
      },
      {
        "duration": 8,
        "start_time": "2022-10-26T13:50:05.564Z"
      },
      {
        "duration": 7,
        "start_time": "2022-10-26T13:50:45.722Z"
      },
      {
        "duration": 5,
        "start_time": "2022-10-26T13:50:50.076Z"
      },
      {
        "duration": 7,
        "start_time": "2022-10-26T14:02:00.274Z"
      },
      {
        "duration": 11,
        "start_time": "2022-10-26T14:14:47.899Z"
      },
      {
        "duration": 5,
        "start_time": "2022-10-26T14:15:03.201Z"
      },
      {
        "duration": 6,
        "start_time": "2022-10-26T14:17:26.707Z"
      },
      {
        "duration": 12,
        "start_time": "2022-10-26T14:18:12.277Z"
      },
      {
        "duration": 9,
        "start_time": "2022-10-26T14:18:27.243Z"
      },
      {
        "duration": 19,
        "start_time": "2022-10-26T14:18:48.928Z"
      },
      {
        "duration": 13,
        "start_time": "2022-10-26T14:19:22.363Z"
      },
      {
        "duration": 18,
        "start_time": "2022-10-26T14:19:35.458Z"
      },
      {
        "duration": 7,
        "start_time": "2022-10-26T14:29:04.870Z"
      },
      {
        "duration": 21,
        "start_time": "2022-10-26T14:34:09.312Z"
      },
      {
        "duration": 14,
        "start_time": "2022-10-26T14:34:57.777Z"
      },
      {
        "duration": 11,
        "start_time": "2022-10-26T14:35:14.040Z"
      },
      {
        "duration": 8,
        "start_time": "2022-10-26T14:35:26.411Z"
      },
      {
        "duration": 64,
        "start_time": "2022-10-26T18:01:35.392Z"
      },
      {
        "duration": 63,
        "start_time": "2022-10-26T18:01:37.111Z"
      },
      {
        "duration": 14,
        "start_time": "2022-10-26T18:01:38.828Z"
      },
      {
        "duration": 14,
        "start_time": "2022-10-26T18:01:44.135Z"
      },
      {
        "duration": 11,
        "start_time": "2022-10-26T18:01:47.357Z"
      },
      {
        "duration": 31,
        "start_time": "2022-10-26T18:02:13.929Z"
      },
      {
        "duration": 4,
        "start_time": "2022-10-26T18:02:15.779Z"
      },
      {
        "duration": 10,
        "start_time": "2022-10-26T18:02:18.021Z"
      },
      {
        "duration": 4,
        "start_time": "2022-10-26T18:02:21.841Z"
      },
      {
        "duration": 6,
        "start_time": "2022-10-26T18:03:31.900Z"
      },
      {
        "duration": 4,
        "start_time": "2022-10-26T18:03:42.540Z"
      },
      {
        "duration": 6,
        "start_time": "2022-10-26T18:04:17.051Z"
      },
      {
        "duration": 4,
        "start_time": "2022-10-26T18:04:24.137Z"
      },
      {
        "duration": 4,
        "start_time": "2022-10-26T18:04:41.093Z"
      },
      {
        "duration": 8,
        "start_time": "2022-10-26T18:05:05.931Z"
      },
      {
        "duration": 5,
        "start_time": "2022-10-26T18:06:01.031Z"
      },
      {
        "duration": 5,
        "start_time": "2022-10-26T18:07:52.447Z"
      },
      {
        "duration": 5,
        "start_time": "2022-10-26T18:07:54.854Z"
      },
      {
        "duration": 32,
        "start_time": "2022-10-26T18:07:58.941Z"
      },
      {
        "duration": 65,
        "start_time": "2022-10-26T18:08:52.028Z"
      },
      {
        "duration": 15,
        "start_time": "2022-10-26T18:08:58.690Z"
      },
      {
        "duration": 12,
        "start_time": "2022-10-26T18:09:04.131Z"
      },
      {
        "duration": 9,
        "start_time": "2022-10-26T18:09:13.987Z"
      },
      {
        "duration": 17,
        "start_time": "2022-10-26T18:09:39.169Z"
      },
      {
        "duration": 10,
        "start_time": "2022-10-26T18:09:49.972Z"
      },
      {
        "duration": 70,
        "start_time": "2022-10-26T18:11:16.315Z"
      },
      {
        "duration": 16,
        "start_time": "2022-10-26T18:15:31.608Z"
      },
      {
        "duration": 64,
        "start_time": "2022-10-26T18:15:51.420Z"
      },
      {
        "duration": 63,
        "start_time": "2022-10-26T18:18:05.845Z"
      },
      {
        "duration": 18,
        "start_time": "2022-10-26T18:18:07.415Z"
      },
      {
        "duration": 18,
        "start_time": "2022-10-26T18:18:10.928Z"
      },
      {
        "duration": 11,
        "start_time": "2022-10-26T18:18:14.259Z"
      },
      {
        "duration": 73,
        "start_time": "2022-10-26T18:18:17.903Z"
      },
      {
        "duration": 10,
        "start_time": "2022-10-26T18:18:21.052Z"
      },
      {
        "duration": 9,
        "start_time": "2022-10-26T18:19:14.888Z"
      },
      {
        "duration": 65,
        "start_time": "2022-10-26T18:19:20.112Z"
      },
      {
        "duration": 15,
        "start_time": "2022-10-26T18:19:21.769Z"
      },
      {
        "duration": 13,
        "start_time": "2022-10-26T18:19:24.140Z"
      },
      {
        "duration": 10,
        "start_time": "2022-10-26T18:19:26.555Z"
      },
      {
        "duration": 31,
        "start_time": "2022-10-26T18:19:35.719Z"
      },
      {
        "duration": 5,
        "start_time": "2022-10-26T18:19:37.342Z"
      },
      {
        "duration": 7,
        "start_time": "2022-10-26T18:19:39.366Z"
      },
      {
        "duration": 4,
        "start_time": "2022-10-26T18:19:41.722Z"
      },
      {
        "duration": 5,
        "start_time": "2022-10-26T18:19:44.973Z"
      },
      {
        "duration": 6,
        "start_time": "2022-10-26T18:19:53.745Z"
      },
      {
        "duration": 4,
        "start_time": "2022-10-26T18:19:55.540Z"
      },
      {
        "duration": 31,
        "start_time": "2022-10-26T18:19:57.771Z"
      },
      {
        "duration": 10,
        "start_time": "2022-10-26T18:19:59.838Z"
      },
      {
        "duration": 3,
        "start_time": "2022-10-26T18:20:02.189Z"
      },
      {
        "duration": 10,
        "start_time": "2022-10-26T18:20:06.787Z"
      },
      {
        "duration": 18,
        "start_time": "2022-10-26T18:20:08.813Z"
      },
      {
        "duration": 17,
        "start_time": "2022-10-26T18:20:10.452Z"
      },
      {
        "duration": 3,
        "start_time": "2022-10-26T18:20:12.555Z"
      },
      {
        "duration": 9,
        "start_time": "2022-10-26T18:20:14.027Z"
      },
      {
        "duration": 6,
        "start_time": "2022-10-26T18:20:14.798Z"
      },
      {
        "duration": 3,
        "start_time": "2022-10-26T18:20:18.772Z"
      },
      {
        "duration": 8,
        "start_time": "2022-10-26T18:20:20.414Z"
      },
      {
        "duration": 5,
        "start_time": "2022-10-26T18:20:22.741Z"
      },
      {
        "duration": 14,
        "start_time": "2022-10-26T18:20:24.675Z"
      },
      {
        "duration": 73,
        "start_time": "2022-10-26T18:23:31.343Z"
      },
      {
        "duration": 10,
        "start_time": "2022-10-26T18:26:56.590Z"
      },
      {
        "duration": 6,
        "start_time": "2022-10-26T18:28:08.046Z"
      },
      {
        "duration": 5,
        "start_time": "2022-10-26T18:30:14.707Z"
      },
      {
        "duration": 4,
        "start_time": "2022-10-26T18:31:31.172Z"
      },
      {
        "duration": 6,
        "start_time": "2022-10-26T18:31:39.904Z"
      },
      {
        "duration": 89,
        "start_time": "2022-10-26T18:32:39.190Z"
      },
      {
        "duration": 6,
        "start_time": "2022-10-26T18:32:48.898Z"
      },
      {
        "duration": 6,
        "start_time": "2022-10-26T18:32:53.507Z"
      },
      {
        "duration": 7,
        "start_time": "2022-10-26T18:32:57.247Z"
      },
      {
        "duration": 5,
        "start_time": "2022-10-26T18:33:01.032Z"
      },
      {
        "duration": 5,
        "start_time": "2022-10-26T18:33:04.894Z"
      },
      {
        "duration": 6,
        "start_time": "2022-10-26T18:33:08.569Z"
      },
      {
        "duration": 86,
        "start_time": "2022-10-26T19:47:25.582Z"
      },
      {
        "duration": 70,
        "start_time": "2022-10-26T19:47:46.870Z"
      },
      {
        "duration": 5,
        "start_time": "2022-10-26T19:47:53.546Z"
      },
      {
        "duration": 84,
        "start_time": "2022-10-26T20:03:01.043Z"
      },
      {
        "duration": 4,
        "start_time": "2022-10-26T21:07:09.255Z"
      },
      {
        "duration": 13,
        "start_time": "2022-10-26T21:22:05.391Z"
      },
      {
        "duration": 14,
        "start_time": "2022-10-26T21:22:19.886Z"
      },
      {
        "duration": 17,
        "start_time": "2022-10-26T21:23:17.939Z"
      },
      {
        "duration": 1330,
        "start_time": "2022-10-26T21:25:42.183Z"
      },
      {
        "duration": 6,
        "start_time": "2022-10-26T21:26:18.268Z"
      },
      {
        "duration": 797,
        "start_time": "2022-10-26T21:26:56.844Z"
      },
      {
        "duration": 15,
        "start_time": "2022-10-26T21:32:53.715Z"
      },
      {
        "duration": 15,
        "start_time": "2022-10-26T21:33:40.112Z"
      },
      {
        "duration": 7,
        "start_time": "2022-10-26T21:34:16.087Z"
      },
      {
        "duration": 7,
        "start_time": "2022-10-26T21:34:45.106Z"
      },
      {
        "duration": 7,
        "start_time": "2022-10-26T21:35:14.768Z"
      },
      {
        "duration": 4,
        "start_time": "2022-10-26T21:35:49.402Z"
      },
      {
        "duration": 8,
        "start_time": "2022-10-26T21:37:18.739Z"
      },
      {
        "duration": 7,
        "start_time": "2022-10-26T21:37:35.212Z"
      },
      {
        "duration": 7,
        "start_time": "2022-10-26T21:37:51.232Z"
      },
      {
        "duration": 9,
        "start_time": "2022-10-26T21:38:04.096Z"
      },
      {
        "duration": 8,
        "start_time": "2022-10-26T21:38:40.122Z"
      },
      {
        "duration": 6,
        "start_time": "2022-10-26T21:49:07.880Z"
      },
      {
        "duration": 5,
        "start_time": "2022-10-26T21:57:18.700Z"
      },
      {
        "duration": 11,
        "start_time": "2022-10-26T22:07:05.981Z"
      },
      {
        "duration": 7,
        "start_time": "2022-10-26T22:07:22.089Z"
      },
      {
        "duration": 4,
        "start_time": "2022-10-26T22:08:19.735Z"
      },
      {
        "duration": 7,
        "start_time": "2022-10-26T22:26:58.934Z"
      },
      {
        "duration": 5,
        "start_time": "2022-10-26T23:08:04.983Z"
      },
      {
        "duration": 5,
        "start_time": "2022-10-26T23:08:12.263Z"
      },
      {
        "duration": 1118,
        "start_time": "2022-10-26T23:12:41.101Z"
      },
      {
        "duration": 8,
        "start_time": "2022-10-26T23:12:57.930Z"
      },
      {
        "duration": 6,
        "start_time": "2022-10-26T23:13:20.415Z"
      },
      {
        "duration": 14,
        "start_time": "2022-10-26T23:38:01.320Z"
      },
      {
        "duration": 14,
        "start_time": "2022-10-26T23:41:17.211Z"
      },
      {
        "duration": 4,
        "start_time": "2022-10-26T23:41:28.887Z"
      },
      {
        "duration": 15,
        "start_time": "2022-10-26T23:41:36.089Z"
      },
      {
        "duration": 14,
        "start_time": "2022-10-26T23:42:43.967Z"
      },
      {
        "duration": 10,
        "start_time": "2022-10-26T23:43:15.983Z"
      },
      {
        "duration": 16,
        "start_time": "2022-10-26T23:43:17.237Z"
      },
      {
        "duration": 6,
        "start_time": "2022-10-26T23:46:14.007Z"
      },
      {
        "duration": 4,
        "start_time": "2022-10-26T23:51:13.828Z"
      },
      {
        "duration": 7,
        "start_time": "2022-10-27T00:01:04.229Z"
      },
      {
        "duration": 5,
        "start_time": "2022-10-27T00:01:52.861Z"
      },
      {
        "duration": 5,
        "start_time": "2022-10-27T00:02:04.660Z"
      },
      {
        "duration": 5,
        "start_time": "2022-10-27T00:02:09.664Z"
      },
      {
        "duration": 6,
        "start_time": "2022-10-27T00:02:16.461Z"
      },
      {
        "duration": 7,
        "start_time": "2022-10-27T00:02:21.739Z"
      },
      {
        "duration": 7,
        "start_time": "2022-10-27T00:02:25.499Z"
      },
      {
        "duration": 6,
        "start_time": "2022-10-27T00:03:02.665Z"
      },
      {
        "duration": 575,
        "start_time": "2022-10-27T10:16:15.802Z"
      },
      {
        "duration": 28,
        "start_time": "2022-10-27T10:16:16.379Z"
      },
      {
        "duration": 16,
        "start_time": "2022-10-27T10:16:16.409Z"
      },
      {
        "duration": 10,
        "start_time": "2022-10-27T10:16:16.427Z"
      },
      {
        "duration": 65,
        "start_time": "2022-10-27T10:16:16.439Z"
      },
      {
        "duration": 4,
        "start_time": "2022-10-27T10:16:16.506Z"
      },
      {
        "duration": 10,
        "start_time": "2022-10-27T10:16:16.511Z"
      },
      {
        "duration": 4,
        "start_time": "2022-10-27T10:16:16.523Z"
      },
      {
        "duration": 10,
        "start_time": "2022-10-27T10:16:16.528Z"
      },
      {
        "duration": 7,
        "start_time": "2022-10-27T10:16:16.540Z"
      },
      {
        "duration": 7,
        "start_time": "2022-10-27T10:16:16.549Z"
      },
      {
        "duration": 83,
        "start_time": "2022-10-27T10:16:16.557Z"
      },
      {
        "duration": 13,
        "start_time": "2022-10-27T10:16:16.642Z"
      },
      {
        "duration": 5,
        "start_time": "2022-10-27T10:16:16.657Z"
      },
      {
        "duration": 41,
        "start_time": "2022-10-27T10:16:16.663Z"
      },
      {
        "duration": 29,
        "start_time": "2022-10-27T10:16:16.710Z"
      },
      {
        "duration": 21,
        "start_time": "2022-10-27T10:16:16.740Z"
      },
      {
        "duration": 6,
        "start_time": "2022-10-27T10:16:16.763Z"
      },
      {
        "duration": 33,
        "start_time": "2022-10-27T10:16:16.771Z"
      },
      {
        "duration": 13,
        "start_time": "2022-10-27T10:16:16.806Z"
      },
      {
        "duration": 5,
        "start_time": "2022-10-27T10:16:16.822Z"
      },
      {
        "duration": 19,
        "start_time": "2022-10-27T10:16:16.829Z"
      },
      {
        "duration": 10,
        "start_time": "2022-10-27T10:16:16.851Z"
      },
      {
        "duration": 48,
        "start_time": "2022-10-27T10:16:16.863Z"
      },
      {
        "duration": 20,
        "start_time": "2022-10-27T10:16:16.916Z"
      },
      {
        "duration": 7,
        "start_time": "2022-10-27T10:16:16.938Z"
      },
      {
        "duration": 7,
        "start_time": "2022-10-27T10:16:16.947Z"
      },
      {
        "duration": 36,
        "start_time": "2022-10-27T10:16:16.960Z"
      },
      {
        "duration": 12,
        "start_time": "2022-10-27T10:16:16.997Z"
      },
      {
        "duration": 15,
        "start_time": "2022-10-27T10:16:17.012Z"
      },
      {
        "duration": 8,
        "start_time": "2022-10-27T10:16:17.030Z"
      },
      {
        "duration": 7,
        "start_time": "2022-10-27T10:16:17.040Z"
      },
      {
        "duration": 52,
        "start_time": "2022-10-27T10:16:17.049Z"
      },
      {
        "duration": 9,
        "start_time": "2022-10-27T10:16:17.103Z"
      },
      {
        "duration": 17,
        "start_time": "2022-10-27T10:16:17.114Z"
      },
      {
        "duration": 11,
        "start_time": "2022-10-27T10:16:17.132Z"
      },
      {
        "duration": 11,
        "start_time": "2022-10-27T10:16:17.145Z"
      },
      {
        "duration": 6,
        "start_time": "2022-10-27T10:16:17.158Z"
      },
      {
        "duration": 37,
        "start_time": "2022-10-27T10:16:17.165Z"
      },
      {
        "duration": 10,
        "start_time": "2022-10-27T10:16:17.204Z"
      },
      {
        "duration": 6,
        "start_time": "2022-10-27T10:16:17.216Z"
      },
      {
        "duration": 13,
        "start_time": "2022-10-27T10:16:17.223Z"
      },
      {
        "duration": 7,
        "start_time": "2022-10-27T10:16:17.238Z"
      },
      {
        "duration": 6,
        "start_time": "2022-10-27T10:16:17.247Z"
      },
      {
        "duration": 3,
        "start_time": "2022-10-27T10:16:17.255Z"
      },
      {
        "duration": 35,
        "start_time": "2022-10-27T10:16:17.260Z"
      },
      {
        "duration": 4,
        "start_time": "2022-10-27T10:16:17.300Z"
      },
      {
        "duration": 5,
        "start_time": "2022-10-27T10:30:46.324Z"
      },
      {
        "duration": 5,
        "start_time": "2022-10-27T10:42:00.522Z"
      },
      {
        "duration": 5,
        "start_time": "2022-10-27T10:42:13.757Z"
      },
      {
        "duration": 5,
        "start_time": "2022-10-27T10:42:29.342Z"
      },
      {
        "duration": 63,
        "start_time": "2022-10-27T10:50:20.265Z"
      },
      {
        "duration": 15,
        "start_time": "2022-10-27T10:51:04.783Z"
      },
      {
        "duration": 15,
        "start_time": "2022-10-27T10:51:06.899Z"
      },
      {
        "duration": 15,
        "start_time": "2022-10-27T10:51:21.898Z"
      },
      {
        "duration": 15,
        "start_time": "2022-10-27T10:51:23.277Z"
      },
      {
        "duration": 18,
        "start_time": "2022-10-27T10:51:33.180Z"
      },
      {
        "duration": 18,
        "start_time": "2022-10-27T10:51:57.401Z"
      },
      {
        "duration": 19,
        "start_time": "2022-10-27T10:52:38.779Z"
      },
      {
        "duration": 22,
        "start_time": "2022-10-27T10:52:46.544Z"
      },
      {
        "duration": 19,
        "start_time": "2022-10-27T10:52:53.536Z"
      },
      {
        "duration": 6,
        "start_time": "2022-10-27T11:36:18.273Z"
      },
      {
        "duration": 80,
        "start_time": "2022-10-27T11:36:52.918Z"
      },
      {
        "duration": 8,
        "start_time": "2022-10-27T11:36:59.992Z"
      },
      {
        "duration": 17,
        "start_time": "2022-10-27T11:37:34.729Z"
      },
      {
        "duration": 14,
        "start_time": "2022-10-27T11:38:03.808Z"
      },
      {
        "duration": 545,
        "start_time": "2022-10-27T11:38:53.584Z"
      },
      {
        "duration": 74,
        "start_time": "2022-10-27T11:39:56.404Z"
      },
      {
        "duration": 150,
        "start_time": "2022-10-27T11:40:01.592Z"
      },
      {
        "duration": 140,
        "start_time": "2022-10-27T11:40:33.693Z"
      },
      {
        "duration": 5,
        "start_time": "2022-10-27T11:41:10.287Z"
      },
      {
        "duration": 127,
        "start_time": "2022-10-27T11:41:59.707Z"
      },
      {
        "duration": 166,
        "start_time": "2022-10-27T11:42:47.081Z"
      },
      {
        "duration": 125,
        "start_time": "2022-10-27T11:43:32.537Z"
      },
      {
        "duration": 126,
        "start_time": "2022-10-27T11:43:55.035Z"
      },
      {
        "duration": 24,
        "start_time": "2022-10-27T11:44:44.412Z"
      },
      {
        "duration": 128,
        "start_time": "2022-10-27T11:44:49.696Z"
      },
      {
        "duration": 126,
        "start_time": "2022-10-27T11:45:11.295Z"
      },
      {
        "duration": 124,
        "start_time": "2022-10-27T11:45:32.742Z"
      },
      {
        "duration": 146,
        "start_time": "2022-10-27T11:46:15.673Z"
      },
      {
        "duration": 13,
        "start_time": "2022-10-27T11:47:15.436Z"
      },
      {
        "duration": 13,
        "start_time": "2022-10-27T11:47:47.747Z"
      },
      {
        "duration": 143,
        "start_time": "2022-10-27T11:48:41.335Z"
      },
      {
        "duration": 164,
        "start_time": "2022-10-27T11:49:04.808Z"
      },
      {
        "duration": 145,
        "start_time": "2022-10-27T11:49:31.226Z"
      },
      {
        "duration": 168,
        "start_time": "2022-10-27T11:49:36.656Z"
      },
      {
        "duration": 190,
        "start_time": "2022-10-27T12:04:36.807Z"
      },
      {
        "duration": 121,
        "start_time": "2022-10-27T12:05:03.622Z"
      },
      {
        "duration": 1356,
        "start_time": "2022-10-27T12:05:28.345Z"
      },
      {
        "duration": 138,
        "start_time": "2022-10-27T12:05:41.261Z"
      },
      {
        "duration": 121,
        "start_time": "2022-10-27T12:06:23.880Z"
      },
      {
        "duration": 127,
        "start_time": "2022-10-27T12:06:56.365Z"
      },
      {
        "duration": 149,
        "start_time": "2022-10-27T12:07:20.646Z"
      },
      {
        "duration": 79,
        "start_time": "2022-10-27T12:17:32.957Z"
      },
      {
        "duration": 16,
        "start_time": "2022-10-27T12:17:34.271Z"
      },
      {
        "duration": 16,
        "start_time": "2022-10-27T12:17:39.008Z"
      },
      {
        "duration": 11,
        "start_time": "2022-10-27T12:17:41.308Z"
      },
      {
        "duration": 11,
        "start_time": "2022-10-27T12:21:00.670Z"
      },
      {
        "duration": 11,
        "start_time": "2022-10-27T12:21:11.295Z"
      },
      {
        "duration": 10,
        "start_time": "2022-10-27T12:22:38.865Z"
      },
      {
        "duration": 18,
        "start_time": "2022-10-27T12:22:55.561Z"
      },
      {
        "duration": 15,
        "start_time": "2022-10-27T12:23:21.506Z"
      },
      {
        "duration": 26,
        "start_time": "2022-10-27T12:23:27.091Z"
      },
      {
        "duration": 7,
        "start_time": "2022-10-27T12:24:38.881Z"
      },
      {
        "duration": 16,
        "start_time": "2022-10-27T12:24:44.286Z"
      },
      {
        "duration": 8,
        "start_time": "2022-10-27T12:25:45.867Z"
      },
      {
        "duration": 1184,
        "start_time": "2022-10-27T12:26:10.608Z"
      },
      {
        "duration": 7,
        "start_time": "2022-10-27T12:26:20.154Z"
      },
      {
        "duration": 8,
        "start_time": "2022-10-27T12:29:44.856Z"
      },
      {
        "duration": 11,
        "start_time": "2022-10-27T12:34:09.793Z"
      },
      {
        "duration": 6,
        "start_time": "2022-10-27T12:40:13.280Z"
      },
      {
        "duration": 21,
        "start_time": "2022-10-27T12:40:34.368Z"
      },
      {
        "duration": 11,
        "start_time": "2022-10-27T12:41:54.225Z"
      },
      {
        "duration": 8,
        "start_time": "2022-10-27T12:42:24.116Z"
      },
      {
        "duration": 7,
        "start_time": "2022-10-27T12:42:47.516Z"
      },
      {
        "duration": 9,
        "start_time": "2022-10-27T12:43:58.124Z"
      },
      {
        "duration": 10,
        "start_time": "2022-10-27T12:50:56.542Z"
      },
      {
        "duration": 8,
        "start_time": "2022-10-27T12:51:20.682Z"
      },
      {
        "duration": 10,
        "start_time": "2022-10-27T13:15:12.814Z"
      },
      {
        "duration": 11,
        "start_time": "2022-10-27T13:15:30.290Z"
      },
      {
        "duration": 8,
        "start_time": "2022-10-27T13:38:55.187Z"
      },
      {
        "duration": 8,
        "start_time": "2022-10-27T13:39:04.868Z"
      },
      {
        "duration": 13,
        "start_time": "2022-10-27T13:40:56.091Z"
      },
      {
        "duration": 1361,
        "start_time": "2022-10-27T13:41:17.094Z"
      },
      {
        "duration": 12,
        "start_time": "2022-10-27T13:41:44.145Z"
      },
      {
        "duration": 73,
        "start_time": "2022-10-27T14:00:03.819Z"
      },
      {
        "duration": 11,
        "start_time": "2022-10-27T14:00:17.490Z"
      },
      {
        "duration": 15,
        "start_time": "2022-10-27T14:00:58.043Z"
      },
      {
        "duration": 7,
        "start_time": "2022-10-27T14:01:40.575Z"
      },
      {
        "duration": 16,
        "start_time": "2022-10-27T14:02:24.364Z"
      },
      {
        "duration": 84,
        "start_time": "2022-10-27T14:02:57.773Z"
      },
      {
        "duration": 603,
        "start_time": "2022-10-27T14:03:06.860Z"
      },
      {
        "duration": 8,
        "start_time": "2022-10-27T14:03:33.424Z"
      },
      {
        "duration": 9,
        "start_time": "2022-10-27T14:04:58.386Z"
      },
      {
        "duration": 11,
        "start_time": "2022-10-27T14:05:18.147Z"
      },
      {
        "duration": 11,
        "start_time": "2022-10-27T14:12:09.193Z"
      },
      {
        "duration": 14,
        "start_time": "2022-10-27T14:14:17.258Z"
      },
      {
        "duration": 14,
        "start_time": "2022-10-27T14:14:58.948Z"
      },
      {
        "duration": 15,
        "start_time": "2022-10-27T14:22:35.328Z"
      },
      {
        "duration": 11,
        "start_time": "2022-10-27T14:27:49.602Z"
      },
      {
        "duration": 1319,
        "start_time": "2022-10-27T14:29:16.956Z"
      },
      {
        "duration": 1199,
        "start_time": "2022-10-27T14:29:28.505Z"
      },
      {
        "duration": 11,
        "start_time": "2022-10-27T14:29:54.737Z"
      },
      {
        "duration": 1453,
        "start_time": "2022-10-27T14:31:42.702Z"
      },
      {
        "duration": 1226,
        "start_time": "2022-10-27T14:32:08.358Z"
      },
      {
        "duration": 4,
        "start_time": "2022-10-27T14:32:21.345Z"
      },
      {
        "duration": 1253,
        "start_time": "2022-10-27T14:32:28.018Z"
      },
      {
        "duration": 11,
        "start_time": "2022-10-27T14:32:44.774Z"
      },
      {
        "duration": 13,
        "start_time": "2022-10-27T14:32:49.405Z"
      },
      {
        "duration": 13,
        "start_time": "2022-10-27T14:42:22.209Z"
      },
      {
        "duration": 13,
        "start_time": "2022-10-27T14:43:47.053Z"
      },
      {
        "duration": 13,
        "start_time": "2022-10-27T14:43:53.544Z"
      },
      {
        "duration": 13,
        "start_time": "2022-10-27T14:56:39.709Z"
      },
      {
        "duration": 13,
        "start_time": "2022-10-27T14:57:00.040Z"
      },
      {
        "duration": 1224,
        "start_time": "2022-10-27T15:00:44.761Z"
      },
      {
        "duration": 15,
        "start_time": "2022-10-27T15:01:17.259Z"
      },
      {
        "duration": 13,
        "start_time": "2022-10-27T15:01:37.856Z"
      },
      {
        "duration": 13,
        "start_time": "2022-10-27T15:02:04.698Z"
      },
      {
        "duration": 1199,
        "start_time": "2022-10-27T15:02:43.955Z"
      },
      {
        "duration": 16,
        "start_time": "2022-10-27T15:02:58.244Z"
      },
      {
        "duration": 16,
        "start_time": "2022-10-27T15:03:04.031Z"
      },
      {
        "duration": 14,
        "start_time": "2022-10-27T15:03:31.127Z"
      },
      {
        "duration": 18,
        "start_time": "2022-10-27T15:03:37.375Z"
      },
      {
        "duration": 15,
        "start_time": "2022-10-27T15:05:18.526Z"
      },
      {
        "duration": 12,
        "start_time": "2022-10-27T15:06:10.689Z"
      },
      {
        "duration": 12,
        "start_time": "2022-10-27T16:55:45.453Z"
      },
      {
        "duration": 12,
        "start_time": "2022-10-27T16:55:58.905Z"
      },
      {
        "duration": 13,
        "start_time": "2022-10-27T16:56:04.262Z"
      },
      {
        "duration": 15,
        "start_time": "2022-10-27T16:56:13.960Z"
      },
      {
        "duration": 15,
        "start_time": "2022-10-27T16:56:20.495Z"
      },
      {
        "duration": 92,
        "start_time": "2022-10-27T16:56:47.073Z"
      },
      {
        "duration": 70,
        "start_time": "2022-10-27T16:57:03.884Z"
      },
      {
        "duration": 11,
        "start_time": "2022-10-27T16:57:11.996Z"
      },
      {
        "duration": 16,
        "start_time": "2022-10-27T17:01:25.762Z"
      },
      {
        "duration": 19,
        "start_time": "2022-10-27T17:05:11.036Z"
      },
      {
        "duration": 9,
        "start_time": "2022-10-27T17:05:30.315Z"
      },
      {
        "duration": 14,
        "start_time": "2022-10-27T17:05:39.298Z"
      },
      {
        "duration": 15,
        "start_time": "2022-10-27T17:05:55.114Z"
      },
      {
        "duration": 14,
        "start_time": "2022-10-27T17:06:09.483Z"
      },
      {
        "duration": 32,
        "start_time": "2022-10-27T17:06:16.294Z"
      },
      {
        "duration": 11,
        "start_time": "2022-10-27T17:06:25.738Z"
      },
      {
        "duration": 37,
        "start_time": "2022-10-27T17:06:32.616Z"
      },
      {
        "duration": 9,
        "start_time": "2022-10-27T17:07:49.194Z"
      },
      {
        "duration": 27,
        "start_time": "2022-10-27T17:08:40.269Z"
      },
      {
        "duration": 14,
        "start_time": "2022-10-27T17:10:11.143Z"
      },
      {
        "duration": 19,
        "start_time": "2022-10-27T17:10:26.568Z"
      },
      {
        "duration": 16,
        "start_time": "2022-10-27T17:10:52.278Z"
      },
      {
        "duration": 90,
        "start_time": "2022-10-27T17:11:35.787Z"
      },
      {
        "duration": 568,
        "start_time": "2022-10-27T17:11:51.644Z"
      },
      {
        "duration": 618,
        "start_time": "2022-10-27T17:12:13.174Z"
      },
      {
        "duration": 13,
        "start_time": "2022-10-27T17:12:27.254Z"
      },
      {
        "duration": 206,
        "start_time": "2022-10-27T17:13:22.410Z"
      },
      {
        "duration": 13,
        "start_time": "2022-10-27T17:13:39.787Z"
      },
      {
        "duration": 12,
        "start_time": "2022-10-27T17:13:45.529Z"
      },
      {
        "duration": 71,
        "start_time": "2022-10-27T17:13:53.692Z"
      },
      {
        "duration": 13,
        "start_time": "2022-10-27T17:13:58.241Z"
      },
      {
        "duration": 35,
        "start_time": "2022-10-27T17:14:32.900Z"
      },
      {
        "duration": 14,
        "start_time": "2022-10-27T17:14:53.291Z"
      },
      {
        "duration": 9,
        "start_time": "2022-10-27T17:18:55.425Z"
      },
      {
        "duration": 10,
        "start_time": "2022-10-27T17:19:02.886Z"
      },
      {
        "duration": 9,
        "start_time": "2022-10-27T17:19:22.348Z"
      },
      {
        "duration": 72,
        "start_time": "2022-10-27T17:19:32.659Z"
      },
      {
        "duration": 12,
        "start_time": "2022-10-27T17:19:37.357Z"
      },
      {
        "duration": 8,
        "start_time": "2022-10-27T17:19:51.551Z"
      },
      {
        "duration": 29,
        "start_time": "2022-10-27T17:19:56.577Z"
      },
      {
        "duration": 11,
        "start_time": "2022-10-27T17:20:19.788Z"
      },
      {
        "duration": 77,
        "start_time": "2022-10-27T17:20:27.723Z"
      },
      {
        "duration": 16,
        "start_time": "2022-10-27T17:20:37.616Z"
      },
      {
        "duration": 13,
        "start_time": "2022-10-27T17:20:54.882Z"
      },
      {
        "duration": 17,
        "start_time": "2022-10-27T17:21:54.372Z"
      },
      {
        "duration": 26,
        "start_time": "2022-10-27T17:22:05.816Z"
      },
      {
        "duration": 19,
        "start_time": "2022-10-27T17:22:34.150Z"
      },
      {
        "duration": 20,
        "start_time": "2022-10-27T17:22:50.862Z"
      },
      {
        "duration": 16,
        "start_time": "2022-10-27T17:23:31.067Z"
      },
      {
        "duration": 13,
        "start_time": "2022-10-27T17:23:47.577Z"
      },
      {
        "duration": 18,
        "start_time": "2022-10-27T17:24:12.644Z"
      },
      {
        "duration": 12,
        "start_time": "2022-10-27T17:24:23.047Z"
      },
      {
        "duration": 13,
        "start_time": "2022-10-27T17:25:59.291Z"
      },
      {
        "duration": 17,
        "start_time": "2022-10-27T17:26:16.814Z"
      },
      {
        "duration": 11,
        "start_time": "2022-10-27T18:55:49.516Z"
      },
      {
        "duration": 11,
        "start_time": "2022-10-27T18:56:01.669Z"
      },
      {
        "duration": 8,
        "start_time": "2022-10-27T18:56:08.118Z"
      },
      {
        "duration": 14,
        "start_time": "2022-10-27T18:56:26.318Z"
      },
      {
        "duration": 9,
        "start_time": "2022-10-27T20:24:33.343Z"
      },
      {
        "duration": 9,
        "start_time": "2022-10-27T21:04:28.620Z"
      },
      {
        "duration": 9,
        "start_time": "2022-10-27T21:04:47.841Z"
      },
      {
        "duration": 9,
        "start_time": "2022-10-27T21:20:54.153Z"
      },
      {
        "duration": 13,
        "start_time": "2022-10-28T00:06:37.412Z"
      },
      {
        "duration": 11,
        "start_time": "2022-10-28T00:06:51.537Z"
      },
      {
        "duration": 15,
        "start_time": "2022-10-28T00:07:04.045Z"
      },
      {
        "duration": 68,
        "start_time": "2022-10-28T00:07:15.845Z"
      },
      {
        "duration": 15,
        "start_time": "2022-10-28T00:07:15.915Z"
      },
      {
        "duration": 15,
        "start_time": "2022-10-28T00:07:15.931Z"
      },
      {
        "duration": 10,
        "start_time": "2022-10-28T00:07:15.948Z"
      },
      {
        "duration": 36,
        "start_time": "2022-10-28T00:07:15.960Z"
      },
      {
        "duration": 14,
        "start_time": "2022-10-28T00:07:15.997Z"
      },
      {
        "duration": 12,
        "start_time": "2022-10-28T00:07:16.012Z"
      },
      {
        "duration": 13,
        "start_time": "2022-10-28T00:07:16.026Z"
      },
      {
        "duration": 51,
        "start_time": "2022-10-28T00:07:16.040Z"
      },
      {
        "duration": 7,
        "start_time": "2022-10-28T00:07:16.094Z"
      },
      {
        "duration": 12,
        "start_time": "2022-10-28T00:07:16.102Z"
      },
      {
        "duration": 46,
        "start_time": "2022-10-28T00:07:16.115Z"
      },
      {
        "duration": 3,
        "start_time": "2022-10-28T00:07:16.163Z"
      },
      {
        "duration": 28,
        "start_time": "2022-10-28T00:07:16.167Z"
      },
      {
        "duration": 4,
        "start_time": "2022-10-28T00:07:16.197Z"
      },
      {
        "duration": 8,
        "start_time": "2022-10-28T00:07:16.203Z"
      },
      {
        "duration": 5,
        "start_time": "2022-10-28T00:07:16.213Z"
      },
      {
        "duration": 8,
        "start_time": "2022-10-28T00:07:16.220Z"
      },
      {
        "duration": 30,
        "start_time": "2022-10-28T00:07:16.230Z"
      },
      {
        "duration": 33,
        "start_time": "2022-10-28T00:07:16.262Z"
      },
      {
        "duration": 4,
        "start_time": "2022-10-28T00:07:16.296Z"
      },
      {
        "duration": 14,
        "start_time": "2022-10-28T00:07:16.301Z"
      },
      {
        "duration": 20,
        "start_time": "2022-10-28T00:07:16.317Z"
      },
      {
        "duration": 16,
        "start_time": "2022-10-28T00:07:16.339Z"
      },
      {
        "duration": 5,
        "start_time": "2022-10-28T00:07:16.356Z"
      },
      {
        "duration": 32,
        "start_time": "2022-10-28T00:07:16.363Z"
      },
      {
        "duration": 9,
        "start_time": "2022-10-28T00:07:16.396Z"
      },
      {
        "duration": 4,
        "start_time": "2022-10-28T00:07:16.408Z"
      },
      {
        "duration": 13,
        "start_time": "2022-10-28T00:07:16.413Z"
      },
      {
        "duration": 7,
        "start_time": "2022-10-28T00:07:16.428Z"
      },
      {
        "duration": 15,
        "start_time": "2022-10-28T00:07:16.437Z"
      },
      {
        "duration": 43,
        "start_time": "2022-10-28T00:07:16.453Z"
      },
      {
        "duration": 5,
        "start_time": "2022-10-28T00:07:16.499Z"
      },
      {
        "duration": 20,
        "start_time": "2022-10-28T00:07:16.506Z"
      },
      {
        "duration": 14,
        "start_time": "2022-10-28T00:07:16.528Z"
      },
      {
        "duration": 23,
        "start_time": "2022-10-28T00:07:16.544Z"
      },
      {
        "duration": 8,
        "start_time": "2022-10-28T00:07:16.569Z"
      },
      {
        "duration": 14,
        "start_time": "2022-10-28T00:07:16.578Z"
      },
      {
        "duration": 4,
        "start_time": "2022-10-28T00:07:16.593Z"
      },
      {
        "duration": 10,
        "start_time": "2022-10-28T00:07:16.599Z"
      },
      {
        "duration": 6,
        "start_time": "2022-10-28T00:07:16.612Z"
      },
      {
        "duration": 11,
        "start_time": "2022-10-28T00:07:16.620Z"
      },
      {
        "duration": 7,
        "start_time": "2022-10-28T00:07:16.633Z"
      },
      {
        "duration": 16,
        "start_time": "2022-10-28T00:07:16.641Z"
      },
      {
        "duration": 5,
        "start_time": "2022-10-28T00:07:16.690Z"
      },
      {
        "duration": 12,
        "start_time": "2022-10-28T00:07:16.697Z"
      },
      {
        "duration": 10,
        "start_time": "2022-10-28T00:07:16.711Z"
      },
      {
        "duration": 7,
        "start_time": "2022-10-28T00:07:16.723Z"
      },
      {
        "duration": 7,
        "start_time": "2022-10-28T00:07:16.731Z"
      },
      {
        "duration": 8,
        "start_time": "2022-10-28T00:07:16.740Z"
      },
      {
        "duration": 6,
        "start_time": "2022-10-28T00:07:16.750Z"
      },
      {
        "duration": 4,
        "start_time": "2022-10-28T00:07:16.791Z"
      },
      {
        "duration": 24,
        "start_time": "2022-10-28T00:07:16.797Z"
      },
      {
        "duration": 12,
        "start_time": "2022-10-28T00:07:16.822Z"
      },
      {
        "duration": 138,
        "start_time": "2022-10-28T00:07:16.835Z"
      },
      {
        "duration": 4,
        "start_time": "2022-10-28T00:07:16.975Z"
      },
      {
        "duration": 130,
        "start_time": "2022-10-28T00:07:16.991Z"
      },
      {
        "duration": 151,
        "start_time": "2022-10-28T00:07:17.123Z"
      },
      {
        "duration": 107,
        "start_time": "2022-10-28T00:09:22.969Z"
      },
      {
        "duration": 111,
        "start_time": "2022-10-28T00:09:37.115Z"
      },
      {
        "duration": 1057,
        "start_time": "2022-10-28T00:14:03.393Z"
      },
      {
        "duration": 1022,
        "start_time": "2022-10-28T00:16:13.239Z"
      },
      {
        "duration": 119,
        "start_time": "2022-10-28T00:16:39.903Z"
      },
      {
        "duration": 122,
        "start_time": "2022-10-28T00:17:30.495Z"
      },
      {
        "duration": 73,
        "start_time": "2022-10-28T00:17:54.137Z"
      },
      {
        "duration": 136,
        "start_time": "2022-10-28T00:18:27.386Z"
      },
      {
        "duration": 156,
        "start_time": "2022-10-28T00:18:46.409Z"
      },
      {
        "duration": 132,
        "start_time": "2022-10-28T00:18:58.732Z"
      },
      {
        "duration": 118,
        "start_time": "2022-10-28T00:19:45.284Z"
      },
      {
        "duration": 131,
        "start_time": "2022-10-28T00:20:10.102Z"
      },
      {
        "duration": 153,
        "start_time": "2022-10-28T00:20:25.775Z"
      },
      {
        "duration": 125,
        "start_time": "2022-10-28T00:20:42.651Z"
      },
      {
        "duration": 121,
        "start_time": "2022-10-28T00:20:57.864Z"
      },
      {
        "duration": 127,
        "start_time": "2022-10-28T00:21:12.515Z"
      },
      {
        "duration": 674,
        "start_time": "2022-10-28T11:35:49.824Z"
      },
      {
        "duration": 32,
        "start_time": "2022-10-28T11:35:50.501Z"
      },
      {
        "duration": 26,
        "start_time": "2022-10-28T11:35:50.535Z"
      },
      {
        "duration": 26,
        "start_time": "2022-10-28T11:35:50.563Z"
      },
      {
        "duration": 23,
        "start_time": "2022-10-28T11:35:50.592Z"
      },
      {
        "duration": 43,
        "start_time": "2022-10-28T11:35:50.618Z"
      },
      {
        "duration": 18,
        "start_time": "2022-10-28T11:35:50.663Z"
      },
      {
        "duration": 27,
        "start_time": "2022-10-28T11:35:50.683Z"
      },
      {
        "duration": 14,
        "start_time": "2022-10-28T11:35:50.712Z"
      },
      {
        "duration": 18,
        "start_time": "2022-10-28T11:35:50.728Z"
      },
      {
        "duration": 25,
        "start_time": "2022-10-28T11:35:50.748Z"
      },
      {
        "duration": 64,
        "start_time": "2022-10-28T11:35:50.775Z"
      },
      {
        "duration": 4,
        "start_time": "2022-10-28T11:35:50.841Z"
      },
      {
        "duration": 30,
        "start_time": "2022-10-28T11:35:50.850Z"
      },
      {
        "duration": 12,
        "start_time": "2022-10-28T11:35:50.881Z"
      },
      {
        "duration": 18,
        "start_time": "2022-10-28T11:35:50.895Z"
      },
      {
        "duration": 14,
        "start_time": "2022-10-28T11:35:50.915Z"
      },
      {
        "duration": 17,
        "start_time": "2022-10-28T11:35:50.931Z"
      },
      {
        "duration": 65,
        "start_time": "2022-10-28T11:35:50.949Z"
      },
      {
        "duration": 11,
        "start_time": "2022-10-28T11:35:51.016Z"
      },
      {
        "duration": 25,
        "start_time": "2022-10-28T11:35:51.029Z"
      },
      {
        "duration": 46,
        "start_time": "2022-10-28T11:35:51.056Z"
      },
      {
        "duration": 49,
        "start_time": "2022-10-28T11:35:51.104Z"
      },
      {
        "duration": 32,
        "start_time": "2022-10-28T11:35:51.155Z"
      },
      {
        "duration": 21,
        "start_time": "2022-10-28T11:35:51.188Z"
      },
      {
        "duration": 47,
        "start_time": "2022-10-28T11:35:51.211Z"
      },
      {
        "duration": 22,
        "start_time": "2022-10-28T11:35:51.260Z"
      },
      {
        "duration": 20,
        "start_time": "2022-10-28T11:35:51.284Z"
      },
      {
        "duration": 36,
        "start_time": "2022-10-28T11:35:51.307Z"
      },
      {
        "duration": 29,
        "start_time": "2022-10-28T11:35:51.345Z"
      },
      {
        "duration": 41,
        "start_time": "2022-10-28T11:35:51.376Z"
      },
      {
        "duration": 44,
        "start_time": "2022-10-28T11:35:51.419Z"
      },
      {
        "duration": 29,
        "start_time": "2022-10-28T11:35:51.465Z"
      },
      {
        "duration": 29,
        "start_time": "2022-10-28T11:35:51.495Z"
      },
      {
        "duration": 34,
        "start_time": "2022-10-28T11:35:51.526Z"
      },
      {
        "duration": 24,
        "start_time": "2022-10-28T11:35:51.562Z"
      },
      {
        "duration": 21,
        "start_time": "2022-10-28T11:35:51.588Z"
      },
      {
        "duration": 10,
        "start_time": "2022-10-28T11:35:51.611Z"
      },
      {
        "duration": 13,
        "start_time": "2022-10-28T11:35:51.623Z"
      },
      {
        "duration": 20,
        "start_time": "2022-10-28T11:35:51.638Z"
      },
      {
        "duration": 37,
        "start_time": "2022-10-28T11:35:51.662Z"
      },
      {
        "duration": 28,
        "start_time": "2022-10-28T11:35:51.701Z"
      },
      {
        "duration": 21,
        "start_time": "2022-10-28T11:35:51.731Z"
      },
      {
        "duration": 25,
        "start_time": "2022-10-28T11:35:51.754Z"
      },
      {
        "duration": 18,
        "start_time": "2022-10-28T11:35:51.781Z"
      },
      {
        "duration": 23,
        "start_time": "2022-10-28T11:35:51.801Z"
      },
      {
        "duration": 15,
        "start_time": "2022-10-28T11:35:51.826Z"
      },
      {
        "duration": 20,
        "start_time": "2022-10-28T11:35:51.843Z"
      },
      {
        "duration": 7,
        "start_time": "2022-10-28T11:35:51.865Z"
      },
      {
        "duration": 26,
        "start_time": "2022-10-28T11:35:51.874Z"
      },
      {
        "duration": 15,
        "start_time": "2022-10-28T11:35:51.902Z"
      },
      {
        "duration": 21,
        "start_time": "2022-10-28T11:35:51.919Z"
      },
      {
        "duration": 61,
        "start_time": "2022-10-28T11:35:51.942Z"
      },
      {
        "duration": 16,
        "start_time": "2022-10-28T11:35:52.005Z"
      },
      {
        "duration": 642,
        "start_time": "2022-10-28T11:35:52.023Z"
      },
      {
        "duration": 5,
        "start_time": "2022-10-28T11:35:52.667Z"
      },
      {
        "duration": 165,
        "start_time": "2022-10-28T11:35:52.675Z"
      },
      {
        "duration": 177,
        "start_time": "2022-10-28T11:35:52.843Z"
      },
      {
        "duration": 14,
        "start_time": "2022-10-28T11:52:08.363Z"
      },
      {
        "duration": 11,
        "start_time": "2022-10-28T11:52:30.668Z"
      },
      {
        "duration": 10,
        "start_time": "2022-10-28T11:52:44.955Z"
      },
      {
        "duration": 12,
        "start_time": "2022-10-28T11:53:45.261Z"
      },
      {
        "duration": 146,
        "start_time": "2022-10-28T11:57:11.594Z"
      },
      {
        "duration": 13,
        "start_time": "2022-10-28T11:58:19.915Z"
      },
      {
        "duration": 17,
        "start_time": "2022-10-28T11:59:02.493Z"
      },
      {
        "duration": 10,
        "start_time": "2022-10-28T11:59:26.908Z"
      },
      {
        "duration": 7,
        "start_time": "2022-10-28T11:59:44.404Z"
      },
      {
        "duration": 10,
        "start_time": "2022-10-28T12:00:24.577Z"
      },
      {
        "duration": 79,
        "start_time": "2022-10-28T12:01:02.492Z"
      },
      {
        "duration": 10,
        "start_time": "2022-10-28T12:01:11.138Z"
      },
      {
        "duration": 74,
        "start_time": "2022-10-28T12:01:38.196Z"
      },
      {
        "duration": 14,
        "start_time": "2022-10-28T12:01:48.979Z"
      },
      {
        "duration": 14,
        "start_time": "2022-10-28T12:02:00.574Z"
      },
      {
        "duration": 9,
        "start_time": "2022-10-28T12:02:11.868Z"
      },
      {
        "duration": 10,
        "start_time": "2022-10-28T12:02:17.635Z"
      },
      {
        "duration": 8,
        "start_time": "2022-10-28T12:02:28.962Z"
      },
      {
        "duration": 12,
        "start_time": "2022-10-28T12:02:34.421Z"
      },
      {
        "duration": 11,
        "start_time": "2022-10-28T12:02:55.508Z"
      },
      {
        "duration": 8,
        "start_time": "2022-10-28T12:05:18.785Z"
      },
      {
        "duration": 9,
        "start_time": "2022-10-28T12:05:36.512Z"
      },
      {
        "duration": 7,
        "start_time": "2022-10-28T12:05:51.055Z"
      },
      {
        "duration": 8,
        "start_time": "2022-10-28T12:08:34.636Z"
      },
      {
        "duration": 6,
        "start_time": "2022-10-28T12:11:18.005Z"
      },
      {
        "duration": 6,
        "start_time": "2022-10-28T12:11:26.219Z"
      },
      {
        "duration": 8,
        "start_time": "2022-10-28T12:11:52.030Z"
      },
      {
        "duration": 8,
        "start_time": "2022-10-28T12:12:40.665Z"
      },
      {
        "duration": 6,
        "start_time": "2022-10-28T12:12:50.835Z"
      },
      {
        "duration": 6,
        "start_time": "2022-10-28T12:12:58.253Z"
      },
      {
        "duration": 6,
        "start_time": "2022-10-28T12:27:03.446Z"
      },
      {
        "duration": 6,
        "start_time": "2022-10-28T12:28:36.774Z"
      },
      {
        "duration": 8,
        "start_time": "2022-10-28T12:28:41.569Z"
      },
      {
        "duration": 5,
        "start_time": "2022-10-28T12:39:37.892Z"
      },
      {
        "duration": 73,
        "start_time": "2022-10-28T12:42:58.496Z"
      },
      {
        "duration": 8,
        "start_time": "2022-10-28T12:43:09.651Z"
      },
      {
        "duration": 9,
        "start_time": "2022-10-28T12:47:30.067Z"
      },
      {
        "duration": 8,
        "start_time": "2022-10-28T12:47:42.869Z"
      },
      {
        "duration": 7,
        "start_time": "2022-10-28T12:52:36.158Z"
      },
      {
        "duration": 12,
        "start_time": "2022-10-28T13:03:02.601Z"
      },
      {
        "duration": 6,
        "start_time": "2022-10-28T13:03:20.963Z"
      },
      {
        "duration": 5,
        "start_time": "2022-10-28T13:04:08.614Z"
      },
      {
        "duration": 10,
        "start_time": "2022-10-28T13:04:39.363Z"
      },
      {
        "duration": 7,
        "start_time": "2022-10-28T13:04:57.703Z"
      },
      {
        "duration": 10,
        "start_time": "2022-10-28T13:05:01.714Z"
      },
      {
        "duration": 8,
        "start_time": "2022-10-28T13:05:29.408Z"
      },
      {
        "duration": 8,
        "start_time": "2022-10-28T13:05:31.931Z"
      },
      {
        "duration": 10,
        "start_time": "2022-10-28T13:05:34.442Z"
      },
      {
        "duration": 11,
        "start_time": "2022-10-28T13:05:38.322Z"
      },
      {
        "duration": 18,
        "start_time": "2022-10-28T13:05:54.027Z"
      },
      {
        "duration": 10,
        "start_time": "2022-10-28T13:06:01.145Z"
      },
      {
        "duration": 5,
        "start_time": "2022-10-28T13:06:09.715Z"
      },
      {
        "duration": 6,
        "start_time": "2022-10-28T13:06:15.832Z"
      },
      {
        "duration": 16,
        "start_time": "2022-10-28T13:06:51.716Z"
      },
      {
        "duration": 6,
        "start_time": "2022-10-28T13:07:06.436Z"
      },
      {
        "duration": 7,
        "start_time": "2022-10-28T13:07:18.927Z"
      },
      {
        "duration": 6,
        "start_time": "2022-10-28T13:07:24.911Z"
      },
      {
        "duration": 6,
        "start_time": "2022-10-28T13:10:26.612Z"
      },
      {
        "duration": 9,
        "start_time": "2022-10-28T13:18:40.305Z"
      },
      {
        "duration": 7,
        "start_time": "2022-10-28T13:18:42.514Z"
      },
      {
        "duration": 6,
        "start_time": "2022-10-28T13:18:48.360Z"
      },
      {
        "duration": 9,
        "start_time": "2022-10-28T13:18:54.098Z"
      },
      {
        "duration": 6,
        "start_time": "2022-10-28T13:23:06.233Z"
      },
      {
        "duration": 10,
        "start_time": "2022-10-28T13:25:50.218Z"
      },
      {
        "duration": 12,
        "start_time": "2022-10-28T13:25:55.428Z"
      },
      {
        "duration": 13,
        "start_time": "2022-10-28T13:25:57.636Z"
      },
      {
        "duration": 8,
        "start_time": "2022-10-28T13:26:00.251Z"
      },
      {
        "duration": 9,
        "start_time": "2022-10-28T13:26:02.888Z"
      },
      {
        "duration": 13,
        "start_time": "2022-10-28T14:41:59.503Z"
      },
      {
        "duration": 6,
        "start_time": "2022-10-28T14:42:02.693Z"
      },
      {
        "duration": 5,
        "start_time": "2022-10-28T14:42:13.830Z"
      },
      {
        "duration": 7,
        "start_time": "2022-10-28T14:42:16.166Z"
      },
      {
        "duration": 6,
        "start_time": "2022-10-28T14:43:08.306Z"
      },
      {
        "duration": 6,
        "start_time": "2022-10-28T14:43:53.104Z"
      },
      {
        "duration": 6,
        "start_time": "2022-10-28T14:44:03.920Z"
      },
      {
        "duration": 5,
        "start_time": "2022-10-28T14:44:09.702Z"
      },
      {
        "duration": 10,
        "start_time": "2022-10-28T14:44:56.041Z"
      },
      {
        "duration": 4,
        "start_time": "2022-10-28T14:53:18.990Z"
      },
      {
        "duration": 5,
        "start_time": "2022-10-28T14:53:21.613Z"
      },
      {
        "duration": 5,
        "start_time": "2022-10-28T14:53:23.225Z"
      },
      {
        "duration": 5,
        "start_time": "2022-10-28T14:53:30.494Z"
      },
      {
        "duration": 6,
        "start_time": "2022-10-28T14:53:47.155Z"
      },
      {
        "duration": 7,
        "start_time": "2022-10-28T14:53:54.042Z"
      },
      {
        "duration": 5,
        "start_time": "2022-10-28T14:53:56.717Z"
      },
      {
        "duration": 5,
        "start_time": "2022-10-28T14:53:59.006Z"
      },
      {
        "duration": 6,
        "start_time": "2022-10-28T14:54:09.951Z"
      },
      {
        "duration": 5,
        "start_time": "2022-10-28T14:54:12.623Z"
      },
      {
        "duration": 6,
        "start_time": "2022-10-28T14:54:39.228Z"
      },
      {
        "duration": 6,
        "start_time": "2022-10-28T14:54:41.943Z"
      },
      {
        "duration": 5,
        "start_time": "2022-10-28T14:54:55.722Z"
      },
      {
        "duration": 5,
        "start_time": "2022-10-28T14:55:05.633Z"
      },
      {
        "duration": 7,
        "start_time": "2022-10-28T14:55:11.665Z"
      },
      {
        "duration": 71,
        "start_time": "2022-10-28T15:01:34.674Z"
      },
      {
        "duration": 3,
        "start_time": "2022-10-28T15:02:18.844Z"
      },
      {
        "duration": 44,
        "start_time": "2022-10-28T15:04:52.392Z"
      },
      {
        "duration": 530,
        "start_time": "2022-10-28T15:05:08.798Z"
      },
      {
        "duration": 16,
        "start_time": "2022-10-28T15:05:09.330Z"
      },
      {
        "duration": 31,
        "start_time": "2022-10-28T15:05:09.348Z"
      },
      {
        "duration": 19,
        "start_time": "2022-10-28T15:05:09.382Z"
      },
      {
        "duration": 14,
        "start_time": "2022-10-28T15:05:09.403Z"
      },
      {
        "duration": 39,
        "start_time": "2022-10-28T15:05:09.418Z"
      },
      {
        "duration": 13,
        "start_time": "2022-10-28T15:05:09.459Z"
      },
      {
        "duration": 11,
        "start_time": "2022-10-28T15:05:09.473Z"
      },
      {
        "duration": 5,
        "start_time": "2022-10-28T15:05:09.485Z"
      },
      {
        "duration": 7,
        "start_time": "2022-10-28T15:05:09.493Z"
      },
      {
        "duration": 6,
        "start_time": "2022-10-28T15:05:09.502Z"
      },
      {
        "duration": 33,
        "start_time": "2022-10-28T15:05:09.509Z"
      },
      {
        "duration": 2,
        "start_time": "2022-10-28T15:05:09.544Z"
      },
      {
        "duration": 11,
        "start_time": "2022-10-28T15:05:09.548Z"
      },
      {
        "duration": 4,
        "start_time": "2022-10-28T15:05:09.560Z"
      },
      {
        "duration": 7,
        "start_time": "2022-10-28T15:05:09.565Z"
      },
      {
        "duration": 9,
        "start_time": "2022-10-28T15:05:09.573Z"
      },
      {
        "duration": 6,
        "start_time": "2022-10-28T15:05:09.583Z"
      },
      {
        "duration": 46,
        "start_time": "2022-10-28T15:05:09.591Z"
      },
      {
        "duration": 8,
        "start_time": "2022-10-28T15:05:09.639Z"
      },
      {
        "duration": 4,
        "start_time": "2022-10-28T15:05:09.649Z"
      },
      {
        "duration": 14,
        "start_time": "2022-10-28T15:05:09.655Z"
      },
      {
        "duration": 17,
        "start_time": "2022-10-28T15:05:09.671Z"
      },
      {
        "duration": 33,
        "start_time": "2022-10-28T15:05:09.689Z"
      },
      {
        "duration": 3,
        "start_time": "2022-10-28T15:05:09.724Z"
      },
      {
        "duration": 13,
        "start_time": "2022-10-28T15:05:09.729Z"
      },
      {
        "duration": 16,
        "start_time": "2022-10-28T15:05:09.744Z"
      },
      {
        "duration": 8,
        "start_time": "2022-10-28T15:05:09.763Z"
      },
      {
        "duration": 10,
        "start_time": "2022-10-28T15:05:09.772Z"
      },
      {
        "duration": 3,
        "start_time": "2022-10-28T15:05:09.783Z"
      },
      {
        "duration": 15,
        "start_time": "2022-10-28T15:05:09.787Z"
      },
      {
        "duration": 25,
        "start_time": "2022-10-28T15:05:09.804Z"
      },
      {
        "duration": 6,
        "start_time": "2022-10-28T15:05:09.830Z"
      },
      {
        "duration": 7,
        "start_time": "2022-10-28T15:05:09.837Z"
      },
      {
        "duration": 11,
        "start_time": "2022-10-28T15:05:09.845Z"
      },
      {
        "duration": 11,
        "start_time": "2022-10-28T15:05:09.857Z"
      },
      {
        "duration": 10,
        "start_time": "2022-10-28T15:05:09.870Z"
      },
      {
        "duration": 6,
        "start_time": "2022-10-28T15:05:09.882Z"
      },
      {
        "duration": 5,
        "start_time": "2022-10-28T15:05:09.890Z"
      },
      {
        "duration": 30,
        "start_time": "2022-10-28T15:05:09.897Z"
      },
      {
        "duration": 4,
        "start_time": "2022-10-28T15:05:09.928Z"
      },
      {
        "duration": 21,
        "start_time": "2022-10-28T15:05:09.934Z"
      },
      {
        "duration": 6,
        "start_time": "2022-10-28T15:05:09.957Z"
      },
      {
        "duration": 17,
        "start_time": "2022-10-28T15:05:09.965Z"
      },
      {
        "duration": 7,
        "start_time": "2022-10-28T15:05:09.984Z"
      },
      {
        "duration": 10,
        "start_time": "2022-10-28T15:05:09.993Z"
      },
      {
        "duration": 22,
        "start_time": "2022-10-28T15:05:10.005Z"
      },
      {
        "duration": 5,
        "start_time": "2022-10-28T15:05:10.029Z"
      },
      {
        "duration": 5,
        "start_time": "2022-10-28T15:05:10.036Z"
      },
      {
        "duration": 7,
        "start_time": "2022-10-28T15:05:10.043Z"
      },
      {
        "duration": 10,
        "start_time": "2022-10-28T15:05:10.052Z"
      },
      {
        "duration": 10,
        "start_time": "2022-10-28T15:05:10.064Z"
      },
      {
        "duration": 27,
        "start_time": "2022-10-28T15:05:10.076Z"
      },
      {
        "duration": 26,
        "start_time": "2022-10-28T15:05:10.105Z"
      },
      {
        "duration": 493,
        "start_time": "2022-10-28T15:05:10.132Z"
      },
      {
        "duration": 5,
        "start_time": "2022-10-28T15:05:10.626Z"
      },
      {
        "duration": 120,
        "start_time": "2022-10-28T15:05:10.632Z"
      },
      {
        "duration": 137,
        "start_time": "2022-10-28T15:05:10.754Z"
      },
      {
        "duration": 9,
        "start_time": "2022-10-28T15:05:10.893Z"
      },
      {
        "duration": 20,
        "start_time": "2022-10-28T15:05:10.903Z"
      },
      {
        "duration": 10,
        "start_time": "2022-10-28T15:05:10.925Z"
      },
      {
        "duration": 9,
        "start_time": "2022-10-28T15:05:10.937Z"
      },
      {
        "duration": 9,
        "start_time": "2022-10-28T15:05:10.947Z"
      },
      {
        "duration": 16,
        "start_time": "2022-10-28T15:05:10.958Z"
      },
      {
        "duration": 73,
        "start_time": "2022-10-28T15:11:39.760Z"
      },
      {
        "duration": 97,
        "start_time": "2022-10-28T15:12:24.386Z"
      },
      {
        "duration": 70,
        "start_time": "2022-10-28T15:12:44.113Z"
      },
      {
        "duration": 10,
        "start_time": "2022-10-28T15:13:12.446Z"
      },
      {
        "duration": 74,
        "start_time": "2022-10-28T15:17:47.385Z"
      },
      {
        "duration": 17,
        "start_time": "2022-10-28T15:17:56.009Z"
      },
      {
        "duration": 71,
        "start_time": "2022-10-28T15:19:44.003Z"
      },
      {
        "duration": 17,
        "start_time": "2022-10-28T15:20:11.272Z"
      },
      {
        "duration": 13,
        "start_time": "2022-10-28T15:23:19.951Z"
      },
      {
        "duration": 14,
        "start_time": "2022-10-28T15:23:26.555Z"
      },
      {
        "duration": 21,
        "start_time": "2022-10-28T15:23:31.716Z"
      },
      {
        "duration": 116,
        "start_time": "2022-10-28T15:31:32.091Z"
      },
      {
        "duration": 325,
        "start_time": "2022-10-28T15:31:41.935Z"
      },
      {
        "duration": 34,
        "start_time": "2022-10-28T15:31:48.166Z"
      },
      {
        "duration": 5,
        "start_time": "2022-10-28T15:32:43.943Z"
      },
      {
        "duration": 79,
        "start_time": "2022-10-28T15:32:52.867Z"
      },
      {
        "duration": 14,
        "start_time": "2022-10-28T15:32:52.948Z"
      },
      {
        "duration": 16,
        "start_time": "2022-10-28T15:32:52.963Z"
      },
      {
        "duration": 9,
        "start_time": "2022-10-28T15:32:52.981Z"
      },
      {
        "duration": 11,
        "start_time": "2022-10-28T15:32:52.991Z"
      },
      {
        "duration": 31,
        "start_time": "2022-10-28T15:32:53.003Z"
      },
      {
        "duration": 22,
        "start_time": "2022-10-28T15:32:53.035Z"
      },
      {
        "duration": 12,
        "start_time": "2022-10-28T15:32:53.059Z"
      },
      {
        "duration": 6,
        "start_time": "2022-10-28T15:32:53.072Z"
      },
      {
        "duration": 7,
        "start_time": "2022-10-28T15:32:53.080Z"
      },
      {
        "duration": 46,
        "start_time": "2022-10-28T15:32:53.088Z"
      },
      {
        "duration": 33,
        "start_time": "2022-10-28T15:32:53.139Z"
      },
      {
        "duration": 4,
        "start_time": "2022-10-28T15:32:53.173Z"
      },
      {
        "duration": 13,
        "start_time": "2022-10-28T15:32:53.179Z"
      },
      {
        "duration": 4,
        "start_time": "2022-10-28T15:32:53.194Z"
      },
      {
        "duration": 19,
        "start_time": "2022-10-28T15:32:53.221Z"
      },
      {
        "duration": 8,
        "start_time": "2022-10-28T15:32:53.242Z"
      },
      {
        "duration": 4,
        "start_time": "2022-10-28T15:32:53.251Z"
      },
      {
        "duration": 32,
        "start_time": "2022-10-28T15:32:53.257Z"
      },
      {
        "duration": 9,
        "start_time": "2022-10-28T15:32:53.291Z"
      },
      {
        "duration": 4,
        "start_time": "2022-10-28T15:32:53.302Z"
      },
      {
        "duration": 16,
        "start_time": "2022-10-28T15:32:53.321Z"
      },
      {
        "duration": 46,
        "start_time": "2022-10-28T15:32:53.339Z"
      },
      {
        "duration": 15,
        "start_time": "2022-10-28T15:32:53.387Z"
      },
      {
        "duration": 11,
        "start_time": "2022-10-28T15:32:53.404Z"
      },
      {
        "duration": 42,
        "start_time": "2022-10-28T15:32:53.417Z"
      },
      {
        "duration": 18,
        "start_time": "2022-10-28T15:32:53.461Z"
      },
      {
        "duration": 21,
        "start_time": "2022-10-28T15:32:53.483Z"
      },
      {
        "duration": 12,
        "start_time": "2022-10-28T15:32:53.506Z"
      },
      {
        "duration": 30,
        "start_time": "2022-10-28T15:32:53.519Z"
      },
      {
        "duration": 29,
        "start_time": "2022-10-28T15:32:53.551Z"
      },
      {
        "duration": 23,
        "start_time": "2022-10-28T15:32:53.581Z"
      },
      {
        "duration": 22,
        "start_time": "2022-10-28T15:32:53.606Z"
      },
      {
        "duration": 25,
        "start_time": "2022-10-28T15:32:53.634Z"
      },
      {
        "duration": 20,
        "start_time": "2022-10-28T15:32:53.661Z"
      },
      {
        "duration": 19,
        "start_time": "2022-10-28T15:32:53.683Z"
      },
      {
        "duration": 20,
        "start_time": "2022-10-28T15:32:53.704Z"
      },
      {
        "duration": 24,
        "start_time": "2022-10-28T15:32:53.725Z"
      },
      {
        "duration": 22,
        "start_time": "2022-10-28T15:32:53.750Z"
      },
      {
        "duration": 45,
        "start_time": "2022-10-28T15:32:53.773Z"
      },
      {
        "duration": 40,
        "start_time": "2022-10-28T15:32:53.819Z"
      },
      {
        "duration": 31,
        "start_time": "2022-10-28T15:32:53.861Z"
      },
      {
        "duration": 31,
        "start_time": "2022-10-28T15:32:53.894Z"
      },
      {
        "duration": 37,
        "start_time": "2022-10-28T15:32:53.932Z"
      },
      {
        "duration": 24,
        "start_time": "2022-10-28T15:32:53.971Z"
      },
      {
        "duration": 41,
        "start_time": "2022-10-28T15:32:53.996Z"
      },
      {
        "duration": 22,
        "start_time": "2022-10-28T15:32:54.038Z"
      },
      {
        "duration": 30,
        "start_time": "2022-10-28T15:32:54.062Z"
      },
      {
        "duration": 23,
        "start_time": "2022-10-28T15:32:54.093Z"
      },
      {
        "duration": 38,
        "start_time": "2022-10-28T15:32:54.117Z"
      },
      {
        "duration": 0,
        "start_time": "2022-10-28T15:32:54.156Z"
      },
      {
        "duration": 0,
        "start_time": "2022-10-28T15:32:54.157Z"
      },
      {
        "duration": 0,
        "start_time": "2022-10-28T15:32:54.158Z"
      },
      {
        "duration": 0,
        "start_time": "2022-10-28T15:32:54.159Z"
      },
      {
        "duration": 0,
        "start_time": "2022-10-28T15:32:54.160Z"
      },
      {
        "duration": 0,
        "start_time": "2022-10-28T15:32:54.161Z"
      },
      {
        "duration": 0,
        "start_time": "2022-10-28T15:32:54.162Z"
      },
      {
        "duration": 0,
        "start_time": "2022-10-28T15:32:54.162Z"
      },
      {
        "duration": 0,
        "start_time": "2022-10-28T15:32:54.164Z"
      },
      {
        "duration": 0,
        "start_time": "2022-10-28T15:32:54.165Z"
      },
      {
        "duration": 0,
        "start_time": "2022-10-28T15:32:54.166Z"
      },
      {
        "duration": 0,
        "start_time": "2022-10-28T15:32:54.167Z"
      },
      {
        "duration": 0,
        "start_time": "2022-10-28T15:32:54.170Z"
      },
      {
        "duration": 0,
        "start_time": "2022-10-28T15:32:54.171Z"
      },
      {
        "duration": 12,
        "start_time": "2022-10-28T15:33:01.980Z"
      },
      {
        "duration": 8,
        "start_time": "2022-10-28T15:34:13.960Z"
      },
      {
        "duration": 10,
        "start_time": "2022-10-28T15:34:48.473Z"
      },
      {
        "duration": 9,
        "start_time": "2022-10-28T15:36:54.703Z"
      },
      {
        "duration": 96,
        "start_time": "2022-10-28T15:37:01.244Z"
      },
      {
        "duration": 157,
        "start_time": "2022-10-28T15:37:17.284Z"
      },
      {
        "duration": 4,
        "start_time": "2022-10-28T16:54:33.313Z"
      },
      {
        "duration": 20,
        "start_time": "2022-10-28T18:56:11.008Z"
      },
      {
        "duration": 569,
        "start_time": "2022-10-28T18:57:37.455Z"
      },
      {
        "duration": 4,
        "start_time": "2022-10-28T18:57:50.928Z"
      },
      {
        "duration": 4,
        "start_time": "2022-10-28T18:57:52.500Z"
      },
      {
        "duration": 10,
        "start_time": "2022-10-28T18:57:58.043Z"
      },
      {
        "duration": 13,
        "start_time": "2022-10-28T18:58:37.871Z"
      },
      {
        "duration": 10,
        "start_time": "2022-10-28T19:05:08.024Z"
      },
      {
        "duration": 19,
        "start_time": "2022-10-28T19:05:37.820Z"
      },
      {
        "duration": 13,
        "start_time": "2022-10-28T19:07:51.088Z"
      },
      {
        "duration": 10,
        "start_time": "2022-10-28T19:31:41.551Z"
      },
      {
        "duration": 15,
        "start_time": "2022-10-28T19:32:06.688Z"
      },
      {
        "duration": 21,
        "start_time": "2022-10-28T19:32:16.458Z"
      },
      {
        "duration": 9,
        "start_time": "2022-10-28T19:33:35.130Z"
      },
      {
        "duration": 8,
        "start_time": "2022-10-28T20:04:02.469Z"
      },
      {
        "duration": 12,
        "start_time": "2022-10-28T20:04:07.597Z"
      },
      {
        "duration": 10,
        "start_time": "2022-10-28T20:04:40.905Z"
      },
      {
        "duration": 13,
        "start_time": "2022-10-28T20:05:05.043Z"
      },
      {
        "duration": 12,
        "start_time": "2022-10-28T20:05:23.779Z"
      },
      {
        "duration": 10,
        "start_time": "2022-10-28T20:05:43.404Z"
      },
      {
        "duration": 5,
        "start_time": "2022-10-28T20:05:52.423Z"
      },
      {
        "duration": 8,
        "start_time": "2022-10-28T20:06:14.241Z"
      },
      {
        "duration": 5,
        "start_time": "2022-10-28T20:06:46.442Z"
      },
      {
        "duration": 8,
        "start_time": "2022-10-28T20:07:03.417Z"
      },
      {
        "duration": 9,
        "start_time": "2022-10-28T20:14:02.289Z"
      },
      {
        "duration": 6,
        "start_time": "2022-10-28T20:14:25.961Z"
      },
      {
        "duration": 5,
        "start_time": "2022-10-28T20:14:33.308Z"
      },
      {
        "duration": 9,
        "start_time": "2022-10-28T20:15:15.798Z"
      },
      {
        "duration": 10,
        "start_time": "2022-10-28T20:15:38.789Z"
      },
      {
        "duration": 65,
        "start_time": "2022-10-28T20:16:10.914Z"
      },
      {
        "duration": 13,
        "start_time": "2022-10-28T20:16:10.981Z"
      },
      {
        "duration": 55,
        "start_time": "2022-10-28T20:16:10.996Z"
      },
      {
        "duration": 32,
        "start_time": "2022-10-28T20:16:11.053Z"
      },
      {
        "duration": 19,
        "start_time": "2022-10-28T20:16:11.086Z"
      },
      {
        "duration": 29,
        "start_time": "2022-10-28T20:16:11.106Z"
      },
      {
        "duration": 41,
        "start_time": "2022-10-28T20:16:11.136Z"
      },
      {
        "duration": 56,
        "start_time": "2022-10-28T20:16:11.178Z"
      },
      {
        "duration": 24,
        "start_time": "2022-10-28T20:16:11.235Z"
      },
      {
        "duration": 30,
        "start_time": "2022-10-28T20:16:11.261Z"
      },
      {
        "duration": 52,
        "start_time": "2022-10-28T20:16:11.292Z"
      },
      {
        "duration": 72,
        "start_time": "2022-10-28T20:16:11.346Z"
      },
      {
        "duration": 11,
        "start_time": "2022-10-28T20:16:11.419Z"
      },
      {
        "duration": 29,
        "start_time": "2022-10-28T20:16:11.431Z"
      },
      {
        "duration": 18,
        "start_time": "2022-10-28T20:16:11.462Z"
      },
      {
        "duration": 16,
        "start_time": "2022-10-28T20:16:11.482Z"
      },
      {
        "duration": 23,
        "start_time": "2022-10-28T20:16:11.500Z"
      },
      {
        "duration": 18,
        "start_time": "2022-10-28T20:16:11.525Z"
      },
      {
        "duration": 48,
        "start_time": "2022-10-28T20:16:11.545Z"
      },
      {
        "duration": 8,
        "start_time": "2022-10-28T20:16:11.595Z"
      },
      {
        "duration": 17,
        "start_time": "2022-10-28T20:16:11.605Z"
      },
      {
        "duration": 32,
        "start_time": "2022-10-28T20:16:11.624Z"
      },
      {
        "duration": 26,
        "start_time": "2022-10-28T20:16:11.658Z"
      },
      {
        "duration": 24,
        "start_time": "2022-10-28T20:16:11.685Z"
      },
      {
        "duration": 28,
        "start_time": "2022-10-28T20:16:11.711Z"
      },
      {
        "duration": 52,
        "start_time": "2022-10-28T20:16:11.741Z"
      },
      {
        "duration": 18,
        "start_time": "2022-10-28T20:16:11.794Z"
      },
      {
        "duration": 8,
        "start_time": "2022-10-28T20:16:11.815Z"
      },
      {
        "duration": 22,
        "start_time": "2022-10-28T20:16:11.824Z"
      },
      {
        "duration": 16,
        "start_time": "2022-10-28T20:16:11.848Z"
      },
      {
        "duration": 30,
        "start_time": "2022-10-28T20:16:11.866Z"
      },
      {
        "duration": 16,
        "start_time": "2022-10-28T20:16:11.897Z"
      },
      {
        "duration": 6,
        "start_time": "2022-10-28T20:16:11.914Z"
      },
      {
        "duration": 17,
        "start_time": "2022-10-28T20:16:11.924Z"
      },
      {
        "duration": 33,
        "start_time": "2022-10-28T20:16:11.943Z"
      },
      {
        "duration": 21,
        "start_time": "2022-10-28T20:16:11.978Z"
      },
      {
        "duration": 29,
        "start_time": "2022-10-28T20:16:12.001Z"
      },
      {
        "duration": 24,
        "start_time": "2022-10-28T20:16:12.032Z"
      },
      {
        "duration": 21,
        "start_time": "2022-10-28T20:16:12.058Z"
      },
      {
        "duration": 28,
        "start_time": "2022-10-28T20:16:12.080Z"
      },
      {
        "duration": 29,
        "start_time": "2022-10-28T20:16:12.109Z"
      },
      {
        "duration": 21,
        "start_time": "2022-10-28T20:16:12.140Z"
      },
      {
        "duration": 29,
        "start_time": "2022-10-28T20:16:12.163Z"
      },
      {
        "duration": 43,
        "start_time": "2022-10-28T20:16:12.194Z"
      },
      {
        "duration": 20,
        "start_time": "2022-10-28T20:16:12.239Z"
      },
      {
        "duration": 39,
        "start_time": "2022-10-28T20:16:12.261Z"
      },
      {
        "duration": 28,
        "start_time": "2022-10-28T20:16:12.301Z"
      },
      {
        "duration": 32,
        "start_time": "2022-10-28T20:16:12.331Z"
      },
      {
        "duration": 19,
        "start_time": "2022-10-28T20:16:12.365Z"
      },
      {
        "duration": 26,
        "start_time": "2022-10-28T20:16:12.386Z"
      },
      {
        "duration": 16,
        "start_time": "2022-10-28T20:16:12.413Z"
      },
      {
        "duration": 15,
        "start_time": "2022-10-28T20:16:12.430Z"
      },
      {
        "duration": 30,
        "start_time": "2022-10-28T20:16:12.446Z"
      },
      {
        "duration": 113,
        "start_time": "2022-10-28T20:16:12.478Z"
      },
      {
        "duration": 4,
        "start_time": "2022-10-28T20:16:12.592Z"
      },
      {
        "duration": 39,
        "start_time": "2022-10-28T20:16:12.598Z"
      },
      {
        "duration": 11,
        "start_time": "2022-10-28T20:16:12.638Z"
      },
      {
        "duration": 128,
        "start_time": "2022-10-28T20:16:12.650Z"
      },
      {
        "duration": 3,
        "start_time": "2022-10-28T20:16:12.780Z"
      },
      {
        "duration": 122,
        "start_time": "2022-10-28T20:16:12.785Z"
      },
      {
        "duration": 120,
        "start_time": "2022-10-28T20:16:12.908Z"
      },
      {
        "duration": 6,
        "start_time": "2022-10-28T20:16:13.029Z"
      },
      {
        "duration": 1123,
        "start_time": "2022-10-28T20:16:13.036Z"
      },
      {
        "duration": 0,
        "start_time": "2022-10-28T20:16:14.161Z"
      },
      {
        "duration": 0,
        "start_time": "2022-10-28T20:16:14.162Z"
      },
      {
        "duration": 0,
        "start_time": "2022-10-28T20:16:14.163Z"
      },
      {
        "duration": 0,
        "start_time": "2022-10-28T20:16:14.164Z"
      },
      {
        "duration": 66,
        "start_time": "2022-10-28T20:16:30.359Z"
      },
      {
        "duration": 15,
        "start_time": "2022-10-28T20:16:30.427Z"
      },
      {
        "duration": 25,
        "start_time": "2022-10-28T20:16:30.443Z"
      },
      {
        "duration": 38,
        "start_time": "2022-10-28T20:16:30.471Z"
      },
      {
        "duration": 33,
        "start_time": "2022-10-28T20:16:30.511Z"
      },
      {
        "duration": 44,
        "start_time": "2022-10-28T20:16:30.546Z"
      },
      {
        "duration": 25,
        "start_time": "2022-10-28T20:16:30.591Z"
      },
      {
        "duration": 32,
        "start_time": "2022-10-28T20:16:30.618Z"
      },
      {
        "duration": 22,
        "start_time": "2022-10-28T20:16:30.652Z"
      },
      {
        "duration": 14,
        "start_time": "2022-10-28T20:16:30.676Z"
      },
      {
        "duration": 14,
        "start_time": "2022-10-28T20:16:30.692Z"
      },
      {
        "duration": 34,
        "start_time": "2022-10-28T20:16:30.707Z"
      },
      {
        "duration": 3,
        "start_time": "2022-10-28T20:16:30.743Z"
      },
      {
        "duration": 27,
        "start_time": "2022-10-28T20:16:30.748Z"
      },
      {
        "duration": 15,
        "start_time": "2022-10-28T20:16:30.777Z"
      },
      {
        "duration": 18,
        "start_time": "2022-10-28T20:16:30.793Z"
      },
      {
        "duration": 27,
        "start_time": "2022-10-28T20:16:30.813Z"
      },
      {
        "duration": 34,
        "start_time": "2022-10-28T20:16:30.842Z"
      },
      {
        "duration": 57,
        "start_time": "2022-10-28T20:16:30.878Z"
      },
      {
        "duration": 12,
        "start_time": "2022-10-28T20:16:30.937Z"
      },
      {
        "duration": 20,
        "start_time": "2022-10-28T20:16:30.950Z"
      },
      {
        "duration": 32,
        "start_time": "2022-10-28T20:16:30.972Z"
      },
      {
        "duration": 38,
        "start_time": "2022-10-28T20:16:31.006Z"
      },
      {
        "duration": 18,
        "start_time": "2022-10-28T20:16:31.046Z"
      },
      {
        "duration": 4,
        "start_time": "2022-10-28T20:16:31.066Z"
      },
      {
        "duration": 28,
        "start_time": "2022-10-28T20:16:31.071Z"
      },
      {
        "duration": 40,
        "start_time": "2022-10-28T20:16:31.100Z"
      },
      {
        "duration": 8,
        "start_time": "2022-10-28T20:16:31.144Z"
      },
      {
        "duration": 47,
        "start_time": "2022-10-28T20:16:31.153Z"
      },
      {
        "duration": 20,
        "start_time": "2022-10-28T20:16:31.201Z"
      },
      {
        "duration": 30,
        "start_time": "2022-10-28T20:16:31.223Z"
      },
      {
        "duration": 23,
        "start_time": "2022-10-28T20:16:31.254Z"
      },
      {
        "duration": 7,
        "start_time": "2022-10-28T20:16:31.279Z"
      },
      {
        "duration": 14,
        "start_time": "2022-10-28T20:16:31.287Z"
      },
      {
        "duration": 11,
        "start_time": "2022-10-28T20:16:31.302Z"
      },
      {
        "duration": 9,
        "start_time": "2022-10-28T20:16:31.315Z"
      },
      {
        "duration": 6,
        "start_time": "2022-10-28T20:16:31.325Z"
      },
      {
        "duration": 14,
        "start_time": "2022-10-28T20:16:31.333Z"
      },
      {
        "duration": 22,
        "start_time": "2022-10-28T20:16:31.348Z"
      },
      {
        "duration": 28,
        "start_time": "2022-10-28T20:16:31.371Z"
      },
      {
        "duration": 22,
        "start_time": "2022-10-28T20:16:31.400Z"
      },
      {
        "duration": 37,
        "start_time": "2022-10-28T20:16:31.424Z"
      },
      {
        "duration": 36,
        "start_time": "2022-10-28T20:16:31.463Z"
      },
      {
        "duration": 31,
        "start_time": "2022-10-28T20:16:31.500Z"
      },
      {
        "duration": 22,
        "start_time": "2022-10-28T20:16:31.532Z"
      },
      {
        "duration": 27,
        "start_time": "2022-10-28T20:16:31.556Z"
      },
      {
        "duration": 40,
        "start_time": "2022-10-28T20:16:31.584Z"
      },
      {
        "duration": 19,
        "start_time": "2022-10-28T20:16:31.626Z"
      },
      {
        "duration": 13,
        "start_time": "2022-10-28T20:16:31.647Z"
      },
      {
        "duration": 31,
        "start_time": "2022-10-28T20:16:31.661Z"
      },
      {
        "duration": 16,
        "start_time": "2022-10-28T20:16:31.694Z"
      },
      {
        "duration": 22,
        "start_time": "2022-10-28T20:16:31.712Z"
      },
      {
        "duration": 16,
        "start_time": "2022-10-28T20:16:31.736Z"
      },
      {
        "duration": 123,
        "start_time": "2022-10-28T20:16:31.754Z"
      },
      {
        "duration": 4,
        "start_time": "2022-10-28T20:16:31.879Z"
      },
      {
        "duration": 34,
        "start_time": "2022-10-28T20:16:31.884Z"
      },
      {
        "duration": 21,
        "start_time": "2022-10-28T20:16:31.919Z"
      },
      {
        "duration": 171,
        "start_time": "2022-10-28T20:16:31.942Z"
      },
      {
        "duration": 7,
        "start_time": "2022-10-28T20:16:32.115Z"
      },
      {
        "duration": 124,
        "start_time": "2022-10-28T20:16:32.123Z"
      },
      {
        "duration": 130,
        "start_time": "2022-10-28T20:16:32.249Z"
      },
      {
        "duration": 6,
        "start_time": "2022-10-28T20:16:32.380Z"
      },
      {
        "duration": 1144,
        "start_time": "2022-10-28T20:16:32.388Z"
      },
      {
        "duration": 0,
        "start_time": "2022-10-28T20:16:33.534Z"
      },
      {
        "duration": 0,
        "start_time": "2022-10-28T20:16:33.535Z"
      },
      {
        "duration": 0,
        "start_time": "2022-10-28T20:16:33.536Z"
      },
      {
        "duration": 0,
        "start_time": "2022-10-28T20:16:33.537Z"
      },
      {
        "duration": 1065,
        "start_time": "2022-10-28T20:16:54.209Z"
      },
      {
        "duration": 11,
        "start_time": "2022-10-28T20:17:32.182Z"
      },
      {
        "duration": 7,
        "start_time": "2022-10-28T20:17:44.034Z"
      },
      {
        "duration": 11,
        "start_time": "2022-10-28T20:17:53.704Z"
      },
      {
        "duration": 19,
        "start_time": "2022-10-28T20:18:10.139Z"
      },
      {
        "duration": 83,
        "start_time": "2022-10-28T20:18:44.719Z"
      },
      {
        "duration": 68,
        "start_time": "2022-10-28T20:19:14.245Z"
      },
      {
        "duration": 12,
        "start_time": "2022-10-28T20:19:19.020Z"
      },
      {
        "duration": 93,
        "start_time": "2022-10-28T20:19:40.489Z"
      },
      {
        "duration": 8,
        "start_time": "2022-10-28T20:19:53.393Z"
      },
      {
        "duration": 11,
        "start_time": "2022-10-28T20:19:56.118Z"
      },
      {
        "duration": 14,
        "start_time": "2022-10-28T20:19:59.465Z"
      },
      {
        "duration": 9,
        "start_time": "2022-10-28T20:20:42.094Z"
      },
      {
        "duration": 14,
        "start_time": "2022-10-28T20:20:51.683Z"
      },
      {
        "duration": 1076,
        "start_time": "2022-10-28T20:21:23.444Z"
      },
      {
        "duration": 12,
        "start_time": "2022-10-28T20:21:34.608Z"
      },
      {
        "duration": 10,
        "start_time": "2022-10-28T20:21:42.339Z"
      },
      {
        "duration": 12,
        "start_time": "2022-10-28T20:22:00.198Z"
      },
      {
        "duration": 9,
        "start_time": "2022-10-28T20:22:06.547Z"
      },
      {
        "duration": 16,
        "start_time": "2022-10-28T20:22:56.003Z"
      },
      {
        "duration": 10,
        "start_time": "2022-10-28T20:23:44.294Z"
      },
      {
        "duration": 27,
        "start_time": "2022-10-28T20:23:57.674Z"
      },
      {
        "duration": 912,
        "start_time": "2022-10-28T20:24:31.616Z"
      },
      {
        "duration": 15,
        "start_time": "2022-10-28T20:24:55.953Z"
      },
      {
        "duration": 11,
        "start_time": "2022-10-28T20:25:07.591Z"
      },
      {
        "duration": 6,
        "start_time": "2022-10-28T20:25:19.576Z"
      },
      {
        "duration": 13,
        "start_time": "2022-10-28T20:37:04.610Z"
      },
      {
        "duration": 7,
        "start_time": "2022-10-28T20:37:24.102Z"
      },
      {
        "duration": 8,
        "start_time": "2022-10-28T20:40:26.081Z"
      },
      {
        "duration": 1439,
        "start_time": "2022-10-28T20:40:29.663Z"
      },
      {
        "duration": 1053,
        "start_time": "2022-10-28T20:41:25.900Z"
      },
      {
        "duration": 1079,
        "start_time": "2022-10-28T20:41:42.983Z"
      },
      {
        "duration": 1100,
        "start_time": "2022-10-28T20:42:01.800Z"
      },
      {
        "duration": 3,
        "start_time": "2022-10-28T20:42:16.745Z"
      },
      {
        "duration": 6,
        "start_time": "2022-10-28T20:42:26.367Z"
      },
      {
        "duration": 6,
        "start_time": "2022-10-28T20:42:28.854Z"
      },
      {
        "duration": 5,
        "start_time": "2022-10-28T20:42:30.316Z"
      },
      {
        "duration": 5,
        "start_time": "2022-10-28T20:42:31.587Z"
      },
      {
        "duration": 12,
        "start_time": "2022-10-28T20:42:33.679Z"
      },
      {
        "duration": 4,
        "start_time": "2022-10-28T21:01:53.141Z"
      },
      {
        "duration": 10,
        "start_time": "2022-10-28T21:02:11.639Z"
      },
      {
        "duration": 21,
        "start_time": "2022-10-28T21:06:13.719Z"
      },
      {
        "duration": 19,
        "start_time": "2022-10-28T21:06:37.814Z"
      },
      {
        "duration": 1173,
        "start_time": "2022-10-28T21:06:48.013Z"
      },
      {
        "duration": 25,
        "start_time": "2022-10-28T21:07:15.679Z"
      },
      {
        "duration": 28,
        "start_time": "2022-10-28T21:07:25.423Z"
      },
      {
        "duration": 27,
        "start_time": "2022-10-28T21:07:34.576Z"
      },
      {
        "duration": 1098,
        "start_time": "2022-10-28T21:07:50.226Z"
      },
      {
        "duration": 22,
        "start_time": "2022-10-28T21:08:01.987Z"
      },
      {
        "duration": 21,
        "start_time": "2022-10-28T21:08:10.559Z"
      },
      {
        "duration": 8,
        "start_time": "2022-10-28T21:08:23.408Z"
      },
      {
        "duration": 21,
        "start_time": "2022-10-28T21:08:37.704Z"
      },
      {
        "duration": 978,
        "start_time": "2022-10-28T21:09:23.709Z"
      },
      {
        "duration": 17,
        "start_time": "2022-10-28T21:09:52.607Z"
      },
      {
        "duration": 8,
        "start_time": "2022-10-28T21:10:23.310Z"
      },
      {
        "duration": 5,
        "start_time": "2022-10-28T21:10:39.642Z"
      },
      {
        "duration": 8,
        "start_time": "2022-10-28T21:12:50.460Z"
      },
      {
        "duration": 8,
        "start_time": "2022-10-28T21:12:57.607Z"
      },
      {
        "duration": 18,
        "start_time": "2022-10-28T21:20:15.975Z"
      },
      {
        "duration": 18,
        "start_time": "2022-10-28T21:21:37.281Z"
      },
      {
        "duration": 16,
        "start_time": "2022-10-28T22:26:34.120Z"
      },
      {
        "duration": 10,
        "start_time": "2022-10-28T22:27:09.857Z"
      },
      {
        "duration": 5,
        "start_time": "2022-10-28T22:29:13.491Z"
      },
      {
        "duration": 4,
        "start_time": "2022-10-28T22:29:29.991Z"
      },
      {
        "duration": 10,
        "start_time": "2022-10-28T22:43:39.921Z"
      },
      {
        "duration": 92,
        "start_time": "2022-10-28T22:45:16.819Z"
      },
      {
        "duration": 110,
        "start_time": "2022-10-28T22:45:26.266Z"
      },
      {
        "duration": 13,
        "start_time": "2022-10-28T22:49:07.835Z"
      },
      {
        "duration": 12,
        "start_time": "2022-10-28T22:50:44.002Z"
      },
      {
        "duration": 5,
        "start_time": "2022-10-28T23:01:03.722Z"
      },
      {
        "duration": 4,
        "start_time": "2022-10-28T23:01:15.932Z"
      },
      {
        "duration": 8,
        "start_time": "2022-10-28T23:01:30.063Z"
      },
      {
        "duration": 4,
        "start_time": "2022-10-28T23:01:39.447Z"
      },
      {
        "duration": 3,
        "start_time": "2022-10-28T23:04:09.191Z"
      },
      {
        "duration": 3,
        "start_time": "2022-10-28T23:04:20.200Z"
      },
      {
        "duration": 3,
        "start_time": "2022-10-28T23:04:28.318Z"
      },
      {
        "duration": 5,
        "start_time": "2022-10-28T23:05:01.089Z"
      },
      {
        "duration": 3,
        "start_time": "2022-10-28T23:05:12.968Z"
      },
      {
        "duration": 102,
        "start_time": "2022-10-28T23:08:23.378Z"
      },
      {
        "duration": 15,
        "start_time": "2022-10-28T23:08:45.998Z"
      },
      {
        "duration": 12,
        "start_time": "2022-10-28T23:10:23.939Z"
      },
      {
        "duration": 13,
        "start_time": "2022-10-28T23:10:55.812Z"
      },
      {
        "duration": 10,
        "start_time": "2022-10-28T23:11:44.921Z"
      },
      {
        "duration": 6,
        "start_time": "2022-10-28T23:13:15.899Z"
      },
      {
        "duration": 10,
        "start_time": "2022-10-28T23:14:15.446Z"
      },
      {
        "duration": 10,
        "start_time": "2022-10-28T23:14:24.744Z"
      },
      {
        "duration": 116,
        "start_time": "2022-10-28T23:14:45.618Z"
      },
      {
        "duration": 113,
        "start_time": "2022-10-28T23:14:57.815Z"
      },
      {
        "duration": 105,
        "start_time": "2022-10-28T23:15:15.745Z"
      },
      {
        "duration": 105,
        "start_time": "2022-10-28T23:15:47.556Z"
      },
      {
        "duration": 107,
        "start_time": "2022-10-28T23:16:02.061Z"
      },
      {
        "duration": 14,
        "start_time": "2022-10-28T23:22:00.301Z"
      },
      {
        "duration": 10,
        "start_time": "2022-10-28T23:22:47.883Z"
      },
      {
        "duration": 5,
        "start_time": "2022-10-28T23:32:21.363Z"
      },
      {
        "duration": 11,
        "start_time": "2022-10-28T23:32:57.789Z"
      },
      {
        "duration": 16,
        "start_time": "2022-10-28T23:46:12.576Z"
      },
      {
        "duration": 4,
        "start_time": "2022-10-28T23:46:16.134Z"
      },
      {
        "duration": 11,
        "start_time": "2022-10-28T23:46:18.040Z"
      },
      {
        "duration": 96,
        "start_time": "2022-10-28T23:46:19.698Z"
      },
      {
        "duration": 12,
        "start_time": "2022-10-28T23:46:21.998Z"
      },
      {
        "duration": 10,
        "start_time": "2022-10-28T23:46:25.548Z"
      },
      {
        "duration": 109,
        "start_time": "2022-10-28T23:46:27.124Z"
      },
      {
        "duration": 13,
        "start_time": "2022-10-28T23:46:31.096Z"
      },
      {
        "duration": 107,
        "start_time": "2022-10-28T23:46:33.278Z"
      },
      {
        "duration": 119,
        "start_time": "2022-10-28T23:46:51.197Z"
      },
      {
        "duration": 26,
        "start_time": "2022-10-29T00:04:57.745Z"
      },
      {
        "duration": 183,
        "start_time": "2022-10-29T00:09:18.892Z"
      },
      {
        "duration": 52,
        "start_time": "2022-10-29T11:04:20.346Z"
      },
      {
        "duration": 591,
        "start_time": "2022-10-29T11:04:28.182Z"
      },
      {
        "duration": 24,
        "start_time": "2022-10-29T11:04:28.775Z"
      },
      {
        "duration": 16,
        "start_time": "2022-10-29T11:04:28.801Z"
      },
      {
        "duration": 17,
        "start_time": "2022-10-29T11:04:28.820Z"
      },
      {
        "duration": 7,
        "start_time": "2022-10-29T11:04:28.839Z"
      },
      {
        "duration": 21,
        "start_time": "2022-10-29T11:04:28.847Z"
      },
      {
        "duration": 15,
        "start_time": "2022-10-29T11:04:28.869Z"
      },
      {
        "duration": 50,
        "start_time": "2022-10-29T11:04:28.886Z"
      },
      {
        "duration": 9,
        "start_time": "2022-10-29T11:04:28.939Z"
      },
      {
        "duration": 7,
        "start_time": "2022-10-29T11:04:28.951Z"
      },
      {
        "duration": 9,
        "start_time": "2022-10-29T11:04:28.960Z"
      },
      {
        "duration": 74,
        "start_time": "2022-10-29T11:04:28.970Z"
      },
      {
        "duration": 4,
        "start_time": "2022-10-29T11:04:29.047Z"
      },
      {
        "duration": 12,
        "start_time": "2022-10-29T11:04:29.052Z"
      },
      {
        "duration": 5,
        "start_time": "2022-10-29T11:04:29.066Z"
      },
      {
        "duration": 7,
        "start_time": "2022-10-29T11:04:29.073Z"
      },
      {
        "duration": 6,
        "start_time": "2022-10-29T11:04:29.082Z"
      },
      {
        "duration": 39,
        "start_time": "2022-10-29T11:04:29.090Z"
      },
      {
        "duration": 44,
        "start_time": "2022-10-29T11:04:29.130Z"
      },
      {
        "duration": 10,
        "start_time": "2022-10-29T11:04:29.176Z"
      },
      {
        "duration": 4,
        "start_time": "2022-10-29T11:04:29.188Z"
      },
      {
        "duration": 45,
        "start_time": "2022-10-29T11:04:29.194Z"
      },
      {
        "duration": 21,
        "start_time": "2022-10-29T11:04:29.242Z"
      },
      {
        "duration": 19,
        "start_time": "2022-10-29T11:04:29.265Z"
      },
      {
        "duration": 7,
        "start_time": "2022-10-29T11:04:29.286Z"
      },
      {
        "duration": 51,
        "start_time": "2022-10-29T11:04:29.295Z"
      },
      {
        "duration": 8,
        "start_time": "2022-10-29T11:04:29.348Z"
      },
      {
        "duration": 4,
        "start_time": "2022-10-29T11:04:29.360Z"
      },
      {
        "duration": 15,
        "start_time": "2022-10-29T11:04:29.365Z"
      },
      {
        "duration": 16,
        "start_time": "2022-10-29T11:04:29.382Z"
      },
      {
        "duration": 40,
        "start_time": "2022-10-29T11:04:29.400Z"
      },
      {
        "duration": 28,
        "start_time": "2022-10-29T11:04:29.443Z"
      },
      {
        "duration": 4,
        "start_time": "2022-10-29T11:04:29.473Z"
      },
      {
        "duration": 8,
        "start_time": "2022-10-29T11:04:29.479Z"
      },
      {
        "duration": 48,
        "start_time": "2022-10-29T11:04:29.489Z"
      },
      {
        "duration": 11,
        "start_time": "2022-10-29T11:04:29.540Z"
      },
      {
        "duration": 7,
        "start_time": "2022-10-29T11:04:29.553Z"
      },
      {
        "duration": 5,
        "start_time": "2022-10-29T11:04:29.562Z"
      },
      {
        "duration": 6,
        "start_time": "2022-10-29T11:04:29.568Z"
      },
      {
        "duration": 9,
        "start_time": "2022-10-29T11:04:29.575Z"
      },
      {
        "duration": 44,
        "start_time": "2022-10-29T11:04:29.586Z"
      },
      {
        "duration": 15,
        "start_time": "2022-10-29T11:04:29.637Z"
      },
      {
        "duration": 6,
        "start_time": "2022-10-29T11:04:29.654Z"
      },
      {
        "duration": 12,
        "start_time": "2022-10-29T11:04:29.661Z"
      },
      {
        "duration": 5,
        "start_time": "2022-10-29T11:04:29.675Z"
      },
      {
        "duration": 7,
        "start_time": "2022-10-29T11:04:29.682Z"
      },
      {
        "duration": 41,
        "start_time": "2022-10-29T11:04:29.690Z"
      },
      {
        "duration": 9,
        "start_time": "2022-10-29T11:04:29.734Z"
      },
      {
        "duration": 5,
        "start_time": "2022-10-29T11:04:29.745Z"
      },
      {
        "duration": 12,
        "start_time": "2022-10-29T11:04:29.752Z"
      },
      {
        "duration": 11,
        "start_time": "2022-10-29T11:04:29.765Z"
      },
      {
        "duration": 55,
        "start_time": "2022-10-29T11:04:29.777Z"
      },
      {
        "duration": 78,
        "start_time": "2022-10-29T11:04:29.835Z"
      },
      {
        "duration": 0,
        "start_time": "2022-10-29T11:04:29.915Z"
      },
      {
        "duration": 0,
        "start_time": "2022-10-29T11:04:29.916Z"
      },
      {
        "duration": 0,
        "start_time": "2022-10-29T11:04:29.917Z"
      },
      {
        "duration": 0,
        "start_time": "2022-10-29T11:04:29.919Z"
      },
      {
        "duration": 0,
        "start_time": "2022-10-29T11:04:29.920Z"
      },
      {
        "duration": 0,
        "start_time": "2022-10-29T11:04:29.921Z"
      },
      {
        "duration": 0,
        "start_time": "2022-10-29T11:04:29.922Z"
      },
      {
        "duration": 0,
        "start_time": "2022-10-29T11:04:29.924Z"
      },
      {
        "duration": 0,
        "start_time": "2022-10-29T11:04:29.925Z"
      },
      {
        "duration": 0,
        "start_time": "2022-10-29T11:04:29.926Z"
      },
      {
        "duration": 0,
        "start_time": "2022-10-29T11:04:29.927Z"
      },
      {
        "duration": 0,
        "start_time": "2022-10-29T11:04:29.929Z"
      },
      {
        "duration": 0,
        "start_time": "2022-10-29T11:04:29.931Z"
      },
      {
        "duration": 0,
        "start_time": "2022-10-29T11:04:29.932Z"
      },
      {
        "duration": 0,
        "start_time": "2022-10-29T11:04:29.933Z"
      },
      {
        "duration": 3,
        "start_time": "2022-10-29T11:04:29.935Z"
      },
      {
        "duration": 0,
        "start_time": "2022-10-29T11:04:29.940Z"
      },
      {
        "duration": 0,
        "start_time": "2022-10-29T11:04:29.941Z"
      },
      {
        "duration": 0,
        "start_time": "2022-10-29T11:04:29.943Z"
      },
      {
        "duration": 558,
        "start_time": "2022-10-29T11:04:51.974Z"
      },
      {
        "duration": 28,
        "start_time": "2022-10-29T11:04:52.535Z"
      },
      {
        "duration": 18,
        "start_time": "2022-10-29T11:04:52.565Z"
      },
      {
        "duration": 39,
        "start_time": "2022-10-29T11:04:52.586Z"
      },
      {
        "duration": 13,
        "start_time": "2022-10-29T11:04:52.627Z"
      },
      {
        "duration": 18,
        "start_time": "2022-10-29T11:04:52.642Z"
      },
      {
        "duration": 14,
        "start_time": "2022-10-29T11:04:52.661Z"
      },
      {
        "duration": 14,
        "start_time": "2022-10-29T11:04:52.677Z"
      },
      {
        "duration": 40,
        "start_time": "2022-10-29T11:04:52.692Z"
      },
      {
        "duration": 10,
        "start_time": "2022-10-29T11:04:52.737Z"
      },
      {
        "duration": 10,
        "start_time": "2022-10-29T11:04:52.748Z"
      },
      {
        "duration": 74,
        "start_time": "2022-10-29T11:04:52.760Z"
      },
      {
        "duration": 5,
        "start_time": "2022-10-29T11:04:52.836Z"
      },
      {
        "duration": 18,
        "start_time": "2022-10-29T11:04:52.842Z"
      },
      {
        "duration": 6,
        "start_time": "2022-10-29T11:04:52.863Z"
      },
      {
        "duration": 9,
        "start_time": "2022-10-29T11:04:52.872Z"
      },
      {
        "duration": 35,
        "start_time": "2022-10-29T11:04:52.883Z"
      },
      {
        "duration": 9,
        "start_time": "2022-10-29T11:04:52.920Z"
      },
      {
        "duration": 47,
        "start_time": "2022-10-29T11:04:52.932Z"
      },
      {
        "duration": 11,
        "start_time": "2022-10-29T11:04:52.981Z"
      },
      {
        "duration": 30,
        "start_time": "2022-10-29T11:04:52.994Z"
      },
      {
        "duration": 20,
        "start_time": "2022-10-29T11:04:53.026Z"
      },
      {
        "duration": 27,
        "start_time": "2022-10-29T11:04:53.048Z"
      },
      {
        "duration": 20,
        "start_time": "2022-10-29T11:04:53.077Z"
      },
      {
        "duration": 26,
        "start_time": "2022-10-29T11:04:53.099Z"
      },
      {
        "duration": 38,
        "start_time": "2022-10-29T11:04:53.128Z"
      },
      {
        "duration": 20,
        "start_time": "2022-10-29T11:04:53.168Z"
      },
      {
        "duration": 11,
        "start_time": "2022-10-29T11:04:53.193Z"
      },
      {
        "duration": 13,
        "start_time": "2022-10-29T11:04:53.206Z"
      },
      {
        "duration": 12,
        "start_time": "2022-10-29T11:04:53.221Z"
      },
      {
        "duration": 19,
        "start_time": "2022-10-29T11:04:53.236Z"
      },
      {
        "duration": 17,
        "start_time": "2022-10-29T11:04:53.257Z"
      },
      {
        "duration": 4,
        "start_time": "2022-10-29T11:04:53.276Z"
      },
      {
        "duration": 8,
        "start_time": "2022-10-29T11:04:53.281Z"
      },
      {
        "duration": 44,
        "start_time": "2022-10-29T11:04:53.290Z"
      },
      {
        "duration": 11,
        "start_time": "2022-10-29T11:04:53.336Z"
      },
      {
        "duration": 6,
        "start_time": "2022-10-29T11:04:53.349Z"
      },
      {
        "duration": 6,
        "start_time": "2022-10-29T11:04:53.357Z"
      },
      {
        "duration": 6,
        "start_time": "2022-10-29T11:04:53.364Z"
      },
      {
        "duration": 12,
        "start_time": "2022-10-29T11:04:53.371Z"
      },
      {
        "duration": 8,
        "start_time": "2022-10-29T11:04:53.438Z"
      },
      {
        "duration": 13,
        "start_time": "2022-10-29T11:04:53.448Z"
      },
      {
        "duration": 10,
        "start_time": "2022-10-29T11:04:53.463Z"
      },
      {
        "duration": 12,
        "start_time": "2022-10-29T11:04:53.475Z"
      },
      {
        "duration": 9,
        "start_time": "2022-10-29T11:04:53.489Z"
      },
      {
        "duration": 28,
        "start_time": "2022-10-29T11:04:53.500Z"
      },
      {
        "duration": 15,
        "start_time": "2022-10-29T11:04:53.530Z"
      },
      {
        "duration": 6,
        "start_time": "2022-10-29T11:04:53.547Z"
      },
      {
        "duration": 13,
        "start_time": "2022-10-29T11:04:53.554Z"
      },
      {
        "duration": 13,
        "start_time": "2022-10-29T11:04:53.568Z"
      },
      {
        "duration": 13,
        "start_time": "2022-10-29T11:04:53.583Z"
      },
      {
        "duration": 48,
        "start_time": "2022-10-29T11:04:53.598Z"
      },
      {
        "duration": 81,
        "start_time": "2022-10-29T11:04:53.649Z"
      },
      {
        "duration": 0,
        "start_time": "2022-10-29T11:04:53.733Z"
      },
      {
        "duration": 0,
        "start_time": "2022-10-29T11:04:53.735Z"
      },
      {
        "duration": 0,
        "start_time": "2022-10-29T11:04:53.737Z"
      },
      {
        "duration": 0,
        "start_time": "2022-10-29T11:04:53.738Z"
      },
      {
        "duration": 0,
        "start_time": "2022-10-29T11:04:53.740Z"
      },
      {
        "duration": 0,
        "start_time": "2022-10-29T11:04:53.742Z"
      },
      {
        "duration": 0,
        "start_time": "2022-10-29T11:04:53.743Z"
      },
      {
        "duration": 0,
        "start_time": "2022-10-29T11:04:53.744Z"
      },
      {
        "duration": 0,
        "start_time": "2022-10-29T11:04:53.746Z"
      },
      {
        "duration": 0,
        "start_time": "2022-10-29T11:04:53.748Z"
      },
      {
        "duration": 0,
        "start_time": "2022-10-29T11:04:53.749Z"
      },
      {
        "duration": 0,
        "start_time": "2022-10-29T11:04:53.750Z"
      },
      {
        "duration": 0,
        "start_time": "2022-10-29T11:04:53.752Z"
      },
      {
        "duration": 0,
        "start_time": "2022-10-29T11:04:53.753Z"
      },
      {
        "duration": 0,
        "start_time": "2022-10-29T11:04:53.754Z"
      },
      {
        "duration": 0,
        "start_time": "2022-10-29T11:04:53.755Z"
      },
      {
        "duration": 0,
        "start_time": "2022-10-29T11:04:53.756Z"
      },
      {
        "duration": 0,
        "start_time": "2022-10-29T11:04:53.757Z"
      },
      {
        "duration": 0,
        "start_time": "2022-10-29T11:04:53.757Z"
      },
      {
        "duration": 598,
        "start_time": "2022-10-29T11:05:13.220Z"
      },
      {
        "duration": 35,
        "start_time": "2022-10-29T11:05:13.820Z"
      },
      {
        "duration": 18,
        "start_time": "2022-10-29T11:05:13.857Z"
      },
      {
        "duration": 10,
        "start_time": "2022-10-29T11:05:13.878Z"
      },
      {
        "duration": 7,
        "start_time": "2022-10-29T11:05:13.890Z"
      },
      {
        "duration": 46,
        "start_time": "2022-10-29T11:05:13.899Z"
      },
      {
        "duration": 14,
        "start_time": "2022-10-29T11:05:13.948Z"
      },
      {
        "duration": 16,
        "start_time": "2022-10-29T11:05:13.964Z"
      },
      {
        "duration": 9,
        "start_time": "2022-10-29T11:05:13.981Z"
      },
      {
        "duration": 12,
        "start_time": "2022-10-29T11:05:14.023Z"
      },
      {
        "duration": 10,
        "start_time": "2022-10-29T11:05:14.038Z"
      },
      {
        "duration": 39,
        "start_time": "2022-10-29T11:05:14.050Z"
      },
      {
        "duration": 34,
        "start_time": "2022-10-29T11:05:14.091Z"
      },
      {
        "duration": 13,
        "start_time": "2022-10-29T11:05:14.127Z"
      },
      {
        "duration": 6,
        "start_time": "2022-10-29T11:05:14.143Z"
      },
      {
        "duration": 8,
        "start_time": "2022-10-29T11:05:14.151Z"
      },
      {
        "duration": 8,
        "start_time": "2022-10-29T11:05:14.161Z"
      },
      {
        "duration": 6,
        "start_time": "2022-10-29T11:05:14.171Z"
      },
      {
        "duration": 86,
        "start_time": "2022-10-29T11:05:14.179Z"
      },
      {
        "duration": 12,
        "start_time": "2022-10-29T11:05:14.267Z"
      },
      {
        "duration": 5,
        "start_time": "2022-10-29T11:05:14.280Z"
      },
      {
        "duration": 14,
        "start_time": "2022-10-29T11:05:14.287Z"
      },
      {
        "duration": 32,
        "start_time": "2022-10-29T11:05:14.324Z"
      },
      {
        "duration": 19,
        "start_time": "2022-10-29T11:05:14.358Z"
      },
      {
        "duration": 4,
        "start_time": "2022-10-29T11:05:14.379Z"
      },
      {
        "duration": 14,
        "start_time": "2022-10-29T11:05:14.384Z"
      },
      {
        "duration": 9,
        "start_time": "2022-10-29T11:05:14.425Z"
      },
      {
        "duration": 8,
        "start_time": "2022-10-29T11:05:14.440Z"
      },
      {
        "duration": 15,
        "start_time": "2022-10-29T11:05:14.450Z"
      },
      {
        "duration": 5,
        "start_time": "2022-10-29T11:05:14.467Z"
      },
      {
        "duration": 18,
        "start_time": "2022-10-29T11:05:14.474Z"
      },
      {
        "duration": 27,
        "start_time": "2022-10-29T11:05:14.525Z"
      },
      {
        "duration": 5,
        "start_time": "2022-10-29T11:05:14.554Z"
      },
      {
        "duration": 7,
        "start_time": "2022-10-29T11:05:14.562Z"
      },
      {
        "duration": 10,
        "start_time": "2022-10-29T11:05:14.571Z"
      },
      {
        "duration": 48,
        "start_time": "2022-10-29T11:05:14.583Z"
      },
      {
        "duration": 10,
        "start_time": "2022-10-29T11:05:14.634Z"
      },
      {
        "duration": 7,
        "start_time": "2022-10-29T11:05:14.645Z"
      },
      {
        "duration": 7,
        "start_time": "2022-10-29T11:05:14.654Z"
      },
      {
        "duration": 10,
        "start_time": "2022-10-29T11:05:14.663Z"
      },
      {
        "duration": 8,
        "start_time": "2022-10-29T11:05:14.675Z"
      },
      {
        "duration": 23,
        "start_time": "2022-10-29T11:05:14.725Z"
      },
      {
        "duration": 7,
        "start_time": "2022-10-29T11:05:14.750Z"
      },
      {
        "duration": 11,
        "start_time": "2022-10-29T11:05:14.758Z"
      },
      {
        "duration": 5,
        "start_time": "2022-10-29T11:05:14.771Z"
      },
      {
        "duration": 8,
        "start_time": "2022-10-29T11:05:14.778Z"
      },
      {
        "duration": 49,
        "start_time": "2022-10-29T11:05:14.788Z"
      },
      {
        "duration": 9,
        "start_time": "2022-10-29T11:05:14.839Z"
      },
      {
        "duration": 6,
        "start_time": "2022-10-29T11:05:14.849Z"
      },
      {
        "duration": 12,
        "start_time": "2022-10-29T11:05:14.857Z"
      },
      {
        "duration": 12,
        "start_time": "2022-10-29T11:05:14.871Z"
      },
      {
        "duration": 62,
        "start_time": "2022-10-29T11:05:14.885Z"
      },
      {
        "duration": 3,
        "start_time": "2022-10-29T11:05:14.949Z"
      },
      {
        "duration": 20,
        "start_time": "2022-10-29T11:05:14.953Z"
      },
      {
        "duration": 5,
        "start_time": "2022-10-29T11:05:14.974Z"
      },
      {
        "duration": 62,
        "start_time": "2022-10-29T11:05:14.981Z"
      },
      {
        "duration": 715,
        "start_time": "2022-10-29T11:05:15.045Z"
      },
      {
        "duration": 14,
        "start_time": "2022-10-29T11:05:15.763Z"
      },
      {
        "duration": 172,
        "start_time": "2022-10-29T11:05:15.778Z"
      },
      {
        "duration": 13,
        "start_time": "2022-10-29T11:05:15.952Z"
      },
      {
        "duration": 11,
        "start_time": "2022-10-29T11:05:15.967Z"
      },
      {
        "duration": 193,
        "start_time": "2022-10-29T11:05:15.980Z"
      },
      {
        "duration": 12,
        "start_time": "2022-10-29T11:05:16.174Z"
      },
      {
        "duration": 151,
        "start_time": "2022-10-29T11:05:16.188Z"
      },
      {
        "duration": 259,
        "start_time": "2022-10-29T11:05:16.342Z"
      },
      {
        "duration": 8,
        "start_time": "2022-10-29T11:05:16.603Z"
      },
      {
        "duration": 7,
        "start_time": "2022-10-29T11:05:16.613Z"
      },
      {
        "duration": 11,
        "start_time": "2022-10-29T11:05:16.624Z"
      },
      {
        "duration": 7,
        "start_time": "2022-10-29T11:05:16.638Z"
      },
      {
        "duration": 7,
        "start_time": "2022-10-29T11:05:16.647Z"
      },
      {
        "duration": 13,
        "start_time": "2022-10-29T11:05:16.655Z"
      },
      {
        "duration": 17,
        "start_time": "2022-10-29T11:05:16.670Z"
      },
      {
        "duration": 5,
        "start_time": "2022-10-29T11:06:18.493Z"
      },
      {
        "duration": 11,
        "start_time": "2022-10-29T11:06:23.630Z"
      },
      {
        "duration": 82,
        "start_time": "2022-10-29T11:06:46.540Z"
      },
      {
        "duration": 8,
        "start_time": "2022-10-29T11:08:00.882Z"
      },
      {
        "duration": 13,
        "start_time": "2022-10-29T11:08:25.841Z"
      },
      {
        "duration": 16,
        "start_time": "2022-10-29T11:08:54.875Z"
      },
      {
        "duration": 12,
        "start_time": "2022-10-29T11:09:23.069Z"
      },
      {
        "duration": 84,
        "start_time": "2022-10-29T11:10:15.372Z"
      },
      {
        "duration": 80,
        "start_time": "2022-10-29T11:10:25.743Z"
      },
      {
        "duration": 9,
        "start_time": "2022-10-29T11:10:37.356Z"
      },
      {
        "duration": 9,
        "start_time": "2022-10-29T11:10:57.976Z"
      },
      {
        "duration": 10,
        "start_time": "2022-10-29T11:11:02.951Z"
      },
      {
        "duration": 9,
        "start_time": "2022-10-29T11:11:49.441Z"
      },
      {
        "duration": 7,
        "start_time": "2022-10-29T11:12:04.016Z"
      },
      {
        "duration": 12,
        "start_time": "2022-10-29T11:12:15.768Z"
      },
      {
        "duration": 8,
        "start_time": "2022-10-29T11:12:38.509Z"
      },
      {
        "duration": 11,
        "start_time": "2022-10-29T11:14:04.078Z"
      },
      {
        "duration": 12,
        "start_time": "2022-10-29T11:14:40.871Z"
      },
      {
        "duration": 9,
        "start_time": "2022-10-29T11:14:59.472Z"
      },
      {
        "duration": 75,
        "start_time": "2022-10-29T11:15:12.054Z"
      },
      {
        "duration": 10,
        "start_time": "2022-10-29T11:15:55.937Z"
      },
      {
        "duration": 25,
        "start_time": "2022-10-29T11:17:29.028Z"
      },
      {
        "duration": 35,
        "start_time": "2022-10-29T11:17:37.030Z"
      },
      {
        "duration": 99,
        "start_time": "2022-10-29T11:18:01.703Z"
      },
      {
        "duration": 47,
        "start_time": "2022-10-29T11:18:26.439Z"
      },
      {
        "duration": 36,
        "start_time": "2022-10-29T11:19:03.783Z"
      },
      {
        "duration": 36,
        "start_time": "2022-10-29T11:19:25.450Z"
      },
      {
        "duration": 53,
        "start_time": "2022-10-29T11:19:45.630Z"
      },
      {
        "duration": 47,
        "start_time": "2022-10-29T11:20:01.985Z"
      },
      {
        "duration": 0,
        "start_time": "2022-10-29T11:20:10.418Z"
      },
      {
        "duration": 0,
        "start_time": "2022-10-29T11:20:23.475Z"
      },
      {
        "duration": 35,
        "start_time": "2022-10-29T11:20:43.981Z"
      },
      {
        "duration": 21,
        "start_time": "2022-10-29T11:20:55.940Z"
      },
      {
        "duration": 26,
        "start_time": "2022-10-29T11:21:16.803Z"
      },
      {
        "duration": 25,
        "start_time": "2022-10-29T11:21:51.765Z"
      },
      {
        "duration": 29,
        "start_time": "2022-10-29T11:22:22.790Z"
      },
      {
        "duration": 32,
        "start_time": "2022-10-29T11:22:55.302Z"
      },
      {
        "duration": 48,
        "start_time": "2022-10-29T11:23:20.213Z"
      },
      {
        "duration": 40,
        "start_time": "2022-10-29T11:23:50.216Z"
      },
      {
        "duration": 1449,
        "start_time": "2022-10-29T11:24:52.592Z"
      },
      {
        "duration": 23,
        "start_time": "2022-10-29T11:25:02.466Z"
      },
      {
        "duration": 28,
        "start_time": "2022-10-29T11:25:21.204Z"
      },
      {
        "duration": 22,
        "start_time": "2022-10-29T11:25:36.484Z"
      },
      {
        "duration": 36,
        "start_time": "2022-10-29T11:25:53.099Z"
      },
      {
        "duration": 23,
        "start_time": "2022-10-29T11:26:03.551Z"
      },
      {
        "duration": 27,
        "start_time": "2022-10-29T11:26:11.591Z"
      },
      {
        "duration": 63,
        "start_time": "2022-10-29T11:26:55.688Z"
      },
      {
        "duration": 78,
        "start_time": "2022-10-29T11:27:01.814Z"
      },
      {
        "duration": 52,
        "start_time": "2022-10-29T11:27:12.821Z"
      },
      {
        "duration": 14,
        "start_time": "2022-10-29T11:58:31.891Z"
      },
      {
        "duration": 9,
        "start_time": "2022-10-29T23:23:16.889Z"
      },
      {
        "duration": 4,
        "start_time": "2022-10-29T23:25:01.958Z"
      },
      {
        "duration": 47,
        "start_time": "2022-10-29T23:25:04.146Z"
      },
      {
        "duration": 1213,
        "start_time": "2022-10-29T23:25:14.269Z"
      },
      {
        "duration": 36,
        "start_time": "2022-10-29T23:25:15.484Z"
      },
      {
        "duration": 27,
        "start_time": "2022-10-29T23:25:15.522Z"
      },
      {
        "duration": 14,
        "start_time": "2022-10-29T23:25:15.554Z"
      },
      {
        "duration": 25,
        "start_time": "2022-10-29T23:25:15.570Z"
      },
      {
        "duration": 29,
        "start_time": "2022-10-29T23:25:15.596Z"
      },
      {
        "duration": 21,
        "start_time": "2022-10-29T23:25:15.627Z"
      },
      {
        "duration": 20,
        "start_time": "2022-10-29T23:25:15.654Z"
      },
      {
        "duration": 11,
        "start_time": "2022-10-29T23:25:15.676Z"
      },
      {
        "duration": 11,
        "start_time": "2022-10-29T23:25:15.691Z"
      },
      {
        "duration": 17,
        "start_time": "2022-10-29T23:25:15.704Z"
      },
      {
        "duration": 52,
        "start_time": "2022-10-29T23:25:15.754Z"
      },
      {
        "duration": 5,
        "start_time": "2022-10-29T23:25:15.809Z"
      },
      {
        "duration": 30,
        "start_time": "2022-10-29T23:25:15.816Z"
      },
      {
        "duration": 11,
        "start_time": "2022-10-29T23:25:15.853Z"
      },
      {
        "duration": 15,
        "start_time": "2022-10-29T23:25:15.866Z"
      },
      {
        "duration": 9,
        "start_time": "2022-10-29T23:25:15.884Z"
      },
      {
        "duration": 17,
        "start_time": "2022-10-29T23:25:15.895Z"
      },
      {
        "duration": 49,
        "start_time": "2022-10-29T23:25:15.916Z"
      },
      {
        "duration": 11,
        "start_time": "2022-10-29T23:25:15.967Z"
      },
      {
        "duration": 13,
        "start_time": "2022-10-29T23:25:15.979Z"
      },
      {
        "duration": 38,
        "start_time": "2022-10-29T23:25:15.994Z"
      },
      {
        "duration": 42,
        "start_time": "2022-10-29T23:25:16.035Z"
      },
      {
        "duration": 28,
        "start_time": "2022-10-29T23:25:16.079Z"
      },
      {
        "duration": 5,
        "start_time": "2022-10-29T23:25:16.109Z"
      },
      {
        "duration": 33,
        "start_time": "2022-10-29T23:25:16.116Z"
      },
      {
        "duration": 24,
        "start_time": "2022-10-29T23:25:16.151Z"
      },
      {
        "duration": 11,
        "start_time": "2022-10-29T23:25:16.179Z"
      },
      {
        "duration": 31,
        "start_time": "2022-10-29T23:25:16.191Z"
      },
      {
        "duration": 25,
        "start_time": "2022-10-29T23:25:16.224Z"
      },
      {
        "duration": 29,
        "start_time": "2022-10-29T23:25:16.252Z"
      },
      {
        "duration": 25,
        "start_time": "2022-10-29T23:25:16.284Z"
      },
      {
        "duration": 20,
        "start_time": "2022-10-29T23:25:16.311Z"
      },
      {
        "duration": 13,
        "start_time": "2022-10-29T23:25:16.333Z"
      },
      {
        "duration": 25,
        "start_time": "2022-10-29T23:25:16.355Z"
      },
      {
        "duration": 12,
        "start_time": "2022-10-29T23:25:16.383Z"
      },
      {
        "duration": 20,
        "start_time": "2022-10-29T23:25:16.398Z"
      },
      {
        "duration": 12,
        "start_time": "2022-10-29T23:25:16.420Z"
      },
      {
        "duration": 19,
        "start_time": "2022-10-29T23:25:16.434Z"
      },
      {
        "duration": 15,
        "start_time": "2022-10-29T23:25:16.455Z"
      },
      {
        "duration": 7,
        "start_time": "2022-10-29T23:25:16.472Z"
      },
      {
        "duration": 16,
        "start_time": "2022-10-29T23:25:16.481Z"
      },
      {
        "duration": 7,
        "start_time": "2022-10-29T23:25:16.499Z"
      },
      {
        "duration": 46,
        "start_time": "2022-10-29T23:25:16.508Z"
      },
      {
        "duration": 8,
        "start_time": "2022-10-29T23:25:16.556Z"
      },
      {
        "duration": 11,
        "start_time": "2022-10-29T23:25:16.566Z"
      },
      {
        "duration": 13,
        "start_time": "2022-10-29T23:25:16.579Z"
      },
      {
        "duration": 8,
        "start_time": "2022-10-29T23:25:16.594Z"
      },
      {
        "duration": 9,
        "start_time": "2022-10-29T23:25:16.604Z"
      },
      {
        "duration": 52,
        "start_time": "2022-10-29T23:25:16.615Z"
      },
      {
        "duration": 22,
        "start_time": "2022-10-29T23:25:16.671Z"
      },
      {
        "duration": 27,
        "start_time": "2022-10-29T23:25:16.696Z"
      },
      {
        "duration": 3,
        "start_time": "2022-10-29T23:25:16.754Z"
      },
      {
        "duration": 28,
        "start_time": "2022-10-29T23:25:16.760Z"
      },
      {
        "duration": 21,
        "start_time": "2022-10-29T23:25:16.790Z"
      },
      {
        "duration": 6,
        "start_time": "2022-10-29T23:25:16.812Z"
      },
      {
        "duration": 31,
        "start_time": "2022-10-29T23:25:16.853Z"
      },
      {
        "duration": 638,
        "start_time": "2022-10-29T23:25:16.886Z"
      },
      {
        "duration": 27,
        "start_time": "2022-10-29T23:25:17.527Z"
      },
      {
        "duration": 4,
        "start_time": "2022-10-29T23:25:17.557Z"
      },
      {
        "duration": 26,
        "start_time": "2022-10-29T23:25:17.564Z"
      },
      {
        "duration": 217,
        "start_time": "2022-10-29T23:25:17.593Z"
      },
      {
        "duration": 16,
        "start_time": "2022-10-29T23:25:17.812Z"
      },
      {
        "duration": 34,
        "start_time": "2022-10-29T23:25:17.830Z"
      },
      {
        "duration": 228,
        "start_time": "2022-10-29T23:25:17.866Z"
      },
      {
        "duration": 13,
        "start_time": "2022-10-29T23:25:18.097Z"
      },
      {
        "duration": 165,
        "start_time": "2022-10-29T23:25:18.114Z"
      },
      {
        "duration": 240,
        "start_time": "2022-10-29T23:25:18.281Z"
      },
      {
        "duration": 14,
        "start_time": "2022-10-29T23:25:18.524Z"
      },
      {
        "duration": 19,
        "start_time": "2022-10-29T23:25:18.540Z"
      },
      {
        "duration": 16,
        "start_time": "2022-10-29T23:25:18.561Z"
      },
      {
        "duration": 10,
        "start_time": "2022-10-29T23:25:18.579Z"
      },
      {
        "duration": 11,
        "start_time": "2022-10-29T23:25:18.591Z"
      },
      {
        "duration": 10,
        "start_time": "2022-10-29T23:25:18.605Z"
      },
      {
        "duration": 51,
        "start_time": "2022-10-29T23:25:18.618Z"
      },
      {
        "duration": 129,
        "start_time": "2022-10-29T23:26:05.725Z"
      },
      {
        "duration": 126,
        "start_time": "2022-10-29T23:26:49.983Z"
      },
      {
        "duration": 91,
        "start_time": "2022-10-29T23:26:55.682Z"
      },
      {
        "duration": 18,
        "start_time": "2022-10-29T23:26:55.775Z"
      },
      {
        "duration": 24,
        "start_time": "2022-10-29T23:26:55.795Z"
      },
      {
        "duration": 39,
        "start_time": "2022-10-29T23:26:55.823Z"
      },
      {
        "duration": 12,
        "start_time": "2022-10-29T23:26:55.864Z"
      },
      {
        "duration": 17,
        "start_time": "2022-10-29T23:26:55.878Z"
      },
      {
        "duration": 16,
        "start_time": "2022-10-29T23:26:55.896Z"
      },
      {
        "duration": 59,
        "start_time": "2022-10-29T23:26:55.914Z"
      },
      {
        "duration": 9,
        "start_time": "2022-10-29T23:26:55.974Z"
      },
      {
        "duration": 15,
        "start_time": "2022-10-29T23:26:55.986Z"
      },
      {
        "duration": 55,
        "start_time": "2022-10-29T23:26:56.002Z"
      },
      {
        "duration": 50,
        "start_time": "2022-10-29T23:26:56.059Z"
      },
      {
        "duration": 5,
        "start_time": "2022-10-29T23:26:56.112Z"
      },
      {
        "duration": 36,
        "start_time": "2022-10-29T23:26:56.119Z"
      },
      {
        "duration": 6,
        "start_time": "2022-10-29T23:26:56.157Z"
      },
      {
        "duration": 14,
        "start_time": "2022-10-29T23:26:56.165Z"
      },
      {
        "duration": 12,
        "start_time": "2022-10-29T23:26:56.181Z"
      },
      {
        "duration": 14,
        "start_time": "2022-10-29T23:26:56.194Z"
      },
      {
        "duration": 79,
        "start_time": "2022-10-29T23:26:56.210Z"
      },
      {
        "duration": 12,
        "start_time": "2022-10-29T23:26:56.292Z"
      },
      {
        "duration": 6,
        "start_time": "2022-10-29T23:26:56.306Z"
      },
      {
        "duration": 23,
        "start_time": "2022-10-29T23:26:56.314Z"
      },
      {
        "duration": 30,
        "start_time": "2022-10-29T23:26:56.355Z"
      },
      {
        "duration": 27,
        "start_time": "2022-10-29T23:26:56.387Z"
      },
      {
        "duration": 5,
        "start_time": "2022-10-29T23:26:56.416Z"
      },
      {
        "duration": 40,
        "start_time": "2022-10-29T23:26:56.422Z"
      },
      {
        "duration": 8,
        "start_time": "2022-10-29T23:26:56.464Z"
      },
      {
        "duration": 6,
        "start_time": "2022-10-29T23:26:56.478Z"
      },
      {
        "duration": 24,
        "start_time": "2022-10-29T23:26:56.486Z"
      },
      {
        "duration": 12,
        "start_time": "2022-10-29T23:26:56.512Z"
      },
      {
        "duration": 34,
        "start_time": "2022-10-29T23:26:56.526Z"
      },
      {
        "duration": 24,
        "start_time": "2022-10-29T23:26:56.562Z"
      },
      {
        "duration": 7,
        "start_time": "2022-10-29T23:26:56.588Z"
      },
      {
        "duration": 10,
        "start_time": "2022-10-29T23:26:56.596Z"
      },
      {
        "duration": 15,
        "start_time": "2022-10-29T23:26:56.608Z"
      },
      {
        "duration": 42,
        "start_time": "2022-10-29T23:26:56.625Z"
      },
      {
        "duration": 11,
        "start_time": "2022-10-29T23:26:56.669Z"
      },
      {
        "duration": 8,
        "start_time": "2022-10-29T23:26:56.682Z"
      },
      {
        "duration": 7,
        "start_time": "2022-10-29T23:26:56.692Z"
      },
      {
        "duration": 10,
        "start_time": "2022-10-29T23:26:56.701Z"
      },
      {
        "duration": 46,
        "start_time": "2022-10-29T23:26:56.712Z"
      },
      {
        "duration": 20,
        "start_time": "2022-10-29T23:26:56.760Z"
      },
      {
        "duration": 9,
        "start_time": "2022-10-29T23:26:56.782Z"
      },
      {
        "duration": 14,
        "start_time": "2022-10-29T23:26:56.793Z"
      },
      {
        "duration": 5,
        "start_time": "2022-10-29T23:26:56.809Z"
      },
      {
        "duration": 42,
        "start_time": "2022-10-29T23:26:56.816Z"
      },
      {
        "duration": 12,
        "start_time": "2022-10-29T23:26:56.860Z"
      },
      {
        "duration": 7,
        "start_time": "2022-10-29T23:26:56.874Z"
      },
      {
        "duration": 10,
        "start_time": "2022-10-29T23:26:56.883Z"
      },
      {
        "duration": 20,
        "start_time": "2022-10-29T23:26:56.895Z"
      },
      {
        "duration": 47,
        "start_time": "2022-10-29T23:26:56.917Z"
      },
      {
        "duration": 32,
        "start_time": "2022-10-29T23:26:56.966Z"
      },
      {
        "duration": 6,
        "start_time": "2022-10-29T23:26:57.001Z"
      },
      {
        "duration": 47,
        "start_time": "2022-10-29T23:26:57.009Z"
      },
      {
        "duration": 21,
        "start_time": "2022-10-29T23:26:57.057Z"
      },
      {
        "duration": 6,
        "start_time": "2022-10-29T23:26:57.080Z"
      },
      {
        "duration": 69,
        "start_time": "2022-10-29T23:26:57.088Z"
      },
      {
        "duration": 156,
        "start_time": "2022-10-29T23:26:57.159Z"
      },
      {
        "duration": 11,
        "start_time": "2022-10-29T23:26:57.317Z"
      },
      {
        "duration": 162,
        "start_time": "2022-10-29T23:26:57.330Z"
      },
      {
        "duration": 3,
        "start_time": "2022-10-29T23:26:57.494Z"
      },
      {
        "duration": 28,
        "start_time": "2022-10-29T23:26:57.500Z"
      },
      {
        "duration": 153,
        "start_time": "2022-10-29T23:26:57.530Z"
      },
      {
        "duration": 14,
        "start_time": "2022-10-29T23:26:57.685Z"
      },
      {
        "duration": 10,
        "start_time": "2022-10-29T23:26:57.702Z"
      },
      {
        "duration": 185,
        "start_time": "2022-10-29T23:26:57.714Z"
      },
      {
        "duration": 17,
        "start_time": "2022-10-29T23:26:57.901Z"
      },
      {
        "duration": 136,
        "start_time": "2022-10-29T23:26:57.920Z"
      },
      {
        "duration": 158,
        "start_time": "2022-10-29T23:26:58.058Z"
      },
      {
        "duration": 6,
        "start_time": "2022-10-29T23:26:58.218Z"
      },
      {
        "duration": 28,
        "start_time": "2022-10-29T23:26:58.226Z"
      },
      {
        "duration": 9,
        "start_time": "2022-10-29T23:26:58.257Z"
      },
      {
        "duration": 15,
        "start_time": "2022-10-29T23:26:58.268Z"
      },
      {
        "duration": 14,
        "start_time": "2022-10-29T23:26:58.285Z"
      },
      {
        "duration": 17,
        "start_time": "2022-10-29T23:26:58.301Z"
      },
      {
        "duration": 42,
        "start_time": "2022-10-29T23:26:58.320Z"
      },
      {
        "duration": 78,
        "start_time": "2022-10-29T23:28:52.803Z"
      },
      {
        "duration": 19,
        "start_time": "2022-10-29T23:28:52.884Z"
      },
      {
        "duration": 24,
        "start_time": "2022-10-29T23:28:52.905Z"
      },
      {
        "duration": 15,
        "start_time": "2022-10-29T23:28:52.954Z"
      },
      {
        "duration": 9,
        "start_time": "2022-10-29T23:28:52.971Z"
      },
      {
        "duration": 21,
        "start_time": "2022-10-29T23:28:52.982Z"
      },
      {
        "duration": 50,
        "start_time": "2022-10-29T23:28:53.005Z"
      },
      {
        "duration": 21,
        "start_time": "2022-10-29T23:28:53.057Z"
      },
      {
        "duration": 12,
        "start_time": "2022-10-29T23:28:53.081Z"
      },
      {
        "duration": 16,
        "start_time": "2022-10-29T23:28:53.098Z"
      },
      {
        "duration": 11,
        "start_time": "2022-10-29T23:28:53.155Z"
      },
      {
        "duration": 52,
        "start_time": "2022-10-29T23:28:53.168Z"
      },
      {
        "duration": 5,
        "start_time": "2022-10-29T23:28:53.255Z"
      },
      {
        "duration": 17,
        "start_time": "2022-10-29T23:28:53.262Z"
      },
      {
        "duration": 6,
        "start_time": "2022-10-29T23:28:53.282Z"
      },
      {
        "duration": 9,
        "start_time": "2022-10-29T23:28:53.289Z"
      },
      {
        "duration": 8,
        "start_time": "2022-10-29T23:28:53.301Z"
      },
      {
        "duration": 46,
        "start_time": "2022-10-29T23:28:53.312Z"
      },
      {
        "duration": 46,
        "start_time": "2022-10-29T23:28:53.360Z"
      },
      {
        "duration": 11,
        "start_time": "2022-10-29T23:28:53.408Z"
      },
      {
        "duration": 33,
        "start_time": "2022-10-29T23:28:53.421Z"
      },
      {
        "duration": 18,
        "start_time": "2022-10-29T23:28:53.457Z"
      },
      {
        "duration": 31,
        "start_time": "2022-10-29T23:28:53.477Z"
      },
      {
        "duration": 21,
        "start_time": "2022-10-29T23:28:53.510Z"
      },
      {
        "duration": 21,
        "start_time": "2022-10-29T23:28:53.533Z"
      },
      {
        "duration": 14,
        "start_time": "2022-10-29T23:28:53.556Z"
      },
      {
        "duration": 11,
        "start_time": "2022-10-29T23:28:53.572Z"
      },
      {
        "duration": 4,
        "start_time": "2022-10-29T23:28:53.588Z"
      },
      {
        "duration": 21,
        "start_time": "2022-10-29T23:28:53.594Z"
      },
      {
        "duration": 8,
        "start_time": "2022-10-29T23:28:53.616Z"
      },
      {
        "duration": 45,
        "start_time": "2022-10-29T23:28:53.626Z"
      },
      {
        "duration": 27,
        "start_time": "2022-10-29T23:28:53.674Z"
      },
      {
        "duration": 6,
        "start_time": "2022-10-29T23:28:53.703Z"
      },
      {
        "duration": 9,
        "start_time": "2022-10-29T23:28:53.712Z"
      },
      {
        "duration": 14,
        "start_time": "2022-10-29T23:28:53.755Z"
      },
      {
        "duration": 20,
        "start_time": "2022-10-29T23:28:53.771Z"
      },
      {
        "duration": 25,
        "start_time": "2022-10-29T23:28:53.793Z"
      },
      {
        "duration": 18,
        "start_time": "2022-10-29T23:28:53.821Z"
      },
      {
        "duration": 20,
        "start_time": "2022-10-29T23:28:53.841Z"
      },
      {
        "duration": 30,
        "start_time": "2022-10-29T23:28:53.864Z"
      },
      {
        "duration": 18,
        "start_time": "2022-10-29T23:28:53.896Z"
      },
      {
        "duration": 39,
        "start_time": "2022-10-29T23:28:53.917Z"
      },
      {
        "duration": 17,
        "start_time": "2022-10-29T23:28:53.958Z"
      },
      {
        "duration": 35,
        "start_time": "2022-10-29T23:28:53.977Z"
      },
      {
        "duration": 19,
        "start_time": "2022-10-29T23:28:54.014Z"
      },
      {
        "duration": 22,
        "start_time": "2022-10-29T23:28:54.035Z"
      },
      {
        "duration": 29,
        "start_time": "2022-10-29T23:28:54.059Z"
      },
      {
        "duration": 17,
        "start_time": "2022-10-29T23:28:54.091Z"
      },
      {
        "duration": 12,
        "start_time": "2022-10-29T23:28:54.111Z"
      },
      {
        "duration": 31,
        "start_time": "2022-10-29T23:28:54.125Z"
      },
      {
        "duration": 13,
        "start_time": "2022-10-29T23:28:54.159Z"
      },
      {
        "duration": 25,
        "start_time": "2022-10-29T23:28:54.175Z"
      },
      {
        "duration": 17,
        "start_time": "2022-10-29T23:28:54.201Z"
      },
      {
        "duration": 39,
        "start_time": "2022-10-29T23:28:54.220Z"
      },
      {
        "duration": 34,
        "start_time": "2022-10-29T23:28:54.261Z"
      },
      {
        "duration": 6,
        "start_time": "2022-10-29T23:28:54.297Z"
      },
      {
        "duration": 64,
        "start_time": "2022-10-29T23:28:54.306Z"
      },
      {
        "duration": 172,
        "start_time": "2022-10-29T23:28:54.373Z"
      },
      {
        "duration": 16,
        "start_time": "2022-10-29T23:28:54.547Z"
      },
      {
        "duration": 181,
        "start_time": "2022-10-29T23:28:54.566Z"
      },
      {
        "duration": 7,
        "start_time": "2022-10-29T23:28:54.749Z"
      },
      {
        "duration": 47,
        "start_time": "2022-10-29T23:28:54.757Z"
      },
      {
        "duration": 214,
        "start_time": "2022-10-29T23:28:54.806Z"
      },
      {
        "duration": 14,
        "start_time": "2022-10-29T23:28:55.022Z"
      },
      {
        "duration": 28,
        "start_time": "2022-10-29T23:28:55.038Z"
      },
      {
        "duration": 191,
        "start_time": "2022-10-29T23:28:55.068Z"
      },
      {
        "duration": 13,
        "start_time": "2022-10-29T23:28:55.260Z"
      },
      {
        "duration": 143,
        "start_time": "2022-10-29T23:28:55.275Z"
      },
      {
        "duration": 224,
        "start_time": "2022-10-29T23:28:55.420Z"
      },
      {
        "duration": 9,
        "start_time": "2022-10-29T23:28:55.647Z"
      },
      {
        "duration": 43,
        "start_time": "2022-10-29T23:28:55.658Z"
      },
      {
        "duration": 47,
        "start_time": "2022-10-29T23:28:55.703Z"
      },
      {
        "duration": 25,
        "start_time": "2022-10-29T23:28:55.753Z"
      },
      {
        "duration": 39,
        "start_time": "2022-10-29T23:28:55.781Z"
      },
      {
        "duration": 34,
        "start_time": "2022-10-29T23:28:55.822Z"
      },
      {
        "duration": 63,
        "start_time": "2022-10-29T23:28:55.858Z"
      },
      {
        "duration": 15,
        "start_time": "2022-10-30T00:00:03.644Z"
      },
      {
        "duration": 166,
        "start_time": "2022-10-30T00:15:31.760Z"
      },
      {
        "duration": 23,
        "start_time": "2022-10-30T00:15:59.848Z"
      },
      {
        "duration": 122,
        "start_time": "2022-10-30T00:17:04.200Z"
      },
      {
        "duration": 10,
        "start_time": "2022-10-30T00:29:12.313Z"
      },
      {
        "duration": 41,
        "start_time": "2022-10-30T00:29:45.562Z"
      },
      {
        "duration": 10,
        "start_time": "2022-10-30T00:29:54.586Z"
      },
      {
        "duration": 10,
        "start_time": "2022-10-30T00:30:02.278Z"
      },
      {
        "duration": 11,
        "start_time": "2022-10-30T00:30:08.665Z"
      },
      {
        "duration": 58,
        "start_time": "2022-10-30T00:47:59.719Z"
      },
      {
        "duration": 41,
        "start_time": "2022-10-30T00:49:00.931Z"
      },
      {
        "duration": 43,
        "start_time": "2022-10-30T00:54:23.319Z"
      },
      {
        "duration": 30,
        "start_time": "2022-10-30T00:55:17.899Z"
      },
      {
        "duration": 16,
        "start_time": "2022-10-30T00:55:43.921Z"
      },
      {
        "duration": 10,
        "start_time": "2022-10-30T00:58:32.027Z"
      },
      {
        "duration": 9,
        "start_time": "2022-10-30T00:58:34.435Z"
      },
      {
        "duration": 12,
        "start_time": "2022-10-30T00:58:36.813Z"
      },
      {
        "duration": 8,
        "start_time": "2022-10-30T00:58:39.412Z"
      },
      {
        "duration": 12,
        "start_time": "2022-10-30T00:58:49.017Z"
      },
      {
        "duration": 7,
        "start_time": "2022-10-30T01:01:28.421Z"
      },
      {
        "duration": 36,
        "start_time": "2022-10-30T01:06:36.768Z"
      },
      {
        "duration": 8,
        "start_time": "2022-10-30T01:08:31.749Z"
      },
      {
        "duration": 48,
        "start_time": "2022-10-30T01:08:48.615Z"
      },
      {
        "duration": 22,
        "start_time": "2022-10-30T01:09:10.604Z"
      },
      {
        "duration": 12,
        "start_time": "2022-10-30T01:09:39.713Z"
      },
      {
        "duration": 11,
        "start_time": "2022-10-30T01:10:46.016Z"
      },
      {
        "duration": 14,
        "start_time": "2022-10-30T01:11:13.604Z"
      },
      {
        "duration": 17,
        "start_time": "2022-10-30T01:11:49.804Z"
      },
      {
        "duration": 10,
        "start_time": "2022-10-30T01:13:21.687Z"
      },
      {
        "duration": 13,
        "start_time": "2022-10-30T01:13:30.357Z"
      },
      {
        "duration": 10,
        "start_time": "2022-10-30T01:14:15.640Z"
      },
      {
        "duration": 13,
        "start_time": "2022-10-30T01:14:48.680Z"
      },
      {
        "duration": 115,
        "start_time": "2022-10-30T01:14:58.242Z"
      },
      {
        "duration": 133,
        "start_time": "2022-10-30T01:15:11.828Z"
      },
      {
        "duration": 128,
        "start_time": "2022-10-30T01:15:21.046Z"
      },
      {
        "duration": 125,
        "start_time": "2022-10-30T01:15:30.091Z"
      },
      {
        "duration": 44,
        "start_time": "2022-10-30T01:18:00.442Z"
      },
      {
        "duration": 10,
        "start_time": "2022-10-30T01:19:37.094Z"
      },
      {
        "duration": 8,
        "start_time": "2022-10-30T01:20:07.353Z"
      },
      {
        "duration": 6,
        "start_time": "2022-10-30T01:20:34.086Z"
      },
      {
        "duration": 15,
        "start_time": "2022-10-30T01:20:47.584Z"
      },
      {
        "duration": 11,
        "start_time": "2022-10-30T01:22:58.249Z"
      },
      {
        "duration": 127,
        "start_time": "2022-10-30T01:23:50.377Z"
      },
      {
        "duration": 133,
        "start_time": "2022-10-30T01:24:19.039Z"
      },
      {
        "duration": 16,
        "start_time": "2022-10-30T01:37:07.379Z"
      },
      {
        "duration": 24,
        "start_time": "2022-10-30T01:37:16.786Z"
      },
      {
        "duration": 12,
        "start_time": "2022-10-30T01:38:46.827Z"
      },
      {
        "duration": 5,
        "start_time": "2022-10-30T01:40:09.630Z"
      },
      {
        "duration": 5,
        "start_time": "2022-10-30T01:40:22.494Z"
      },
      {
        "duration": 8,
        "start_time": "2022-10-30T01:40:37.160Z"
      },
      {
        "duration": 773,
        "start_time": "2022-10-30T08:59:29.814Z"
      },
      {
        "duration": 23,
        "start_time": "2022-10-30T08:59:30.589Z"
      },
      {
        "duration": 20,
        "start_time": "2022-10-30T08:59:30.614Z"
      },
      {
        "duration": 27,
        "start_time": "2022-10-30T08:59:30.636Z"
      },
      {
        "duration": 18,
        "start_time": "2022-10-30T08:59:30.665Z"
      },
      {
        "duration": 29,
        "start_time": "2022-10-30T08:59:30.685Z"
      },
      {
        "duration": 12,
        "start_time": "2022-10-30T08:59:30.716Z"
      },
      {
        "duration": 28,
        "start_time": "2022-10-30T08:59:30.730Z"
      },
      {
        "duration": 18,
        "start_time": "2022-10-30T08:59:30.759Z"
      },
      {
        "duration": 26,
        "start_time": "2022-10-30T08:59:30.780Z"
      },
      {
        "duration": 27,
        "start_time": "2022-10-30T08:59:30.808Z"
      },
      {
        "duration": 46,
        "start_time": "2022-10-30T08:59:30.837Z"
      },
      {
        "duration": 4,
        "start_time": "2022-10-30T08:59:30.884Z"
      },
      {
        "duration": 24,
        "start_time": "2022-10-30T08:59:30.889Z"
      },
      {
        "duration": 10,
        "start_time": "2022-10-30T08:59:30.915Z"
      },
      {
        "duration": 14,
        "start_time": "2022-10-30T08:59:30.927Z"
      },
      {
        "duration": 9,
        "start_time": "2022-10-30T08:59:30.942Z"
      },
      {
        "duration": 11,
        "start_time": "2022-10-30T08:59:30.952Z"
      },
      {
        "duration": 33,
        "start_time": "2022-10-30T08:59:30.964Z"
      },
      {
        "duration": 13,
        "start_time": "2022-10-30T08:59:30.999Z"
      },
      {
        "duration": 8,
        "start_time": "2022-10-30T08:59:31.014Z"
      },
      {
        "duration": 20,
        "start_time": "2022-10-30T08:59:31.024Z"
      },
      {
        "duration": 28,
        "start_time": "2022-10-30T08:59:31.046Z"
      },
      {
        "duration": 19,
        "start_time": "2022-10-30T08:59:31.075Z"
      },
      {
        "duration": 25,
        "start_time": "2022-10-30T08:59:31.095Z"
      },
      {
        "duration": 49,
        "start_time": "2022-10-30T08:59:31.122Z"
      },
      {
        "duration": 16,
        "start_time": "2022-10-30T08:59:31.173Z"
      },
      {
        "duration": 5,
        "start_time": "2022-10-30T08:59:31.193Z"
      },
      {
        "duration": 25,
        "start_time": "2022-10-30T08:59:31.199Z"
      },
      {
        "duration": 11,
        "start_time": "2022-10-30T08:59:31.226Z"
      },
      {
        "duration": 27,
        "start_time": "2022-10-30T08:59:31.239Z"
      },
      {
        "duration": 23,
        "start_time": "2022-10-30T08:59:31.267Z"
      },
      {
        "duration": 12,
        "start_time": "2022-10-30T08:59:31.292Z"
      },
      {
        "duration": 14,
        "start_time": "2022-10-30T08:59:31.306Z"
      },
      {
        "duration": 23,
        "start_time": "2022-10-30T08:59:31.322Z"
      },
      {
        "duration": 10,
        "start_time": "2022-10-30T08:59:31.346Z"
      },
      {
        "duration": 6,
        "start_time": "2022-10-30T08:59:31.357Z"
      },
      {
        "duration": 8,
        "start_time": "2022-10-30T08:59:31.365Z"
      },
      {
        "duration": 7,
        "start_time": "2022-10-30T08:59:31.375Z"
      },
      {
        "duration": 17,
        "start_time": "2022-10-30T08:59:31.384Z"
      },
      {
        "duration": 18,
        "start_time": "2022-10-30T08:59:31.402Z"
      },
      {
        "duration": 33,
        "start_time": "2022-10-30T08:59:31.422Z"
      },
      {
        "duration": 4,
        "start_time": "2022-10-30T08:59:31.456Z"
      },
      {
        "duration": 29,
        "start_time": "2022-10-30T08:59:31.462Z"
      },
      {
        "duration": 23,
        "start_time": "2022-10-30T08:59:31.493Z"
      },
      {
        "duration": 12,
        "start_time": "2022-10-30T08:59:31.517Z"
      },
      {
        "duration": 15,
        "start_time": "2022-10-30T08:59:31.530Z"
      },
      {
        "duration": 10,
        "start_time": "2022-10-30T08:59:31.547Z"
      },
      {
        "duration": 10,
        "start_time": "2022-10-30T08:59:31.559Z"
      },
      {
        "duration": 22,
        "start_time": "2022-10-30T08:59:31.571Z"
      },
      {
        "duration": 12,
        "start_time": "2022-10-30T08:59:31.594Z"
      },
      {
        "duration": 11,
        "start_time": "2022-10-30T08:59:31.609Z"
      },
      {
        "duration": 26,
        "start_time": "2022-10-30T08:59:31.622Z"
      },
      {
        "duration": 17,
        "start_time": "2022-10-30T08:59:31.649Z"
      },
      {
        "duration": 13,
        "start_time": "2022-10-30T08:59:31.667Z"
      },
      {
        "duration": 18,
        "start_time": "2022-10-30T08:59:31.683Z"
      },
      {
        "duration": 18,
        "start_time": "2022-10-30T08:59:31.702Z"
      },
      {
        "duration": 10,
        "start_time": "2022-10-30T08:59:31.722Z"
      },
      {
        "duration": 9,
        "start_time": "2022-10-30T08:59:31.734Z"
      },
      {
        "duration": 21,
        "start_time": "2022-10-30T08:59:31.745Z"
      },
      {
        "duration": 531,
        "start_time": "2022-10-30T08:59:31.768Z"
      },
      {
        "duration": 9,
        "start_time": "2022-10-30T08:59:32.301Z"
      },
      {
        "duration": 18,
        "start_time": "2022-10-30T08:59:32.311Z"
      },
      {
        "duration": 110,
        "start_time": "2022-10-30T08:59:32.330Z"
      },
      {
        "duration": 9,
        "start_time": "2022-10-30T08:59:32.441Z"
      },
      {
        "duration": 117,
        "start_time": "2022-10-30T08:59:32.451Z"
      },
      {
        "duration": 11,
        "start_time": "2022-10-30T08:59:32.569Z"
      },
      {
        "duration": 140,
        "start_time": "2022-10-30T08:59:32.581Z"
      },
      {
        "duration": 8,
        "start_time": "2022-10-30T08:59:32.722Z"
      },
      {
        "duration": 10,
        "start_time": "2022-10-30T08:59:32.732Z"
      },
      {
        "duration": 167,
        "start_time": "2022-10-30T08:59:32.744Z"
      },
      {
        "duration": 5,
        "start_time": "2022-10-30T08:59:32.912Z"
      },
      {
        "duration": 10,
        "start_time": "2022-10-30T08:59:32.919Z"
      },
      {
        "duration": 11,
        "start_time": "2022-10-30T08:59:32.930Z"
      },
      {
        "duration": 10,
        "start_time": "2022-10-30T08:59:32.942Z"
      },
      {
        "duration": 8,
        "start_time": "2022-10-30T08:59:32.954Z"
      },
      {
        "duration": 9,
        "start_time": "2022-10-30T08:59:32.963Z"
      },
      {
        "duration": 41,
        "start_time": "2022-10-30T08:59:32.973Z"
      },
      {
        "duration": 6,
        "start_time": "2022-10-30T09:09:55.295Z"
      },
      {
        "duration": 7,
        "start_time": "2022-10-30T09:10:19.088Z"
      },
      {
        "duration": 8,
        "start_time": "2022-10-30T09:10:31.633Z"
      },
      {
        "duration": 9,
        "start_time": "2022-10-30T09:10:41.784Z"
      },
      {
        "duration": 9,
        "start_time": "2022-10-30T09:11:18.675Z"
      },
      {
        "duration": 90,
        "start_time": "2022-10-30T09:12:33.956Z"
      },
      {
        "duration": 7,
        "start_time": "2022-10-30T09:12:42.342Z"
      },
      {
        "duration": 10,
        "start_time": "2022-10-30T09:13:28.972Z"
      },
      {
        "duration": 146,
        "start_time": "2022-10-30T09:18:49.586Z"
      },
      {
        "duration": 14,
        "start_time": "2022-10-30T09:22:02.461Z"
      },
      {
        "duration": 9,
        "start_time": "2022-10-30T09:22:25.037Z"
      },
      {
        "duration": 8,
        "start_time": "2022-10-30T09:22:46.990Z"
      },
      {
        "duration": 7,
        "start_time": "2022-10-30T09:22:59.480Z"
      },
      {
        "duration": 7,
        "start_time": "2022-10-30T09:23:34.171Z"
      },
      {
        "duration": 10,
        "start_time": "2022-10-30T09:23:43.140Z"
      },
      {
        "duration": 8,
        "start_time": "2022-10-30T09:23:48.030Z"
      },
      {
        "duration": 8,
        "start_time": "2022-10-30T09:23:59.049Z"
      },
      {
        "duration": 8,
        "start_time": "2022-10-30T09:24:03.654Z"
      },
      {
        "duration": 7,
        "start_time": "2022-10-30T09:24:31.647Z"
      },
      {
        "duration": 9,
        "start_time": "2022-10-30T09:24:36.255Z"
      },
      {
        "duration": 7,
        "start_time": "2022-10-30T09:24:41.386Z"
      },
      {
        "duration": 11,
        "start_time": "2022-10-30T09:24:45.221Z"
      },
      {
        "duration": 77,
        "start_time": "2022-10-30T11:42:33.288Z"
      },
      {
        "duration": 828,
        "start_time": "2022-10-30T11:43:19.943Z"
      },
      {
        "duration": 25,
        "start_time": "2022-10-30T11:43:20.773Z"
      },
      {
        "duration": 23,
        "start_time": "2022-10-30T11:43:20.800Z"
      },
      {
        "duration": 10,
        "start_time": "2022-10-30T11:43:20.826Z"
      },
      {
        "duration": 19,
        "start_time": "2022-10-30T11:43:20.854Z"
      },
      {
        "duration": 29,
        "start_time": "2022-10-30T11:43:20.875Z"
      },
      {
        "duration": 19,
        "start_time": "2022-10-30T11:43:20.906Z"
      },
      {
        "duration": 31,
        "start_time": "2022-10-30T11:43:20.927Z"
      },
      {
        "duration": 9,
        "start_time": "2022-10-30T11:43:20.960Z"
      },
      {
        "duration": 25,
        "start_time": "2022-10-30T11:43:20.973Z"
      },
      {
        "duration": 21,
        "start_time": "2022-10-30T11:43:21.000Z"
      },
      {
        "duration": 42,
        "start_time": "2022-10-30T11:43:21.023Z"
      },
      {
        "duration": 4,
        "start_time": "2022-10-30T11:43:21.067Z"
      },
      {
        "duration": 18,
        "start_time": "2022-10-30T11:43:21.072Z"
      },
      {
        "duration": 34,
        "start_time": "2022-10-30T11:43:21.092Z"
      },
      {
        "duration": 28,
        "start_time": "2022-10-30T11:43:21.128Z"
      },
      {
        "duration": 17,
        "start_time": "2022-10-30T11:43:21.158Z"
      },
      {
        "duration": 9,
        "start_time": "2022-10-30T11:43:21.177Z"
      },
      {
        "duration": 53,
        "start_time": "2022-10-30T11:43:21.189Z"
      },
      {
        "duration": 21,
        "start_time": "2022-10-30T11:43:21.245Z"
      },
      {
        "duration": 5,
        "start_time": "2022-10-30T11:43:21.269Z"
      },
      {
        "duration": 19,
        "start_time": "2022-10-30T11:43:21.276Z"
      },
      {
        "duration": 31,
        "start_time": "2022-10-30T11:43:21.298Z"
      },
      {
        "duration": 30,
        "start_time": "2022-10-30T11:43:21.354Z"
      },
      {
        "duration": 6,
        "start_time": "2022-10-30T11:43:21.386Z"
      },
      {
        "duration": 22,
        "start_time": "2022-10-30T11:43:21.394Z"
      },
      {
        "duration": 8,
        "start_time": "2022-10-30T11:43:21.419Z"
      },
      {
        "duration": 4,
        "start_time": "2022-10-30T11:43:21.462Z"
      },
      {
        "duration": 47,
        "start_time": "2022-10-30T11:43:21.470Z"
      },
      {
        "duration": 11,
        "start_time": "2022-10-30T11:43:21.522Z"
      },
      {
        "duration": 45,
        "start_time": "2022-10-30T11:43:21.535Z"
      },
      {
        "duration": 40,
        "start_time": "2022-10-30T11:43:21.582Z"
      },
      {
        "duration": 15,
        "start_time": "2022-10-30T11:43:21.624Z"
      },
      {
        "duration": 42,
        "start_time": "2022-10-30T11:43:21.642Z"
      },
      {
        "duration": 37,
        "start_time": "2022-10-30T11:43:21.685Z"
      },
      {
        "duration": 12,
        "start_time": "2022-10-30T11:43:21.724Z"
      },
      {
        "duration": 10,
        "start_time": "2022-10-30T11:43:21.738Z"
      },
      {
        "duration": 20,
        "start_time": "2022-10-30T11:43:21.750Z"
      },
      {
        "duration": 20,
        "start_time": "2022-10-30T11:43:21.772Z"
      },
      {
        "duration": 13,
        "start_time": "2022-10-30T11:43:21.794Z"
      },
      {
        "duration": 7,
        "start_time": "2022-10-30T11:43:21.809Z"
      },
      {
        "duration": 14,
        "start_time": "2022-10-30T11:43:21.817Z"
      },
      {
        "duration": 11,
        "start_time": "2022-10-30T11:43:21.834Z"
      },
      {
        "duration": 18,
        "start_time": "2022-10-30T11:43:21.848Z"
      },
      {
        "duration": 5,
        "start_time": "2022-10-30T11:43:21.869Z"
      },
      {
        "duration": 11,
        "start_time": "2022-10-30T11:43:21.876Z"
      },
      {
        "duration": 14,
        "start_time": "2022-10-30T11:43:21.889Z"
      },
      {
        "duration": 6,
        "start_time": "2022-10-30T11:43:21.904Z"
      },
      {
        "duration": 6,
        "start_time": "2022-10-30T11:43:21.912Z"
      },
      {
        "duration": 41,
        "start_time": "2022-10-30T11:43:21.920Z"
      },
      {
        "duration": 12,
        "start_time": "2022-10-30T11:43:21.963Z"
      },
      {
        "duration": 16,
        "start_time": "2022-10-30T11:43:21.977Z"
      },
      {
        "duration": 20,
        "start_time": "2022-10-30T11:43:21.994Z"
      },
      {
        "duration": 12,
        "start_time": "2022-10-30T11:43:22.017Z"
      },
      {
        "duration": 14,
        "start_time": "2022-10-30T11:43:22.053Z"
      },
      {
        "duration": 13,
        "start_time": "2022-10-30T11:43:22.069Z"
      },
      {
        "duration": 14,
        "start_time": "2022-10-30T11:43:22.084Z"
      },
      {
        "duration": 4,
        "start_time": "2022-10-30T11:43:22.100Z"
      },
      {
        "duration": 13,
        "start_time": "2022-10-30T11:43:22.105Z"
      },
      {
        "duration": 562,
        "start_time": "2022-10-30T11:43:22.154Z"
      },
      {
        "duration": 6,
        "start_time": "2022-10-30T11:43:22.721Z"
      },
      {
        "duration": 41,
        "start_time": "2022-10-30T11:43:22.731Z"
      },
      {
        "duration": 155,
        "start_time": "2022-10-30T11:43:22.774Z"
      },
      {
        "duration": 28,
        "start_time": "2022-10-30T11:43:22.932Z"
      },
      {
        "duration": 46,
        "start_time": "2022-10-30T11:43:22.962Z"
      },
      {
        "duration": 0,
        "start_time": "2022-10-30T11:43:23.011Z"
      },
      {
        "duration": 0,
        "start_time": "2022-10-30T11:43:23.012Z"
      },
      {
        "duration": 0,
        "start_time": "2022-10-30T11:43:23.013Z"
      },
      {
        "duration": 0,
        "start_time": "2022-10-30T11:43:23.015Z"
      },
      {
        "duration": 0,
        "start_time": "2022-10-30T11:43:23.017Z"
      },
      {
        "duration": 0,
        "start_time": "2022-10-30T11:43:23.018Z"
      },
      {
        "duration": 0,
        "start_time": "2022-10-30T11:43:23.020Z"
      },
      {
        "duration": 0,
        "start_time": "2022-10-30T11:43:23.021Z"
      },
      {
        "duration": 0,
        "start_time": "2022-10-30T11:43:23.022Z"
      },
      {
        "duration": 0,
        "start_time": "2022-10-30T11:43:23.055Z"
      },
      {
        "duration": 0,
        "start_time": "2022-10-30T11:43:23.056Z"
      },
      {
        "duration": 0,
        "start_time": "2022-10-30T11:43:23.058Z"
      },
      {
        "duration": 0,
        "start_time": "2022-10-30T11:43:23.060Z"
      },
      {
        "duration": 0,
        "start_time": "2022-10-30T11:43:23.062Z"
      },
      {
        "duration": 0,
        "start_time": "2022-10-30T11:43:23.064Z"
      },
      {
        "duration": 0,
        "start_time": "2022-10-30T11:43:23.065Z"
      },
      {
        "duration": 0,
        "start_time": "2022-10-30T11:43:23.067Z"
      },
      {
        "duration": 0,
        "start_time": "2022-10-30T11:43:23.069Z"
      },
      {
        "duration": 0,
        "start_time": "2022-10-30T11:43:23.070Z"
      },
      {
        "duration": 78,
        "start_time": "2022-10-30T11:44:03.006Z"
      },
      {
        "duration": 16,
        "start_time": "2022-10-30T11:44:03.086Z"
      },
      {
        "duration": 26,
        "start_time": "2022-10-30T11:44:03.104Z"
      },
      {
        "duration": 26,
        "start_time": "2022-10-30T11:44:03.132Z"
      },
      {
        "duration": 7,
        "start_time": "2022-10-30T11:44:03.160Z"
      },
      {
        "duration": 21,
        "start_time": "2022-10-30T11:44:03.168Z"
      },
      {
        "duration": 22,
        "start_time": "2022-10-30T11:44:03.191Z"
      },
      {
        "duration": 47,
        "start_time": "2022-10-30T11:44:03.215Z"
      },
      {
        "duration": 9,
        "start_time": "2022-10-30T11:44:03.265Z"
      },
      {
        "duration": 17,
        "start_time": "2022-10-30T11:44:03.276Z"
      },
      {
        "duration": 24,
        "start_time": "2022-10-30T11:44:03.294Z"
      },
      {
        "duration": 57,
        "start_time": "2022-10-30T11:44:03.320Z"
      },
      {
        "duration": 5,
        "start_time": "2022-10-30T11:44:03.379Z"
      },
      {
        "duration": 15,
        "start_time": "2022-10-30T11:44:03.385Z"
      },
      {
        "duration": 6,
        "start_time": "2022-10-30T11:44:03.402Z"
      },
      {
        "duration": 18,
        "start_time": "2022-10-30T11:44:03.410Z"
      },
      {
        "duration": 8,
        "start_time": "2022-10-30T11:44:03.455Z"
      },
      {
        "duration": 14,
        "start_time": "2022-10-30T11:44:03.465Z"
      },
      {
        "duration": 52,
        "start_time": "2022-10-30T11:44:03.481Z"
      },
      {
        "duration": 27,
        "start_time": "2022-10-30T11:44:03.535Z"
      },
      {
        "duration": 6,
        "start_time": "2022-10-30T11:44:03.566Z"
      },
      {
        "duration": 14,
        "start_time": "2022-10-30T11:44:03.574Z"
      },
      {
        "duration": 25,
        "start_time": "2022-10-30T11:44:03.590Z"
      },
      {
        "duration": 51,
        "start_time": "2022-10-30T11:44:03.617Z"
      },
      {
        "duration": 5,
        "start_time": "2022-10-30T11:44:03.670Z"
      },
      {
        "duration": 25,
        "start_time": "2022-10-30T11:44:03.677Z"
      },
      {
        "duration": 18,
        "start_time": "2022-10-30T11:44:03.704Z"
      },
      {
        "duration": 8,
        "start_time": "2022-10-30T11:44:03.724Z"
      },
      {
        "duration": 28,
        "start_time": "2022-10-30T11:44:03.733Z"
      },
      {
        "duration": 14,
        "start_time": "2022-10-30T11:44:03.762Z"
      },
      {
        "duration": 55,
        "start_time": "2022-10-30T11:44:03.778Z"
      },
      {
        "duration": 24,
        "start_time": "2022-10-30T11:44:03.835Z"
      },
      {
        "duration": 5,
        "start_time": "2022-10-30T11:44:03.861Z"
      },
      {
        "duration": 10,
        "start_time": "2022-10-30T11:44:03.868Z"
      },
      {
        "duration": 12,
        "start_time": "2022-10-30T11:44:03.880Z"
      },
      {
        "duration": 11,
        "start_time": "2022-10-30T11:44:03.894Z"
      },
      {
        "duration": 7,
        "start_time": "2022-10-30T11:44:03.907Z"
      },
      {
        "duration": 55,
        "start_time": "2022-10-30T11:44:03.916Z"
      },
      {
        "duration": 24,
        "start_time": "2022-10-30T11:44:03.974Z"
      },
      {
        "duration": 21,
        "start_time": "2022-10-30T11:44:04.000Z"
      },
      {
        "duration": 8,
        "start_time": "2022-10-30T11:44:04.023Z"
      },
      {
        "duration": 26,
        "start_time": "2022-10-30T11:44:04.033Z"
      },
      {
        "duration": 14,
        "start_time": "2022-10-30T11:44:04.061Z"
      },
      {
        "duration": 19,
        "start_time": "2022-10-30T11:44:04.078Z"
      },
      {
        "duration": 7,
        "start_time": "2022-10-30T11:44:04.100Z"
      },
      {
        "duration": 12,
        "start_time": "2022-10-30T11:44:04.109Z"
      },
      {
        "duration": 31,
        "start_time": "2022-10-30T11:44:04.124Z"
      },
      {
        "duration": 6,
        "start_time": "2022-10-30T11:44:04.157Z"
      },
      {
        "duration": 11,
        "start_time": "2022-10-30T11:44:04.165Z"
      },
      {
        "duration": 26,
        "start_time": "2022-10-30T11:44:04.178Z"
      },
      {
        "duration": 14,
        "start_time": "2022-10-30T11:44:04.206Z"
      },
      {
        "duration": 32,
        "start_time": "2022-10-30T11:44:04.222Z"
      },
      {
        "duration": 23,
        "start_time": "2022-10-30T11:44:04.256Z"
      },
      {
        "duration": 23,
        "start_time": "2022-10-30T11:44:04.281Z"
      },
      {
        "duration": 19,
        "start_time": "2022-10-30T11:44:04.307Z"
      },
      {
        "duration": 11,
        "start_time": "2022-10-30T11:44:04.333Z"
      },
      {
        "duration": 13,
        "start_time": "2022-10-30T11:44:04.353Z"
      },
      {
        "duration": 4,
        "start_time": "2022-10-30T11:44:04.368Z"
      },
      {
        "duration": 23,
        "start_time": "2022-10-30T11:44:04.374Z"
      },
      {
        "duration": 135,
        "start_time": "2022-10-30T11:44:04.399Z"
      },
      {
        "duration": 4,
        "start_time": "2022-10-30T11:44:04.536Z"
      },
      {
        "duration": 38,
        "start_time": "2022-10-30T11:44:04.541Z"
      },
      {
        "duration": 191,
        "start_time": "2022-10-30T11:44:04.581Z"
      },
      {
        "duration": 16,
        "start_time": "2022-10-30T11:44:04.774Z"
      },
      {
        "duration": 8,
        "start_time": "2022-10-30T11:44:04.792Z"
      },
      {
        "duration": 15,
        "start_time": "2022-10-30T11:44:04.802Z"
      },
      {
        "duration": 145,
        "start_time": "2022-10-30T11:44:04.818Z"
      },
      {
        "duration": 15,
        "start_time": "2022-10-30T11:44:04.965Z"
      },
      {
        "duration": 162,
        "start_time": "2022-10-30T11:44:04.983Z"
      },
      {
        "duration": 10,
        "start_time": "2022-10-30T11:44:05.153Z"
      },
      {
        "duration": 15,
        "start_time": "2022-10-30T11:44:05.165Z"
      },
      {
        "duration": 8,
        "start_time": "2022-10-30T11:44:05.181Z"
      },
      {
        "duration": 18,
        "start_time": "2022-10-30T11:44:05.191Z"
      },
      {
        "duration": 8,
        "start_time": "2022-10-30T11:44:05.211Z"
      },
      {
        "duration": 3,
        "start_time": "2022-10-30T11:44:05.220Z"
      },
      {
        "duration": 12,
        "start_time": "2022-10-30T11:44:05.254Z"
      },
      {
        "duration": 141,
        "start_time": "2022-10-30T11:44:05.268Z"
      },
      {
        "duration": 6,
        "start_time": "2022-10-30T11:44:05.411Z"
      },
      {
        "duration": 8,
        "start_time": "2022-10-30T11:44:05.418Z"
      },
      {
        "duration": 28,
        "start_time": "2022-10-30T11:44:05.428Z"
      },
      {
        "duration": 17,
        "start_time": "2022-10-30T11:44:05.458Z"
      },
      {
        "duration": 24,
        "start_time": "2022-10-30T11:44:05.476Z"
      },
      {
        "duration": 17,
        "start_time": "2022-10-30T11:44:05.502Z"
      },
      {
        "duration": 32,
        "start_time": "2022-10-30T11:44:05.521Z"
      },
      {
        "duration": 11,
        "start_time": "2022-10-30T12:05:39.184Z"
      },
      {
        "duration": 26,
        "start_time": "2022-10-30T12:05:57.993Z"
      },
      {
        "duration": 51,
        "start_time": "2022-10-30T12:10:54.386Z"
      },
      {
        "duration": 17,
        "start_time": "2022-10-30T12:11:28.752Z"
      },
      {
        "duration": 18,
        "start_time": "2022-10-30T12:23:07.946Z"
      },
      {
        "duration": 15,
        "start_time": "2022-10-30T12:23:31.345Z"
      },
      {
        "duration": 5,
        "start_time": "2022-10-30T12:24:18.949Z"
      },
      {
        "duration": 8,
        "start_time": "2022-10-30T12:24:25.532Z"
      },
      {
        "duration": 14,
        "start_time": "2022-10-30T12:24:59.144Z"
      },
      {
        "duration": 7,
        "start_time": "2022-10-30T12:25:10.602Z"
      },
      {
        "duration": 9,
        "start_time": "2022-10-30T12:26:12.539Z"
      },
      {
        "duration": 8,
        "start_time": "2022-10-30T12:27:03.711Z"
      },
      {
        "duration": 25,
        "start_time": "2022-10-30T12:27:10.915Z"
      },
      {
        "duration": 38,
        "start_time": "2022-10-30T12:27:24.637Z"
      },
      {
        "duration": 30,
        "start_time": "2022-10-30T12:28:06.723Z"
      },
      {
        "duration": 43,
        "start_time": "2022-10-30T12:29:07.722Z"
      },
      {
        "duration": 29,
        "start_time": "2022-10-30T12:30:36.772Z"
      },
      {
        "duration": 3,
        "start_time": "2022-10-30T12:51:18.287Z"
      },
      {
        "duration": 35,
        "start_time": "2022-10-30T12:52:11.809Z"
      },
      {
        "duration": 36,
        "start_time": "2022-10-30T12:52:54.165Z"
      },
      {
        "duration": 37,
        "start_time": "2022-10-30T12:53:26.398Z"
      },
      {
        "duration": 36,
        "start_time": "2022-10-30T13:38:43.974Z"
      },
      {
        "duration": 37,
        "start_time": "2022-10-30T13:39:08.850Z"
      },
      {
        "duration": 55,
        "start_time": "2022-10-30T13:41:39.757Z"
      },
      {
        "duration": 20,
        "start_time": "2022-10-30T13:46:39.827Z"
      },
      {
        "duration": 19,
        "start_time": "2022-10-30T13:51:26.169Z"
      },
      {
        "duration": 31,
        "start_time": "2022-10-30T14:17:11.862Z"
      },
      {
        "duration": 14,
        "start_time": "2022-10-30T14:22:01.782Z"
      },
      {
        "duration": 28,
        "start_time": "2022-10-30T14:22:15.688Z"
      },
      {
        "duration": 6,
        "start_time": "2022-10-30T14:24:21.169Z"
      },
      {
        "duration": 10,
        "start_time": "2022-10-30T14:30:28.167Z"
      },
      {
        "duration": 25,
        "start_time": "2022-10-30T14:30:56.565Z"
      },
      {
        "duration": 66,
        "start_time": "2022-10-30T16:46:38.511Z"
      },
      {
        "duration": 39,
        "start_time": "2022-10-30T16:46:43.687Z"
      },
      {
        "duration": 28,
        "start_time": "2022-10-30T16:48:39.057Z"
      },
      {
        "duration": 28,
        "start_time": "2022-10-30T16:49:19.273Z"
      },
      {
        "duration": 23,
        "start_time": "2022-10-30T16:49:32.493Z"
      },
      {
        "duration": 25,
        "start_time": "2022-10-30T16:49:40.190Z"
      },
      {
        "duration": 37,
        "start_time": "2022-10-30T16:49:43.613Z"
      },
      {
        "duration": 27,
        "start_time": "2022-10-30T16:50:10.206Z"
      },
      {
        "duration": 18,
        "start_time": "2022-10-30T16:51:20.808Z"
      },
      {
        "duration": 23,
        "start_time": "2022-10-30T16:51:35.021Z"
      },
      {
        "duration": 63,
        "start_time": "2022-10-30T16:52:36.369Z"
      },
      {
        "duration": 898,
        "start_time": "2022-10-30T16:52:43.765Z"
      },
      {
        "duration": 820,
        "start_time": "2022-10-30T16:55:19.849Z"
      },
      {
        "duration": 737,
        "start_time": "2022-10-30T16:56:15.630Z"
      },
      {
        "duration": 295,
        "start_time": "2022-10-30T16:56:39.449Z"
      },
      {
        "duration": 24,
        "start_time": "2022-10-30T16:57:35.130Z"
      },
      {
        "duration": 744,
        "start_time": "2022-10-30T16:57:49.975Z"
      },
      {
        "duration": 15,
        "start_time": "2022-10-30T16:59:45.125Z"
      },
      {
        "duration": 14,
        "start_time": "2022-10-30T17:00:21.359Z"
      },
      {
        "duration": 13,
        "start_time": "2022-10-30T17:01:04.001Z"
      },
      {
        "duration": 11,
        "start_time": "2022-10-30T17:04:20.714Z"
      },
      {
        "duration": 5,
        "start_time": "2022-10-30T17:05:25.536Z"
      },
      {
        "duration": 15,
        "start_time": "2022-10-30T17:05:34.226Z"
      },
      {
        "duration": 14,
        "start_time": "2022-10-30T17:05:47.990Z"
      },
      {
        "duration": 53,
        "start_time": "2022-10-30T17:06:17.216Z"
      },
      {
        "duration": 4,
        "start_time": "2022-10-30T17:06:32.489Z"
      },
      {
        "duration": 4,
        "start_time": "2022-10-30T17:06:57.714Z"
      },
      {
        "duration": 9,
        "start_time": "2022-10-30T17:07:07.592Z"
      },
      {
        "duration": 19,
        "start_time": "2022-10-30T17:07:36.029Z"
      },
      {
        "duration": 24,
        "start_time": "2022-10-30T17:07:39.663Z"
      },
      {
        "duration": 27,
        "start_time": "2022-10-30T17:07:43.774Z"
      },
      {
        "duration": 28,
        "start_time": "2022-10-30T17:07:58.192Z"
      },
      {
        "duration": 259,
        "start_time": "2022-10-30T17:08:03.959Z"
      },
      {
        "duration": 33,
        "start_time": "2022-10-30T17:09:29.811Z"
      },
      {
        "duration": 311,
        "start_time": "2022-10-30T17:09:44.618Z"
      },
      {
        "duration": 29,
        "start_time": "2022-10-30T17:26:39.088Z"
      },
      {
        "duration": 334,
        "start_time": "2022-10-30T17:30:12.099Z"
      },
      {
        "duration": 286,
        "start_time": "2022-10-30T17:30:24.539Z"
      },
      {
        "duration": 311,
        "start_time": "2022-10-30T17:31:46.955Z"
      },
      {
        "duration": 340,
        "start_time": "2022-10-30T19:33:40.761Z"
      },
      {
        "duration": 318,
        "start_time": "2022-10-30T19:34:40.525Z"
      },
      {
        "duration": 746,
        "start_time": "2022-10-30T19:35:50.520Z"
      },
      {
        "duration": 786,
        "start_time": "2022-10-30T19:36:23.400Z"
      },
      {
        "duration": 279,
        "start_time": "2022-10-30T20:00:28.750Z"
      },
      {
        "duration": 19,
        "start_time": "2022-10-30T20:12:15.059Z"
      },
      {
        "duration": 361,
        "start_time": "2022-10-30T20:13:38.459Z"
      },
      {
        "duration": 277,
        "start_time": "2022-10-30T20:14:34.856Z"
      },
      {
        "duration": 19,
        "start_time": "2022-10-30T21:40:21.819Z"
      },
      {
        "duration": 20,
        "start_time": "2022-10-30T21:41:32.988Z"
      },
      {
        "duration": 19,
        "start_time": "2022-10-30T21:43:00.808Z"
      },
      {
        "duration": 29,
        "start_time": "2022-10-30T21:43:27.747Z"
      },
      {
        "duration": 17,
        "start_time": "2022-10-30T21:44:00.030Z"
      },
      {
        "duration": 19,
        "start_time": "2022-10-30T21:44:07.851Z"
      },
      {
        "duration": 5,
        "start_time": "2022-10-30T21:50:11.626Z"
      },
      {
        "duration": 28,
        "start_time": "2022-10-30T21:50:17.162Z"
      },
      {
        "duration": 27,
        "start_time": "2022-10-30T21:50:38.299Z"
      },
      {
        "duration": 32,
        "start_time": "2022-10-30T21:50:50.406Z"
      },
      {
        "duration": 32,
        "start_time": "2022-10-30T21:51:09.912Z"
      },
      {
        "duration": 36,
        "start_time": "2022-10-30T21:51:35.380Z"
      },
      {
        "duration": 31,
        "start_time": "2022-10-30T21:51:42.879Z"
      },
      {
        "duration": 29,
        "start_time": "2022-10-30T21:53:01.333Z"
      },
      {
        "duration": 28,
        "start_time": "2022-10-30T21:53:24.362Z"
      },
      {
        "duration": 23,
        "start_time": "2022-10-30T21:54:15.291Z"
      },
      {
        "duration": 33,
        "start_time": "2022-10-30T21:54:25.572Z"
      },
      {
        "duration": 43,
        "start_time": "2022-10-30T22:02:08.631Z"
      },
      {
        "duration": 27,
        "start_time": "2022-10-30T22:02:45.473Z"
      },
      {
        "duration": 336,
        "start_time": "2022-10-30T22:03:07.923Z"
      },
      {
        "duration": 55,
        "start_time": "2022-10-30T22:03:36.969Z"
      },
      {
        "duration": 19,
        "start_time": "2022-10-30T22:03:52.924Z"
      },
      {
        "duration": 30,
        "start_time": "2022-10-30T22:03:59.766Z"
      },
      {
        "duration": 31,
        "start_time": "2022-10-30T22:04:17.688Z"
      },
      {
        "duration": 28,
        "start_time": "2022-10-30T22:04:30.092Z"
      },
      {
        "duration": 287,
        "start_time": "2022-10-30T22:04:49.540Z"
      },
      {
        "duration": 27,
        "start_time": "2022-10-30T22:06:06.966Z"
      },
      {
        "duration": 37,
        "start_time": "2022-10-30T22:06:34.302Z"
      },
      {
        "duration": 16,
        "start_time": "2022-10-30T22:07:55.083Z"
      },
      {
        "duration": 27,
        "start_time": "2022-10-30T22:08:25.933Z"
      },
      {
        "duration": 30,
        "start_time": "2022-10-30T22:09:12.106Z"
      },
      {
        "duration": 27,
        "start_time": "2022-10-30T22:09:39.454Z"
      },
      {
        "duration": 38,
        "start_time": "2022-10-30T22:10:14.436Z"
      },
      {
        "duration": 41,
        "start_time": "2022-10-30T22:10:43.573Z"
      },
      {
        "duration": 124,
        "start_time": "2022-10-30T22:17:23.592Z"
      },
      {
        "duration": 107,
        "start_time": "2022-10-30T22:31:54.288Z"
      },
      {
        "duration": 110,
        "start_time": "2022-10-30T22:32:03.751Z"
      },
      {
        "duration": 109,
        "start_time": "2022-10-30T22:37:03.163Z"
      },
      {
        "duration": 18,
        "start_time": "2022-10-30T22:46:43.044Z"
      },
      {
        "duration": 20,
        "start_time": "2022-10-30T22:46:51.231Z"
      },
      {
        "duration": 19,
        "start_time": "2022-10-30T22:50:16.839Z"
      },
      {
        "duration": 15,
        "start_time": "2022-10-30T22:57:02.183Z"
      },
      {
        "duration": 55,
        "start_time": "2022-10-30T22:59:20.577Z"
      },
      {
        "duration": 44,
        "start_time": "2022-10-30T22:59:26.959Z"
      },
      {
        "duration": 128,
        "start_time": "2022-10-30T22:59:40.128Z"
      },
      {
        "duration": 156,
        "start_time": "2022-10-30T23:01:51.351Z"
      },
      {
        "duration": 96,
        "start_time": "2022-10-30T23:02:12.410Z"
      },
      {
        "duration": 10,
        "start_time": "2022-10-30T23:02:41.298Z"
      },
      {
        "duration": 113,
        "start_time": "2022-10-30T23:03:08.009Z"
      },
      {
        "duration": 9,
        "start_time": "2022-10-30T23:03:27.029Z"
      },
      {
        "duration": 16,
        "start_time": "2022-10-30T23:04:06.669Z"
      },
      {
        "duration": 13,
        "start_time": "2022-10-30T23:04:35.106Z"
      },
      {
        "duration": 12,
        "start_time": "2022-10-30T23:04:47.054Z"
      },
      {
        "duration": 126,
        "start_time": "2022-10-30T23:05:01.469Z"
      },
      {
        "duration": 124,
        "start_time": "2022-10-30T23:05:10.834Z"
      },
      {
        "duration": 116,
        "start_time": "2022-10-30T23:05:26.412Z"
      },
      {
        "duration": 244,
        "start_time": "2022-10-30T23:05:34.160Z"
      },
      {
        "duration": 114,
        "start_time": "2022-10-30T23:05:43.585Z"
      },
      {
        "duration": 105,
        "start_time": "2022-10-30T23:15:07.736Z"
      },
      {
        "duration": 13,
        "start_time": "2022-10-30T23:21:01.895Z"
      },
      {
        "duration": 29,
        "start_time": "2022-10-30T23:31:18.451Z"
      },
      {
        "duration": 28,
        "start_time": "2022-10-30T23:31:46.475Z"
      },
      {
        "duration": 23,
        "start_time": "2022-10-30T23:31:54.505Z"
      },
      {
        "duration": 32,
        "start_time": "2022-10-30T23:32:23.380Z"
      },
      {
        "duration": 33,
        "start_time": "2022-10-30T23:32:53.831Z"
      },
      {
        "duration": 30,
        "start_time": "2022-10-30T23:33:20.745Z"
      },
      {
        "duration": 33,
        "start_time": "2022-10-30T23:33:30.847Z"
      },
      {
        "duration": 30,
        "start_time": "2022-10-30T23:33:50.400Z"
      },
      {
        "duration": 32,
        "start_time": "2022-10-30T23:34:00.487Z"
      },
      {
        "duration": 32,
        "start_time": "2022-10-30T23:34:35.036Z"
      },
      {
        "duration": 28,
        "start_time": "2022-10-30T23:35:33.255Z"
      },
      {
        "duration": 28,
        "start_time": "2022-10-30T23:37:02.456Z"
      },
      {
        "duration": 29,
        "start_time": "2022-10-30T23:37:09.303Z"
      },
      {
        "duration": 32,
        "start_time": "2022-10-30T23:38:25.698Z"
      },
      {
        "duration": 30,
        "start_time": "2022-10-30T23:38:46.671Z"
      },
      {
        "duration": 31,
        "start_time": "2022-10-30T23:39:35.765Z"
      },
      {
        "duration": 41,
        "start_time": "2022-10-30T23:39:54.681Z"
      },
      {
        "duration": 32,
        "start_time": "2022-10-30T23:40:02.985Z"
      },
      {
        "duration": 28,
        "start_time": "2022-10-30T23:42:24.525Z"
      },
      {
        "duration": 460,
        "start_time": "2022-10-31T00:50:53.448Z"
      },
      {
        "duration": 20,
        "start_time": "2022-10-31T00:50:53.910Z"
      },
      {
        "duration": 13,
        "start_time": "2022-10-31T00:50:53.931Z"
      },
      {
        "duration": 9,
        "start_time": "2022-10-31T00:50:53.945Z"
      },
      {
        "duration": 5,
        "start_time": "2022-10-31T00:50:53.955Z"
      },
      {
        "duration": 13,
        "start_time": "2022-10-31T00:50:53.961Z"
      },
      {
        "duration": 11,
        "start_time": "2022-10-31T00:50:53.975Z"
      },
      {
        "duration": 40,
        "start_time": "2022-10-31T00:50:53.987Z"
      },
      {
        "duration": 5,
        "start_time": "2022-10-31T00:50:54.029Z"
      },
      {
        "duration": 9,
        "start_time": "2022-10-31T00:50:54.037Z"
      },
      {
        "duration": 5,
        "start_time": "2022-10-31T00:50:54.047Z"
      },
      {
        "duration": 31,
        "start_time": "2022-10-31T00:50:54.054Z"
      },
      {
        "duration": 3,
        "start_time": "2022-10-31T00:50:54.086Z"
      },
      {
        "duration": 39,
        "start_time": "2022-10-31T00:50:54.090Z"
      },
      {
        "duration": 4,
        "start_time": "2022-10-31T00:50:54.130Z"
      },
      {
        "duration": 6,
        "start_time": "2022-10-31T00:50:54.135Z"
      },
      {
        "duration": 5,
        "start_time": "2022-10-31T00:50:54.143Z"
      },
      {
        "duration": 8,
        "start_time": "2022-10-31T00:50:54.149Z"
      },
      {
        "duration": 37,
        "start_time": "2022-10-31T00:50:54.158Z"
      },
      {
        "duration": 8,
        "start_time": "2022-10-31T00:50:54.196Z"
      },
      {
        "duration": 3,
        "start_time": "2022-10-31T00:50:54.222Z"
      },
      {
        "duration": 11,
        "start_time": "2022-10-31T00:50:54.226Z"
      },
      {
        "duration": 17,
        "start_time": "2022-10-31T00:50:54.238Z"
      },
      {
        "duration": 15,
        "start_time": "2022-10-31T00:50:54.256Z"
      },
      {
        "duration": 3,
        "start_time": "2022-10-31T00:50:54.273Z"
      },
      {
        "duration": 16,
        "start_time": "2022-10-31T00:50:54.277Z"
      },
      {
        "duration": 29,
        "start_time": "2022-10-31T00:50:54.294Z"
      },
      {
        "duration": 3,
        "start_time": "2022-10-31T00:50:54.327Z"
      },
      {
        "duration": 13,
        "start_time": "2022-10-31T00:50:54.331Z"
      },
      {
        "duration": 6,
        "start_time": "2022-10-31T00:50:54.345Z"
      },
      {
        "duration": 16,
        "start_time": "2022-10-31T00:50:54.352Z"
      },
      {
        "duration": 13,
        "start_time": "2022-10-31T00:50:54.370Z"
      },
      {
        "duration": 3,
        "start_time": "2022-10-31T00:50:54.384Z"
      },
      {
        "duration": 8,
        "start_time": "2022-10-31T00:50:54.388Z"
      },
      {
        "duration": 27,
        "start_time": "2022-10-31T00:50:54.397Z"
      },
      {
        "duration": 8,
        "start_time": "2022-10-31T00:50:54.425Z"
      },
      {
        "duration": 5,
        "start_time": "2022-10-31T00:50:54.434Z"
      },
      {
        "duration": 5,
        "start_time": "2022-10-31T00:50:54.440Z"
      },
      {
        "duration": 4,
        "start_time": "2022-10-31T00:50:54.446Z"
      },
      {
        "duration": 8,
        "start_time": "2022-10-31T00:50:54.451Z"
      },
      {
        "duration": 5,
        "start_time": "2022-10-31T00:50:54.460Z"
      },
      {
        "duration": 12,
        "start_time": "2022-10-31T00:50:54.466Z"
      },
      {
        "duration": 44,
        "start_time": "2022-10-31T00:50:54.479Z"
      },
      {
        "duration": 11,
        "start_time": "2022-10-31T00:50:54.525Z"
      },
      {
        "duration": 4,
        "start_time": "2022-10-31T00:50:54.537Z"
      },
      {
        "duration": 7,
        "start_time": "2022-10-31T00:50:54.543Z"
      },
      {
        "duration": 10,
        "start_time": "2022-10-31T00:50:54.551Z"
      },
      {
        "duration": 5,
        "start_time": "2022-10-31T00:50:54.562Z"
      },
      {
        "duration": 4,
        "start_time": "2022-10-31T00:50:54.569Z"
      },
      {
        "duration": 13,
        "start_time": "2022-10-31T00:50:54.574Z"
      },
      {
        "duration": 42,
        "start_time": "2022-10-31T00:50:54.588Z"
      },
      {
        "duration": 9,
        "start_time": "2022-10-31T00:50:54.632Z"
      },
      {
        "duration": 14,
        "start_time": "2022-10-31T00:50:54.642Z"
      },
      {
        "duration": 22,
        "start_time": "2022-10-31T00:50:54.657Z"
      },
      {
        "duration": 17,
        "start_time": "2022-10-31T00:50:54.680Z"
      },
      {
        "duration": 11,
        "start_time": "2022-10-31T00:50:54.698Z"
      },
      {
        "duration": 20,
        "start_time": "2022-10-31T00:50:54.710Z"
      },
      {
        "duration": 4,
        "start_time": "2022-10-31T00:50:54.732Z"
      },
      {
        "duration": 20,
        "start_time": "2022-10-31T00:50:54.738Z"
      },
      {
        "duration": 306,
        "start_time": "2022-10-31T00:50:54.760Z"
      },
      {
        "duration": 3,
        "start_time": "2022-10-31T00:50:55.068Z"
      },
      {
        "duration": 44,
        "start_time": "2022-10-31T00:50:55.073Z"
      },
      {
        "duration": 105,
        "start_time": "2022-10-31T00:50:55.118Z"
      },
      {
        "duration": 29,
        "start_time": "2022-10-31T00:50:55.224Z"
      },
      {
        "duration": 27,
        "start_time": "2022-10-31T00:50:55.254Z"
      },
      {
        "duration": 42,
        "start_time": "2022-10-31T00:50:55.282Z"
      },
      {
        "duration": 105,
        "start_time": "2022-10-31T00:50:55.325Z"
      },
      {
        "duration": 10,
        "start_time": "2022-10-31T00:50:55.432Z"
      },
      {
        "duration": 118,
        "start_time": "2022-10-31T00:50:55.444Z"
      },
      {
        "duration": 14,
        "start_time": "2022-10-31T00:50:55.563Z"
      },
      {
        "duration": 171,
        "start_time": "2022-10-31T00:50:55.579Z"
      },
      {
        "duration": 119,
        "start_time": "2022-10-31T00:50:55.751Z"
      },
      {
        "duration": 10,
        "start_time": "2022-10-31T00:50:55.872Z"
      },
      {
        "duration": 105,
        "start_time": "2022-10-31T00:50:55.883Z"
      },
      {
        "duration": 9,
        "start_time": "2022-10-31T00:50:55.989Z"
      },
      {
        "duration": 7,
        "start_time": "2022-10-31T00:50:55.999Z"
      },
      {
        "duration": 22,
        "start_time": "2022-10-31T00:50:56.007Z"
      },
      {
        "duration": 8,
        "start_time": "2022-10-31T00:50:56.031Z"
      },
      {
        "duration": 8,
        "start_time": "2022-10-31T00:50:56.040Z"
      },
      {
        "duration": 9,
        "start_time": "2022-10-31T00:50:56.049Z"
      },
      {
        "duration": 16,
        "start_time": "2022-10-31T00:50:56.060Z"
      },
      {
        "duration": 43,
        "start_time": "2022-10-31T00:50:56.080Z"
      },
      {
        "duration": 59,
        "start_time": "2022-10-31T14:18:24.372Z"
      },
      {
        "duration": 697,
        "start_time": "2022-10-31T14:18:31.812Z"
      },
      {
        "duration": 22,
        "start_time": "2022-10-31T14:18:32.510Z"
      },
      {
        "duration": 21,
        "start_time": "2022-10-31T14:18:32.533Z"
      },
      {
        "duration": 21,
        "start_time": "2022-10-31T14:18:32.556Z"
      },
      {
        "duration": 13,
        "start_time": "2022-10-31T14:18:32.578Z"
      },
      {
        "duration": 37,
        "start_time": "2022-10-31T14:18:32.592Z"
      },
      {
        "duration": 16,
        "start_time": "2022-10-31T14:18:32.631Z"
      },
      {
        "duration": 20,
        "start_time": "2022-10-31T14:18:32.649Z"
      },
      {
        "duration": 14,
        "start_time": "2022-10-31T14:18:32.671Z"
      },
      {
        "duration": 25,
        "start_time": "2022-10-31T14:18:32.687Z"
      },
      {
        "duration": 14,
        "start_time": "2022-10-31T14:18:32.714Z"
      },
      {
        "duration": 45,
        "start_time": "2022-10-31T14:18:32.729Z"
      },
      {
        "duration": 3,
        "start_time": "2022-10-31T14:18:32.776Z"
      },
      {
        "duration": 27,
        "start_time": "2022-10-31T14:18:32.781Z"
      },
      {
        "duration": 16,
        "start_time": "2022-10-31T14:18:32.810Z"
      },
      {
        "duration": 10,
        "start_time": "2022-10-31T14:18:32.827Z"
      },
      {
        "duration": 10,
        "start_time": "2022-10-31T14:18:32.838Z"
      },
      {
        "duration": 17,
        "start_time": "2022-10-31T14:18:32.849Z"
      },
      {
        "duration": 45,
        "start_time": "2022-10-31T14:18:32.867Z"
      },
      {
        "duration": 10,
        "start_time": "2022-10-31T14:18:32.914Z"
      },
      {
        "duration": 5,
        "start_time": "2022-10-31T14:18:32.926Z"
      },
      {
        "duration": 12,
        "start_time": "2022-10-31T14:18:32.933Z"
      },
      {
        "duration": 22,
        "start_time": "2022-10-31T14:18:32.946Z"
      },
      {
        "duration": 40,
        "start_time": "2022-10-31T14:18:32.969Z"
      },
      {
        "duration": 4,
        "start_time": "2022-10-31T14:18:33.010Z"
      },
      {
        "duration": 12,
        "start_time": "2022-10-31T14:18:33.016Z"
      },
      {
        "duration": 9,
        "start_time": "2022-10-31T14:18:33.030Z"
      },
      {
        "duration": 3,
        "start_time": "2022-10-31T14:18:33.044Z"
      },
      {
        "duration": 10,
        "start_time": "2022-10-31T14:18:33.048Z"
      },
      {
        "duration": 4,
        "start_time": "2022-10-31T14:18:33.059Z"
      },
      {
        "duration": 45,
        "start_time": "2022-10-31T14:18:33.065Z"
      },
      {
        "duration": 17,
        "start_time": "2022-10-31T14:18:33.111Z"
      },
      {
        "duration": 5,
        "start_time": "2022-10-31T14:18:33.130Z"
      },
      {
        "duration": 8,
        "start_time": "2022-10-31T14:18:33.136Z"
      },
      {
        "duration": 9,
        "start_time": "2022-10-31T14:18:33.145Z"
      },
      {
        "duration": 9,
        "start_time": "2022-10-31T14:18:33.155Z"
      },
      {
        "duration": 6,
        "start_time": "2022-10-31T14:18:33.165Z"
      },
      {
        "duration": 38,
        "start_time": "2022-10-31T14:18:33.172Z"
      },
      {
        "duration": 7,
        "start_time": "2022-10-31T14:18:33.212Z"
      },
      {
        "duration": 17,
        "start_time": "2022-10-31T14:18:33.220Z"
      },
      {
        "duration": 7,
        "start_time": "2022-10-31T14:18:33.239Z"
      },
      {
        "duration": 24,
        "start_time": "2022-10-31T14:18:33.247Z"
      },
      {
        "duration": 7,
        "start_time": "2022-10-31T14:18:33.273Z"
      },
      {
        "duration": 30,
        "start_time": "2022-10-31T14:18:33.281Z"
      },
      {
        "duration": 5,
        "start_time": "2022-10-31T14:18:33.312Z"
      },
      {
        "duration": 11,
        "start_time": "2022-10-31T14:18:33.318Z"
      },
      {
        "duration": 9,
        "start_time": "2022-10-31T14:18:33.331Z"
      },
      {
        "duration": 11,
        "start_time": "2022-10-31T14:18:33.342Z"
      },
      {
        "duration": 16,
        "start_time": "2022-10-31T14:18:33.354Z"
      },
      {
        "duration": 19,
        "start_time": "2022-10-31T14:18:33.371Z"
      },
      {
        "duration": 18,
        "start_time": "2022-10-31T14:18:33.392Z"
      },
      {
        "duration": 18,
        "start_time": "2022-10-31T14:18:33.412Z"
      },
      {
        "duration": 17,
        "start_time": "2022-10-31T14:18:33.432Z"
      },
      {
        "duration": 23,
        "start_time": "2022-10-31T14:18:33.451Z"
      },
      {
        "duration": 15,
        "start_time": "2022-10-31T14:18:33.476Z"
      },
      {
        "duration": 18,
        "start_time": "2022-10-31T14:18:33.492Z"
      },
      {
        "duration": 15,
        "start_time": "2022-10-31T14:18:33.511Z"
      },
      {
        "duration": 11,
        "start_time": "2022-10-31T14:18:33.527Z"
      },
      {
        "duration": 26,
        "start_time": "2022-10-31T14:18:33.539Z"
      },
      {
        "duration": 524,
        "start_time": "2022-10-31T14:18:33.566Z"
      },
      {
        "duration": 4,
        "start_time": "2022-10-31T14:18:34.091Z"
      },
      {
        "duration": 28,
        "start_time": "2022-10-31T14:18:34.096Z"
      },
      {
        "duration": 104,
        "start_time": "2022-10-31T14:18:34.125Z"
      },
      {
        "duration": 30,
        "start_time": "2022-10-31T14:18:34.230Z"
      },
      {
        "duration": 49,
        "start_time": "2022-10-31T14:18:34.261Z"
      },
      {
        "duration": 25,
        "start_time": "2022-10-31T14:18:34.311Z"
      },
      {
        "duration": 127,
        "start_time": "2022-10-31T14:18:34.337Z"
      },
      {
        "duration": 13,
        "start_time": "2022-10-31T14:18:34.465Z"
      },
      {
        "duration": 157,
        "start_time": "2022-10-31T14:18:34.480Z"
      },
      {
        "duration": 13,
        "start_time": "2022-10-31T14:18:34.639Z"
      },
      {
        "duration": 169,
        "start_time": "2022-10-31T14:18:34.653Z"
      },
      {
        "duration": 121,
        "start_time": "2022-10-31T14:18:34.824Z"
      },
      {
        "duration": 9,
        "start_time": "2022-10-31T14:18:34.947Z"
      },
      {
        "duration": 113,
        "start_time": "2022-10-31T14:18:34.958Z"
      },
      {
        "duration": 5,
        "start_time": "2022-10-31T14:18:35.073Z"
      },
      {
        "duration": 96,
        "start_time": "2022-10-31T14:18:35.079Z"
      },
      {
        "duration": 0,
        "start_time": "2022-10-31T14:18:35.177Z"
      },
      {
        "duration": 0,
        "start_time": "2022-10-31T14:18:35.179Z"
      },
      {
        "duration": 0,
        "start_time": "2022-10-31T14:18:35.180Z"
      },
      {
        "duration": 0,
        "start_time": "2022-10-31T14:18:35.182Z"
      },
      {
        "duration": 0,
        "start_time": "2022-10-31T14:18:35.183Z"
      },
      {
        "duration": 0,
        "start_time": "2022-10-31T14:18:35.184Z"
      },
      {
        "duration": 0,
        "start_time": "2022-10-31T14:18:35.186Z"
      },
      {
        "duration": 7,
        "start_time": "2022-10-31T14:18:51.061Z"
      },
      {
        "duration": 8,
        "start_time": "2022-10-31T14:18:59.311Z"
      },
      {
        "duration": 7,
        "start_time": "2022-10-31T14:19:16.790Z"
      },
      {
        "duration": 4,
        "start_time": "2022-10-31T14:19:22.551Z"
      },
      {
        "duration": 7,
        "start_time": "2022-10-31T14:19:40.730Z"
      },
      {
        "duration": 9,
        "start_time": "2022-10-31T14:19:48.040Z"
      },
      {
        "duration": 10,
        "start_time": "2022-10-31T14:19:58.233Z"
      },
      {
        "duration": 7,
        "start_time": "2022-10-31T14:20:09.021Z"
      },
      {
        "duration": 511,
        "start_time": "2022-10-31T14:21:52.180Z"
      },
      {
        "duration": 22,
        "start_time": "2022-10-31T14:21:52.693Z"
      },
      {
        "duration": 15,
        "start_time": "2022-10-31T14:21:52.717Z"
      },
      {
        "duration": 11,
        "start_time": "2022-10-31T14:21:52.734Z"
      },
      {
        "duration": 7,
        "start_time": "2022-10-31T14:21:52.747Z"
      },
      {
        "duration": 16,
        "start_time": "2022-10-31T14:21:52.755Z"
      },
      {
        "duration": 48,
        "start_time": "2022-10-31T14:21:52.772Z"
      },
      {
        "duration": 14,
        "start_time": "2022-10-31T14:21:52.822Z"
      },
      {
        "duration": 7,
        "start_time": "2022-10-31T14:21:52.838Z"
      },
      {
        "duration": 7,
        "start_time": "2022-10-31T14:21:52.849Z"
      },
      {
        "duration": 53,
        "start_time": "2022-10-31T14:21:52.857Z"
      },
      {
        "duration": 42,
        "start_time": "2022-10-31T14:21:52.912Z"
      },
      {
        "duration": 3,
        "start_time": "2022-10-31T14:21:52.956Z"
      },
      {
        "duration": 11,
        "start_time": "2022-10-31T14:21:52.961Z"
      },
      {
        "duration": 4,
        "start_time": "2022-10-31T14:21:52.974Z"
      },
      {
        "duration": 33,
        "start_time": "2022-10-31T14:21:52.980Z"
      },
      {
        "duration": 11,
        "start_time": "2022-10-31T14:21:53.014Z"
      },
      {
        "duration": 6,
        "start_time": "2022-10-31T14:21:53.026Z"
      },
      {
        "duration": 35,
        "start_time": "2022-10-31T14:21:53.034Z"
      },
      {
        "duration": 8,
        "start_time": "2022-10-31T14:21:53.071Z"
      },
      {
        "duration": 29,
        "start_time": "2022-10-31T14:21:53.080Z"
      },
      {
        "duration": 11,
        "start_time": "2022-10-31T14:21:53.111Z"
      },
      {
        "duration": 24,
        "start_time": "2022-10-31T14:21:53.124Z"
      },
      {
        "duration": 17,
        "start_time": "2022-10-31T14:21:53.150Z"
      },
      {
        "duration": 4,
        "start_time": "2022-10-31T14:21:53.169Z"
      },
      {
        "duration": 37,
        "start_time": "2022-10-31T14:21:53.174Z"
      },
      {
        "duration": 7,
        "start_time": "2022-10-31T14:21:53.213Z"
      },
      {
        "duration": 3,
        "start_time": "2022-10-31T14:21:53.224Z"
      },
      {
        "duration": 10,
        "start_time": "2022-10-31T14:21:53.229Z"
      },
      {
        "duration": 4,
        "start_time": "2022-10-31T14:21:53.240Z"
      },
      {
        "duration": 16,
        "start_time": "2022-10-31T14:21:53.245Z"
      },
      {
        "duration": 15,
        "start_time": "2022-10-31T14:21:53.263Z"
      },
      {
        "duration": 29,
        "start_time": "2022-10-31T14:21:53.280Z"
      },
      {
        "duration": 7,
        "start_time": "2022-10-31T14:21:53.311Z"
      },
      {
        "duration": 9,
        "start_time": "2022-10-31T14:21:53.319Z"
      },
      {
        "duration": 8,
        "start_time": "2022-10-31T14:21:53.330Z"
      },
      {
        "duration": 6,
        "start_time": "2022-10-31T14:21:53.339Z"
      },
      {
        "duration": 8,
        "start_time": "2022-10-31T14:21:53.347Z"
      },
      {
        "duration": 5,
        "start_time": "2022-10-31T14:21:53.356Z"
      },
      {
        "duration": 10,
        "start_time": "2022-10-31T14:21:53.363Z"
      },
      {
        "duration": 36,
        "start_time": "2022-10-31T14:21:53.374Z"
      },
      {
        "duration": 12,
        "start_time": "2022-10-31T14:21:53.411Z"
      },
      {
        "duration": 8,
        "start_time": "2022-10-31T14:21:53.425Z"
      },
      {
        "duration": 10,
        "start_time": "2022-10-31T14:21:53.435Z"
      },
      {
        "duration": 5,
        "start_time": "2022-10-31T14:21:53.447Z"
      },
      {
        "duration": 11,
        "start_time": "2022-10-31T14:21:53.454Z"
      },
      {
        "duration": 9,
        "start_time": "2022-10-31T14:21:53.466Z"
      },
      {
        "duration": 34,
        "start_time": "2022-10-31T14:21:53.476Z"
      },
      {
        "duration": 4,
        "start_time": "2022-10-31T14:21:53.512Z"
      },
      {
        "duration": 12,
        "start_time": "2022-10-31T14:21:53.517Z"
      },
      {
        "duration": 9,
        "start_time": "2022-10-31T14:21:53.531Z"
      },
      {
        "duration": 9,
        "start_time": "2022-10-31T14:21:53.542Z"
      },
      {
        "duration": 12,
        "start_time": "2022-10-31T14:21:53.552Z"
      },
      {
        "duration": 44,
        "start_time": "2022-10-31T14:21:53.565Z"
      },
      {
        "duration": 12,
        "start_time": "2022-10-31T14:21:53.611Z"
      },
      {
        "duration": 19,
        "start_time": "2022-10-31T14:21:53.624Z"
      },
      {
        "duration": 14,
        "start_time": "2022-10-31T14:21:53.645Z"
      },
      {
        "duration": 4,
        "start_time": "2022-10-31T14:21:53.660Z"
      },
      {
        "duration": 12,
        "start_time": "2022-10-31T14:21:53.666Z"
      },
      {
        "duration": 354,
        "start_time": "2022-10-31T14:21:53.679Z"
      },
      {
        "duration": 3,
        "start_time": "2022-10-31T14:21:54.035Z"
      },
      {
        "duration": 35,
        "start_time": "2022-10-31T14:21:54.040Z"
      },
      {
        "duration": 94,
        "start_time": "2022-10-31T14:21:54.077Z"
      },
      {
        "duration": 39,
        "start_time": "2022-10-31T14:21:54.172Z"
      },
      {
        "duration": 29,
        "start_time": "2022-10-31T14:21:54.213Z"
      },
      {
        "duration": 25,
        "start_time": "2022-10-31T14:21:54.243Z"
      },
      {
        "duration": 124,
        "start_time": "2022-10-31T14:21:54.270Z"
      },
      {
        "duration": 19,
        "start_time": "2022-10-31T14:21:54.396Z"
      },
      {
        "duration": 160,
        "start_time": "2022-10-31T14:21:54.417Z"
      },
      {
        "duration": 15,
        "start_time": "2022-10-31T14:21:54.578Z"
      },
      {
        "duration": 176,
        "start_time": "2022-10-31T14:21:54.597Z"
      },
      {
        "duration": 115,
        "start_time": "2022-10-31T14:21:54.774Z"
      },
      {
        "duration": 24,
        "start_time": "2022-10-31T14:21:54.890Z"
      },
      {
        "duration": 111,
        "start_time": "2022-10-31T14:21:54.915Z"
      },
      {
        "duration": 5,
        "start_time": "2022-10-31T14:21:55.028Z"
      },
      {
        "duration": 12,
        "start_time": "2022-10-31T14:21:55.034Z"
      },
      {
        "duration": 9,
        "start_time": "2022-10-31T14:21:55.047Z"
      },
      {
        "duration": 9,
        "start_time": "2022-10-31T14:21:55.058Z"
      },
      {
        "duration": 10,
        "start_time": "2022-10-31T14:21:55.068Z"
      },
      {
        "duration": 13,
        "start_time": "2022-10-31T14:21:55.080Z"
      },
      {
        "duration": 12,
        "start_time": "2022-10-31T14:21:55.110Z"
      },
      {
        "duration": 31,
        "start_time": "2022-10-31T14:21:55.127Z"
      },
      {
        "duration": 13,
        "start_time": "2022-10-31T14:24:44.914Z"
      },
      {
        "duration": 13,
        "start_time": "2022-10-31T14:29:56.234Z"
      },
      {
        "duration": 73,
        "start_time": "2022-10-31T14:41:47.294Z"
      },
      {
        "duration": 60,
        "start_time": "2022-10-31T16:33:48.614Z"
      },
      {
        "duration": 91,
        "start_time": "2022-10-31T16:34:02.561Z"
      },
      {
        "duration": 48,
        "start_time": "2022-10-31T16:54:07.989Z"
      },
      {
        "duration": 748,
        "start_time": "2022-10-31T16:55:15.740Z"
      },
      {
        "duration": 23,
        "start_time": "2022-10-31T16:55:16.490Z"
      },
      {
        "duration": 24,
        "start_time": "2022-10-31T16:55:16.514Z"
      },
      {
        "duration": 23,
        "start_time": "2022-10-31T16:55:16.540Z"
      },
      {
        "duration": 20,
        "start_time": "2022-10-31T16:55:16.564Z"
      },
      {
        "duration": 29,
        "start_time": "2022-10-31T16:55:16.586Z"
      },
      {
        "duration": 35,
        "start_time": "2022-10-31T16:55:16.617Z"
      },
      {
        "duration": 38,
        "start_time": "2022-10-31T16:55:16.654Z"
      },
      {
        "duration": 8,
        "start_time": "2022-10-31T16:55:16.693Z"
      },
      {
        "duration": 39,
        "start_time": "2022-10-31T16:55:16.704Z"
      },
      {
        "duration": 15,
        "start_time": "2022-10-31T16:55:16.745Z"
      },
      {
        "duration": 58,
        "start_time": "2022-10-31T16:55:16.761Z"
      },
      {
        "duration": 5,
        "start_time": "2022-10-31T16:55:16.821Z"
      },
      {
        "duration": 28,
        "start_time": "2022-10-31T16:55:16.827Z"
      },
      {
        "duration": 19,
        "start_time": "2022-10-31T16:55:16.857Z"
      },
      {
        "duration": 14,
        "start_time": "2022-10-31T16:55:16.878Z"
      },
      {
        "duration": 25,
        "start_time": "2022-10-31T16:55:16.894Z"
      },
      {
        "duration": 14,
        "start_time": "2022-10-31T16:55:16.921Z"
      },
      {
        "duration": 53,
        "start_time": "2022-10-31T16:55:16.936Z"
      },
      {
        "duration": 10,
        "start_time": "2022-10-31T16:55:16.991Z"
      },
      {
        "duration": 15,
        "start_time": "2022-10-31T16:55:17.002Z"
      },
      {
        "duration": 26,
        "start_time": "2022-10-31T16:55:17.019Z"
      },
      {
        "duration": 34,
        "start_time": "2022-10-31T16:55:17.046Z"
      },
      {
        "duration": 20,
        "start_time": "2022-10-31T16:55:17.082Z"
      },
      {
        "duration": 8,
        "start_time": "2022-10-31T16:55:17.104Z"
      },
      {
        "duration": 41,
        "start_time": "2022-10-31T16:55:17.114Z"
      },
      {
        "duration": 19,
        "start_time": "2022-10-31T16:55:17.156Z"
      },
      {
        "duration": 24,
        "start_time": "2022-10-31T16:55:17.179Z"
      },
      {
        "duration": 47,
        "start_time": "2022-10-31T16:55:17.205Z"
      },
      {
        "duration": 19,
        "start_time": "2022-10-31T16:55:17.254Z"
      },
      {
        "duration": 33,
        "start_time": "2022-10-31T16:55:17.275Z"
      },
      {
        "duration": 40,
        "start_time": "2022-10-31T16:55:17.309Z"
      },
      {
        "duration": 15,
        "start_time": "2022-10-31T16:55:17.351Z"
      },
      {
        "duration": 46,
        "start_time": "2022-10-31T16:55:17.368Z"
      },
      {
        "duration": 29,
        "start_time": "2022-10-31T16:55:17.416Z"
      },
      {
        "duration": 14,
        "start_time": "2022-10-31T16:55:17.447Z"
      },
      {
        "duration": 23,
        "start_time": "2022-10-31T16:55:17.463Z"
      },
      {
        "duration": 13,
        "start_time": "2022-10-31T16:55:17.488Z"
      },
      {
        "duration": 26,
        "start_time": "2022-10-31T16:55:17.503Z"
      },
      {
        "duration": 23,
        "start_time": "2022-10-31T16:55:17.531Z"
      },
      {
        "duration": 47,
        "start_time": "2022-10-31T16:55:17.555Z"
      },
      {
        "duration": 25,
        "start_time": "2022-10-31T16:55:17.604Z"
      },
      {
        "duration": 24,
        "start_time": "2022-10-31T16:55:17.631Z"
      },
      {
        "duration": 21,
        "start_time": "2022-10-31T16:55:17.657Z"
      },
      {
        "duration": 27,
        "start_time": "2022-10-31T16:55:17.680Z"
      },
      {
        "duration": 51,
        "start_time": "2022-10-31T16:55:17.709Z"
      },
      {
        "duration": 36,
        "start_time": "2022-10-31T16:55:17.761Z"
      },
      {
        "duration": 36,
        "start_time": "2022-10-31T16:55:17.799Z"
      },
      {
        "duration": 18,
        "start_time": "2022-10-31T16:55:17.837Z"
      },
      {
        "duration": 40,
        "start_time": "2022-10-31T16:55:17.857Z"
      },
      {
        "duration": 15,
        "start_time": "2022-10-31T16:55:17.898Z"
      },
      {
        "duration": 26,
        "start_time": "2022-10-31T16:55:17.914Z"
      },
      {
        "duration": 14,
        "start_time": "2022-10-31T16:55:17.941Z"
      },
      {
        "duration": 23,
        "start_time": "2022-10-31T16:55:17.957Z"
      },
      {
        "duration": 11,
        "start_time": "2022-10-31T16:55:17.981Z"
      },
      {
        "duration": 12,
        "start_time": "2022-10-31T16:55:17.994Z"
      },
      {
        "duration": 14,
        "start_time": "2022-10-31T16:55:18.007Z"
      },
      {
        "duration": 4,
        "start_time": "2022-10-31T16:55:18.022Z"
      },
      {
        "duration": 28,
        "start_time": "2022-10-31T16:55:18.027Z"
      },
      {
        "duration": 526,
        "start_time": "2022-10-31T16:55:18.056Z"
      },
      {
        "duration": 4,
        "start_time": "2022-10-31T16:55:18.583Z"
      },
      {
        "duration": 24,
        "start_time": "2022-10-31T16:55:18.588Z"
      },
      {
        "duration": 119,
        "start_time": "2022-10-31T16:55:18.614Z"
      },
      {
        "duration": 39,
        "start_time": "2022-10-31T16:55:18.735Z"
      },
      {
        "duration": 32,
        "start_time": "2022-10-31T16:55:18.776Z"
      },
      {
        "duration": 46,
        "start_time": "2022-10-31T16:55:18.809Z"
      },
      {
        "duration": 116,
        "start_time": "2022-10-31T16:55:18.857Z"
      },
      {
        "duration": 11,
        "start_time": "2022-10-31T16:55:18.975Z"
      },
      {
        "duration": 135,
        "start_time": "2022-10-31T16:55:18.987Z"
      },
      {
        "duration": 12,
        "start_time": "2022-10-31T16:55:19.124Z"
      },
      {
        "duration": 192,
        "start_time": "2022-10-31T16:55:19.138Z"
      },
      {
        "duration": 143,
        "start_time": "2022-10-31T16:55:19.332Z"
      },
      {
        "duration": 10,
        "start_time": "2022-10-31T16:55:19.477Z"
      },
      {
        "duration": 123,
        "start_time": "2022-10-31T16:55:19.489Z"
      },
      {
        "duration": 8,
        "start_time": "2022-10-31T16:55:19.613Z"
      },
      {
        "duration": 6,
        "start_time": "2022-10-31T16:55:19.623Z"
      },
      {
        "duration": 23,
        "start_time": "2022-10-31T16:55:19.631Z"
      },
      {
        "duration": 20,
        "start_time": "2022-10-31T16:55:19.656Z"
      },
      {
        "duration": 20,
        "start_time": "2022-10-31T16:55:19.678Z"
      },
      {
        "duration": 14,
        "start_time": "2022-10-31T16:55:19.699Z"
      },
      {
        "duration": 20,
        "start_time": "2022-10-31T16:55:19.714Z"
      },
      {
        "duration": 43,
        "start_time": "2022-10-31T16:55:19.739Z"
      },
      {
        "duration": 39,
        "start_time": "2022-10-31T16:55:19.784Z"
      },
      {
        "duration": 49,
        "start_time": "2022-10-31T16:55:43.096Z"
      },
      {
        "duration": 40,
        "start_time": "2022-10-31T16:56:32.193Z"
      },
      {
        "duration": 42,
        "start_time": "2022-10-31T16:56:53.206Z"
      },
      {
        "duration": 14,
        "start_time": "2022-10-31T17:06:31.366Z"
      },
      {
        "duration": 19,
        "start_time": "2022-10-31T17:40:32.934Z"
      },
      {
        "duration": 17,
        "start_time": "2022-10-31T17:42:07.128Z"
      },
      {
        "duration": 55,
        "start_time": "2022-10-31T17:45:13.526Z"
      },
      {
        "duration": 94,
        "start_time": "2022-10-31T17:59:49.522Z"
      },
      {
        "duration": 64,
        "start_time": "2022-10-31T18:00:00.493Z"
      },
      {
        "duration": 47,
        "start_time": "2022-10-31T18:00:20.451Z"
      },
      {
        "duration": 60,
        "start_time": "2022-10-31T18:00:26.439Z"
      },
      {
        "duration": 74,
        "start_time": "2022-10-31T18:01:01.101Z"
      },
      {
        "duration": 17,
        "start_time": "2022-10-31T18:01:01.177Z"
      },
      {
        "duration": 55,
        "start_time": "2022-10-31T18:01:01.195Z"
      },
      {
        "duration": 40,
        "start_time": "2022-10-31T18:01:01.253Z"
      },
      {
        "duration": 37,
        "start_time": "2022-10-31T18:01:01.295Z"
      },
      {
        "duration": 67,
        "start_time": "2022-10-31T18:01:01.334Z"
      },
      {
        "duration": 66,
        "start_time": "2022-10-31T18:01:01.403Z"
      },
      {
        "duration": 57,
        "start_time": "2022-10-31T18:01:01.471Z"
      },
      {
        "duration": 36,
        "start_time": "2022-10-31T18:01:01.530Z"
      },
      {
        "duration": 59,
        "start_time": "2022-10-31T18:01:01.570Z"
      },
      {
        "duration": 39,
        "start_time": "2022-10-31T18:01:01.631Z"
      },
      {
        "duration": 104,
        "start_time": "2022-10-31T18:01:01.672Z"
      },
      {
        "duration": 50,
        "start_time": "2022-10-31T18:01:01.778Z"
      },
      {
        "duration": 41,
        "start_time": "2022-10-31T18:01:01.830Z"
      },
      {
        "duration": 37,
        "start_time": "2022-10-31T18:01:01.873Z"
      },
      {
        "duration": 39,
        "start_time": "2022-10-31T18:01:01.911Z"
      },
      {
        "duration": 23,
        "start_time": "2022-10-31T18:01:01.952Z"
      },
      {
        "duration": 29,
        "start_time": "2022-10-31T18:01:01.977Z"
      },
      {
        "duration": 46,
        "start_time": "2022-10-31T18:01:02.008Z"
      },
      {
        "duration": 10,
        "start_time": "2022-10-31T18:01:02.056Z"
      },
      {
        "duration": 33,
        "start_time": "2022-10-31T18:01:02.067Z"
      },
      {
        "duration": 30,
        "start_time": "2022-10-31T18:01:02.102Z"
      },
      {
        "duration": 43,
        "start_time": "2022-10-31T18:01:02.133Z"
      },
      {
        "duration": 30,
        "start_time": "2022-10-31T18:01:02.178Z"
      },
      {
        "duration": 21,
        "start_time": "2022-10-31T18:01:02.210Z"
      },
      {
        "duration": 34,
        "start_time": "2022-10-31T18:01:02.233Z"
      },
      {
        "duration": 32,
        "start_time": "2022-10-31T18:01:02.269Z"
      },
      {
        "duration": 42,
        "start_time": "2022-10-31T18:01:02.306Z"
      },
      {
        "duration": 43,
        "start_time": "2022-10-31T18:01:02.349Z"
      },
      {
        "duration": 42,
        "start_time": "2022-10-31T18:01:02.393Z"
      },
      {
        "duration": 60,
        "start_time": "2022-10-31T18:01:02.437Z"
      },
      {
        "duration": 39,
        "start_time": "2022-10-31T18:01:02.499Z"
      },
      {
        "duration": 57,
        "start_time": "2022-10-31T18:01:02.539Z"
      },
      {
        "duration": 51,
        "start_time": "2022-10-31T18:01:02.598Z"
      },
      {
        "duration": 46,
        "start_time": "2022-10-31T18:01:02.651Z"
      },
      {
        "duration": 54,
        "start_time": "2022-10-31T18:01:02.699Z"
      },
      {
        "duration": 26,
        "start_time": "2022-10-31T18:01:02.755Z"
      },
      {
        "duration": 35,
        "start_time": "2022-10-31T18:01:02.783Z"
      },
      {
        "duration": 34,
        "start_time": "2022-10-31T18:01:02.820Z"
      },
      {
        "duration": 38,
        "start_time": "2022-10-31T18:01:02.856Z"
      },
      {
        "duration": 34,
        "start_time": "2022-10-31T18:01:02.896Z"
      },
      {
        "duration": 49,
        "start_time": "2022-10-31T18:01:02.932Z"
      },
      {
        "duration": 38,
        "start_time": "2022-10-31T18:01:02.983Z"
      },
      {
        "duration": 41,
        "start_time": "2022-10-31T18:01:03.023Z"
      },
      {
        "duration": 31,
        "start_time": "2022-10-31T18:01:03.066Z"
      },
      {
        "duration": 42,
        "start_time": "2022-10-31T18:01:03.099Z"
      },
      {
        "duration": 41,
        "start_time": "2022-10-31T18:01:03.143Z"
      },
      {
        "duration": 43,
        "start_time": "2022-10-31T18:01:03.186Z"
      },
      {
        "duration": 36,
        "start_time": "2022-10-31T18:01:03.231Z"
      },
      {
        "duration": 44,
        "start_time": "2022-10-31T18:01:03.268Z"
      },
      {
        "duration": 54,
        "start_time": "2022-10-31T18:01:03.314Z"
      },
      {
        "duration": 45,
        "start_time": "2022-10-31T18:01:03.369Z"
      },
      {
        "duration": 38,
        "start_time": "2022-10-31T18:01:03.416Z"
      },
      {
        "duration": 49,
        "start_time": "2022-10-31T18:01:03.456Z"
      },
      {
        "duration": 41,
        "start_time": "2022-10-31T18:01:03.507Z"
      },
      {
        "duration": 30,
        "start_time": "2022-10-31T18:01:03.550Z"
      },
      {
        "duration": 44,
        "start_time": "2022-10-31T18:01:03.581Z"
      },
      {
        "duration": 39,
        "start_time": "2022-10-31T18:01:03.627Z"
      },
      {
        "duration": 56,
        "start_time": "2022-10-31T18:01:03.668Z"
      },
      {
        "duration": 136,
        "start_time": "2022-10-31T18:01:03.726Z"
      },
      {
        "duration": 3,
        "start_time": "2022-10-31T18:01:03.864Z"
      },
      {
        "duration": 43,
        "start_time": "2022-10-31T18:01:03.868Z"
      },
      {
        "duration": 122,
        "start_time": "2022-10-31T18:01:03.913Z"
      },
      {
        "duration": 42,
        "start_time": "2022-10-31T18:01:04.036Z"
      },
      {
        "duration": 41,
        "start_time": "2022-10-31T18:01:04.080Z"
      },
      {
        "duration": 38,
        "start_time": "2022-10-31T18:01:04.123Z"
      },
      {
        "duration": 127,
        "start_time": "2022-10-31T18:01:04.163Z"
      },
      {
        "duration": 11,
        "start_time": "2022-10-31T18:01:04.292Z"
      },
      {
        "duration": 134,
        "start_time": "2022-10-31T18:01:04.305Z"
      },
      {
        "duration": 22,
        "start_time": "2022-10-31T18:01:04.441Z"
      },
      {
        "duration": 133,
        "start_time": "2022-10-31T18:01:04.465Z"
      },
      {
        "duration": 141,
        "start_time": "2022-10-31T18:01:04.600Z"
      },
      {
        "duration": 18,
        "start_time": "2022-10-31T18:01:04.743Z"
      },
      {
        "duration": 123,
        "start_time": "2022-10-31T18:01:04.763Z"
      },
      {
        "duration": 5,
        "start_time": "2022-10-31T18:01:04.888Z"
      },
      {
        "duration": 32,
        "start_time": "2022-10-31T18:01:04.895Z"
      },
      {
        "duration": 44,
        "start_time": "2022-10-31T18:01:04.929Z"
      },
      {
        "duration": 38,
        "start_time": "2022-10-31T18:01:04.975Z"
      },
      {
        "duration": 41,
        "start_time": "2022-10-31T18:01:05.015Z"
      },
      {
        "duration": 49,
        "start_time": "2022-10-31T18:01:05.058Z"
      },
      {
        "duration": 42,
        "start_time": "2022-10-31T18:01:05.109Z"
      },
      {
        "duration": 65,
        "start_time": "2022-10-31T18:01:05.157Z"
      },
      {
        "duration": 94,
        "start_time": "2022-10-31T18:01:05.224Z"
      },
      {
        "duration": 0,
        "start_time": "2022-10-31T18:01:05.320Z"
      },
      {
        "duration": 56,
        "start_time": "2022-10-31T18:01:59.816Z"
      },
      {
        "duration": 52,
        "start_time": "2022-10-31T18:02:15.299Z"
      },
      {
        "duration": 35,
        "start_time": "2022-10-31T18:02:21.070Z"
      },
      {
        "duration": 33,
        "start_time": "2022-10-31T18:02:37.637Z"
      },
      {
        "duration": 51,
        "start_time": "2022-10-31T18:03:16.750Z"
      },
      {
        "duration": 107,
        "start_time": "2022-10-31T18:03:27.325Z"
      },
      {
        "duration": 55,
        "start_time": "2022-10-31T18:03:42.499Z"
      },
      {
        "duration": 39,
        "start_time": "2022-10-31T18:04:03.615Z"
      },
      {
        "duration": 53,
        "start_time": "2022-10-31T18:04:16.329Z"
      },
      {
        "duration": 25,
        "start_time": "2022-10-31T18:04:47.646Z"
      },
      {
        "duration": 875,
        "start_time": "2022-10-31T18:23:27.733Z"
      },
      {
        "duration": 755,
        "start_time": "2022-10-31T18:23:47.833Z"
      },
      {
        "duration": 699,
        "start_time": "2022-10-31T18:25:16.164Z"
      },
      {
        "duration": 698,
        "start_time": "2022-10-31T18:26:18.496Z"
      },
      {
        "duration": 31,
        "start_time": "2022-10-31T18:26:40.633Z"
      },
      {
        "duration": 50,
        "start_time": "2022-10-31T18:27:47.301Z"
      },
      {
        "duration": 31,
        "start_time": "2022-10-31T18:36:55.677Z"
      },
      {
        "duration": 24,
        "start_time": "2022-10-31T19:27:19.201Z"
      },
      {
        "duration": 29,
        "start_time": "2022-10-31T19:27:28.876Z"
      },
      {
        "duration": 27,
        "start_time": "2022-10-31T19:27:41.834Z"
      },
      {
        "duration": 34,
        "start_time": "2022-10-31T19:27:51.470Z"
      },
      {
        "duration": 28,
        "start_time": "2022-10-31T19:27:59.389Z"
      },
      {
        "duration": 37,
        "start_time": "2022-10-31T19:28:11.531Z"
      },
      {
        "duration": 27,
        "start_time": "2022-10-31T19:28:40.955Z"
      },
      {
        "duration": 229,
        "start_time": "2022-10-31T19:34:57.208Z"
      },
      {
        "duration": 18,
        "start_time": "2022-10-31T19:35:30.725Z"
      },
      {
        "duration": 14,
        "start_time": "2022-10-31T19:38:01.642Z"
      },
      {
        "duration": 24,
        "start_time": "2022-10-31T20:00:09.752Z"
      },
      {
        "duration": 22,
        "start_time": "2022-10-31T20:00:34.145Z"
      },
      {
        "duration": 25,
        "start_time": "2022-10-31T20:07:07.545Z"
      },
      {
        "duration": 30,
        "start_time": "2022-10-31T20:07:18.655Z"
      },
      {
        "duration": 22,
        "start_time": "2022-10-31T20:10:24.115Z"
      },
      {
        "duration": 19,
        "start_time": "2022-10-31T20:10:56.917Z"
      },
      {
        "duration": 20,
        "start_time": "2022-10-31T20:11:33.693Z"
      },
      {
        "duration": 24,
        "start_time": "2022-10-31T20:11:42.176Z"
      },
      {
        "duration": 22,
        "start_time": "2022-10-31T20:13:23.934Z"
      },
      {
        "duration": 23,
        "start_time": "2022-10-31T20:15:34.023Z"
      },
      {
        "duration": 22,
        "start_time": "2022-10-31T20:15:47.406Z"
      },
      {
        "duration": 23,
        "start_time": "2022-10-31T20:16:12.564Z"
      },
      {
        "duration": 22,
        "start_time": "2022-10-31T20:16:24.710Z"
      },
      {
        "duration": 24,
        "start_time": "2022-10-31T20:16:33.997Z"
      },
      {
        "duration": 32,
        "start_time": "2022-10-31T20:17:47.591Z"
      },
      {
        "duration": 31,
        "start_time": "2022-10-31T20:19:09.581Z"
      },
      {
        "duration": 33,
        "start_time": "2022-10-31T20:27:19.401Z"
      },
      {
        "duration": 32,
        "start_time": "2022-10-31T20:27:36.039Z"
      },
      {
        "duration": 32,
        "start_time": "2022-10-31T20:27:58.887Z"
      },
      {
        "duration": 531,
        "start_time": "2022-11-01T12:07:01.596Z"
      },
      {
        "duration": 29,
        "start_time": "2022-11-01T12:07:02.129Z"
      },
      {
        "duration": 18,
        "start_time": "2022-11-01T12:07:02.159Z"
      },
      {
        "duration": 22,
        "start_time": "2022-11-01T12:07:02.180Z"
      },
      {
        "duration": 30,
        "start_time": "2022-11-01T12:07:02.204Z"
      },
      {
        "duration": 49,
        "start_time": "2022-11-01T12:07:02.236Z"
      },
      {
        "duration": 14,
        "start_time": "2022-11-01T12:07:02.287Z"
      },
      {
        "duration": 28,
        "start_time": "2022-11-01T12:07:02.303Z"
      },
      {
        "duration": 8,
        "start_time": "2022-11-01T12:07:02.332Z"
      },
      {
        "duration": 41,
        "start_time": "2022-11-01T12:07:02.343Z"
      },
      {
        "duration": 25,
        "start_time": "2022-11-01T12:07:02.385Z"
      },
      {
        "duration": 76,
        "start_time": "2022-11-01T12:07:02.412Z"
      },
      {
        "duration": 4,
        "start_time": "2022-11-01T12:07:02.490Z"
      },
      {
        "duration": 18,
        "start_time": "2022-11-01T12:07:02.495Z"
      },
      {
        "duration": 10,
        "start_time": "2022-11-01T12:07:02.515Z"
      },
      {
        "duration": 12,
        "start_time": "2022-11-01T12:07:02.527Z"
      },
      {
        "duration": 25,
        "start_time": "2022-11-01T12:07:02.540Z"
      },
      {
        "duration": 29,
        "start_time": "2022-11-01T12:07:02.566Z"
      },
      {
        "duration": 46,
        "start_time": "2022-11-01T12:07:02.597Z"
      },
      {
        "duration": 10,
        "start_time": "2022-11-01T12:07:02.646Z"
      },
      {
        "duration": 12,
        "start_time": "2022-11-01T12:07:02.658Z"
      },
      {
        "duration": 29,
        "start_time": "2022-11-01T12:07:02.671Z"
      },
      {
        "duration": 25,
        "start_time": "2022-11-01T12:07:02.702Z"
      },
      {
        "duration": 23,
        "start_time": "2022-11-01T12:07:02.729Z"
      },
      {
        "duration": 4,
        "start_time": "2022-11-01T12:07:02.754Z"
      },
      {
        "duration": 19,
        "start_time": "2022-11-01T12:07:02.760Z"
      },
      {
        "duration": 9,
        "start_time": "2022-11-01T12:07:02.781Z"
      },
      {
        "duration": 4,
        "start_time": "2022-11-01T12:07:02.795Z"
      },
      {
        "duration": 16,
        "start_time": "2022-11-01T12:07:02.831Z"
      },
      {
        "duration": 5,
        "start_time": "2022-11-01T12:07:02.849Z"
      },
      {
        "duration": 18,
        "start_time": "2022-11-01T12:07:02.856Z"
      },
      {
        "duration": 20,
        "start_time": "2022-11-01T12:07:02.876Z"
      },
      {
        "duration": 34,
        "start_time": "2022-11-01T12:07:02.898Z"
      },
      {
        "duration": 8,
        "start_time": "2022-11-01T12:07:02.934Z"
      },
      {
        "duration": 11,
        "start_time": "2022-11-01T12:07:02.944Z"
      },
      {
        "duration": 14,
        "start_time": "2022-11-01T12:07:02.957Z"
      },
      {
        "duration": 6,
        "start_time": "2022-11-01T12:07:02.973Z"
      },
      {
        "duration": 11,
        "start_time": "2022-11-01T12:07:02.981Z"
      },
      {
        "duration": 5,
        "start_time": "2022-11-01T12:07:02.994Z"
      },
      {
        "duration": 8,
        "start_time": "2022-11-01T12:07:03.032Z"
      },
      {
        "duration": 8,
        "start_time": "2022-11-01T12:07:03.042Z"
      },
      {
        "duration": 16,
        "start_time": "2022-11-01T12:07:03.051Z"
      },
      {
        "duration": 6,
        "start_time": "2022-11-01T12:07:03.069Z"
      },
      {
        "duration": 19,
        "start_time": "2022-11-01T12:07:03.077Z"
      },
      {
        "duration": 8,
        "start_time": "2022-11-01T12:07:03.097Z"
      },
      {
        "duration": 10,
        "start_time": "2022-11-01T12:07:03.132Z"
      },
      {
        "duration": 12,
        "start_time": "2022-11-01T12:07:03.144Z"
      },
      {
        "duration": 11,
        "start_time": "2022-11-01T12:07:03.158Z"
      },
      {
        "duration": 7,
        "start_time": "2022-11-01T12:07:03.170Z"
      },
      {
        "duration": 17,
        "start_time": "2022-11-01T12:07:03.178Z"
      },
      {
        "duration": 40,
        "start_time": "2022-11-01T12:07:03.197Z"
      },
      {
        "duration": 12,
        "start_time": "2022-11-01T12:07:03.239Z"
      },
      {
        "duration": 20,
        "start_time": "2022-11-01T12:07:03.253Z"
      },
      {
        "duration": 16,
        "start_time": "2022-11-01T12:07:03.274Z"
      },
      {
        "duration": 19,
        "start_time": "2022-11-01T12:07:03.292Z"
      },
      {
        "duration": 22,
        "start_time": "2022-11-01T12:07:03.333Z"
      },
      {
        "duration": 25,
        "start_time": "2022-11-01T12:07:03.357Z"
      },
      {
        "duration": 6,
        "start_time": "2022-11-01T12:07:03.384Z"
      },
      {
        "duration": 22,
        "start_time": "2022-11-01T12:07:03.392Z"
      },
      {
        "duration": 41,
        "start_time": "2022-11-01T12:07:03.416Z"
      },
      {
        "duration": 599,
        "start_time": "2022-11-01T12:07:03.460Z"
      },
      {
        "duration": 4,
        "start_time": "2022-11-01T12:07:04.061Z"
      },
      {
        "duration": 23,
        "start_time": "2022-11-01T12:07:04.067Z"
      },
      {
        "duration": 130,
        "start_time": "2022-11-01T12:07:04.092Z"
      },
      {
        "duration": 31,
        "start_time": "2022-11-01T12:07:04.232Z"
      },
      {
        "duration": 34,
        "start_time": "2022-11-01T12:07:04.264Z"
      },
      {
        "duration": 53,
        "start_time": "2022-11-01T12:07:04.300Z"
      },
      {
        "duration": 126,
        "start_time": "2022-11-01T12:07:04.354Z"
      },
      {
        "duration": 11,
        "start_time": "2022-11-01T12:07:04.483Z"
      },
      {
        "duration": 146,
        "start_time": "2022-11-01T12:07:04.496Z"
      },
      {
        "duration": 16,
        "start_time": "2022-11-01T12:07:04.644Z"
      },
      {
        "duration": 214,
        "start_time": "2022-11-01T12:07:04.662Z"
      },
      {
        "duration": 143,
        "start_time": "2022-11-01T12:07:04.878Z"
      },
      {
        "duration": 16,
        "start_time": "2022-11-01T12:07:05.023Z"
      },
      {
        "duration": 137,
        "start_time": "2022-11-01T12:07:05.041Z"
      },
      {
        "duration": 10,
        "start_time": "2022-11-01T12:07:05.180Z"
      },
      {
        "duration": 9,
        "start_time": "2022-11-01T12:07:05.192Z"
      },
      {
        "duration": 20,
        "start_time": "2022-11-01T12:07:05.203Z"
      },
      {
        "duration": 13,
        "start_time": "2022-11-01T12:07:05.225Z"
      },
      {
        "duration": 13,
        "start_time": "2022-11-01T12:07:05.240Z"
      },
      {
        "duration": 19,
        "start_time": "2022-11-01T12:07:05.255Z"
      },
      {
        "duration": 18,
        "start_time": "2022-11-01T12:07:05.279Z"
      },
      {
        "duration": 56,
        "start_time": "2022-11-01T12:07:05.299Z"
      },
      {
        "duration": 42,
        "start_time": "2022-11-01T12:07:05.357Z"
      },
      {
        "duration": 50,
        "start_time": "2022-11-01T12:07:05.401Z"
      },
      {
        "duration": 36,
        "start_time": "2022-11-01T12:07:05.454Z"
      },
      {
        "duration": 16,
        "start_time": "2022-11-01T12:09:59.744Z"
      },
      {
        "duration": 13,
        "start_time": "2022-11-01T12:10:24.584Z"
      },
      {
        "duration": 5,
        "start_time": "2022-11-01T12:12:03.644Z"
      },
      {
        "duration": 15,
        "start_time": "2022-11-01T12:12:11.885Z"
      },
      {
        "duration": 12,
        "start_time": "2022-11-01T12:12:32.144Z"
      },
      {
        "duration": 12,
        "start_time": "2022-11-01T12:12:33.085Z"
      },
      {
        "duration": 15,
        "start_time": "2022-11-01T12:12:33.856Z"
      },
      {
        "duration": 12,
        "start_time": "2022-11-01T12:12:34.784Z"
      },
      {
        "duration": 13,
        "start_time": "2022-11-01T12:12:35.724Z"
      },
      {
        "duration": 14,
        "start_time": "2022-11-01T12:12:36.973Z"
      },
      {
        "duration": 85,
        "start_time": "2022-11-01T12:17:13.693Z"
      },
      {
        "duration": 6,
        "start_time": "2022-11-01T12:18:18.025Z"
      },
      {
        "duration": 8,
        "start_time": "2022-11-01T12:18:51.399Z"
      },
      {
        "duration": 9,
        "start_time": "2022-11-01T12:19:11.945Z"
      },
      {
        "duration": 13,
        "start_time": "2022-11-01T12:26:54.366Z"
      },
      {
        "duration": 14,
        "start_time": "2022-11-01T12:26:56.958Z"
      },
      {
        "duration": 15,
        "start_time": "2022-11-01T12:27:06.945Z"
      },
      {
        "duration": 11,
        "start_time": "2022-11-01T12:27:10.193Z"
      },
      {
        "duration": 13,
        "start_time": "2022-11-01T12:27:15.665Z"
      },
      {
        "duration": 13,
        "start_time": "2022-11-01T12:27:27.685Z"
      },
      {
        "duration": 15,
        "start_time": "2022-11-01T12:27:30.965Z"
      },
      {
        "duration": 519,
        "start_time": "2022-11-01T12:31:04.665Z"
      },
      {
        "duration": 26,
        "start_time": "2022-11-01T12:31:05.186Z"
      },
      {
        "duration": 82,
        "start_time": "2022-11-01T12:31:05.214Z"
      },
      {
        "duration": 14,
        "start_time": "2022-11-01T12:31:05.301Z"
      },
      {
        "duration": 8,
        "start_time": "2022-11-01T12:31:05.319Z"
      },
      {
        "duration": 20,
        "start_time": "2022-11-01T12:31:05.329Z"
      },
      {
        "duration": 17,
        "start_time": "2022-11-01T12:31:05.351Z"
      },
      {
        "duration": 17,
        "start_time": "2022-11-01T12:31:05.370Z"
      },
      {
        "duration": 43,
        "start_time": "2022-11-01T12:31:05.389Z"
      },
      {
        "duration": 20,
        "start_time": "2022-11-01T12:31:05.434Z"
      },
      {
        "duration": 9,
        "start_time": "2022-11-01T12:31:05.456Z"
      },
      {
        "duration": 65,
        "start_time": "2022-11-01T12:31:05.467Z"
      },
      {
        "duration": 5,
        "start_time": "2022-11-01T12:31:05.534Z"
      },
      {
        "duration": 14,
        "start_time": "2022-11-01T12:31:05.542Z"
      },
      {
        "duration": 6,
        "start_time": "2022-11-01T12:31:05.559Z"
      },
      {
        "duration": 9,
        "start_time": "2022-11-01T12:31:05.567Z"
      },
      {
        "duration": 22,
        "start_time": "2022-11-01T12:31:05.577Z"
      },
      {
        "duration": 29,
        "start_time": "2022-11-01T12:31:05.602Z"
      },
      {
        "duration": 47,
        "start_time": "2022-11-01T12:31:05.634Z"
      },
      {
        "duration": 13,
        "start_time": "2022-11-01T12:31:05.684Z"
      },
      {
        "duration": 18,
        "start_time": "2022-11-01T12:31:05.698Z"
      },
      {
        "duration": 21,
        "start_time": "2022-11-01T12:31:05.733Z"
      },
      {
        "duration": 32,
        "start_time": "2022-11-01T12:31:05.756Z"
      },
      {
        "duration": 24,
        "start_time": "2022-11-01T12:31:05.790Z"
      },
      {
        "duration": 6,
        "start_time": "2022-11-01T12:31:05.816Z"
      },
      {
        "duration": 18,
        "start_time": "2022-11-01T12:31:05.831Z"
      },
      {
        "duration": 11,
        "start_time": "2022-11-01T12:31:05.851Z"
      },
      {
        "duration": 4,
        "start_time": "2022-11-01T12:31:05.865Z"
      },
      {
        "duration": 12,
        "start_time": "2022-11-01T12:31:05.872Z"
      },
      {
        "duration": 7,
        "start_time": "2022-11-01T12:31:05.886Z"
      },
      {
        "duration": 49,
        "start_time": "2022-11-01T12:31:05.895Z"
      },
      {
        "duration": 19,
        "start_time": "2022-11-01T12:31:05.946Z"
      },
      {
        "duration": 16,
        "start_time": "2022-11-01T12:31:05.967Z"
      },
      {
        "duration": 8,
        "start_time": "2022-11-01T12:31:05.986Z"
      },
      {
        "duration": 12,
        "start_time": "2022-11-01T12:31:05.995Z"
      },
      {
        "duration": 34,
        "start_time": "2022-11-01T12:31:06.009Z"
      },
      {
        "duration": 8,
        "start_time": "2022-11-01T12:31:06.045Z"
      },
      {
        "duration": 7,
        "start_time": "2022-11-01T12:31:06.055Z"
      },
      {
        "duration": 12,
        "start_time": "2022-11-01T12:31:06.064Z"
      },
      {
        "duration": 15,
        "start_time": "2022-11-01T12:31:06.079Z"
      },
      {
        "duration": 8,
        "start_time": "2022-11-01T12:31:06.135Z"
      },
      {
        "duration": 14,
        "start_time": "2022-11-01T12:31:06.145Z"
      },
      {
        "duration": 10,
        "start_time": "2022-11-01T12:31:06.162Z"
      },
      {
        "duration": 20,
        "start_time": "2022-11-01T12:31:06.174Z"
      },
      {
        "duration": 9,
        "start_time": "2022-11-01T12:31:06.196Z"
      },
      {
        "duration": 32,
        "start_time": "2022-11-01T12:31:06.207Z"
      },
      {
        "duration": 17,
        "start_time": "2022-11-01T12:31:06.240Z"
      },
      {
        "duration": 6,
        "start_time": "2022-11-01T12:31:06.259Z"
      },
      {
        "duration": 6,
        "start_time": "2022-11-01T12:31:06.267Z"
      },
      {
        "duration": 21,
        "start_time": "2022-11-01T12:31:06.275Z"
      },
      {
        "duration": 44,
        "start_time": "2022-11-01T12:31:06.298Z"
      },
      {
        "duration": 4,
        "start_time": "2022-11-01T12:31:06.344Z"
      },
      {
        "duration": 0,
        "start_time": "2022-11-01T12:31:06.350Z"
      },
      {
        "duration": 0,
        "start_time": "2022-11-01T12:31:06.351Z"
      },
      {
        "duration": 0,
        "start_time": "2022-11-01T12:31:06.354Z"
      },
      {
        "duration": 0,
        "start_time": "2022-11-01T12:31:06.355Z"
      },
      {
        "duration": 0,
        "start_time": "2022-11-01T12:31:06.357Z"
      },
      {
        "duration": 0,
        "start_time": "2022-11-01T12:31:06.358Z"
      },
      {
        "duration": 0,
        "start_time": "2022-11-01T12:31:06.361Z"
      },
      {
        "duration": 0,
        "start_time": "2022-11-01T12:31:06.362Z"
      },
      {
        "duration": 0,
        "start_time": "2022-11-01T12:31:06.363Z"
      },
      {
        "duration": 0,
        "start_time": "2022-11-01T12:31:06.365Z"
      },
      {
        "duration": 0,
        "start_time": "2022-11-01T12:31:06.367Z"
      },
      {
        "duration": 0,
        "start_time": "2022-11-01T12:31:06.369Z"
      },
      {
        "duration": 0,
        "start_time": "2022-11-01T12:31:06.371Z"
      },
      {
        "duration": 0,
        "start_time": "2022-11-01T12:31:06.372Z"
      },
      {
        "duration": 1,
        "start_time": "2022-11-01T12:31:06.373Z"
      },
      {
        "duration": 0,
        "start_time": "2022-11-01T12:31:06.375Z"
      },
      {
        "duration": 0,
        "start_time": "2022-11-01T12:31:06.377Z"
      },
      {
        "duration": 0,
        "start_time": "2022-11-01T12:31:06.378Z"
      },
      {
        "duration": 0,
        "start_time": "2022-11-01T12:31:06.379Z"
      },
      {
        "duration": 0,
        "start_time": "2022-11-01T12:31:06.380Z"
      },
      {
        "duration": 0,
        "start_time": "2022-11-01T12:31:06.432Z"
      },
      {
        "duration": 0,
        "start_time": "2022-11-01T12:31:06.434Z"
      },
      {
        "duration": 0,
        "start_time": "2022-11-01T12:31:06.436Z"
      },
      {
        "duration": 0,
        "start_time": "2022-11-01T12:31:06.437Z"
      },
      {
        "duration": 0,
        "start_time": "2022-11-01T12:31:06.438Z"
      },
      {
        "duration": 0,
        "start_time": "2022-11-01T12:31:06.440Z"
      },
      {
        "duration": 0,
        "start_time": "2022-11-01T12:31:06.441Z"
      },
      {
        "duration": 0,
        "start_time": "2022-11-01T12:31:06.443Z"
      },
      {
        "duration": 0,
        "start_time": "2022-11-01T12:31:06.444Z"
      },
      {
        "duration": 0,
        "start_time": "2022-11-01T12:31:06.446Z"
      },
      {
        "duration": 0,
        "start_time": "2022-11-01T12:31:06.447Z"
      },
      {
        "duration": 0,
        "start_time": "2022-11-01T12:31:06.450Z"
      },
      {
        "duration": 0,
        "start_time": "2022-11-01T12:31:06.451Z"
      },
      {
        "duration": 0,
        "start_time": "2022-11-01T12:31:06.453Z"
      },
      {
        "duration": 0,
        "start_time": "2022-11-01T12:31:06.454Z"
      },
      {
        "duration": 0,
        "start_time": "2022-11-01T12:31:06.455Z"
      },
      {
        "duration": 14,
        "start_time": "2022-11-01T12:31:59.785Z"
      },
      {
        "duration": 19,
        "start_time": "2022-11-01T12:32:02.344Z"
      },
      {
        "duration": 638,
        "start_time": "2022-11-01T12:32:16.343Z"
      },
      {
        "duration": 28,
        "start_time": "2022-11-01T12:32:16.983Z"
      },
      {
        "duration": 24,
        "start_time": "2022-11-01T12:32:17.032Z"
      },
      {
        "duration": 24,
        "start_time": "2022-11-01T12:32:17.058Z"
      },
      {
        "duration": 10,
        "start_time": "2022-11-01T12:32:17.085Z"
      },
      {
        "duration": 28,
        "start_time": "2022-11-01T12:32:17.096Z"
      },
      {
        "duration": 20,
        "start_time": "2022-11-01T12:32:17.132Z"
      },
      {
        "duration": 30,
        "start_time": "2022-11-01T12:32:17.154Z"
      },
      {
        "duration": 9,
        "start_time": "2022-11-01T12:32:17.185Z"
      },
      {
        "duration": 18,
        "start_time": "2022-11-01T12:32:17.196Z"
      },
      {
        "duration": 11,
        "start_time": "2022-11-01T12:32:17.232Z"
      },
      {
        "duration": 48,
        "start_time": "2022-11-01T12:32:17.245Z"
      },
      {
        "duration": 4,
        "start_time": "2022-11-01T12:32:17.296Z"
      },
      {
        "duration": 30,
        "start_time": "2022-11-01T12:32:17.303Z"
      },
      {
        "duration": 6,
        "start_time": "2022-11-01T12:32:17.336Z"
      },
      {
        "duration": 33,
        "start_time": "2022-11-01T12:32:17.344Z"
      },
      {
        "duration": 32,
        "start_time": "2022-11-01T12:32:17.379Z"
      },
      {
        "duration": 40,
        "start_time": "2022-11-01T12:32:17.413Z"
      },
      {
        "duration": 82,
        "start_time": "2022-11-01T12:32:17.455Z"
      },
      {
        "duration": 13,
        "start_time": "2022-11-01T12:32:17.540Z"
      },
      {
        "duration": 16,
        "start_time": "2022-11-01T12:32:17.555Z"
      },
      {
        "duration": 32,
        "start_time": "2022-11-01T12:32:17.574Z"
      },
      {
        "duration": 59,
        "start_time": "2022-11-01T12:32:17.608Z"
      },
      {
        "duration": 23,
        "start_time": "2022-11-01T12:32:17.669Z"
      },
      {
        "duration": 19,
        "start_time": "2022-11-01T12:32:17.694Z"
      },
      {
        "duration": 41,
        "start_time": "2022-11-01T12:32:17.715Z"
      },
      {
        "duration": 29,
        "start_time": "2022-11-01T12:32:17.759Z"
      },
      {
        "duration": 29,
        "start_time": "2022-11-01T12:32:17.790Z"
      },
      {
        "duration": 40,
        "start_time": "2022-11-01T12:32:17.821Z"
      },
      {
        "duration": 38,
        "start_time": "2022-11-01T12:32:17.863Z"
      },
      {
        "duration": 38,
        "start_time": "2022-11-01T12:32:17.903Z"
      },
      {
        "duration": 31,
        "start_time": "2022-11-01T12:32:17.943Z"
      },
      {
        "duration": 22,
        "start_time": "2022-11-01T12:32:17.976Z"
      },
      {
        "duration": 25,
        "start_time": "2022-11-01T12:32:18.000Z"
      },
      {
        "duration": 41,
        "start_time": "2022-11-01T12:32:18.027Z"
      },
      {
        "duration": 19,
        "start_time": "2022-11-01T12:32:18.070Z"
      },
      {
        "duration": 33,
        "start_time": "2022-11-01T12:32:18.091Z"
      },
      {
        "duration": 16,
        "start_time": "2022-11-01T12:32:18.127Z"
      },
      {
        "duration": 28,
        "start_time": "2022-11-01T12:32:18.145Z"
      },
      {
        "duration": 29,
        "start_time": "2022-11-01T12:32:18.175Z"
      },
      {
        "duration": 53,
        "start_time": "2022-11-01T12:32:18.211Z"
      },
      {
        "duration": 38,
        "start_time": "2022-11-01T12:32:18.266Z"
      },
      {
        "duration": 20,
        "start_time": "2022-11-01T12:32:18.306Z"
      },
      {
        "duration": 49,
        "start_time": "2022-11-01T12:32:18.328Z"
      },
      {
        "duration": 15,
        "start_time": "2022-11-01T12:32:18.379Z"
      },
      {
        "duration": 53,
        "start_time": "2022-11-01T12:32:18.396Z"
      },
      {
        "duration": 18,
        "start_time": "2022-11-01T12:32:18.451Z"
      },
      {
        "duration": 33,
        "start_time": "2022-11-01T12:32:18.472Z"
      },
      {
        "duration": 29,
        "start_time": "2022-11-01T12:32:18.507Z"
      },
      {
        "duration": 24,
        "start_time": "2022-11-01T12:32:18.538Z"
      },
      {
        "duration": 20,
        "start_time": "2022-11-01T12:32:18.565Z"
      },
      {
        "duration": 35,
        "start_time": "2022-11-01T12:32:18.588Z"
      },
      {
        "duration": 31,
        "start_time": "2022-11-01T12:32:18.625Z"
      },
      {
        "duration": 34,
        "start_time": "2022-11-01T12:32:18.658Z"
      },
      {
        "duration": 34,
        "start_time": "2022-11-01T12:32:18.694Z"
      },
      {
        "duration": 22,
        "start_time": "2022-11-01T12:32:18.730Z"
      },
      {
        "duration": 26,
        "start_time": "2022-11-01T12:32:18.754Z"
      },
      {
        "duration": 49,
        "start_time": "2022-11-01T12:32:18.782Z"
      },
      {
        "duration": 20,
        "start_time": "2022-11-01T12:32:18.834Z"
      },
      {
        "duration": 10,
        "start_time": "2022-11-01T12:32:18.856Z"
      },
      {
        "duration": 22,
        "start_time": "2022-11-01T12:32:18.868Z"
      },
      {
        "duration": 51,
        "start_time": "2022-11-01T12:32:18.892Z"
      },
      {
        "duration": 459,
        "start_time": "2022-11-01T12:32:18.948Z"
      },
      {
        "duration": 3,
        "start_time": "2022-11-01T12:32:19.409Z"
      },
      {
        "duration": 68,
        "start_time": "2022-11-01T12:32:19.414Z"
      },
      {
        "duration": 148,
        "start_time": "2022-11-01T12:32:19.484Z"
      },
      {
        "duration": 45,
        "start_time": "2022-11-01T12:32:19.634Z"
      },
      {
        "duration": 55,
        "start_time": "2022-11-01T12:32:19.680Z"
      },
      {
        "duration": 33,
        "start_time": "2022-11-01T12:32:19.737Z"
      },
      {
        "duration": 171,
        "start_time": "2022-11-01T12:32:19.773Z"
      },
      {
        "duration": 18,
        "start_time": "2022-11-01T12:32:19.947Z"
      },
      {
        "duration": 185,
        "start_time": "2022-11-01T12:32:19.967Z"
      },
      {
        "duration": 21,
        "start_time": "2022-11-01T12:32:20.155Z"
      },
      {
        "duration": 228,
        "start_time": "2022-11-01T12:32:20.178Z"
      },
      {
        "duration": 175,
        "start_time": "2022-11-01T12:32:20.408Z"
      },
      {
        "duration": 11,
        "start_time": "2022-11-01T12:32:20.584Z"
      },
      {
        "duration": 168,
        "start_time": "2022-11-01T12:32:20.597Z"
      },
      {
        "duration": 8,
        "start_time": "2022-11-01T12:32:20.767Z"
      },
      {
        "duration": 6,
        "start_time": "2022-11-01T12:32:20.777Z"
      },
      {
        "duration": 12,
        "start_time": "2022-11-01T12:32:20.785Z"
      },
      {
        "duration": 13,
        "start_time": "2022-11-01T12:32:20.798Z"
      },
      {
        "duration": 9,
        "start_time": "2022-11-01T12:32:20.831Z"
      },
      {
        "duration": 14,
        "start_time": "2022-11-01T12:32:20.842Z"
      },
      {
        "duration": 20,
        "start_time": "2022-11-01T12:32:20.858Z"
      },
      {
        "duration": 66,
        "start_time": "2022-11-01T12:32:20.880Z"
      },
      {
        "duration": 49,
        "start_time": "2022-11-01T12:32:20.949Z"
      },
      {
        "duration": 52,
        "start_time": "2022-11-01T12:32:21.000Z"
      },
      {
        "duration": 37,
        "start_time": "2022-11-01T12:32:21.055Z"
      },
      {
        "duration": 4,
        "start_time": "2022-11-01T12:33:32.652Z"
      },
      {
        "duration": 13,
        "start_time": "2022-11-01T12:33:36.574Z"
      },
      {
        "duration": 14,
        "start_time": "2022-11-01T12:33:47.602Z"
      },
      {
        "duration": 15,
        "start_time": "2022-11-01T12:34:10.922Z"
      },
      {
        "duration": 546,
        "start_time": "2022-11-01T12:34:19.761Z"
      },
      {
        "duration": 31,
        "start_time": "2022-11-01T12:34:20.309Z"
      },
      {
        "duration": 21,
        "start_time": "2022-11-01T12:34:20.343Z"
      },
      {
        "duration": 15,
        "start_time": "2022-11-01T12:34:20.367Z"
      },
      {
        "duration": 7,
        "start_time": "2022-11-01T12:34:20.383Z"
      },
      {
        "duration": 57,
        "start_time": "2022-11-01T12:34:20.392Z"
      },
      {
        "duration": 17,
        "start_time": "2022-11-01T12:34:20.451Z"
      },
      {
        "duration": 16,
        "start_time": "2022-11-01T12:34:20.470Z"
      },
      {
        "duration": 49,
        "start_time": "2022-11-01T12:34:20.487Z"
      },
      {
        "duration": 10,
        "start_time": "2022-11-01T12:34:20.539Z"
      },
      {
        "duration": 18,
        "start_time": "2022-11-01T12:34:20.550Z"
      },
      {
        "duration": 60,
        "start_time": "2022-11-01T12:34:20.572Z"
      },
      {
        "duration": 5,
        "start_time": "2022-11-01T12:34:20.635Z"
      },
      {
        "duration": 13,
        "start_time": "2022-11-01T12:34:20.642Z"
      },
      {
        "duration": 6,
        "start_time": "2022-11-01T12:34:20.657Z"
      },
      {
        "duration": 9,
        "start_time": "2022-11-01T12:34:20.665Z"
      },
      {
        "duration": 7,
        "start_time": "2022-11-01T12:34:20.676Z"
      },
      {
        "duration": 49,
        "start_time": "2022-11-01T12:34:20.684Z"
      },
      {
        "duration": 46,
        "start_time": "2022-11-01T12:34:20.735Z"
      },
      {
        "duration": 13,
        "start_time": "2022-11-01T12:34:20.783Z"
      },
      {
        "duration": 4,
        "start_time": "2022-11-01T12:34:20.798Z"
      },
      {
        "duration": 39,
        "start_time": "2022-11-01T12:34:20.804Z"
      },
      {
        "duration": 34,
        "start_time": "2022-11-01T12:34:20.845Z"
      },
      {
        "duration": 20,
        "start_time": "2022-11-01T12:34:20.881Z"
      },
      {
        "duration": 3,
        "start_time": "2022-11-01T12:34:20.903Z"
      },
      {
        "duration": 32,
        "start_time": "2022-11-01T12:34:20.908Z"
      },
      {
        "duration": 9,
        "start_time": "2022-11-01T12:34:20.942Z"
      },
      {
        "duration": 6,
        "start_time": "2022-11-01T12:34:20.955Z"
      },
      {
        "duration": 15,
        "start_time": "2022-11-01T12:34:20.964Z"
      },
      {
        "duration": 11,
        "start_time": "2022-11-01T12:34:20.981Z"
      },
      {
        "duration": 38,
        "start_time": "2022-11-01T12:34:20.994Z"
      },
      {
        "duration": 22,
        "start_time": "2022-11-01T12:34:21.034Z"
      },
      {
        "duration": 12,
        "start_time": "2022-11-01T12:34:21.058Z"
      },
      {
        "duration": 8,
        "start_time": "2022-11-01T12:34:21.073Z"
      },
      {
        "duration": 11,
        "start_time": "2022-11-01T12:34:21.083Z"
      },
      {
        "duration": 41,
        "start_time": "2022-11-01T12:34:21.095Z"
      },
      {
        "duration": 9,
        "start_time": "2022-11-01T12:34:21.138Z"
      },
      {
        "duration": 8,
        "start_time": "2022-11-01T12:34:21.149Z"
      },
      {
        "duration": 9,
        "start_time": "2022-11-01T12:34:21.159Z"
      },
      {
        "duration": 14,
        "start_time": "2022-11-01T12:34:21.170Z"
      },
      {
        "duration": 6,
        "start_time": "2022-11-01T12:34:21.185Z"
      },
      {
        "duration": 55,
        "start_time": "2022-11-01T12:34:21.192Z"
      },
      {
        "duration": 5,
        "start_time": "2022-11-01T12:34:21.249Z"
      },
      {
        "duration": 16,
        "start_time": "2022-11-01T12:34:21.256Z"
      },
      {
        "duration": 7,
        "start_time": "2022-11-01T12:34:21.274Z"
      },
      {
        "duration": 8,
        "start_time": "2022-11-01T12:34:21.284Z"
      },
      {
        "duration": 42,
        "start_time": "2022-11-01T12:34:21.297Z"
      },
      {
        "duration": 7,
        "start_time": "2022-11-01T12:34:21.342Z"
      },
      {
        "duration": 12,
        "start_time": "2022-11-01T12:34:21.351Z"
      },
      {
        "duration": 21,
        "start_time": "2022-11-01T12:34:21.365Z"
      },
      {
        "duration": 14,
        "start_time": "2022-11-01T12:34:21.389Z"
      },
      {
        "duration": 19,
        "start_time": "2022-11-01T12:34:21.431Z"
      },
      {
        "duration": 16,
        "start_time": "2022-11-01T12:34:21.452Z"
      },
      {
        "duration": 10,
        "start_time": "2022-11-01T12:34:21.471Z"
      },
      {
        "duration": 13,
        "start_time": "2022-11-01T12:34:21.483Z"
      },
      {
        "duration": 41,
        "start_time": "2022-11-01T12:34:21.498Z"
      },
      {
        "duration": 17,
        "start_time": "2022-11-01T12:34:21.541Z"
      },
      {
        "duration": 17,
        "start_time": "2022-11-01T12:34:21.561Z"
      },
      {
        "duration": 20,
        "start_time": "2022-11-01T12:34:21.580Z"
      },
      {
        "duration": 34,
        "start_time": "2022-11-01T12:34:21.601Z"
      },
      {
        "duration": 18,
        "start_time": "2022-11-01T12:34:21.638Z"
      },
      {
        "duration": 41,
        "start_time": "2022-11-01T12:34:21.659Z"
      },
      {
        "duration": 492,
        "start_time": "2022-11-01T12:34:21.701Z"
      },
      {
        "duration": 3,
        "start_time": "2022-11-01T12:34:22.195Z"
      },
      {
        "duration": 34,
        "start_time": "2022-11-01T12:34:22.200Z"
      },
      {
        "duration": 156,
        "start_time": "2022-11-01T12:34:22.237Z"
      },
      {
        "duration": 53,
        "start_time": "2022-11-01T12:34:22.395Z"
      },
      {
        "duration": 39,
        "start_time": "2022-11-01T12:34:22.451Z"
      },
      {
        "duration": 56,
        "start_time": "2022-11-01T12:34:22.493Z"
      },
      {
        "duration": 166,
        "start_time": "2022-11-01T12:34:22.552Z"
      },
      {
        "duration": 21,
        "start_time": "2022-11-01T12:34:22.721Z"
      },
      {
        "duration": 162,
        "start_time": "2022-11-01T12:34:22.744Z"
      },
      {
        "duration": 14,
        "start_time": "2022-11-01T12:34:22.907Z"
      },
      {
        "duration": 215,
        "start_time": "2022-11-01T12:34:22.932Z"
      },
      {
        "duration": 166,
        "start_time": "2022-11-01T12:34:23.149Z"
      },
      {
        "duration": 20,
        "start_time": "2022-11-01T12:34:23.317Z"
      },
      {
        "duration": 167,
        "start_time": "2022-11-01T12:34:23.340Z"
      },
      {
        "duration": 7,
        "start_time": "2022-11-01T12:34:23.509Z"
      },
      {
        "duration": 33,
        "start_time": "2022-11-01T12:34:23.531Z"
      },
      {
        "duration": 14,
        "start_time": "2022-11-01T12:34:23.567Z"
      },
      {
        "duration": 22,
        "start_time": "2022-11-01T12:34:23.583Z"
      },
      {
        "duration": 17,
        "start_time": "2022-11-01T12:34:23.610Z"
      },
      {
        "duration": 20,
        "start_time": "2022-11-01T12:34:23.629Z"
      },
      {
        "duration": 28,
        "start_time": "2022-11-01T12:34:23.651Z"
      },
      {
        "duration": 53,
        "start_time": "2022-11-01T12:34:23.681Z"
      },
      {
        "duration": 46,
        "start_time": "2022-11-01T12:34:23.737Z"
      },
      {
        "duration": 20,
        "start_time": "2022-11-01T12:34:23.785Z"
      },
      {
        "duration": 41,
        "start_time": "2022-11-01T12:34:23.831Z"
      },
      {
        "duration": 11,
        "start_time": "2022-11-01T12:39:21.682Z"
      },
      {
        "duration": 16,
        "start_time": "2022-11-01T12:39:46.242Z"
      },
      {
        "duration": 767,
        "start_time": "2022-11-01T12:42:07.941Z"
      },
      {
        "duration": 3,
        "start_time": "2022-11-01T12:42:34.942Z"
      },
      {
        "duration": 625,
        "start_time": "2022-11-01T12:42:37.121Z"
      },
      {
        "duration": 16,
        "start_time": "2022-11-01T12:42:54.301Z"
      },
      {
        "duration": 610,
        "start_time": "2022-11-01T12:43:17.041Z"
      },
      {
        "duration": 31,
        "start_time": "2022-11-01T12:43:49.202Z"
      },
      {
        "duration": 21,
        "start_time": "2022-11-01T12:44:05.069Z"
      },
      {
        "duration": 22,
        "start_time": "2022-11-01T12:44:18.569Z"
      },
      {
        "duration": 17,
        "start_time": "2022-11-01T12:46:20.841Z"
      },
      {
        "duration": 17,
        "start_time": "2022-11-01T12:46:30.542Z"
      },
      {
        "duration": 38,
        "start_time": "2022-11-01T12:52:00.402Z"
      },
      {
        "duration": 130,
        "start_time": "2022-11-01T13:29:07.162Z"
      },
      {
        "duration": 28,
        "start_time": "2022-11-01T13:29:21.743Z"
      },
      {
        "duration": 26,
        "start_time": "2022-11-01T13:29:45.811Z"
      },
      {
        "duration": 9,
        "start_time": "2022-11-01T13:29:59.323Z"
      },
      {
        "duration": 10,
        "start_time": "2022-11-01T13:30:11.623Z"
      }
    ],
    "colab": {
      "name": "dpp_template_part2.ipynb",
      "provenance": []
    },
    "kernelspec": {
      "display_name": "Python 3 (ipykernel)",
      "language": "python",
      "name": "python3"
    },
    "language_info": {
      "codemirror_mode": {
        "name": "ipython",
        "version": 3
      },
      "file_extension": ".py",
      "mimetype": "text/x-python",
      "name": "python",
      "nbconvert_exporter": "python",
      "pygments_lexer": "ipython3",
      "version": "3.9.5"
    },
    "toc": {
      "base_numbering": 1,
      "nav_menu": {},
      "number_sections": true,
      "sideBar": true,
      "skip_h1_title": true,
      "title_cell": "Table of Contents",
      "title_sidebar": "Contents",
      "toc_cell": false,
      "toc_position": {},
      "toc_section_display": true,
      "toc_window_display": false
    }
  },
  "nbformat": 4,
  "nbformat_minor": 5
}