{
 "cells": [
  {
   "attachments": {},
   "cell_type": "markdown",
   "id": "77808d5d",
   "metadata": {
    "deletable": false,
    "editable": false,
    "id": "c81daeeb"
   },
   "source": [
    "# Исследование надежности заемщиков\n"
   ]
  },
  {
   "attachments": {},
   "cell_type": "markdown",
   "id": "fa5a76d4",
   "metadata": {
    "deletable": false,
    "editable": false,
    "id": "744d7639"
   },
   "source": [
    "## Откроем датасет и изучим общую информацию о данных"
   ]
  },
  {
   "attachments": {},
   "cell_type": "markdown",
   "id": "e4d6746d",
   "metadata": {
    "deletable": false,
    "editable": false,
    "id": "e7a14c31"
   },
   "source": [
    "**Импортируем библиотеку pandas и считаем данные из csv-файла в датафрейм, сохраним их в переменную `data`.**"
   ]
  },
  {
   "cell_type": "code",
   "execution_count": 1,
   "id": "3f6c2ff8",
   "metadata": {
    "deletable": false,
    "id": "7bcf75c9"
   },
   "outputs": [],
   "source": [
    "import pandas as pd\n",
    "\n",
    "try:\n",
    "    data = pd.read_csv('/datasets/data.csv')\n",
    "except:\n",
    "    data = pd.read_csv('https://code.s3.yandex.net/datasets/data.csv')"
   ]
  },
  {
   "attachments": {},
   "cell_type": "markdown",
   "id": "8a4f44d9",
   "metadata": {
    "deletable": false,
    "editable": false,
    "id": "b8038fe3"
   },
   "source": [
    "**Выведим первые 20 строчек датафрейма `data` на экран.**"
   ]
  },
  {
   "cell_type": "code",
   "execution_count": 2,
   "id": "b3b43276",
   "metadata": {
    "deletable": false,
    "id": "2a7cab99",
    "outputId": "1a8f3ef2-d323-4ec2-ddf7-89670b5944c4"
   },
   "outputs": [
    {
     "data": {
      "text/html": [
       "<div>\n",
       "<style scoped>\n",
       "    .dataframe tbody tr th:only-of-type {\n",
       "        vertical-align: middle;\n",
       "    }\n",
       "\n",
       "    .dataframe tbody tr th {\n",
       "        vertical-align: top;\n",
       "    }\n",
       "\n",
       "    .dataframe thead th {\n",
       "        text-align: right;\n",
       "    }\n",
       "</style>\n",
       "<table border=\"1\" class=\"dataframe\">\n",
       "  <thead>\n",
       "    <tr style=\"text-align: right;\">\n",
       "      <th></th>\n",
       "      <th>children</th>\n",
       "      <th>days_employed</th>\n",
       "      <th>dob_years</th>\n",
       "      <th>education</th>\n",
       "      <th>education_id</th>\n",
       "      <th>family_status</th>\n",
       "      <th>family_status_id</th>\n",
       "      <th>gender</th>\n",
       "      <th>income_type</th>\n",
       "      <th>debt</th>\n",
       "      <th>total_income</th>\n",
       "      <th>purpose</th>\n",
       "    </tr>\n",
       "  </thead>\n",
       "  <tbody>\n",
       "    <tr>\n",
       "      <th>0</th>\n",
       "      <td>1</td>\n",
       "      <td>-8437.673028</td>\n",
       "      <td>42</td>\n",
       "      <td>высшее</td>\n",
       "      <td>0</td>\n",
       "      <td>женат / замужем</td>\n",
       "      <td>0</td>\n",
       "      <td>F</td>\n",
       "      <td>сотрудник</td>\n",
       "      <td>0</td>\n",
       "      <td>253875.639453</td>\n",
       "      <td>покупка жилья</td>\n",
       "    </tr>\n",
       "    <tr>\n",
       "      <th>1</th>\n",
       "      <td>1</td>\n",
       "      <td>-4024.803754</td>\n",
       "      <td>36</td>\n",
       "      <td>среднее</td>\n",
       "      <td>1</td>\n",
       "      <td>женат / замужем</td>\n",
       "      <td>0</td>\n",
       "      <td>F</td>\n",
       "      <td>сотрудник</td>\n",
       "      <td>0</td>\n",
       "      <td>112080.014102</td>\n",
       "      <td>приобретение автомобиля</td>\n",
       "    </tr>\n",
       "    <tr>\n",
       "      <th>2</th>\n",
       "      <td>0</td>\n",
       "      <td>-5623.422610</td>\n",
       "      <td>33</td>\n",
       "      <td>Среднее</td>\n",
       "      <td>1</td>\n",
       "      <td>женат / замужем</td>\n",
       "      <td>0</td>\n",
       "      <td>M</td>\n",
       "      <td>сотрудник</td>\n",
       "      <td>0</td>\n",
       "      <td>145885.952297</td>\n",
       "      <td>покупка жилья</td>\n",
       "    </tr>\n",
       "    <tr>\n",
       "      <th>3</th>\n",
       "      <td>3</td>\n",
       "      <td>-4124.747207</td>\n",
       "      <td>32</td>\n",
       "      <td>среднее</td>\n",
       "      <td>1</td>\n",
       "      <td>женат / замужем</td>\n",
       "      <td>0</td>\n",
       "      <td>M</td>\n",
       "      <td>сотрудник</td>\n",
       "      <td>0</td>\n",
       "      <td>267628.550329</td>\n",
       "      <td>дополнительное образование</td>\n",
       "    </tr>\n",
       "    <tr>\n",
       "      <th>4</th>\n",
       "      <td>0</td>\n",
       "      <td>340266.072047</td>\n",
       "      <td>53</td>\n",
       "      <td>среднее</td>\n",
       "      <td>1</td>\n",
       "      <td>гражданский брак</td>\n",
       "      <td>1</td>\n",
       "      <td>F</td>\n",
       "      <td>пенсионер</td>\n",
       "      <td>0</td>\n",
       "      <td>158616.077870</td>\n",
       "      <td>сыграть свадьбу</td>\n",
       "    </tr>\n",
       "    <tr>\n",
       "      <th>5</th>\n",
       "      <td>0</td>\n",
       "      <td>-926.185831</td>\n",
       "      <td>27</td>\n",
       "      <td>высшее</td>\n",
       "      <td>0</td>\n",
       "      <td>гражданский брак</td>\n",
       "      <td>1</td>\n",
       "      <td>M</td>\n",
       "      <td>компаньон</td>\n",
       "      <td>0</td>\n",
       "      <td>255763.565419</td>\n",
       "      <td>покупка жилья</td>\n",
       "    </tr>\n",
       "    <tr>\n",
       "      <th>6</th>\n",
       "      <td>0</td>\n",
       "      <td>-2879.202052</td>\n",
       "      <td>43</td>\n",
       "      <td>высшее</td>\n",
       "      <td>0</td>\n",
       "      <td>женат / замужем</td>\n",
       "      <td>0</td>\n",
       "      <td>F</td>\n",
       "      <td>компаньон</td>\n",
       "      <td>0</td>\n",
       "      <td>240525.971920</td>\n",
       "      <td>операции с жильем</td>\n",
       "    </tr>\n",
       "    <tr>\n",
       "      <th>7</th>\n",
       "      <td>0</td>\n",
       "      <td>-152.779569</td>\n",
       "      <td>50</td>\n",
       "      <td>СРЕДНЕЕ</td>\n",
       "      <td>1</td>\n",
       "      <td>женат / замужем</td>\n",
       "      <td>0</td>\n",
       "      <td>M</td>\n",
       "      <td>сотрудник</td>\n",
       "      <td>0</td>\n",
       "      <td>135823.934197</td>\n",
       "      <td>образование</td>\n",
       "    </tr>\n",
       "    <tr>\n",
       "      <th>8</th>\n",
       "      <td>2</td>\n",
       "      <td>-6929.865299</td>\n",
       "      <td>35</td>\n",
       "      <td>ВЫСШЕЕ</td>\n",
       "      <td>0</td>\n",
       "      <td>гражданский брак</td>\n",
       "      <td>1</td>\n",
       "      <td>F</td>\n",
       "      <td>сотрудник</td>\n",
       "      <td>0</td>\n",
       "      <td>95856.832424</td>\n",
       "      <td>на проведение свадьбы</td>\n",
       "    </tr>\n",
       "    <tr>\n",
       "      <th>9</th>\n",
       "      <td>0</td>\n",
       "      <td>-2188.756445</td>\n",
       "      <td>41</td>\n",
       "      <td>среднее</td>\n",
       "      <td>1</td>\n",
       "      <td>женат / замужем</td>\n",
       "      <td>0</td>\n",
       "      <td>M</td>\n",
       "      <td>сотрудник</td>\n",
       "      <td>0</td>\n",
       "      <td>144425.938277</td>\n",
       "      <td>покупка жилья для семьи</td>\n",
       "    </tr>\n",
       "    <tr>\n",
       "      <th>10</th>\n",
       "      <td>2</td>\n",
       "      <td>-4171.483647</td>\n",
       "      <td>36</td>\n",
       "      <td>высшее</td>\n",
       "      <td>0</td>\n",
       "      <td>женат / замужем</td>\n",
       "      <td>0</td>\n",
       "      <td>M</td>\n",
       "      <td>компаньон</td>\n",
       "      <td>0</td>\n",
       "      <td>113943.491460</td>\n",
       "      <td>покупка недвижимости</td>\n",
       "    </tr>\n",
       "    <tr>\n",
       "      <th>11</th>\n",
       "      <td>0</td>\n",
       "      <td>-792.701887</td>\n",
       "      <td>40</td>\n",
       "      <td>среднее</td>\n",
       "      <td>1</td>\n",
       "      <td>женат / замужем</td>\n",
       "      <td>0</td>\n",
       "      <td>F</td>\n",
       "      <td>сотрудник</td>\n",
       "      <td>0</td>\n",
       "      <td>77069.234271</td>\n",
       "      <td>покупка коммерческой недвижимости</td>\n",
       "    </tr>\n",
       "    <tr>\n",
       "      <th>12</th>\n",
       "      <td>0</td>\n",
       "      <td>NaN</td>\n",
       "      <td>65</td>\n",
       "      <td>среднее</td>\n",
       "      <td>1</td>\n",
       "      <td>гражданский брак</td>\n",
       "      <td>1</td>\n",
       "      <td>M</td>\n",
       "      <td>пенсионер</td>\n",
       "      <td>0</td>\n",
       "      <td>NaN</td>\n",
       "      <td>сыграть свадьбу</td>\n",
       "    </tr>\n",
       "    <tr>\n",
       "      <th>13</th>\n",
       "      <td>0</td>\n",
       "      <td>-1846.641941</td>\n",
       "      <td>54</td>\n",
       "      <td>неоконченное высшее</td>\n",
       "      <td>2</td>\n",
       "      <td>женат / замужем</td>\n",
       "      <td>0</td>\n",
       "      <td>F</td>\n",
       "      <td>сотрудник</td>\n",
       "      <td>0</td>\n",
       "      <td>130458.228857</td>\n",
       "      <td>приобретение автомобиля</td>\n",
       "    </tr>\n",
       "    <tr>\n",
       "      <th>14</th>\n",
       "      <td>0</td>\n",
       "      <td>-1844.956182</td>\n",
       "      <td>56</td>\n",
       "      <td>высшее</td>\n",
       "      <td>0</td>\n",
       "      <td>гражданский брак</td>\n",
       "      <td>1</td>\n",
       "      <td>F</td>\n",
       "      <td>компаньон</td>\n",
       "      <td>1</td>\n",
       "      <td>165127.911772</td>\n",
       "      <td>покупка жилой недвижимости</td>\n",
       "    </tr>\n",
       "    <tr>\n",
       "      <th>15</th>\n",
       "      <td>1</td>\n",
       "      <td>-972.364419</td>\n",
       "      <td>26</td>\n",
       "      <td>среднее</td>\n",
       "      <td>1</td>\n",
       "      <td>женат / замужем</td>\n",
       "      <td>0</td>\n",
       "      <td>F</td>\n",
       "      <td>сотрудник</td>\n",
       "      <td>0</td>\n",
       "      <td>116820.904450</td>\n",
       "      <td>строительство собственной недвижимости</td>\n",
       "    </tr>\n",
       "    <tr>\n",
       "      <th>16</th>\n",
       "      <td>0</td>\n",
       "      <td>-1719.934226</td>\n",
       "      <td>35</td>\n",
       "      <td>среднее</td>\n",
       "      <td>1</td>\n",
       "      <td>женат / замужем</td>\n",
       "      <td>0</td>\n",
       "      <td>F</td>\n",
       "      <td>сотрудник</td>\n",
       "      <td>0</td>\n",
       "      <td>289202.704229</td>\n",
       "      <td>недвижимость</td>\n",
       "    </tr>\n",
       "    <tr>\n",
       "      <th>17</th>\n",
       "      <td>0</td>\n",
       "      <td>-2369.999720</td>\n",
       "      <td>33</td>\n",
       "      <td>высшее</td>\n",
       "      <td>0</td>\n",
       "      <td>гражданский брак</td>\n",
       "      <td>1</td>\n",
       "      <td>M</td>\n",
       "      <td>сотрудник</td>\n",
       "      <td>0</td>\n",
       "      <td>90410.586745</td>\n",
       "      <td>строительство недвижимости</td>\n",
       "    </tr>\n",
       "    <tr>\n",
       "      <th>18</th>\n",
       "      <td>0</td>\n",
       "      <td>400281.136913</td>\n",
       "      <td>53</td>\n",
       "      <td>среднее</td>\n",
       "      <td>1</td>\n",
       "      <td>вдовец / вдова</td>\n",
       "      <td>2</td>\n",
       "      <td>F</td>\n",
       "      <td>пенсионер</td>\n",
       "      <td>0</td>\n",
       "      <td>56823.777243</td>\n",
       "      <td>на покупку подержанного автомобиля</td>\n",
       "    </tr>\n",
       "    <tr>\n",
       "      <th>19</th>\n",
       "      <td>0</td>\n",
       "      <td>-10038.818549</td>\n",
       "      <td>48</td>\n",
       "      <td>СРЕДНЕЕ</td>\n",
       "      <td>1</td>\n",
       "      <td>в разводе</td>\n",
       "      <td>3</td>\n",
       "      <td>F</td>\n",
       "      <td>сотрудник</td>\n",
       "      <td>0</td>\n",
       "      <td>242831.107982</td>\n",
       "      <td>на покупку своего автомобиля</td>\n",
       "    </tr>\n",
       "  </tbody>\n",
       "</table>\n",
       "</div>"
      ],
      "text/plain": [
       "    children  days_employed  dob_years            education  education_id  \\\n",
       "0          1   -8437.673028         42               высшее             0   \n",
       "1          1   -4024.803754         36              среднее             1   \n",
       "2          0   -5623.422610         33              Среднее             1   \n",
       "3          3   -4124.747207         32              среднее             1   \n",
       "4          0  340266.072047         53              среднее             1   \n",
       "5          0    -926.185831         27               высшее             0   \n",
       "6          0   -2879.202052         43               высшее             0   \n",
       "7          0    -152.779569         50              СРЕДНЕЕ             1   \n",
       "8          2   -6929.865299         35               ВЫСШЕЕ             0   \n",
       "9          0   -2188.756445         41              среднее             1   \n",
       "10         2   -4171.483647         36               высшее             0   \n",
       "11         0    -792.701887         40              среднее             1   \n",
       "12         0            NaN         65              среднее             1   \n",
       "13         0   -1846.641941         54  неоконченное высшее             2   \n",
       "14         0   -1844.956182         56               высшее             0   \n",
       "15         1    -972.364419         26              среднее             1   \n",
       "16         0   -1719.934226         35              среднее             1   \n",
       "17         0   -2369.999720         33               высшее             0   \n",
       "18         0  400281.136913         53              среднее             1   \n",
       "19         0  -10038.818549         48              СРЕДНЕЕ             1   \n",
       "\n",
       "       family_status  family_status_id gender income_type  debt  \\\n",
       "0    женат / замужем                 0      F   сотрудник     0   \n",
       "1    женат / замужем                 0      F   сотрудник     0   \n",
       "2    женат / замужем                 0      M   сотрудник     0   \n",
       "3    женат / замужем                 0      M   сотрудник     0   \n",
       "4   гражданский брак                 1      F   пенсионер     0   \n",
       "5   гражданский брак                 1      M   компаньон     0   \n",
       "6    женат / замужем                 0      F   компаньон     0   \n",
       "7    женат / замужем                 0      M   сотрудник     0   \n",
       "8   гражданский брак                 1      F   сотрудник     0   \n",
       "9    женат / замужем                 0      M   сотрудник     0   \n",
       "10   женат / замужем                 0      M   компаньон     0   \n",
       "11   женат / замужем                 0      F   сотрудник     0   \n",
       "12  гражданский брак                 1      M   пенсионер     0   \n",
       "13   женат / замужем                 0      F   сотрудник     0   \n",
       "14  гражданский брак                 1      F   компаньон     1   \n",
       "15   женат / замужем                 0      F   сотрудник     0   \n",
       "16   женат / замужем                 0      F   сотрудник     0   \n",
       "17  гражданский брак                 1      M   сотрудник     0   \n",
       "18    вдовец / вдова                 2      F   пенсионер     0   \n",
       "19         в разводе                 3      F   сотрудник     0   \n",
       "\n",
       "     total_income                                 purpose  \n",
       "0   253875.639453                           покупка жилья  \n",
       "1   112080.014102                 приобретение автомобиля  \n",
       "2   145885.952297                           покупка жилья  \n",
       "3   267628.550329              дополнительное образование  \n",
       "4   158616.077870                         сыграть свадьбу  \n",
       "5   255763.565419                           покупка жилья  \n",
       "6   240525.971920                       операции с жильем  \n",
       "7   135823.934197                             образование  \n",
       "8    95856.832424                   на проведение свадьбы  \n",
       "9   144425.938277                 покупка жилья для семьи  \n",
       "10  113943.491460                    покупка недвижимости  \n",
       "11   77069.234271       покупка коммерческой недвижимости  \n",
       "12            NaN                         сыграть свадьбу  \n",
       "13  130458.228857                 приобретение автомобиля  \n",
       "14  165127.911772              покупка жилой недвижимости  \n",
       "15  116820.904450  строительство собственной недвижимости  \n",
       "16  289202.704229                            недвижимость  \n",
       "17   90410.586745              строительство недвижимости  \n",
       "18   56823.777243      на покупку подержанного автомобиля  \n",
       "19  242831.107982            на покупку своего автомобиля  "
      ]
     },
     "execution_count": 2,
     "metadata": {},
     "output_type": "execute_result"
    }
   ],
   "source": [
    "data.head(20)"
   ]
  },
  {
   "attachments": {},
   "cell_type": "markdown",
   "id": "fe9cc8d5",
   "metadata": {
    "deletable": false,
    "editable": false,
    "id": "1c12e233"
   },
   "source": [
    "**Выведем основную информацию о датафрейме с помощью метода `info()`.**"
   ]
  },
  {
   "attachments": {},
   "cell_type": "markdown",
   "id": "244d310f",
   "metadata": {},
   "source": [
    "<a id='item_1_1'></a> [Переход к шагу 3](#item_2_7_1_1)"
   ]
  },
  {
   "cell_type": "code",
   "execution_count": 3,
   "id": "36818b8c",
   "metadata": {
    "deletable": false,
    "id": "2b757bca",
    "outputId": "15376089-8dad-46c9-b520-c05248d43158"
   },
   "outputs": [
    {
     "name": "stdout",
     "output_type": "stream",
     "text": [
      "<class 'pandas.core.frame.DataFrame'>\n",
      "RangeIndex: 21525 entries, 0 to 21524\n",
      "Data columns (total 12 columns):\n",
      " #   Column            Non-Null Count  Dtype  \n",
      "---  ------            --------------  -----  \n",
      " 0   children          21525 non-null  int64  \n",
      " 1   days_employed     19351 non-null  float64\n",
      " 2   dob_years         21525 non-null  int64  \n",
      " 3   education         21525 non-null  object \n",
      " 4   education_id      21525 non-null  int64  \n",
      " 5   family_status     21525 non-null  object \n",
      " 6   family_status_id  21525 non-null  int64  \n",
      " 7   gender            21525 non-null  object \n",
      " 8   income_type       21525 non-null  object \n",
      " 9   debt              21525 non-null  int64  \n",
      " 10  total_income      19351 non-null  float64\n",
      " 11  purpose           21525 non-null  object \n",
      "dtypes: float64(2), int64(5), object(5)\n",
      "memory usage: 2.0+ MB\n"
     ]
    }
   ],
   "source": [
    "data.info()"
   ]
  },
  {
   "attachments": {},
   "cell_type": "markdown",
   "id": "67e396af",
   "metadata": {
    "deletable": false,
    "editable": false,
    "id": "333ec665"
   },
   "source": [
    "## Предобработка данных"
   ]
  },
  {
   "attachments": {},
   "cell_type": "markdown",
   "id": "056b507f",
   "metadata": {
    "deletable": false,
    "editable": false,
    "id": "02d92d53"
   },
   "source": [
    "### Удаление пропусков"
   ]
  },
  {
   "attachments": {},
   "cell_type": "markdown",
   "id": "7031fdfe",
   "metadata": {
    "deletable": false,
    "editable": false,
    "id": "cd84967c"
   },
   "source": [
    "**Выведем количество пропущенных значений для каждого столбца. Используем комбинацию двух методов.**"
   ]
  },
  {
   "cell_type": "code",
   "execution_count": 4,
   "id": "bebe5036",
   "metadata": {
    "deletable": false,
    "id": "7f9b2309",
    "outputId": "81f4d817-781c-465c-ed15-91ce4446810d"
   },
   "outputs": [
    {
     "data": {
      "text/plain": [
       "children               0\n",
       "days_employed       2174\n",
       "dob_years              0\n",
       "education              0\n",
       "education_id           0\n",
       "family_status          0\n",
       "family_status_id       0\n",
       "gender                 0\n",
       "income_type            0\n",
       "debt                   0\n",
       "total_income        2174\n",
       "purpose                0\n",
       "dtype: int64"
      ]
     },
     "execution_count": 4,
     "metadata": {},
     "output_type": "execute_result"
    }
   ],
   "source": [
    "data.isna().sum()"
   ]
  },
  {
   "attachments": {},
   "cell_type": "markdown",
   "id": "ab9c9da3",
   "metadata": {},
   "source": [
    "**<a id='item_1_2'></a> Для ответа в задании [2.7.5](#item_2_7_5) до проведения предобработки датафрейма проверим, в одних и тех же ли строках пропуски в столбцах `days_employed` и `total_income`, т.к. количество пропусков совпадает и равно 2174. А также как распределены данные пропуски по значениям в столбцах `dob_years`, `education_id`, `family_status_id`, `gender`, `income_type`, `debt`**"
   ]
  },
  {
   "attachments": {},
   "cell_type": "markdown",
   "id": "76e0723c",
   "metadata": {},
   "source": [
    "**Выведем сначала количество строк, в которых одновременно пропущены значения в столбце `days_employed` и в столбце `total_income`, используя логическую индексацию и метод `count()`.**"
   ]
  },
  {
   "cell_type": "code",
   "execution_count": 5,
   "id": "83f8d785",
   "metadata": {},
   "outputs": [
    {
     "data": {
      "text/plain": [
       "2174"
      ]
     },
     "execution_count": 5,
     "metadata": {},
     "output_type": "execute_result"
    }
   ],
   "source": [
    "data.loc[(data['days_employed'].isna()) & (data['total_income'].isna())]['debt'].count()"
   ]
  },
  {
   "attachments": {},
   "cell_type": "markdown",
   "id": "cf97f6e2",
   "metadata": {},
   "source": [
    "Видим, что значение совпадает с количество пропусков в каждом из столбцов `days_employed` и `total_income`. Можно сделать вывод, что пропуски в обоих столбцах соответствуют одним и тем же строка датафрейма `data`."
   ]
  },
  {
   "attachments": {},
   "cell_type": "markdown",
   "id": "58cabd7f",
   "metadata": {},
   "source": [
    "**Проверим поочередно, как распределены данные пропуски в датафрейме `data` по значениям в столбцах `dob_years`, `education_id`, `family_status_id`, `gender`, `income_type`, `debt`, используя логическую индексацию и метод `value_counts()` с параметром `normalize=True` для получения результата в долях от общего числа пропусков.**"
   ]
  },
  {
   "attachments": {},
   "cell_type": "markdown",
   "id": "47a60aa3",
   "metadata": {},
   "source": [
    "**Начнем с распределения по столбцу `dob_years`, но дополнительно применим функцию `cut()`, где на первом месте аргумента поставим отсортированный столбец `dob_years`, а на втором месте аргумента поставим 5 для разбивания всех значений возраста на 5 равных диапазонов. Добавим также условие возраста не ниже 19 лет, т.к. после всех предобработок ниже мы уже знаем, что \"полезные\" данные у нас начинаются от 19 лет и выше.**"
   ]
  },
  {
   "cell_type": "code",
   "execution_count": 6,
   "id": "07fbaff9",
   "metadata": {},
   "outputs": [
    {
     "data": {
      "text/plain": [
       "(62.2, 73.0]      0.067930\n",
       "(18.946, 29.8]    0.138170\n",
       "(51.4, 62.2]      0.237985\n",
       "(40.6, 51.4]      0.264325\n",
       "(29.8, 40.6]      0.291590\n",
       "Name: dob_years, dtype: float64"
      ]
     },
     "execution_count": 6,
     "metadata": {},
     "output_type": "execute_result"
    }
   ],
   "source": [
    "pd.cut(data.loc[(data['total_income'].isna()) & (data['dob_years'] >= 19)]['dob_years'], 5).value_counts(normalize=True).sort_values()"
   ]
  },
  {
   "attachments": {},
   "cell_type": "markdown",
   "id": "918230ac",
   "metadata": {},
   "source": [
    "Какой-то явной зависимости пропусков в датафрейме от диапазонов возраста мы здесь не видим. Но наименьший процент пропусков соответствует возрасту от 18 до 30 и от 62 до 73 лет."
   ]
  },
  {
   "attachments": {},
   "cell_type": "markdown",
   "id": "1a8e152c",
   "metadata": {},
   "source": [
    "**Далее посмотрим распределения пропусков по столбцу `education_id` и выведем строкой ниже до удаления неявных дубликатов соответствие значений столбца `education_id` и `education` для двух первых строк**"
   ]
  },
  {
   "cell_type": "code",
   "execution_count": 7,
   "id": "764b1454",
   "metadata": {
    "scrolled": false
   },
   "outputs": [
    {
     "name": "stdout",
     "output_type": "stream",
     "text": [
      "1    0.708372\n",
      "0    0.250230\n",
      "2    0.031739\n",
      "3    0.009660\n",
      "Name: education_id, dtype: float64\n"
     ]
    },
    {
     "data": {
      "text/html": [
       "<div>\n",
       "<style scoped>\n",
       "    .dataframe tbody tr th:only-of-type {\n",
       "        vertical-align: middle;\n",
       "    }\n",
       "\n",
       "    .dataframe tbody tr th {\n",
       "        vertical-align: top;\n",
       "    }\n",
       "\n",
       "    .dataframe thead th {\n",
       "        text-align: right;\n",
       "    }\n",
       "</style>\n",
       "<table border=\"1\" class=\"dataframe\">\n",
       "  <thead>\n",
       "    <tr style=\"text-align: right;\">\n",
       "      <th></th>\n",
       "      <th>education</th>\n",
       "      <th>education_id</th>\n",
       "    </tr>\n",
       "  </thead>\n",
       "  <tbody>\n",
       "    <tr>\n",
       "      <th>0</th>\n",
       "      <td>высшее</td>\n",
       "      <td>0</td>\n",
       "    </tr>\n",
       "    <tr>\n",
       "      <th>1</th>\n",
       "      <td>среднее</td>\n",
       "      <td>1</td>\n",
       "    </tr>\n",
       "  </tbody>\n",
       "</table>\n",
       "</div>"
      ],
      "text/plain": [
       "  education  education_id\n",
       "0    высшее             0\n",
       "1   среднее             1"
      ]
     },
     "execution_count": 7,
     "metadata": {},
     "output_type": "execute_result"
    }
   ],
   "source": [
    "print(data[data['total_income'].isna()]['education_id'].value_counts(normalize=True))\n",
    "data[data['education_id'] <= 1][['education', 'education_id']].head(2)"
   ]
  },
  {
   "attachments": {},
   "cell_type": "markdown",
   "id": "0186a336",
   "metadata": {},
   "source": [
    "Видим, что большего всего пропусков соответствует значению `'среднее'` ~71% и значению `'высшее'` ~25%."
   ]
  },
  {
   "attachments": {},
   "cell_type": "markdown",
   "id": "20d75fde",
   "metadata": {},
   "source": [
    "**Далее посмотрим распределения пропусков по столбцу `family_status_id` и выведем строкой ниже до удаления неявных дубликатов соответствие значений столбца `family_status_id` и `family_status`.**"
   ]
  },
  {
   "cell_type": "code",
   "execution_count": 8,
   "id": "66feb1a9",
   "metadata": {
    "scrolled": true
   },
   "outputs": [
    {
     "name": "stdout",
     "output_type": "stream",
     "text": [
      "0    0.568997\n",
      "1    0.203312\n",
      "4    0.132475\n",
      "3    0.051518\n",
      "2    0.043698\n",
      "Name: family_status_id, dtype: float64\n"
     ]
    },
    {
     "data": {
      "text/plain": [
       "family_status\n",
       "Не женат / не замужем    [4]\n",
       "в разводе                [3]\n",
       "вдовец / вдова           [2]\n",
       "гражданский брак         [1]\n",
       "женат / замужем          [0]\n",
       "Name: family_status_id, dtype: object"
      ]
     },
     "execution_count": 8,
     "metadata": {},
     "output_type": "execute_result"
    }
   ],
   "source": [
    "print(data[data['total_income'].isna()]['family_status_id'].value_counts(normalize=True))\n",
    "data.groupby('family_status')['family_status_id'].unique()"
   ]
  },
  {
   "attachments": {},
   "cell_type": "markdown",
   "id": "bf68cba5",
   "metadata": {},
   "source": [
    "Видим, что больше всего пропусков соответствуют значению `'женат / замужем'` ~57% и значению `'гражданский брак'` ~20%."
   ]
  },
  {
   "attachments": {},
   "cell_type": "markdown",
   "id": "a25408c1",
   "metadata": {},
   "source": [
    "**Далее посмотрим распределения пропусков по столбцу `gender`.**"
   ]
  },
  {
   "cell_type": "code",
   "execution_count": 9,
   "id": "9acce896",
   "metadata": {},
   "outputs": [
    {
     "data": {
      "text/plain": [
       "F    0.682613\n",
       "M    0.317387\n",
       "Name: gender, dtype: float64"
      ]
     },
     "execution_count": 9,
     "metadata": {},
     "output_type": "execute_result"
    }
   ],
   "source": [
    "data[data['total_income'].isna()]['gender'].value_counts(normalize=True)"
   ]
  },
  {
   "attachments": {},
   "cell_type": "markdown",
   "id": "a1e45877",
   "metadata": {},
   "source": [
    "Видим, что больше всего пропусков соответствуют значению `'F'` ~68%."
   ]
  },
  {
   "attachments": {},
   "cell_type": "markdown",
   "id": "9f8abc8c",
   "metadata": {},
   "source": [
    "**Далее посмотрим распределения пропусков по столбцу `income_type`.**"
   ]
  },
  {
   "cell_type": "code",
   "execution_count": 10,
   "id": "b359ff1b",
   "metadata": {},
   "outputs": [
    {
     "data": {
      "text/plain": [
       "сотрудник          0.508280\n",
       "компаньон          0.233671\n",
       "пенсионер          0.189972\n",
       "госслужащий        0.067617\n",
       "предприниматель    0.000460\n",
       "Name: income_type, dtype: float64"
      ]
     },
     "execution_count": 10,
     "metadata": {},
     "output_type": "execute_result"
    }
   ],
   "source": [
    "data[data['total_income'].isna()]['income_type'].value_counts(normalize=True)"
   ]
  },
  {
   "attachments": {},
   "cell_type": "markdown",
   "id": "9be3173a",
   "metadata": {},
   "source": [
    "Видим, что больше всего пропусков соответствуют значению `'сотрудник'` ~51% и значению `'компаньон'` ~23%."
   ]
  },
  {
   "attachments": {},
   "cell_type": "markdown",
   "id": "f0aeeb5a",
   "metadata": {},
   "source": [
    "**Далее посмотрим распределения пропусков по столбцу `debt`.**"
   ]
  },
  {
   "cell_type": "code",
   "execution_count": 11,
   "id": "838b9bcf",
   "metadata": {},
   "outputs": [
    {
     "data": {
      "text/plain": [
       "0    0.921803\n",
       "1    0.078197\n",
       "Name: debt, dtype: float64"
      ]
     },
     "execution_count": 11,
     "metadata": {},
     "output_type": "execute_result"
    }
   ],
   "source": [
    "data[data['total_income'].isna()]['debt'].value_counts(normalize=True)"
   ]
  },
  {
   "attachments": {},
   "cell_type": "markdown",
   "id": "14e781e6",
   "metadata": {},
   "source": [
    "Видим, что больше всего пропусков соответствуют значению `'0'` ~92%, что соответствует отсутствию задолженности по кредитам."
   ]
  },
  {
   "attachments": {},
   "cell_type": "markdown",
   "id": "5a29d41a",
   "metadata": {},
   "source": [
    "[Переход к вопросу 2.7.5](#item_2_7_5)"
   ]
  },
  {
   "attachments": {},
   "cell_type": "markdown",
   "id": "bca963ca",
   "metadata": {
    "deletable": false,
    "editable": false,
    "id": "db86e27b"
   },
   "source": [
    "**В двух столбцах есть пропущенные значения. Один из них — `days_employed`. Пропуски в этом столбце обработаем на следующем этапе. Другой столбец с пропущенными значениями — `total_income` — хранит данные о доходах. На сумму дохода сильнее всего влияет тип занятости, поэтому заполним пропуски в этом столбце медианным значением по каждому типу из столбца `income_type`. Например, у человека с типом занятости `сотрудник` пропуск в столбце `total_income` должен быть заполнен медианным доходом среди всех записей с тем же типом.**"
   ]
  },
  {
   "cell_type": "code",
   "execution_count": 12,
   "id": "f889b1ce",
   "metadata": {
    "deletable": false,
    "id": "42006a93"
   },
   "outputs": [],
   "source": [
    "for t in data['income_type'].unique():\n",
    "    data.loc[(data['income_type'] == t) & (data['total_income'].isna()), 'total_income'] = \\\n",
    "    data.loc[(data['income_type'] == t), 'total_income'].median()"
   ]
  },
  {
   "attachments": {},
   "cell_type": "markdown",
   "id": "64d878ed",
   "metadata": {
    "deletable": false,
    "editable": false,
    "id": "89da5ece"
   },
   "source": [
    "### Обработка аномальных значений"
   ]
  },
  {
   "attachments": {},
   "cell_type": "markdown",
   "id": "726368ba",
   "metadata": {
    "deletable": false,
    "editable": false,
    "id": "57964554"
   },
   "source": [
    "**В данных могут встречаться артефакты (аномалии) — значения, которые не отражают действительность и появились по какой-то ошибке. таким артефактом будет отрицательное количество дней трудового стажа в столбце `days_employed`. Для реальных данных это нормально. Обработаем значения в этом столбце: заменим все отрицательные значения положительными с помощью метода `abs()`.**"
   ]
  },
  {
   "cell_type": "code",
   "execution_count": 13,
   "id": "628d96f2",
   "metadata": {
    "deletable": false,
    "id": "f6f055bf"
   },
   "outputs": [],
   "source": [
    "data['days_employed'] = data['days_employed'].abs()"
   ]
  },
  {
   "attachments": {},
   "cell_type": "markdown",
   "id": "f2aeece5",
   "metadata": {
    "deletable": false,
    "editable": false,
    "id": "6107dd2f"
   },
   "source": [
    "**Для каждого типа занятости выведем медианное значение трудового стажа `days_employed` в днях.**"
   ]
  },
  {
   "cell_type": "code",
   "execution_count": 14,
   "id": "92647cfe",
   "metadata": {
    "deletable": false,
    "id": "85a5faf6",
    "outputId": "801ef80e-522b-4668-f34e-565af7432bcf"
   },
   "outputs": [
    {
     "data": {
      "text/plain": [
       "income_type\n",
       "безработный        366413.652744\n",
       "в декрете            3296.759962\n",
       "госслужащий          2689.368353\n",
       "компаньон            1547.382223\n",
       "пенсионер          365213.306266\n",
       "предприниматель       520.848083\n",
       "сотрудник            1574.202821\n",
       "студент               578.751554\n",
       "Name: days_employed, dtype: float64"
      ]
     },
     "execution_count": 14,
     "metadata": {},
     "output_type": "execute_result"
    }
   ],
   "source": [
    "data.groupby('income_type')['days_employed'].agg('median')"
   ]
  },
  {
   "attachments": {},
   "cell_type": "markdown",
   "id": "5779203b",
   "metadata": {
    "deletable": false,
    "editable": false,
    "id": "38d1a030"
   },
   "source": [
    "У двух типов (безработные и пенсионеры) получатся аномально большие значения. Исправить такие значения сложно, поэтому оставим их как есть. Тем более этот столбец не понадобится для исследования."
   ]
  },
  {
   "attachments": {},
   "cell_type": "markdown",
   "id": "c504ce17",
   "metadata": {
    "deletable": false,
    "editable": false,
    "id": "d8a9f147"
   },
   "source": [
    "**Выведем перечень уникальных значений столбца `children`.**"
   ]
  },
  {
   "cell_type": "code",
   "execution_count": 15,
   "id": "7b226d1f",
   "metadata": {
    "deletable": false,
    "id": "ef5056eb",
    "outputId": "6975b15c-7f95-4697-d16d-a0c79b657b03"
   },
   "outputs": [
    {
     "data": {
      "text/plain": [
       "array([ 1,  0,  3,  2, -1,  4, 20,  5])"
      ]
     },
     "execution_count": 15,
     "metadata": {},
     "output_type": "execute_result"
    }
   ],
   "source": [
    "data['children'].unique()"
   ]
  },
  {
   "attachments": {},
   "cell_type": "markdown",
   "id": "a085713e",
   "metadata": {},
   "source": [
    "**Оценим какое количество строк данных будет потеряно в случае удаления строк с аномальными значениями в столбце `children`.**"
   ]
  },
  {
   "cell_type": "code",
   "execution_count": 16,
   "id": "6d3ef65b",
   "metadata": {},
   "outputs": [
    {
     "data": {
      "text/plain": [
       "123"
      ]
     },
     "execution_count": 16,
     "metadata": {},
     "output_type": "execute_result"
    }
   ],
   "source": [
    "data[(data['children'] == -1) | (data['children'] == 20)]['children'].count()"
   ]
  },
  {
   "attachments": {},
   "cell_type": "markdown",
   "id": "76491f78",
   "metadata": {},
   "source": [
    "Получаем значение менее 1% от всех данных, что можно считать не критичным уменьшением данных для анализа."
   ]
  },
  {
   "attachments": {},
   "cell_type": "markdown",
   "id": "b7d2d8e5",
   "metadata": {
    "deletable": false,
    "editable": false,
    "id": "40b9ebf2"
   },
   "source": [
    "**В столбце `children` есть два аномальных значения. Удалим строки, в которых встречаются такие аномальные значения из датафрейма `data`.**"
   ]
  },
  {
   "cell_type": "code",
   "execution_count": 17,
   "id": "ae869b30",
   "metadata": {
    "deletable": false,
    "id": "3ff9801d"
   },
   "outputs": [],
   "source": [
    "data = data[(data['children'] != -1) & (data['children'] != 20)]"
   ]
  },
  {
   "attachments": {},
   "cell_type": "markdown",
   "id": "5bc90639",
   "metadata": {
    "deletable": false,
    "editable": false,
    "id": "bbc4d0ce"
   },
   "source": [
    "**Ещё раз выведем перечень уникальных значений столбца `children`, чтобы убедиться, что артефакты удалены.**"
   ]
  },
  {
   "cell_type": "code",
   "execution_count": 18,
   "id": "752b6632",
   "metadata": {
    "deletable": false,
    "id": "ad4fa8b7",
    "outputId": "b2097101-d49d-44d9-901b-32a65c9463d1"
   },
   "outputs": [
    {
     "data": {
      "text/plain": [
       "array([1, 0, 3, 2, 4, 5])"
      ]
     },
     "execution_count": 18,
     "metadata": {},
     "output_type": "execute_result"
    }
   ],
   "source": [
    "data['children'].unique()"
   ]
  },
  {
   "attachments": {},
   "cell_type": "markdown",
   "id": "312dfe23",
   "metadata": {
    "deletable": false,
    "editable": false,
    "id": "75440b63"
   },
   "source": [
    "### Удаление пропусков (продолженине)"
   ]
  },
  {
   "attachments": {},
   "cell_type": "markdown",
   "id": "de30bae6",
   "metadata": {
    "deletable": false,
    "editable": false,
    "id": "f4ea573f"
   },
   "source": [
    "**Заполним пропуски в столбце `days_employed` медианными значениями по каждому типу занятости `income_type`.**"
   ]
  },
  {
   "cell_type": "code",
   "execution_count": 19,
   "id": "98853599",
   "metadata": {
    "deletable": false,
    "id": "af6b1a7e"
   },
   "outputs": [],
   "source": [
    "for t in data['income_type'].unique():\n",
    "    data.loc[(data['income_type'] == t) & (data['days_employed'].isna()), 'days_employed'] = \\\n",
    "    data.loc[(data['income_type'] == t), 'days_employed'].median()"
   ]
  },
  {
   "attachments": {},
   "cell_type": "markdown",
   "id": "49a56946",
   "metadata": {
    "deletable": false,
    "editable": false,
    "id": "2753f40d"
   },
   "source": [
    "**Убедимся, что все пропуски заполнены. Проверим себя и ещё раз выведем количество пропущенных значений для каждого столбца с помощью двух методов.**"
   ]
  },
  {
   "cell_type": "code",
   "execution_count": 20,
   "id": "15bf5d8e",
   "metadata": {
    "deletable": false,
    "id": "55f78bc2",
    "outputId": "8da1e4e1-358e-4e87-98c9-f261bce0a7b2"
   },
   "outputs": [
    {
     "data": {
      "text/plain": [
       "children            0\n",
       "days_employed       0\n",
       "dob_years           0\n",
       "education           0\n",
       "education_id        0\n",
       "family_status       0\n",
       "family_status_id    0\n",
       "gender              0\n",
       "income_type         0\n",
       "debt                0\n",
       "total_income        0\n",
       "purpose             0\n",
       "dtype: int64"
      ]
     },
     "execution_count": 20,
     "metadata": {},
     "output_type": "execute_result"
    }
   ],
   "source": [
    "data.isna().sum()"
   ]
  },
  {
   "attachments": {},
   "cell_type": "markdown",
   "id": "7bb6a365",
   "metadata": {
    "deletable": false,
    "editable": false,
    "id": "ddc81e43"
   },
   "source": [
    "### Изменение типов данных"
   ]
  },
  {
   "attachments": {},
   "cell_type": "markdown",
   "id": "71f7c337",
   "metadata": {
    "deletable": false,
    "editable": false,
    "id": "42d19d24"
   },
   "source": [
    "**Заменим вещественный тип данных в столбце `total_income` на целочисленный с помощью метода `astype()`.**"
   ]
  },
  {
   "cell_type": "code",
   "execution_count": 21,
   "id": "243527e0",
   "metadata": {
    "deletable": false,
    "id": "920b65ad"
   },
   "outputs": [],
   "source": [
    "data['total_income'] = data['total_income'].astype('int')"
   ]
  },
  {
   "attachments": {},
   "cell_type": "markdown",
   "id": "ea2cd912",
   "metadata": {
    "deletable": false,
    "editable": false,
    "id": "80c420ba"
   },
   "source": [
    "### Обработка дубликатов"
   ]
  },
  {
   "attachments": {},
   "cell_type": "markdown",
   "id": "faa9fb88",
   "metadata": {
    "deletable": false,
    "editable": false
   },
   "source": [
    "**Обработаем неявные дубликаты в столбце `education`. В этом столбце есть одни и те же значения, но записанные по-разному: с использованием заглавных и строчных букв. Приведем их к нижнему регистру.**"
   ]
  },
  {
   "cell_type": "code",
   "execution_count": 22,
   "id": "4b896269",
   "metadata": {
    "deletable": false
   },
   "outputs": [],
   "source": [
    "data['education'] = data['education'].str.lower()"
   ]
  },
  {
   "attachments": {},
   "cell_type": "markdown",
   "id": "77abd04b",
   "metadata": {
    "deletable": false,
    "editable": false,
    "id": "dc587695"
   },
   "source": [
    "**Выведем на экран количество строк-дубликатов в данных. Если такие строки присутствуют, удалим их.**"
   ]
  },
  {
   "attachments": {},
   "cell_type": "markdown",
   "id": "ae9cd0c2",
   "metadata": {},
   "source": [
    "<a id='item_2_5'></a> [Переход к шагу 3](#item_2_7_1_2)"
   ]
  },
  {
   "cell_type": "code",
   "execution_count": 23,
   "id": "491a74be",
   "metadata": {
    "deletable": false,
    "id": "3ee445e4",
    "outputId": "9684deba-1934-42d1-99e1-cda61740f822"
   },
   "outputs": [
    {
     "data": {
      "text/plain": [
       "71"
      ]
     },
     "execution_count": 23,
     "metadata": {},
     "output_type": "execute_result"
    }
   ],
   "source": [
    "data.duplicated().sum()"
   ]
  },
  {
   "cell_type": "code",
   "execution_count": 24,
   "id": "2b6409a4",
   "metadata": {
    "deletable": false,
    "id": "8575fe05"
   },
   "outputs": [],
   "source": [
    "data = data.drop_duplicates()"
   ]
  },
  {
   "attachments": {},
   "cell_type": "markdown",
   "id": "cbfad705",
   "metadata": {
    "deletable": false,
    "editable": false,
    "id": "9904cf55"
   },
   "source": [
    "### Категоризация данных"
   ]
  },
  {
   "attachments": {},
   "cell_type": "markdown",
   "id": "07adaf02",
   "metadata": {
    "deletable": false,
    "editable": false,
    "id": "72fcc8a2"
   },
   "source": [
    "**На основании диапазонов, указанных ниже, создадим в датафрейме `data` столбец `total_income_category` с категориями:**\n",
    "\n",
    "- 0–30000 — `'E'`;\n",
    "- 30001–50000 — `'D'`;\n",
    "- 50001–200000 — `'C'`;\n",
    "- 200001–1000000 — `'B'`;\n",
    "- 1000001 и выше — `'A'`.\n",
    "\n",
    "\n",
    "**Например, кредитополучателю с доходом 25000 назначим категорию `'E'`, а клиенту, получающему 235000, — `'B'`. Используем собственную функцию с именем `categorize_income()` и метод `apply()`.**"
   ]
  },
  {
   "attachments": {},
   "cell_type": "markdown",
   "id": "83e848e8",
   "metadata": {},
   "source": [
    "[К пункту 2.7.1.1](#item_2_7_1_1_2) <a id='item_2_6_1'></a>"
   ]
  },
  {
   "cell_type": "code",
   "execution_count": 25,
   "id": "d9e22038",
   "metadata": {
    "deletable": false,
    "id": "e1771346"
   },
   "outputs": [],
   "source": [
    "def categorize_income(income):\n",
    "    try:\n",
    "        if 0 <= income <= 30000:\n",
    "            return 'E'\n",
    "        elif 30001 <= income <= 50000:\n",
    "            return 'D'\n",
    "        elif 50001 <= income <= 200000:\n",
    "            return 'C'\n",
    "        elif 200001 <= income <= 1000000:\n",
    "            return 'B'\n",
    "        elif income >= 1000001:\n",
    "            return 'A'\n",
    "    except:\n",
    "        pass"
   ]
  },
  {
   "cell_type": "code",
   "execution_count": 26,
   "id": "0f2740ca",
   "metadata": {
    "deletable": false,
    "id": "d5f3586d"
   },
   "outputs": [],
   "source": [
    "data['total_income_category'] = data['total_income'].apply(categorize_income)"
   ]
  },
  {
   "attachments": {},
   "cell_type": "markdown",
   "id": "8eb4a49f",
   "metadata": {
    "deletable": false,
    "editable": false,
    "id": "dde49b5c"
   },
   "source": [
    "**Выведем на экран перечень уникальных целей взятия кредита из столбца `purpose`.**"
   ]
  },
  {
   "cell_type": "code",
   "execution_count": 27,
   "id": "8ec74b51",
   "metadata": {
    "deletable": false,
    "id": "f67ce9b3",
    "outputId": "673c12d9-7d7e-4ae0-9812-c622c89dd244"
   },
   "outputs": [
    {
     "data": {
      "text/plain": [
       "array(['покупка жилья', 'приобретение автомобиля',\n",
       "       'дополнительное образование', 'сыграть свадьбу',\n",
       "       'операции с жильем', 'образование', 'на проведение свадьбы',\n",
       "       'покупка жилья для семьи', 'покупка недвижимости',\n",
       "       'покупка коммерческой недвижимости', 'покупка жилой недвижимости',\n",
       "       'строительство собственной недвижимости', 'недвижимость',\n",
       "       'строительство недвижимости', 'на покупку подержанного автомобиля',\n",
       "       'на покупку своего автомобиля',\n",
       "       'операции с коммерческой недвижимостью',\n",
       "       'строительство жилой недвижимости', 'жилье',\n",
       "       'операции со своей недвижимостью', 'автомобили',\n",
       "       'заняться образованием', 'сделка с подержанным автомобилем',\n",
       "       'получение образования', 'автомобиль', 'свадьба',\n",
       "       'получение дополнительного образования', 'покупка своего жилья',\n",
       "       'операции с недвижимостью', 'получение высшего образования',\n",
       "       'свой автомобиль', 'сделка с автомобилем',\n",
       "       'профильное образование', 'высшее образование',\n",
       "       'покупка жилья для сдачи', 'на покупку автомобиля', 'ремонт жилью',\n",
       "       'заняться высшим образованием'], dtype=object)"
      ]
     },
     "execution_count": 27,
     "metadata": {},
     "output_type": "execute_result"
    }
   ],
   "source": [
    "data['purpose'].unique()"
   ]
  },
  {
   "attachments": {},
   "cell_type": "markdown",
   "id": "8907e741",
   "metadata": {
    "deletable": false,
    "editable": false,
    "id": "85d0aef0"
   },
   "source": [
    "**Создадим функцию, которая на основании данных из столбца `purpose` сформирует новый столбец `purpose_category`, в который войдут следующие категории:**\n",
    "\n",
    "- `'операции с автомобилем'`,\n",
    "- `'операции с недвижимостью'`,\n",
    "- `'проведение свадьбы'`,\n",
    "- `'получение образования'`.\n",
    "\n",
    "**Например, если в столбце `purpose` находится подстрока `'на покупку автомобиля'`, то в столбце `purpose_category` появится строка `'операции с автомобилем'`.**\n",
    "\n",
    "**Используем собственную функцию с именем `categorize_purpose()` и метод `apply()`. Изучим данные в столбце `purpose` и определим, какие подстроки помогут правильно определить категорию.**"
   ]
  },
  {
   "cell_type": "code",
   "execution_count": 28,
   "id": "4d4097e7",
   "metadata": {
    "deletable": false,
    "id": "e149fab4"
   },
   "outputs": [],
   "source": [
    "def categorize_purpose(row):\n",
    "    try:\n",
    "        if 'автом' in row:\n",
    "            return 'операции с автомобилем'\n",
    "        elif 'жил' in row or 'недвиж' in row:\n",
    "            return 'операции с недвижимостью'\n",
    "        elif 'свад' in row:\n",
    "            return 'проведение свадьбы'\n",
    "        elif 'образов' in row:\n",
    "            return 'получение образования'\n",
    "    except:\n",
    "        return 'нет категории'"
   ]
  },
  {
   "cell_type": "code",
   "execution_count": 29,
   "id": "91465d64",
   "metadata": {
    "deletable": false,
    "id": "bf36e69b"
   },
   "outputs": [],
   "source": [
    "data['purpose_category'] = data['purpose'].apply(categorize_purpose)"
   ]
  },
  {
   "attachments": {},
   "cell_type": "markdown",
   "id": "b86d8fe1",
   "metadata": {
    "deletable": false,
    "editable": false,
    "id": "09b242bf"
   },
   "source": [
    "### 3. Исследуем данные"
   ]
  },
  {
   "attachments": {},
   "cell_type": "markdown",
   "id": "eca40348",
   "metadata": {
    "deletable": false,
    "editable": false,
    "id": "c5d66278"
   },
   "source": [
    "#### 3.1 Проверим, есть ли зависимость между количеством детей и возвратом кредита в срок."
   ]
  },
  {
   "attachments": {},
   "cell_type": "markdown",
   "id": "3ea007c0",
   "metadata": {},
   "source": [
    "##### Перед тем, как переходить к исследованию зависимости из п.2.7.1, необходимо дополнительно проверить, что предобработка данных датафрейма `data` выполнена полностью и с ними можно продолжать работу."
   ]
  },
  {
   "attachments": {},
   "cell_type": "markdown",
   "id": "c0fb6b45",
   "metadata": {},
   "source": [
    "**<a id='item_2_7_1_2'></a> Ранее мы удаляли строки с явными дубликатами ([тут](#item_2_5)) и не сбросили индексацию в датафрейме `data`. Сделаем это сейчас с помощью метода `reset_index()` c параметром `drop=True`, не сохраняя тем самым старую индексацию.**"
   ]
  },
  {
   "cell_type": "code",
   "execution_count": 30,
   "id": "d30a05da",
   "metadata": {},
   "outputs": [],
   "source": [
    "data = data.reset_index(drop=True)"
   ]
  },
  {
   "attachments": {},
   "cell_type": "markdown",
   "id": "2fed2951",
   "metadata": {},
   "source": [
    "**После проведения всех операций с данными выше проверим текущую информацию о датафрейме `data`, используя метод `info()`.**"
   ]
  },
  {
   "cell_type": "code",
   "execution_count": 31,
   "id": "3577662c",
   "metadata": {
    "deletable": false,
    "id": "2cacfc4a",
    "scrolled": true
   },
   "outputs": [
    {
     "name": "stdout",
     "output_type": "stream",
     "text": [
      "<class 'pandas.core.frame.DataFrame'>\n",
      "RangeIndex: 21331 entries, 0 to 21330\n",
      "Data columns (total 14 columns):\n",
      " #   Column                 Non-Null Count  Dtype  \n",
      "---  ------                 --------------  -----  \n",
      " 0   children               21331 non-null  int64  \n",
      " 1   days_employed          21331 non-null  float64\n",
      " 2   dob_years              21331 non-null  int64  \n",
      " 3   education              21331 non-null  object \n",
      " 4   education_id           21331 non-null  int64  \n",
      " 5   family_status          21331 non-null  object \n",
      " 6   family_status_id       21331 non-null  int64  \n",
      " 7   gender                 21331 non-null  object \n",
      " 8   income_type            21331 non-null  object \n",
      " 9   debt                   21331 non-null  int64  \n",
      " 10  total_income           21331 non-null  int64  \n",
      " 11  purpose                21331 non-null  object \n",
      " 12  total_income_category  21331 non-null  object \n",
      " 13  purpose_category       21331 non-null  object \n",
      "dtypes: float64(1), int64(6), object(7)\n",
      "memory usage: 2.3+ MB\n"
     ]
    }
   ],
   "source": [
    "data.info()"
   ]
  },
  {
   "attachments": {},
   "cell_type": "markdown",
   "id": "26f9b7b6",
   "metadata": {},
   "source": [
    "Видим, что после удаления строк с аномальными данными в столбце `children` и удаления явных дубликатов количество строк в датафрейме `data` уменьшилось с  21525 до  21331 по сравнению с исходным датафреймом ([информация об исходном DF](#item_1_1)), что составляет менее 1% от всех строк. \n",
    "Такое уменьшение количества данных считаем некритичным влиянием на дальнейшее исследование и можем продолжить его.  <a id='item_2_7_1_1'></a>\n",
    "\n",
    "Также мы видим, что все столбцы теперь не имеют пропусков (объектов `NaN` \\ `None`), и все столбцы имеют одинаковое количество строк."
   ]
  },
  {
   "attachments": {},
   "cell_type": "markdown",
   "id": "72a397f8",
   "metadata": {},
   "source": [
    "**Оценим теперь обновленные данные. Выведем первые 20 строк обновленного датафрейма `data`**"
   ]
  },
  {
   "cell_type": "code",
   "execution_count": 32,
   "id": "2bfc1ec6",
   "metadata": {
    "scrolled": true
   },
   "outputs": [
    {
     "data": {
      "text/html": [
       "<div>\n",
       "<style scoped>\n",
       "    .dataframe tbody tr th:only-of-type {\n",
       "        vertical-align: middle;\n",
       "    }\n",
       "\n",
       "    .dataframe tbody tr th {\n",
       "        vertical-align: top;\n",
       "    }\n",
       "\n",
       "    .dataframe thead th {\n",
       "        text-align: right;\n",
       "    }\n",
       "</style>\n",
       "<table border=\"1\" class=\"dataframe\">\n",
       "  <thead>\n",
       "    <tr style=\"text-align: right;\">\n",
       "      <th></th>\n",
       "      <th>children</th>\n",
       "      <th>days_employed</th>\n",
       "      <th>dob_years</th>\n",
       "      <th>education</th>\n",
       "      <th>education_id</th>\n",
       "      <th>family_status</th>\n",
       "      <th>family_status_id</th>\n",
       "      <th>gender</th>\n",
       "      <th>income_type</th>\n",
       "      <th>debt</th>\n",
       "      <th>total_income</th>\n",
       "      <th>purpose</th>\n",
       "      <th>total_income_category</th>\n",
       "      <th>purpose_category</th>\n",
       "    </tr>\n",
       "  </thead>\n",
       "  <tbody>\n",
       "    <tr>\n",
       "      <th>0</th>\n",
       "      <td>1</td>\n",
       "      <td>8437.673028</td>\n",
       "      <td>42</td>\n",
       "      <td>высшее</td>\n",
       "      <td>0</td>\n",
       "      <td>женат / замужем</td>\n",
       "      <td>0</td>\n",
       "      <td>F</td>\n",
       "      <td>сотрудник</td>\n",
       "      <td>0</td>\n",
       "      <td>253875</td>\n",
       "      <td>покупка жилья</td>\n",
       "      <td>B</td>\n",
       "      <td>операции с недвижимостью</td>\n",
       "    </tr>\n",
       "    <tr>\n",
       "      <th>1</th>\n",
       "      <td>1</td>\n",
       "      <td>4024.803754</td>\n",
       "      <td>36</td>\n",
       "      <td>среднее</td>\n",
       "      <td>1</td>\n",
       "      <td>женат / замужем</td>\n",
       "      <td>0</td>\n",
       "      <td>F</td>\n",
       "      <td>сотрудник</td>\n",
       "      <td>0</td>\n",
       "      <td>112080</td>\n",
       "      <td>приобретение автомобиля</td>\n",
       "      <td>C</td>\n",
       "      <td>операции с автомобилем</td>\n",
       "    </tr>\n",
       "    <tr>\n",
       "      <th>2</th>\n",
       "      <td>0</td>\n",
       "      <td>5623.422610</td>\n",
       "      <td>33</td>\n",
       "      <td>среднее</td>\n",
       "      <td>1</td>\n",
       "      <td>женат / замужем</td>\n",
       "      <td>0</td>\n",
       "      <td>M</td>\n",
       "      <td>сотрудник</td>\n",
       "      <td>0</td>\n",
       "      <td>145885</td>\n",
       "      <td>покупка жилья</td>\n",
       "      <td>C</td>\n",
       "      <td>операции с недвижимостью</td>\n",
       "    </tr>\n",
       "    <tr>\n",
       "      <th>3</th>\n",
       "      <td>3</td>\n",
       "      <td>4124.747207</td>\n",
       "      <td>32</td>\n",
       "      <td>среднее</td>\n",
       "      <td>1</td>\n",
       "      <td>женат / замужем</td>\n",
       "      <td>0</td>\n",
       "      <td>M</td>\n",
       "      <td>сотрудник</td>\n",
       "      <td>0</td>\n",
       "      <td>267628</td>\n",
       "      <td>дополнительное образование</td>\n",
       "      <td>B</td>\n",
       "      <td>получение образования</td>\n",
       "    </tr>\n",
       "    <tr>\n",
       "      <th>4</th>\n",
       "      <td>0</td>\n",
       "      <td>340266.072047</td>\n",
       "      <td>53</td>\n",
       "      <td>среднее</td>\n",
       "      <td>1</td>\n",
       "      <td>гражданский брак</td>\n",
       "      <td>1</td>\n",
       "      <td>F</td>\n",
       "      <td>пенсионер</td>\n",
       "      <td>0</td>\n",
       "      <td>158616</td>\n",
       "      <td>сыграть свадьбу</td>\n",
       "      <td>C</td>\n",
       "      <td>проведение свадьбы</td>\n",
       "    </tr>\n",
       "    <tr>\n",
       "      <th>5</th>\n",
       "      <td>0</td>\n",
       "      <td>926.185831</td>\n",
       "      <td>27</td>\n",
       "      <td>высшее</td>\n",
       "      <td>0</td>\n",
       "      <td>гражданский брак</td>\n",
       "      <td>1</td>\n",
       "      <td>M</td>\n",
       "      <td>компаньон</td>\n",
       "      <td>0</td>\n",
       "      <td>255763</td>\n",
       "      <td>покупка жилья</td>\n",
       "      <td>B</td>\n",
       "      <td>операции с недвижимостью</td>\n",
       "    </tr>\n",
       "    <tr>\n",
       "      <th>6</th>\n",
       "      <td>0</td>\n",
       "      <td>2879.202052</td>\n",
       "      <td>43</td>\n",
       "      <td>высшее</td>\n",
       "      <td>0</td>\n",
       "      <td>женат / замужем</td>\n",
       "      <td>0</td>\n",
       "      <td>F</td>\n",
       "      <td>компаньон</td>\n",
       "      <td>0</td>\n",
       "      <td>240525</td>\n",
       "      <td>операции с жильем</td>\n",
       "      <td>B</td>\n",
       "      <td>операции с недвижимостью</td>\n",
       "    </tr>\n",
       "    <tr>\n",
       "      <th>7</th>\n",
       "      <td>0</td>\n",
       "      <td>152.779569</td>\n",
       "      <td>50</td>\n",
       "      <td>среднее</td>\n",
       "      <td>1</td>\n",
       "      <td>женат / замужем</td>\n",
       "      <td>0</td>\n",
       "      <td>M</td>\n",
       "      <td>сотрудник</td>\n",
       "      <td>0</td>\n",
       "      <td>135823</td>\n",
       "      <td>образование</td>\n",
       "      <td>C</td>\n",
       "      <td>получение образования</td>\n",
       "    </tr>\n",
       "    <tr>\n",
       "      <th>8</th>\n",
       "      <td>2</td>\n",
       "      <td>6929.865299</td>\n",
       "      <td>35</td>\n",
       "      <td>высшее</td>\n",
       "      <td>0</td>\n",
       "      <td>гражданский брак</td>\n",
       "      <td>1</td>\n",
       "      <td>F</td>\n",
       "      <td>сотрудник</td>\n",
       "      <td>0</td>\n",
       "      <td>95856</td>\n",
       "      <td>на проведение свадьбы</td>\n",
       "      <td>C</td>\n",
       "      <td>проведение свадьбы</td>\n",
       "    </tr>\n",
       "    <tr>\n",
       "      <th>9</th>\n",
       "      <td>0</td>\n",
       "      <td>2188.756445</td>\n",
       "      <td>41</td>\n",
       "      <td>среднее</td>\n",
       "      <td>1</td>\n",
       "      <td>женат / замужем</td>\n",
       "      <td>0</td>\n",
       "      <td>M</td>\n",
       "      <td>сотрудник</td>\n",
       "      <td>0</td>\n",
       "      <td>144425</td>\n",
       "      <td>покупка жилья для семьи</td>\n",
       "      <td>C</td>\n",
       "      <td>операции с недвижимостью</td>\n",
       "    </tr>\n",
       "    <tr>\n",
       "      <th>10</th>\n",
       "      <td>2</td>\n",
       "      <td>4171.483647</td>\n",
       "      <td>36</td>\n",
       "      <td>высшее</td>\n",
       "      <td>0</td>\n",
       "      <td>женат / замужем</td>\n",
       "      <td>0</td>\n",
       "      <td>M</td>\n",
       "      <td>компаньон</td>\n",
       "      <td>0</td>\n",
       "      <td>113943</td>\n",
       "      <td>покупка недвижимости</td>\n",
       "      <td>C</td>\n",
       "      <td>операции с недвижимостью</td>\n",
       "    </tr>\n",
       "    <tr>\n",
       "      <th>11</th>\n",
       "      <td>0</td>\n",
       "      <td>792.701887</td>\n",
       "      <td>40</td>\n",
       "      <td>среднее</td>\n",
       "      <td>1</td>\n",
       "      <td>женат / замужем</td>\n",
       "      <td>0</td>\n",
       "      <td>F</td>\n",
       "      <td>сотрудник</td>\n",
       "      <td>0</td>\n",
       "      <td>77069</td>\n",
       "      <td>покупка коммерческой недвижимости</td>\n",
       "      <td>C</td>\n",
       "      <td>операции с недвижимостью</td>\n",
       "    </tr>\n",
       "    <tr>\n",
       "      <th>12</th>\n",
       "      <td>0</td>\n",
       "      <td>365286.622650</td>\n",
       "      <td>65</td>\n",
       "      <td>среднее</td>\n",
       "      <td>1</td>\n",
       "      <td>гражданский брак</td>\n",
       "      <td>1</td>\n",
       "      <td>M</td>\n",
       "      <td>пенсионер</td>\n",
       "      <td>0</td>\n",
       "      <td>118514</td>\n",
       "      <td>сыграть свадьбу</td>\n",
       "      <td>C</td>\n",
       "      <td>проведение свадьбы</td>\n",
       "    </tr>\n",
       "    <tr>\n",
       "      <th>13</th>\n",
       "      <td>0</td>\n",
       "      <td>1846.641941</td>\n",
       "      <td>54</td>\n",
       "      <td>неоконченное высшее</td>\n",
       "      <td>2</td>\n",
       "      <td>женат / замужем</td>\n",
       "      <td>0</td>\n",
       "      <td>F</td>\n",
       "      <td>сотрудник</td>\n",
       "      <td>0</td>\n",
       "      <td>130458</td>\n",
       "      <td>приобретение автомобиля</td>\n",
       "      <td>C</td>\n",
       "      <td>операции с автомобилем</td>\n",
       "    </tr>\n",
       "    <tr>\n",
       "      <th>14</th>\n",
       "      <td>0</td>\n",
       "      <td>1844.956182</td>\n",
       "      <td>56</td>\n",
       "      <td>высшее</td>\n",
       "      <td>0</td>\n",
       "      <td>гражданский брак</td>\n",
       "      <td>1</td>\n",
       "      <td>F</td>\n",
       "      <td>компаньон</td>\n",
       "      <td>1</td>\n",
       "      <td>165127</td>\n",
       "      <td>покупка жилой недвижимости</td>\n",
       "      <td>C</td>\n",
       "      <td>операции с недвижимостью</td>\n",
       "    </tr>\n",
       "    <tr>\n",
       "      <th>15</th>\n",
       "      <td>1</td>\n",
       "      <td>972.364419</td>\n",
       "      <td>26</td>\n",
       "      <td>среднее</td>\n",
       "      <td>1</td>\n",
       "      <td>женат / замужем</td>\n",
       "      <td>0</td>\n",
       "      <td>F</td>\n",
       "      <td>сотрудник</td>\n",
       "      <td>0</td>\n",
       "      <td>116820</td>\n",
       "      <td>строительство собственной недвижимости</td>\n",
       "      <td>C</td>\n",
       "      <td>операции с недвижимостью</td>\n",
       "    </tr>\n",
       "    <tr>\n",
       "      <th>16</th>\n",
       "      <td>0</td>\n",
       "      <td>1719.934226</td>\n",
       "      <td>35</td>\n",
       "      <td>среднее</td>\n",
       "      <td>1</td>\n",
       "      <td>женат / замужем</td>\n",
       "      <td>0</td>\n",
       "      <td>F</td>\n",
       "      <td>сотрудник</td>\n",
       "      <td>0</td>\n",
       "      <td>289202</td>\n",
       "      <td>недвижимость</td>\n",
       "      <td>B</td>\n",
       "      <td>операции с недвижимостью</td>\n",
       "    </tr>\n",
       "    <tr>\n",
       "      <th>17</th>\n",
       "      <td>0</td>\n",
       "      <td>2369.999720</td>\n",
       "      <td>33</td>\n",
       "      <td>высшее</td>\n",
       "      <td>0</td>\n",
       "      <td>гражданский брак</td>\n",
       "      <td>1</td>\n",
       "      <td>M</td>\n",
       "      <td>сотрудник</td>\n",
       "      <td>0</td>\n",
       "      <td>90410</td>\n",
       "      <td>строительство недвижимости</td>\n",
       "      <td>C</td>\n",
       "      <td>операции с недвижимостью</td>\n",
       "    </tr>\n",
       "    <tr>\n",
       "      <th>18</th>\n",
       "      <td>0</td>\n",
       "      <td>400281.136913</td>\n",
       "      <td>53</td>\n",
       "      <td>среднее</td>\n",
       "      <td>1</td>\n",
       "      <td>вдовец / вдова</td>\n",
       "      <td>2</td>\n",
       "      <td>F</td>\n",
       "      <td>пенсионер</td>\n",
       "      <td>0</td>\n",
       "      <td>56823</td>\n",
       "      <td>на покупку подержанного автомобиля</td>\n",
       "      <td>C</td>\n",
       "      <td>операции с автомобилем</td>\n",
       "    </tr>\n",
       "    <tr>\n",
       "      <th>19</th>\n",
       "      <td>0</td>\n",
       "      <td>10038.818549</td>\n",
       "      <td>48</td>\n",
       "      <td>среднее</td>\n",
       "      <td>1</td>\n",
       "      <td>в разводе</td>\n",
       "      <td>3</td>\n",
       "      <td>F</td>\n",
       "      <td>сотрудник</td>\n",
       "      <td>0</td>\n",
       "      <td>242831</td>\n",
       "      <td>на покупку своего автомобиля</td>\n",
       "      <td>B</td>\n",
       "      <td>операции с автомобилем</td>\n",
       "    </tr>\n",
       "  </tbody>\n",
       "</table>\n",
       "</div>"
      ],
      "text/plain": [
       "    children  days_employed  dob_years            education  education_id  \\\n",
       "0          1    8437.673028         42               высшее             0   \n",
       "1          1    4024.803754         36              среднее             1   \n",
       "2          0    5623.422610         33              среднее             1   \n",
       "3          3    4124.747207         32              среднее             1   \n",
       "4          0  340266.072047         53              среднее             1   \n",
       "5          0     926.185831         27               высшее             0   \n",
       "6          0    2879.202052         43               высшее             0   \n",
       "7          0     152.779569         50              среднее             1   \n",
       "8          2    6929.865299         35               высшее             0   \n",
       "9          0    2188.756445         41              среднее             1   \n",
       "10         2    4171.483647         36               высшее             0   \n",
       "11         0     792.701887         40              среднее             1   \n",
       "12         0  365286.622650         65              среднее             1   \n",
       "13         0    1846.641941         54  неоконченное высшее             2   \n",
       "14         0    1844.956182         56               высшее             0   \n",
       "15         1     972.364419         26              среднее             1   \n",
       "16         0    1719.934226         35              среднее             1   \n",
       "17         0    2369.999720         33               высшее             0   \n",
       "18         0  400281.136913         53              среднее             1   \n",
       "19         0   10038.818549         48              среднее             1   \n",
       "\n",
       "       family_status  family_status_id gender income_type  debt  total_income  \\\n",
       "0    женат / замужем                 0      F   сотрудник     0        253875   \n",
       "1    женат / замужем                 0      F   сотрудник     0        112080   \n",
       "2    женат / замужем                 0      M   сотрудник     0        145885   \n",
       "3    женат / замужем                 0      M   сотрудник     0        267628   \n",
       "4   гражданский брак                 1      F   пенсионер     0        158616   \n",
       "5   гражданский брак                 1      M   компаньон     0        255763   \n",
       "6    женат / замужем                 0      F   компаньон     0        240525   \n",
       "7    женат / замужем                 0      M   сотрудник     0        135823   \n",
       "8   гражданский брак                 1      F   сотрудник     0         95856   \n",
       "9    женат / замужем                 0      M   сотрудник     0        144425   \n",
       "10   женат / замужем                 0      M   компаньон     0        113943   \n",
       "11   женат / замужем                 0      F   сотрудник     0         77069   \n",
       "12  гражданский брак                 1      M   пенсионер     0        118514   \n",
       "13   женат / замужем                 0      F   сотрудник     0        130458   \n",
       "14  гражданский брак                 1      F   компаньон     1        165127   \n",
       "15   женат / замужем                 0      F   сотрудник     0        116820   \n",
       "16   женат / замужем                 0      F   сотрудник     0        289202   \n",
       "17  гражданский брак                 1      M   сотрудник     0         90410   \n",
       "18    вдовец / вдова                 2      F   пенсионер     0         56823   \n",
       "19         в разводе                 3      F   сотрудник     0        242831   \n",
       "\n",
       "                                   purpose total_income_category  \\\n",
       "0                            покупка жилья                     B   \n",
       "1                  приобретение автомобиля                     C   \n",
       "2                            покупка жилья                     C   \n",
       "3               дополнительное образование                     B   \n",
       "4                          сыграть свадьбу                     C   \n",
       "5                            покупка жилья                     B   \n",
       "6                        операции с жильем                     B   \n",
       "7                              образование                     C   \n",
       "8                    на проведение свадьбы                     C   \n",
       "9                  покупка жилья для семьи                     C   \n",
       "10                    покупка недвижимости                     C   \n",
       "11       покупка коммерческой недвижимости                     C   \n",
       "12                         сыграть свадьбу                     C   \n",
       "13                 приобретение автомобиля                     C   \n",
       "14              покупка жилой недвижимости                     C   \n",
       "15  строительство собственной недвижимости                     C   \n",
       "16                            недвижимость                     B   \n",
       "17              строительство недвижимости                     C   \n",
       "18      на покупку подержанного автомобиля                     C   \n",
       "19            на покупку своего автомобиля                     B   \n",
       "\n",
       "            purpose_category  \n",
       "0   операции с недвижимостью  \n",
       "1     операции с автомобилем  \n",
       "2   операции с недвижимостью  \n",
       "3      получение образования  \n",
       "4         проведение свадьбы  \n",
       "5   операции с недвижимостью  \n",
       "6   операции с недвижимостью  \n",
       "7      получение образования  \n",
       "8         проведение свадьбы  \n",
       "9   операции с недвижимостью  \n",
       "10  операции с недвижимостью  \n",
       "11  операции с недвижимостью  \n",
       "12        проведение свадьбы  \n",
       "13    операции с автомобилем  \n",
       "14  операции с недвижимостью  \n",
       "15  операции с недвижимостью  \n",
       "16  операции с недвижимостью  \n",
       "17  операции с недвижимостью  \n",
       "18    операции с автомобилем  \n",
       "19    операции с автомобилем  "
      ]
     },
     "execution_count": 32,
     "metadata": {},
     "output_type": "execute_result"
    }
   ],
   "source": [
    "data.head(20)"
   ]
  },
  {
   "attachments": {},
   "cell_type": "markdown",
   "id": "6b87d5e3",
   "metadata": {},
   "source": [
    "Первое, что бросается в глаза - тип float столбца `days_employed`, хотя нам для исследования будет достаточно для данного параметра целочисленных значений, поэтому переведем значения данного столбца в тип `int`.\n",
    "\n",
    "Типы данных количественных переменных и категориальных соответствуют целевым."
   ]
  },
  {
   "attachments": {},
   "cell_type": "markdown",
   "id": "ad54b921",
   "metadata": {},
   "source": [
    "**Переведем данные в столбце `days_employed` в целочисленный тип, применяя метод `astype()`**"
   ]
  },
  {
   "cell_type": "code",
   "execution_count": 33,
   "id": "5efd7179",
   "metadata": {},
   "outputs": [],
   "source": [
    "data['days_employed'] = data['days_employed'].astype('int')"
   ]
  },
  {
   "attachments": {},
   "cell_type": "markdown",
   "id": "ec3edcac",
   "metadata": {},
   "source": [
    "**После всех преобразований проверим данные в тех столбцах датафрейма `data`, которые не были проверены до этого на неявные дубликаты и ошибки, используя метод `unique()`. Применим ее поочередно к столбцам `dob_years`, `education`,`education_id`, `family_status`, `family_status_id`, `gender`,`income_type`, `debt`.**"
   ]
  },
  {
   "attachments": {},
   "cell_type": "markdown",
   "id": "c5cf1f54",
   "metadata": {},
   "source": [
    "**Применяем метод `unique()` к столбцу `dob_years` датафрейма `data`. Сразу же отсортируем данные по возрастанию с помощью метода `sort_values()`**"
   ]
  },
  {
   "cell_type": "code",
   "execution_count": 34,
   "id": "39d72ac8",
   "metadata": {},
   "outputs": [
    {
     "data": {
      "text/plain": [
       "array([ 0, 19, 20, 21, 22, 23, 24, 25, 26, 27, 28, 29, 30, 31, 32, 33, 34,\n",
       "       35, 36, 37, 38, 39, 40, 41, 42, 43, 44, 45, 46, 47, 48, 49, 50, 51,\n",
       "       52, 53, 54, 55, 56, 57, 58, 59, 60, 61, 62, 63, 64, 65, 66, 67, 68,\n",
       "       69, 70, 71, 72, 73, 74, 75])"
      ]
     },
     "execution_count": 34,
     "metadata": {},
     "output_type": "execute_result"
    }
   ],
   "source": [
    "data['dob_years'].sort_values().unique()"
   ]
  },
  {
   "attachments": {},
   "cell_type": "markdown",
   "id": "fed98f2a",
   "metadata": {},
   "source": [
    "Видим, что есть часть строк со значением 0, что является некорректным значением возраста."
   ]
  },
  {
   "attachments": {},
   "cell_type": "markdown",
   "id": "a8727d57",
   "metadata": {},
   "source": [
    "**Уточним, какое количество строк имеет возраст в столбце `dob_years` равный 0. Узнаем это с помощью логической индексации датафрейма `data` и метода `count()`.**"
   ]
  },
  {
   "cell_type": "code",
   "execution_count": 35,
   "id": "e93302ae",
   "metadata": {},
   "outputs": [
    {
     "data": {
      "text/plain": [
       "100"
      ]
     },
     "execution_count": 35,
     "metadata": {},
     "output_type": "execute_result"
    }
   ],
   "source": [
    "data[data['dob_years'] == 0]['dob_years'].count()"
   ]
  },
  {
   "attachments": {},
   "cell_type": "markdown",
   "id": "23027bfd",
   "metadata": {},
   "source": [
    "Количество строк с возрастом равным 0 составляет 100, что общего числа строк 21331 составляет менее 0,5%."
   ]
  },
  {
   "attachments": {},
   "cell_type": "markdown",
   "id": "3675665f",
   "metadata": {},
   "source": [
    "**Удалим строки, в которых возраст (значения столбца `dob_years`) равен аномальному значению 0 и сбрасываем индексацию в датафрейме `data` с помощью метода `reset_index()` c параметром `drop=True`, не сохраняя тем самым старую индексацию.**"
   ]
  },
  {
   "cell_type": "code",
   "execution_count": 36,
   "id": "0a4d0174",
   "metadata": {},
   "outputs": [],
   "source": [
    "data = data[data['dob_years'] != 0].reset_index(drop=True)"
   ]
  },
  {
   "attachments": {},
   "cell_type": "markdown",
   "id": "eccd9f20",
   "metadata": {},
   "source": [
    "**Проверим теперь уникальные значения возраста в столбце `dob_years` датафрейма `data`.**"
   ]
  },
  {
   "cell_type": "code",
   "execution_count": 37,
   "id": "4e25b29b",
   "metadata": {},
   "outputs": [
    {
     "data": {
      "text/plain": [
       "array([19, 20, 21, 22, 23, 24, 25, 26, 27, 28, 29, 30, 31, 32, 33, 34, 35,\n",
       "       36, 37, 38, 39, 40, 41, 42, 43, 44, 45, 46, 47, 48, 49, 50, 51, 52,\n",
       "       53, 54, 55, 56, 57, 58, 59, 60, 61, 62, 63, 64, 65, 66, 67, 68, 69,\n",
       "       70, 71, 72, 73, 74, 75])"
      ]
     },
     "execution_count": 37,
     "metadata": {},
     "output_type": "execute_result"
    }
   ],
   "source": [
    "data['dob_years'].sort_values().unique()"
   ]
  },
  {
   "attachments": {},
   "cell_type": "markdown",
   "id": "4a3811ef",
   "metadata": {},
   "source": [
    "Видим, что строки с нулевым возрастом были успешно удалены."
   ]
  },
  {
   "attachments": {},
   "cell_type": "markdown",
   "id": "29ac32af",
   "metadata": {},
   "source": [
    "**Применяем метод `unique()` к столбцу `education` датафрейма `data`.**"
   ]
  },
  {
   "cell_type": "code",
   "execution_count": 38,
   "id": "01f5b94d",
   "metadata": {},
   "outputs": [
    {
     "data": {
      "text/plain": [
       "array(['высшее', 'среднее', 'неоконченное высшее', 'начальное',\n",
       "       'ученая степень'], dtype=object)"
      ]
     },
     "execution_count": 38,
     "metadata": {},
     "output_type": "execute_result"
    }
   ],
   "source": [
    "data['education'].unique()"
   ]
  },
  {
   "attachments": {},
   "cell_type": "markdown",
   "id": "22fd53f4",
   "metadata": {},
   "source": [
    "С уникальностью значений все хорошо, в этом столбце нет неявных дубликатов."
   ]
  },
  {
   "attachments": {},
   "cell_type": "markdown",
   "id": "50aa7add",
   "metadata": {},
   "source": [
    "**Применяем метод `unique()` к столбцу `education_id` датафрейма `data`.**"
   ]
  },
  {
   "cell_type": "code",
   "execution_count": 39,
   "id": "6bcd2cfa",
   "metadata": {},
   "outputs": [
    {
     "data": {
      "text/plain": [
       "array([0, 1, 2, 3, 4])"
      ]
     },
     "execution_count": 39,
     "metadata": {},
     "output_type": "execute_result"
    }
   ],
   "source": [
    "data['education_id'].unique()"
   ]
  },
  {
   "attachments": {},
   "cell_type": "markdown",
   "id": "17480287",
   "metadata": {},
   "source": [
    "Можно сделать вывод, что количество уникальных идентификаторов в столбце `education_id` равно количеству уникальных значений в столбце `education`."
   ]
  },
  {
   "attachments": {},
   "cell_type": "markdown",
   "id": "eb6f4905",
   "metadata": {},
   "source": [
    "**Проверим теперь правильно ли соотносятся столбцы `education` и `education_id` во всех строках датафрейма `data`. Для этого используем метод для расчета среднего значения `mean()` по столбцу `education_id` для датафрейма `data` сгруппированного по значениям столбца `education`. \n",
    "Если значения данных столбцов соотнесены без ошибок во всех строках, мы получим в результате применения метода в каждом из случаев целочисленное значение.**"
   ]
  },
  {
   "cell_type": "code",
   "execution_count": 40,
   "id": "f3f237f4",
   "metadata": {},
   "outputs": [
    {
     "data": {
      "text/plain": [
       "education\n",
       "высшее                 0\n",
       "начальное              3\n",
       "неоконченное высшее    2\n",
       "среднее                1\n",
       "ученая степень         4\n",
       "Name: education_id, dtype: int64"
      ]
     },
     "execution_count": 40,
     "metadata": {},
     "output_type": "execute_result"
    }
   ],
   "source": [
    "data.groupby('education')['education_id'].mean()"
   ]
  },
  {
   "attachments": {},
   "cell_type": "markdown",
   "id": "370dd0fe",
   "metadata": {},
   "source": [
    "Делаем вывод, значения столбцов `education` и `education_id` соотнесены верно."
   ]
  },
  {
   "attachments": {},
   "cell_type": "markdown",
   "id": "5a9af220",
   "metadata": {},
   "source": [
    "**Применяем метод `unique()` к столбцу `family_status` датафрейма `data`.**"
   ]
  },
  {
   "cell_type": "code",
   "execution_count": 41,
   "id": "04cee274",
   "metadata": {},
   "outputs": [
    {
     "data": {
      "text/plain": [
       "array(['женат / замужем', 'гражданский брак', 'вдовец / вдова',\n",
       "       'в разводе', 'Не женат / не замужем'], dtype=object)"
      ]
     },
     "execution_count": 41,
     "metadata": {},
     "output_type": "execute_result"
    }
   ],
   "source": [
    "data['family_status'].unique()"
   ]
  },
  {
   "attachments": {},
   "cell_type": "markdown",
   "id": "2326c24b",
   "metadata": {},
   "source": [
    "С уникальностью значений все хорошо, в этом столбце нет неявных дубликатов. Но одно из значений имеет прописную букву."
   ]
  },
  {
   "attachments": {},
   "cell_type": "markdown",
   "id": "fc621186",
   "metadata": {},
   "source": [
    "**Приведем все значения к стандарту из строчных букв. Для этого применим метод `str.lower()` ко всем значениям в столбце `family_status`.**"
   ]
  },
  {
   "cell_type": "code",
   "execution_count": 42,
   "id": "d897cb59",
   "metadata": {},
   "outputs": [],
   "source": [
    "data['family_status'] = data['family_status'].str.lower()"
   ]
  },
  {
   "attachments": {},
   "cell_type": "markdown",
   "id": "1eac07a4",
   "metadata": {},
   "source": [
    "**Применяем метод `unique()` к столбцу `family_status_id` датафрейма `data`.**"
   ]
  },
  {
   "cell_type": "code",
   "execution_count": 43,
   "id": "c03fd703",
   "metadata": {},
   "outputs": [
    {
     "data": {
      "text/plain": [
       "array([0, 1, 2, 3, 4])"
      ]
     },
     "execution_count": 43,
     "metadata": {},
     "output_type": "execute_result"
    }
   ],
   "source": [
    "data['family_status_id'].unique()"
   ]
  },
  {
   "attachments": {},
   "cell_type": "markdown",
   "id": "52a68a20",
   "metadata": {},
   "source": [
    "Можно сделать вывод, что количество уникальных идентификаторов в столбце `family_status_id` равно количеству уникальных значений в столбце `family_status`."
   ]
  },
  {
   "attachments": {},
   "cell_type": "markdown",
   "id": "adc3dfb6",
   "metadata": {},
   "source": [
    "**Проверим теперь правильно ли соотносятся столбцы `family_status` и `family_status_id` во всех строках датафрейма `data`. Для этого используем метод для расчета среднего значения `mean()` по столбцу `family_status_id` для датафрейма `data`, сгруппированного по значениям столбца `family_status`. \n",
    "Если значения данных столбцов соотнесены без ошибок во всех строках, мы получим в результате применения метода в каждом из случаев целочисленное значение.**"
   ]
  },
  {
   "cell_type": "code",
   "execution_count": 44,
   "id": "ebdecba8",
   "metadata": {},
   "outputs": [
    {
     "data": {
      "text/plain": [
       "family_status\n",
       "в разводе                3\n",
       "вдовец / вдова           2\n",
       "гражданский брак         1\n",
       "женат / замужем          0\n",
       "не женат / не замужем    4\n",
       "Name: family_status_id, dtype: int64"
      ]
     },
     "execution_count": 44,
     "metadata": {},
     "output_type": "execute_result"
    }
   ],
   "source": [
    "data.groupby('family_status')['family_status_id'].mean()"
   ]
  },
  {
   "attachments": {},
   "cell_type": "markdown",
   "id": "04db9974",
   "metadata": {},
   "source": [
    "Делаем вывод, значения столбцов `family_status` и `family_status_id` соотнесены верно."
   ]
  },
  {
   "attachments": {},
   "cell_type": "markdown",
   "id": "b617654f",
   "metadata": {},
   "source": [
    "**Применяем метод `unique()` к столбцу `gender` датафрейма `data`.**"
   ]
  },
  {
   "cell_type": "code",
   "execution_count": 45,
   "id": "9de22049",
   "metadata": {},
   "outputs": [
    {
     "data": {
      "text/plain": [
       "array(['F', 'M', 'XNA'], dtype=object)"
      ]
     },
     "execution_count": 45,
     "metadata": {},
     "output_type": "execute_result"
    }
   ],
   "source": [
    "data['gender'].unique()"
   ]
  },
  {
   "attachments": {},
   "cell_type": "markdown",
   "id": "81c19afe",
   "metadata": {},
   "source": [
    "С уникальностью значений все хорошо, в этом столбце нет неявных дубликатов. Но\n",
    "кроме стандартных двух видов полов видим странное значение `'XNA'`"
   ]
  },
  {
   "attachments": {},
   "cell_type": "markdown",
   "id": "8b7c0ec3",
   "metadata": {},
   "source": [
    "**Посчитаем сколько строк датафрейма `data` имеют в столбце `gener` значение `'XNA'`. Для этого применим логическую индексацию и метод `count()`.**"
   ]
  },
  {
   "cell_type": "code",
   "execution_count": 46,
   "id": "547db1eb",
   "metadata": {},
   "outputs": [
    {
     "data": {
      "text/plain": [
       "1"
      ]
     },
     "execution_count": 46,
     "metadata": {},
     "output_type": "execute_result"
    }
   ],
   "source": [
    "data[data['gender'] == 'XNA']['gender'].count()"
   ]
  },
  {
   "attachments": {},
   "cell_type": "markdown",
   "id": "b9188204",
   "metadata": {},
   "source": [
    "Нашлось всего одно такое значение в датафрейме `data`. Считаем его аномальным и не влияющим на анализ, поэтому удалим его."
   ]
  },
  {
   "attachments": {},
   "cell_type": "markdown",
   "id": "04d0f81b",
   "metadata": {},
   "source": [
    "**Удаляем строку датафрейма `data` с аномальным значением `'XNA'` в столбце `gender` и сбрасываем индексацию в датафрейме `data` с помощью метода `reset_index()` c параметром `drop=True`, не сохраняя тем самым старую индексацию.**"
   ]
  },
  {
   "cell_type": "code",
   "execution_count": 47,
   "id": "ce14fb49",
   "metadata": {},
   "outputs": [],
   "source": [
    "data = data[data['gender'] != 'XNA'].reset_index(drop=True)"
   ]
  },
  {
   "attachments": {},
   "cell_type": "markdown",
   "id": "a456463a",
   "metadata": {},
   "source": [
    "**Применяем метод `unique()` к столбцу `income_type` датафрейма `data`.**"
   ]
  },
  {
   "cell_type": "code",
   "execution_count": 48,
   "id": "597a98e0",
   "metadata": {},
   "outputs": [
    {
     "data": {
      "text/plain": [
       "array(['сотрудник', 'пенсионер', 'компаньон', 'госслужащий',\n",
       "       'безработный', 'предприниматель', 'студент', 'в декрете'],\n",
       "      dtype=object)"
      ]
     },
     "execution_count": 48,
     "metadata": {},
     "output_type": "execute_result"
    }
   ],
   "source": [
    "data['income_type'].unique()"
   ]
  },
  {
   "attachments": {},
   "cell_type": "markdown",
   "id": "e9c53f69",
   "metadata": {},
   "source": [
    "С уникальностью значений все хорошо, в этом столбце нет неявных дубликатов."
   ]
  },
  {
   "attachments": {},
   "cell_type": "markdown",
   "id": "68086ea1",
   "metadata": {},
   "source": [
    "**Применяем метод `unique()` к столбцу `debt` датафрейма `data`.**"
   ]
  },
  {
   "cell_type": "code",
   "execution_count": 49,
   "id": "f44598c4",
   "metadata": {},
   "outputs": [
    {
     "data": {
      "text/plain": [
       "array([0, 1])"
      ]
     },
     "execution_count": 49,
     "metadata": {},
     "output_type": "execute_result"
    }
   ],
   "source": [
    "data['debt'].unique()"
   ]
  },
  {
   "attachments": {},
   "cell_type": "markdown",
   "id": "434938e8",
   "metadata": {},
   "source": [
    "С уникальностью значений все хорошо, в этом столбце нет неявных дубликатов."
   ]
  },
  {
   "attachments": {},
   "cell_type": "markdown",
   "id": "9db19a5c",
   "metadata": {},
   "source": [
    "**Проведенем категоризацию данных. Создадим \"справочники\" для столбцов `education`, `family_status`, `total_income_category`, `purpose_category`, `income_type`. После этого пересохраним отфильтрованный датафрейм в новую переменную.**"
   ]
  },
  {
   "attachments": {},
   "cell_type": "markdown",
   "id": "a2864187",
   "metadata": {},
   "source": [
    "**Создадим \"справочник\" по уровням образования и поставим каждому уровня в соответствие его id. Сделаем это с помощью группировки исходного датафрейма `data` по столбцу `education_id` для столбца `education` и метода `unique()`. Сохраним новый \"справочный\" датафрейм под именем `education_dict`**"
   ]
  },
  {
   "cell_type": "code",
   "execution_count": 50,
   "id": "1d711c3e",
   "metadata": {},
   "outputs": [
    {
     "data": {
      "text/plain": [
       "education_id\n",
       "0                 [высшее]\n",
       "1                [среднее]\n",
       "2    [неоконченное высшее]\n",
       "3              [начальное]\n",
       "4         [ученая степень]\n",
       "Name: education, dtype: object"
      ]
     },
     "execution_count": 50,
     "metadata": {},
     "output_type": "execute_result"
    }
   ],
   "source": [
    "education_dict = data.groupby('education_id')['education'].unique()\n",
    "education_dict"
   ]
  },
  {
   "attachments": {},
   "cell_type": "markdown",
   "id": "0ee26b6a",
   "metadata": {},
   "source": [
    "<div class=\"alert alert-warning\">\n",
    "<b>Комментарий ревьюера №1</b> \n",
    "    \n",
    "Словарь лучше создать так\n",
    "    \n",
    "    education_dict =data[['education','education_id']].drop_duplicates().reset_index(drop=True)\n",
    "</div>"
   ]
  },
  {
   "attachments": {},
   "cell_type": "markdown",
   "id": "5d34cf65",
   "metadata": {},
   "source": [
    "**Проделаем аналогичные действия для столбцов `family_status_id` и `family_status`. Сохраним новый \"справочный\" датафрейм под именем `family_status_dict`**"
   ]
  },
  {
   "cell_type": "code",
   "execution_count": 51,
   "id": "8b1c39b6",
   "metadata": {},
   "outputs": [
    {
     "data": {
      "text/plain": [
       "family_status_id\n",
       "0          [женат / замужем]\n",
       "1         [гражданский брак]\n",
       "2           [вдовец / вдова]\n",
       "3                [в разводе]\n",
       "4    [не женат / не замужем]\n",
       "Name: family_status, dtype: object"
      ]
     },
     "execution_count": 51,
     "metadata": {},
     "output_type": "execute_result"
    }
   ],
   "source": [
    "family_status_dict = data.groupby('family_status_id')['family_status'].unique()\n",
    "family_status_dict"
   ]
  },
  {
   "attachments": {},
   "cell_type": "markdown",
   "id": "d7568161",
   "metadata": {},
   "source": [
    "**Создадим новый \"справочный\" датафрейм под именем `total_income_dict` для соотношения категорий общего дохода и диапазона суммы дохода для каждой из данных категорий в соответствии с тем, как было прописано в функции присвоения данных категорий в [пункте 2.6.1](#item_2_6_1).**"
   ]
  },
  {
   "cell_type": "code",
   "execution_count": 54,
   "id": "fa29f371",
   "metadata": {},
   "outputs": [
    {
     "data": {
      "text/html": [
       "<div>\n",
       "<style scoped>\n",
       "    .dataframe tbody tr th:only-of-type {\n",
       "        vertical-align: middle;\n",
       "    }\n",
       "\n",
       "    .dataframe tbody tr th {\n",
       "        vertical-align: top;\n",
       "    }\n",
       "\n",
       "    .dataframe thead th {\n",
       "        text-align: right;\n",
       "    }\n",
       "</style>\n",
       "<table border=\"1\" class=\"dataframe\">\n",
       "  <thead>\n",
       "    <tr style=\"text-align: right;\">\n",
       "      <th></th>\n",
       "      <th>total_income_category</th>\n",
       "      <th>min</th>\n",
       "      <th>max</th>\n",
       "    </tr>\n",
       "  </thead>\n",
       "  <tbody>\n",
       "    <tr>\n",
       "      <th>0</th>\n",
       "      <td>A</td>\n",
       "      <td>1000001</td>\n",
       "      <td>inf</td>\n",
       "    </tr>\n",
       "    <tr>\n",
       "      <th>1</th>\n",
       "      <td>B</td>\n",
       "      <td>200001</td>\n",
       "      <td>1000000.0</td>\n",
       "    </tr>\n",
       "    <tr>\n",
       "      <th>2</th>\n",
       "      <td>C</td>\n",
       "      <td>50001</td>\n",
       "      <td>200000.0</td>\n",
       "    </tr>\n",
       "    <tr>\n",
       "      <th>3</th>\n",
       "      <td>D</td>\n",
       "      <td>30001</td>\n",
       "      <td>50000.0</td>\n",
       "    </tr>\n",
       "    <tr>\n",
       "      <th>4</th>\n",
       "      <td>E</td>\n",
       "      <td>0</td>\n",
       "      <td>30000.0</td>\n",
       "    </tr>\n",
       "  </tbody>\n",
       "</table>\n",
       "</div>"
      ],
      "text/plain": [
       "  total_income_category      min        max\n",
       "0                     A  1000001        inf\n",
       "1                     B   200001  1000000.0\n",
       "2                     C    50001   200000.0\n",
       "3                     D    30001    50000.0\n",
       "4                     E        0    30000.0"
      ]
     },
     "execution_count": 54,
     "metadata": {},
     "output_type": "execute_result"
    }
   ],
   "source": [
    "total_income_dict = pd.DataFrame(\n",
    "                                 {'total_income_category': ['A', 'B', 'C', 'D', 'E'],\n",
    "                                  'min': [1000001, 200001, 50001, 30001, 0],\n",
    "                                  'max': [float('inf'), 1000000, 200000, 50000, 30000]}\n",
    "                                 )\n",
    "total_income_dict"
   ]
  },
  {
   "attachments": {},
   "cell_type": "markdown",
   "id": "2c837c69",
   "metadata": {},
   "source": [
    "**Создадим функцию с именем `purpose_id()`, которая поможет на основании данных из столбца `purpose_category` сформировать новый столбец `purpose_category_id`, в который войдут идентификаторы со следующим соответствием:**\n",
    "\n",
    "- `0` - `'операции с автомобилем'`,\n",
    "- `1` - `'операции с недвижимостью'`,\n",
    "- `2` - `'проведение свадьбы'`,\n",
    "- `3` - `'получение образования'`.\n",
    "\n",
    "\n",
    "**Используя данную функцию и метод `apply()` создадим новый столбец в датафрейме.**"
   ]
  },
  {
   "cell_type": "code",
   "execution_count": 55,
   "id": "dbd7ef9b",
   "metadata": {},
   "outputs": [],
   "source": [
    "def purpose_id(purpose_category):\n",
    "    try:\n",
    "        if purpose_category == 'операции с автомобилем':\n",
    "            return 0\n",
    "        elif purpose_category == 'операции с недвижимостью':\n",
    "            return 1\n",
    "        elif purpose_category == 'проведение свадьбы':\n",
    "            return 2\n",
    "        elif purpose_category == 'получение образования':\n",
    "            return 3\n",
    "        else:\n",
    "            return -1\n",
    "    except:\n",
    "        return -2\n",
    "data['purpose_category_id'] = data['purpose_category'].apply(purpose_id)"
   ]
  },
  {
   "attachments": {},
   "cell_type": "markdown",
   "id": "9f70b728",
   "metadata": {},
   "source": [
    "**Создадим новый \"справочный\" датафрейм под именем `purpose_dict` для соотношения идентификатора и соответствующей ему категории цели кредита. Сделаем это с помощью группировки исходного датафрейма `data` по столбцу `purpose_category_id` для столбца `purpose_category` и метода `unique()`.**"
   ]
  },
  {
   "cell_type": "code",
   "execution_count": 56,
   "id": "8c2d9c89",
   "metadata": {},
   "outputs": [
    {
     "data": {
      "text/plain": [
       "purpose_category_id\n",
       "0      [операции с автомобилем]\n",
       "1    [операции с недвижимостью]\n",
       "2          [проведение свадьбы]\n",
       "3       [получение образования]\n",
       "Name: purpose_category, dtype: object"
      ]
     },
     "execution_count": 56,
     "metadata": {},
     "output_type": "execute_result"
    }
   ],
   "source": [
    "purpose_dict = data.groupby('purpose_category_id')['purpose_category'].unique()\n",
    "purpose_dict"
   ]
  },
  {
   "attachments": {},
   "cell_type": "markdown",
   "id": "4d92a1d2",
   "metadata": {},
   "source": [
    "**Создадим функцию с именем `income_type_id()`, которая поможет на основании данных из столбца `income_type` сформировать новый столбец `income_type_id`, в который войдут идентификаторы со следующим соответствием:**\n",
    "\n",
    "- `0` - `'сотрудник'`,\n",
    "- `1` - `'пенсионер'`,\n",
    "- `2` - `'компаньон'`,\n",
    "- `3` - `'госслужащий'`,\n",
    "- `4` - `'безработный'`,\n",
    "- `5` - `'предприниматель'`,\n",
    "- `6` - `'студент'`,\n",
    "- `7` - `'в декрете'`.\n",
    "\n",
    "\n",
    "**Используя данную функцию и метод `apply()` создадим новый столбец в датафрейме.**"
   ]
  },
  {
   "cell_type": "code",
   "execution_count": 57,
   "id": "491b621b",
   "metadata": {},
   "outputs": [],
   "source": [
    "def income_type_id(income_type):\n",
    "    try:\n",
    "        if income_type == 'сотрудник':\n",
    "            return 0\n",
    "        elif income_type == 'пенсионер':\n",
    "            return 1\n",
    "        elif income_type == 'компаньон':\n",
    "            return 2\n",
    "        elif income_type == 'госслужащий':\n",
    "            return 3\n",
    "        elif income_type == 'безработный':\n",
    "            return 4\n",
    "        elif income_type == 'предприниматель':\n",
    "            return 5\n",
    "        elif income_type == 'студент':\n",
    "            return 6\n",
    "        elif income_type == 'в декрете':\n",
    "            return 7\n",
    "        else:\n",
    "            return -1\n",
    "    except:\n",
    "        return -2\n",
    "data['income_type_id'] = data['income_type'].apply(income_type_id)"
   ]
  },
  {
   "attachments": {},
   "cell_type": "markdown",
   "id": "a5a70522",
   "metadata": {},
   "source": [
    "**Создадим новый \"справочный\" датафрейм под именем `income_type_dict` для соотношения идентификатора и соответствующей ему цели занятости клиента. Сделаем это с помощью группировки исходного датафрейма `data` по столбцу `income_type_id` для столбца `income_type` и метода `unique()`.**"
   ]
  },
  {
   "cell_type": "code",
   "execution_count": 58,
   "id": "1edee871",
   "metadata": {},
   "outputs": [
    {
     "data": {
      "text/plain": [
       "income_type_id\n",
       "0          [сотрудник]\n",
       "1          [пенсионер]\n",
       "2          [компаньон]\n",
       "3        [госслужащий]\n",
       "4        [безработный]\n",
       "5    [предприниматель]\n",
       "6            [студент]\n",
       "7          [в декрете]\n",
       "Name: income_type, dtype: object"
      ]
     },
     "execution_count": 58,
     "metadata": {},
     "output_type": "execute_result"
    }
   ],
   "source": [
    "income_type_dict = data.groupby('income_type_id')['income_type'].unique()\n",
    "income_type_dict"
   ]
  },
  {
   "attachments": {},
   "cell_type": "markdown",
   "id": "d497985c",
   "metadata": {},
   "source": [
    "**Создадим новый фильтрованный по списку столбцов датафрейм, оставив только столбцы с id и категориями, для удобства дальнейшего анализа и просмотра данных. Выведем его 10 верхних строк.**"
   ]
  },
  {
   "cell_type": "code",
   "execution_count": 59,
   "id": "23a7823c",
   "metadata": {},
   "outputs": [
    {
     "data": {
      "text/html": [
       "<div>\n",
       "<style scoped>\n",
       "    .dataframe tbody tr th:only-of-type {\n",
       "        vertical-align: middle;\n",
       "    }\n",
       "\n",
       "    .dataframe tbody tr th {\n",
       "        vertical-align: top;\n",
       "    }\n",
       "\n",
       "    .dataframe thead th {\n",
       "        text-align: right;\n",
       "    }\n",
       "</style>\n",
       "<table border=\"1\" class=\"dataframe\">\n",
       "  <thead>\n",
       "    <tr style=\"text-align: right;\">\n",
       "      <th></th>\n",
       "      <th>children</th>\n",
       "      <th>days_employed</th>\n",
       "      <th>dob_years</th>\n",
       "      <th>education_id</th>\n",
       "      <th>family_status_id</th>\n",
       "      <th>gender</th>\n",
       "      <th>income_type_id</th>\n",
       "      <th>debt</th>\n",
       "      <th>total_income_category</th>\n",
       "      <th>purpose_category_id</th>\n",
       "    </tr>\n",
       "  </thead>\n",
       "  <tbody>\n",
       "    <tr>\n",
       "      <th>0</th>\n",
       "      <td>1</td>\n",
       "      <td>8437</td>\n",
       "      <td>42</td>\n",
       "      <td>0</td>\n",
       "      <td>0</td>\n",
       "      <td>F</td>\n",
       "      <td>0</td>\n",
       "      <td>0</td>\n",
       "      <td>B</td>\n",
       "      <td>1</td>\n",
       "    </tr>\n",
       "    <tr>\n",
       "      <th>1</th>\n",
       "      <td>1</td>\n",
       "      <td>4024</td>\n",
       "      <td>36</td>\n",
       "      <td>1</td>\n",
       "      <td>0</td>\n",
       "      <td>F</td>\n",
       "      <td>0</td>\n",
       "      <td>0</td>\n",
       "      <td>C</td>\n",
       "      <td>0</td>\n",
       "    </tr>\n",
       "    <tr>\n",
       "      <th>2</th>\n",
       "      <td>0</td>\n",
       "      <td>5623</td>\n",
       "      <td>33</td>\n",
       "      <td>1</td>\n",
       "      <td>0</td>\n",
       "      <td>M</td>\n",
       "      <td>0</td>\n",
       "      <td>0</td>\n",
       "      <td>C</td>\n",
       "      <td>1</td>\n",
       "    </tr>\n",
       "    <tr>\n",
       "      <th>3</th>\n",
       "      <td>3</td>\n",
       "      <td>4124</td>\n",
       "      <td>32</td>\n",
       "      <td>1</td>\n",
       "      <td>0</td>\n",
       "      <td>M</td>\n",
       "      <td>0</td>\n",
       "      <td>0</td>\n",
       "      <td>B</td>\n",
       "      <td>3</td>\n",
       "    </tr>\n",
       "    <tr>\n",
       "      <th>4</th>\n",
       "      <td>0</td>\n",
       "      <td>340266</td>\n",
       "      <td>53</td>\n",
       "      <td>1</td>\n",
       "      <td>1</td>\n",
       "      <td>F</td>\n",
       "      <td>1</td>\n",
       "      <td>0</td>\n",
       "      <td>C</td>\n",
       "      <td>2</td>\n",
       "    </tr>\n",
       "    <tr>\n",
       "      <th>5</th>\n",
       "      <td>0</td>\n",
       "      <td>926</td>\n",
       "      <td>27</td>\n",
       "      <td>0</td>\n",
       "      <td>1</td>\n",
       "      <td>M</td>\n",
       "      <td>2</td>\n",
       "      <td>0</td>\n",
       "      <td>B</td>\n",
       "      <td>1</td>\n",
       "    </tr>\n",
       "    <tr>\n",
       "      <th>6</th>\n",
       "      <td>0</td>\n",
       "      <td>2879</td>\n",
       "      <td>43</td>\n",
       "      <td>0</td>\n",
       "      <td>0</td>\n",
       "      <td>F</td>\n",
       "      <td>2</td>\n",
       "      <td>0</td>\n",
       "      <td>B</td>\n",
       "      <td>1</td>\n",
       "    </tr>\n",
       "    <tr>\n",
       "      <th>7</th>\n",
       "      <td>0</td>\n",
       "      <td>152</td>\n",
       "      <td>50</td>\n",
       "      <td>1</td>\n",
       "      <td>0</td>\n",
       "      <td>M</td>\n",
       "      <td>0</td>\n",
       "      <td>0</td>\n",
       "      <td>C</td>\n",
       "      <td>3</td>\n",
       "    </tr>\n",
       "    <tr>\n",
       "      <th>8</th>\n",
       "      <td>2</td>\n",
       "      <td>6929</td>\n",
       "      <td>35</td>\n",
       "      <td>0</td>\n",
       "      <td>1</td>\n",
       "      <td>F</td>\n",
       "      <td>0</td>\n",
       "      <td>0</td>\n",
       "      <td>C</td>\n",
       "      <td>2</td>\n",
       "    </tr>\n",
       "    <tr>\n",
       "      <th>9</th>\n",
       "      <td>0</td>\n",
       "      <td>2188</td>\n",
       "      <td>41</td>\n",
       "      <td>1</td>\n",
       "      <td>0</td>\n",
       "      <td>M</td>\n",
       "      <td>0</td>\n",
       "      <td>0</td>\n",
       "      <td>C</td>\n",
       "      <td>1</td>\n",
       "    </tr>\n",
       "  </tbody>\n",
       "</table>\n",
       "</div>"
      ],
      "text/plain": [
       "   children  days_employed  dob_years  education_id  family_status_id gender  \\\n",
       "0         1           8437         42             0                 0      F   \n",
       "1         1           4024         36             1                 0      F   \n",
       "2         0           5623         33             1                 0      M   \n",
       "3         3           4124         32             1                 0      M   \n",
       "4         0         340266         53             1                 1      F   \n",
       "5         0            926         27             0                 1      M   \n",
       "6         0           2879         43             0                 0      F   \n",
       "7         0            152         50             1                 0      M   \n",
       "8         2           6929         35             0                 1      F   \n",
       "9         0           2188         41             1                 0      M   \n",
       "\n",
       "   income_type_id  debt total_income_category  purpose_category_id  \n",
       "0               0     0                     B                    1  \n",
       "1               0     0                     C                    0  \n",
       "2               0     0                     C                    1  \n",
       "3               0     0                     B                    3  \n",
       "4               1     0                     C                    2  \n",
       "5               2     0                     B                    1  \n",
       "6               2     0                     B                    1  \n",
       "7               0     0                     C                    3  \n",
       "8               0     0                     C                    2  \n",
       "9               0     0                     C                    1  "
      ]
     },
     "execution_count": 59,
     "metadata": {},
     "output_type": "execute_result"
    }
   ],
   "source": [
    "df = data[['children', 'days_employed', 'dob_years', 'education_id', 'family_status_id', 'gender', 'income_type_id', 'debt', 'total_income_category', 'purpose_category_id']].copy()\n",
    "df.head(10)"
   ]
  },
  {
   "attachments": {},
   "cell_type": "markdown",
   "id": "9119ca21",
   "metadata": {},
   "source": [
    "**Предобработка данных в исходном датафрейме завершена, можно приступать к дальнейшему анализу гипотетических зависимостей. Работу теперь ведем с подготовленным датафреймом `df`.**"
   ]
  },
  {
   "attachments": {},
   "cell_type": "markdown",
   "id": "6968e605",
   "metadata": {},
   "source": [
    "##### Вернемся к исследованию вопроса данного подпункта: есть ли зависимость между количеством детей и возвратом кредита в срок?"
   ]
  },
  {
   "attachments": {},
   "cell_type": "markdown",
   "id": "90763529",
   "metadata": {},
   "source": [
    "**Узнаем, какой процент от общего числа клиентов имел задолженность по возврату кредитов. Для этого применим метод `mean()` к столбцу `debt`.**"
   ]
  },
  {
   "cell_type": "code",
   "execution_count": 60,
   "id": "b915d338",
   "metadata": {},
   "outputs": [
    {
     "data": {
      "text/plain": [
       "0.08120584079133301"
      ]
     },
     "execution_count": 60,
     "metadata": {},
     "output_type": "execute_result"
    }
   ],
   "source": [
    "df['debt'].mean()"
   ]
  },
  {
   "attachments": {},
   "cell_type": "markdown",
   "id": "098bcbce",
   "metadata": {},
   "source": [
    "Всего 8,1% от всех клиентов имели задолженность по возврату кредита. Процент не очень большой, но не ничтожно малый, поэтому проведем далее анализ данных."
   ]
  },
  {
   "attachments": {},
   "cell_type": "markdown",
   "id": "8128ef1d",
   "metadata": {},
   "source": [
    "**Сгруппируем датафрейм таким образом, чтобы посмотреть, как распределяется доля имевших задолженность по возврату кредита в зависимости от количества детей и количество клиентов в каждой из данных групп. Для этого сделаем группировку по столбцу `children` для столбца `debt` и применим функции `agg()` в которой аргументами будут два метода `count` и `mean`.**"
   ]
  },
  {
   "cell_type": "code",
   "execution_count": 61,
   "id": "c787ea6e",
   "metadata": {},
   "outputs": [
    {
     "data": {
      "text/html": [
       "<div>\n",
       "<style scoped>\n",
       "    .dataframe tbody tr th:only-of-type {\n",
       "        vertical-align: middle;\n",
       "    }\n",
       "\n",
       "    .dataframe tbody tr th {\n",
       "        vertical-align: top;\n",
       "    }\n",
       "\n",
       "    .dataframe thead th {\n",
       "        text-align: right;\n",
       "    }\n",
       "</style>\n",
       "<table border=\"1\" class=\"dataframe\">\n",
       "  <thead>\n",
       "    <tr style=\"text-align: right;\">\n",
       "      <th></th>\n",
       "      <th>count</th>\n",
       "      <th>mean</th>\n",
       "    </tr>\n",
       "    <tr>\n",
       "      <th>children</th>\n",
       "      <th></th>\n",
       "      <th></th>\n",
       "    </tr>\n",
       "  </thead>\n",
       "  <tbody>\n",
       "    <tr>\n",
       "      <th>0</th>\n",
       "      <td>14021</td>\n",
       "      <td>0.075458</td>\n",
       "    </tr>\n",
       "    <tr>\n",
       "      <th>1</th>\n",
       "      <td>4792</td>\n",
       "      <td>0.092028</td>\n",
       "    </tr>\n",
       "    <tr>\n",
       "      <th>2</th>\n",
       "      <td>2039</td>\n",
       "      <td>0.095145</td>\n",
       "    </tr>\n",
       "    <tr>\n",
       "      <th>3</th>\n",
       "      <td>328</td>\n",
       "      <td>0.082317</td>\n",
       "    </tr>\n",
       "    <tr>\n",
       "      <th>4</th>\n",
       "      <td>41</td>\n",
       "      <td>0.097561</td>\n",
       "    </tr>\n",
       "    <tr>\n",
       "      <th>5</th>\n",
       "      <td>9</td>\n",
       "      <td>0.000000</td>\n",
       "    </tr>\n",
       "  </tbody>\n",
       "</table>\n",
       "</div>"
      ],
      "text/plain": [
       "          count      mean\n",
       "children                 \n",
       "0         14021  0.075458\n",
       "1          4792  0.092028\n",
       "2          2039  0.095145\n",
       "3           328  0.082317\n",
       "4            41  0.097561\n",
       "5             9  0.000000"
      ]
     },
     "execution_count": 61,
     "metadata": {},
     "output_type": "execute_result"
    }
   ],
   "source": [
    "df.groupby('children')['debt'].agg(['count', 'mean'])"
   ]
  },
  {
   "cell_type": "code",
   "execution_count": 62,
   "id": "9e2db448",
   "metadata": {},
   "outputs": [
    {
     "data": {
      "text/html": [
       "<div>\n",
       "<style scoped>\n",
       "    .dataframe tbody tr th:only-of-type {\n",
       "        vertical-align: middle;\n",
       "    }\n",
       "\n",
       "    .dataframe tbody tr th {\n",
       "        vertical-align: top;\n",
       "    }\n",
       "\n",
       "    .dataframe thead th {\n",
       "        text-align: right;\n",
       "    }\n",
       "</style>\n",
       "<table border=\"1\" class=\"dataframe\">\n",
       "  <thead>\n",
       "    <tr style=\"text-align: right;\">\n",
       "      <th></th>\n",
       "      <th>total_income_category</th>\n",
       "      <th>customer_count</th>\n",
       "      <th>debt_sum</th>\n",
       "      <th>debt_share</th>\n",
       "    </tr>\n",
       "  </thead>\n",
       "  <tbody>\n",
       "    <tr>\n",
       "      <th>3</th>\n",
       "      <td>D</td>\n",
       "      <td>347</td>\n",
       "      <td>21</td>\n",
       "      <td>0.060519</td>\n",
       "    </tr>\n",
       "    <tr>\n",
       "      <th>1</th>\n",
       "      <td>B</td>\n",
       "      <td>4987</td>\n",
       "      <td>353</td>\n",
       "      <td>0.070784</td>\n",
       "    </tr>\n",
       "    <tr>\n",
       "      <th>0</th>\n",
       "      <td>A</td>\n",
       "      <td>25</td>\n",
       "      <td>2</td>\n",
       "      <td>0.080000</td>\n",
       "    </tr>\n",
       "    <tr>\n",
       "      <th>2</th>\n",
       "      <td>C</td>\n",
       "      <td>15849</td>\n",
       "      <td>1346</td>\n",
       "      <td>0.084926</td>\n",
       "    </tr>\n",
       "    <tr>\n",
       "      <th>4</th>\n",
       "      <td>E</td>\n",
       "      <td>22</td>\n",
       "      <td>2</td>\n",
       "      <td>0.090909</td>\n",
       "    </tr>\n",
       "  </tbody>\n",
       "</table>\n",
       "</div>"
      ],
      "text/plain": [
       "  total_income_category  customer_count  debt_sum  debt_share\n",
       "3                     D             347        21    0.060519\n",
       "1                     B            4987       353    0.070784\n",
       "0                     A              25         2    0.080000\n",
       "2                     C           15849      1346    0.084926\n",
       "4                     E              22         2    0.090909"
      ]
     },
     "execution_count": 62,
     "metadata": {},
     "output_type": "execute_result"
    }
   ],
   "source": [
    "def pivot_generator(dataframe, column):\n",
    "    t = pd.pivot_table(dataframe,\n",
    "               index=column,\n",
    "               values='debt',\n",
    "               aggfunc=['count', 'sum','mean']) # создаем сводную таблицу \n",
    "    t.columns = ['_'.join(col).strip() for col in t.columns.values] # код взят со stackoverflow.com, получаем 1 ур-ю таблицу\n",
    "    t = t.reset_index().sort_values(by='mean_debt')\n",
    "    t.columns = [column, 'customer_count', 'debt_sum', 'debt_share']\n",
    "    return t\n",
    "\n",
    "pivot_generator(df,'total_income_category')"
   ]
  },
  {
   "attachments": {},
   "cell_type": "markdown",
   "id": "ea7d2c5b",
   "metadata": {},
   "source": [
    "**Построим теперь столбчатую диаграмму, отражающую зависимость доли имевших задолженность по возврату кредита от количества детей.**"
   ]
  },
  {
   "cell_type": "code",
   "execution_count": 63,
   "id": "51d475fa",
   "metadata": {},
   "outputs": [
    {
     "data": {
      "text/plain": [
       "<AxesSubplot:xlabel='children'>"
      ]
     },
     "execution_count": 63,
     "metadata": {},
     "output_type": "execute_result"
    },
    {
     "data": {
      "image/png": "[encoded data removed]",
      "text/plain": [
       "<Figure size 432x288 with 1 Axes>"
      ]
     },
     "metadata": {
      "needs_background": "light"
     },
     "output_type": "display_data"
    }
   ],
   "source": [
    "df.groupby('children')['debt'].mean().plot(kind='bar')"
   ]
  },
  {
   "attachments": {},
   "cell_type": "markdown",
   "id": "414cf529",
   "metadata": {},
   "source": [
    "Видим, что группы с количеством детей 4 и 5 очень немногочисленны в сравнении с общим количеством, поэтому информация о зависимости наличия долга по кредиту по данным группам будет нерепрезентативна. Для корректного анализа можно данные группы объединить с группой, где 3 детей. При этом новую группу оставляем с целочисленным значением 3, т.к. если присваивать строковое значение `3 и более` для данной группы, например, то придется и для всех остальных числовых значений в столбце `children` менять тип на `str`, а это не очень верно для количественных переменных."
   ]
  },
  {
   "attachments": {},
   "cell_type": "markdown",
   "id": "1c6a5066",
   "metadata": {},
   "source": [
    "**Напишем функцию, которая будет менять значение в столбце `children` на 3, в случае если текущее значение в ячейке более 3.**"
   ]
  },
  {
   "cell_type": "code",
   "execution_count": 64,
   "id": "c2b9a2ca",
   "metadata": {},
   "outputs": [],
   "source": [
    "def children_number(number): # объявляем функцию с одним параметром\n",
    "    try:                     # используем try-except на случай если в number будет не числовое значение\n",
    "        if 3 < number:\n",
    "            return 3         # если значение больше 3 детей, то возвращаем значение 3\n",
    "        else:\n",
    "            return number\n",
    "    except:\n",
    "        pass"
   ]
  },
  {
   "attachments": {},
   "cell_type": "markdown",
   "id": "5a7fa4c3",
   "metadata": {},
   "source": [
    "**Применим теперь данную функцию к столбцу `children` со скорректированными значениями и посмотрим, как распределяется процент имевших задолженности в зависимости от количества детей и количество клиентов в каждой из данных групп. Для этого сделаем группировку по столбцу `children` для столбца `debt` и применим функции `agg()` в которой аргументами будут два метода `count` и `mean`.**\n",
    "\n",
    "**Воспользуемся также методом `value_counts` с параметром `normalize=True` для оценки доли численности каждой группы по кол-ву детей во всем датафрейме**"
   ]
  },
  {
   "cell_type": "code",
   "execution_count": 65,
   "id": "4398fe87",
   "metadata": {},
   "outputs": [
    {
     "name": "stdout",
     "output_type": "stream",
     "text": [
      "          count      mean\n",
      "children                 \n",
      "0         14021  0.075458\n",
      "1          4792  0.092028\n",
      "2          2039  0.095145\n",
      "3           378  0.082011\n"
     ]
    },
    {
     "data": {
      "text/plain": [
       "0    0.660433\n",
       "1    0.225718\n",
       "2    0.096043\n",
       "3    0.017805\n",
       "Name: children, dtype: float64"
      ]
     },
     "execution_count": 65,
     "metadata": {},
     "output_type": "execute_result"
    }
   ],
   "source": [
    "df['children'] = df['children'].apply(children_number)\n",
    "print(df.groupby('children')['debt'].agg(['count', 'mean']))\n",
    "df['children'].value_counts(normalize=True)"
   ]
  },
  {
   "attachments": {},
   "cell_type": "markdown",
   "id": "f26e4ee4",
   "metadata": {},
   "source": [
    " **Построим теперь столбчатую диаграмму по обновленным значениям, отражающую зависимость доли имевших задолженность по возврату кредита от количества детей.**"
   ]
  },
  {
   "cell_type": "code",
   "execution_count": 66,
   "id": "bb52f061",
   "metadata": {},
   "outputs": [
    {
     "data": {
      "text/plain": [
       "<AxesSubplot:xlabel='children'>"
      ]
     },
     "execution_count": 66,
     "metadata": {},
     "output_type": "execute_result"
    },
    {
     "data": {
      "image/png": "[encoded data removed]",
      "text/plain": [
       "<Figure size 432x288 with 1 Axes>"
      ]
     },
     "metadata": {
      "needs_background": "light"
     },
     "output_type": "display_data"
    }
   ],
   "source": [
    "df.groupby('children')['debt'].mean().plot(kind='bar')"
   ]
  },
  {
   "attachments": {},
   "cell_type": "markdown",
   "id": "58783877",
   "metadata": {},
   "source": [
    "**Видим по диаграмме, что доля клиентов, имевших долг по возврату кредита, растет в зависимости от количества детей у клиента, однако, для значения `3` (3 и более детей), доля имевших долг по возврату кредита падает до уровня соответствующего значениям отсутствия детей и наличия одного ребенка. При этом минимальная доля имевших долг находится в самой многочисленной группе со значением 0 детей.** \n",
    "\n",
    "**Проверим как распределяются клиенты с разным количеством детей по категориям ежемесячного дохода. Для этого построим сводную таблицу с использованием метода `pivot_table()`, в которой в качестве значений возьмем информацию о наличии задолженности, при этом выведем долю с задолженностью с помощью метода `mean()` и количество записей для пересечения категорий дохода и количества детей с помощью метода `count()` для оценки возможности использования этих данных в нашем анализе.**\n",
    "\n",
    "**Дополнительно для ориентирования в данных выведем \"словарь\" `total_income_dict` категорий уровня дохода.**"
   ]
  },
  {
   "cell_type": "code",
   "execution_count": 67,
   "id": "28fe8f57",
   "metadata": {},
   "outputs": [
    {
     "name": "stdout",
     "output_type": "stream",
     "text": [
      "  total_income_category      min        max\n",
      "0                     A  1000001        inf\n",
      "1                     B   200001  1000000.0\n",
      "2                     C    50001   200000.0\n",
      "3                     D    30001    50000.0\n",
      "4                     E        0    30000.0\n"
     ]
    },
    {
     "data": {
      "text/html": [
       "<div>\n",
       "<style scoped>\n",
       "    .dataframe tbody tr th:only-of-type {\n",
       "        vertical-align: middle;\n",
       "    }\n",
       "\n",
       "    .dataframe tbody tr th {\n",
       "        vertical-align: top;\n",
       "    }\n",
       "\n",
       "    .dataframe thead th {\n",
       "        text-align: right;\n",
       "    }\n",
       "</style>\n",
       "<table border=\"1\" class=\"dataframe\">\n",
       "  <thead>\n",
       "    <tr style=\"text-align: right;\">\n",
       "      <th></th>\n",
       "      <th></th>\n",
       "      <th>count_debt</th>\n",
       "      <th>mean_debt</th>\n",
       "    </tr>\n",
       "    <tr>\n",
       "      <th>children</th>\n",
       "      <th>total_income_category</th>\n",
       "      <th></th>\n",
       "      <th></th>\n",
       "    </tr>\n",
       "  </thead>\n",
       "  <tbody>\n",
       "    <tr>\n",
       "      <th>1</th>\n",
       "      <th>E</th>\n",
       "      <td>4</td>\n",
       "      <td>0.000000</td>\n",
       "    </tr>\n",
       "    <tr>\n",
       "      <th>3</th>\n",
       "      <th>A</th>\n",
       "      <td>1</td>\n",
       "      <td>0.000000</td>\n",
       "    </tr>\n",
       "    <tr>\n",
       "      <th rowspan=\"2\" valign=\"top\">2</th>\n",
       "      <th>E</th>\n",
       "      <td>1</td>\n",
       "      <td>0.000000</td>\n",
       "    </tr>\n",
       "    <tr>\n",
       "      <th>A</th>\n",
       "      <td>3</td>\n",
       "      <td>0.000000</td>\n",
       "    </tr>\n",
       "    <tr>\n",
       "      <th>0</th>\n",
       "      <th>D</th>\n",
       "      <td>241</td>\n",
       "      <td>0.049793</td>\n",
       "    </tr>\n",
       "    <tr>\n",
       "      <th>3</th>\n",
       "      <th>B</th>\n",
       "      <td>99</td>\n",
       "      <td>0.050505</td>\n",
       "    </tr>\n",
       "    <tr>\n",
       "      <th>1</th>\n",
       "      <th>D</th>\n",
       "      <td>66</td>\n",
       "      <td>0.060606</td>\n",
       "    </tr>\n",
       "    <tr>\n",
       "      <th>0</th>\n",
       "      <th>B</th>\n",
       "      <td>3227</td>\n",
       "      <td>0.067865</td>\n",
       "    </tr>\n",
       "    <tr>\n",
       "      <th>1</th>\n",
       "      <th>B</th>\n",
       "      <td>1164</td>\n",
       "      <td>0.075601</td>\n",
       "    </tr>\n",
       "    <tr>\n",
       "      <th>0</th>\n",
       "      <th>C</th>\n",
       "      <td>10524</td>\n",
       "      <td>0.078297</td>\n",
       "    </tr>\n",
       "    <tr>\n",
       "      <th>2</th>\n",
       "      <th>B</th>\n",
       "      <td>497</td>\n",
       "      <td>0.082495</td>\n",
       "    </tr>\n",
       "    <tr>\n",
       "      <th>0</th>\n",
       "      <th>A</th>\n",
       "      <td>12</td>\n",
       "      <td>0.083333</td>\n",
       "    </tr>\n",
       "    <tr>\n",
       "      <th>3</th>\n",
       "      <th>C</th>\n",
       "      <td>272</td>\n",
       "      <td>0.091912</td>\n",
       "    </tr>\n",
       "    <tr>\n",
       "      <th>1</th>\n",
       "      <th>C</th>\n",
       "      <td>3549</td>\n",
       "      <td>0.098056</td>\n",
       "    </tr>\n",
       "    <tr>\n",
       "      <th>2</th>\n",
       "      <th>C</th>\n",
       "      <td>1504</td>\n",
       "      <td>0.099069</td>\n",
       "    </tr>\n",
       "    <tr>\n",
       "      <th>1</th>\n",
       "      <th>A</th>\n",
       "      <td>9</td>\n",
       "      <td>0.111111</td>\n",
       "    </tr>\n",
       "    <tr>\n",
       "      <th>2</th>\n",
       "      <th>D</th>\n",
       "      <td>34</td>\n",
       "      <td>0.117647</td>\n",
       "    </tr>\n",
       "    <tr>\n",
       "      <th>0</th>\n",
       "      <th>E</th>\n",
       "      <td>17</td>\n",
       "      <td>0.117647</td>\n",
       "    </tr>\n",
       "    <tr>\n",
       "      <th>3</th>\n",
       "      <th>D</th>\n",
       "      <td>6</td>\n",
       "      <td>0.166667</td>\n",
       "    </tr>\n",
       "  </tbody>\n",
       "</table>\n",
       "</div>"
      ],
      "text/plain": [
       "                                count_debt  mean_debt\n",
       "children total_income_category                       \n",
       "1        E                               4   0.000000\n",
       "3        A                               1   0.000000\n",
       "2        E                               1   0.000000\n",
       "         A                               3   0.000000\n",
       "0        D                             241   0.049793\n",
       "3        B                              99   0.050505\n",
       "1        D                              66   0.060606\n",
       "0        B                            3227   0.067865\n",
       "1        B                            1164   0.075601\n",
       "0        C                           10524   0.078297\n",
       "2        B                             497   0.082495\n",
       "0        A                              12   0.083333\n",
       "3        C                             272   0.091912\n",
       "1        C                            3549   0.098056\n",
       "2        C                            1504   0.099069\n",
       "1        A                               9   0.111111\n",
       "2        D                              34   0.117647\n",
       "0        E                              17   0.117647\n",
       "3        D                               6   0.166667"
      ]
     },
     "execution_count": 67,
     "metadata": {},
     "output_type": "execute_result"
    }
   ],
   "source": [
    "print(total_income_dict) # выводим словарь для категорий уровня дохода\n",
    "t = pd.pivot_table(df,\n",
    "               index=['children', 'total_income_category'],\n",
    "               values='debt',\n",
    "               aggfunc=['count','mean']) # создаем сводную таблицу \n",
    "t.columns = ['_'.join(col).strip() for col in t.columns.values] # код взят со stackoverflow.com, получаем 1 ур-ю таблицу \n",
    "t.sort_values(by='mean_debt') # сортируем по возрастанию значений доли должников"
   ]
  },
  {
   "attachments": {},
   "cell_type": "markdown",
   "id": "d5f977e8",
   "metadata": {},
   "source": [
    "**Количество записей для категорий `'A'` и `'E'` очень маленькое среди других значений, что будет только мешать анализу. Отбросим данные значения из нашей выборки, построим после фильтрации сводную таблицу с теми же двумя функциями `mean()` и `count()` и отсортируем ее по возрастанию.**"
   ]
  },
  {
   "cell_type": "code",
   "execution_count": 68,
   "id": "32a0a6d7",
   "metadata": {},
   "outputs": [
    {
     "data": {
      "text/html": [
       "<div>\n",
       "<style scoped>\n",
       "    .dataframe tbody tr th:only-of-type {\n",
       "        vertical-align: middle;\n",
       "    }\n",
       "\n",
       "    .dataframe tbody tr th {\n",
       "        vertical-align: top;\n",
       "    }\n",
       "\n",
       "    .dataframe thead th {\n",
       "        text-align: right;\n",
       "    }\n",
       "</style>\n",
       "<table border=\"1\" class=\"dataframe\">\n",
       "  <thead>\n",
       "    <tr style=\"text-align: right;\">\n",
       "      <th></th>\n",
       "      <th></th>\n",
       "      <th>count_debt</th>\n",
       "      <th>mean_debt</th>\n",
       "    </tr>\n",
       "    <tr>\n",
       "      <th>children</th>\n",
       "      <th>total_income_category</th>\n",
       "      <th></th>\n",
       "      <th></th>\n",
       "    </tr>\n",
       "  </thead>\n",
       "  <tbody>\n",
       "    <tr>\n",
       "      <th>0</th>\n",
       "      <th>D</th>\n",
       "      <td>241</td>\n",
       "      <td>0.049793</td>\n",
       "    </tr>\n",
       "    <tr>\n",
       "      <th>3</th>\n",
       "      <th>B</th>\n",
       "      <td>99</td>\n",
       "      <td>0.050505</td>\n",
       "    </tr>\n",
       "    <tr>\n",
       "      <th>1</th>\n",
       "      <th>D</th>\n",
       "      <td>66</td>\n",
       "      <td>0.060606</td>\n",
       "    </tr>\n",
       "    <tr>\n",
       "      <th>0</th>\n",
       "      <th>B</th>\n",
       "      <td>3227</td>\n",
       "      <td>0.067865</td>\n",
       "    </tr>\n",
       "    <tr>\n",
       "      <th>1</th>\n",
       "      <th>B</th>\n",
       "      <td>1164</td>\n",
       "      <td>0.075601</td>\n",
       "    </tr>\n",
       "    <tr>\n",
       "      <th>0</th>\n",
       "      <th>C</th>\n",
       "      <td>10524</td>\n",
       "      <td>0.078297</td>\n",
       "    </tr>\n",
       "    <tr>\n",
       "      <th>2</th>\n",
       "      <th>B</th>\n",
       "      <td>497</td>\n",
       "      <td>0.082495</td>\n",
       "    </tr>\n",
       "    <tr>\n",
       "      <th>3</th>\n",
       "      <th>C</th>\n",
       "      <td>272</td>\n",
       "      <td>0.091912</td>\n",
       "    </tr>\n",
       "    <tr>\n",
       "      <th>1</th>\n",
       "      <th>C</th>\n",
       "      <td>3549</td>\n",
       "      <td>0.098056</td>\n",
       "    </tr>\n",
       "    <tr>\n",
       "      <th rowspan=\"2\" valign=\"top\">2</th>\n",
       "      <th>C</th>\n",
       "      <td>1504</td>\n",
       "      <td>0.099069</td>\n",
       "    </tr>\n",
       "    <tr>\n",
       "      <th>D</th>\n",
       "      <td>34</td>\n",
       "      <td>0.117647</td>\n",
       "    </tr>\n",
       "    <tr>\n",
       "      <th>3</th>\n",
       "      <th>D</th>\n",
       "      <td>6</td>\n",
       "      <td>0.166667</td>\n",
       "    </tr>\n",
       "  </tbody>\n",
       "</table>\n",
       "</div>"
      ],
      "text/plain": [
       "                                count_debt  mean_debt\n",
       "children total_income_category                       \n",
       "0        D                             241   0.049793\n",
       "3        B                              99   0.050505\n",
       "1        D                              66   0.060606\n",
       "0        B                            3227   0.067865\n",
       "1        B                            1164   0.075601\n",
       "0        C                           10524   0.078297\n",
       "2        B                             497   0.082495\n",
       "3        C                             272   0.091912\n",
       "1        C                            3549   0.098056\n",
       "2        C                            1504   0.099069\n",
       "         D                              34   0.117647\n",
       "3        D                               6   0.166667"
      ]
     },
     "execution_count": 68,
     "metadata": {},
     "output_type": "execute_result"
    }
   ],
   "source": [
    "t = pd.pivot_table(df[(df['total_income_category'] != 'A')&(df['total_income_category'] != 'E')],\n",
    "               index=['children', 'total_income_category'],\n",
    "               values='debt',\n",
    "               aggfunc=['count','mean']) # создаем сводную таблицу \n",
    "t.columns = ['_'.join(col).strip() for col in t.columns.values] # код взят со stackoverflow.com, получаем одноур-ю таблицу \n",
    "t.sort_values(by='mean_debt')"
   ]
  },
  {
   "attachments": {},
   "cell_type": "markdown",
   "id": "7e4c634c",
   "metadata": {},
   "source": [
    "**Не удалось выявить какую-то явную связь между величиной дохода в группе с 3 детьми, объясняющую уменьшение доли должников при наличии 3 детей.**\n",
    "\n",
    "**Продолжим исследование на другие связи.**"
   ]
  },
  {
   "attachments": {},
   "cell_type": "markdown",
   "id": "5d3c652a",
   "metadata": {},
   "source": [
    "**Проверим как распределяются клиенты с разным количеством детей по целям кредита. Для этого построим сводную таблицу с использованием метода `pivot_table()`, в которой в качестве значений возьмем информацию о наличии задолженности, при этом выведем долю с задолженностью с помощью метода `mean()` и количество записей для пересечения целей кредита и количества детей с помощью метода `count()` для оценки возможности использования этих данных в нашем анализе.**\n",
    "\n",
    "**Дополнительно для ориентирования в данных выведем \"словарь\" `purpose_dict` целей кредита.**"
   ]
  },
  {
   "cell_type": "code",
   "execution_count": 69,
   "id": "be2f1534",
   "metadata": {},
   "outputs": [
    {
     "name": "stdout",
     "output_type": "stream",
     "text": [
      "purpose_category_id\n",
      "0      [операции с автомобилем]\n",
      "1    [операции с недвижимостью]\n",
      "2          [проведение свадьбы]\n",
      "3       [получение образования]\n",
      "Name: purpose_category, dtype: object\n"
     ]
    },
    {
     "data": {
      "text/html": [
       "<div>\n",
       "<style scoped>\n",
       "    .dataframe tbody tr th:only-of-type {\n",
       "        vertical-align: middle;\n",
       "    }\n",
       "\n",
       "    .dataframe tbody tr th {\n",
       "        vertical-align: top;\n",
       "    }\n",
       "\n",
       "    .dataframe thead th {\n",
       "        text-align: right;\n",
       "    }\n",
       "</style>\n",
       "<table border=\"1\" class=\"dataframe\">\n",
       "  <thead>\n",
       "    <tr style=\"text-align: right;\">\n",
       "      <th></th>\n",
       "      <th></th>\n",
       "      <th>count_debt</th>\n",
       "      <th>mean_debt</th>\n",
       "    </tr>\n",
       "    <tr>\n",
       "      <th>children</th>\n",
       "      <th>purpose_category_id</th>\n",
       "      <th></th>\n",
       "      <th></th>\n",
       "    </tr>\n",
       "  </thead>\n",
       "  <tbody>\n",
       "    <tr>\n",
       "      <th>3</th>\n",
       "      <th>3</th>\n",
       "      <td>77</td>\n",
       "      <td>0.051948</td>\n",
       "    </tr>\n",
       "    <tr>\n",
       "      <th>2</th>\n",
       "      <th>2</th>\n",
       "      <td>215</td>\n",
       "      <td>0.055814</td>\n",
       "    </tr>\n",
       "    <tr>\n",
       "      <th rowspan=\"2\" valign=\"top\">0</th>\n",
       "      <th>1</th>\n",
       "      <td>7043</td>\n",
       "      <td>0.067301</td>\n",
       "    </tr>\n",
       "    <tr>\n",
       "      <th>2</th>\n",
       "      <td>1519</td>\n",
       "      <td>0.074391</td>\n",
       "    </tr>\n",
       "    <tr>\n",
       "      <th>1</th>\n",
       "      <th>1</th>\n",
       "      <td>2442</td>\n",
       "      <td>0.081491</td>\n",
       "    </tr>\n",
       "    <tr>\n",
       "      <th rowspan=\"2\" valign=\"top\">3</th>\n",
       "      <th>1</th>\n",
       "      <td>193</td>\n",
       "      <td>0.082902</td>\n",
       "    </tr>\n",
       "    <tr>\n",
       "      <th>0</th>\n",
       "      <td>72</td>\n",
       "      <td>0.083333</td>\n",
       "    </tr>\n",
       "    <tr>\n",
       "      <th>0</th>\n",
       "      <th>0</th>\n",
       "      <td>2832</td>\n",
       "      <td>0.085452</td>\n",
       "    </tr>\n",
       "    <tr>\n",
       "      <th>2</th>\n",
       "      <th>1</th>\n",
       "      <td>1025</td>\n",
       "      <td>0.085854</td>\n",
       "    </tr>\n",
       "    <tr>\n",
       "      <th>0</th>\n",
       "      <th>3</th>\n",
       "      <td>2627</td>\n",
       "      <td>0.087172</td>\n",
       "    </tr>\n",
       "    <tr>\n",
       "      <th rowspan=\"3\" valign=\"top\">1</th>\n",
       "      <th>2</th>\n",
       "      <td>529</td>\n",
       "      <td>0.096408</td>\n",
       "    </tr>\n",
       "    <tr>\n",
       "      <th>3</th>\n",
       "      <td>865</td>\n",
       "      <td>0.104046</td>\n",
       "    </tr>\n",
       "    <tr>\n",
       "      <th>0</th>\n",
       "      <td>956</td>\n",
       "      <td>0.105649</td>\n",
       "    </tr>\n",
       "    <tr>\n",
       "      <th rowspan=\"2\" valign=\"top\">2</th>\n",
       "      <th>3</th>\n",
       "      <td>401</td>\n",
       "      <td>0.114713</td>\n",
       "    </tr>\n",
       "    <tr>\n",
       "      <th>0</th>\n",
       "      <td>398</td>\n",
       "      <td>0.120603</td>\n",
       "    </tr>\n",
       "    <tr>\n",
       "      <th>3</th>\n",
       "      <th>2</th>\n",
       "      <td>36</td>\n",
       "      <td>0.138889</td>\n",
       "    </tr>\n",
       "  </tbody>\n",
       "</table>\n",
       "</div>"
      ],
      "text/plain": [
       "                              count_debt  mean_debt\n",
       "children purpose_category_id                       \n",
       "3        3                            77   0.051948\n",
       "2        2                           215   0.055814\n",
       "0        1                          7043   0.067301\n",
       "         2                          1519   0.074391\n",
       "1        1                          2442   0.081491\n",
       "3        1                           193   0.082902\n",
       "         0                            72   0.083333\n",
       "0        0                          2832   0.085452\n",
       "2        1                          1025   0.085854\n",
       "0        3                          2627   0.087172\n",
       "1        2                           529   0.096408\n",
       "         3                           865   0.104046\n",
       "         0                           956   0.105649\n",
       "2        3                           401   0.114713\n",
       "         0                           398   0.120603\n",
       "3        2                            36   0.138889"
      ]
     },
     "execution_count": 69,
     "metadata": {},
     "output_type": "execute_result"
    }
   ],
   "source": [
    "print(purpose_dict)\n",
    "t = pd.pivot_table(df,\n",
    "               index=['children', 'purpose_category_id'],\n",
    "               values='debt',\n",
    "               aggfunc=['count','mean']) # создаем сводную таблицу \n",
    "t.columns = ['_'.join(col).strip() for col in t.columns.values] # код взят со stackoverflow.com, получаем одноур-ю таблицу \n",
    "t.sort_values(by='mean_debt')"
   ]
  },
  {
   "attachments": {},
   "cell_type": "markdown",
   "id": "ce649537",
   "metadata": {},
   "source": [
    "**Видим, что большая доля группы с 3 детьми брала кредит под цель `операции с недвижимостью`. Проверим распределение долей должников по целям кредита во всем датафрейме и выведем в виде столбчатой диаграммы по возрастанию доли должников.**"
   ]
  },
  {
   "cell_type": "code",
   "execution_count": 70,
   "id": "72d1b45d",
   "metadata": {},
   "outputs": [
    {
     "data": {
      "text/plain": [
       "<AxesSubplot:xlabel='purpose_category_id'>"
      ]
     },
     "execution_count": 70,
     "metadata": {},
     "output_type": "execute_result"
    },
    {
     "data": {
      "image/png": "[encoded data removed]",
      "text/plain": [
       "<Figure size 432x288 with 1 Axes>"
      ]
     },
     "metadata": {
      "needs_background": "light"
     },
     "output_type": "display_data"
    }
   ],
   "source": [
    "df.groupby('purpose_category_id')['debt'].mean().sort_values().plot(kind='bar')"
   ]
  },
  {
   "attachments": {},
   "cell_type": "markdown",
   "id": "192d9018",
   "metadata": {},
   "source": [
    "**Видим, что наименьшая доля должников была в группе, где цель кредита были `операции с недвижимостью`. Здесь как раз и появляется возможное объяснение, почему в группе с 3 детьми мы получили меньшую долю должников, чем в группе с 2 детьми. Большая часть клиентов с 3 детьми брала кредит под улучшение жилищных условий, который обычно обеспечивается залогом той самой недвижимости. Однако, нужно также учитывать тот факт, что группа 3 и более детей крайне немногочисленна по количеству клиентов в сравнении с суммарным количеством клиентов в датафрейме и составляет всего 1.8%, что может означать ее нерепрезентативность**"
   ]
  },
  {
   "attachments": {},
   "cell_type": "markdown",
   "id": "ca907a0d",
   "metadata": {
    "deletable": false,
    "id": "3a6b99ec"
   },
   "source": [
    "**Вывод: видим, что доля клиентов, имевших долг по возврату кредита растет в зависимости от количества детей у клиента, однако, для значения `3` и более детей, доля имевших долг по возврату кредита падает, но численность данной группы клиентов составляет всего 1.8% от всех клиентов в датасете, что может давать неверные результаты вследствие нерепрезентативности данной группы.** "
   ]
  },
  {
   "attachments": {},
   "cell_type": "markdown",
   "id": "76794f71",
   "metadata": {
    "deletable": false,
    "editable": false,
    "id": "97be82ca"
   },
   "source": [
    "#### 3.2 Проверим, есть ли зависимость между семейным положением и возвратом кредита в срок."
   ]
  },
  {
   "attachments": {},
   "cell_type": "markdown",
   "id": "c9ceebfc",
   "metadata": {},
   "source": [
    "**Сгруппируем датафрейм таким образом, чтобы посмотреть, как распределяется доля имевших задолженность по возврату кредита в зависимости от семейного положения и количество клиентов в каждой из данных групп. Для этого сделаем группировку по столбцу `family_status_id` для столбца `debt` и применим функции `agg()` в которой аргументами будут два метода `count` и `mean`.**\n",
    "\n",
    "**Воспользуемся также методом `value_counts` с параметром `normalize=True` для оценки доли численности каждой группы с различным семейным положением во всем датафрейме**"
   ]
  },
  {
   "cell_type": "code",
   "execution_count": 71,
   "id": "c752b1ea",
   "metadata": {
    "deletable": false,
    "id": "dc3f7ee8"
   },
   "outputs": [
    {
     "name": "stdout",
     "output_type": "stream",
     "text": [
      "                      mean  count\n",
      "family_status_id                 \n",
      "0                 0.075575  12213\n",
      "1                 0.093142   4112\n",
      "2                 0.065539    946\n",
      "3                 0.071247   1179\n",
      "4                 0.097842   2780\n"
     ]
    },
    {
     "data": {
      "text/plain": [
       "0    0.575271\n",
       "1    0.193688\n",
       "4    0.130947\n",
       "3    0.055535\n",
       "2    0.044560\n",
       "Name: family_status_id, dtype: float64"
      ]
     },
     "execution_count": 71,
     "metadata": {},
     "output_type": "execute_result"
    }
   ],
   "source": [
    "print(df.groupby('family_status_id')['debt'].agg(['mean', 'count']))\n",
    "df['family_status_id'].value_counts(normalize=True)"
   ]
  },
  {
   "attachments": {},
   "cell_type": "markdown",
   "id": "348548dc",
   "metadata": {},
   "source": [
    "**Построим теперь столбчатую диаграмму по возрастанию по значениям, отражающим долю имевших задолженности в зависимости от семейного положения . Дополнительно выведем \"словарь\" по данным значениям, чтобы проще было соотносить идентификатор и соответствующее ему значение семейного положения клиента.**"
   ]
  },
  {
   "cell_type": "code",
   "execution_count": 72,
   "id": "616ba7e8",
   "metadata": {},
   "outputs": [
    {
     "name": "stdout",
     "output_type": "stream",
     "text": [
      "family_status_id\n",
      "0          [женат / замужем]\n",
      "1         [гражданский брак]\n",
      "2           [вдовец / вдова]\n",
      "3                [в разводе]\n",
      "4    [не женат / не замужем]\n",
      "Name: family_status, dtype: object\n"
     ]
    },
    {
     "data": {
      "text/plain": [
       "<AxesSubplot:xlabel='family_status_id'>"
      ]
     },
     "execution_count": 72,
     "metadata": {},
     "output_type": "execute_result"
    },
    {
     "data": {
      "image/png": "[encoded data removed]",
      "text/plain": [
       "<Figure size 432x288 with 1 Axes>"
      ]
     },
     "metadata": {
      "needs_background": "light"
     },
     "output_type": "display_data"
    }
   ],
   "source": [
    "print(family_status_dict)\n",
    "df.groupby('family_status_id')['debt'].mean().sort_values().plot(kind='bar')"
   ]
  },
  {
   "attachments": {},
   "cell_type": "markdown",
   "id": "69040ab5",
   "metadata": {
    "deletable": false,
    "id": "1cef7837"
   },
   "source": [
    "**Вывод: видим, что доля наличия долга по возврату кредита выше среди тех клиентов, кто состоит в `гражданском браке` или `не женат / не замужем`, причем для значения `не женат / не замужем` доля имевших долг по возврату кредита самая высокая из всех. При этом для значения `вдовец / вдова` и `в разводе` доля имевших долг по возврату кредита самая низкая, но данные группы немногочисленны - 4.4% и 5.5% от общего количества клиентов в датасете соответственно.** "
   ]
  },
  {
   "attachments": {},
   "cell_type": "markdown",
   "id": "5b5bd26c",
   "metadata": {
    "deletable": false,
    "editable": false,
    "id": "1e8b2fca"
   },
   "source": [
    "#### 3.3 Проверим, есть ли зависимость между уровнем дохода и возвратом кредита в срок."
   ]
  },
  {
   "attachments": {},
   "cell_type": "markdown",
   "id": "00cc7000",
   "metadata": {},
   "source": [
    "**Сгруппируем датафрейм таким образом, чтобы посмотреть, как распределяется доля имевших задолженность по возврату кредита в зависимости от уровня дохода и количество клиентов в каждой из данных групп. Для этого сделаем группировку по столбцу `total_income_category` для столбца `debt` и применим функции `agg()` в которой аргументами будут два метода `count` и `mean`.**\n",
    "\n",
    "**Воспользуемся также методом `value_counts` с параметром `normalize=True` для оценки доли численности каждой категории во всем датафрейме**"
   ]
  },
  {
   "cell_type": "code",
   "execution_count": 73,
   "id": "8e550074",
   "metadata": {},
   "outputs": [
    {
     "name": "stdout",
     "output_type": "stream",
     "text": [
      "                           mean  count\n",
      "total_income_category                 \n",
      "A                      0.080000     25\n",
      "B                      0.070784   4987\n",
      "C                      0.084926  15849\n",
      "D                      0.060519    347\n",
      "E                      0.090909     22\n"
     ]
    },
    {
     "data": {
      "text/plain": [
       "C    0.746538\n",
       "B    0.234903\n",
       "D    0.016345\n",
       "A    0.001178\n",
       "E    0.001036\n",
       "Name: total_income_category, dtype: float64"
      ]
     },
     "execution_count": 73,
     "metadata": {},
     "output_type": "execute_result"
    }
   ],
   "source": [
    "print(df.groupby('total_income_category')['debt'].agg(['mean', 'count']))\n",
    "df['total_income_category'].value_counts(normalize=True)"
   ]
  },
  {
   "attachments": {},
   "cell_type": "markdown",
   "id": "ae83e03b",
   "metadata": {},
   "source": [
    "**Построим теперь столбчатую диаграмму, отражающую зависимость доли имевших задолженность по возврату кредита от уровня дохода. Дополнительно выведем \"словарь\" по данным значениям, чтобы проще было соотносить ключ и соответствующее ему значение диапазона уровня дохода клиента.**"
   ]
  },
  {
   "cell_type": "code",
   "execution_count": 74,
   "id": "edf31b4d",
   "metadata": {
    "deletable": false,
    "id": "cd7e3720"
   },
   "outputs": [
    {
     "name": "stdout",
     "output_type": "stream",
     "text": [
      "  total_income_category      min        max\n",
      "0                     A  1000001        inf\n",
      "1                     B   200001  1000000.0\n",
      "2                     C    50001   200000.0\n",
      "3                     D    30001    50000.0\n",
      "4                     E        0    30000.0\n"
     ]
    },
    {
     "data": {
      "text/plain": [
       "<AxesSubplot:xlabel='total_income_category'>"
      ]
     },
     "execution_count": 74,
     "metadata": {},
     "output_type": "execute_result"
    },
    {
     "data": {
      "image/png": "[encoded data removed]",
      "text/plain": [
       "<Figure size 432x288 with 1 Axes>"
      ]
     },
     "metadata": {
      "needs_background": "light"
     },
     "output_type": "display_data"
    }
   ],
   "source": [
    "print(total_income_dict)\n",
    "df.groupby('total_income_category')['debt'].mean().plot(kind='bar') # Ваш код будет здесь. Вы можете создавать новые ячейки."
   ]
  },
  {
   "attachments": {},
   "cell_type": "markdown",
   "id": "6befa87c",
   "metadata": {},
   "source": [
    "**Видим, что количество данных в категориях дохода `'A'`, `'D'`, `'E'` слишком мало в сравнении с остальными категориями, чтобы брать в расчет доли должников по данным категориям, численность данных категорий от всего датасета 0.1%, 0.1% и 1.6% соответственно. Отбросим их при анализе.**"
   ]
  },
  {
   "cell_type": "code",
   "execution_count": 75,
   "id": "bcd6ebb3",
   "metadata": {},
   "outputs": [
    {
     "data": {
      "text/plain": [
       "<AxesSubplot:xlabel='total_income_category'>"
      ]
     },
     "execution_count": 75,
     "metadata": {},
     "output_type": "execute_result"
    },
    {
     "data": {
      "image/png": "[encoded data removed]",
      "text/plain": [
       "<Figure size 432x288 with 1 Axes>"
      ]
     },
     "metadata": {
      "needs_background": "light"
     },
     "output_type": "display_data"
    }
   ],
   "source": [
    "df[(df['total_income_category'] == 'B') | (df['total_income_category'] == 'C')].groupby('total_income_category')['debt'].mean().plot(kind='bar')"
   ]
  },
  {
   "attachments": {},
   "cell_type": "markdown",
   "id": "f2e666e6",
   "metadata": {
    "deletable": false,
    "id": "e8593def"
   },
   "source": [
    "**Вывод: Видим, что чем уровень дохода клиента ниже, тем выше вероятность возникновения долга по кредиту.**"
   ]
  },
  {
   "attachments": {},
   "cell_type": "markdown",
   "id": "3930e6dd",
   "metadata": {
    "deletable": false,
    "editable": false,
    "id": "99ecbd1f"
   },
   "source": [
    "#### 3.4 Проверим, как разные цели кредита влияют на его возврат в срок."
   ]
  },
  {
   "attachments": {},
   "cell_type": "markdown",
   "id": "cdf0e042",
   "metadata": {},
   "source": [
    "**Сгруппируем датафрейм таким образом, чтобы посмотреть, как распределяется доля имевших задолженность по возврату кредита в зависимости от цели кредита и количество клиентов в каждой из данных групп. Для этого сделаем группировку по столбцу `purpose_category_id` для столбца `debt` и применим функции `agg()` в которой аргументами будут два метода `count` и `mean`.**"
   ]
  },
  {
   "cell_type": "code",
   "execution_count": 76,
   "id": "2a3d7279",
   "metadata": {
    "deletable": false,
    "id": "2b687290"
   },
   "outputs": [
    {
     "data": {
      "text/html": [
       "<div>\n",
       "<style scoped>\n",
       "    .dataframe tbody tr th:only-of-type {\n",
       "        vertical-align: middle;\n",
       "    }\n",
       "\n",
       "    .dataframe tbody tr th {\n",
       "        vertical-align: top;\n",
       "    }\n",
       "\n",
       "    .dataframe thead th {\n",
       "        text-align: right;\n",
       "    }\n",
       "</style>\n",
       "<table border=\"1\" class=\"dataframe\">\n",
       "  <thead>\n",
       "    <tr style=\"text-align: right;\">\n",
       "      <th></th>\n",
       "      <th>mean</th>\n",
       "      <th>count</th>\n",
       "    </tr>\n",
       "    <tr>\n",
       "      <th>purpose_category_id</th>\n",
       "      <th></th>\n",
       "      <th></th>\n",
       "    </tr>\n",
       "  </thead>\n",
       "  <tbody>\n",
       "    <tr>\n",
       "      <th>0</th>\n",
       "      <td>0.093236</td>\n",
       "      <td>4258</td>\n",
       "    </tr>\n",
       "    <tr>\n",
       "      <th>1</th>\n",
       "      <td>0.072596</td>\n",
       "      <td>10703</td>\n",
       "    </tr>\n",
       "    <tr>\n",
       "      <th>2</th>\n",
       "      <td>0.078730</td>\n",
       "      <td>2299</td>\n",
       "    </tr>\n",
       "    <tr>\n",
       "      <th>3</th>\n",
       "      <td>0.092947</td>\n",
       "      <td>3970</td>\n",
       "    </tr>\n",
       "  </tbody>\n",
       "</table>\n",
       "</div>"
      ],
      "text/plain": [
       "                         mean  count\n",
       "purpose_category_id                 \n",
       "0                    0.093236   4258\n",
       "1                    0.072596  10703\n",
       "2                    0.078730   2299\n",
       "3                    0.092947   3970"
      ]
     },
     "execution_count": 76,
     "metadata": {},
     "output_type": "execute_result"
    }
   ],
   "source": [
    "df.groupby('purpose_category_id')['debt'].agg(['mean', 'count']) # Ваш код будет здесь. Вы можете создавать новые ячейки."
   ]
  },
  {
   "attachments": {},
   "cell_type": "markdown",
   "id": "27098b51",
   "metadata": {},
   "source": [
    "**Построим теперь столбчатую диаграмму по возрастанию, отражающую зависимость доли имевших задолженность по возврату кредита от цели кредита. Дополнительно выведем \"словарь\" по данным значениям, чтобы проще было соотносить идентификатор и соответствующее ему значение цели кредита клиента.**"
   ]
  },
  {
   "cell_type": "code",
   "execution_count": 77,
   "id": "b988ec56",
   "metadata": {},
   "outputs": [
    {
     "name": "stdout",
     "output_type": "stream",
     "text": [
      "purpose_category_id\n",
      "0      [операции с автомобилем]\n",
      "1    [операции с недвижимостью]\n",
      "2          [проведение свадьбы]\n",
      "3       [получение образования]\n",
      "Name: purpose_category, dtype: object\n"
     ]
    },
    {
     "data": {
      "text/plain": [
       "<AxesSubplot:xlabel='purpose_category_id'>"
      ]
     },
     "execution_count": 77,
     "metadata": {},
     "output_type": "execute_result"
    },
    {
     "data": {
      "image/png": "[encoded data removed]",
      "text/plain": [
       "<Figure size 432x288 with 1 Axes>"
      ]
     },
     "metadata": {
      "needs_background": "light"
     },
     "output_type": "display_data"
    }
   ],
   "source": [
    "print(purpose_dict)\n",
    "df.groupby('purpose_category_id')['debt'].mean().sort_values(ascending=True).plot(kind='bar', ylim=0)"
   ]
  },
  {
   "attachments": {},
   "cell_type": "markdown",
   "id": "4844bb9a",
   "metadata": {
    "deletable": false,
    "id": "b4bb2ce6"
   },
   "source": [
    "**Вывод: автомобильные кредиты имеют наибольшую долю должников. При этом операции с недвижимостью имеют наименьшую долю должников.** "
   ]
  },
  {
   "attachments": {},
   "cell_type": "markdown",
   "id": "f561a8b6",
   "metadata": {
    "deletable": false,
    "editable": false,
    "id": "09c3ac4c"
   },
   "source": [
    "#### 3.5 Возможные причины появления пропусков в исходных данных."
   ]
  },
  {
   "attachments": {},
   "cell_type": "markdown",
   "id": "259a02c5",
   "metadata": {
    "deletable": false,
    "id": "9da2ceda"
   },
   "source": [
    "Причины могут быть связаны как с проблемой в выгрузке данных из исходных БД, так и с проблемами при внесении данных в исходную БД. Исходя из [исследования](#item_1_2), проведенного мной выше в п. 1.1 были обнаружены следующие особенности:*\n",
    "\n",
    "- Пропуски в обоих столбцах `total_income` и `days_employed` относятся к одним и тем же строкам,\n",
    "- Наименьший процент пропусков соответствует возрасту от 18 до 30 и от 62 до 73 лет,\n",
    "- 71% пропусков соответствует значению `'среднее'`в столбце `education`,\n",
    "- 57% пропусков соответствует значению `'женат / замужем'`в столбце `family_status`,\n",
    "- 68% пропусков соответствует значению `'F'`в столбце `gender`,\n",
    "- 51% пропусков соответствует значению `'сотрудник'`в столбце `income_type`,\n",
    "- 92% пропусков соответствует значению `'0'`в столбце `debt`.\n",
    "\n",
    "**Первая гипотеза:** пропуски в значениях дохода и общего трудового стажа связаны с человеческим фактором. \n",
    "Например, пользователи, заполняющие анкету для подачи заявки на кредит, не указали эти данные. Можно предположить, что это характерно для молодых мужчин\\женщин, которые еще не имеют трудового стажа и постоянного дохода и оформляют кредит впервые. Однако, процент пропусков для возраста от 18 до 30 минимальный, хотя и наибольший процент пропусков характерен для людей, не имевших ранее долг по кредитам. \n",
    "Гипотеза не подтверждается из-за распределения пропусков относительно возраста людей. \n",
    "Также в случае пропуска этих полей в анкете заявителями мы скорее всего хотя бы в какой-то из строк увидели бы пропуски в двух столбцах в разных строках, в нашем же случае пропуски в двух столбцах относятся к одним и тем же строкам, что может говорить о каком-то системном характере данных пропусков.\n",
    "\n",
    "**Вторая гипотеза:** пропуски в данных связаны с техническим фактором, и эти данные не были перенесены из БД, например, содержащей информацию о людях, не имеющих долгов (т.к. процент пропусков 92% для людей без долгов). В пользу этой гипотезы также говорит системный характер пропуска в обоих столбцах - т.е. пропуски в двух разных столбцах характерны только для одних и тех же строк (людей). * <a id='item_2_7_5'></a>"
   ]
  },
  {
   "attachments": {},
   "cell_type": "markdown",
   "id": "bb7d30b5",
   "metadata": {
    "deletable": false,
    "editable": false,
    "id": "7b0487d6"
   },
   "source": [
    "#### 3.6 Поясним, почему заполнить пропуски медианным значением — лучшее решение для количественных переменных."
   ]
  },
  {
   "attachments": {},
   "cell_type": "markdown",
   "id": "4bca245d",
   "metadata": {
    "deletable": false,
    "id": "7ecf2b8e"
   },
   "source": [
    "Как понять, какое решение хуже или лучше при заполнении пропусков? Очень просто, заполнение пропусков не должно исказить результаты исследования данных в неверную сторону. Таким образом, нужно определить, какой вариант заполнения пропусков даст наименьшее искажение в результатах исследования. Как одну из характеристик выборки количественных переменных можно взять среднее значение данной выборки. Если среднее (не среднее арифметическое) значение выборки после заполнения пропусков не исказилось, можно считать, что мы минимально исказили результаты исследования, при условии, что общий процент пропусков в данной  выборке количественных переменных невелик, конечно же."
   ]
  },
  {
   "attachments": {},
   "cell_type": "markdown",
   "id": "826a133d",
   "metadata": {},
   "source": [
    "Как известно, среднее и медиана оценивают значения в центре выборки. Если значения количественных переменных в выборке распределены равномерно, то среднее арифметическое подходит для оценки среднего значения всей выборки. Но когда есть сильно выбивающиеся значения от основной массы значений в выборке количественных переменных, то данные значения сильно смещают значение среднего вверх или вниз. Вот почему оценивать среднее выборки количественных переменных с значениями в широком диапазоне лучше медианой. "
   ]
  },
  {
   "attachments": {},
   "cell_type": "markdown",
   "id": "3ef75731",
   "metadata": {},
   "source": [
    "**Покажем разницу медианы и среднего арифметического в выборке с большим выбросом.**"
   ]
  },
  {
   "cell_type": "code",
   "execution_count": 78,
   "id": "ca303e21",
   "metadata": {},
   "outputs": [
    {
     "name": "stdout",
     "output_type": "stream",
     "text": [
      "mean = 10.9\n",
      "median = 1.0\n"
     ]
    }
   ],
   "source": [
    "import statistics # импортируем библиотеку для получения функции нахождения медианы и среднего арифметического в списке\n",
    "\n",
    "list = [1]*9 + [100]*1 # создаем список из 9 элементов со значением 1 и одним элементов со значением 100\n",
    "\n",
    "print('mean =', statistics.mean(list)) # выводим среднее арифметическое списка\n",
    "print('median =', statistics.median(list)) # выводим медианное значение списка"
   ]
  },
  {
   "attachments": {},
   "cell_type": "markdown",
   "id": "97aa2723",
   "metadata": {},
   "source": [
    "На данном примере наглядно видна разница между медианой и средним арифметическим в выборке с большими выбросами."
   ]
  },
  {
   "attachments": {},
   "cell_type": "markdown",
   "id": "ef5fa9f5",
   "metadata": {},
   "source": [
    "Рассмотрим теперь несколько вариантов заполнения пропусков. И посмотрим влияние каждого из вариантов на медианное значение выборки.\n",
    "Очевидно, что в случае заполнения пропусков значением отличным от медианного, мы в той или иной степени сместим медиану всей выборки в сторону относительно ее исходного значения. И только в случае заполнения пропуском медианным значеним, медиана всей выборки не изменится, тем самым результат обработки данных минимально повлияет на результаты исследования, повторюсь, при небольшом проценте пропусков от общего числа количественных переменных в данной выборке."
   ]
  },
  {
   "attachments": {},
   "cell_type": "markdown",
   "id": "df091020",
   "metadata": {},
   "source": [
    "**Проведем практический эксперимент. Заполним список из 1000 значений последовательностью чисел от 1 до 1000, при этом на каждое 10е значение списка поставим значительно большее число, создав в выборке так называемые выбросы значений. Посчитаем среднее арифметическое и медианное значения для данной выборки.**"
   ]
  },
  {
   "cell_type": "code",
   "execution_count": 79,
   "id": "f4470ae3",
   "metadata": {},
   "outputs": [
    {
     "name": "stdout",
     "output_type": "stream",
     "text": [
      "length data = 1000\n",
      "mean data = 1489.5\n",
      "median data = 552.5\n"
     ]
    }
   ],
   "source": [
    "data_analysis = [] # объявляем переменную, которая будет хранить выборку количественной переменной\n",
    "\n",
    "for i in range(1000): # цикл для заполнения списка 1000 элементами\n",
    "    if i % 10 == 0: # в случае если значение i кратно 10\n",
    "        i += i * 20 # увеличиваем кратно 20 значение i для получения в списке элементов с большими выбросами\n",
    "    data_analysis.append(i) # добавляем данный элемент в конец нашего списка\n",
    "    \n",
    "len_data = len(data_analysis) # записываем в переменную длину исходного списка\n",
    "mean_data = statistics.mean(data_analysis) # записываем в переменную сред. арифм. исходного списка\n",
    "median_data = statistics.median(data_analysis) # записываем в переменную медианное значение исходного списка\n",
    "\n",
    "print('length data =', len_data) # выводим длину исходного списка\n",
    "print('mean data =', mean_data) # выводим среднее арифметическое исходного списка\n",
    "print('median data =', median_data) # выводим медианное значение исходного списка"
   ]
  },
  {
   "attachments": {},
   "cell_type": "markdown",
   "id": "05167d18",
   "metadata": {},
   "source": [
    "**Теперь в нашем списке из 1000 значений выделим в центре участок из 100 значений (10% от всей выборки), которые представим \"пропусками\". Посчитаем теперь среднее арифметическое и медианное значение новой выборки, которая отличается от исходной 10% пропусков всех значений в центре выборки.**"
   ]
  },
  {
   "cell_type": "code",
   "execution_count": 80,
   "id": "75ce0675",
   "metadata": {},
   "outputs": [
    {
     "name": "stdout",
     "output_type": "stream",
     "text": [
      "length data_cut = 900\n",
      "mean data_cut = 1489.5\n",
      "median data_cut = 596.5\n"
     ]
    }
   ],
   "source": [
    "''' заполним новый список data_new значениями из исходного списка data, исключая 100 значений в исходной выборке, \n",
    "т.е. значения с индексами от 450 до 549 не будут включены в новый список'''\n",
    "data_cut = [] # объявляем новый список\n",
    "\n",
    "for i in range(len(data_analysis)): # идем по индексам старого списка\n",
    "    if i  < 450 or i > 549: # если значение индекса элемента не в отрезке [450;549]\n",
    "        data_cut.append(data_analysis[i]) # добавить элемент с данным индексом из исходного списка в новый\n",
    "\n",
    "len_data_cut = len(data_cut) # записываем в переменную длину \"урезанного\" списка\n",
    "mean_data_cut = statistics.mean(data_cut) # записываем в переменную сред. арифм. \"урезанного\" списка\n",
    "median_data_cut = statistics.median(data_cut) # записываем в переменную медианное значение \"урезанного\" списка\n",
    "\n",
    "print('length data_cut =', len_data_cut) # выводим длину \"урезанного\" списка\n",
    "print('mean data_cut =', mean_data_cut) # выводим среднее арифметическое \"урезанного\" списка\n",
    "print('median data_cut =', median_data_cut) # выводим медианное значение \"урезанного\" списка"
   ]
  },
  {
   "attachments": {},
   "cell_type": "markdown",
   "id": "46171008",
   "metadata": {},
   "source": [
    "**Видим, что среднее арифметическое значение исходного списка и \"урезанного\" совпадают. Далее проверим, как замена \"пропусков\" исходного списка на различные значения будет влиять на медианное значение нового списка и сравним данное значение с медианным значением исходного списка без \"пропусков\".**"
   ]
  },
  {
   "attachments": {},
   "cell_type": "markdown",
   "id": "93aabe99",
   "metadata": {},
   "source": [
    "**Заполним сначала \"пропуски\" нулевыми значениями.**"
   ]
  },
  {
   "cell_type": "code",
   "execution_count": 81,
   "id": "73fbd62b",
   "metadata": {},
   "outputs": [
    {
     "name": "stdout",
     "output_type": "stream",
     "text": [
      "length data_new_zero = 1000\n",
      "mean data_new_zero = 1340.55\n",
      "median data_new_zero = 441.5\n"
     ]
    }
   ],
   "source": [
    "data_new_zero = data_cut[:] # новый список, который будет аналогичен исходному, но в котором мы заменим 100 элементов в центре нулем\n",
    "\n",
    "for i in range(450, 550): # идем только лишь по индексам от 450 до 549\n",
    "    data_new_zero.insert(i, 0) # заполняем список значением 0 начиная от индекса 450, заканчивая индексом 549\n",
    "\n",
    "len_data_new_zero = len(data_new_zero) # записываем в переменную длину нового списка\n",
    "mean_data_new_zero = statistics.mean(data_new_zero) # записываем в переменную сред. арифм. нового списка\n",
    "median_data_new_zero = statistics.median(data_new_zero) # записываем в переменную медианное значение нового списка\n",
    "\n",
    "print('length data_new_zero =', len_data_new_zero) # выводим длину нового списка\n",
    "print('mean data_new_zero =', mean_data_new_zero) # выводим среднее арифметическое нового списка\n",
    "print('median data_new_zero =', median_data_new_zero) # выводим медианное значение нового списка"
   ]
  },
  {
   "attachments": {},
   "cell_type": "markdown",
   "id": "45f73a80",
   "metadata": {},
   "source": [
    "**Теперь заполним \"пропуски\" значениями среднего арифметического \"урезанного\" списка.**"
   ]
  },
  {
   "cell_type": "code",
   "execution_count": 82,
   "id": "ff99bfdd",
   "metadata": {},
   "outputs": [
    {
     "name": "stdout",
     "output_type": "stream",
     "text": [
      "length data_new_mean = 1000\n",
      "mean data_new_mean = 1489.5\n",
      "median data_new_mean = 651.5\n"
     ]
    }
   ],
   "source": [
    "data_new_mean = data_cut[:] # новый список, который будет аналогичен исходному, но в котором мы заменим 100 элементов в центре ср.арифм. \"урезанного списка\"\n",
    "\n",
    "for i in range(450, 550): # идем только лишь по индексам от 450 до 549\n",
    "    data_new_mean.insert(i, mean_data_cut) # заполняем список ср.арифм. значением \"урезанного\" списка начиная от индекса 450, заканчивая индексом 549\n",
    "\n",
    "len_data_new_mean = len(data_new_mean) # записываем в переменную длину нового списка\n",
    "mean_data_new_mean = statistics.mean(data_new_mean) # записываем в переменную сред. арифм. нового списка\n",
    "median_data_new_mean = statistics.median(data_new_mean) # записываем в переменную медианное значение нового списка\n",
    "\n",
    "print('length data_new_mean =', len_data_new_mean) # выводим длину нового списка\n",
    "print('mean data_new_mean =', mean_data_new_mean) # выводим среднее арифметическое нового списка\n",
    "print('median data_new_mean =', median_data_new_mean) # выводим медианное значение нового списка"
   ]
  },
  {
   "attachments": {},
   "cell_type": "markdown",
   "id": "6a3a41b2",
   "metadata": {},
   "source": [
    "**Теперь заполним \"пропуски\" значениями медианы \"урезанного\" списка.**"
   ]
  },
  {
   "cell_type": "code",
   "execution_count": 83,
   "id": "7ebd3752",
   "metadata": {},
   "outputs": [
    {
     "name": "stdout",
     "output_type": "stream",
     "text": [
      "length data_new_median = 1000\n",
      "mean data_new_median = 1400.2\n",
      "median data_new_median = 596.5\n"
     ]
    }
   ],
   "source": [
    "data_new_median = data_cut[:] # новый список, который будет аналогичен исходному, но в котором мы заменим 100 элементов в центре медианой \"урезанного списка\"\n",
    "\n",
    "for i in range(450, 550): # идем только лишь по индексам от 450 до 549\n",
    "    data_new_median.insert(i, median_data_cut) # заполняем список медианой \"урезанного\" списка начиная от индекса 450, заканчивая индексом 549\n",
    "\n",
    "len_data_new_median = len(data_new_median) # записываем в переменную длину нового списка\n",
    "mean_data_new_median = statistics.mean(data_new_median) # записываем в переменную сред. арифм. нового списка\n",
    "median_data_new_median = statistics.median(data_new_median) # записываем в переменную медианное значение нового списка\n",
    "\n",
    "print('length data_new_median =', len_data_new_median) # выводим длину нового списка\n",
    "print('mean data_new_median =', mean_data_new_median) # выводим среднее арифметическое нового списка\n",
    "print('median data_new_median =', median_data_new_median) # выводим медианное значение нового списка"
   ]
  },
  {
   "attachments": {},
   "cell_type": "markdown",
   "id": "f4f73198",
   "metadata": {},
   "source": [
    "**Проанализируем полученные данные, создав из них таблицу.**"
   ]
  },
  {
   "cell_type": "code",
   "execution_count": 84,
   "id": "6e8aa53e",
   "metadata": {},
   "outputs": [
    {
     "data": {
      "text/html": [
       "<div>\n",
       "<style scoped>\n",
       "    .dataframe tbody tr th:only-of-type {\n",
       "        vertical-align: middle;\n",
       "    }\n",
       "\n",
       "    .dataframe tbody tr th {\n",
       "        vertical-align: top;\n",
       "    }\n",
       "\n",
       "    .dataframe thead th {\n",
       "        text-align: right;\n",
       "    }\n",
       "</style>\n",
       "<table border=\"1\" class=\"dataframe\">\n",
       "  <thead>\n",
       "    <tr style=\"text-align: right;\">\n",
       "      <th></th>\n",
       "      <th>func</th>\n",
       "      <th>default_list</th>\n",
       "      <th>cut_list</th>\n",
       "      <th>list_with_zero</th>\n",
       "      <th>list_with_mean</th>\n",
       "      <th>list_with_median</th>\n",
       "    </tr>\n",
       "  </thead>\n",
       "  <tbody>\n",
       "    <tr>\n",
       "      <th>0</th>\n",
       "      <td>mean</td>\n",
       "      <td>1489.5</td>\n",
       "      <td>1489.5</td>\n",
       "      <td>1340.55</td>\n",
       "      <td>1489.5</td>\n",
       "      <td>1400.2</td>\n",
       "    </tr>\n",
       "    <tr>\n",
       "      <th>1</th>\n",
       "      <td>median</td>\n",
       "      <td>552.5</td>\n",
       "      <td>596.5</td>\n",
       "      <td>441.50</td>\n",
       "      <td>651.5</td>\n",
       "      <td>596.5</td>\n",
       "    </tr>\n",
       "    <tr>\n",
       "      <th>2</th>\n",
       "      <td>mean_diff_w_defualt</td>\n",
       "      <td>0.0</td>\n",
       "      <td>0.0</td>\n",
       "      <td>-148.95</td>\n",
       "      <td>0.0</td>\n",
       "      <td>-89.3</td>\n",
       "    </tr>\n",
       "    <tr>\n",
       "      <th>3</th>\n",
       "      <td>median_diff_w_defualt</td>\n",
       "      <td>0.0</td>\n",
       "      <td>44.0</td>\n",
       "      <td>-111.00</td>\n",
       "      <td>99.0</td>\n",
       "      <td>0.0</td>\n",
       "    </tr>\n",
       "  </tbody>\n",
       "</table>\n",
       "</div>"
      ],
      "text/plain": [
       "                    func  default_list  cut_list  list_with_zero  \\\n",
       "0                   mean        1489.5    1489.5         1340.55   \n",
       "1                 median         552.5     596.5          441.50   \n",
       "2    mean_diff_w_defualt           0.0       0.0         -148.95   \n",
       "3  median_diff_w_defualt           0.0      44.0         -111.00   \n",
       "\n",
       "   list_with_mean  list_with_median  \n",
       "0          1489.5            1400.2  \n",
       "1           651.5             596.5  \n",
       "2             0.0             -89.3  \n",
       "3            99.0               0.0  "
      ]
     },
     "execution_count": 84,
     "metadata": {},
     "output_type": "execute_result"
    }
   ],
   "source": [
    "''' Создаем таблицу с полученными значениями среднего арифметического и медианы для каждого из полученных списков. \n",
    "Также отобразим в нижней строке разницу соответствующих значений по сравнению со значениями, \n",
    "относящимися к исходному полному списку.'''\n",
    "\n",
    "gap_analysis = pd.DataFrame(\n",
    "             {'func': ['mean', 'median', 'mean_diff_w_defualt', 'median_diff_w_defualt'],\n",
    "              'default_list': [mean_data, median_data, 0, 0],\n",
    "              'cut_list': [mean_data_cut, median_data_cut, mean_data_cut - mean_data, median_data_cut - median_data],\n",
    "              'list_with_zero': [mean_data_new_zero, median_data_new_zero, mean_data_new_zero - mean_data, median_data_new_zero - median_data],\n",
    "              'list_with_mean': [mean_data_new_mean, median_data_new_mean, mean_data_new_mean - mean_data, median_data_new_mean - median_data],\n",
    "              'list_with_median': [mean_data_new_median, median_data_new_median, mean_data_new_median - mean_data, median_data_new_median - median_data_new_median]\n",
    "             })\n",
    "gap_analysis"
   ]
  },
  {
   "attachments": {},
   "cell_type": "markdown",
   "id": "d72a1315",
   "metadata": {},
   "source": [
    "**Отсюда можем сделать вывод, что наименьшая разница в медианном значении новой и исходной выборок количественной переменной получается в случае, если пропущенные значения в исходной выборке заполнить с помощью именно медианного значения среди известных значений исходной выборки. Среднее и медиана различаются, если в выборке присутствуют выбросы (значения, выделяющиеся из общей выборки). Медиана позволяет нивелировать их влияние.**"
   ]
  },
  {
   "attachments": {},
   "cell_type": "markdown",
   "id": "97df9a82",
   "metadata": {
    "deletable": false,
    "editable": false,
    "id": "6db5255a"
   },
   "source": [
    "### Шаг 4: общий вывод."
   ]
  },
  {
   "attachments": {},
   "cell_type": "markdown",
   "id": "3493221a",
   "metadata": {
    "deletable": false,
    "id": "bad65432"
   },
   "source": [
    "**Исходя из каждого пункта мы выявили самые благонадежные группы клиентов. Проверим теперь комплексной фильтрацией датафрейма и используя сводные таблицы методом `pivot_table`, так ли это. Проверим долю должников для комбинации: клиенты без детей, которые берут кредит под операции с недвижимостью и которые (1)являются вдовой\\вдовцом , (2) находятся в разводе и (3) женаты\\замужем.**\n",
    "\n",
    "**Также еще раз выведем общую долю должников во всем датасете как референтное значение.**"
   ]
  },
  {
   "cell_type": "code",
   "execution_count": 85,
   "id": "deb49e3d",
   "metadata": {},
   "outputs": [
    {
     "name": "stdout",
     "output_type": "stream",
     "text": [
      "purpose_category_id\n",
      "0      [операции с автомобилем]\n",
      "1    [операции с недвижимостью]\n",
      "2          [проведение свадьбы]\n",
      "3       [получение образования]\n",
      "Name: purpose_category, dtype: object\n",
      "\n",
      "\n",
      "family_status_id\n",
      "0          [женат / замужем]\n",
      "1         [гражданский брак]\n",
      "2           [вдовец / вдова]\n",
      "3                [в разводе]\n",
      "4    [не женат / не замужем]\n",
      "Name: family_status, dtype: object\n",
      "\n",
      "\n",
      "Общая доля должников во всем датафрейме = 0.08120584079133301\n"
     ]
    },
    {
     "data": {
      "text/html": [
       "<div>\n",
       "<style scoped>\n",
       "    .dataframe tbody tr th:only-of-type {\n",
       "        vertical-align: middle;\n",
       "    }\n",
       "\n",
       "    .dataframe tbody tr th {\n",
       "        vertical-align: top;\n",
       "    }\n",
       "\n",
       "    .dataframe thead th {\n",
       "        text-align: right;\n",
       "    }\n",
       "</style>\n",
       "<table border=\"1\" class=\"dataframe\">\n",
       "  <thead>\n",
       "    <tr style=\"text-align: right;\">\n",
       "      <th></th>\n",
       "      <th></th>\n",
       "      <th></th>\n",
       "      <th>count_debt</th>\n",
       "      <th>mean_debt</th>\n",
       "    </tr>\n",
       "    <tr>\n",
       "      <th>children</th>\n",
       "      <th>purpose_category_id</th>\n",
       "      <th>family_status_id</th>\n",
       "      <th></th>\n",
       "      <th></th>\n",
       "    </tr>\n",
       "  </thead>\n",
       "  <tbody>\n",
       "    <tr>\n",
       "      <th rowspan=\"5\" valign=\"top\">3</th>\n",
       "      <th>3</th>\n",
       "      <th>4</th>\n",
       "      <td>3</td>\n",
       "      <td>0.000000</td>\n",
       "    </tr>\n",
       "    <tr>\n",
       "      <th rowspan=\"2\" valign=\"top\">1</th>\n",
       "      <th>2</th>\n",
       "      <td>4</td>\n",
       "      <td>0.000000</td>\n",
       "    </tr>\n",
       "    <tr>\n",
       "      <th>1</th>\n",
       "      <td>17</td>\n",
       "      <td>0.000000</td>\n",
       "    </tr>\n",
       "    <tr>\n",
       "      <th rowspan=\"2\" valign=\"top\">0</th>\n",
       "      <th>4</th>\n",
       "      <td>4</td>\n",
       "      <td>0.000000</td>\n",
       "    </tr>\n",
       "    <tr>\n",
       "      <th>3</th>\n",
       "      <td>2</td>\n",
       "      <td>0.000000</td>\n",
       "    </tr>\n",
       "    <tr>\n",
       "      <th>2</th>\n",
       "      <th>3</th>\n",
       "      <th>2</th>\n",
       "      <td>2</td>\n",
       "      <td>0.000000</td>\n",
       "    </tr>\n",
       "    <tr>\n",
       "      <th>3</th>\n",
       "      <th>3</th>\n",
       "      <th>2</th>\n",
       "      <td>3</td>\n",
       "      <td>0.000000</td>\n",
       "    </tr>\n",
       "    <tr>\n",
       "      <th rowspan=\"2\" valign=\"top\">1</th>\n",
       "      <th>0</th>\n",
       "      <th>2</th>\n",
       "      <td>11</td>\n",
       "      <td>0.000000</td>\n",
       "    </tr>\n",
       "    <tr>\n",
       "      <th>3</th>\n",
       "      <th>3</th>\n",
       "      <td>61</td>\n",
       "      <td>0.032787</td>\n",
       "    </tr>\n",
       "    <tr>\n",
       "      <th>3</th>\n",
       "      <th>3</th>\n",
       "      <th>0</th>\n",
       "      <td>65</td>\n",
       "      <td>0.046154</td>\n",
       "    </tr>\n",
       "    <tr>\n",
       "      <th>0</th>\n",
       "      <th>1</th>\n",
       "      <th>2</th>\n",
       "      <td>469</td>\n",
       "      <td>0.046908</td>\n",
       "    </tr>\n",
       "    <tr>\n",
       "      <th rowspan=\"2\" valign=\"top\">2</th>\n",
       "      <th>2</th>\n",
       "      <th>1</th>\n",
       "      <td>215</td>\n",
       "      <td>0.055814</td>\n",
       "    </tr>\n",
       "    <tr>\n",
       "      <th>1</th>\n",
       "      <th>3</th>\n",
       "      <td>47</td>\n",
       "      <td>0.063830</td>\n",
       "    </tr>\n",
       "    <tr>\n",
       "      <th rowspan=\"2\" valign=\"top\">0</th>\n",
       "      <th>1</th>\n",
       "      <th>0</th>\n",
       "      <td>4220</td>\n",
       "      <td>0.065640</td>\n",
       "    </tr>\n",
       "    <tr>\n",
       "      <th>0</th>\n",
       "      <th>3</th>\n",
       "      <td>192</td>\n",
       "      <td>0.067708</td>\n",
       "    </tr>\n",
       "    <tr>\n",
       "      <th>3</th>\n",
       "      <th>0</th>\n",
       "      <th>0</th>\n",
       "      <td>59</td>\n",
       "      <td>0.067797</td>\n",
       "    </tr>\n",
       "    <tr>\n",
       "      <th rowspan=\"2\" valign=\"top\">0</th>\n",
       "      <th>1</th>\n",
       "      <th>3</th>\n",
       "      <td>427</td>\n",
       "      <td>0.067916</td>\n",
       "    </tr>\n",
       "    <tr>\n",
       "      <th>3</th>\n",
       "      <th>2</th>\n",
       "      <td>174</td>\n",
       "      <td>0.068966</td>\n",
       "    </tr>\n",
       "    <tr>\n",
       "      <th>2</th>\n",
       "      <th>3</th>\n",
       "      <th>4</th>\n",
       "      <td>14</td>\n",
       "      <td>0.071429</td>\n",
       "    </tr>\n",
       "    <tr>\n",
       "      <th>1</th>\n",
       "      <th>1</th>\n",
       "      <th>3</th>\n",
       "      <td>182</td>\n",
       "      <td>0.071429</td>\n",
       "    </tr>\n",
       "  </tbody>\n",
       "</table>\n",
       "</div>"
      ],
      "text/plain": [
       "                                               count_debt  mean_debt\n",
       "children purpose_category_id family_status_id                       \n",
       "3        3                   4                          3   0.000000\n",
       "         1                   2                          4   0.000000\n",
       "                             1                         17   0.000000\n",
       "         0                   4                          4   0.000000\n",
       "                             3                          2   0.000000\n",
       "2        3                   2                          2   0.000000\n",
       "3        3                   2                          3   0.000000\n",
       "1        0                   2                         11   0.000000\n",
       "         3                   3                         61   0.032787\n",
       "3        3                   0                         65   0.046154\n",
       "0        1                   2                        469   0.046908\n",
       "2        2                   1                        215   0.055814\n",
       "         1                   3                         47   0.063830\n",
       "0        1                   0                       4220   0.065640\n",
       "         0                   3                        192   0.067708\n",
       "3        0                   0                         59   0.067797\n",
       "0        1                   3                        427   0.067916\n",
       "         3                   2                        174   0.068966\n",
       "2        3                   4                         14   0.071429\n",
       "1        1                   3                        182   0.071429"
      ]
     },
     "execution_count": 85,
     "metadata": {},
     "output_type": "execute_result"
    }
   ],
   "source": [
    "print(purpose_dict) # выводим словарь целей кредита\n",
    "print('\\n') # отделяем пустой строкой\n",
    "print(family_status_dict) # выводим словарь статусов семейного положения\n",
    "print('\\n') # отделяем пустой строкой\n",
    "print('Общая доля должников во всем датафрейме =',df['debt'].mean()) # выводим общую долю должников во всем датафрейме\n",
    "t1 = pd.pivot_table(df,\n",
    "               index=['children', 'purpose_category_id', 'family_status_id'],\n",
    "               values='debt',\n",
    "               aggfunc=['count','mean']) # создаем сводную таблицу \n",
    "\n",
    "t1.columns = [''.join(col).strip() for col in t.columns.values] # код взят со stackoverflow.com, получаем одноур-ю таблицу \n",
    "t1.sort_values(by='mean_debt').head(20) # сортируем по возрастанию доли должников и выводим первые 20 строк"
   ]
  },
  {
   "attachments": {},
   "cell_type": "markdown",
   "id": "03f3f518",
   "metadata": {},
   "source": [
    "**Первая в списке комплексная группа, имеющая репрезентативное количество участников (4220 чел) и наименьшую долю должников (0,0656) соответствует следующим значениям: `children = 0`, `purpose_category_id = 1`, `family_status_id = 0`, что подтверждаем нашу итоговую гипотезу - клиент без детей, имеющий цель кредита - операции с недвижимостью и семейный статус женат\\замужем - самый надежный заемщик.**"
   ]
  },
  {
   "attachments": {},
   "cell_type": "markdown",
   "id": "c13aaedc",
   "metadata": {
    "id": "bad65432"
   },
   "source": [
    "**Исходя из каждого пункта мы выявили самые благонадежные группы клиентов. Проверим теперь комплексной фильтрацией датафрейма и используя сводные таблицы методом `pivot_table`, так ли это. Проверим долю должников для комбинации: клиенты с категорией высокого дохода, без детей, которые берут кредит под операции с недвижимостью и которые (1) являются вдовой\\вдовцом, \n",
    "(2) находятся в разводе и (3) женаты\\замужем.**\n",
    "\n",
    "**Также еще раз выведем общую долю должников во всем датасете как референтное значение.**"
   ]
  },
  {
   "cell_type": "code",
   "execution_count": 86,
   "id": "26a2e5fc",
   "metadata": {},
   "outputs": [
    {
     "name": "stdout",
     "output_type": "stream",
     "text": [
      "  total_income_category      min        max\n",
      "0                     A  1000001        inf\n",
      "1                     B   200001  1000000.0\n",
      "2                     C    50001   200000.0\n",
      "3                     D    30001    50000.0\n",
      "4                     E        0    30000.0\n",
      "\n",
      "\n",
      "purpose_category_id\n",
      "0      [операции с автомобилем]\n",
      "1    [операции с недвижимостью]\n",
      "2          [проведение свадьбы]\n",
      "3       [получение образования]\n",
      "Name: purpose_category, dtype: object\n",
      "\n",
      "\n",
      "family_status_id\n",
      "0          [женат / замужем]\n",
      "1         [гражданский брак]\n",
      "2           [вдовец / вдова]\n",
      "3                [в разводе]\n",
      "4    [не женат / не замужем]\n",
      "Name: family_status, dtype: object\n",
      "\n",
      "\n",
      "Общая доля должников во всем датафрейме = 0.08120584079133301\n"
     ]
    },
    {
     "data": {
      "text/html": [
       "<div>\n",
       "<style scoped>\n",
       "    .dataframe tbody tr th:only-of-type {\n",
       "        vertical-align: middle;\n",
       "    }\n",
       "\n",
       "    .dataframe tbody tr th {\n",
       "        vertical-align: top;\n",
       "    }\n",
       "\n",
       "    .dataframe thead th {\n",
       "        text-align: right;\n",
       "    }\n",
       "</style>\n",
       "<table border=\"1\" class=\"dataframe\">\n",
       "  <thead>\n",
       "    <tr style=\"text-align: right;\">\n",
       "      <th></th>\n",
       "      <th></th>\n",
       "      <th></th>\n",
       "      <th></th>\n",
       "      <th>count_debt</th>\n",
       "      <th>mean_debt</th>\n",
       "    </tr>\n",
       "    <tr>\n",
       "      <th>total_income_category</th>\n",
       "      <th>children</th>\n",
       "      <th>purpose_category_id</th>\n",
       "      <th>family_status_id</th>\n",
       "      <th></th>\n",
       "      <th></th>\n",
       "    </tr>\n",
       "  </thead>\n",
       "  <tbody>\n",
       "    <tr>\n",
       "      <th>B</th>\n",
       "      <th>1</th>\n",
       "      <th>2</th>\n",
       "      <th>1</th>\n",
       "      <td>126</td>\n",
       "      <td>0.031746</td>\n",
       "    </tr>\n",
       "    <tr>\n",
       "      <th>C</th>\n",
       "      <th>0</th>\n",
       "      <th>1</th>\n",
       "      <th>2</th>\n",
       "      <td>381</td>\n",
       "      <td>0.049869</td>\n",
       "    </tr>\n",
       "    <tr>\n",
       "      <th rowspan=\"6\" valign=\"top\">B</th>\n",
       "      <th rowspan=\"2\" valign=\"top\">0</th>\n",
       "      <th>1</th>\n",
       "      <th>1</th>\n",
       "      <td>145</td>\n",
       "      <td>0.055172</td>\n",
       "    </tr>\n",
       "    <tr>\n",
       "      <th>3</th>\n",
       "      <th>0</th>\n",
       "      <td>359</td>\n",
       "      <td>0.055710</td>\n",
       "    </tr>\n",
       "    <tr>\n",
       "      <th>2</th>\n",
       "      <th>1</th>\n",
       "      <th>0</th>\n",
       "      <td>223</td>\n",
       "      <td>0.058296</td>\n",
       "    </tr>\n",
       "    <tr>\n",
       "      <th rowspan=\"3\" valign=\"top\">0</th>\n",
       "      <th>1</th>\n",
       "      <th>0</th>\n",
       "      <td>993</td>\n",
       "      <td>0.061430</td>\n",
       "    </tr>\n",
       "    <tr>\n",
       "      <th>2</th>\n",
       "      <th>1</th>\n",
       "      <td>349</td>\n",
       "      <td>0.063037</td>\n",
       "    </tr>\n",
       "    <tr>\n",
       "      <th>1</th>\n",
       "      <th>3</th>\n",
       "      <td>110</td>\n",
       "      <td>0.063636</td>\n",
       "    </tr>\n",
       "    <tr>\n",
       "      <th rowspan=\"5\" valign=\"top\">C</th>\n",
       "      <th>2</th>\n",
       "      <th>2</th>\n",
       "      <th>1</th>\n",
       "      <td>155</td>\n",
       "      <td>0.064516</td>\n",
       "    </tr>\n",
       "    <tr>\n",
       "      <th rowspan=\"4\" valign=\"top\">0</th>\n",
       "      <th>1</th>\n",
       "      <th>0</th>\n",
       "      <td>3132</td>\n",
       "      <td>0.067369</td>\n",
       "    </tr>\n",
       "    <tr>\n",
       "      <th>3</th>\n",
       "      <th>2</th>\n",
       "      <td>147</td>\n",
       "      <td>0.068027</td>\n",
       "    </tr>\n",
       "    <tr>\n",
       "      <th>0</th>\n",
       "      <th>0</th>\n",
       "      <td>1227</td>\n",
       "      <td>0.070090</td>\n",
       "    </tr>\n",
       "    <tr>\n",
       "      <th>1</th>\n",
       "      <th>3</th>\n",
       "      <td>311</td>\n",
       "      <td>0.070740</td>\n",
       "    </tr>\n",
       "    <tr>\n",
       "      <th>B</th>\n",
       "      <th>1</th>\n",
       "      <th>0</th>\n",
       "      <th>0</th>\n",
       "      <td>182</td>\n",
       "      <td>0.071429</td>\n",
       "    </tr>\n",
       "    <tr>\n",
       "      <th>C</th>\n",
       "      <th>0</th>\n",
       "      <th>3</th>\n",
       "      <th>3</th>\n",
       "      <td>126</td>\n",
       "      <td>0.071429</td>\n",
       "    </tr>\n",
       "    <tr>\n",
       "      <th>B</th>\n",
       "      <th>1</th>\n",
       "      <th>1</th>\n",
       "      <th>0</th>\n",
       "      <td>417</td>\n",
       "      <td>0.071942</td>\n",
       "    </tr>\n",
       "    <tr>\n",
       "      <th rowspan=\"3\" valign=\"top\">C</th>\n",
       "      <th rowspan=\"2\" valign=\"top\">1</th>\n",
       "      <th rowspan=\"2\" valign=\"top\">1</th>\n",
       "      <th>3</th>\n",
       "      <td>139</td>\n",
       "      <td>0.071942</td>\n",
       "    </tr>\n",
       "    <tr>\n",
       "      <th>0</th>\n",
       "      <td>1254</td>\n",
       "      <td>0.072568</td>\n",
       "    </tr>\n",
       "    <tr>\n",
       "      <th>0</th>\n",
       "      <th>1</th>\n",
       "      <th>4</th>\n",
       "      <td>950</td>\n",
       "      <td>0.074737</td>\n",
       "    </tr>\n",
       "    <tr>\n",
       "      <th>B</th>\n",
       "      <th>1</th>\n",
       "      <th>3</th>\n",
       "      <th>0</th>\n",
       "      <td>131</td>\n",
       "      <td>0.076336</td>\n",
       "    </tr>\n",
       "  </tbody>\n",
       "</table>\n",
       "</div>"
      ],
      "text/plain": [
       "                                                                     count_debt  \\\n",
       "total_income_category children purpose_category_id family_status_id               \n",
       "B                     1        2                   1                        126   \n",
       "C                     0        1                   2                        381   \n",
       "B                     0        1                   1                        145   \n",
       "                               3                   0                        359   \n",
       "                      2        1                   0                        223   \n",
       "                      0        1                   0                        993   \n",
       "                               2                   1                        349   \n",
       "                               1                   3                        110   \n",
       "C                     2        2                   1                        155   \n",
       "                      0        1                   0                       3132   \n",
       "                               3                   2                        147   \n",
       "                               0                   0                       1227   \n",
       "                               1                   3                        311   \n",
       "B                     1        0                   0                        182   \n",
       "C                     0        3                   3                        126   \n",
       "B                     1        1                   0                        417   \n",
       "C                     1        1                   3                        139   \n",
       "                                                   0                       1254   \n",
       "                      0        1                   4                        950   \n",
       "B                     1        3                   0                        131   \n",
       "\n",
       "                                                                     mean_debt  \n",
       "total_income_category children purpose_category_id family_status_id             \n",
       "B                     1        2                   1                  0.031746  \n",
       "C                     0        1                   2                  0.049869  \n",
       "B                     0        1                   1                  0.055172  \n",
       "                               3                   0                  0.055710  \n",
       "                      2        1                   0                  0.058296  \n",
       "                      0        1                   0                  0.061430  \n",
       "                               2                   1                  0.063037  \n",
       "                               1                   3                  0.063636  \n",
       "C                     2        2                   1                  0.064516  \n",
       "                      0        1                   0                  0.067369  \n",
       "                               3                   2                  0.068027  \n",
       "                               0                   0                  0.070090  \n",
       "                               1                   3                  0.070740  \n",
       "B                     1        0                   0                  0.071429  \n",
       "C                     0        3                   3                  0.071429  \n",
       "B                     1        1                   0                  0.071942  \n",
       "C                     1        1                   3                  0.071942  \n",
       "                                                   0                  0.072568  \n",
       "                      0        1                   4                  0.074737  \n",
       "B                     1        3                   0                  0.076336  "
      ]
     },
     "execution_count": 86,
     "metadata": {},
     "output_type": "execute_result"
    }
   ],
   "source": [
    "print(total_income_dict) # выводим словарь категории дохода\n",
    "print('\\n') # отделяем пустой строкой\n",
    "print(purpose_dict) # выводим словарь целей кредита\n",
    "print('\\n') # отделяем пустой строкой\n",
    "print(family_status_dict) # выводим словарь статусов семейного положения\n",
    "print('\\n') # отделяем пустой строкой\n",
    "print('Общая доля должников во всем датафрейме =',df['debt'].mean()) # выводим общую долю должников во всем датафрейме\n",
    "t1 = pd.pivot_table(df,\n",
    "               index=['total_income_category', 'children', 'purpose_category_id', 'family_status_id'],\n",
    "               values='debt',\n",
    "               aggfunc=['count','mean']) # создаем сводную таблицу \n",
    "\n",
    "t1.columns = [''.join(col).strip() for col in t.columns.values] # код взят со stackoverflow.com, получаем одноур-ю таблицу \n",
    "t1[t1['count_debt'] > 100].sort_values(by='mean_debt').head(20)  \n",
    "# отберем пересекающиеся выборки, где более 100 участников, сортируем по возрастанию доли должников и выводим первые 20 строк"
   ]
  },
  {
   "attachments": {},
   "cell_type": "markdown",
   "id": "d7776131",
   "metadata": {},
   "source": [
    "**Первые две в списке комплексных группы, имеющих репрезентативное количество участников (993 и 3132 чел) и наименьшую долю должников (0.0614 и 0.674) соответствует следующим значениям: `total_income_category = B или C` `children = 0`, `purpose_category_id = 1`, `family_status_id = 0`, что подтверждаем нашу итоговую гипотезу - клиент приоритетнее с доходом более 200 тыс. руб или хотя бы более 50 тыс. руб, без детей, имеющий цель кредита - операции с недвижимостью и семейный статус женат\\замужем - самый надежный заемщик.**"
   ]
  },
  {
   "attachments": {},
   "cell_type": "markdown",
   "id": "50b14d08",
   "metadata": {},
   "source": [
    "**Проверим теперь, какой клиент для банка является самым рисковым с точки зрения возврата кредита в срок. Для этого оценим \"хвост\" нашей фильтрованной сводной таблицы.**"
   ]
  },
  {
   "cell_type": "code",
   "execution_count": 87,
   "id": "e9bb6348",
   "metadata": {},
   "outputs": [
    {
     "name": "stdout",
     "output_type": "stream",
     "text": [
      "  total_income_category      min        max\n",
      "0                     A  1000001        inf\n",
      "1                     B   200001  1000000.0\n",
      "2                     C    50001   200000.0\n",
      "3                     D    30001    50000.0\n",
      "4                     E        0    30000.0\n",
      "\n",
      "\n",
      "purpose_category_id\n",
      "0      [операции с автомобилем]\n",
      "1    [операции с недвижимостью]\n",
      "2          [проведение свадьбы]\n",
      "3       [получение образования]\n",
      "Name: purpose_category, dtype: object\n",
      "\n",
      "\n",
      "family_status_id\n",
      "0          [женат / замужем]\n",
      "1         [гражданский брак]\n",
      "2           [вдовец / вдова]\n",
      "3                [в разводе]\n",
      "4    [не женат / не замужем]\n",
      "Name: family_status, dtype: object\n",
      "\n",
      "\n",
      "Общая доля должников во всем датафрейме = 0.08120584079133301\n"
     ]
    },
    {
     "data": {
      "text/html": [
       "<div>\n",
       "<style scoped>\n",
       "    .dataframe tbody tr th:only-of-type {\n",
       "        vertical-align: middle;\n",
       "    }\n",
       "\n",
       "    .dataframe tbody tr th {\n",
       "        vertical-align: top;\n",
       "    }\n",
       "\n",
       "    .dataframe thead th {\n",
       "        text-align: right;\n",
       "    }\n",
       "</style>\n",
       "<table border=\"1\" class=\"dataframe\">\n",
       "  <thead>\n",
       "    <tr style=\"text-align: right;\">\n",
       "      <th></th>\n",
       "      <th></th>\n",
       "      <th></th>\n",
       "      <th></th>\n",
       "      <th>count_debt</th>\n",
       "      <th>mean_debt</th>\n",
       "    </tr>\n",
       "    <tr>\n",
       "      <th>total_income_category</th>\n",
       "      <th>children</th>\n",
       "      <th>purpose_category_id</th>\n",
       "      <th>family_status_id</th>\n",
       "      <th></th>\n",
       "      <th></th>\n",
       "    </tr>\n",
       "  </thead>\n",
       "  <tbody>\n",
       "    <tr>\n",
       "      <th rowspan=\"3\" valign=\"top\">C</th>\n",
       "      <th>0</th>\n",
       "      <th>3</th>\n",
       "      <th>1</th>\n",
       "      <td>195</td>\n",
       "      <td>0.148718</td>\n",
       "    </tr>\n",
       "    <tr>\n",
       "      <th>1</th>\n",
       "      <th>1</th>\n",
       "      <th>1</th>\n",
       "      <td>190</td>\n",
       "      <td>0.136842</td>\n",
       "    </tr>\n",
       "    <tr>\n",
       "      <th>0</th>\n",
       "      <th>0</th>\n",
       "      <th>4</th>\n",
       "      <td>396</td>\n",
       "      <td>0.123737</td>\n",
       "    </tr>\n",
       "    <tr>\n",
       "      <th>B</th>\n",
       "      <th>0</th>\n",
       "      <th>0</th>\n",
       "      <th>4</th>\n",
       "      <td>118</td>\n",
       "      <td>0.118644</td>\n",
       "    </tr>\n",
       "    <tr>\n",
       "      <th rowspan=\"6\" valign=\"top\">C</th>\n",
       "      <th>1</th>\n",
       "      <th>2</th>\n",
       "      <th>1</th>\n",
       "      <td>395</td>\n",
       "      <td>0.116456</td>\n",
       "    </tr>\n",
       "    <tr>\n",
       "      <th>0</th>\n",
       "      <th>3</th>\n",
       "      <th>4</th>\n",
       "      <td>335</td>\n",
       "      <td>0.113433</td>\n",
       "    </tr>\n",
       "    <tr>\n",
       "      <th>2</th>\n",
       "      <th>3</th>\n",
       "      <th>0</th>\n",
       "      <td>253</td>\n",
       "      <td>0.110672</td>\n",
       "    </tr>\n",
       "    <tr>\n",
       "      <th>0</th>\n",
       "      <th>0</th>\n",
       "      <th>1</th>\n",
       "      <td>208</td>\n",
       "      <td>0.110577</td>\n",
       "    </tr>\n",
       "    <tr>\n",
       "      <th>2</th>\n",
       "      <th>0</th>\n",
       "      <th>0</th>\n",
       "      <td>233</td>\n",
       "      <td>0.107296</td>\n",
       "    </tr>\n",
       "    <tr>\n",
       "      <th>1</th>\n",
       "      <th>1</th>\n",
       "      <th>4</th>\n",
       "      <td>188</td>\n",
       "      <td>0.106383</td>\n",
       "    </tr>\n",
       "    <tr>\n",
       "      <th>B</th>\n",
       "      <th>0</th>\n",
       "      <th>3</th>\n",
       "      <th>4</th>\n",
       "      <td>113</td>\n",
       "      <td>0.106195</td>\n",
       "    </tr>\n",
       "    <tr>\n",
       "      <th rowspan=\"9\" valign=\"top\">C</th>\n",
       "      <th rowspan=\"2\" valign=\"top\">1</th>\n",
       "      <th>3</th>\n",
       "      <th>0</th>\n",
       "      <td>450</td>\n",
       "      <td>0.104444</td>\n",
       "    </tr>\n",
       "    <tr>\n",
       "      <th>0</th>\n",
       "      <th>0</th>\n",
       "      <td>482</td>\n",
       "      <td>0.101660</td>\n",
       "    </tr>\n",
       "    <tr>\n",
       "      <th>0</th>\n",
       "      <th>0</th>\n",
       "      <th>2</th>\n",
       "      <td>165</td>\n",
       "      <td>0.096970</td>\n",
       "    </tr>\n",
       "    <tr>\n",
       "      <th>3</th>\n",
       "      <th>1</th>\n",
       "      <th>0</th>\n",
       "      <td>117</td>\n",
       "      <td>0.094017</td>\n",
       "    </tr>\n",
       "    <tr>\n",
       "      <th>2</th>\n",
       "      <th>1</th>\n",
       "      <th>0</th>\n",
       "      <td>629</td>\n",
       "      <td>0.092210</td>\n",
       "    </tr>\n",
       "    <tr>\n",
       "      <th rowspan=\"4\" valign=\"top\">0</th>\n",
       "      <th>1</th>\n",
       "      <th>1</th>\n",
       "      <td>491</td>\n",
       "      <td>0.085540</td>\n",
       "    </tr>\n",
       "    <tr>\n",
       "      <th>0</th>\n",
       "      <th>3</th>\n",
       "      <td>141</td>\n",
       "      <td>0.085106</td>\n",
       "    </tr>\n",
       "    <tr>\n",
       "      <th>3</th>\n",
       "      <th>0</th>\n",
       "      <td>1176</td>\n",
       "      <td>0.082483</td>\n",
       "    </tr>\n",
       "    <tr>\n",
       "      <th>2</th>\n",
       "      <th>1</th>\n",
       "      <td>1143</td>\n",
       "      <td>0.078740</td>\n",
       "    </tr>\n",
       "  </tbody>\n",
       "</table>\n",
       "</div>"
      ],
      "text/plain": [
       "                                                                     count_debt  \\\n",
       "total_income_category children purpose_category_id family_status_id               \n",
       "C                     0        3                   1                        195   \n",
       "                      1        1                   1                        190   \n",
       "                      0        0                   4                        396   \n",
       "B                     0        0                   4                        118   \n",
       "C                     1        2                   1                        395   \n",
       "                      0        3                   4                        335   \n",
       "                      2        3                   0                        253   \n",
       "                      0        0                   1                        208   \n",
       "                      2        0                   0                        233   \n",
       "                      1        1                   4                        188   \n",
       "B                     0        3                   4                        113   \n",
       "C                     1        3                   0                        450   \n",
       "                               0                   0                        482   \n",
       "                      0        0                   2                        165   \n",
       "                      3        1                   0                        117   \n",
       "                      2        1                   0                        629   \n",
       "                      0        1                   1                        491   \n",
       "                               0                   3                        141   \n",
       "                               3                   0                       1176   \n",
       "                               2                   1                       1143   \n",
       "\n",
       "                                                                     mean_debt  \n",
       "total_income_category children purpose_category_id family_status_id             \n",
       "C                     0        3                   1                  0.148718  \n",
       "                      1        1                   1                  0.136842  \n",
       "                      0        0                   4                  0.123737  \n",
       "B                     0        0                   4                  0.118644  \n",
       "C                     1        2                   1                  0.116456  \n",
       "                      0        3                   4                  0.113433  \n",
       "                      2        3                   0                  0.110672  \n",
       "                      0        0                   1                  0.110577  \n",
       "                      2        0                   0                  0.107296  \n",
       "                      1        1                   4                  0.106383  \n",
       "B                     0        3                   4                  0.106195  \n",
       "C                     1        3                   0                  0.104444  \n",
       "                               0                   0                  0.101660  \n",
       "                      0        0                   2                  0.096970  \n",
       "                      3        1                   0                  0.094017  \n",
       "                      2        1                   0                  0.092210  \n",
       "                      0        1                   1                  0.085540  \n",
       "                               0                   3                  0.085106  \n",
       "                               3                   0                  0.082483  \n",
       "                               2                   1                  0.078740  "
      ]
     },
     "execution_count": 87,
     "metadata": {},
     "output_type": "execute_result"
    }
   ],
   "source": [
    "print(total_income_dict) # выводим словарь категории дохода\n",
    "print('\\n') # отделяем пустой строкой\n",
    "print(purpose_dict) # выводим словарь целей кредита\n",
    "print('\\n') # отделяем пустой строкой\n",
    "print(family_status_dict) # выводим словарь статусов семейного положения\n",
    "print('\\n') # отделяем пустой строкой\n",
    "print('Общая доля должников во всем датафрейме =',df['debt'].mean()) # выводим общую долю должников во всем датафрейме\n",
    "t1[t1['count_debt'] > 100].sort_values(by='mean_debt', ascending=False).head(20) \n",
    "# отберем пересекающиеся выборки, где более 100 участников, сортируем по убыванию доли должников и выводим первые 20 строк"
   ]
  },
  {
   "attachments": {},
   "cell_type": "markdown",
   "id": "de61fe83",
   "metadata": {},
   "source": [
    "**Видим, что большая часть должников сосредоточена в категории `'C'`, поэтому сделаем новую группировку датафрейма и по нему создадим новую сводную таблицу, уже более \"читаемую\".**"
   ]
  },
  {
   "cell_type": "code",
   "execution_count": 88,
   "id": "bd3b3286",
   "metadata": {},
   "outputs": [
    {
     "data": {
      "text/html": [
       "<div>\n",
       "<style scoped>\n",
       "    .dataframe tbody tr th:only-of-type {\n",
       "        vertical-align: middle;\n",
       "    }\n",
       "\n",
       "    .dataframe tbody tr th {\n",
       "        vertical-align: top;\n",
       "    }\n",
       "\n",
       "    .dataframe thead th {\n",
       "        text-align: right;\n",
       "    }\n",
       "</style>\n",
       "<table border=\"1\" class=\"dataframe\">\n",
       "  <thead>\n",
       "    <tr style=\"text-align: right;\">\n",
       "      <th></th>\n",
       "      <th>total_income_category</th>\n",
       "      <th>min</th>\n",
       "      <th>max</th>\n",
       "    </tr>\n",
       "  </thead>\n",
       "  <tbody>\n",
       "    <tr>\n",
       "      <th>0</th>\n",
       "      <td>A</td>\n",
       "      <td>1000001</td>\n",
       "      <td>inf</td>\n",
       "    </tr>\n",
       "    <tr>\n",
       "      <th>1</th>\n",
       "      <td>B</td>\n",
       "      <td>200001</td>\n",
       "      <td>1000000.0</td>\n",
       "    </tr>\n",
       "    <tr>\n",
       "      <th>2</th>\n",
       "      <td>C</td>\n",
       "      <td>50001</td>\n",
       "      <td>200000.0</td>\n",
       "    </tr>\n",
       "    <tr>\n",
       "      <th>3</th>\n",
       "      <td>D</td>\n",
       "      <td>30001</td>\n",
       "      <td>50000.0</td>\n",
       "    </tr>\n",
       "    <tr>\n",
       "      <th>4</th>\n",
       "      <td>E</td>\n",
       "      <td>0</td>\n",
       "      <td>30000.0</td>\n",
       "    </tr>\n",
       "  </tbody>\n",
       "</table>\n",
       "</div>"
      ],
      "text/plain": [
       "  total_income_category      min        max\n",
       "0                     A  1000001        inf\n",
       "1                     B   200001  1000000.0\n",
       "2                     C    50001   200000.0\n",
       "3                     D    30001    50000.0\n",
       "4                     E        0    30000.0"
      ]
     },
     "metadata": {},
     "output_type": "display_data"
    },
    {
     "data": {
      "text/plain": [
       "purpose_category_id\n",
       "0      [операции с автомобилем]\n",
       "1    [операции с недвижимостью]\n",
       "2          [проведение свадьбы]\n",
       "3       [получение образования]\n",
       "Name: purpose_category, dtype: object"
      ]
     },
     "metadata": {},
     "output_type": "display_data"
    },
    {
     "data": {
      "text/plain": [
       "family_status_id\n",
       "0          [женат / замужем]\n",
       "1         [гражданский брак]\n",
       "2           [вдовец / вдова]\n",
       "3                [в разводе]\n",
       "4    [не женат / не замужем]\n",
       "Name: family_status, dtype: object"
      ]
     },
     "metadata": {},
     "output_type": "display_data"
    },
    {
     "data": {
      "text/plain": [
       "'Общая доля должников во всем датафрейме:'"
      ]
     },
     "metadata": {},
     "output_type": "display_data"
    },
    {
     "data": {
      "text/plain": [
       "0.08120584079133301"
      ]
     },
     "metadata": {},
     "output_type": "display_data"
    },
    {
     "data": {
      "text/html": [
       "<div>\n",
       "<style scoped>\n",
       "    .dataframe tbody tr th:only-of-type {\n",
       "        vertical-align: middle;\n",
       "    }\n",
       "\n",
       "    .dataframe tbody tr th {\n",
       "        vertical-align: top;\n",
       "    }\n",
       "\n",
       "    .dataframe thead th {\n",
       "        text-align: right;\n",
       "    }\n",
       "</style>\n",
       "<table border=\"1\" class=\"dataframe\">\n",
       "  <thead>\n",
       "    <tr style=\"text-align: right;\">\n",
       "      <th></th>\n",
       "      <th></th>\n",
       "      <th></th>\n",
       "      <th></th>\n",
       "      <th>count_debt</th>\n",
       "      <th>mean_debt</th>\n",
       "    </tr>\n",
       "    <tr>\n",
       "      <th>total_income_category</th>\n",
       "      <th>children</th>\n",
       "      <th>purpose_category_id</th>\n",
       "      <th>family_status_id</th>\n",
       "      <th></th>\n",
       "      <th></th>\n",
       "    </tr>\n",
       "  </thead>\n",
       "  <tbody>\n",
       "    <tr>\n",
       "      <th rowspan=\"20\" valign=\"top\">C</th>\n",
       "      <th>0</th>\n",
       "      <th>3</th>\n",
       "      <th>1</th>\n",
       "      <td>195</td>\n",
       "      <td>0.148718</td>\n",
       "    </tr>\n",
       "    <tr>\n",
       "      <th>1</th>\n",
       "      <th>1</th>\n",
       "      <th>1</th>\n",
       "      <td>190</td>\n",
       "      <td>0.136842</td>\n",
       "    </tr>\n",
       "    <tr>\n",
       "      <th>0</th>\n",
       "      <th>0</th>\n",
       "      <th>4</th>\n",
       "      <td>396</td>\n",
       "      <td>0.123737</td>\n",
       "    </tr>\n",
       "    <tr>\n",
       "      <th>1</th>\n",
       "      <th>2</th>\n",
       "      <th>1</th>\n",
       "      <td>395</td>\n",
       "      <td>0.116456</td>\n",
       "    </tr>\n",
       "    <tr>\n",
       "      <th>0</th>\n",
       "      <th>3</th>\n",
       "      <th>4</th>\n",
       "      <td>335</td>\n",
       "      <td>0.113433</td>\n",
       "    </tr>\n",
       "    <tr>\n",
       "      <th>2</th>\n",
       "      <th>3</th>\n",
       "      <th>0</th>\n",
       "      <td>253</td>\n",
       "      <td>0.110672</td>\n",
       "    </tr>\n",
       "    <tr>\n",
       "      <th>0</th>\n",
       "      <th>0</th>\n",
       "      <th>1</th>\n",
       "      <td>208</td>\n",
       "      <td>0.110577</td>\n",
       "    </tr>\n",
       "    <tr>\n",
       "      <th>2</th>\n",
       "      <th>0</th>\n",
       "      <th>0</th>\n",
       "      <td>233</td>\n",
       "      <td>0.107296</td>\n",
       "    </tr>\n",
       "    <tr>\n",
       "      <th rowspan=\"3\" valign=\"top\">1</th>\n",
       "      <th>1</th>\n",
       "      <th>4</th>\n",
       "      <td>188</td>\n",
       "      <td>0.106383</td>\n",
       "    </tr>\n",
       "    <tr>\n",
       "      <th>3</th>\n",
       "      <th>0</th>\n",
       "      <td>450</td>\n",
       "      <td>0.104444</td>\n",
       "    </tr>\n",
       "    <tr>\n",
       "      <th>0</th>\n",
       "      <th>0</th>\n",
       "      <td>482</td>\n",
       "      <td>0.101660</td>\n",
       "    </tr>\n",
       "    <tr>\n",
       "      <th>0</th>\n",
       "      <th>0</th>\n",
       "      <th>2</th>\n",
       "      <td>165</td>\n",
       "      <td>0.096970</td>\n",
       "    </tr>\n",
       "    <tr>\n",
       "      <th>3</th>\n",
       "      <th>1</th>\n",
       "      <th>0</th>\n",
       "      <td>117</td>\n",
       "      <td>0.094017</td>\n",
       "    </tr>\n",
       "    <tr>\n",
       "      <th>2</th>\n",
       "      <th>1</th>\n",
       "      <th>0</th>\n",
       "      <td>629</td>\n",
       "      <td>0.092210</td>\n",
       "    </tr>\n",
       "    <tr>\n",
       "      <th rowspan=\"5\" valign=\"top\">0</th>\n",
       "      <th>1</th>\n",
       "      <th>1</th>\n",
       "      <td>491</td>\n",
       "      <td>0.085540</td>\n",
       "    </tr>\n",
       "    <tr>\n",
       "      <th>0</th>\n",
       "      <th>3</th>\n",
       "      <td>141</td>\n",
       "      <td>0.085106</td>\n",
       "    </tr>\n",
       "    <tr>\n",
       "      <th>3</th>\n",
       "      <th>0</th>\n",
       "      <td>1176</td>\n",
       "      <td>0.082483</td>\n",
       "    </tr>\n",
       "    <tr>\n",
       "      <th>2</th>\n",
       "      <th>1</th>\n",
       "      <td>1143</td>\n",
       "      <td>0.078740</td>\n",
       "    </tr>\n",
       "    <tr>\n",
       "      <th>1</th>\n",
       "      <th>4</th>\n",
       "      <td>950</td>\n",
       "      <td>0.074737</td>\n",
       "    </tr>\n",
       "    <tr>\n",
       "      <th>1</th>\n",
       "      <th>1</th>\n",
       "      <th>0</th>\n",
       "      <td>1254</td>\n",
       "      <td>0.072568</td>\n",
       "    </tr>\n",
       "  </tbody>\n",
       "</table>\n",
       "</div>"
      ],
      "text/plain": [
       "                                                                     count_debt  \\\n",
       "total_income_category children purpose_category_id family_status_id               \n",
       "C                     0        3                   1                        195   \n",
       "                      1        1                   1                        190   \n",
       "                      0        0                   4                        396   \n",
       "                      1        2                   1                        395   \n",
       "                      0        3                   4                        335   \n",
       "                      2        3                   0                        253   \n",
       "                      0        0                   1                        208   \n",
       "                      2        0                   0                        233   \n",
       "                      1        1                   4                        188   \n",
       "                               3                   0                        450   \n",
       "                               0                   0                        482   \n",
       "                      0        0                   2                        165   \n",
       "                      3        1                   0                        117   \n",
       "                      2        1                   0                        629   \n",
       "                      0        1                   1                        491   \n",
       "                               0                   3                        141   \n",
       "                               3                   0                       1176   \n",
       "                               2                   1                       1143   \n",
       "                               1                   4                        950   \n",
       "                      1        1                   0                       1254   \n",
       "\n",
       "                                                                     mean_debt  \n",
       "total_income_category children purpose_category_id family_status_id             \n",
       "C                     0        3                   1                  0.148718  \n",
       "                      1        1                   1                  0.136842  \n",
       "                      0        0                   4                  0.123737  \n",
       "                      1        2                   1                  0.116456  \n",
       "                      0        3                   4                  0.113433  \n",
       "                      2        3                   0                  0.110672  \n",
       "                      0        0                   1                  0.110577  \n",
       "                      2        0                   0                  0.107296  \n",
       "                      1        1                   4                  0.106383  \n",
       "                               3                   0                  0.104444  \n",
       "                               0                   0                  0.101660  \n",
       "                      0        0                   2                  0.096970  \n",
       "                      3        1                   0                  0.094017  \n",
       "                      2        1                   0                  0.092210  \n",
       "                      0        1                   1                  0.085540  \n",
       "                               0                   3                  0.085106  \n",
       "                               3                   0                  0.082483  \n",
       "                               2                   1                  0.078740  \n",
       "                               1                   4                  0.074737  \n",
       "                      1        1                   0                  0.072568  "
      ]
     },
     "execution_count": 88,
     "metadata": {},
     "output_type": "execute_result"
    }
   ],
   "source": [
    "display(total_income_dict) # выводим словарь категории дохода\n",
    "#display()# отделяем пустой строкой\n",
    "display(purpose_dict) # выводим словарь целей кредита\n",
    "#display() # отделяем пустой строкой\n",
    "display(family_status_dict) # выводим словарь статусов семейного положения\n",
    "#display() # отделяем пустой строкой\n",
    "display('Общая доля должников во всем датафрейме:',df['debt'].mean()) # выводим общую долю должников во всем датафрейме\n",
    "t1 = t1.query('total_income_category == \"C\"') # фильтруем датафрейм по категории \"C\"\n",
    "t1[t1['count_debt'] > 100].sort_values(by='mean_debt', ascending=False).head(20) \n",
    "# отберем пересекающиеся выборки, где более 100 участников, сортируем по убыванию доли должников и выводим первые 20 строк"
   ]
  },
  {
   "attachments": {},
   "cell_type": "markdown",
   "id": "d3a8706f",
   "metadata": {},
   "source": [
    "**Текущая версия сводной таблицы показывает, что все комплексные группы теперь не такие многочисленные. Поэтому возьмем первую в списке группу с количеством человек около 400 и имеющуюу наибольшую долю должников (0.0124). Данная группа соответствует следующим значениям: `total_income_category = C` `children = 0`, `purpose_category_id = 0`, `family_status_id = 4`, что соответствует следующим данным - клиент с небольшим доходом до 200 тыс. руб, без детей, имеющий цель кредита - операции с автомобилем и семейный статус не женат\\ не замужем - т.е. это портрет самого ненадежного заемщика для банка.**"
   ]
  }
 ],
 "metadata": {
  "ExecuteTimeLog": [
   {
    "duration": 45,
    "start_time": "2022-10-25T23:08:40.912Z"
   },
   {
    "duration": 450,
    "start_time": "2022-10-25T23:09:05.884Z"
   },
   {
    "duration": 22,
    "start_time": "2022-10-25T23:09:08.129Z"
   },
   {
    "duration": 20,
    "start_time": "2022-10-25T23:09:11.035Z"
   },
   {
    "duration": 10,
    "start_time": "2022-10-25T23:09:13.252Z"
   },
   {
    "duration": 41,
    "start_time": "2022-10-25T23:09:15.184Z"
   },
   {
    "duration": 3,
    "start_time": "2022-10-25T23:09:17.700Z"
   },
   {
    "duration": 7,
    "start_time": "2022-10-25T23:09:18.586Z"
   },
   {
    "duration": 4,
    "start_time": "2022-10-25T23:09:20.742Z"
   },
   {
    "duration": 7,
    "start_time": "2022-10-25T23:09:22.727Z"
   },
   {
    "duration": 4,
    "start_time": "2022-10-25T23:09:24.461Z"
   },
   {
    "duration": 34,
    "start_time": "2022-10-25T23:09:26.133Z"
   },
   {
    "duration": 10,
    "start_time": "2022-10-25T23:09:27.683Z"
   },
   {
    "duration": 4,
    "start_time": "2022-10-25T23:09:29.479Z"
   },
   {
    "duration": 13,
    "start_time": "2022-10-25T23:09:31.572Z"
   },
   {
    "duration": 22,
    "start_time": "2022-10-25T23:09:33.613Z"
   },
   {
    "duration": 17,
    "start_time": "2022-10-25T23:09:35.097Z"
   },
   {
    "duration": 4,
    "start_time": "2022-10-25T23:09:36.694Z"
   },
   {
    "duration": 10,
    "start_time": "2022-10-25T23:09:38.540Z"
   },
   {
    "duration": 6,
    "start_time": "2022-10-25T23:09:39.975Z"
   },
   {
    "duration": 3,
    "start_time": "2022-10-25T23:09:42.761Z"
   },
   {
    "duration": 9,
    "start_time": "2022-10-25T23:09:44.510Z"
   },
   {
    "duration": 22,
    "start_time": "2022-10-25T23:09:49.522Z"
   },
   {
    "duration": 15,
    "start_time": "2022-10-25T23:10:17.150Z"
   },
   {
    "duration": 11,
    "start_time": "2022-10-25T23:10:28.186Z"
   },
   {
    "duration": 29,
    "start_time": "2022-10-25T23:10:46.201Z"
   },
   {
    "duration": 5,
    "start_time": "2022-10-25T23:10:48.936Z"
   },
   {
    "duration": 49,
    "start_time": "2022-10-26T10:29:32.737Z"
   },
   {
    "duration": 499,
    "start_time": "2022-10-26T10:29:41.682Z"
   },
   {
    "duration": 23,
    "start_time": "2022-10-26T10:29:45.399Z"
   },
   {
    "duration": 18,
    "start_time": "2022-10-26T10:29:48.230Z"
   },
   {
    "duration": 11,
    "start_time": "2022-10-26T10:29:50.274Z"
   },
   {
    "duration": 15,
    "start_time": "2022-10-26T10:29:52.748Z"
   },
   {
    "duration": 30,
    "start_time": "2022-10-26T10:30:37.528Z"
   },
   {
    "duration": 41,
    "start_time": "2022-10-26T10:43:13.299Z"
   },
   {
    "duration": 13,
    "start_time": "2022-10-26T10:43:18.967Z"
   },
   {
    "duration": 15,
    "start_time": "2022-10-26T10:43:26.571Z"
   },
   {
    "duration": 73,
    "start_time": "2022-10-26T10:43:49.369Z"
   },
   {
    "duration": 16,
    "start_time": "2022-10-26T10:43:50.701Z"
   },
   {
    "duration": 15,
    "start_time": "2022-10-26T10:43:55.094Z"
   },
   {
    "duration": 13,
    "start_time": "2022-10-26T10:44:00.244Z"
   },
   {
    "duration": 38,
    "start_time": "2022-10-26T10:44:02.729Z"
   },
   {
    "duration": 4,
    "start_time": "2022-10-26T10:44:05.161Z"
   },
   {
    "duration": 9,
    "start_time": "2022-10-26T10:44:07.327Z"
   },
   {
    "duration": 4,
    "start_time": "2022-10-26T10:44:09.868Z"
   },
   {
    "duration": 24,
    "start_time": "2022-10-26T10:44:11.841Z"
   },
   {
    "duration": 5,
    "start_time": "2022-10-26T10:44:13.924Z"
   },
   {
    "duration": 38,
    "start_time": "2022-10-26T10:44:16.897Z"
   },
   {
    "duration": 11,
    "start_time": "2022-10-26T10:44:19.260Z"
   },
   {
    "duration": 4,
    "start_time": "2022-10-26T10:44:23.779Z"
   },
   {
    "duration": 11,
    "start_time": "2022-10-26T10:44:26.341Z"
   },
   {
    "duration": 21,
    "start_time": "2022-10-26T10:44:27.840Z"
   },
   {
    "duration": 18,
    "start_time": "2022-10-26T10:44:28.916Z"
   },
   {
    "duration": 4,
    "start_time": "2022-10-26T10:44:31.246Z"
   },
   {
    "duration": 10,
    "start_time": "2022-10-26T10:44:32.618Z"
   },
   {
    "duration": 7,
    "start_time": "2022-10-26T10:44:33.900Z"
   },
   {
    "duration": 4,
    "start_time": "2022-10-26T10:44:36.560Z"
   },
   {
    "duration": 13,
    "start_time": "2022-10-26T10:44:38.332Z"
   },
   {
    "duration": 18,
    "start_time": "2022-10-26T10:44:41.061Z"
   },
   {
    "duration": 17,
    "start_time": "2022-10-26T11:40:30.680Z"
   },
   {
    "duration": 19,
    "start_time": "2022-10-26T11:41:22.747Z"
   },
   {
    "duration": 3,
    "start_time": "2022-10-26T12:06:15.066Z"
   },
   {
    "duration": 4,
    "start_time": "2022-10-26T12:06:17.997Z"
   },
   {
    "duration": 17,
    "start_time": "2022-10-26T12:06:27.375Z"
   },
   {
    "duration": 3,
    "start_time": "2022-10-26T12:17:12.813Z"
   },
   {
    "duration": 22,
    "start_time": "2022-10-26T12:37:03.099Z"
   },
   {
    "duration": 4,
    "start_time": "2022-10-26T12:54:54.043Z"
   },
   {
    "duration": 8,
    "start_time": "2022-10-26T12:55:33.435Z"
   },
   {
    "duration": 3,
    "start_time": "2022-10-26T12:56:20.173Z"
   },
   {
    "duration": 3,
    "start_time": "2022-10-26T12:56:21.959Z"
   },
   {
    "duration": 3,
    "start_time": "2022-10-26T12:56:23.024Z"
   },
   {
    "duration": 4,
    "start_time": "2022-10-26T12:56:28.924Z"
   },
   {
    "duration": 3,
    "start_time": "2022-10-26T12:57:24.337Z"
   },
   {
    "duration": 5,
    "start_time": "2022-10-26T12:59:21.281Z"
   },
   {
    "duration": 7,
    "start_time": "2022-10-26T12:59:38.102Z"
   },
   {
    "duration": 9,
    "start_time": "2022-10-26T13:01:40.541Z"
   },
   {
    "duration": 7,
    "start_time": "2022-10-26T13:02:47.554Z"
   },
   {
    "duration": 9,
    "start_time": "2022-10-26T13:07:14.106Z"
   },
   {
    "duration": 5,
    "start_time": "2022-10-26T13:08:43.440Z"
   },
   {
    "duration": 21,
    "start_time": "2022-10-26T13:21:16.612Z"
   },
   {
    "duration": 17,
    "start_time": "2022-10-26T13:21:48.043Z"
   },
   {
    "duration": 17,
    "start_time": "2022-10-26T13:21:58.750Z"
   },
   {
    "duration": 22,
    "start_time": "2022-10-26T13:22:02.734Z"
   },
   {
    "duration": 18,
    "start_time": "2022-10-26T13:22:12.600Z"
   },
   {
    "duration": 7,
    "start_time": "2022-10-26T13:22:18.596Z"
   },
   {
    "duration": 18,
    "start_time": "2022-10-26T13:22:21.440Z"
   },
   {
    "duration": 3,
    "start_time": "2022-10-26T13:49:59.658Z"
   },
   {
    "duration": 3,
    "start_time": "2022-10-26T13:50:01.028Z"
   },
   {
    "duration": 8,
    "start_time": "2022-10-26T13:50:05.564Z"
   },
   {
    "duration": 7,
    "start_time": "2022-10-26T13:50:45.722Z"
   },
   {
    "duration": 5,
    "start_time": "2022-10-26T13:50:50.076Z"
   },
   {
    "duration": 7,
    "start_time": "2022-10-26T14:02:00.274Z"
   },
   {
    "duration": 11,
    "start_time": "2022-10-26T14:14:47.899Z"
   },
   {
    "duration": 5,
    "start_time": "2022-10-26T14:15:03.201Z"
   },
   {
    "duration": 6,
    "start_time": "2022-10-26T14:17:26.707Z"
   },
   {
    "duration": 12,
    "start_time": "2022-10-26T14:18:12.277Z"
   },
   {
    "duration": 9,
    "start_time": "2022-10-26T14:18:27.243Z"
   },
   {
    "duration": 19,
    "start_time": "2022-10-26T14:18:48.928Z"
   },
   {
    "duration": 13,
    "start_time": "2022-10-26T14:19:22.363Z"
   },
   {
    "duration": 18,
    "start_time": "2022-10-26T14:19:35.458Z"
   },
   {
    "duration": 7,
    "start_time": "2022-10-26T14:29:04.870Z"
   },
   {
    "duration": 21,
    "start_time": "2022-10-26T14:34:09.312Z"
   },
   {
    "duration": 14,
    "start_time": "2022-10-26T14:34:57.777Z"
   },
   {
    "duration": 11,
    "start_time": "2022-10-26T14:35:14.040Z"
   },
   {
    "duration": 8,
    "start_time": "2022-10-26T14:35:26.411Z"
   },
   {
    "duration": 64,
    "start_time": "2022-10-26T18:01:35.392Z"
   },
   {
    "duration": 63,
    "start_time": "2022-10-26T18:01:37.111Z"
   },
   {
    "duration": 14,
    "start_time": "2022-10-26T18:01:38.828Z"
   },
   {
    "duration": 14,
    "start_time": "2022-10-26T18:01:44.135Z"
   },
   {
    "duration": 11,
    "start_time": "2022-10-26T18:01:47.357Z"
   },
   {
    "duration": 31,
    "start_time": "2022-10-26T18:02:13.929Z"
   },
   {
    "duration": 4,
    "start_time": "2022-10-26T18:02:15.779Z"
   },
   {
    "duration": 10,
    "start_time": "2022-10-26T18:02:18.021Z"
   },
   {
    "duration": 4,
    "start_time": "2022-10-26T18:02:21.841Z"
   },
   {
    "duration": 6,
    "start_time": "2022-10-26T18:03:31.900Z"
   },
   {
    "duration": 4,
    "start_time": "2022-10-26T18:03:42.540Z"
   },
   {
    "duration": 6,
    "start_time": "2022-10-26T18:04:17.051Z"
   },
   {
    "duration": 4,
    "start_time": "2022-10-26T18:04:24.137Z"
   },
   {
    "duration": 4,
    "start_time": "2022-10-26T18:04:41.093Z"
   },
   {
    "duration": 8,
    "start_time": "2022-10-26T18:05:05.931Z"
   },
   {
    "duration": 5,
    "start_time": "2022-10-26T18:06:01.031Z"
   },
   {
    "duration": 5,
    "start_time": "2022-10-26T18:07:52.447Z"
   },
   {
    "duration": 5,
    "start_time": "2022-10-26T18:07:54.854Z"
   },
   {
    "duration": 32,
    "start_time": "2022-10-26T18:07:58.941Z"
   },
   {
    "duration": 65,
    "start_time": "2022-10-26T18:08:52.028Z"
   },
   {
    "duration": 15,
    "start_time": "2022-10-26T18:08:58.690Z"
   },
   {
    "duration": 12,
    "start_time": "2022-10-26T18:09:04.131Z"
   },
   {
    "duration": 9,
    "start_time": "2022-10-26T18:09:13.987Z"
   },
   {
    "duration": 17,
    "start_time": "2022-10-26T18:09:39.169Z"
   },
   {
    "duration": 10,
    "start_time": "2022-10-26T18:09:49.972Z"
   },
   {
    "duration": 70,
    "start_time": "2022-10-26T18:11:16.315Z"
   },
   {
    "duration": 16,
    "start_time": "2022-10-26T18:15:31.608Z"
   },
   {
    "duration": 64,
    "start_time": "2022-10-26T18:15:51.420Z"
   },
   {
    "duration": 63,
    "start_time": "2022-10-26T18:18:05.845Z"
   },
   {
    "duration": 18,
    "start_time": "2022-10-26T18:18:07.415Z"
   },
   {
    "duration": 18,
    "start_time": "2022-10-26T18:18:10.928Z"
   },
   {
    "duration": 11,
    "start_time": "2022-10-26T18:18:14.259Z"
   },
   {
    "duration": 73,
    "start_time": "2022-10-26T18:18:17.903Z"
   },
   {
    "duration": 10,
    "start_time": "2022-10-26T18:18:21.052Z"
   },
   {
    "duration": 9,
    "start_time": "2022-10-26T18:19:14.888Z"
   },
   {
    "duration": 65,
    "start_time": "2022-10-26T18:19:20.112Z"
   },
   {
    "duration": 15,
    "start_time": "2022-10-26T18:19:21.769Z"
   },
   {
    "duration": 13,
    "start_time": "2022-10-26T18:19:24.140Z"
   },
   {
    "duration": 10,
    "start_time": "2022-10-26T18:19:26.555Z"
   },
   {
    "duration": 31,
    "start_time": "2022-10-26T18:19:35.719Z"
   },
   {
    "duration": 5,
    "start_time": "2022-10-26T18:19:37.342Z"
   },
   {
    "duration": 7,
    "start_time": "2022-10-26T18:19:39.366Z"
   },
   {
    "duration": 4,
    "start_time": "2022-10-26T18:19:41.722Z"
   },
   {
    "duration": 5,
    "start_time": "2022-10-26T18:19:44.973Z"
   },
   {
    "duration": 6,
    "start_time": "2022-10-26T18:19:53.745Z"
   },
   {
    "duration": 4,
    "start_time": "2022-10-26T18:19:55.540Z"
   },
   {
    "duration": 31,
    "start_time": "2022-10-26T18:19:57.771Z"
   },
   {
    "duration": 10,
    "start_time": "2022-10-26T18:19:59.838Z"
   },
   {
    "duration": 3,
    "start_time": "2022-10-26T18:20:02.189Z"
   },
   {
    "duration": 10,
    "start_time": "2022-10-26T18:20:06.787Z"
   },
   {
    "duration": 18,
    "start_time": "2022-10-26T18:20:08.813Z"
   },
   {
    "duration": 17,
    "start_time": "2022-10-26T18:20:10.452Z"
   },
   {
    "duration": 3,
    "start_time": "2022-10-26T18:20:12.555Z"
   },
   {
    "duration": 9,
    "start_time": "2022-10-26T18:20:14.027Z"
   },
   {
    "duration": 6,
    "start_time": "2022-10-26T18:20:14.798Z"
   },
   {
    "duration": 3,
    "start_time": "2022-10-26T18:20:18.772Z"
   },
   {
    "duration": 8,
    "start_time": "2022-10-26T18:20:20.414Z"
   },
   {
    "duration": 5,
    "start_time": "2022-10-26T18:20:22.741Z"
   },
   {
    "duration": 14,
    "start_time": "2022-10-26T18:20:24.675Z"
   },
   {
    "duration": 73,
    "start_time": "2022-10-26T18:23:31.343Z"
   },
   {
    "duration": 10,
    "start_time": "2022-10-26T18:26:56.590Z"
   },
   {
    "duration": 6,
    "start_time": "2022-10-26T18:28:08.046Z"
   },
   {
    "duration": 5,
    "start_time": "2022-10-26T18:30:14.707Z"
   },
   {
    "duration": 4,
    "start_time": "2022-10-26T18:31:31.172Z"
   },
   {
    "duration": 6,
    "start_time": "2022-10-26T18:31:39.904Z"
   },
   {
    "duration": 89,
    "start_time": "2022-10-26T18:32:39.190Z"
   },
   {
    "duration": 6,
    "start_time": "2022-10-26T18:32:48.898Z"
   },
   {
    "duration": 6,
    "start_time": "2022-10-26T18:32:53.507Z"
   },
   {
    "duration": 7,
    "start_time": "2022-10-26T18:32:57.247Z"
   },
   {
    "duration": 5,
    "start_time": "2022-10-26T18:33:01.032Z"
   },
   {
    "duration": 5,
    "start_time": "2022-10-26T18:33:04.894Z"
   },
   {
    "duration": 6,
    "start_time": "2022-10-26T18:33:08.569Z"
   },
   {
    "duration": 86,
    "start_time": "2022-10-26T19:47:25.582Z"
   },
   {
    "duration": 70,
    "start_time": "2022-10-26T19:47:46.870Z"
   },
   {
    "duration": 5,
    "start_time": "2022-10-26T19:47:53.546Z"
   },
   {
    "duration": 84,
    "start_time": "2022-10-26T20:03:01.043Z"
   },
   {
    "duration": 4,
    "start_time": "2022-10-26T21:07:09.255Z"
   },
   {
    "duration": 13,
    "start_time": "2022-10-26T21:22:05.391Z"
   },
   {
    "duration": 14,
    "start_time": "2022-10-26T21:22:19.886Z"
   },
   {
    "duration": 17,
    "start_time": "2022-10-26T21:23:17.939Z"
   },
   {
    "duration": 1330,
    "start_time": "2022-10-26T21:25:42.183Z"
   },
   {
    "duration": 6,
    "start_time": "2022-10-26T21:26:18.268Z"
   },
   {
    "duration": 797,
    "start_time": "2022-10-26T21:26:56.844Z"
   },
   {
    "duration": 15,
    "start_time": "2022-10-26T21:32:53.715Z"
   },
   {
    "duration": 15,
    "start_time": "2022-10-26T21:33:40.112Z"
   },
   {
    "duration": 7,
    "start_time": "2022-10-26T21:34:16.087Z"
   },
   {
    "duration": 7,
    "start_time": "2022-10-26T21:34:45.106Z"
   },
   {
    "duration": 7,
    "start_time": "2022-10-26T21:35:14.768Z"
   },
   {
    "duration": 4,
    "start_time": "2022-10-26T21:35:49.402Z"
   },
   {
    "duration": 8,
    "start_time": "2022-10-26T21:37:18.739Z"
   },
   {
    "duration": 7,
    "start_time": "2022-10-26T21:37:35.212Z"
   },
   {
    "duration": 7,
    "start_time": "2022-10-26T21:37:51.232Z"
   },
   {
    "duration": 9,
    "start_time": "2022-10-26T21:38:04.096Z"
   },
   {
    "duration": 8,
    "start_time": "2022-10-26T21:38:40.122Z"
   },
   {
    "duration": 6,
    "start_time": "2022-10-26T21:49:07.880Z"
   },
   {
    "duration": 5,
    "start_time": "2022-10-26T21:57:18.700Z"
   },
   {
    "duration": 11,
    "start_time": "2022-10-26T22:07:05.981Z"
   },
   {
    "duration": 7,
    "start_time": "2022-10-26T22:07:22.089Z"
   },
   {
    "duration": 4,
    "start_time": "2022-10-26T22:08:19.735Z"
   },
   {
    "duration": 7,
    "start_time": "2022-10-26T22:26:58.934Z"
   },
   {
    "duration": 5,
    "start_time": "2022-10-26T23:08:04.983Z"
   },
   {
    "duration": 5,
    "start_time": "2022-10-26T23:08:12.263Z"
   },
   {
    "duration": 1118,
    "start_time": "2022-10-26T23:12:41.101Z"
   },
   {
    "duration": 8,
    "start_time": "2022-10-26T23:12:57.930Z"
   },
   {
    "duration": 6,
    "start_time": "2022-10-26T23:13:20.415Z"
   },
   {
    "duration": 14,
    "start_time": "2022-10-26T23:38:01.320Z"
   },
   {
    "duration": 14,
    "start_time": "2022-10-26T23:41:17.211Z"
   },
   {
    "duration": 4,
    "start_time": "2022-10-26T23:41:28.887Z"
   },
   {
    "duration": 15,
    "start_time": "2022-10-26T23:41:36.089Z"
   },
   {
    "duration": 14,
    "start_time": "2022-10-26T23:42:43.967Z"
   },
   {
    "duration": 10,
    "start_time": "2022-10-26T23:43:15.983Z"
   },
   {
    "duration": 16,
    "start_time": "2022-10-26T23:43:17.237Z"
   },
   {
    "duration": 6,
    "start_time": "2022-10-26T23:46:14.007Z"
   },
   {
    "duration": 4,
    "start_time": "2022-10-26T23:51:13.828Z"
   },
   {
    "duration": 7,
    "start_time": "2022-10-27T00:01:04.229Z"
   },
   {
    "duration": 5,
    "start_time": "2022-10-27T00:01:52.861Z"
   },
   {
    "duration": 5,
    "start_time": "2022-10-27T00:02:04.660Z"
   },
   {
    "duration": 5,
    "start_time": "2022-10-27T00:02:09.664Z"
   },
   {
    "duration": 6,
    "start_time": "2022-10-27T00:02:16.461Z"
   },
   {
    "duration": 7,
    "start_time": "2022-10-27T00:02:21.739Z"
   },
   {
    "duration": 7,
    "start_time": "2022-10-27T00:02:25.499Z"
   },
   {
    "duration": 6,
    "start_time": "2022-10-27T00:03:02.665Z"
   },
   {
    "duration": 575,
    "start_time": "2022-10-27T10:16:15.802Z"
   },
   {
    "duration": 28,
    "start_time": "2022-10-27T10:16:16.379Z"
   },
   {
    "duration": 16,
    "start_time": "2022-10-27T10:16:16.409Z"
   },
   {
    "duration": 10,
    "start_time": "2022-10-27T10:16:16.427Z"
   },
   {
    "duration": 65,
    "start_time": "2022-10-27T10:16:16.439Z"
   },
   {
    "duration": 4,
    "start_time": "2022-10-27T10:16:16.506Z"
   },
   {
    "duration": 10,
    "start_time": "2022-10-27T10:16:16.511Z"
   },
   {
    "duration": 4,
    "start_time": "2022-10-27T10:16:16.523Z"
   },
   {
    "duration": 10,
    "start_time": "2022-10-27T10:16:16.528Z"
   },
   {
    "duration": 7,
    "start_time": "2022-10-27T10:16:16.540Z"
   },
   {
    "duration": 7,
    "start_time": "2022-10-27T10:16:16.549Z"
   },
   {
    "duration": 83,
    "start_time": "2022-10-27T10:16:16.557Z"
   },
   {
    "duration": 13,
    "start_time": "2022-10-27T10:16:16.642Z"
   },
   {
    "duration": 5,
    "start_time": "2022-10-27T10:16:16.657Z"
   },
   {
    "duration": 41,
    "start_time": "2022-10-27T10:16:16.663Z"
   },
   {
    "duration": 29,
    "start_time": "2022-10-27T10:16:16.710Z"
   },
   {
    "duration": 21,
    "start_time": "2022-10-27T10:16:16.740Z"
   },
   {
    "duration": 6,
    "start_time": "2022-10-27T10:16:16.763Z"
   },
   {
    "duration": 33,
    "start_time": "2022-10-27T10:16:16.771Z"
   },
   {
    "duration": 13,
    "start_time": "2022-10-27T10:16:16.806Z"
   },
   {
    "duration": 5,
    "start_time": "2022-10-27T10:16:16.822Z"
   },
   {
    "duration": 19,
    "start_time": "2022-10-27T10:16:16.829Z"
   },
   {
    "duration": 10,
    "start_time": "2022-10-27T10:16:16.851Z"
   },
   {
    "duration": 48,
    "start_time": "2022-10-27T10:16:16.863Z"
   },
   {
    "duration": 20,
    "start_time": "2022-10-27T10:16:16.916Z"
   },
   {
    "duration": 7,
    "start_time": "2022-10-27T10:16:16.938Z"
   },
   {
    "duration": 7,
    "start_time": "2022-10-27T10:16:16.947Z"
   },
   {
    "duration": 36,
    "start_time": "2022-10-27T10:16:16.960Z"
   },
   {
    "duration": 12,
    "start_time": "2022-10-27T10:16:16.997Z"
   },
   {
    "duration": 15,
    "start_time": "2022-10-27T10:16:17.012Z"
   },
   {
    "duration": 8,
    "start_time": "2022-10-27T10:16:17.030Z"
   },
   {
    "duration": 7,
    "start_time": "2022-10-27T10:16:17.040Z"
   },
   {
    "duration": 52,
    "start_time": "2022-10-27T10:16:17.049Z"
   },
   {
    "duration": 9,
    "start_time": "2022-10-27T10:16:17.103Z"
   },
   {
    "duration": 17,
    "start_time": "2022-10-27T10:16:17.114Z"
   },
   {
    "duration": 11,
    "start_time": "2022-10-27T10:16:17.132Z"
   },
   {
    "duration": 11,
    "start_time": "2022-10-27T10:16:17.145Z"
   },
   {
    "duration": 6,
    "start_time": "2022-10-27T10:16:17.158Z"
   },
   {
    "duration": 37,
    "start_time": "2022-10-27T10:16:17.165Z"
   },
   {
    "duration": 10,
    "start_time": "2022-10-27T10:16:17.204Z"
   },
   {
    "duration": 6,
    "start_time": "2022-10-27T10:16:17.216Z"
   },
   {
    "duration": 13,
    "start_time": "2022-10-27T10:16:17.223Z"
   },
   {
    "duration": 7,
    "start_time": "2022-10-27T10:16:17.238Z"
   },
   {
    "duration": 6,
    "start_time": "2022-10-27T10:16:17.247Z"
   },
   {
    "duration": 3,
    "start_time": "2022-10-27T10:16:17.255Z"
   },
   {
    "duration": 35,
    "start_time": "2022-10-27T10:16:17.260Z"
   },
   {
    "duration": 4,
    "start_time": "2022-10-27T10:16:17.300Z"
   },
   {
    "duration": 5,
    "start_time": "2022-10-27T10:30:46.324Z"
   },
   {
    "duration": 5,
    "start_time": "2022-10-27T10:42:00.522Z"
   },
   {
    "duration": 5,
    "start_time": "2022-10-27T10:42:13.757Z"
   },
   {
    "duration": 5,
    "start_time": "2022-10-27T10:42:29.342Z"
   },
   {
    "duration": 63,
    "start_time": "2022-10-27T10:50:20.265Z"
   },
   {
    "duration": 15,
    "start_time": "2022-10-27T10:51:04.783Z"
   },
   {
    "duration": 15,
    "start_time": "2022-10-27T10:51:06.899Z"
   },
   {
    "duration": 15,
    "start_time": "2022-10-27T10:51:21.898Z"
   },
   {
    "duration": 15,
    "start_time": "2022-10-27T10:51:23.277Z"
   },
   {
    "duration": 18,
    "start_time": "2022-10-27T10:51:33.180Z"
   },
   {
    "duration": 18,
    "start_time": "2022-10-27T10:51:57.401Z"
   },
   {
    "duration": 19,
    "start_time": "2022-10-27T10:52:38.779Z"
   },
   {
    "duration": 22,
    "start_time": "2022-10-27T10:52:46.544Z"
   },
   {
    "duration": 19,
    "start_time": "2022-10-27T10:52:53.536Z"
   },
   {
    "duration": 6,
    "start_time": "2022-10-27T11:36:18.273Z"
   },
   {
    "duration": 80,
    "start_time": "2022-10-27T11:36:52.918Z"
   },
   {
    "duration": 8,
    "start_time": "2022-10-27T11:36:59.992Z"
   },
   {
    "duration": 17,
    "start_time": "2022-10-27T11:37:34.729Z"
   },
   {
    "duration": 14,
    "start_time": "2022-10-27T11:38:03.808Z"
   },
   {
    "duration": 545,
    "start_time": "2022-10-27T11:38:53.584Z"
   },
   {
    "duration": 74,
    "start_time": "2022-10-27T11:39:56.404Z"
   },
   {
    "duration": 150,
    "start_time": "2022-10-27T11:40:01.592Z"
   },
   {
    "duration": 140,
    "start_time": "2022-10-27T11:40:33.693Z"
   },
   {
    "duration": 5,
    "start_time": "2022-10-27T11:41:10.287Z"
   },
   {
    "duration": 127,
    "start_time": "2022-10-27T11:41:59.707Z"
   },
   {
    "duration": 166,
    "start_time": "2022-10-27T11:42:47.081Z"
   },
   {
    "duration": 125,
    "start_time": "2022-10-27T11:43:32.537Z"
   },
   {
    "duration": 126,
    "start_time": "2022-10-27T11:43:55.035Z"
   },
   {
    "duration": 24,
    "start_time": "2022-10-27T11:44:44.412Z"
   },
   {
    "duration": 128,
    "start_time": "2022-10-27T11:44:49.696Z"
   },
   {
    "duration": 126,
    "start_time": "2022-10-27T11:45:11.295Z"
   },
   {
    "duration": 124,
    "start_time": "2022-10-27T11:45:32.742Z"
   },
   {
    "duration": 146,
    "start_time": "2022-10-27T11:46:15.673Z"
   },
   {
    "duration": 13,
    "start_time": "2022-10-27T11:47:15.436Z"
   },
   {
    "duration": 13,
    "start_time": "2022-10-27T11:47:47.747Z"
   },
   {
    "duration": 143,
    "start_time": "2022-10-27T11:48:41.335Z"
   },
   {
    "duration": 164,
    "start_time": "2022-10-27T11:49:04.808Z"
   },
   {
    "duration": 145,
    "start_time": "2022-10-27T11:49:31.226Z"
   },
   {
    "duration": 168,
    "start_time": "2022-10-27T11:49:36.656Z"
   },
   {
    "duration": 190,
    "start_time": "2022-10-27T12:04:36.807Z"
   },
   {
    "duration": 121,
    "start_time": "2022-10-27T12:05:03.622Z"
   },
   {
    "duration": 1356,
    "start_time": "2022-10-27T12:05:28.345Z"
   },
   {
    "duration": 138,
    "start_time": "2022-10-27T12:05:41.261Z"
   },
   {
    "duration": 121,
    "start_time": "2022-10-27T12:06:23.880Z"
   },
   {
    "duration": 127,
    "start_time": "2022-10-27T12:06:56.365Z"
   },
   {
    "duration": 149,
    "start_time": "2022-10-27T12:07:20.646Z"
   },
   {
    "duration": 79,
    "start_time": "2022-10-27T12:17:32.957Z"
   },
   {
    "duration": 16,
    "start_time": "2022-10-27T12:17:34.271Z"
   },
   {
    "duration": 16,
    "start_time": "2022-10-27T12:17:39.008Z"
   },
   {
    "duration": 11,
    "start_time": "2022-10-27T12:17:41.308Z"
   },
   {
    "duration": 11,
    "start_time": "2022-10-27T12:21:00.670Z"
   },
   {
    "duration": 11,
    "start_time": "2022-10-27T12:21:11.295Z"
   },
   {
    "duration": 10,
    "start_time": "2022-10-27T12:22:38.865Z"
   },
   {
    "duration": 18,
    "start_time": "2022-10-27T12:22:55.561Z"
   },
   {
    "duration": 15,
    "start_time": "2022-10-27T12:23:21.506Z"
   },
   {
    "duration": 26,
    "start_time": "2022-10-27T12:23:27.091Z"
   },
   {
    "duration": 7,
    "start_time": "2022-10-27T12:24:38.881Z"
   },
   {
    "duration": 16,
    "start_time": "2022-10-27T12:24:44.286Z"
   },
   {
    "duration": 8,
    "start_time": "2022-10-27T12:25:45.867Z"
   },
   {
    "duration": 1184,
    "start_time": "2022-10-27T12:26:10.608Z"
   },
   {
    "duration": 7,
    "start_time": "2022-10-27T12:26:20.154Z"
   },
   {
    "duration": 8,
    "start_time": "2022-10-27T12:29:44.856Z"
   },
   {
    "duration": 11,
    "start_time": "2022-10-27T12:34:09.793Z"
   },
   {
    "duration": 6,
    "start_time": "2022-10-27T12:40:13.280Z"
   },
   {
    "duration": 21,
    "start_time": "2022-10-27T12:40:34.368Z"
   },
   {
    "duration": 11,
    "start_time": "2022-10-27T12:41:54.225Z"
   },
   {
    "duration": 8,
    "start_time": "2022-10-27T12:42:24.116Z"
   },
   {
    "duration": 7,
    "start_time": "2022-10-27T12:42:47.516Z"
   },
   {
    "duration": 9,
    "start_time": "2022-10-27T12:43:58.124Z"
   },
   {
    "duration": 10,
    "start_time": "2022-10-27T12:50:56.542Z"
   },
   {
    "duration": 8,
    "start_time": "2022-10-27T12:51:20.682Z"
   },
   {
    "duration": 10,
    "start_time": "2022-10-27T13:15:12.814Z"
   },
   {
    "duration": 11,
    "start_time": "2022-10-27T13:15:30.290Z"
   },
   {
    "duration": 8,
    "start_time": "2022-10-27T13:38:55.187Z"
   },
   {
    "duration": 8,
    "start_time": "2022-10-27T13:39:04.868Z"
   },
   {
    "duration": 13,
    "start_time": "2022-10-27T13:40:56.091Z"
   },
   {
    "duration": 1361,
    "start_time": "2022-10-27T13:41:17.094Z"
   },
   {
    "duration": 12,
    "start_time": "2022-10-27T13:41:44.145Z"
   },
   {
    "duration": 73,
    "start_time": "2022-10-27T14:00:03.819Z"
   },
   {
    "duration": 11,
    "start_time": "2022-10-27T14:00:17.490Z"
   },
   {
    "duration": 15,
    "start_time": "2022-10-27T14:00:58.043Z"
   },
   {
    "duration": 7,
    "start_time": "2022-10-27T14:01:40.575Z"
   },
   {
    "duration": 16,
    "start_time": "2022-10-27T14:02:24.364Z"
   },
   {
    "duration": 84,
    "start_time": "2022-10-27T14:02:57.773Z"
   },
   {
    "duration": 603,
    "start_time": "2022-10-27T14:03:06.860Z"
   },
   {
    "duration": 8,
    "start_time": "2022-10-27T14:03:33.424Z"
   },
   {
    "duration": 9,
    "start_time": "2022-10-27T14:04:58.386Z"
   },
   {
    "duration": 11,
    "start_time": "2022-10-27T14:05:18.147Z"
   },
   {
    "duration": 11,
    "start_time": "2022-10-27T14:12:09.193Z"
   },
   {
    "duration": 14,
    "start_time": "2022-10-27T14:14:17.258Z"
   },
   {
    "duration": 14,
    "start_time": "2022-10-27T14:14:58.948Z"
   },
   {
    "duration": 15,
    "start_time": "2022-10-27T14:22:35.328Z"
   },
   {
    "duration": 11,
    "start_time": "2022-10-27T14:27:49.602Z"
   },
   {
    "duration": 1319,
    "start_time": "2022-10-27T14:29:16.956Z"
   },
   {
    "duration": 1199,
    "start_time": "2022-10-27T14:29:28.505Z"
   },
   {
    "duration": 11,
    "start_time": "2022-10-27T14:29:54.737Z"
   },
   {
    "duration": 1453,
    "start_time": "2022-10-27T14:31:42.702Z"
   },
   {
    "duration": 1226,
    "start_time": "2022-10-27T14:32:08.358Z"
   },
   {
    "duration": 4,
    "start_time": "2022-10-27T14:32:21.345Z"
   },
   {
    "duration": 1253,
    "start_time": "2022-10-27T14:32:28.018Z"
   },
   {
    "duration": 11,
    "start_time": "2022-10-27T14:32:44.774Z"
   },
   {
    "duration": 13,
    "start_time": "2022-10-27T14:32:49.405Z"
   },
   {
    "duration": 13,
    "start_time": "2022-10-27T14:42:22.209Z"
   },
   {
    "duration": 13,
    "start_time": "2022-10-27T14:43:47.053Z"
   },
   {
    "duration": 13,
    "start_time": "2022-10-27T14:43:53.544Z"
   },
   {
    "duration": 13,
    "start_time": "2022-10-27T14:56:39.709Z"
   },
   {
    "duration": 13,
    "start_time": "2022-10-27T14:57:00.040Z"
   },
   {
    "duration": 1224,
    "start_time": "2022-10-27T15:00:44.761Z"
   },
   {
    "duration": 15,
    "start_time": "2022-10-27T15:01:17.259Z"
   },
   {
    "duration": 13,
    "start_time": "2022-10-27T15:01:37.856Z"
   },
   {
    "duration": 13,
    "start_time": "2022-10-27T15:02:04.698Z"
   },
   {
    "duration": 1199,
    "start_time": "2022-10-27T15:02:43.955Z"
   },
   {
    "duration": 16,
    "start_time": "2022-10-27T15:02:58.244Z"
   },
   {
    "duration": 16,
    "start_time": "2022-10-27T15:03:04.031Z"
   },
   {
    "duration": 14,
    "start_time": "2022-10-27T15:03:31.127Z"
   },
   {
    "duration": 18,
    "start_time": "2022-10-27T15:03:37.375Z"
   },
   {
    "duration": 15,
    "start_time": "2022-10-27T15:05:18.526Z"
   },
   {
    "duration": 12,
    "start_time": "2022-10-27T15:06:10.689Z"
   },
   {
    "duration": 12,
    "start_time": "2022-10-27T16:55:45.453Z"
   },
   {
    "duration": 12,
    "start_time": "2022-10-27T16:55:58.905Z"
   },
   {
    "duration": 13,
    "start_time": "2022-10-27T16:56:04.262Z"
   },
   {
    "duration": 15,
    "start_time": "2022-10-27T16:56:13.960Z"
   },
   {
    "duration": 15,
    "start_time": "2022-10-27T16:56:20.495Z"
   },
   {
    "duration": 92,
    "start_time": "2022-10-27T16:56:47.073Z"
   },
   {
    "duration": 70,
    "start_time": "2022-10-27T16:57:03.884Z"
   },
   {
    "duration": 11,
    "start_time": "2022-10-27T16:57:11.996Z"
   },
   {
    "duration": 16,
    "start_time": "2022-10-27T17:01:25.762Z"
   },
   {
    "duration": 19,
    "start_time": "2022-10-27T17:05:11.036Z"
   },
   {
    "duration": 9,
    "start_time": "2022-10-27T17:05:30.315Z"
   },
   {
    "duration": 14,
    "start_time": "2022-10-27T17:05:39.298Z"
   },
   {
    "duration": 15,
    "start_time": "2022-10-27T17:05:55.114Z"
   },
   {
    "duration": 14,
    "start_time": "2022-10-27T17:06:09.483Z"
   },
   {
    "duration": 32,
    "start_time": "2022-10-27T17:06:16.294Z"
   },
   {
    "duration": 11,
    "start_time": "2022-10-27T17:06:25.738Z"
   },
   {
    "duration": 37,
    "start_time": "2022-10-27T17:06:32.616Z"
   },
   {
    "duration": 9,
    "start_time": "2022-10-27T17:07:49.194Z"
   },
   {
    "duration": 27,
    "start_time": "2022-10-27T17:08:40.269Z"
   },
   {
    "duration": 14,
    "start_time": "2022-10-27T17:10:11.143Z"
   },
   {
    "duration": 19,
    "start_time": "2022-10-27T17:10:26.568Z"
   },
   {
    "duration": 16,
    "start_time": "2022-10-27T17:10:52.278Z"
   },
   {
    "duration": 90,
    "start_time": "2022-10-27T17:11:35.787Z"
   },
   {
    "duration": 568,
    "start_time": "2022-10-27T17:11:51.644Z"
   },
   {
    "duration": 618,
    "start_time": "2022-10-27T17:12:13.174Z"
   },
   {
    "duration": 13,
    "start_time": "2022-10-27T17:12:27.254Z"
   },
   {
    "duration": 206,
    "start_time": "2022-10-27T17:13:22.410Z"
   },
   {
    "duration": 13,
    "start_time": "2022-10-27T17:13:39.787Z"
   },
   {
    "duration": 12,
    "start_time": "2022-10-27T17:13:45.529Z"
   },
   {
    "duration": 71,
    "start_time": "2022-10-27T17:13:53.692Z"
   },
   {
    "duration": 13,
    "start_time": "2022-10-27T17:13:58.241Z"
   },
   {
    "duration": 35,
    "start_time": "2022-10-27T17:14:32.900Z"
   },
   {
    "duration": 14,
    "start_time": "2022-10-27T17:14:53.291Z"
   },
   {
    "duration": 9,
    "start_time": "2022-10-27T17:18:55.425Z"
   },
   {
    "duration": 10,
    "start_time": "2022-10-27T17:19:02.886Z"
   },
   {
    "duration": 9,
    "start_time": "2022-10-27T17:19:22.348Z"
   },
   {
    "duration": 72,
    "start_time": "2022-10-27T17:19:32.659Z"
   },
   {
    "duration": 12,
    "start_time": "2022-10-27T17:19:37.357Z"
   },
   {
    "duration": 8,
    "start_time": "2022-10-27T17:19:51.551Z"
   },
   {
    "duration": 29,
    "start_time": "2022-10-27T17:19:56.577Z"
   },
   {
    "duration": 11,
    "start_time": "2022-10-27T17:20:19.788Z"
   },
   {
    "duration": 77,
    "start_time": "2022-10-27T17:20:27.723Z"
   },
   {
    "duration": 16,
    "start_time": "2022-10-27T17:20:37.616Z"
   },
   {
    "duration": 13,
    "start_time": "2022-10-27T17:20:54.882Z"
   },
   {
    "duration": 17,
    "start_time": "2022-10-27T17:21:54.372Z"
   },
   {
    "duration": 26,
    "start_time": "2022-10-27T17:22:05.816Z"
   },
   {
    "duration": 19,
    "start_time": "2022-10-27T17:22:34.150Z"
   },
   {
    "duration": 20,
    "start_time": "2022-10-27T17:22:50.862Z"
   },
   {
    "duration": 16,
    "start_time": "2022-10-27T17:23:31.067Z"
   },
   {
    "duration": 13,
    "start_time": "2022-10-27T17:23:47.577Z"
   },
   {
    "duration": 18,
    "start_time": "2022-10-27T17:24:12.644Z"
   },
   {
    "duration": 12,
    "start_time": "2022-10-27T17:24:23.047Z"
   },
   {
    "duration": 13,
    "start_time": "2022-10-27T17:25:59.291Z"
   },
   {
    "duration": 17,
    "start_time": "2022-10-27T17:26:16.814Z"
   },
   {
    "duration": 11,
    "start_time": "2022-10-27T18:55:49.516Z"
   },
   {
    "duration": 11,
    "start_time": "2022-10-27T18:56:01.669Z"
   },
   {
    "duration": 8,
    "start_time": "2022-10-27T18:56:08.118Z"
   },
   {
    "duration": 14,
    "start_time": "2022-10-27T18:56:26.318Z"
   },
   {
    "duration": 9,
    "start_time": "2022-10-27T20:24:33.343Z"
   },
   {
    "duration": 9,
    "start_time": "2022-10-27T21:04:28.620Z"
   },
   {
    "duration": 9,
    "start_time": "2022-10-27T21:04:47.841Z"
   },
   {
    "duration": 9,
    "start_time": "2022-10-27T21:20:54.153Z"
   },
   {
    "duration": 13,
    "start_time": "2022-10-28T00:06:37.412Z"
   },
   {
    "duration": 11,
    "start_time": "2022-10-28T00:06:51.537Z"
   },
   {
    "duration": 15,
    "start_time": "2022-10-28T00:07:04.045Z"
   },
   {
    "duration": 68,
    "start_time": "2022-10-28T00:07:15.845Z"
   },
   {
    "duration": 15,
    "start_time": "2022-10-28T00:07:15.915Z"
   },
   {
    "duration": 15,
    "start_time": "2022-10-28T00:07:15.931Z"
   },
   {
    "duration": 10,
    "start_time": "2022-10-28T00:07:15.948Z"
   },
   {
    "duration": 36,
    "start_time": "2022-10-28T00:07:15.960Z"
   },
   {
    "duration": 14,
    "start_time": "2022-10-28T00:07:15.997Z"
   },
   {
    "duration": 12,
    "start_time": "2022-10-28T00:07:16.012Z"
   },
   {
    "duration": 13,
    "start_time": "2022-10-28T00:07:16.026Z"
   },
   {
    "duration": 51,
    "start_time": "2022-10-28T00:07:16.040Z"
   },
   {
    "duration": 7,
    "start_time": "2022-10-28T00:07:16.094Z"
   },
   {
    "duration": 12,
    "start_time": "2022-10-28T00:07:16.102Z"
   },
   {
    "duration": 46,
    "start_time": "2022-10-28T00:07:16.115Z"
   },
   {
    "duration": 3,
    "start_time": "2022-10-28T00:07:16.163Z"
   },
   {
    "duration": 28,
    "start_time": "2022-10-28T00:07:16.167Z"
   },
   {
    "duration": 4,
    "start_time": "2022-10-28T00:07:16.197Z"
   },
   {
    "duration": 8,
    "start_time": "2022-10-28T00:07:16.203Z"
   },
   {
    "duration": 5,
    "start_time": "2022-10-28T00:07:16.213Z"
   },
   {
    "duration": 8,
    "start_time": "2022-10-28T00:07:16.220Z"
   },
   {
    "duration": 30,
    "start_time": "2022-10-28T00:07:16.230Z"
   },
   {
    "duration": 33,
    "start_time": "2022-10-28T00:07:16.262Z"
   },
   {
    "duration": 4,
    "start_time": "2022-10-28T00:07:16.296Z"
   },
   {
    "duration": 14,
    "start_time": "2022-10-28T00:07:16.301Z"
   },
   {
    "duration": 20,
    "start_time": "2022-10-28T00:07:16.317Z"
   },
   {
    "duration": 16,
    "start_time": "2022-10-28T00:07:16.339Z"
   },
   {
    "duration": 5,
    "start_time": "2022-10-28T00:07:16.356Z"
   },
   {
    "duration": 32,
    "start_time": "2022-10-28T00:07:16.363Z"
   },
   {
    "duration": 9,
    "start_time": "2022-10-28T00:07:16.396Z"
   },
   {
    "duration": 4,
    "start_time": "2022-10-28T00:07:16.408Z"
   },
   {
    "duration": 13,
    "start_time": "2022-10-28T00:07:16.413Z"
   },
   {
    "duration": 7,
    "start_time": "2022-10-28T00:07:16.428Z"
   },
   {
    "duration": 15,
    "start_time": "2022-10-28T00:07:16.437Z"
   },
   {
    "duration": 43,
    "start_time": "2022-10-28T00:07:16.453Z"
   },
   {
    "duration": 5,
    "start_time": "2022-10-28T00:07:16.499Z"
   },
   {
    "duration": 20,
    "start_time": "2022-10-28T00:07:16.506Z"
   },
   {
    "duration": 14,
    "start_time": "2022-10-28T00:07:16.528Z"
   },
   {
    "duration": 23,
    "start_time": "2022-10-28T00:07:16.544Z"
   },
   {
    "duration": 8,
    "start_time": "2022-10-28T00:07:16.569Z"
   },
   {
    "duration": 14,
    "start_time": "2022-10-28T00:07:16.578Z"
   },
   {
    "duration": 4,
    "start_time": "2022-10-28T00:07:16.593Z"
   },
   {
    "duration": 10,
    "start_time": "2022-10-28T00:07:16.599Z"
   },
   {
    "duration": 6,
    "start_time": "2022-10-28T00:07:16.612Z"
   },
   {
    "duration": 11,
    "start_time": "2022-10-28T00:07:16.620Z"
   },
   {
    "duration": 7,
    "start_time": "2022-10-28T00:07:16.633Z"
   },
   {
    "duration": 16,
    "start_time": "2022-10-28T00:07:16.641Z"
   },
   {
    "duration": 5,
    "start_time": "2022-10-28T00:07:16.690Z"
   },
   {
    "duration": 12,
    "start_time": "2022-10-28T00:07:16.697Z"
   },
   {
    "duration": 10,
    "start_time": "2022-10-28T00:07:16.711Z"
   },
   {
    "duration": 7,
    "start_time": "2022-10-28T00:07:16.723Z"
   },
   {
    "duration": 7,
    "start_time": "2022-10-28T00:07:16.731Z"
   },
   {
    "duration": 8,
    "start_time": "2022-10-28T00:07:16.740Z"
   },
   {
    "duration": 6,
    "start_time": "2022-10-28T00:07:16.750Z"
   },
   {
    "duration": 4,
    "start_time": "2022-10-28T00:07:16.791Z"
   },
   {
    "duration": 24,
    "start_time": "2022-10-28T00:07:16.797Z"
   },
   {
    "duration": 12,
    "start_time": "2022-10-28T00:07:16.822Z"
   },
   {
    "duration": 138,
    "start_time": "2022-10-28T00:07:16.835Z"
   },
   {
    "duration": 4,
    "start_time": "2022-10-28T00:07:16.975Z"
   },
   {
    "duration": 130,
    "start_time": "2022-10-28T00:07:16.991Z"
   },
   {
    "duration": 151,
    "start_time": "2022-10-28T00:07:17.123Z"
   },
   {
    "duration": 107,
    "start_time": "2022-10-28T00:09:22.969Z"
   },
   {
    "duration": 111,
    "start_time": "2022-10-28T00:09:37.115Z"
   },
   {
    "duration": 1057,
    "start_time": "2022-10-28T00:14:03.393Z"
   },
   {
    "duration": 1022,
    "start_time": "2022-10-28T00:16:13.239Z"
   },
   {
    "duration": 119,
    "start_time": "2022-10-28T00:16:39.903Z"
   },
   {
    "duration": 122,
    "start_time": "2022-10-28T00:17:30.495Z"
   },
   {
    "duration": 73,
    "start_time": "2022-10-28T00:17:54.137Z"
   },
   {
    "duration": 136,
    "start_time": "2022-10-28T00:18:27.386Z"
   },
   {
    "duration": 156,
    "start_time": "2022-10-28T00:18:46.409Z"
   },
   {
    "duration": 132,
    "start_time": "2022-10-28T00:18:58.732Z"
   },
   {
    "duration": 118,
    "start_time": "2022-10-28T00:19:45.284Z"
   },
   {
    "duration": 131,
    "start_time": "2022-10-28T00:20:10.102Z"
   },
   {
    "duration": 153,
    "start_time": "2022-10-28T00:20:25.775Z"
   },
   {
    "duration": 125,
    "start_time": "2022-10-28T00:20:42.651Z"
   },
   {
    "duration": 121,
    "start_time": "2022-10-28T00:20:57.864Z"
   },
   {
    "duration": 127,
    "start_time": "2022-10-28T00:21:12.515Z"
   },
   {
    "duration": 674,
    "start_time": "2022-10-28T11:35:49.824Z"
   },
   {
    "duration": 32,
    "start_time": "2022-10-28T11:35:50.501Z"
   },
   {
    "duration": 26,
    "start_time": "2022-10-28T11:35:50.535Z"
   },
   {
    "duration": 26,
    "start_time": "2022-10-28T11:35:50.563Z"
   },
   {
    "duration": 23,
    "start_time": "2022-10-28T11:35:50.592Z"
   },
   {
    "duration": 43,
    "start_time": "2022-10-28T11:35:50.618Z"
   },
   {
    "duration": 18,
    "start_time": "2022-10-28T11:35:50.663Z"
   },
   {
    "duration": 27,
    "start_time": "2022-10-28T11:35:50.683Z"
   },
   {
    "duration": 14,
    "start_time": "2022-10-28T11:35:50.712Z"
   },
   {
    "duration": 18,
    "start_time": "2022-10-28T11:35:50.728Z"
   },
   {
    "duration": 25,
    "start_time": "2022-10-28T11:35:50.748Z"
   },
   {
    "duration": 64,
    "start_time": "2022-10-28T11:35:50.775Z"
   },
   {
    "duration": 4,
    "start_time": "2022-10-28T11:35:50.841Z"
   },
   {
    "duration": 30,
    "start_time": "2022-10-28T11:35:50.850Z"
   },
   {
    "duration": 12,
    "start_time": "2022-10-28T11:35:50.881Z"
   },
   {
    "duration": 18,
    "start_time": "2022-10-28T11:35:50.895Z"
   },
   {
    "duration": 14,
    "start_time": "2022-10-28T11:35:50.915Z"
   },
   {
    "duration": 17,
    "start_time": "2022-10-28T11:35:50.931Z"
   },
   {
    "duration": 65,
    "start_time": "2022-10-28T11:35:50.949Z"
   },
   {
    "duration": 11,
    "start_time": "2022-10-28T11:35:51.016Z"
   },
   {
    "duration": 25,
    "start_time": "2022-10-28T11:35:51.029Z"
   },
   {
    "duration": 46,
    "start_time": "2022-10-28T11:35:51.056Z"
   },
   {
    "duration": 49,
    "start_time": "2022-10-28T11:35:51.104Z"
   },
   {
    "duration": 32,
    "start_time": "2022-10-28T11:35:51.155Z"
   },
   {
    "duration": 21,
    "start_time": "2022-10-28T11:35:51.188Z"
   },
   {
    "duration": 47,
    "start_time": "2022-10-28T11:35:51.211Z"
   },
   {
    "duration": 22,
    "start_time": "2022-10-28T11:35:51.260Z"
   },
   {
    "duration": 20,
    "start_time": "2022-10-28T11:35:51.284Z"
   },
   {
    "duration": 36,
    "start_time": "2022-10-28T11:35:51.307Z"
   },
   {
    "duration": 29,
    "start_time": "2022-10-28T11:35:51.345Z"
   },
   {
    "duration": 41,
    "start_time": "2022-10-28T11:35:51.376Z"
   },
   {
    "duration": 44,
    "start_time": "2022-10-28T11:35:51.419Z"
   },
   {
    "duration": 29,
    "start_time": "2022-10-28T11:35:51.465Z"
   },
   {
    "duration": 29,
    "start_time": "2022-10-28T11:35:51.495Z"
   },
   {
    "duration": 34,
    "start_time": "2022-10-28T11:35:51.526Z"
   },
   {
    "duration": 24,
    "start_time": "2022-10-28T11:35:51.562Z"
   },
   {
    "duration": 21,
    "start_time": "2022-10-28T11:35:51.588Z"
   },
   {
    "duration": 10,
    "start_time": "2022-10-28T11:35:51.611Z"
   },
   {
    "duration": 13,
    "start_time": "2022-10-28T11:35:51.623Z"
   },
   {
    "duration": 20,
    "start_time": "2022-10-28T11:35:51.638Z"
   },
   {
    "duration": 37,
    "start_time": "2022-10-28T11:35:51.662Z"
   },
   {
    "duration": 28,
    "start_time": "2022-10-28T11:35:51.701Z"
   },
   {
    "duration": 21,
    "start_time": "2022-10-28T11:35:51.731Z"
   },
   {
    "duration": 25,
    "start_time": "2022-10-28T11:35:51.754Z"
   },
   {
    "duration": 18,
    "start_time": "2022-10-28T11:35:51.781Z"
   },
   {
    "duration": 23,
    "start_time": "2022-10-28T11:35:51.801Z"
   },
   {
    "duration": 15,
    "start_time": "2022-10-28T11:35:51.826Z"
   },
   {
    "duration": 20,
    "start_time": "2022-10-28T11:35:51.843Z"
   },
   {
    "duration": 7,
    "start_time": "2022-10-28T11:35:51.865Z"
   },
   {
    "duration": 26,
    "start_time": "2022-10-28T11:35:51.874Z"
   },
   {
    "duration": 15,
    "start_time": "2022-10-28T11:35:51.902Z"
   },
   {
    "duration": 21,
    "start_time": "2022-10-28T11:35:51.919Z"
   },
   {
    "duration": 61,
    "start_time": "2022-10-28T11:35:51.942Z"
   },
   {
    "duration": 16,
    "start_time": "2022-10-28T11:35:52.005Z"
   },
   {
    "duration": 642,
    "start_time": "2022-10-28T11:35:52.023Z"
   },
   {
    "duration": 5,
    "start_time": "2022-10-28T11:35:52.667Z"
   },
   {
    "duration": 165,
    "start_time": "2022-10-28T11:35:52.675Z"
   },
   {
    "duration": 177,
    "start_time": "2022-10-28T11:35:52.843Z"
   },
   {
    "duration": 14,
    "start_time": "2022-10-28T11:52:08.363Z"
   },
   {
    "duration": 11,
    "start_time": "2022-10-28T11:52:30.668Z"
   },
   {
    "duration": 10,
    "start_time": "2022-10-28T11:52:44.955Z"
   },
   {
    "duration": 12,
    "start_time": "2022-10-28T11:53:45.261Z"
   },
   {
    "duration": 146,
    "start_time": "2022-10-28T11:57:11.594Z"
   },
   {
    "duration": 13,
    "start_time": "2022-10-28T11:58:19.915Z"
   },
   {
    "duration": 17,
    "start_time": "2022-10-28T11:59:02.493Z"
   },
   {
    "duration": 10,
    "start_time": "2022-10-28T11:59:26.908Z"
   },
   {
    "duration": 7,
    "start_time": "2022-10-28T11:59:44.404Z"
   },
   {
    "duration": 10,
    "start_time": "2022-10-28T12:00:24.577Z"
   },
   {
    "duration": 79,
    "start_time": "2022-10-28T12:01:02.492Z"
   },
   {
    "duration": 10,
    "start_time": "2022-10-28T12:01:11.138Z"
   },
   {
    "duration": 74,
    "start_time": "2022-10-28T12:01:38.196Z"
   },
   {
    "duration": 14,
    "start_time": "2022-10-28T12:01:48.979Z"
   },
   {
    "duration": 14,
    "start_time": "2022-10-28T12:02:00.574Z"
   },
   {
    "duration": 9,
    "start_time": "2022-10-28T12:02:11.868Z"
   },
   {
    "duration": 10,
    "start_time": "2022-10-28T12:02:17.635Z"
   },
   {
    "duration": 8,
    "start_time": "2022-10-28T12:02:28.962Z"
   },
   {
    "duration": 12,
    "start_time": "2022-10-28T12:02:34.421Z"
   },
   {
    "duration": 11,
    "start_time": "2022-10-28T12:02:55.508Z"
   },
   {
    "duration": 8,
    "start_time": "2022-10-28T12:05:18.785Z"
   },
   {
    "duration": 9,
    "start_time": "2022-10-28T12:05:36.512Z"
   },
   {
    "duration": 7,
    "start_time": "2022-10-28T12:05:51.055Z"
   },
   {
    "duration": 8,
    "start_time": "2022-10-28T12:08:34.636Z"
   },
   {
    "duration": 6,
    "start_time": "2022-10-28T12:11:18.005Z"
   },
   {
    "duration": 6,
    "start_time": "2022-10-28T12:11:26.219Z"
   },
   {
    "duration": 8,
    "start_time": "2022-10-28T12:11:52.030Z"
   },
   {
    "duration": 8,
    "start_time": "2022-10-28T12:12:40.665Z"
   },
   {
    "duration": 6,
    "start_time": "2022-10-28T12:12:50.835Z"
   },
   {
    "duration": 6,
    "start_time": "2022-10-28T12:12:58.253Z"
   },
   {
    "duration": 6,
    "start_time": "2022-10-28T12:27:03.446Z"
   },
   {
    "duration": 6,
    "start_time": "2022-10-28T12:28:36.774Z"
   },
   {
    "duration": 8,
    "start_time": "2022-10-28T12:28:41.569Z"
   },
   {
    "duration": 5,
    "start_time": "2022-10-28T12:39:37.892Z"
   },
   {
    "duration": 73,
    "start_time": "2022-10-28T12:42:58.496Z"
   },
   {
    "duration": 8,
    "start_time": "2022-10-28T12:43:09.651Z"
   },
   {
    "duration": 9,
    "start_time": "2022-10-28T12:47:30.067Z"
   },
   {
    "duration": 8,
    "start_time": "2022-10-28T12:47:42.869Z"
   },
   {
    "duration": 7,
    "start_time": "2022-10-28T12:52:36.158Z"
   },
   {
    "duration": 12,
    "start_time": "2022-10-28T13:03:02.601Z"
   },
   {
    "duration": 6,
    "start_time": "2022-10-28T13:03:20.963Z"
   },
   {
    "duration": 5,
    "start_time": "2022-10-28T13:04:08.614Z"
   },
   {
    "duration": 10,
    "start_time": "2022-10-28T13:04:39.363Z"
   },
   {
    "duration": 7,
    "start_time": "2022-10-28T13:04:57.703Z"
   },
   {
    "duration": 10,
    "start_time": "2022-10-28T13:05:01.714Z"
   },
   {
    "duration": 8,
    "start_time": "2022-10-28T13:05:29.408Z"
   },
   {
    "duration": 8,
    "start_time": "2022-10-28T13:05:31.931Z"
   },
   {
    "duration": 10,
    "start_time": "2022-10-28T13:05:34.442Z"
   },
   {
    "duration": 11,
    "start_time": "2022-10-28T13:05:38.322Z"
   },
   {
    "duration": 18,
    "start_time": "2022-10-28T13:05:54.027Z"
   },
   {
    "duration": 10,
    "start_time": "2022-10-28T13:06:01.145Z"
   },
   {
    "duration": 5,
    "start_time": "2022-10-28T13:06:09.715Z"
   },
   {
    "duration": 6,
    "start_time": "2022-10-28T13:06:15.832Z"
   },
   {
    "duration": 16,
    "start_time": "2022-10-28T13:06:51.716Z"
   },
   {
    "duration": 6,
    "start_time": "2022-10-28T13:07:06.436Z"
   },
   {
    "duration": 7,
    "start_time": "2022-10-28T13:07:18.927Z"
   },
   {
    "duration": 6,
    "start_time": "2022-10-28T13:07:24.911Z"
   },
   {
    "duration": 6,
    "start_time": "2022-10-28T13:10:26.612Z"
   },
   {
    "duration": 9,
    "start_time": "2022-10-28T13:18:40.305Z"
   },
   {
    "duration": 7,
    "start_time": "2022-10-28T13:18:42.514Z"
   },
   {
    "duration": 6,
    "start_time": "2022-10-28T13:18:48.360Z"
   },
   {
    "duration": 9,
    "start_time": "2022-10-28T13:18:54.098Z"
   },
   {
    "duration": 6,
    "start_time": "2022-10-28T13:23:06.233Z"
   },
   {
    "duration": 10,
    "start_time": "2022-10-28T13:25:50.218Z"
   },
   {
    "duration": 12,
    "start_time": "2022-10-28T13:25:55.428Z"
   },
   {
    "duration": 13,
    "start_time": "2022-10-28T13:25:57.636Z"
   },
   {
    "duration": 8,
    "start_time": "2022-10-28T13:26:00.251Z"
   },
   {
    "duration": 9,
    "start_time": "2022-10-28T13:26:02.888Z"
   },
   {
    "duration": 13,
    "start_time": "2022-10-28T14:41:59.503Z"
   },
   {
    "duration": 6,
    "start_time": "2022-10-28T14:42:02.693Z"
   },
   {
    "duration": 5,
    "start_time": "2022-10-28T14:42:13.830Z"
   },
   {
    "duration": 7,
    "start_time": "2022-10-28T14:42:16.166Z"
   },
   {
    "duration": 6,
    "start_time": "2022-10-28T14:43:08.306Z"
   },
   {
    "duration": 6,
    "start_time": "2022-10-28T14:43:53.104Z"
   },
   {
    "duration": 6,
    "start_time": "2022-10-28T14:44:03.920Z"
   },
   {
    "duration": 5,
    "start_time": "2022-10-28T14:44:09.702Z"
   },
   {
    "duration": 10,
    "start_time": "2022-10-28T14:44:56.041Z"
   },
   {
    "duration": 4,
    "start_time": "2022-10-28T14:53:18.990Z"
   },
   {
    "duration": 5,
    "start_time": "2022-10-28T14:53:21.613Z"
   },
   {
    "duration": 5,
    "start_time": "2022-10-28T14:53:23.225Z"
   },
   {
    "duration": 5,
    "start_time": "2022-10-28T14:53:30.494Z"
   },
   {
    "duration": 6,
    "start_time": "2022-10-28T14:53:47.155Z"
   },
   {
    "duration": 7,
    "start_time": "2022-10-28T14:53:54.042Z"
   },
   {
    "duration": 5,
    "start_time": "2022-10-28T14:53:56.717Z"
   },
   {
    "duration": 5,
    "start_time": "2022-10-28T14:53:59.006Z"
   },
   {
    "duration": 6,
    "start_time": "2022-10-28T14:54:09.951Z"
   },
   {
    "duration": 5,
    "start_time": "2022-10-28T14:54:12.623Z"
   },
   {
    "duration": 6,
    "start_time": "2022-10-28T14:54:39.228Z"
   },
   {
    "duration": 6,
    "start_time": "2022-10-28T14:54:41.943Z"
   },
   {
    "duration": 5,
    "start_time": "2022-10-28T14:54:55.722Z"
   },
   {
    "duration": 5,
    "start_time": "2022-10-28T14:55:05.633Z"
   },
   {
    "duration": 7,
    "start_time": "2022-10-28T14:55:11.665Z"
   },
   {
    "duration": 71,
    "start_time": "2022-10-28T15:01:34.674Z"
   },
   {
    "duration": 3,
    "start_time": "2022-10-28T15:02:18.844Z"
   },
   {
    "duration": 44,
    "start_time": "2022-10-28T15:04:52.392Z"
   },
   {
    "duration": 530,
    "start_time": "2022-10-28T15:05:08.798Z"
   },
   {
    "duration": 16,
    "start_time": "2022-10-28T15:05:09.330Z"
   },
   {
    "duration": 31,
    "start_time": "2022-10-28T15:05:09.348Z"
   },
   {
    "duration": 19,
    "start_time": "2022-10-28T15:05:09.382Z"
   },
   {
    "duration": 14,
    "start_time": "2022-10-28T15:05:09.403Z"
   },
   {
    "duration": 39,
    "start_time": "2022-10-28T15:05:09.418Z"
   },
   {
    "duration": 13,
    "start_time": "2022-10-28T15:05:09.459Z"
   },
   {
    "duration": 11,
    "start_time": "2022-10-28T15:05:09.473Z"
   },
   {
    "duration": 5,
    "start_time": "2022-10-28T15:05:09.485Z"
   },
   {
    "duration": 7,
    "start_time": "2022-10-28T15:05:09.493Z"
   },
   {
    "duration": 6,
    "start_time": "2022-10-28T15:05:09.502Z"
   },
   {
    "duration": 33,
    "start_time": "2022-10-28T15:05:09.509Z"
   },
   {
    "duration": 2,
    "start_time": "2022-10-28T15:05:09.544Z"
   },
   {
    "duration": 11,
    "start_time": "2022-10-28T15:05:09.548Z"
   },
   {
    "duration": 4,
    "start_time": "2022-10-28T15:05:09.560Z"
   },
   {
    "duration": 7,
    "start_time": "2022-10-28T15:05:09.565Z"
   },
   {
    "duration": 9,
    "start_time": "2022-10-28T15:05:09.573Z"
   },
   {
    "duration": 6,
    "start_time": "2022-10-28T15:05:09.583Z"
   },
   {
    "duration": 46,
    "start_time": "2022-10-28T15:05:09.591Z"
   },
   {
    "duration": 8,
    "start_time": "2022-10-28T15:05:09.639Z"
   },
   {
    "duration": 4,
    "start_time": "2022-10-28T15:05:09.649Z"
   },
   {
    "duration": 14,
    "start_time": "2022-10-28T15:05:09.655Z"
   },
   {
    "duration": 17,
    "start_time": "2022-10-28T15:05:09.671Z"
   },
   {
    "duration": 33,
    "start_time": "2022-10-28T15:05:09.689Z"
   },
   {
    "duration": 3,
    "start_time": "2022-10-28T15:05:09.724Z"
   },
   {
    "duration": 13,
    "start_time": "2022-10-28T15:05:09.729Z"
   },
   {
    "duration": 16,
    "start_time": "2022-10-28T15:05:09.744Z"
   },
   {
    "duration": 8,
    "start_time": "2022-10-28T15:05:09.763Z"
   },
   {
    "duration": 10,
    "start_time": "2022-10-28T15:05:09.772Z"
   },
   {
    "duration": 3,
    "start_time": "2022-10-28T15:05:09.783Z"
   },
   {
    "duration": 15,
    "start_time": "2022-10-28T15:05:09.787Z"
   },
   {
    "duration": 25,
    "start_time": "2022-10-28T15:05:09.804Z"
   },
   {
    "duration": 6,
    "start_time": "2022-10-28T15:05:09.830Z"
   },
   {
    "duration": 7,
    "start_time": "2022-10-28T15:05:09.837Z"
   },
   {
    "duration": 11,
    "start_time": "2022-10-28T15:05:09.845Z"
   },
   {
    "duration": 11,
    "start_time": "2022-10-28T15:05:09.857Z"
   },
   {
    "duration": 10,
    "start_time": "2022-10-28T15:05:09.870Z"
   },
   {
    "duration": 6,
    "start_time": "2022-10-28T15:05:09.882Z"
   },
   {
    "duration": 5,
    "start_time": "2022-10-28T15:05:09.890Z"
   },
   {
    "duration": 30,
    "start_time": "2022-10-28T15:05:09.897Z"
   },
   {
    "duration": 4,
    "start_time": "2022-10-28T15:05:09.928Z"
   },
   {
    "duration": 21,
    "start_time": "2022-10-28T15:05:09.934Z"
   },
   {
    "duration": 6,
    "start_time": "2022-10-28T15:05:09.957Z"
   },
   {
    "duration": 17,
    "start_time": "2022-10-28T15:05:09.965Z"
   },
   {
    "duration": 7,
    "start_time": "2022-10-28T15:05:09.984Z"
   },
   {
    "duration": 10,
    "start_time": "2022-10-28T15:05:09.993Z"
   },
   {
    "duration": 22,
    "start_time": "2022-10-28T15:05:10.005Z"
   },
   {
    "duration": 5,
    "start_time": "2022-10-28T15:05:10.029Z"
   },
   {
    "duration": 5,
    "start_time": "2022-10-28T15:05:10.036Z"
   },
   {
    "duration": 7,
    "start_time": "2022-10-28T15:05:10.043Z"
   },
   {
    "duration": 10,
    "start_time": "2022-10-28T15:05:10.052Z"
   },
   {
    "duration": 10,
    "start_time": "2022-10-28T15:05:10.064Z"
   },
   {
    "duration": 27,
    "start_time": "2022-10-28T15:05:10.076Z"
   },
   {
    "duration": 26,
    "start_time": "2022-10-28T15:05:10.105Z"
   },
   {
    "duration": 493,
    "start_time": "2022-10-28T15:05:10.132Z"
   },
   {
    "duration": 5,
    "start_time": "2022-10-28T15:05:10.626Z"
   },
   {
    "duration": 120,
    "start_time": "2022-10-28T15:05:10.632Z"
   },
   {
    "duration": 137,
    "start_time": "2022-10-28T15:05:10.754Z"
   },
   {
    "duration": 9,
    "start_time": "2022-10-28T15:05:10.893Z"
   },
   {
    "duration": 20,
    "start_time": "2022-10-28T15:05:10.903Z"
   },
   {
    "duration": 10,
    "start_time": "2022-10-28T15:05:10.925Z"
   },
   {
    "duration": 9,
    "start_time": "2022-10-28T15:05:10.937Z"
   },
   {
    "duration": 9,
    "start_time": "2022-10-28T15:05:10.947Z"
   },
   {
    "duration": 16,
    "start_time": "2022-10-28T15:05:10.958Z"
   },
   {
    "duration": 73,
    "start_time": "2022-10-28T15:11:39.760Z"
   },
   {
    "duration": 97,
    "start_time": "2022-10-28T15:12:24.386Z"
   },
   {
    "duration": 70,
    "start_time": "2022-10-28T15:12:44.113Z"
   },
   {
    "duration": 10,
    "start_time": "2022-10-28T15:13:12.446Z"
   },
   {
    "duration": 74,
    "start_time": "2022-10-28T15:17:47.385Z"
   },
   {
    "duration": 17,
    "start_time": "2022-10-28T15:17:56.009Z"
   },
   {
    "duration": 71,
    "start_time": "2022-10-28T15:19:44.003Z"
   },
   {
    "duration": 17,
    "start_time": "2022-10-28T15:20:11.272Z"
   },
   {
    "duration": 13,
    "start_time": "2022-10-28T15:23:19.951Z"
   },
   {
    "duration": 14,
    "start_time": "2022-10-28T15:23:26.555Z"
   },
   {
    "duration": 21,
    "start_time": "2022-10-28T15:23:31.716Z"
   },
   {
    "duration": 116,
    "start_time": "2022-10-28T15:31:32.091Z"
   },
   {
    "duration": 325,
    "start_time": "2022-10-28T15:31:41.935Z"
   },
   {
    "duration": 34,
    "start_time": "2022-10-28T15:31:48.166Z"
   },
   {
    "duration": 5,
    "start_time": "2022-10-28T15:32:43.943Z"
   },
   {
    "duration": 79,
    "start_time": "2022-10-28T15:32:52.867Z"
   },
   {
    "duration": 14,
    "start_time": "2022-10-28T15:32:52.948Z"
   },
   {
    "duration": 16,
    "start_time": "2022-10-28T15:32:52.963Z"
   },
   {
    "duration": 9,
    "start_time": "2022-10-28T15:32:52.981Z"
   },
   {
    "duration": 11,
    "start_time": "2022-10-28T15:32:52.991Z"
   },
   {
    "duration": 31,
    "start_time": "2022-10-28T15:32:53.003Z"
   },
   {
    "duration": 22,
    "start_time": "2022-10-28T15:32:53.035Z"
   },
   {
    "duration": 12,
    "start_time": "2022-10-28T15:32:53.059Z"
   },
   {
    "duration": 6,
    "start_time": "2022-10-28T15:32:53.072Z"
   },
   {
    "duration": 7,
    "start_time": "2022-10-28T15:32:53.080Z"
   },
   {
    "duration": 46,
    "start_time": "2022-10-28T15:32:53.088Z"
   },
   {
    "duration": 33,
    "start_time": "2022-10-28T15:32:53.139Z"
   },
   {
    "duration": 4,
    "start_time": "2022-10-28T15:32:53.173Z"
   },
   {
    "duration": 13,
    "start_time": "2022-10-28T15:32:53.179Z"
   },
   {
    "duration": 4,
    "start_time": "2022-10-28T15:32:53.194Z"
   },
   {
    "duration": 19,
    "start_time": "2022-10-28T15:32:53.221Z"
   },
   {
    "duration": 8,
    "start_time": "2022-10-28T15:32:53.242Z"
   },
   {
    "duration": 4,
    "start_time": "2022-10-28T15:32:53.251Z"
   },
   {
    "duration": 32,
    "start_time": "2022-10-28T15:32:53.257Z"
   },
   {
    "duration": 9,
    "start_time": "2022-10-28T15:32:53.291Z"
   },
   {
    "duration": 4,
    "start_time": "2022-10-28T15:32:53.302Z"
   },
   {
    "duration": 16,
    "start_time": "2022-10-28T15:32:53.321Z"
   },
   {
    "duration": 46,
    "start_time": "2022-10-28T15:32:53.339Z"
   },
   {
    "duration": 15,
    "start_time": "2022-10-28T15:32:53.387Z"
   },
   {
    "duration": 11,
    "start_time": "2022-10-28T15:32:53.404Z"
   },
   {
    "duration": 42,
    "start_time": "2022-10-28T15:32:53.417Z"
   },
   {
    "duration": 18,
    "start_time": "2022-10-28T15:32:53.461Z"
   },
   {
    "duration": 21,
    "start_time": "2022-10-28T15:32:53.483Z"
   },
   {
    "duration": 12,
    "start_time": "2022-10-28T15:32:53.506Z"
   },
   {
    "duration": 30,
    "start_time": "2022-10-28T15:32:53.519Z"
   },
   {
    "duration": 29,
    "start_time": "2022-10-28T15:32:53.551Z"
   },
   {
    "duration": 23,
    "start_time": "2022-10-28T15:32:53.581Z"
   },
   {
    "duration": 22,
    "start_time": "2022-10-28T15:32:53.606Z"
   },
   {
    "duration": 25,
    "start_time": "2022-10-28T15:32:53.634Z"
   },
   {
    "duration": 20,
    "start_time": "2022-10-28T15:32:53.661Z"
   },
   {
    "duration": 19,
    "start_time": "2022-10-28T15:32:53.683Z"
   },
   {
    "duration": 20,
    "start_time": "2022-10-28T15:32:53.704Z"
   },
   {
    "duration": 24,
    "start_time": "2022-10-28T15:32:53.725Z"
   },
   {
    "duration": 22,
    "start_time": "2022-10-28T15:32:53.750Z"
   },
   {
    "duration": 45,
    "start_time": "2022-10-28T15:32:53.773Z"
   },
   {
    "duration": 40,
    "start_time": "2022-10-28T15:32:53.819Z"
   },
   {
    "duration": 31,
    "start_time": "2022-10-28T15:32:53.861Z"
   },
   {
    "duration": 31,
    "start_time": "2022-10-28T15:32:53.894Z"
   },
   {
    "duration": 37,
    "start_time": "2022-10-28T15:32:53.932Z"
   },
   {
    "duration": 24,
    "start_time": "2022-10-28T15:32:53.971Z"
   },
   {
    "duration": 41,
    "start_time": "2022-10-28T15:32:53.996Z"
   },
   {
    "duration": 22,
    "start_time": "2022-10-28T15:32:54.038Z"
   },
   {
    "duration": 30,
    "start_time": "2022-10-28T15:32:54.062Z"
   },
   {
    "duration": 23,
    "start_time": "2022-10-28T15:32:54.093Z"
   },
   {
    "duration": 38,
    "start_time": "2022-10-28T15:32:54.117Z"
   },
   {
    "duration": 0,
    "start_time": "2022-10-28T15:32:54.156Z"
   },
   {
    "duration": 0,
    "start_time": "2022-10-28T15:32:54.157Z"
   },
   {
    "duration": 0,
    "start_time": "2022-10-28T15:32:54.158Z"
   },
   {
    "duration": 0,
    "start_time": "2022-10-28T15:32:54.159Z"
   },
   {
    "duration": 0,
    "start_time": "2022-10-28T15:32:54.160Z"
   },
   {
    "duration": 0,
    "start_time": "2022-10-28T15:32:54.161Z"
   },
   {
    "duration": 0,
    "start_time": "2022-10-28T15:32:54.162Z"
   },
   {
    "duration": 0,
    "start_time": "2022-10-28T15:32:54.162Z"
   },
   {
    "duration": 0,
    "start_time": "2022-10-28T15:32:54.164Z"
   },
   {
    "duration": 0,
    "start_time": "2022-10-28T15:32:54.165Z"
   },
   {
    "duration": 0,
    "start_time": "2022-10-28T15:32:54.166Z"
   },
   {
    "duration": 0,
    "start_time": "2022-10-28T15:32:54.167Z"
   },
   {
    "duration": 0,
    "start_time": "2022-10-28T15:32:54.170Z"
   },
   {
    "duration": 0,
    "start_time": "2022-10-28T15:32:54.171Z"
   },
   {
    "duration": 12,
    "start_time": "2022-10-28T15:33:01.980Z"
   },
   {
    "duration": 8,
    "start_time": "2022-10-28T15:34:13.960Z"
   },
   {
    "duration": 10,
    "start_time": "2022-10-28T15:34:48.473Z"
   },
   {
    "duration": 9,
    "start_time": "2022-10-28T15:36:54.703Z"
   },
   {
    "duration": 96,
    "start_time": "2022-10-28T15:37:01.244Z"
   },
   {
    "duration": 157,
    "start_time": "2022-10-28T15:37:17.284Z"
   },
   {
    "duration": 4,
    "start_time": "2022-10-28T16:54:33.313Z"
   },
   {
    "duration": 20,
    "start_time": "2022-10-28T18:56:11.008Z"
   },
   {
    "duration": 569,
    "start_time": "2022-10-28T18:57:37.455Z"
   },
   {
    "duration": 4,
    "start_time": "2022-10-28T18:57:50.928Z"
   },
   {
    "duration": 4,
    "start_time": "2022-10-28T18:57:52.500Z"
   },
   {
    "duration": 10,
    "start_time": "2022-10-28T18:57:58.043Z"
   },
   {
    "duration": 13,
    "start_time": "2022-10-28T18:58:37.871Z"
   },
   {
    "duration": 10,
    "start_time": "2022-10-28T19:05:08.024Z"
   },
   {
    "duration": 19,
    "start_time": "2022-10-28T19:05:37.820Z"
   },
   {
    "duration": 13,
    "start_time": "2022-10-28T19:07:51.088Z"
   },
   {
    "duration": 10,
    "start_time": "2022-10-28T19:31:41.551Z"
   },
   {
    "duration": 15,
    "start_time": "2022-10-28T19:32:06.688Z"
   },
   {
    "duration": 21,
    "start_time": "2022-10-28T19:32:16.458Z"
   },
   {
    "duration": 9,
    "start_time": "2022-10-28T19:33:35.130Z"
   },
   {
    "duration": 8,
    "start_time": "2022-10-28T20:04:02.469Z"
   },
   {
    "duration": 12,
    "start_time": "2022-10-28T20:04:07.597Z"
   },
   {
    "duration": 10,
    "start_time": "2022-10-28T20:04:40.905Z"
   },
   {
    "duration": 13,
    "start_time": "2022-10-28T20:05:05.043Z"
   },
   {
    "duration": 12,
    "start_time": "2022-10-28T20:05:23.779Z"
   },
   {
    "duration": 10,
    "start_time": "2022-10-28T20:05:43.404Z"
   },
   {
    "duration": 5,
    "start_time": "2022-10-28T20:05:52.423Z"
   },
   {
    "duration": 8,
    "start_time": "2022-10-28T20:06:14.241Z"
   },
   {
    "duration": 5,
    "start_time": "2022-10-28T20:06:46.442Z"
   },
   {
    "duration": 8,
    "start_time": "2022-10-28T20:07:03.417Z"
   },
   {
    "duration": 9,
    "start_time": "2022-10-28T20:14:02.289Z"
   },
   {
    "duration": 6,
    "start_time": "2022-10-28T20:14:25.961Z"
   },
   {
    "duration": 5,
    "start_time": "2022-10-28T20:14:33.308Z"
   },
   {
    "duration": 9,
    "start_time": "2022-10-28T20:15:15.798Z"
   },
   {
    "duration": 10,
    "start_time": "2022-10-28T20:15:38.789Z"
   },
   {
    "duration": 65,
    "start_time": "2022-10-28T20:16:10.914Z"
   },
   {
    "duration": 13,
    "start_time": "2022-10-28T20:16:10.981Z"
   },
   {
    "duration": 55,
    "start_time": "2022-10-28T20:16:10.996Z"
   },
   {
    "duration": 32,
    "start_time": "2022-10-28T20:16:11.053Z"
   },
   {
    "duration": 19,
    "start_time": "2022-10-28T20:16:11.086Z"
   },
   {
    "duration": 29,
    "start_time": "2022-10-28T20:16:11.106Z"
   },
   {
    "duration": 41,
    "start_time": "2022-10-28T20:16:11.136Z"
   },
   {
    "duration": 56,
    "start_time": "2022-10-28T20:16:11.178Z"
   },
   {
    "duration": 24,
    "start_time": "2022-10-28T20:16:11.235Z"
   },
   {
    "duration": 30,
    "start_time": "2022-10-28T20:16:11.261Z"
   },
   {
    "duration": 52,
    "start_time": "2022-10-28T20:16:11.292Z"
   },
   {
    "duration": 72,
    "start_time": "2022-10-28T20:16:11.346Z"
   },
   {
    "duration": 11,
    "start_time": "2022-10-28T20:16:11.419Z"
   },
   {
    "duration": 29,
    "start_time": "2022-10-28T20:16:11.431Z"
   },
   {
    "duration": 18,
    "start_time": "2022-10-28T20:16:11.462Z"
   },
   {
    "duration": 16,
    "start_time": "2022-10-28T20:16:11.482Z"
   },
   {
    "duration": 23,
    "start_time": "2022-10-28T20:16:11.500Z"
   },
   {
    "duration": 18,
    "start_time": "2022-10-28T20:16:11.525Z"
   },
   {
    "duration": 48,
    "start_time": "2022-10-28T20:16:11.545Z"
   },
   {
    "duration": 8,
    "start_time": "2022-10-28T20:16:11.595Z"
   },
   {
    "duration": 17,
    "start_time": "2022-10-28T20:16:11.605Z"
   },
   {
    "duration": 32,
    "start_time": "2022-10-28T20:16:11.624Z"
   },
   {
    "duration": 26,
    "start_time": "2022-10-28T20:16:11.658Z"
   },
   {
    "duration": 24,
    "start_time": "2022-10-28T20:16:11.685Z"
   },
   {
    "duration": 28,
    "start_time": "2022-10-28T20:16:11.711Z"
   },
   {
    "duration": 52,
    "start_time": "2022-10-28T20:16:11.741Z"
   },
   {
    "duration": 18,
    "start_time": "2022-10-28T20:16:11.794Z"
   },
   {
    "duration": 8,
    "start_time": "2022-10-28T20:16:11.815Z"
   },
   {
    "duration": 22,
    "start_time": "2022-10-28T20:16:11.824Z"
   },
   {
    "duration": 16,
    "start_time": "2022-10-28T20:16:11.848Z"
   },
   {
    "duration": 30,
    "start_time": "2022-10-28T20:16:11.866Z"
   },
   {
    "duration": 16,
    "start_time": "2022-10-28T20:16:11.897Z"
   },
   {
    "duration": 6,
    "start_time": "2022-10-28T20:16:11.914Z"
   },
   {
    "duration": 17,
    "start_time": "2022-10-28T20:16:11.924Z"
   },
   {
    "duration": 33,
    "start_time": "2022-10-28T20:16:11.943Z"
   },
   {
    "duration": 21,
    "start_time": "2022-10-28T20:16:11.978Z"
   },
   {
    "duration": 29,
    "start_time": "2022-10-28T20:16:12.001Z"
   },
   {
    "duration": 24,
    "start_time": "2022-10-28T20:16:12.032Z"
   },
   {
    "duration": 21,
    "start_time": "2022-10-28T20:16:12.058Z"
   },
   {
    "duration": 28,
    "start_time": "2022-10-28T20:16:12.080Z"
   },
   {
    "duration": 29,
    "start_time": "2022-10-28T20:16:12.109Z"
   },
   {
    "duration": 21,
    "start_time": "2022-10-28T20:16:12.140Z"
   },
   {
    "duration": 29,
    "start_time": "2022-10-28T20:16:12.163Z"
   },
   {
    "duration": 43,
    "start_time": "2022-10-28T20:16:12.194Z"
   },
   {
    "duration": 20,
    "start_time": "2022-10-28T20:16:12.239Z"
   },
   {
    "duration": 39,
    "start_time": "2022-10-28T20:16:12.261Z"
   },
   {
    "duration": 28,
    "start_time": "2022-10-28T20:16:12.301Z"
   },
   {
    "duration": 32,
    "start_time": "2022-10-28T20:16:12.331Z"
   },
   {
    "duration": 19,
    "start_time": "2022-10-28T20:16:12.365Z"
   },
   {
    "duration": 26,
    "start_time": "2022-10-28T20:16:12.386Z"
   },
   {
    "duration": 16,
    "start_time": "2022-10-28T20:16:12.413Z"
   },
   {
    "duration": 15,
    "start_time": "2022-10-28T20:16:12.430Z"
   },
   {
    "duration": 30,
    "start_time": "2022-10-28T20:16:12.446Z"
   },
   {
    "duration": 113,
    "start_time": "2022-10-28T20:16:12.478Z"
   },
   {
    "duration": 4,
    "start_time": "2022-10-28T20:16:12.592Z"
   },
   {
    "duration": 39,
    "start_time": "2022-10-28T20:16:12.598Z"
   },
   {
    "duration": 11,
    "start_time": "2022-10-28T20:16:12.638Z"
   },
   {
    "duration": 128,
    "start_time": "2022-10-28T20:16:12.650Z"
   },
   {
    "duration": 3,
    "start_time": "2022-10-28T20:16:12.780Z"
   },
   {
    "duration": 122,
    "start_time": "2022-10-28T20:16:12.785Z"
   },
   {
    "duration": 120,
    "start_time": "2022-10-28T20:16:12.908Z"
   },
   {
    "duration": 6,
    "start_time": "2022-10-28T20:16:13.029Z"
   },
   {
    "duration": 1123,
    "start_time": "2022-10-28T20:16:13.036Z"
   },
   {
    "duration": 0,
    "start_time": "2022-10-28T20:16:14.161Z"
   },
   {
    "duration": 0,
    "start_time": "2022-10-28T20:16:14.162Z"
   },
   {
    "duration": 0,
    "start_time": "2022-10-28T20:16:14.163Z"
   },
   {
    "duration": 0,
    "start_time": "2022-10-28T20:16:14.164Z"
   },
   {
    "duration": 66,
    "start_time": "2022-10-28T20:16:30.359Z"
   },
   {
    "duration": 15,
    "start_time": "2022-10-28T20:16:30.427Z"
   },
   {
    "duration": 25,
    "start_time": "2022-10-28T20:16:30.443Z"
   },
   {
    "duration": 38,
    "start_time": "2022-10-28T20:16:30.471Z"
   },
   {
    "duration": 33,
    "start_time": "2022-10-28T20:16:30.511Z"
   },
   {
    "duration": 44,
    "start_time": "2022-10-28T20:16:30.546Z"
   },
   {
    "duration": 25,
    "start_time": "2022-10-28T20:16:30.591Z"
   },
   {
    "duration": 32,
    "start_time": "2022-10-28T20:16:30.618Z"
   },
   {
    "duration": 22,
    "start_time": "2022-10-28T20:16:30.652Z"
   },
   {
    "duration": 14,
    "start_time": "2022-10-28T20:16:30.676Z"
   },
   {
    "duration": 14,
    "start_time": "2022-10-28T20:16:30.692Z"
   },
   {
    "duration": 34,
    "start_time": "2022-10-28T20:16:30.707Z"
   },
   {
    "duration": 3,
    "start_time": "2022-10-28T20:16:30.743Z"
   },
   {
    "duration": 27,
    "start_time": "2022-10-28T20:16:30.748Z"
   },
   {
    "duration": 15,
    "start_time": "2022-10-28T20:16:30.777Z"
   },
   {
    "duration": 18,
    "start_time": "2022-10-28T20:16:30.793Z"
   },
   {
    "duration": 27,
    "start_time": "2022-10-28T20:16:30.813Z"
   },
   {
    "duration": 34,
    "start_time": "2022-10-28T20:16:30.842Z"
   },
   {
    "duration": 57,
    "start_time": "2022-10-28T20:16:30.878Z"
   },
   {
    "duration": 12,
    "start_time": "2022-10-28T20:16:30.937Z"
   },
   {
    "duration": 20,
    "start_time": "2022-10-28T20:16:30.950Z"
   },
   {
    "duration": 32,
    "start_time": "2022-10-28T20:16:30.972Z"
   },
   {
    "duration": 38,
    "start_time": "2022-10-28T20:16:31.006Z"
   },
   {
    "duration": 18,
    "start_time": "2022-10-28T20:16:31.046Z"
   },
   {
    "duration": 4,
    "start_time": "2022-10-28T20:16:31.066Z"
   },
   {
    "duration": 28,
    "start_time": "2022-10-28T20:16:31.071Z"
   },
   {
    "duration": 40,
    "start_time": "2022-10-28T20:16:31.100Z"
   },
   {
    "duration": 8,
    "start_time": "2022-10-28T20:16:31.144Z"
   },
   {
    "duration": 47,
    "start_time": "2022-10-28T20:16:31.153Z"
   },
   {
    "duration": 20,
    "start_time": "2022-10-28T20:16:31.201Z"
   },
   {
    "duration": 30,
    "start_time": "2022-10-28T20:16:31.223Z"
   },
   {
    "duration": 23,
    "start_time": "2022-10-28T20:16:31.254Z"
   },
   {
    "duration": 7,
    "start_time": "2022-10-28T20:16:31.279Z"
   },
   {
    "duration": 14,
    "start_time": "2022-10-28T20:16:31.287Z"
   },
   {
    "duration": 11,
    "start_time": "2022-10-28T20:16:31.302Z"
   },
   {
    "duration": 9,
    "start_time": "2022-10-28T20:16:31.315Z"
   },
   {
    "duration": 6,
    "start_time": "2022-10-28T20:16:31.325Z"
   },
   {
    "duration": 14,
    "start_time": "2022-10-28T20:16:31.333Z"
   },
   {
    "duration": 22,
    "start_time": "2022-10-28T20:16:31.348Z"
   },
   {
    "duration": 28,
    "start_time": "2022-10-28T20:16:31.371Z"
   },
   {
    "duration": 22,
    "start_time": "2022-10-28T20:16:31.400Z"
   },
   {
    "duration": 37,
    "start_time": "2022-10-28T20:16:31.424Z"
   },
   {
    "duration": 36,
    "start_time": "2022-10-28T20:16:31.463Z"
   },
   {
    "duration": 31,
    "start_time": "2022-10-28T20:16:31.500Z"
   },
   {
    "duration": 22,
    "start_time": "2022-10-28T20:16:31.532Z"
   },
   {
    "duration": 27,
    "start_time": "2022-10-28T20:16:31.556Z"
   },
   {
    "duration": 40,
    "start_time": "2022-10-28T20:16:31.584Z"
   },
   {
    "duration": 19,
    "start_time": "2022-10-28T20:16:31.626Z"
   },
   {
    "duration": 13,
    "start_time": "2022-10-28T20:16:31.647Z"
   },
   {
    "duration": 31,
    "start_time": "2022-10-28T20:16:31.661Z"
   },
   {
    "duration": 16,
    "start_time": "2022-10-28T20:16:31.694Z"
   },
   {
    "duration": 22,
    "start_time": "2022-10-28T20:16:31.712Z"
   },
   {
    "duration": 16,
    "start_time": "2022-10-28T20:16:31.736Z"
   },
   {
    "duration": 123,
    "start_time": "2022-10-28T20:16:31.754Z"
   },
   {
    "duration": 4,
    "start_time": "2022-10-28T20:16:31.879Z"
   },
   {
    "duration": 34,
    "start_time": "2022-10-28T20:16:31.884Z"
   },
   {
    "duration": 21,
    "start_time": "2022-10-28T20:16:31.919Z"
   },
   {
    "duration": 171,
    "start_time": "2022-10-28T20:16:31.942Z"
   },
   {
    "duration": 7,
    "start_time": "2022-10-28T20:16:32.115Z"
   },
   {
    "duration": 124,
    "start_time": "2022-10-28T20:16:32.123Z"
   },
   {
    "duration": 130,
    "start_time": "2022-10-28T20:16:32.249Z"
   },
   {
    "duration": 6,
    "start_time": "2022-10-28T20:16:32.380Z"
   },
   {
    "duration": 1144,
    "start_time": "2022-10-28T20:16:32.388Z"
   },
   {
    "duration": 0,
    "start_time": "2022-10-28T20:16:33.534Z"
   },
   {
    "duration": 0,
    "start_time": "2022-10-28T20:16:33.535Z"
   },
   {
    "duration": 0,
    "start_time": "2022-10-28T20:16:33.536Z"
   },
   {
    "duration": 0,
    "start_time": "2022-10-28T20:16:33.537Z"
   },
   {
    "duration": 1065,
    "start_time": "2022-10-28T20:16:54.209Z"
   },
   {
    "duration": 11,
    "start_time": "2022-10-28T20:17:32.182Z"
   },
   {
    "duration": 7,
    "start_time": "2022-10-28T20:17:44.034Z"
   },
   {
    "duration": 11,
    "start_time": "2022-10-28T20:17:53.704Z"
   },
   {
    "duration": 19,
    "start_time": "2022-10-28T20:18:10.139Z"
   },
   {
    "duration": 83,
    "start_time": "2022-10-28T20:18:44.719Z"
   },
   {
    "duration": 68,
    "start_time": "2022-10-28T20:19:14.245Z"
   },
   {
    "duration": 12,
    "start_time": "2022-10-28T20:19:19.020Z"
   },
   {
    "duration": 93,
    "start_time": "2022-10-28T20:19:40.489Z"
   },
   {
    "duration": 8,
    "start_time": "2022-10-28T20:19:53.393Z"
   },
   {
    "duration": 11,
    "start_time": "2022-10-28T20:19:56.118Z"
   },
   {
    "duration": 14,
    "start_time": "2022-10-28T20:19:59.465Z"
   },
   {
    "duration": 9,
    "start_time": "2022-10-28T20:20:42.094Z"
   },
   {
    "duration": 14,
    "start_time": "2022-10-28T20:20:51.683Z"
   },
   {
    "duration": 1076,
    "start_time": "2022-10-28T20:21:23.444Z"
   },
   {
    "duration": 12,
    "start_time": "2022-10-28T20:21:34.608Z"
   },
   {
    "duration": 10,
    "start_time": "2022-10-28T20:21:42.339Z"
   },
   {
    "duration": 12,
    "start_time": "2022-10-28T20:22:00.198Z"
   },
   {
    "duration": 9,
    "start_time": "2022-10-28T20:22:06.547Z"
   },
   {
    "duration": 16,
    "start_time": "2022-10-28T20:22:56.003Z"
   },
   {
    "duration": 10,
    "start_time": "2022-10-28T20:23:44.294Z"
   },
   {
    "duration": 27,
    "start_time": "2022-10-28T20:23:57.674Z"
   },
   {
    "duration": 912,
    "start_time": "2022-10-28T20:24:31.616Z"
   },
   {
    "duration": 15,
    "start_time": "2022-10-28T20:24:55.953Z"
   },
   {
    "duration": 11,
    "start_time": "2022-10-28T20:25:07.591Z"
   },
   {
    "duration": 6,
    "start_time": "2022-10-28T20:25:19.576Z"
   },
   {
    "duration": 13,
    "start_time": "2022-10-28T20:37:04.610Z"
   },
   {
    "duration": 7,
    "start_time": "2022-10-28T20:37:24.102Z"
   },
   {
    "duration": 8,
    "start_time": "2022-10-28T20:40:26.081Z"
   },
   {
    "duration": 1439,
    "start_time": "2022-10-28T20:40:29.663Z"
   },
   {
    "duration": 1053,
    "start_time": "2022-10-28T20:41:25.900Z"
   },
   {
    "duration": 1079,
    "start_time": "2022-10-28T20:41:42.983Z"
   },
   {
    "duration": 1100,
    "start_time": "2022-10-28T20:42:01.800Z"
   },
   {
    "duration": 3,
    "start_time": "2022-10-28T20:42:16.745Z"
   },
   {
    "duration": 6,
    "start_time": "2022-10-28T20:42:26.367Z"
   },
   {
    "duration": 6,
    "start_time": "2022-10-28T20:42:28.854Z"
   },
   {
    "duration": 5,
    "start_time": "2022-10-28T20:42:30.316Z"
   },
   {
    "duration": 5,
    "start_time": "2022-10-28T20:42:31.587Z"
   },
   {
    "duration": 12,
    "start_time": "2022-10-28T20:42:33.679Z"
   },
   {
    "duration": 4,
    "start_time": "2022-10-28T21:01:53.141Z"
   },
   {
    "duration": 10,
    "start_time": "2022-10-28T21:02:11.639Z"
   },
   {
    "duration": 21,
    "start_time": "2022-10-28T21:06:13.719Z"
   },
   {
    "duration": 19,
    "start_time": "2022-10-28T21:06:37.814Z"
   },
   {
    "duration": 1173,
    "start_time": "2022-10-28T21:06:48.013Z"
   },
   {
    "duration": 25,
    "start_time": "2022-10-28T21:07:15.679Z"
   },
   {
    "duration": 28,
    "start_time": "2022-10-28T21:07:25.423Z"
   },
   {
    "duration": 27,
    "start_time": "2022-10-28T21:07:34.576Z"
   },
   {
    "duration": 1098,
    "start_time": "2022-10-28T21:07:50.226Z"
   },
   {
    "duration": 22,
    "start_time": "2022-10-28T21:08:01.987Z"
   },
   {
    "duration": 21,
    "start_time": "2022-10-28T21:08:10.559Z"
   },
   {
    "duration": 8,
    "start_time": "2022-10-28T21:08:23.408Z"
   },
   {
    "duration": 21,
    "start_time": "2022-10-28T21:08:37.704Z"
   },
   {
    "duration": 978,
    "start_time": "2022-10-28T21:09:23.709Z"
   },
   {
    "duration": 17,
    "start_time": "2022-10-28T21:09:52.607Z"
   },
   {
    "duration": 8,
    "start_time": "2022-10-28T21:10:23.310Z"
   },
   {
    "duration": 5,
    "start_time": "2022-10-28T21:10:39.642Z"
   },
   {
    "duration": 8,
    "start_time": "2022-10-28T21:12:50.460Z"
   },
   {
    "duration": 8,
    "start_time": "2022-10-28T21:12:57.607Z"
   },
   {
    "duration": 18,
    "start_time": "2022-10-28T21:20:15.975Z"
   },
   {
    "duration": 18,
    "start_time": "2022-10-28T21:21:37.281Z"
   },
   {
    "duration": 16,
    "start_time": "2022-10-28T22:26:34.120Z"
   },
   {
    "duration": 10,
    "start_time": "2022-10-28T22:27:09.857Z"
   },
   {
    "duration": 5,
    "start_time": "2022-10-28T22:29:13.491Z"
   },
   {
    "duration": 4,
    "start_time": "2022-10-28T22:29:29.991Z"
   },
   {
    "duration": 10,
    "start_time": "2022-10-28T22:43:39.921Z"
   },
   {
    "duration": 92,
    "start_time": "2022-10-28T22:45:16.819Z"
   },
   {
    "duration": 110,
    "start_time": "2022-10-28T22:45:26.266Z"
   },
   {
    "duration": 13,
    "start_time": "2022-10-28T22:49:07.835Z"
   },
   {
    "duration": 12,
    "start_time": "2022-10-28T22:50:44.002Z"
   },
   {
    "duration": 5,
    "start_time": "2022-10-28T23:01:03.722Z"
   },
   {
    "duration": 4,
    "start_time": "2022-10-28T23:01:15.932Z"
   },
   {
    "duration": 8,
    "start_time": "2022-10-28T23:01:30.063Z"
   },
   {
    "duration": 4,
    "start_time": "2022-10-28T23:01:39.447Z"
   },
   {
    "duration": 3,
    "start_time": "2022-10-28T23:04:09.191Z"
   },
   {
    "duration": 3,
    "start_time": "2022-10-28T23:04:20.200Z"
   },
   {
    "duration": 3,
    "start_time": "2022-10-28T23:04:28.318Z"
   },
   {
    "duration": 5,
    "start_time": "2022-10-28T23:05:01.089Z"
   },
   {
    "duration": 3,
    "start_time": "2022-10-28T23:05:12.968Z"
   },
   {
    "duration": 102,
    "start_time": "2022-10-28T23:08:23.378Z"
   },
   {
    "duration": 15,
    "start_time": "2022-10-28T23:08:45.998Z"
   },
   {
    "duration": 12,
    "start_time": "2022-10-28T23:10:23.939Z"
   },
   {
    "duration": 13,
    "start_time": "2022-10-28T23:10:55.812Z"
   },
   {
    "duration": 10,
    "start_time": "2022-10-28T23:11:44.921Z"
   },
   {
    "duration": 6,
    "start_time": "2022-10-28T23:13:15.899Z"
   },
   {
    "duration": 10,
    "start_time": "2022-10-28T23:14:15.446Z"
   },
   {
    "duration": 10,
    "start_time": "2022-10-28T23:14:24.744Z"
   },
   {
    "duration": 116,
    "start_time": "2022-10-28T23:14:45.618Z"
   },
   {
    "duration": 113,
    "start_time": "2022-10-28T23:14:57.815Z"
   },
   {
    "duration": 105,
    "start_time": "2022-10-28T23:15:15.745Z"
   },
   {
    "duration": 105,
    "start_time": "2022-10-28T23:15:47.556Z"
   },
   {
    "duration": 107,
    "start_time": "2022-10-28T23:16:02.061Z"
   },
   {
    "duration": 14,
    "start_time": "2022-10-28T23:22:00.301Z"
   },
   {
    "duration": 10,
    "start_time": "2022-10-28T23:22:47.883Z"
   },
   {
    "duration": 5,
    "start_time": "2022-10-28T23:32:21.363Z"
   },
   {
    "duration": 11,
    "start_time": "2022-10-28T23:32:57.789Z"
   },
   {
    "duration": 16,
    "start_time": "2022-10-28T23:46:12.576Z"
   },
   {
    "duration": 4,
    "start_time": "2022-10-28T23:46:16.134Z"
   },
   {
    "duration": 11,
    "start_time": "2022-10-28T23:46:18.040Z"
   },
   {
    "duration": 96,
    "start_time": "2022-10-28T23:46:19.698Z"
   },
   {
    "duration": 12,
    "start_time": "2022-10-28T23:46:21.998Z"
   },
   {
    "duration": 10,
    "start_time": "2022-10-28T23:46:25.548Z"
   },
   {
    "duration": 109,
    "start_time": "2022-10-28T23:46:27.124Z"
   },
   {
    "duration": 13,
    "start_time": "2022-10-28T23:46:31.096Z"
   },
   {
    "duration": 107,
    "start_time": "2022-10-28T23:46:33.278Z"
   },
   {
    "duration": 119,
    "start_time": "2022-10-28T23:46:51.197Z"
   },
   {
    "duration": 26,
    "start_time": "2022-10-29T00:04:57.745Z"
   },
   {
    "duration": 183,
    "start_time": "2022-10-29T00:09:18.892Z"
   },
   {
    "duration": 52,
    "start_time": "2022-10-29T11:04:20.346Z"
   },
   {
    "duration": 591,
    "start_time": "2022-10-29T11:04:28.182Z"
   },
   {
    "duration": 24,
    "start_time": "2022-10-29T11:04:28.775Z"
   },
   {
    "duration": 16,
    "start_time": "2022-10-29T11:04:28.801Z"
   },
   {
    "duration": 17,
    "start_time": "2022-10-29T11:04:28.820Z"
   },
   {
    "duration": 7,
    "start_time": "2022-10-29T11:04:28.839Z"
   },
   {
    "duration": 21,
    "start_time": "2022-10-29T11:04:28.847Z"
   },
   {
    "duration": 15,
    "start_time": "2022-10-29T11:04:28.869Z"
   },
   {
    "duration": 50,
    "start_time": "2022-10-29T11:04:28.886Z"
   },
   {
    "duration": 9,
    "start_time": "2022-10-29T11:04:28.939Z"
   },
   {
    "duration": 7,
    "start_time": "2022-10-29T11:04:28.951Z"
   },
   {
    "duration": 9,
    "start_time": "2022-10-29T11:04:28.960Z"
   },
   {
    "duration": 74,
    "start_time": "2022-10-29T11:04:28.970Z"
   },
   {
    "duration": 4,
    "start_time": "2022-10-29T11:04:29.047Z"
   },
   {
    "duration": 12,
    "start_time": "2022-10-29T11:04:29.052Z"
   },
   {
    "duration": 5,
    "start_time": "2022-10-29T11:04:29.066Z"
   },
   {
    "duration": 7,
    "start_time": "2022-10-29T11:04:29.073Z"
   },
   {
    "duration": 6,
    "start_time": "2022-10-29T11:04:29.082Z"
   },
   {
    "duration": 39,
    "start_time": "2022-10-29T11:04:29.090Z"
   },
   {
    "duration": 44,
    "start_time": "2022-10-29T11:04:29.130Z"
   },
   {
    "duration": 10,
    "start_time": "2022-10-29T11:04:29.176Z"
   },
   {
    "duration": 4,
    "start_time": "2022-10-29T11:04:29.188Z"
   },
   {
    "duration": 45,
    "start_time": "2022-10-29T11:04:29.194Z"
   },
   {
    "duration": 21,
    "start_time": "2022-10-29T11:04:29.242Z"
   },
   {
    "duration": 19,
    "start_time": "2022-10-29T11:04:29.265Z"
   },
   {
    "duration": 7,
    "start_time": "2022-10-29T11:04:29.286Z"
   },
   {
    "duration": 51,
    "start_time": "2022-10-29T11:04:29.295Z"
   },
   {
    "duration": 8,
    "start_time": "2022-10-29T11:04:29.348Z"
   },
   {
    "duration": 4,
    "start_time": "2022-10-29T11:04:29.360Z"
   },
   {
    "duration": 15,
    "start_time": "2022-10-29T11:04:29.365Z"
   },
   {
    "duration": 16,
    "start_time": "2022-10-29T11:04:29.382Z"
   },
   {
    "duration": 40,
    "start_time": "2022-10-29T11:04:29.400Z"
   },
   {
    "duration": 28,
    "start_time": "2022-10-29T11:04:29.443Z"
   },
   {
    "duration": 4,
    "start_time": "2022-10-29T11:04:29.473Z"
   },
   {
    "duration": 8,
    "start_time": "2022-10-29T11:04:29.479Z"
   },
   {
    "duration": 48,
    "start_time": "2022-10-29T11:04:29.489Z"
   },
   {
    "duration": 11,
    "start_time": "2022-10-29T11:04:29.540Z"
   },
   {
    "duration": 7,
    "start_time": "2022-10-29T11:04:29.553Z"
   },
   {
    "duration": 5,
    "start_time": "2022-10-29T11:04:29.562Z"
   },
   {
    "duration": 6,
    "start_time": "2022-10-29T11:04:29.568Z"
   },
   {
    "duration": 9,
    "start_time": "2022-10-29T11:04:29.575Z"
   },
   {
    "duration": 44,
    "start_time": "2022-10-29T11:04:29.586Z"
   },
   {
    "duration": 15,
    "start_time": "2022-10-29T11:04:29.637Z"
   },
   {
    "duration": 6,
    "start_time": "2022-10-29T11:04:29.654Z"
   },
   {
    "duration": 12,
    "start_time": "2022-10-29T11:04:29.661Z"
   },
   {
    "duration": 5,
    "start_time": "2022-10-29T11:04:29.675Z"
   },
   {
    "duration": 7,
    "start_time": "2022-10-29T11:04:29.682Z"
   },
   {
    "duration": 41,
    "start_time": "2022-10-29T11:04:29.690Z"
   },
   {
    "duration": 9,
    "start_time": "2022-10-29T11:04:29.734Z"
   },
   {
    "duration": 5,
    "start_time": "2022-10-29T11:04:29.745Z"
   },
   {
    "duration": 12,
    "start_time": "2022-10-29T11:04:29.752Z"
   },
   {
    "duration": 11,
    "start_time": "2022-10-29T11:04:29.765Z"
   },
   {
    "duration": 55,
    "start_time": "2022-10-29T11:04:29.777Z"
   },
   {
    "duration": 78,
    "start_time": "2022-10-29T11:04:29.835Z"
   },
   {
    "duration": 0,
    "start_time": "2022-10-29T11:04:29.915Z"
   },
   {
    "duration": 0,
    "start_time": "2022-10-29T11:04:29.916Z"
   },
   {
    "duration": 0,
    "start_time": "2022-10-29T11:04:29.917Z"
   },
   {
    "duration": 0,
    "start_time": "2022-10-29T11:04:29.919Z"
   },
   {
    "duration": 0,
    "start_time": "2022-10-29T11:04:29.920Z"
   },
   {
    "duration": 0,
    "start_time": "2022-10-29T11:04:29.921Z"
   },
   {
    "duration": 0,
    "start_time": "2022-10-29T11:04:29.922Z"
   },
   {
    "duration": 0,
    "start_time": "2022-10-29T11:04:29.924Z"
   },
   {
    "duration": 0,
    "start_time": "2022-10-29T11:04:29.925Z"
   },
   {
    "duration": 0,
    "start_time": "2022-10-29T11:04:29.926Z"
   },
   {
    "duration": 0,
    "start_time": "2022-10-29T11:04:29.927Z"
   },
   {
    "duration": 0,
    "start_time": "2022-10-29T11:04:29.929Z"
   },
   {
    "duration": 0,
    "start_time": "2022-10-29T11:04:29.931Z"
   },
   {
    "duration": 0,
    "start_time": "2022-10-29T11:04:29.932Z"
   },
   {
    "duration": 0,
    "start_time": "2022-10-29T11:04:29.933Z"
   },
   {
    "duration": 3,
    "start_time": "2022-10-29T11:04:29.935Z"
   },
   {
    "duration": 0,
    "start_time": "2022-10-29T11:04:29.940Z"
   },
   {
    "duration": 0,
    "start_time": "2022-10-29T11:04:29.941Z"
   },
   {
    "duration": 0,
    "start_time": "2022-10-29T11:04:29.943Z"
   },
   {
    "duration": 558,
    "start_time": "2022-10-29T11:04:51.974Z"
   },
   {
    "duration": 28,
    "start_time": "2022-10-29T11:04:52.535Z"
   },
   {
    "duration": 18,
    "start_time": "2022-10-29T11:04:52.565Z"
   },
   {
    "duration": 39,
    "start_time": "2022-10-29T11:04:52.586Z"
   },
   {
    "duration": 13,
    "start_time": "2022-10-29T11:04:52.627Z"
   },
   {
    "duration": 18,
    "start_time": "2022-10-29T11:04:52.642Z"
   },
   {
    "duration": 14,
    "start_time": "2022-10-29T11:04:52.661Z"
   },
   {
    "duration": 14,
    "start_time": "2022-10-29T11:04:52.677Z"
   },
   {
    "duration": 40,
    "start_time": "2022-10-29T11:04:52.692Z"
   },
   {
    "duration": 10,
    "start_time": "2022-10-29T11:04:52.737Z"
   },
   {
    "duration": 10,
    "start_time": "2022-10-29T11:04:52.748Z"
   },
   {
    "duration": 74,
    "start_time": "2022-10-29T11:04:52.760Z"
   },
   {
    "duration": 5,
    "start_time": "2022-10-29T11:04:52.836Z"
   },
   {
    "duration": 18,
    "start_time": "2022-10-29T11:04:52.842Z"
   },
   {
    "duration": 6,
    "start_time": "2022-10-29T11:04:52.863Z"
   },
   {
    "duration": 9,
    "start_time": "2022-10-29T11:04:52.872Z"
   },
   {
    "duration": 35,
    "start_time": "2022-10-29T11:04:52.883Z"
   },
   {
    "duration": 9,
    "start_time": "2022-10-29T11:04:52.920Z"
   },
   {
    "duration": 47,
    "start_time": "2022-10-29T11:04:52.932Z"
   },
   {
    "duration": 11,
    "start_time": "2022-10-29T11:04:52.981Z"
   },
   {
    "duration": 30,
    "start_time": "2022-10-29T11:04:52.994Z"
   },
   {
    "duration": 20,
    "start_time": "2022-10-29T11:04:53.026Z"
   },
   {
    "duration": 27,
    "start_time": "2022-10-29T11:04:53.048Z"
   },
   {
    "duration": 20,
    "start_time": "2022-10-29T11:04:53.077Z"
   },
   {
    "duration": 26,
    "start_time": "2022-10-29T11:04:53.099Z"
   },
   {
    "duration": 38,
    "start_time": "2022-10-29T11:04:53.128Z"
   },
   {
    "duration": 20,
    "start_time": "2022-10-29T11:04:53.168Z"
   },
   {
    "duration": 11,
    "start_time": "2022-10-29T11:04:53.193Z"
   },
   {
    "duration": 13,
    "start_time": "2022-10-29T11:04:53.206Z"
   },
   {
    "duration": 12,
    "start_time": "2022-10-29T11:04:53.221Z"
   },
   {
    "duration": 19,
    "start_time": "2022-10-29T11:04:53.236Z"
   },
   {
    "duration": 17,
    "start_time": "2022-10-29T11:04:53.257Z"
   },
   {
    "duration": 4,
    "start_time": "2022-10-29T11:04:53.276Z"
   },
   {
    "duration": 8,
    "start_time": "2022-10-29T11:04:53.281Z"
   },
   {
    "duration": 44,
    "start_time": "2022-10-29T11:04:53.290Z"
   },
   {
    "duration": 11,
    "start_time": "2022-10-29T11:04:53.336Z"
   },
   {
    "duration": 6,
    "start_time": "2022-10-29T11:04:53.349Z"
   },
   {
    "duration": 6,
    "start_time": "2022-10-29T11:04:53.357Z"
   },
   {
    "duration": 6,
    "start_time": "2022-10-29T11:04:53.364Z"
   },
   {
    "duration": 12,
    "start_time": "2022-10-29T11:04:53.371Z"
   },
   {
    "duration": 8,
    "start_time": "2022-10-29T11:04:53.438Z"
   },
   {
    "duration": 13,
    "start_time": "2022-10-29T11:04:53.448Z"
   },
   {
    "duration": 10,
    "start_time": "2022-10-29T11:04:53.463Z"
   },
   {
    "duration": 12,
    "start_time": "2022-10-29T11:04:53.475Z"
   },
   {
    "duration": 9,
    "start_time": "2022-10-29T11:04:53.489Z"
   },
   {
    "duration": 28,
    "start_time": "2022-10-29T11:04:53.500Z"
   },
   {
    "duration": 15,
    "start_time": "2022-10-29T11:04:53.530Z"
   },
   {
    "duration": 6,
    "start_time": "2022-10-29T11:04:53.547Z"
   },
   {
    "duration": 13,
    "start_time": "2022-10-29T11:04:53.554Z"
   },
   {
    "duration": 13,
    "start_time": "2022-10-29T11:04:53.568Z"
   },
   {
    "duration": 13,
    "start_time": "2022-10-29T11:04:53.583Z"
   },
   {
    "duration": 48,
    "start_time": "2022-10-29T11:04:53.598Z"
   },
   {
    "duration": 81,
    "start_time": "2022-10-29T11:04:53.649Z"
   },
   {
    "duration": 0,
    "start_time": "2022-10-29T11:04:53.733Z"
   },
   {
    "duration": 0,
    "start_time": "2022-10-29T11:04:53.735Z"
   },
   {
    "duration": 0,
    "start_time": "2022-10-29T11:04:53.737Z"
   },
   {
    "duration": 0,
    "start_time": "2022-10-29T11:04:53.738Z"
   },
   {
    "duration": 0,
    "start_time": "2022-10-29T11:04:53.740Z"
   },
   {
    "duration": 0,
    "start_time": "2022-10-29T11:04:53.742Z"
   },
   {
    "duration": 0,
    "start_time": "2022-10-29T11:04:53.743Z"
   },
   {
    "duration": 0,
    "start_time": "2022-10-29T11:04:53.744Z"
   },
   {
    "duration": 0,
    "start_time": "2022-10-29T11:04:53.746Z"
   },
   {
    "duration": 0,
    "start_time": "2022-10-29T11:04:53.748Z"
   },
   {
    "duration": 0,
    "start_time": "2022-10-29T11:04:53.749Z"
   },
   {
    "duration": 0,
    "start_time": "2022-10-29T11:04:53.750Z"
   },
   {
    "duration": 0,
    "start_time": "2022-10-29T11:04:53.752Z"
   },
   {
    "duration": 0,
    "start_time": "2022-10-29T11:04:53.753Z"
   },
   {
    "duration": 0,
    "start_time": "2022-10-29T11:04:53.754Z"
   },
   {
    "duration": 0,
    "start_time": "2022-10-29T11:04:53.755Z"
   },
   {
    "duration": 0,
    "start_time": "2022-10-29T11:04:53.756Z"
   },
   {
    "duration": 0,
    "start_time": "2022-10-29T11:04:53.757Z"
   },
   {
    "duration": 0,
    "start_time": "2022-10-29T11:04:53.757Z"
   },
   {
    "duration": 598,
    "start_time": "2022-10-29T11:05:13.220Z"
   },
   {
    "duration": 35,
    "start_time": "2022-10-29T11:05:13.820Z"
   },
   {
    "duration": 18,
    "start_time": "2022-10-29T11:05:13.857Z"
   },
   {
    "duration": 10,
    "start_time": "2022-10-29T11:05:13.878Z"
   },
   {
    "duration": 7,
    "start_time": "2022-10-29T11:05:13.890Z"
   },
   {
    "duration": 46,
    "start_time": "2022-10-29T11:05:13.899Z"
   },
   {
    "duration": 14,
    "start_time": "2022-10-29T11:05:13.948Z"
   },
   {
    "duration": 16,
    "start_time": "2022-10-29T11:05:13.964Z"
   },
   {
    "duration": 9,
    "start_time": "2022-10-29T11:05:13.981Z"
   },
   {
    "duration": 12,
    "start_time": "2022-10-29T11:05:14.023Z"
   },
   {
    "duration": 10,
    "start_time": "2022-10-29T11:05:14.038Z"
   },
   {
    "duration": 39,
    "start_time": "2022-10-29T11:05:14.050Z"
   },
   {
    "duration": 34,
    "start_time": "2022-10-29T11:05:14.091Z"
   },
   {
    "duration": 13,
    "start_time": "2022-10-29T11:05:14.127Z"
   },
   {
    "duration": 6,
    "start_time": "2022-10-29T11:05:14.143Z"
   },
   {
    "duration": 8,
    "start_time": "2022-10-29T11:05:14.151Z"
   },
   {
    "duration": 8,
    "start_time": "2022-10-29T11:05:14.161Z"
   },
   {
    "duration": 6,
    "start_time": "2022-10-29T11:05:14.171Z"
   },
   {
    "duration": 86,
    "start_time": "2022-10-29T11:05:14.179Z"
   },
   {
    "duration": 12,
    "start_time": "2022-10-29T11:05:14.267Z"
   },
   {
    "duration": 5,
    "start_time": "2022-10-29T11:05:14.280Z"
   },
   {
    "duration": 14,
    "start_time": "2022-10-29T11:05:14.287Z"
   },
   {
    "duration": 32,
    "start_time": "2022-10-29T11:05:14.324Z"
   },
   {
    "duration": 19,
    "start_time": "2022-10-29T11:05:14.358Z"
   },
   {
    "duration": 4,
    "start_time": "2022-10-29T11:05:14.379Z"
   },
   {
    "duration": 14,
    "start_time": "2022-10-29T11:05:14.384Z"
   },
   {
    "duration": 9,
    "start_time": "2022-10-29T11:05:14.425Z"
   },
   {
    "duration": 8,
    "start_time": "2022-10-29T11:05:14.440Z"
   },
   {
    "duration": 15,
    "start_time": "2022-10-29T11:05:14.450Z"
   },
   {
    "duration": 5,
    "start_time": "2022-10-29T11:05:14.467Z"
   },
   {
    "duration": 18,
    "start_time": "2022-10-29T11:05:14.474Z"
   },
   {
    "duration": 27,
    "start_time": "2022-10-29T11:05:14.525Z"
   },
   {
    "duration": 5,
    "start_time": "2022-10-29T11:05:14.554Z"
   },
   {
    "duration": 7,
    "start_time": "2022-10-29T11:05:14.562Z"
   },
   {
    "duration": 10,
    "start_time": "2022-10-29T11:05:14.571Z"
   },
   {
    "duration": 48,
    "start_time": "2022-10-29T11:05:14.583Z"
   },
   {
    "duration": 10,
    "start_time": "2022-10-29T11:05:14.634Z"
   },
   {
    "duration": 7,
    "start_time": "2022-10-29T11:05:14.645Z"
   },
   {
    "duration": 7,
    "start_time": "2022-10-29T11:05:14.654Z"
   },
   {
    "duration": 10,
    "start_time": "2022-10-29T11:05:14.663Z"
   },
   {
    "duration": 8,
    "start_time": "2022-10-29T11:05:14.675Z"
   },
   {
    "duration": 23,
    "start_time": "2022-10-29T11:05:14.725Z"
   },
   {
    "duration": 7,
    "start_time": "2022-10-29T11:05:14.750Z"
   },
   {
    "duration": 11,
    "start_time": "2022-10-29T11:05:14.758Z"
   },
   {
    "duration": 5,
    "start_time": "2022-10-29T11:05:14.771Z"
   },
   {
    "duration": 8,
    "start_time": "2022-10-29T11:05:14.778Z"
   },
   {
    "duration": 49,
    "start_time": "2022-10-29T11:05:14.788Z"
   },
   {
    "duration": 9,
    "start_time": "2022-10-29T11:05:14.839Z"
   },
   {
    "duration": 6,
    "start_time": "2022-10-29T11:05:14.849Z"
   },
   {
    "duration": 12,
    "start_time": "2022-10-29T11:05:14.857Z"
   },
   {
    "duration": 12,
    "start_time": "2022-10-29T11:05:14.871Z"
   },
   {
    "duration": 62,
    "start_time": "2022-10-29T11:05:14.885Z"
   },
   {
    "duration": 3,
    "start_time": "2022-10-29T11:05:14.949Z"
   },
   {
    "duration": 20,
    "start_time": "2022-10-29T11:05:14.953Z"
   },
   {
    "duration": 5,
    "start_time": "2022-10-29T11:05:14.974Z"
   },
   {
    "duration": 62,
    "start_time": "2022-10-29T11:05:14.981Z"
   },
   {
    "duration": 715,
    "start_time": "2022-10-29T11:05:15.045Z"
   },
   {
    "duration": 14,
    "start_time": "2022-10-29T11:05:15.763Z"
   },
   {
    "duration": 172,
    "start_time": "2022-10-29T11:05:15.778Z"
   },
   {
    "duration": 13,
    "start_time": "2022-10-29T11:05:15.952Z"
   },
   {
    "duration": 11,
    "start_time": "2022-10-29T11:05:15.967Z"
   },
   {
    "duration": 193,
    "start_time": "2022-10-29T11:05:15.980Z"
   },
   {
    "duration": 12,
    "start_time": "2022-10-29T11:05:16.174Z"
   },
   {
    "duration": 151,
    "start_time": "2022-10-29T11:05:16.188Z"
   },
   {
    "duration": 259,
    "start_time": "2022-10-29T11:05:16.342Z"
   },
   {
    "duration": 8,
    "start_time": "2022-10-29T11:05:16.603Z"
   },
   {
    "duration": 7,
    "start_time": "2022-10-29T11:05:16.613Z"
   },
   {
    "duration": 11,
    "start_time": "2022-10-29T11:05:16.624Z"
   },
   {
    "duration": 7,
    "start_time": "2022-10-29T11:05:16.638Z"
   },
   {
    "duration": 7,
    "start_time": "2022-10-29T11:05:16.647Z"
   },
   {
    "duration": 13,
    "start_time": "2022-10-29T11:05:16.655Z"
   },
   {
    "duration": 17,
    "start_time": "2022-10-29T11:05:16.670Z"
   },
   {
    "duration": 5,
    "start_time": "2022-10-29T11:06:18.493Z"
   },
   {
    "duration": 11,
    "start_time": "2022-10-29T11:06:23.630Z"
   },
   {
    "duration": 82,
    "start_time": "2022-10-29T11:06:46.540Z"
   },
   {
    "duration": 8,
    "start_time": "2022-10-29T11:08:00.882Z"
   },
   {
    "duration": 13,
    "start_time": "2022-10-29T11:08:25.841Z"
   },
   {
    "duration": 16,
    "start_time": "2022-10-29T11:08:54.875Z"
   },
   {
    "duration": 12,
    "start_time": "2022-10-29T11:09:23.069Z"
   },
   {
    "duration": 84,
    "start_time": "2022-10-29T11:10:15.372Z"
   },
   {
    "duration": 80,
    "start_time": "2022-10-29T11:10:25.743Z"
   },
   {
    "duration": 9,
    "start_time": "2022-10-29T11:10:37.356Z"
   },
   {
    "duration": 9,
    "start_time": "2022-10-29T11:10:57.976Z"
   },
   {
    "duration": 10,
    "start_time": "2022-10-29T11:11:02.951Z"
   },
   {
    "duration": 9,
    "start_time": "2022-10-29T11:11:49.441Z"
   },
   {
    "duration": 7,
    "start_time": "2022-10-29T11:12:04.016Z"
   },
   {
    "duration": 12,
    "start_time": "2022-10-29T11:12:15.768Z"
   },
   {
    "duration": 8,
    "start_time": "2022-10-29T11:12:38.509Z"
   },
   {
    "duration": 11,
    "start_time": "2022-10-29T11:14:04.078Z"
   },
   {
    "duration": 12,
    "start_time": "2022-10-29T11:14:40.871Z"
   },
   {
    "duration": 9,
    "start_time": "2022-10-29T11:14:59.472Z"
   },
   {
    "duration": 75,
    "start_time": "2022-10-29T11:15:12.054Z"
   },
   {
    "duration": 10,
    "start_time": "2022-10-29T11:15:55.937Z"
   },
   {
    "duration": 25,
    "start_time": "2022-10-29T11:17:29.028Z"
   },
   {
    "duration": 35,
    "start_time": "2022-10-29T11:17:37.030Z"
   },
   {
    "duration": 99,
    "start_time": "2022-10-29T11:18:01.703Z"
   },
   {
    "duration": 47,
    "start_time": "2022-10-29T11:18:26.439Z"
   },
   {
    "duration": 36,
    "start_time": "2022-10-29T11:19:03.783Z"
   },
   {
    "duration": 36,
    "start_time": "2022-10-29T11:19:25.450Z"
   },
   {
    "duration": 53,
    "start_time": "2022-10-29T11:19:45.630Z"
   },
   {
    "duration": 47,
    "start_time": "2022-10-29T11:20:01.985Z"
   },
   {
    "duration": 0,
    "start_time": "2022-10-29T11:20:10.418Z"
   },
   {
    "duration": 0,
    "start_time": "2022-10-29T11:20:23.475Z"
   },
   {
    "duration": 35,
    "start_time": "2022-10-29T11:20:43.981Z"
   },
   {
    "duration": 21,
    "start_time": "2022-10-29T11:20:55.940Z"
   },
   {
    "duration": 26,
    "start_time": "2022-10-29T11:21:16.803Z"
   },
   {
    "duration": 25,
    "start_time": "2022-10-29T11:21:51.765Z"
   },
   {
    "duration": 29,
    "start_time": "2022-10-29T11:22:22.790Z"
   },
   {
    "duration": 32,
    "start_time": "2022-10-29T11:22:55.302Z"
   },
   {
    "duration": 48,
    "start_time": "2022-10-29T11:23:20.213Z"
   },
   {
    "duration": 40,
    "start_time": "2022-10-29T11:23:50.216Z"
   },
   {
    "duration": 1449,
    "start_time": "2022-10-29T11:24:52.592Z"
   },
   {
    "duration": 23,
    "start_time": "2022-10-29T11:25:02.466Z"
   },
   {
    "duration": 28,
    "start_time": "2022-10-29T11:25:21.204Z"
   },
   {
    "duration": 22,
    "start_time": "2022-10-29T11:25:36.484Z"
   },
   {
    "duration": 36,
    "start_time": "2022-10-29T11:25:53.099Z"
   },
   {
    "duration": 23,
    "start_time": "2022-10-29T11:26:03.551Z"
   },
   {
    "duration": 27,
    "start_time": "2022-10-29T11:26:11.591Z"
   },
   {
    "duration": 63,
    "start_time": "2022-10-29T11:26:55.688Z"
   },
   {
    "duration": 78,
    "start_time": "2022-10-29T11:27:01.814Z"
   },
   {
    "duration": 52,
    "start_time": "2022-10-29T11:27:12.821Z"
   },
   {
    "duration": 14,
    "start_time": "2022-10-29T11:58:31.891Z"
   },
   {
    "duration": 9,
    "start_time": "2022-10-29T23:23:16.889Z"
   },
   {
    "duration": 4,
    "start_time": "2022-10-29T23:25:01.958Z"
   },
   {
    "duration": 47,
    "start_time": "2022-10-29T23:25:04.146Z"
   },
   {
    "duration": 1213,
    "start_time": "2022-10-29T23:25:14.269Z"
   },
   {
    "duration": 36,
    "start_time": "2022-10-29T23:25:15.484Z"
   },
   {
    "duration": 27,
    "start_time": "2022-10-29T23:25:15.522Z"
   },
   {
    "duration": 14,
    "start_time": "2022-10-29T23:25:15.554Z"
   },
   {
    "duration": 25,
    "start_time": "2022-10-29T23:25:15.570Z"
   },
   {
    "duration": 29,
    "start_time": "2022-10-29T23:25:15.596Z"
   },
   {
    "duration": 21,
    "start_time": "2022-10-29T23:25:15.627Z"
   },
   {
    "duration": 20,
    "start_time": "2022-10-29T23:25:15.654Z"
   },
   {
    "duration": 11,
    "start_time": "2022-10-29T23:25:15.676Z"
   },
   {
    "duration": 11,
    "start_time": "2022-10-29T23:25:15.691Z"
   },
   {
    "duration": 17,
    "start_time": "2022-10-29T23:25:15.704Z"
   },
   {
    "duration": 52,
    "start_time": "2022-10-29T23:25:15.754Z"
   },
   {
    "duration": 5,
    "start_time": "2022-10-29T23:25:15.809Z"
   },
   {
    "duration": 30,
    "start_time": "2022-10-29T23:25:15.816Z"
   },
   {
    "duration": 11,
    "start_time": "2022-10-29T23:25:15.853Z"
   },
   {
    "duration": 15,
    "start_time": "2022-10-29T23:25:15.866Z"
   },
   {
    "duration": 9,
    "start_time": "2022-10-29T23:25:15.884Z"
   },
   {
    "duration": 17,
    "start_time": "2022-10-29T23:25:15.895Z"
   },
   {
    "duration": 49,
    "start_time": "2022-10-29T23:25:15.916Z"
   },
   {
    "duration": 11,
    "start_time": "2022-10-29T23:25:15.967Z"
   },
   {
    "duration": 13,
    "start_time": "2022-10-29T23:25:15.979Z"
   },
   {
    "duration": 38,
    "start_time": "2022-10-29T23:25:15.994Z"
   },
   {
    "duration": 42,
    "start_time": "2022-10-29T23:25:16.035Z"
   },
   {
    "duration": 28,
    "start_time": "2022-10-29T23:25:16.079Z"
   },
   {
    "duration": 5,
    "start_time": "2022-10-29T23:25:16.109Z"
   },
   {
    "duration": 33,
    "start_time": "2022-10-29T23:25:16.116Z"
   },
   {
    "duration": 24,
    "start_time": "2022-10-29T23:25:16.151Z"
   },
   {
    "duration": 11,
    "start_time": "2022-10-29T23:25:16.179Z"
   },
   {
    "duration": 31,
    "start_time": "2022-10-29T23:25:16.191Z"
   },
   {
    "duration": 25,
    "start_time": "2022-10-29T23:25:16.224Z"
   },
   {
    "duration": 29,
    "start_time": "2022-10-29T23:25:16.252Z"
   },
   {
    "duration": 25,
    "start_time": "2022-10-29T23:25:16.284Z"
   },
   {
    "duration": 20,
    "start_time": "2022-10-29T23:25:16.311Z"
   },
   {
    "duration": 13,
    "start_time": "2022-10-29T23:25:16.333Z"
   },
   {
    "duration": 25,
    "start_time": "2022-10-29T23:25:16.355Z"
   },
   {
    "duration": 12,
    "start_time": "2022-10-29T23:25:16.383Z"
   },
   {
    "duration": 20,
    "start_time": "2022-10-29T23:25:16.398Z"
   },
   {
    "duration": 12,
    "start_time": "2022-10-29T23:25:16.420Z"
   },
   {
    "duration": 19,
    "start_time": "2022-10-29T23:25:16.434Z"
   },
   {
    "duration": 15,
    "start_time": "2022-10-29T23:25:16.455Z"
   },
   {
    "duration": 7,
    "start_time": "2022-10-29T23:25:16.472Z"
   },
   {
    "duration": 16,
    "start_time": "2022-10-29T23:25:16.481Z"
   },
   {
    "duration": 7,
    "start_time": "2022-10-29T23:25:16.499Z"
   },
   {
    "duration": 46,
    "start_time": "2022-10-29T23:25:16.508Z"
   },
   {
    "duration": 8,
    "start_time": "2022-10-29T23:25:16.556Z"
   },
   {
    "duration": 11,
    "start_time": "2022-10-29T23:25:16.566Z"
   },
   {
    "duration": 13,
    "start_time": "2022-10-29T23:25:16.579Z"
   },
   {
    "duration": 8,
    "start_time": "2022-10-29T23:25:16.594Z"
   },
   {
    "duration": 9,
    "start_time": "2022-10-29T23:25:16.604Z"
   },
   {
    "duration": 52,
    "start_time": "2022-10-29T23:25:16.615Z"
   },
   {
    "duration": 22,
    "start_time": "2022-10-29T23:25:16.671Z"
   },
   {
    "duration": 27,
    "start_time": "2022-10-29T23:25:16.696Z"
   },
   {
    "duration": 3,
    "start_time": "2022-10-29T23:25:16.754Z"
   },
   {
    "duration": 28,
    "start_time": "2022-10-29T23:25:16.760Z"
   },
   {
    "duration": 21,
    "start_time": "2022-10-29T23:25:16.790Z"
   },
   {
    "duration": 6,
    "start_time": "2022-10-29T23:25:16.812Z"
   },
   {
    "duration": 31,
    "start_time": "2022-10-29T23:25:16.853Z"
   },
   {
    "duration": 638,
    "start_time": "2022-10-29T23:25:16.886Z"
   },
   {
    "duration": 27,
    "start_time": "2022-10-29T23:25:17.527Z"
   },
   {
    "duration": 4,
    "start_time": "2022-10-29T23:25:17.557Z"
   },
   {
    "duration": 26,
    "start_time": "2022-10-29T23:25:17.564Z"
   },
   {
    "duration": 217,
    "start_time": "2022-10-29T23:25:17.593Z"
   },
   {
    "duration": 16,
    "start_time": "2022-10-29T23:25:17.812Z"
   },
   {
    "duration": 34,
    "start_time": "2022-10-29T23:25:17.830Z"
   },
   {
    "duration": 228,
    "start_time": "2022-10-29T23:25:17.866Z"
   },
   {
    "duration": 13,
    "start_time": "2022-10-29T23:25:18.097Z"
   },
   {
    "duration": 165,
    "start_time": "2022-10-29T23:25:18.114Z"
   },
   {
    "duration": 240,
    "start_time": "2022-10-29T23:25:18.281Z"
   },
   {
    "duration": 14,
    "start_time": "2022-10-29T23:25:18.524Z"
   },
   {
    "duration": 19,
    "start_time": "2022-10-29T23:25:18.540Z"
   },
   {
    "duration": 16,
    "start_time": "2022-10-29T23:25:18.561Z"
   },
   {
    "duration": 10,
    "start_time": "2022-10-29T23:25:18.579Z"
   },
   {
    "duration": 11,
    "start_time": "2022-10-29T23:25:18.591Z"
   },
   {
    "duration": 10,
    "start_time": "2022-10-29T23:25:18.605Z"
   },
   {
    "duration": 51,
    "start_time": "2022-10-29T23:25:18.618Z"
   },
   {
    "duration": 129,
    "start_time": "2022-10-29T23:26:05.725Z"
   },
   {
    "duration": 126,
    "start_time": "2022-10-29T23:26:49.983Z"
   },
   {
    "duration": 91,
    "start_time": "2022-10-29T23:26:55.682Z"
   },
   {
    "duration": 18,
    "start_time": "2022-10-29T23:26:55.775Z"
   },
   {
    "duration": 24,
    "start_time": "2022-10-29T23:26:55.795Z"
   },
   {
    "duration": 39,
    "start_time": "2022-10-29T23:26:55.823Z"
   },
   {
    "duration": 12,
    "start_time": "2022-10-29T23:26:55.864Z"
   },
   {
    "duration": 17,
    "start_time": "2022-10-29T23:26:55.878Z"
   },
   {
    "duration": 16,
    "start_time": "2022-10-29T23:26:55.896Z"
   },
   {
    "duration": 59,
    "start_time": "2022-10-29T23:26:55.914Z"
   },
   {
    "duration": 9,
    "start_time": "2022-10-29T23:26:55.974Z"
   },
   {
    "duration": 15,
    "start_time": "2022-10-29T23:26:55.986Z"
   },
   {
    "duration": 55,
    "start_time": "2022-10-29T23:26:56.002Z"
   },
   {
    "duration": 50,
    "start_time": "2022-10-29T23:26:56.059Z"
   },
   {
    "duration": 5,
    "start_time": "2022-10-29T23:26:56.112Z"
   },
   {
    "duration": 36,
    "start_time": "2022-10-29T23:26:56.119Z"
   },
   {
    "duration": 6,
    "start_time": "2022-10-29T23:26:56.157Z"
   },
   {
    "duration": 14,
    "start_time": "2022-10-29T23:26:56.165Z"
   },
   {
    "duration": 12,
    "start_time": "2022-10-29T23:26:56.181Z"
   },
   {
    "duration": 14,
    "start_time": "2022-10-29T23:26:56.194Z"
   },
   {
    "duration": 79,
    "start_time": "2022-10-29T23:26:56.210Z"
   },
   {
    "duration": 12,
    "start_time": "2022-10-29T23:26:56.292Z"
   },
   {
    "duration": 6,
    "start_time": "2022-10-29T23:26:56.306Z"
   },
   {
    "duration": 23,
    "start_time": "2022-10-29T23:26:56.314Z"
   },
   {
    "duration": 30,
    "start_time": "2022-10-29T23:26:56.355Z"
   },
   {
    "duration": 27,
    "start_time": "2022-10-29T23:26:56.387Z"
   },
   {
    "duration": 5,
    "start_time": "2022-10-29T23:26:56.416Z"
   },
   {
    "duration": 40,
    "start_time": "2022-10-29T23:26:56.422Z"
   },
   {
    "duration": 8,
    "start_time": "2022-10-29T23:26:56.464Z"
   },
   {
    "duration": 6,
    "start_time": "2022-10-29T23:26:56.478Z"
   },
   {
    "duration": 24,
    "start_time": "2022-10-29T23:26:56.486Z"
   },
   {
    "duration": 12,
    "start_time": "2022-10-29T23:26:56.512Z"
   },
   {
    "duration": 34,
    "start_time": "2022-10-29T23:26:56.526Z"
   },
   {
    "duration": 24,
    "start_time": "2022-10-29T23:26:56.562Z"
   },
   {
    "duration": 7,
    "start_time": "2022-10-29T23:26:56.588Z"
   },
   {
    "duration": 10,
    "start_time": "2022-10-29T23:26:56.596Z"
   },
   {
    "duration": 15,
    "start_time": "2022-10-29T23:26:56.608Z"
   },
   {
    "duration": 42,
    "start_time": "2022-10-29T23:26:56.625Z"
   },
   {
    "duration": 11,
    "start_time": "2022-10-29T23:26:56.669Z"
   },
   {
    "duration": 8,
    "start_time": "2022-10-29T23:26:56.682Z"
   },
   {
    "duration": 7,
    "start_time": "2022-10-29T23:26:56.692Z"
   },
   {
    "duration": 10,
    "start_time": "2022-10-29T23:26:56.701Z"
   },
   {
    "duration": 46,
    "start_time": "2022-10-29T23:26:56.712Z"
   },
   {
    "duration": 20,
    "start_time": "2022-10-29T23:26:56.760Z"
   },
   {
    "duration": 9,
    "start_time": "2022-10-29T23:26:56.782Z"
   },
   {
    "duration": 14,
    "start_time": "2022-10-29T23:26:56.793Z"
   },
   {
    "duration": 5,
    "start_time": "2022-10-29T23:26:56.809Z"
   },
   {
    "duration": 42,
    "start_time": "2022-10-29T23:26:56.816Z"
   },
   {
    "duration": 12,
    "start_time": "2022-10-29T23:26:56.860Z"
   },
   {
    "duration": 7,
    "start_time": "2022-10-29T23:26:56.874Z"
   },
   {
    "duration": 10,
    "start_time": "2022-10-29T23:26:56.883Z"
   },
   {
    "duration": 20,
    "start_time": "2022-10-29T23:26:56.895Z"
   },
   {
    "duration": 47,
    "start_time": "2022-10-29T23:26:56.917Z"
   },
   {
    "duration": 32,
    "start_time": "2022-10-29T23:26:56.966Z"
   },
   {
    "duration": 6,
    "start_time": "2022-10-29T23:26:57.001Z"
   },
   {
    "duration": 47,
    "start_time": "2022-10-29T23:26:57.009Z"
   },
   {
    "duration": 21,
    "start_time": "2022-10-29T23:26:57.057Z"
   },
   {
    "duration": 6,
    "start_time": "2022-10-29T23:26:57.080Z"
   },
   {
    "duration": 69,
    "start_time": "2022-10-29T23:26:57.088Z"
   },
   {
    "duration": 156,
    "start_time": "2022-10-29T23:26:57.159Z"
   },
   {
    "duration": 11,
    "start_time": "2022-10-29T23:26:57.317Z"
   },
   {
    "duration": 162,
    "start_time": "2022-10-29T23:26:57.330Z"
   },
   {
    "duration": 3,
    "start_time": "2022-10-29T23:26:57.494Z"
   },
   {
    "duration": 28,
    "start_time": "2022-10-29T23:26:57.500Z"
   },
   {
    "duration": 153,
    "start_time": "2022-10-29T23:26:57.530Z"
   },
   {
    "duration": 14,
    "start_time": "2022-10-29T23:26:57.685Z"
   },
   {
    "duration": 10,
    "start_time": "2022-10-29T23:26:57.702Z"
   },
   {
    "duration": 185,
    "start_time": "2022-10-29T23:26:57.714Z"
   },
   {
    "duration": 17,
    "start_time": "2022-10-29T23:26:57.901Z"
   },
   {
    "duration": 136,
    "start_time": "2022-10-29T23:26:57.920Z"
   },
   {
    "duration": 158,
    "start_time": "2022-10-29T23:26:58.058Z"
   },
   {
    "duration": 6,
    "start_time": "2022-10-29T23:26:58.218Z"
   },
   {
    "duration": 28,
    "start_time": "2022-10-29T23:26:58.226Z"
   },
   {
    "duration": 9,
    "start_time": "2022-10-29T23:26:58.257Z"
   },
   {
    "duration": 15,
    "start_time": "2022-10-29T23:26:58.268Z"
   },
   {
    "duration": 14,
    "start_time": "2022-10-29T23:26:58.285Z"
   },
   {
    "duration": 17,
    "start_time": "2022-10-29T23:26:58.301Z"
   },
   {
    "duration": 42,
    "start_time": "2022-10-29T23:26:58.320Z"
   },
   {
    "duration": 78,
    "start_time": "2022-10-29T23:28:52.803Z"
   },
   {
    "duration": 19,
    "start_time": "2022-10-29T23:28:52.884Z"
   },
   {
    "duration": 24,
    "start_time": "2022-10-29T23:28:52.905Z"
   },
   {
    "duration": 15,
    "start_time": "2022-10-29T23:28:52.954Z"
   },
   {
    "duration": 9,
    "start_time": "2022-10-29T23:28:52.971Z"
   },
   {
    "duration": 21,
    "start_time": "2022-10-29T23:28:52.982Z"
   },
   {
    "duration": 50,
    "start_time": "2022-10-29T23:28:53.005Z"
   },
   {
    "duration": 21,
    "start_time": "2022-10-29T23:28:53.057Z"
   },
   {
    "duration": 12,
    "start_time": "2022-10-29T23:28:53.081Z"
   },
   {
    "duration": 16,
    "start_time": "2022-10-29T23:28:53.098Z"
   },
   {
    "duration": 11,
    "start_time": "2022-10-29T23:28:53.155Z"
   },
   {
    "duration": 52,
    "start_time": "2022-10-29T23:28:53.168Z"
   },
   {
    "duration": 5,
    "start_time": "2022-10-29T23:28:53.255Z"
   },
   {
    "duration": 17,
    "start_time": "2022-10-29T23:28:53.262Z"
   },
   {
    "duration": 6,
    "start_time": "2022-10-29T23:28:53.282Z"
   },
   {
    "duration": 9,
    "start_time": "2022-10-29T23:28:53.289Z"
   },
   {
    "duration": 8,
    "start_time": "2022-10-29T23:28:53.301Z"
   },
   {
    "duration": 46,
    "start_time": "2022-10-29T23:28:53.312Z"
   },
   {
    "duration": 46,
    "start_time": "2022-10-29T23:28:53.360Z"
   },
   {
    "duration": 11,
    "start_time": "2022-10-29T23:28:53.408Z"
   },
   {
    "duration": 33,
    "start_time": "2022-10-29T23:28:53.421Z"
   },
   {
    "duration": 18,
    "start_time": "2022-10-29T23:28:53.457Z"
   },
   {
    "duration": 31,
    "start_time": "2022-10-29T23:28:53.477Z"
   },
   {
    "duration": 21,
    "start_time": "2022-10-29T23:28:53.510Z"
   },
   {
    "duration": 21,
    "start_time": "2022-10-29T23:28:53.533Z"
   },
   {
    "duration": 14,
    "start_time": "2022-10-29T23:28:53.556Z"
   },
   {
    "duration": 11,
    "start_time": "2022-10-29T23:28:53.572Z"
   },
   {
    "duration": 4,
    "start_time": "2022-10-29T23:28:53.588Z"
   },
   {
    "duration": 21,
    "start_time": "2022-10-29T23:28:53.594Z"
   },
   {
    "duration": 8,
    "start_time": "2022-10-29T23:28:53.616Z"
   },
   {
    "duration": 45,
    "start_time": "2022-10-29T23:28:53.626Z"
   },
   {
    "duration": 27,
    "start_time": "2022-10-29T23:28:53.674Z"
   },
   {
    "duration": 6,
    "start_time": "2022-10-29T23:28:53.703Z"
   },
   {
    "duration": 9,
    "start_time": "2022-10-29T23:28:53.712Z"
   },
   {
    "duration": 14,
    "start_time": "2022-10-29T23:28:53.755Z"
   },
   {
    "duration": 20,
    "start_time": "2022-10-29T23:28:53.771Z"
   },
   {
    "duration": 25,
    "start_time": "2022-10-29T23:28:53.793Z"
   },
   {
    "duration": 18,
    "start_time": "2022-10-29T23:28:53.821Z"
   },
   {
    "duration": 20,
    "start_time": "2022-10-29T23:28:53.841Z"
   },
   {
    "duration": 30,
    "start_time": "2022-10-29T23:28:53.864Z"
   },
   {
    "duration": 18,
    "start_time": "2022-10-29T23:28:53.896Z"
   },
   {
    "duration": 39,
    "start_time": "2022-10-29T23:28:53.917Z"
   },
   {
    "duration": 17,
    "start_time": "2022-10-29T23:28:53.958Z"
   },
   {
    "duration": 35,
    "start_time": "2022-10-29T23:28:53.977Z"
   },
   {
    "duration": 19,
    "start_time": "2022-10-29T23:28:54.014Z"
   },
   {
    "duration": 22,
    "start_time": "2022-10-29T23:28:54.035Z"
   },
   {
    "duration": 29,
    "start_time": "2022-10-29T23:28:54.059Z"
   },
   {
    "duration": 17,
    "start_time": "2022-10-29T23:28:54.091Z"
   },
   {
    "duration": 12,
    "start_time": "2022-10-29T23:28:54.111Z"
   },
   {
    "duration": 31,
    "start_time": "2022-10-29T23:28:54.125Z"
   },
   {
    "duration": 13,
    "start_time": "2022-10-29T23:28:54.159Z"
   },
   {
    "duration": 25,
    "start_time": "2022-10-29T23:28:54.175Z"
   },
   {
    "duration": 17,
    "start_time": "2022-10-29T23:28:54.201Z"
   },
   {
    "duration": 39,
    "start_time": "2022-10-29T23:28:54.220Z"
   },
   {
    "duration": 34,
    "start_time": "2022-10-29T23:28:54.261Z"
   },
   {
    "duration": 6,
    "start_time": "2022-10-29T23:28:54.297Z"
   },
   {
    "duration": 64,
    "start_time": "2022-10-29T23:28:54.306Z"
   },
   {
    "duration": 172,
    "start_time": "2022-10-29T23:28:54.373Z"
   },
   {
    "duration": 16,
    "start_time": "2022-10-29T23:28:54.547Z"
   },
   {
    "duration": 181,
    "start_time": "2022-10-29T23:28:54.566Z"
   },
   {
    "duration": 7,
    "start_time": "2022-10-29T23:28:54.749Z"
   },
   {
    "duration": 47,
    "start_time": "2022-10-29T23:28:54.757Z"
   },
   {
    "duration": 214,
    "start_time": "2022-10-29T23:28:54.806Z"
   },
   {
    "duration": 14,
    "start_time": "2022-10-29T23:28:55.022Z"
   },
   {
    "duration": 28,
    "start_time": "2022-10-29T23:28:55.038Z"
   },
   {
    "duration": 191,
    "start_time": "2022-10-29T23:28:55.068Z"
   },
   {
    "duration": 13,
    "start_time": "2022-10-29T23:28:55.260Z"
   },
   {
    "duration": 143,
    "start_time": "2022-10-29T23:28:55.275Z"
   },
   {
    "duration": 224,
    "start_time": "2022-10-29T23:28:55.420Z"
   },
   {
    "duration": 9,
    "start_time": "2022-10-29T23:28:55.647Z"
   },
   {
    "duration": 43,
    "start_time": "2022-10-29T23:28:55.658Z"
   },
   {
    "duration": 47,
    "start_time": "2022-10-29T23:28:55.703Z"
   },
   {
    "duration": 25,
    "start_time": "2022-10-29T23:28:55.753Z"
   },
   {
    "duration": 39,
    "start_time": "2022-10-29T23:28:55.781Z"
   },
   {
    "duration": 34,
    "start_time": "2022-10-29T23:28:55.822Z"
   },
   {
    "duration": 63,
    "start_time": "2022-10-29T23:28:55.858Z"
   },
   {
    "duration": 15,
    "start_time": "2022-10-30T00:00:03.644Z"
   },
   {
    "duration": 166,
    "start_time": "2022-10-30T00:15:31.760Z"
   },
   {
    "duration": 23,
    "start_time": "2022-10-30T00:15:59.848Z"
   },
   {
    "duration": 122,
    "start_time": "2022-10-30T00:17:04.200Z"
   },
   {
    "duration": 10,
    "start_time": "2022-10-30T00:29:12.313Z"
   },
   {
    "duration": 41,
    "start_time": "2022-10-30T00:29:45.562Z"
   },
   {
    "duration": 10,
    "start_time": "2022-10-30T00:29:54.586Z"
   },
   {
    "duration": 10,
    "start_time": "2022-10-30T00:30:02.278Z"
   },
   {
    "duration": 11,
    "start_time": "2022-10-30T00:30:08.665Z"
   },
   {
    "duration": 58,
    "start_time": "2022-10-30T00:47:59.719Z"
   },
   {
    "duration": 41,
    "start_time": "2022-10-30T00:49:00.931Z"
   },
   {
    "duration": 43,
    "start_time": "2022-10-30T00:54:23.319Z"
   },
   {
    "duration": 30,
    "start_time": "2022-10-30T00:55:17.899Z"
   },
   {
    "duration": 16,
    "start_time": "2022-10-30T00:55:43.921Z"
   },
   {
    "duration": 10,
    "start_time": "2022-10-30T00:58:32.027Z"
   },
   {
    "duration": 9,
    "start_time": "2022-10-30T00:58:34.435Z"
   },
   {
    "duration": 12,
    "start_time": "2022-10-30T00:58:36.813Z"
   },
   {
    "duration": 8,
    "start_time": "2022-10-30T00:58:39.412Z"
   },
   {
    "duration": 12,
    "start_time": "2022-10-30T00:58:49.017Z"
   },
   {
    "duration": 7,
    "start_time": "2022-10-30T01:01:28.421Z"
   },
   {
    "duration": 36,
    "start_time": "2022-10-30T01:06:36.768Z"
   },
   {
    "duration": 8,
    "start_time": "2022-10-30T01:08:31.749Z"
   },
   {
    "duration": 48,
    "start_time": "2022-10-30T01:08:48.615Z"
   },
   {
    "duration": 22,
    "start_time": "2022-10-30T01:09:10.604Z"
   },
   {
    "duration": 12,
    "start_time": "2022-10-30T01:09:39.713Z"
   },
   {
    "duration": 11,
    "start_time": "2022-10-30T01:10:46.016Z"
   },
   {
    "duration": 14,
    "start_time": "2022-10-30T01:11:13.604Z"
   },
   {
    "duration": 17,
    "start_time": "2022-10-30T01:11:49.804Z"
   },
   {
    "duration": 10,
    "start_time": "2022-10-30T01:13:21.687Z"
   },
   {
    "duration": 13,
    "start_time": "2022-10-30T01:13:30.357Z"
   },
   {
    "duration": 10,
    "start_time": "2022-10-30T01:14:15.640Z"
   },
   {
    "duration": 13,
    "start_time": "2022-10-30T01:14:48.680Z"
   },
   {
    "duration": 115,
    "start_time": "2022-10-30T01:14:58.242Z"
   },
   {
    "duration": 133,
    "start_time": "2022-10-30T01:15:11.828Z"
   },
   {
    "duration": 128,
    "start_time": "2022-10-30T01:15:21.046Z"
   },
   {
    "duration": 125,
    "start_time": "2022-10-30T01:15:30.091Z"
   },
   {
    "duration": 44,
    "start_time": "2022-10-30T01:18:00.442Z"
   },
   {
    "duration": 10,
    "start_time": "2022-10-30T01:19:37.094Z"
   },
   {
    "duration": 8,
    "start_time": "2022-10-30T01:20:07.353Z"
   },
   {
    "duration": 6,
    "start_time": "2022-10-30T01:20:34.086Z"
   },
   {
    "duration": 15,
    "start_time": "2022-10-30T01:20:47.584Z"
   },
   {
    "duration": 11,
    "start_time": "2022-10-30T01:22:58.249Z"
   },
   {
    "duration": 127,
    "start_time": "2022-10-30T01:23:50.377Z"
   },
   {
    "duration": 133,
    "start_time": "2022-10-30T01:24:19.039Z"
   },
   {
    "duration": 16,
    "start_time": "2022-10-30T01:37:07.379Z"
   },
   {
    "duration": 24,
    "start_time": "2022-10-30T01:37:16.786Z"
   },
   {
    "duration": 12,
    "start_time": "2022-10-30T01:38:46.827Z"
   },
   {
    "duration": 5,
    "start_time": "2022-10-30T01:40:09.630Z"
   },
   {
    "duration": 5,
    "start_time": "2022-10-30T01:40:22.494Z"
   },
   {
    "duration": 8,
    "start_time": "2022-10-30T01:40:37.160Z"
   },
   {
    "duration": 773,
    "start_time": "2022-10-30T08:59:29.814Z"
   },
   {
    "duration": 23,
    "start_time": "2022-10-30T08:59:30.589Z"
   },
   {
    "duration": 20,
    "start_time": "2022-10-30T08:59:30.614Z"
   },
   {
    "duration": 27,
    "start_time": "2022-10-30T08:59:30.636Z"
   },
   {
    "duration": 18,
    "start_time": "2022-10-30T08:59:30.665Z"
   },
   {
    "duration": 29,
    "start_time": "2022-10-30T08:59:30.685Z"
   },
   {
    "duration": 12,
    "start_time": "2022-10-30T08:59:30.716Z"
   },
   {
    "duration": 28,
    "start_time": "2022-10-30T08:59:30.730Z"
   },
   {
    "duration": 18,
    "start_time": "2022-10-30T08:59:30.759Z"
   },
   {
    "duration": 26,
    "start_time": "2022-10-30T08:59:30.780Z"
   },
   {
    "duration": 27,
    "start_time": "2022-10-30T08:59:30.808Z"
   },
   {
    "duration": 46,
    "start_time": "2022-10-30T08:59:30.837Z"
   },
   {
    "duration": 4,
    "start_time": "2022-10-30T08:59:30.884Z"
   },
   {
    "duration": 24,
    "start_time": "2022-10-30T08:59:30.889Z"
   },
   {
    "duration": 10,
    "start_time": "2022-10-30T08:59:30.915Z"
   },
   {
    "duration": 14,
    "start_time": "2022-10-30T08:59:30.927Z"
   },
   {
    "duration": 9,
    "start_time": "2022-10-30T08:59:30.942Z"
   },
   {
    "duration": 11,
    "start_time": "2022-10-30T08:59:30.952Z"
   },
   {
    "duration": 33,
    "start_time": "2022-10-30T08:59:30.964Z"
   },
   {
    "duration": 13,
    "start_time": "2022-10-30T08:59:30.999Z"
   },
   {
    "duration": 8,
    "start_time": "2022-10-30T08:59:31.014Z"
   },
   {
    "duration": 20,
    "start_time": "2022-10-30T08:59:31.024Z"
   },
   {
    "duration": 28,
    "start_time": "2022-10-30T08:59:31.046Z"
   },
   {
    "duration": 19,
    "start_time": "2022-10-30T08:59:31.075Z"
   },
   {
    "duration": 25,
    "start_time": "2022-10-30T08:59:31.095Z"
   },
   {
    "duration": 49,
    "start_time": "2022-10-30T08:59:31.122Z"
   },
   {
    "duration": 16,
    "start_time": "2022-10-30T08:59:31.173Z"
   },
   {
    "duration": 5,
    "start_time": "2022-10-30T08:59:31.193Z"
   },
   {
    "duration": 25,
    "start_time": "2022-10-30T08:59:31.199Z"
   },
   {
    "duration": 11,
    "start_time": "2022-10-30T08:59:31.226Z"
   },
   {
    "duration": 27,
    "start_time": "2022-10-30T08:59:31.239Z"
   },
   {
    "duration": 23,
    "start_time": "2022-10-30T08:59:31.267Z"
   },
   {
    "duration": 12,
    "start_time": "2022-10-30T08:59:31.292Z"
   },
   {
    "duration": 14,
    "start_time": "2022-10-30T08:59:31.306Z"
   },
   {
    "duration": 23,
    "start_time": "2022-10-30T08:59:31.322Z"
   },
   {
    "duration": 10,
    "start_time": "2022-10-30T08:59:31.346Z"
   },
   {
    "duration": 6,
    "start_time": "2022-10-30T08:59:31.357Z"
   },
   {
    "duration": 8,
    "start_time": "2022-10-30T08:59:31.365Z"
   },
   {
    "duration": 7,
    "start_time": "2022-10-30T08:59:31.375Z"
   },
   {
    "duration": 17,
    "start_time": "2022-10-30T08:59:31.384Z"
   },
   {
    "duration": 18,
    "start_time": "2022-10-30T08:59:31.402Z"
   },
   {
    "duration": 33,
    "start_time": "2022-10-30T08:59:31.422Z"
   },
   {
    "duration": 4,
    "start_time": "2022-10-30T08:59:31.456Z"
   },
   {
    "duration": 29,
    "start_time": "2022-10-30T08:59:31.462Z"
   },
   {
    "duration": 23,
    "start_time": "2022-10-30T08:59:31.493Z"
   },
   {
    "duration": 12,
    "start_time": "2022-10-30T08:59:31.517Z"
   },
   {
    "duration": 15,
    "start_time": "2022-10-30T08:59:31.530Z"
   },
   {
    "duration": 10,
    "start_time": "2022-10-30T08:59:31.547Z"
   },
   {
    "duration": 10,
    "start_time": "2022-10-30T08:59:31.559Z"
   },
   {
    "duration": 22,
    "start_time": "2022-10-30T08:59:31.571Z"
   },
   {
    "duration": 12,
    "start_time": "2022-10-30T08:59:31.594Z"
   },
   {
    "duration": 11,
    "start_time": "2022-10-30T08:59:31.609Z"
   },
   {
    "duration": 26,
    "start_time": "2022-10-30T08:59:31.622Z"
   },
   {
    "duration": 17,
    "start_time": "2022-10-30T08:59:31.649Z"
   },
   {
    "duration": 13,
    "start_time": "2022-10-30T08:59:31.667Z"
   },
   {
    "duration": 18,
    "start_time": "2022-10-30T08:59:31.683Z"
   },
   {
    "duration": 18,
    "start_time": "2022-10-30T08:59:31.702Z"
   },
   {
    "duration": 10,
    "start_time": "2022-10-30T08:59:31.722Z"
   },
   {
    "duration": 9,
    "start_time": "2022-10-30T08:59:31.734Z"
   },
   {
    "duration": 21,
    "start_time": "2022-10-30T08:59:31.745Z"
   },
   {
    "duration": 531,
    "start_time": "2022-10-30T08:59:31.768Z"
   },
   {
    "duration": 9,
    "start_time": "2022-10-30T08:59:32.301Z"
   },
   {
    "duration": 18,
    "start_time": "2022-10-30T08:59:32.311Z"
   },
   {
    "duration": 110,
    "start_time": "2022-10-30T08:59:32.330Z"
   },
   {
    "duration": 9,
    "start_time": "2022-10-30T08:59:32.441Z"
   },
   {
    "duration": 117,
    "start_time": "2022-10-30T08:59:32.451Z"
   },
   {
    "duration": 11,
    "start_time": "2022-10-30T08:59:32.569Z"
   },
   {
    "duration": 140,
    "start_time": "2022-10-30T08:59:32.581Z"
   },
   {
    "duration": 8,
    "start_time": "2022-10-30T08:59:32.722Z"
   },
   {
    "duration": 10,
    "start_time": "2022-10-30T08:59:32.732Z"
   },
   {
    "duration": 167,
    "start_time": "2022-10-30T08:59:32.744Z"
   },
   {
    "duration": 5,
    "start_time": "2022-10-30T08:59:32.912Z"
   },
   {
    "duration": 10,
    "start_time": "2022-10-30T08:59:32.919Z"
   },
   {
    "duration": 11,
    "start_time": "2022-10-30T08:59:32.930Z"
   },
   {
    "duration": 10,
    "start_time": "2022-10-30T08:59:32.942Z"
   },
   {
    "duration": 8,
    "start_time": "2022-10-30T08:59:32.954Z"
   },
   {
    "duration": 9,
    "start_time": "2022-10-30T08:59:32.963Z"
   },
   {
    "duration": 41,
    "start_time": "2022-10-30T08:59:32.973Z"
   },
   {
    "duration": 6,
    "start_time": "2022-10-30T09:09:55.295Z"
   },
   {
    "duration": 7,
    "start_time": "2022-10-30T09:10:19.088Z"
   },
   {
    "duration": 8,
    "start_time": "2022-10-30T09:10:31.633Z"
   },
   {
    "duration": 9,
    "start_time": "2022-10-30T09:10:41.784Z"
   },
   {
    "duration": 9,
    "start_time": "2022-10-30T09:11:18.675Z"
   },
   {
    "duration": 90,
    "start_time": "2022-10-30T09:12:33.956Z"
   },
   {
    "duration": 7,
    "start_time": "2022-10-30T09:12:42.342Z"
   },
   {
    "duration": 10,
    "start_time": "2022-10-30T09:13:28.972Z"
   },
   {
    "duration": 146,
    "start_time": "2022-10-30T09:18:49.586Z"
   },
   {
    "duration": 14,
    "start_time": "2022-10-30T09:22:02.461Z"
   },
   {
    "duration": 9,
    "start_time": "2022-10-30T09:22:25.037Z"
   },
   {
    "duration": 8,
    "start_time": "2022-10-30T09:22:46.990Z"
   },
   {
    "duration": 7,
    "start_time": "2022-10-30T09:22:59.480Z"
   },
   {
    "duration": 7,
    "start_time": "2022-10-30T09:23:34.171Z"
   },
   {
    "duration": 10,
    "start_time": "2022-10-30T09:23:43.140Z"
   },
   {
    "duration": 8,
    "start_time": "2022-10-30T09:23:48.030Z"
   },
   {
    "duration": 8,
    "start_time": "2022-10-30T09:23:59.049Z"
   },
   {
    "duration": 8,
    "start_time": "2022-10-30T09:24:03.654Z"
   },
   {
    "duration": 7,
    "start_time": "2022-10-30T09:24:31.647Z"
   },
   {
    "duration": 9,
    "start_time": "2022-10-30T09:24:36.255Z"
   },
   {
    "duration": 7,
    "start_time": "2022-10-30T09:24:41.386Z"
   },
   {
    "duration": 11,
    "start_time": "2022-10-30T09:24:45.221Z"
   },
   {
    "duration": 77,
    "start_time": "2022-10-30T11:42:33.288Z"
   },
   {
    "duration": 828,
    "start_time": "2022-10-30T11:43:19.943Z"
   },
   {
    "duration": 25,
    "start_time": "2022-10-30T11:43:20.773Z"
   },
   {
    "duration": 23,
    "start_time": "2022-10-30T11:43:20.800Z"
   },
   {
    "duration": 10,
    "start_time": "2022-10-30T11:43:20.826Z"
   },
   {
    "duration": 19,
    "start_time": "2022-10-30T11:43:20.854Z"
   },
   {
    "duration": 29,
    "start_time": "2022-10-30T11:43:20.875Z"
   },
   {
    "duration": 19,
    "start_time": "2022-10-30T11:43:20.906Z"
   },
   {
    "duration": 31,
    "start_time": "2022-10-30T11:43:20.927Z"
   },
   {
    "duration": 9,
    "start_time": "2022-10-30T11:43:20.960Z"
   },
   {
    "duration": 25,
    "start_time": "2022-10-30T11:43:20.973Z"
   },
   {
    "duration": 21,
    "start_time": "2022-10-30T11:43:21.000Z"
   },
   {
    "duration": 42,
    "start_time": "2022-10-30T11:43:21.023Z"
   },
   {
    "duration": 4,
    "start_time": "2022-10-30T11:43:21.067Z"
   },
   {
    "duration": 18,
    "start_time": "2022-10-30T11:43:21.072Z"
   },
   {
    "duration": 34,
    "start_time": "2022-10-30T11:43:21.092Z"
   },
   {
    "duration": 28,
    "start_time": "2022-10-30T11:43:21.128Z"
   },
   {
    "duration": 17,
    "start_time": "2022-10-30T11:43:21.158Z"
   },
   {
    "duration": 9,
    "start_time": "2022-10-30T11:43:21.177Z"
   },
   {
    "duration": 53,
    "start_time": "2022-10-30T11:43:21.189Z"
   },
   {
    "duration": 21,
    "start_time": "2022-10-30T11:43:21.245Z"
   },
   {
    "duration": 5,
    "start_time": "2022-10-30T11:43:21.269Z"
   },
   {
    "duration": 19,
    "start_time": "2022-10-30T11:43:21.276Z"
   },
   {
    "duration": 31,
    "start_time": "2022-10-30T11:43:21.298Z"
   },
   {
    "duration": 30,
    "start_time": "2022-10-30T11:43:21.354Z"
   },
   {
    "duration": 6,
    "start_time": "2022-10-30T11:43:21.386Z"
   },
   {
    "duration": 22,
    "start_time": "2022-10-30T11:43:21.394Z"
   },
   {
    "duration": 8,
    "start_time": "2022-10-30T11:43:21.419Z"
   },
   {
    "duration": 4,
    "start_time": "2022-10-30T11:43:21.462Z"
   },
   {
    "duration": 47,
    "start_time": "2022-10-30T11:43:21.470Z"
   },
   {
    "duration": 11,
    "start_time": "2022-10-30T11:43:21.522Z"
   },
   {
    "duration": 45,
    "start_time": "2022-10-30T11:43:21.535Z"
   },
   {
    "duration": 40,
    "start_time": "2022-10-30T11:43:21.582Z"
   },
   {
    "duration": 15,
    "start_time": "2022-10-30T11:43:21.624Z"
   },
   {
    "duration": 42,
    "start_time": "2022-10-30T11:43:21.642Z"
   },
   {
    "duration": 37,
    "start_time": "2022-10-30T11:43:21.685Z"
   },
   {
    "duration": 12,
    "start_time": "2022-10-30T11:43:21.724Z"
   },
   {
    "duration": 10,
    "start_time": "2022-10-30T11:43:21.738Z"
   },
   {
    "duration": 20,
    "start_time": "2022-10-30T11:43:21.750Z"
   },
   {
    "duration": 20,
    "start_time": "2022-10-30T11:43:21.772Z"
   },
   {
    "duration": 13,
    "start_time": "2022-10-30T11:43:21.794Z"
   },
   {
    "duration": 7,
    "start_time": "2022-10-30T11:43:21.809Z"
   },
   {
    "duration": 14,
    "start_time": "2022-10-30T11:43:21.817Z"
   },
   {
    "duration": 11,
    "start_time": "2022-10-30T11:43:21.834Z"
   },
   {
    "duration": 18,
    "start_time": "2022-10-30T11:43:21.848Z"
   },
   {
    "duration": 5,
    "start_time": "2022-10-30T11:43:21.869Z"
   },
   {
    "duration": 11,
    "start_time": "2022-10-30T11:43:21.876Z"
   },
   {
    "duration": 14,
    "start_time": "2022-10-30T11:43:21.889Z"
   },
   {
    "duration": 6,
    "start_time": "2022-10-30T11:43:21.904Z"
   },
   {
    "duration": 6,
    "start_time": "2022-10-30T11:43:21.912Z"
   },
   {
    "duration": 41,
    "start_time": "2022-10-30T11:43:21.920Z"
   },
   {
    "duration": 12,
    "start_time": "2022-10-30T11:43:21.963Z"
   },
   {
    "duration": 16,
    "start_time": "2022-10-30T11:43:21.977Z"
   },
   {
    "duration": 20,
    "start_time": "2022-10-30T11:43:21.994Z"
   },
   {
    "duration": 12,
    "start_time": "2022-10-30T11:43:22.017Z"
   },
   {
    "duration": 14,
    "start_time": "2022-10-30T11:43:22.053Z"
   },
   {
    "duration": 13,
    "start_time": "2022-10-30T11:43:22.069Z"
   },
   {
    "duration": 14,
    "start_time": "2022-10-30T11:43:22.084Z"
   },
   {
    "duration": 4,
    "start_time": "2022-10-30T11:43:22.100Z"
   },
   {
    "duration": 13,
    "start_time": "2022-10-30T11:43:22.105Z"
   },
   {
    "duration": 562,
    "start_time": "2022-10-30T11:43:22.154Z"
   },
   {
    "duration": 6,
    "start_time": "2022-10-30T11:43:22.721Z"
   },
   {
    "duration": 41,
    "start_time": "2022-10-30T11:43:22.731Z"
   },
   {
    "duration": 155,
    "start_time": "2022-10-30T11:43:22.774Z"
   },
   {
    "duration": 28,
    "start_time": "2022-10-30T11:43:22.932Z"
   },
   {
    "duration": 46,
    "start_time": "2022-10-30T11:43:22.962Z"
   },
   {
    "duration": 0,
    "start_time": "2022-10-30T11:43:23.011Z"
   },
   {
    "duration": 0,
    "start_time": "2022-10-30T11:43:23.012Z"
   },
   {
    "duration": 0,
    "start_time": "2022-10-30T11:43:23.013Z"
   },
   {
    "duration": 0,
    "start_time": "2022-10-30T11:43:23.015Z"
   },
   {
    "duration": 0,
    "start_time": "2022-10-30T11:43:23.017Z"
   },
   {
    "duration": 0,
    "start_time": "2022-10-30T11:43:23.018Z"
   },
   {
    "duration": 0,
    "start_time": "2022-10-30T11:43:23.020Z"
   },
   {
    "duration": 0,
    "start_time": "2022-10-30T11:43:23.021Z"
   },
   {
    "duration": 0,
    "start_time": "2022-10-30T11:43:23.022Z"
   },
   {
    "duration": 0,
    "start_time": "2022-10-30T11:43:23.055Z"
   },
   {
    "duration": 0,
    "start_time": "2022-10-30T11:43:23.056Z"
   },
   {
    "duration": 0,
    "start_time": "2022-10-30T11:43:23.058Z"
   },
   {
    "duration": 0,
    "start_time": "2022-10-30T11:43:23.060Z"
   },
   {
    "duration": 0,
    "start_time": "2022-10-30T11:43:23.062Z"
   },
   {
    "duration": 0,
    "start_time": "2022-10-30T11:43:23.064Z"
   },
   {
    "duration": 0,
    "start_time": "2022-10-30T11:43:23.065Z"
   },
   {
    "duration": 0,
    "start_time": "2022-10-30T11:43:23.067Z"
   },
   {
    "duration": 0,
    "start_time": "2022-10-30T11:43:23.069Z"
   },
   {
    "duration": 0,
    "start_time": "2022-10-30T11:43:23.070Z"
   },
   {
    "duration": 78,
    "start_time": "2022-10-30T11:44:03.006Z"
   },
   {
    "duration": 16,
    "start_time": "2022-10-30T11:44:03.086Z"
   },
   {
    "duration": 26,
    "start_time": "2022-10-30T11:44:03.104Z"
   },
   {
    "duration": 26,
    "start_time": "2022-10-30T11:44:03.132Z"
   },
   {
    "duration": 7,
    "start_time": "2022-10-30T11:44:03.160Z"
   },
   {
    "duration": 21,
    "start_time": "2022-10-30T11:44:03.168Z"
   },
   {
    "duration": 22,
    "start_time": "2022-10-30T11:44:03.191Z"
   },
   {
    "duration": 47,
    "start_time": "2022-10-30T11:44:03.215Z"
   },
   {
    "duration": 9,
    "start_time": "2022-10-30T11:44:03.265Z"
   },
   {
    "duration": 17,
    "start_time": "2022-10-30T11:44:03.276Z"
   },
   {
    "duration": 24,
    "start_time": "2022-10-30T11:44:03.294Z"
   },
   {
    "duration": 57,
    "start_time": "2022-10-30T11:44:03.320Z"
   },
   {
    "duration": 5,
    "start_time": "2022-10-30T11:44:03.379Z"
   },
   {
    "duration": 15,
    "start_time": "2022-10-30T11:44:03.385Z"
   },
   {
    "duration": 6,
    "start_time": "2022-10-30T11:44:03.402Z"
   },
   {
    "duration": 18,
    "start_time": "2022-10-30T11:44:03.410Z"
   },
   {
    "duration": 8,
    "start_time": "2022-10-30T11:44:03.455Z"
   },
   {
    "duration": 14,
    "start_time": "2022-10-30T11:44:03.465Z"
   },
   {
    "duration": 52,
    "start_time": "2022-10-30T11:44:03.481Z"
   },
   {
    "duration": 27,
    "start_time": "2022-10-30T11:44:03.535Z"
   },
   {
    "duration": 6,
    "start_time": "2022-10-30T11:44:03.566Z"
   },
   {
    "duration": 14,
    "start_time": "2022-10-30T11:44:03.574Z"
   },
   {
    "duration": 25,
    "start_time": "2022-10-30T11:44:03.590Z"
   },
   {
    "duration": 51,
    "start_time": "2022-10-30T11:44:03.617Z"
   },
   {
    "duration": 5,
    "start_time": "2022-10-30T11:44:03.670Z"
   },
   {
    "duration": 25,
    "start_time": "2022-10-30T11:44:03.677Z"
   },
   {
    "duration": 18,
    "start_time": "2022-10-30T11:44:03.704Z"
   },
   {
    "duration": 8,
    "start_time": "2022-10-30T11:44:03.724Z"
   },
   {
    "duration": 28,
    "start_time": "2022-10-30T11:44:03.733Z"
   },
   {
    "duration": 14,
    "start_time": "2022-10-30T11:44:03.762Z"
   },
   {
    "duration": 55,
    "start_time": "2022-10-30T11:44:03.778Z"
   },
   {
    "duration": 24,
    "start_time": "2022-10-30T11:44:03.835Z"
   },
   {
    "duration": 5,
    "start_time": "2022-10-30T11:44:03.861Z"
   },
   {
    "duration": 10,
    "start_time": "2022-10-30T11:44:03.868Z"
   },
   {
    "duration": 12,
    "start_time": "2022-10-30T11:44:03.880Z"
   },
   {
    "duration": 11,
    "start_time": "2022-10-30T11:44:03.894Z"
   },
   {
    "duration": 7,
    "start_time": "2022-10-30T11:44:03.907Z"
   },
   {
    "duration": 55,
    "start_time": "2022-10-30T11:44:03.916Z"
   },
   {
    "duration": 24,
    "start_time": "2022-10-30T11:44:03.974Z"
   },
   {
    "duration": 21,
    "start_time": "2022-10-30T11:44:04.000Z"
   },
   {
    "duration": 8,
    "start_time": "2022-10-30T11:44:04.023Z"
   },
   {
    "duration": 26,
    "start_time": "2022-10-30T11:44:04.033Z"
   },
   {
    "duration": 14,
    "start_time": "2022-10-30T11:44:04.061Z"
   },
   {
    "duration": 19,
    "start_time": "2022-10-30T11:44:04.078Z"
   },
   {
    "duration": 7,
    "start_time": "2022-10-30T11:44:04.100Z"
   },
   {
    "duration": 12,
    "start_time": "2022-10-30T11:44:04.109Z"
   },
   {
    "duration": 31,
    "start_time": "2022-10-30T11:44:04.124Z"
   },
   {
    "duration": 6,
    "start_time": "2022-10-30T11:44:04.157Z"
   },
   {
    "duration": 11,
    "start_time": "2022-10-30T11:44:04.165Z"
   },
   {
    "duration": 26,
    "start_time": "2022-10-30T11:44:04.178Z"
   },
   {
    "duration": 14,
    "start_time": "2022-10-30T11:44:04.206Z"
   },
   {
    "duration": 32,
    "start_time": "2022-10-30T11:44:04.222Z"
   },
   {
    "duration": 23,
    "start_time": "2022-10-30T11:44:04.256Z"
   },
   {
    "duration": 23,
    "start_time": "2022-10-30T11:44:04.281Z"
   },
   {
    "duration": 19,
    "start_time": "2022-10-30T11:44:04.307Z"
   },
   {
    "duration": 11,
    "start_time": "2022-10-30T11:44:04.333Z"
   },
   {
    "duration": 13,
    "start_time": "2022-10-30T11:44:04.353Z"
   },
   {
    "duration": 4,
    "start_time": "2022-10-30T11:44:04.368Z"
   },
   {
    "duration": 23,
    "start_time": "2022-10-30T11:44:04.374Z"
   },
   {
    "duration": 135,
    "start_time": "2022-10-30T11:44:04.399Z"
   },
   {
    "duration": 4,
    "start_time": "2022-10-30T11:44:04.536Z"
   },
   {
    "duration": 38,
    "start_time": "2022-10-30T11:44:04.541Z"
   },
   {
    "duration": 191,
    "start_time": "2022-10-30T11:44:04.581Z"
   },
   {
    "duration": 16,
    "start_time": "2022-10-30T11:44:04.774Z"
   },
   {
    "duration": 8,
    "start_time": "2022-10-30T11:44:04.792Z"
   },
   {
    "duration": 15,
    "start_time": "2022-10-30T11:44:04.802Z"
   },
   {
    "duration": 145,
    "start_time": "2022-10-30T11:44:04.818Z"
   },
   {
    "duration": 15,
    "start_time": "2022-10-30T11:44:04.965Z"
   },
   {
    "duration": 162,
    "start_time": "2022-10-30T11:44:04.983Z"
   },
   {
    "duration": 10,
    "start_time": "2022-10-30T11:44:05.153Z"
   },
   {
    "duration": 15,
    "start_time": "2022-10-30T11:44:05.165Z"
   },
   {
    "duration": 8,
    "start_time": "2022-10-30T11:44:05.181Z"
   },
   {
    "duration": 18,
    "start_time": "2022-10-30T11:44:05.191Z"
   },
   {
    "duration": 8,
    "start_time": "2022-10-30T11:44:05.211Z"
   },
   {
    "duration": 3,
    "start_time": "2022-10-30T11:44:05.220Z"
   },
   {
    "duration": 12,
    "start_time": "2022-10-30T11:44:05.254Z"
   },
   {
    "duration": 141,
    "start_time": "2022-10-30T11:44:05.268Z"
   },
   {
    "duration": 6,
    "start_time": "2022-10-30T11:44:05.411Z"
   },
   {
    "duration": 8,
    "start_time": "2022-10-30T11:44:05.418Z"
   },
   {
    "duration": 28,
    "start_time": "2022-10-30T11:44:05.428Z"
   },
   {
    "duration": 17,
    "start_time": "2022-10-30T11:44:05.458Z"
   },
   {
    "duration": 24,
    "start_time": "2022-10-30T11:44:05.476Z"
   },
   {
    "duration": 17,
    "start_time": "2022-10-30T11:44:05.502Z"
   },
   {
    "duration": 32,
    "start_time": "2022-10-30T11:44:05.521Z"
   },
   {
    "duration": 11,
    "start_time": "2022-10-30T12:05:39.184Z"
   },
   {
    "duration": 26,
    "start_time": "2022-10-30T12:05:57.993Z"
   },
   {
    "duration": 51,
    "start_time": "2022-10-30T12:10:54.386Z"
   },
   {
    "duration": 17,
    "start_time": "2022-10-30T12:11:28.752Z"
   },
   {
    "duration": 18,
    "start_time": "2022-10-30T12:23:07.946Z"
   },
   {
    "duration": 15,
    "start_time": "2022-10-30T12:23:31.345Z"
   },
   {
    "duration": 5,
    "start_time": "2022-10-30T12:24:18.949Z"
   },
   {
    "duration": 8,
    "start_time": "2022-10-30T12:24:25.532Z"
   },
   {
    "duration": 14,
    "start_time": "2022-10-30T12:24:59.144Z"
   },
   {
    "duration": 7,
    "start_time": "2022-10-30T12:25:10.602Z"
   },
   {
    "duration": 9,
    "start_time": "2022-10-30T12:26:12.539Z"
   },
   {
    "duration": 8,
    "start_time": "2022-10-30T12:27:03.711Z"
   },
   {
    "duration": 25,
    "start_time": "2022-10-30T12:27:10.915Z"
   },
   {
    "duration": 38,
    "start_time": "2022-10-30T12:27:24.637Z"
   },
   {
    "duration": 30,
    "start_time": "2022-10-30T12:28:06.723Z"
   },
   {
    "duration": 43,
    "start_time": "2022-10-30T12:29:07.722Z"
   },
   {
    "duration": 29,
    "start_time": "2022-10-30T12:30:36.772Z"
   },
   {
    "duration": 3,
    "start_time": "2022-10-30T12:51:18.287Z"
   },
   {
    "duration": 35,
    "start_time": "2022-10-30T12:52:11.809Z"
   },
   {
    "duration": 36,
    "start_time": "2022-10-30T12:52:54.165Z"
   },
   {
    "duration": 37,
    "start_time": "2022-10-30T12:53:26.398Z"
   },
   {
    "duration": 36,
    "start_time": "2022-10-30T13:38:43.974Z"
   },
   {
    "duration": 37,
    "start_time": "2022-10-30T13:39:08.850Z"
   },
   {
    "duration": 55,
    "start_time": "2022-10-30T13:41:39.757Z"
   },
   {
    "duration": 20,
    "start_time": "2022-10-30T13:46:39.827Z"
   },
   {
    "duration": 19,
    "start_time": "2022-10-30T13:51:26.169Z"
   },
   {
    "duration": 31,
    "start_time": "2022-10-30T14:17:11.862Z"
   },
   {
    "duration": 14,
    "start_time": "2022-10-30T14:22:01.782Z"
   },
   {
    "duration": 28,
    "start_time": "2022-10-30T14:22:15.688Z"
   },
   {
    "duration": 6,
    "start_time": "2022-10-30T14:24:21.169Z"
   },
   {
    "duration": 10,
    "start_time": "2022-10-30T14:30:28.167Z"
   },
   {
    "duration": 25,
    "start_time": "2022-10-30T14:30:56.565Z"
   },
   {
    "duration": 66,
    "start_time": "2022-10-30T16:46:38.511Z"
   },
   {
    "duration": 39,
    "start_time": "2022-10-30T16:46:43.687Z"
   },
   {
    "duration": 28,
    "start_time": "2022-10-30T16:48:39.057Z"
   },
   {
    "duration": 28,
    "start_time": "2022-10-30T16:49:19.273Z"
   },
   {
    "duration": 23,
    "start_time": "2022-10-30T16:49:32.493Z"
   },
   {
    "duration": 25,
    "start_time": "2022-10-30T16:49:40.190Z"
   },
   {
    "duration": 37,
    "start_time": "2022-10-30T16:49:43.613Z"
   },
   {
    "duration": 27,
    "start_time": "2022-10-30T16:50:10.206Z"
   },
   {
    "duration": 18,
    "start_time": "2022-10-30T16:51:20.808Z"
   },
   {
    "duration": 23,
    "start_time": "2022-10-30T16:51:35.021Z"
   },
   {
    "duration": 63,
    "start_time": "2022-10-30T16:52:36.369Z"
   },
   {
    "duration": 898,
    "start_time": "2022-10-30T16:52:43.765Z"
   },
   {
    "duration": 820,
    "start_time": "2022-10-30T16:55:19.849Z"
   },
   {
    "duration": 737,
    "start_time": "2022-10-30T16:56:15.630Z"
   },
   {
    "duration": 295,
    "start_time": "2022-10-30T16:56:39.449Z"
   },
   {
    "duration": 24,
    "start_time": "2022-10-30T16:57:35.130Z"
   },
   {
    "duration": 744,
    "start_time": "2022-10-30T16:57:49.975Z"
   },
   {
    "duration": 15,
    "start_time": "2022-10-30T16:59:45.125Z"
   },
   {
    "duration": 14,
    "start_time": "2022-10-30T17:00:21.359Z"
   },
   {
    "duration": 13,
    "start_time": "2022-10-30T17:01:04.001Z"
   },
   {
    "duration": 11,
    "start_time": "2022-10-30T17:04:20.714Z"
   },
   {
    "duration": 5,
    "start_time": "2022-10-30T17:05:25.536Z"
   },
   {
    "duration": 15,
    "start_time": "2022-10-30T17:05:34.226Z"
   },
   {
    "duration": 14,
    "start_time": "2022-10-30T17:05:47.990Z"
   },
   {
    "duration": 53,
    "start_time": "2022-10-30T17:06:17.216Z"
   },
   {
    "duration": 4,
    "start_time": "2022-10-30T17:06:32.489Z"
   },
   {
    "duration": 4,
    "start_time": "2022-10-30T17:06:57.714Z"
   },
   {
    "duration": 9,
    "start_time": "2022-10-30T17:07:07.592Z"
   },
   {
    "duration": 19,
    "start_time": "2022-10-30T17:07:36.029Z"
   },
   {
    "duration": 24,
    "start_time": "2022-10-30T17:07:39.663Z"
   },
   {
    "duration": 27,
    "start_time": "2022-10-30T17:07:43.774Z"
   },
   {
    "duration": 28,
    "start_time": "2022-10-30T17:07:58.192Z"
   },
   {
    "duration": 259,
    "start_time": "2022-10-30T17:08:03.959Z"
   },
   {
    "duration": 33,
    "start_time": "2022-10-30T17:09:29.811Z"
   },
   {
    "duration": 311,
    "start_time": "2022-10-30T17:09:44.618Z"
   },
   {
    "duration": 29,
    "start_time": "2022-10-30T17:26:39.088Z"
   },
   {
    "duration": 334,
    "start_time": "2022-10-30T17:30:12.099Z"
   },
   {
    "duration": 286,
    "start_time": "2022-10-30T17:30:24.539Z"
   },
   {
    "duration": 311,
    "start_time": "2022-10-30T17:31:46.955Z"
   },
   {
    "duration": 340,
    "start_time": "2022-10-30T19:33:40.761Z"
   },
   {
    "duration": 318,
    "start_time": "2022-10-30T19:34:40.525Z"
   },
   {
    "duration": 746,
    "start_time": "2022-10-30T19:35:50.520Z"
   },
   {
    "duration": 786,
    "start_time": "2022-10-30T19:36:23.400Z"
   },
   {
    "duration": 279,
    "start_time": "2022-10-30T20:00:28.750Z"
   },
   {
    "duration": 19,
    "start_time": "2022-10-30T20:12:15.059Z"
   },
   {
    "duration": 361,
    "start_time": "2022-10-30T20:13:38.459Z"
   },
   {
    "duration": 277,
    "start_time": "2022-10-30T20:14:34.856Z"
   },
   {
    "duration": 19,
    "start_time": "2022-10-30T21:40:21.819Z"
   },
   {
    "duration": 20,
    "start_time": "2022-10-30T21:41:32.988Z"
   },
   {
    "duration": 19,
    "start_time": "2022-10-30T21:43:00.808Z"
   },
   {
    "duration": 29,
    "start_time": "2022-10-30T21:43:27.747Z"
   },
   {
    "duration": 17,
    "start_time": "2022-10-30T21:44:00.030Z"
   },
   {
    "duration": 19,
    "start_time": "2022-10-30T21:44:07.851Z"
   },
   {
    "duration": 5,
    "start_time": "2022-10-30T21:50:11.626Z"
   },
   {
    "duration": 28,
    "start_time": "2022-10-30T21:50:17.162Z"
   },
   {
    "duration": 27,
    "start_time": "2022-10-30T21:50:38.299Z"
   },
   {
    "duration": 32,
    "start_time": "2022-10-30T21:50:50.406Z"
   },
   {
    "duration": 32,
    "start_time": "2022-10-30T21:51:09.912Z"
   },
   {
    "duration": 36,
    "start_time": "2022-10-30T21:51:35.380Z"
   },
   {
    "duration": 31,
    "start_time": "2022-10-30T21:51:42.879Z"
   },
   {
    "duration": 29,
    "start_time": "2022-10-30T21:53:01.333Z"
   },
   {
    "duration": 28,
    "start_time": "2022-10-30T21:53:24.362Z"
   },
   {
    "duration": 23,
    "start_time": "2022-10-30T21:54:15.291Z"
   },
   {
    "duration": 33,
    "start_time": "2022-10-30T21:54:25.572Z"
   },
   {
    "duration": 43,
    "start_time": "2022-10-30T22:02:08.631Z"
   },
   {
    "duration": 27,
    "start_time": "2022-10-30T22:02:45.473Z"
   },
   {
    "duration": 336,
    "start_time": "2022-10-30T22:03:07.923Z"
   },
   {
    "duration": 55,
    "start_time": "2022-10-30T22:03:36.969Z"
   },
   {
    "duration": 19,
    "start_time": "2022-10-30T22:03:52.924Z"
   },
   {
    "duration": 30,
    "start_time": "2022-10-30T22:03:59.766Z"
   },
   {
    "duration": 31,
    "start_time": "2022-10-30T22:04:17.688Z"
   },
   {
    "duration": 28,
    "start_time": "2022-10-30T22:04:30.092Z"
   },
   {
    "duration": 287,
    "start_time": "2022-10-30T22:04:49.540Z"
   },
   {
    "duration": 27,
    "start_time": "2022-10-30T22:06:06.966Z"
   },
   {
    "duration": 37,
    "start_time": "2022-10-30T22:06:34.302Z"
   },
   {
    "duration": 16,
    "start_time": "2022-10-30T22:07:55.083Z"
   },
   {
    "duration": 27,
    "start_time": "2022-10-30T22:08:25.933Z"
   },
   {
    "duration": 30,
    "start_time": "2022-10-30T22:09:12.106Z"
   },
   {
    "duration": 27,
    "start_time": "2022-10-30T22:09:39.454Z"
   },
   {
    "duration": 38,
    "start_time": "2022-10-30T22:10:14.436Z"
   },
   {
    "duration": 41,
    "start_time": "2022-10-30T22:10:43.573Z"
   },
   {
    "duration": 124,
    "start_time": "2022-10-30T22:17:23.592Z"
   },
   {
    "duration": 107,
    "start_time": "2022-10-30T22:31:54.288Z"
   },
   {
    "duration": 110,
    "start_time": "2022-10-30T22:32:03.751Z"
   },
   {
    "duration": 109,
    "start_time": "2022-10-30T22:37:03.163Z"
   },
   {
    "duration": 18,
    "start_time": "2022-10-30T22:46:43.044Z"
   },
   {
    "duration": 20,
    "start_time": "2022-10-30T22:46:51.231Z"
   },
   {
    "duration": 19,
    "start_time": "2022-10-30T22:50:16.839Z"
   },
   {
    "duration": 15,
    "start_time": "2022-10-30T22:57:02.183Z"
   },
   {
    "duration": 55,
    "start_time": "2022-10-30T22:59:20.577Z"
   },
   {
    "duration": 44,
    "start_time": "2022-10-30T22:59:26.959Z"
   },
   {
    "duration": 128,
    "start_time": "2022-10-30T22:59:40.128Z"
   },
   {
    "duration": 156,
    "start_time": "2022-10-30T23:01:51.351Z"
   },
   {
    "duration": 96,
    "start_time": "2022-10-30T23:02:12.410Z"
   },
   {
    "duration": 10,
    "start_time": "2022-10-30T23:02:41.298Z"
   },
   {
    "duration": 113,
    "start_time": "2022-10-30T23:03:08.009Z"
   },
   {
    "duration": 9,
    "start_time": "2022-10-30T23:03:27.029Z"
   },
   {
    "duration": 16,
    "start_time": "2022-10-30T23:04:06.669Z"
   },
   {
    "duration": 13,
    "start_time": "2022-10-30T23:04:35.106Z"
   },
   {
    "duration": 12,
    "start_time": "2022-10-30T23:04:47.054Z"
   },
   {
    "duration": 126,
    "start_time": "2022-10-30T23:05:01.469Z"
   },
   {
    "duration": 124,
    "start_time": "2022-10-30T23:05:10.834Z"
   },
   {
    "duration": 116,
    "start_time": "2022-10-30T23:05:26.412Z"
   },
   {
    "duration": 244,
    "start_time": "2022-10-30T23:05:34.160Z"
   },
   {
    "duration": 114,
    "start_time": "2022-10-30T23:05:43.585Z"
   },
   {
    "duration": 105,
    "start_time": "2022-10-30T23:15:07.736Z"
   },
   {
    "duration": 13,
    "start_time": "2022-10-30T23:21:01.895Z"
   },
   {
    "duration": 29,
    "start_time": "2022-10-30T23:31:18.451Z"
   },
   {
    "duration": 28,
    "start_time": "2022-10-30T23:31:46.475Z"
   },
   {
    "duration": 23,
    "start_time": "2022-10-30T23:31:54.505Z"
   },
   {
    "duration": 32,
    "start_time": "2022-10-30T23:32:23.380Z"
   },
   {
    "duration": 33,
    "start_time": "2022-10-30T23:32:53.831Z"
   },
   {
    "duration": 30,
    "start_time": "2022-10-30T23:33:20.745Z"
   },
   {
    "duration": 33,
    "start_time": "2022-10-30T23:33:30.847Z"
   },
   {
    "duration": 30,
    "start_time": "2022-10-30T23:33:50.400Z"
   },
   {
    "duration": 32,
    "start_time": "2022-10-30T23:34:00.487Z"
   },
   {
    "duration": 32,
    "start_time": "2022-10-30T23:34:35.036Z"
   },
   {
    "duration": 28,
    "start_time": "2022-10-30T23:35:33.255Z"
   },
   {
    "duration": 28,
    "start_time": "2022-10-30T23:37:02.456Z"
   },
   {
    "duration": 29,
    "start_time": "2022-10-30T23:37:09.303Z"
   },
   {
    "duration": 32,
    "start_time": "2022-10-30T23:38:25.698Z"
   },
   {
    "duration": 30,
    "start_time": "2022-10-30T23:38:46.671Z"
   },
   {
    "duration": 31,
    "start_time": "2022-10-30T23:39:35.765Z"
   },
   {
    "duration": 41,
    "start_time": "2022-10-30T23:39:54.681Z"
   },
   {
    "duration": 32,
    "start_time": "2022-10-30T23:40:02.985Z"
   },
   {
    "duration": 28,
    "start_time": "2022-10-30T23:42:24.525Z"
   },
   {
    "duration": 460,
    "start_time": "2022-10-31T00:50:53.448Z"
   },
   {
    "duration": 20,
    "start_time": "2022-10-31T00:50:53.910Z"
   },
   {
    "duration": 13,
    "start_time": "2022-10-31T00:50:53.931Z"
   },
   {
    "duration": 9,
    "start_time": "2022-10-31T00:50:53.945Z"
   },
   {
    "duration": 5,
    "start_time": "2022-10-31T00:50:53.955Z"
   },
   {
    "duration": 13,
    "start_time": "2022-10-31T00:50:53.961Z"
   },
   {
    "duration": 11,
    "start_time": "2022-10-31T00:50:53.975Z"
   },
   {
    "duration": 40,
    "start_time": "2022-10-31T00:50:53.987Z"
   },
   {
    "duration": 5,
    "start_time": "2022-10-31T00:50:54.029Z"
   },
   {
    "duration": 9,
    "start_time": "2022-10-31T00:50:54.037Z"
   },
   {
    "duration": 5,
    "start_time": "2022-10-31T00:50:54.047Z"
   },
   {
    "duration": 31,
    "start_time": "2022-10-31T00:50:54.054Z"
   },
   {
    "duration": 3,
    "start_time": "2022-10-31T00:50:54.086Z"
   },
   {
    "duration": 39,
    "start_time": "2022-10-31T00:50:54.090Z"
   },
   {
    "duration": 4,
    "start_time": "2022-10-31T00:50:54.130Z"
   },
   {
    "duration": 6,
    "start_time": "2022-10-31T00:50:54.135Z"
   },
   {
    "duration": 5,
    "start_time": "2022-10-31T00:50:54.143Z"
   },
   {
    "duration": 8,
    "start_time": "2022-10-31T00:50:54.149Z"
   },
   {
    "duration": 37,
    "start_time": "2022-10-31T00:50:54.158Z"
   },
   {
    "duration": 8,
    "start_time": "2022-10-31T00:50:54.196Z"
   },
   {
    "duration": 3,
    "start_time": "2022-10-31T00:50:54.222Z"
   },
   {
    "duration": 11,
    "start_time": "2022-10-31T00:50:54.226Z"
   },
   {
    "duration": 17,
    "start_time": "2022-10-31T00:50:54.238Z"
   },
   {
    "duration": 15,
    "start_time": "2022-10-31T00:50:54.256Z"
   },
   {
    "duration": 3,
    "start_time": "2022-10-31T00:50:54.273Z"
   },
   {
    "duration": 16,
    "start_time": "2022-10-31T00:50:54.277Z"
   },
   {
    "duration": 29,
    "start_time": "2022-10-31T00:50:54.294Z"
   },
   {
    "duration": 3,
    "start_time": "2022-10-31T00:50:54.327Z"
   },
   {
    "duration": 13,
    "start_time": "2022-10-31T00:50:54.331Z"
   },
   {
    "duration": 6,
    "start_time": "2022-10-31T00:50:54.345Z"
   },
   {
    "duration": 16,
    "start_time": "2022-10-31T00:50:54.352Z"
   },
   {
    "duration": 13,
    "start_time": "2022-10-31T00:50:54.370Z"
   },
   {
    "duration": 3,
    "start_time": "2022-10-31T00:50:54.384Z"
   },
   {
    "duration": 8,
    "start_time": "2022-10-31T00:50:54.388Z"
   },
   {
    "duration": 27,
    "start_time": "2022-10-31T00:50:54.397Z"
   },
   {
    "duration": 8,
    "start_time": "2022-10-31T00:50:54.425Z"
   },
   {
    "duration": 5,
    "start_time": "2022-10-31T00:50:54.434Z"
   },
   {
    "duration": 5,
    "start_time": "2022-10-31T00:50:54.440Z"
   },
   {
    "duration": 4,
    "start_time": "2022-10-31T00:50:54.446Z"
   },
   {
    "duration": 8,
    "start_time": "2022-10-31T00:50:54.451Z"
   },
   {
    "duration": 5,
    "start_time": "2022-10-31T00:50:54.460Z"
   },
   {
    "duration": 12,
    "start_time": "2022-10-31T00:50:54.466Z"
   },
   {
    "duration": 44,
    "start_time": "2022-10-31T00:50:54.479Z"
   },
   {
    "duration": 11,
    "start_time": "2022-10-31T00:50:54.525Z"
   },
   {
    "duration": 4,
    "start_time": "2022-10-31T00:50:54.537Z"
   },
   {
    "duration": 7,
    "start_time": "2022-10-31T00:50:54.543Z"
   },
   {
    "duration": 10,
    "start_time": "2022-10-31T00:50:54.551Z"
   },
   {
    "duration": 5,
    "start_time": "2022-10-31T00:50:54.562Z"
   },
   {
    "duration": 4,
    "start_time": "2022-10-31T00:50:54.569Z"
   },
   {
    "duration": 13,
    "start_time": "2022-10-31T00:50:54.574Z"
   },
   {
    "duration": 42,
    "start_time": "2022-10-31T00:50:54.588Z"
   },
   {
    "duration": 9,
    "start_time": "2022-10-31T00:50:54.632Z"
   },
   {
    "duration": 14,
    "start_time": "2022-10-31T00:50:54.642Z"
   },
   {
    "duration": 22,
    "start_time": "2022-10-31T00:50:54.657Z"
   },
   {
    "duration": 17,
    "start_time": "2022-10-31T00:50:54.680Z"
   },
   {
    "duration": 11,
    "start_time": "2022-10-31T00:50:54.698Z"
   },
   {
    "duration": 20,
    "start_time": "2022-10-31T00:50:54.710Z"
   },
   {
    "duration": 4,
    "start_time": "2022-10-31T00:50:54.732Z"
   },
   {
    "duration": 20,
    "start_time": "2022-10-31T00:50:54.738Z"
   },
   {
    "duration": 306,
    "start_time": "2022-10-31T00:50:54.760Z"
   },
   {
    "duration": 3,
    "start_time": "2022-10-31T00:50:55.068Z"
   },
   {
    "duration": 44,
    "start_time": "2022-10-31T00:50:55.073Z"
   },
   {
    "duration": 105,
    "start_time": "2022-10-31T00:50:55.118Z"
   },
   {
    "duration": 29,
    "start_time": "2022-10-31T00:50:55.224Z"
   },
   {
    "duration": 27,
    "start_time": "2022-10-31T00:50:55.254Z"
   },
   {
    "duration": 42,
    "start_time": "2022-10-31T00:50:55.282Z"
   },
   {
    "duration": 105,
    "start_time": "2022-10-31T00:50:55.325Z"
   },
   {
    "duration": 10,
    "start_time": "2022-10-31T00:50:55.432Z"
   },
   {
    "duration": 118,
    "start_time": "2022-10-31T00:50:55.444Z"
   },
   {
    "duration": 14,
    "start_time": "2022-10-31T00:50:55.563Z"
   },
   {
    "duration": 171,
    "start_time": "2022-10-31T00:50:55.579Z"
   },
   {
    "duration": 119,
    "start_time": "2022-10-31T00:50:55.751Z"
   },
   {
    "duration": 10,
    "start_time": "2022-10-31T00:50:55.872Z"
   },
   {
    "duration": 105,
    "start_time": "2022-10-31T00:50:55.883Z"
   },
   {
    "duration": 9,
    "start_time": "2022-10-31T00:50:55.989Z"
   },
   {
    "duration": 7,
    "start_time": "2022-10-31T00:50:55.999Z"
   },
   {
    "duration": 22,
    "start_time": "2022-10-31T00:50:56.007Z"
   },
   {
    "duration": 8,
    "start_time": "2022-10-31T00:50:56.031Z"
   },
   {
    "duration": 8,
    "start_time": "2022-10-31T00:50:56.040Z"
   },
   {
    "duration": 9,
    "start_time": "2022-10-31T00:50:56.049Z"
   },
   {
    "duration": 16,
    "start_time": "2022-10-31T00:50:56.060Z"
   },
   {
    "duration": 43,
    "start_time": "2022-10-31T00:50:56.080Z"
   },
   {
    "duration": 59,
    "start_time": "2022-10-31T14:18:24.372Z"
   },
   {
    "duration": 697,
    "start_time": "2022-10-31T14:18:31.812Z"
   },
   {
    "duration": 22,
    "start_time": "2022-10-31T14:18:32.510Z"
   },
   {
    "duration": 21,
    "start_time": "2022-10-31T14:18:32.533Z"
   },
   {
    "duration": 21,
    "start_time": "2022-10-31T14:18:32.556Z"
   },
   {
    "duration": 13,
    "start_time": "2022-10-31T14:18:32.578Z"
   },
   {
    "duration": 37,
    "start_time": "2022-10-31T14:18:32.592Z"
   },
   {
    "duration": 16,
    "start_time": "2022-10-31T14:18:32.631Z"
   },
   {
    "duration": 20,
    "start_time": "2022-10-31T14:18:32.649Z"
   },
   {
    "duration": 14,
    "start_time": "2022-10-31T14:18:32.671Z"
   },
   {
    "duration": 25,
    "start_time": "2022-10-31T14:18:32.687Z"
   },
   {
    "duration": 14,
    "start_time": "2022-10-31T14:18:32.714Z"
   },
   {
    "duration": 45,
    "start_time": "2022-10-31T14:18:32.729Z"
   },
   {
    "duration": 3,
    "start_time": "2022-10-31T14:18:32.776Z"
   },
   {
    "duration": 27,
    "start_time": "2022-10-31T14:18:32.781Z"
   },
   {
    "duration": 16,
    "start_time": "2022-10-31T14:18:32.810Z"
   },
   {
    "duration": 10,
    "start_time": "2022-10-31T14:18:32.827Z"
   },
   {
    "duration": 10,
    "start_time": "2022-10-31T14:18:32.838Z"
   },
   {
    "duration": 17,
    "start_time": "2022-10-31T14:18:32.849Z"
   },
   {
    "duration": 45,
    "start_time": "2022-10-31T14:18:32.867Z"
   },
   {
    "duration": 10,
    "start_time": "2022-10-31T14:18:32.914Z"
   },
   {
    "duration": 5,
    "start_time": "2022-10-31T14:18:32.926Z"
   },
   {
    "duration": 12,
    "start_time": "2022-10-31T14:18:32.933Z"
   },
   {
    "duration": 22,
    "start_time": "2022-10-31T14:18:32.946Z"
   },
   {
    "duration": 40,
    "start_time": "2022-10-31T14:18:32.969Z"
   },
   {
    "duration": 4,
    "start_time": "2022-10-31T14:18:33.010Z"
   },
   {
    "duration": 12,
    "start_time": "2022-10-31T14:18:33.016Z"
   },
   {
    "duration": 9,
    "start_time": "2022-10-31T14:18:33.030Z"
   },
   {
    "duration": 3,
    "start_time": "2022-10-31T14:18:33.044Z"
   },
   {
    "duration": 10,
    "start_time": "2022-10-31T14:18:33.048Z"
   },
   {
    "duration": 4,
    "start_time": "2022-10-31T14:18:33.059Z"
   },
   {
    "duration": 45,
    "start_time": "2022-10-31T14:18:33.065Z"
   },
   {
    "duration": 17,
    "start_time": "2022-10-31T14:18:33.111Z"
   },
   {
    "duration": 5,
    "start_time": "2022-10-31T14:18:33.130Z"
   },
   {
    "duration": 8,
    "start_time": "2022-10-31T14:18:33.136Z"
   },
   {
    "duration": 9,
    "start_time": "2022-10-31T14:18:33.145Z"
   },
   {
    "duration": 9,
    "start_time": "2022-10-31T14:18:33.155Z"
   },
   {
    "duration": 6,
    "start_time": "2022-10-31T14:18:33.165Z"
   },
   {
    "duration": 38,
    "start_time": "2022-10-31T14:18:33.172Z"
   },
   {
    "duration": 7,
    "start_time": "2022-10-31T14:18:33.212Z"
   },
   {
    "duration": 17,
    "start_time": "2022-10-31T14:18:33.220Z"
   },
   {
    "duration": 7,
    "start_time": "2022-10-31T14:18:33.239Z"
   },
   {
    "duration": 24,
    "start_time": "2022-10-31T14:18:33.247Z"
   },
   {
    "duration": 7,
    "start_time": "2022-10-31T14:18:33.273Z"
   },
   {
    "duration": 30,
    "start_time": "2022-10-31T14:18:33.281Z"
   },
   {
    "duration": 5,
    "start_time": "2022-10-31T14:18:33.312Z"
   },
   {
    "duration": 11,
    "start_time": "2022-10-31T14:18:33.318Z"
   },
   {
    "duration": 9,
    "start_time": "2022-10-31T14:18:33.331Z"
   },
   {
    "duration": 11,
    "start_time": "2022-10-31T14:18:33.342Z"
   },
   {
    "duration": 16,
    "start_time": "2022-10-31T14:18:33.354Z"
   },
   {
    "duration": 19,
    "start_time": "2022-10-31T14:18:33.371Z"
   },
   {
    "duration": 18,
    "start_time": "2022-10-31T14:18:33.392Z"
   },
   {
    "duration": 18,
    "start_time": "2022-10-31T14:18:33.412Z"
   },
   {
    "duration": 17,
    "start_time": "2022-10-31T14:18:33.432Z"
   },
   {
    "duration": 23,
    "start_time": "2022-10-31T14:18:33.451Z"
   },
   {
    "duration": 15,
    "start_time": "2022-10-31T14:18:33.476Z"
   },
   {
    "duration": 18,
    "start_time": "2022-10-31T14:18:33.492Z"
   },
   {
    "duration": 15,
    "start_time": "2022-10-31T14:18:33.511Z"
   },
   {
    "duration": 11,
    "start_time": "2022-10-31T14:18:33.527Z"
   },
   {
    "duration": 26,
    "start_time": "2022-10-31T14:18:33.539Z"
   },
   {
    "duration": 524,
    "start_time": "2022-10-31T14:18:33.566Z"
   },
   {
    "duration": 4,
    "start_time": "2022-10-31T14:18:34.091Z"
   },
   {
    "duration": 28,
    "start_time": "2022-10-31T14:18:34.096Z"
   },
   {
    "duration": 104,
    "start_time": "2022-10-31T14:18:34.125Z"
   },
   {
    "duration": 30,
    "start_time": "2022-10-31T14:18:34.230Z"
   },
   {
    "duration": 49,
    "start_time": "2022-10-31T14:18:34.261Z"
   },
   {
    "duration": 25,
    "start_time": "2022-10-31T14:18:34.311Z"
   },
   {
    "duration": 127,
    "start_time": "2022-10-31T14:18:34.337Z"
   },
   {
    "duration": 13,
    "start_time": "2022-10-31T14:18:34.465Z"
   },
   {
    "duration": 157,
    "start_time": "2022-10-31T14:18:34.480Z"
   },
   {
    "duration": 13,
    "start_time": "2022-10-31T14:18:34.639Z"
   },
   {
    "duration": 169,
    "start_time": "2022-10-31T14:18:34.653Z"
   },
   {
    "duration": 121,
    "start_time": "2022-10-31T14:18:34.824Z"
   },
   {
    "duration": 9,
    "start_time": "2022-10-31T14:18:34.947Z"
   },
   {
    "duration": 113,
    "start_time": "2022-10-31T14:18:34.958Z"
   },
   {
    "duration": 5,
    "start_time": "2022-10-31T14:18:35.073Z"
   },
   {
    "duration": 96,
    "start_time": "2022-10-31T14:18:35.079Z"
   },
   {
    "duration": 0,
    "start_time": "2022-10-31T14:18:35.177Z"
   },
   {
    "duration": 0,
    "start_time": "2022-10-31T14:18:35.179Z"
   },
   {
    "duration": 0,
    "start_time": "2022-10-31T14:18:35.180Z"
   },
   {
    "duration": 0,
    "start_time": "2022-10-31T14:18:35.182Z"
   },
   {
    "duration": 0,
    "start_time": "2022-10-31T14:18:35.183Z"
   },
   {
    "duration": 0,
    "start_time": "2022-10-31T14:18:35.184Z"
   },
   {
    "duration": 0,
    "start_time": "2022-10-31T14:18:35.186Z"
   },
   {
    "duration": 7,
    "start_time": "2022-10-31T14:18:51.061Z"
   },
   {
    "duration": 8,
    "start_time": "2022-10-31T14:18:59.311Z"
   },
   {
    "duration": 7,
    "start_time": "2022-10-31T14:19:16.790Z"
   },
   {
    "duration": 4,
    "start_time": "2022-10-31T14:19:22.551Z"
   },
   {
    "duration": 7,
    "start_time": "2022-10-31T14:19:40.730Z"
   },
   {
    "duration": 9,
    "start_time": "2022-10-31T14:19:48.040Z"
   },
   {
    "duration": 10,
    "start_time": "2022-10-31T14:19:58.233Z"
   },
   {
    "duration": 7,
    "start_time": "2022-10-31T14:20:09.021Z"
   },
   {
    "duration": 511,
    "start_time": "2022-10-31T14:21:52.180Z"
   },
   {
    "duration": 22,
    "start_time": "2022-10-31T14:21:52.693Z"
   },
   {
    "duration": 15,
    "start_time": "2022-10-31T14:21:52.717Z"
   },
   {
    "duration": 11,
    "start_time": "2022-10-31T14:21:52.734Z"
   },
   {
    "duration": 7,
    "start_time": "2022-10-31T14:21:52.747Z"
   },
   {
    "duration": 16,
    "start_time": "2022-10-31T14:21:52.755Z"
   },
   {
    "duration": 48,
    "start_time": "2022-10-31T14:21:52.772Z"
   },
   {
    "duration": 14,
    "start_time": "2022-10-31T14:21:52.822Z"
   },
   {
    "duration": 7,
    "start_time": "2022-10-31T14:21:52.838Z"
   },
   {
    "duration": 7,
    "start_time": "2022-10-31T14:21:52.849Z"
   },
   {
    "duration": 53,
    "start_time": "2022-10-31T14:21:52.857Z"
   },
   {
    "duration": 42,
    "start_time": "2022-10-31T14:21:52.912Z"
   },
   {
    "duration": 3,
    "start_time": "2022-10-31T14:21:52.956Z"
   },
   {
    "duration": 11,
    "start_time": "2022-10-31T14:21:52.961Z"
   },
   {
    "duration": 4,
    "start_time": "2022-10-31T14:21:52.974Z"
   },
   {
    "duration": 33,
    "start_time": "2022-10-31T14:21:52.980Z"
   },
   {
    "duration": 11,
    "start_time": "2022-10-31T14:21:53.014Z"
   },
   {
    "duration": 6,
    "start_time": "2022-10-31T14:21:53.026Z"
   },
   {
    "duration": 35,
    "start_time": "2022-10-31T14:21:53.034Z"
   },
   {
    "duration": 8,
    "start_time": "2022-10-31T14:21:53.071Z"
   },
   {
    "duration": 29,
    "start_time": "2022-10-31T14:21:53.080Z"
   },
   {
    "duration": 11,
    "start_time": "2022-10-31T14:21:53.111Z"
   },
   {
    "duration": 24,
    "start_time": "2022-10-31T14:21:53.124Z"
   },
   {
    "duration": 17,
    "start_time": "2022-10-31T14:21:53.150Z"
   },
   {
    "duration": 4,
    "start_time": "2022-10-31T14:21:53.169Z"
   },
   {
    "duration": 37,
    "start_time": "2022-10-31T14:21:53.174Z"
   },
   {
    "duration": 7,
    "start_time": "2022-10-31T14:21:53.213Z"
   },
   {
    "duration": 3,
    "start_time": "2022-10-31T14:21:53.224Z"
   },
   {
    "duration": 10,
    "start_time": "2022-10-31T14:21:53.229Z"
   },
   {
    "duration": 4,
    "start_time": "2022-10-31T14:21:53.240Z"
   },
   {
    "duration": 16,
    "start_time": "2022-10-31T14:21:53.245Z"
   },
   {
    "duration": 15,
    "start_time": "2022-10-31T14:21:53.263Z"
   },
   {
    "duration": 29,
    "start_time": "2022-10-31T14:21:53.280Z"
   },
   {
    "duration": 7,
    "start_time": "2022-10-31T14:21:53.311Z"
   },
   {
    "duration": 9,
    "start_time": "2022-10-31T14:21:53.319Z"
   },
   {
    "duration": 8,
    "start_time": "2022-10-31T14:21:53.330Z"
   },
   {
    "duration": 6,
    "start_time": "2022-10-31T14:21:53.339Z"
   },
   {
    "duration": 8,
    "start_time": "2022-10-31T14:21:53.347Z"
   },
   {
    "duration": 5,
    "start_time": "2022-10-31T14:21:53.356Z"
   },
   {
    "duration": 10,
    "start_time": "2022-10-31T14:21:53.363Z"
   },
   {
    "duration": 36,
    "start_time": "2022-10-31T14:21:53.374Z"
   },
   {
    "duration": 12,
    "start_time": "2022-10-31T14:21:53.411Z"
   },
   {
    "duration": 8,
    "start_time": "2022-10-31T14:21:53.425Z"
   },
   {
    "duration": 10,
    "start_time": "2022-10-31T14:21:53.435Z"
   },
   {
    "duration": 5,
    "start_time": "2022-10-31T14:21:53.447Z"
   },
   {
    "duration": 11,
    "start_time": "2022-10-31T14:21:53.454Z"
   },
   {
    "duration": 9,
    "start_time": "2022-10-31T14:21:53.466Z"
   },
   {
    "duration": 34,
    "start_time": "2022-10-31T14:21:53.476Z"
   },
   {
    "duration": 4,
    "start_time": "2022-10-31T14:21:53.512Z"
   },
   {
    "duration": 12,
    "start_time": "2022-10-31T14:21:53.517Z"
   },
   {
    "duration": 9,
    "start_time": "2022-10-31T14:21:53.531Z"
   },
   {
    "duration": 9,
    "start_time": "2022-10-31T14:21:53.542Z"
   },
   {
    "duration": 12,
    "start_time": "2022-10-31T14:21:53.552Z"
   },
   {
    "duration": 44,
    "start_time": "2022-10-31T14:21:53.565Z"
   },
   {
    "duration": 12,
    "start_time": "2022-10-31T14:21:53.611Z"
   },
   {
    "duration": 19,
    "start_time": "2022-10-31T14:21:53.624Z"
   },
   {
    "duration": 14,
    "start_time": "2022-10-31T14:21:53.645Z"
   },
   {
    "duration": 4,
    "start_time": "2022-10-31T14:21:53.660Z"
   },
   {
    "duration": 12,
    "start_time": "2022-10-31T14:21:53.666Z"
   },
   {
    "duration": 354,
    "start_time": "2022-10-31T14:21:53.679Z"
   },
   {
    "duration": 3,
    "start_time": "2022-10-31T14:21:54.035Z"
   },
   {
    "duration": 35,
    "start_time": "2022-10-31T14:21:54.040Z"
   },
   {
    "duration": 94,
    "start_time": "2022-10-31T14:21:54.077Z"
   },
   {
    "duration": 39,
    "start_time": "2022-10-31T14:21:54.172Z"
   },
   {
    "duration": 29,
    "start_time": "2022-10-31T14:21:54.213Z"
   },
   {
    "duration": 25,
    "start_time": "2022-10-31T14:21:54.243Z"
   },
   {
    "duration": 124,
    "start_time": "2022-10-31T14:21:54.270Z"
   },
   {
    "duration": 19,
    "start_time": "2022-10-31T14:21:54.396Z"
   },
   {
    "duration": 160,
    "start_time": "2022-10-31T14:21:54.417Z"
   },
   {
    "duration": 15,
    "start_time": "2022-10-31T14:21:54.578Z"
   },
   {
    "duration": 176,
    "start_time": "2022-10-31T14:21:54.597Z"
   },
   {
    "duration": 115,
    "start_time": "2022-10-31T14:21:54.774Z"
   },
   {
    "duration": 24,
    "start_time": "2022-10-31T14:21:54.890Z"
   },
   {
    "duration": 111,
    "start_time": "2022-10-31T14:21:54.915Z"
   },
   {
    "duration": 5,
    "start_time": "2022-10-31T14:21:55.028Z"
   },
   {
    "duration": 12,
    "start_time": "2022-10-31T14:21:55.034Z"
   },
   {
    "duration": 9,
    "start_time": "2022-10-31T14:21:55.047Z"
   },
   {
    "duration": 9,
    "start_time": "2022-10-31T14:21:55.058Z"
   },
   {
    "duration": 10,
    "start_time": "2022-10-31T14:21:55.068Z"
   },
   {
    "duration": 13,
    "start_time": "2022-10-31T14:21:55.080Z"
   },
   {
    "duration": 12,
    "start_time": "2022-10-31T14:21:55.110Z"
   },
   {
    "duration": 31,
    "start_time": "2022-10-31T14:21:55.127Z"
   },
   {
    "duration": 13,
    "start_time": "2022-10-31T14:24:44.914Z"
   },
   {
    "duration": 13,
    "start_time": "2022-10-31T14:29:56.234Z"
   },
   {
    "duration": 73,
    "start_time": "2022-10-31T14:41:47.294Z"
   },
   {
    "duration": 60,
    "start_time": "2022-10-31T16:33:48.614Z"
   },
   {
    "duration": 91,
    "start_time": "2022-10-31T16:34:02.561Z"
   },
   {
    "duration": 48,
    "start_time": "2022-10-31T16:54:07.989Z"
   },
   {
    "duration": 748,
    "start_time": "2022-10-31T16:55:15.740Z"
   },
   {
    "duration": 23,
    "start_time": "2022-10-31T16:55:16.490Z"
   },
   {
    "duration": 24,
    "start_time": "2022-10-31T16:55:16.514Z"
   },
   {
    "duration": 23,
    "start_time": "2022-10-31T16:55:16.540Z"
   },
   {
    "duration": 20,
    "start_time": "2022-10-31T16:55:16.564Z"
   },
   {
    "duration": 29,
    "start_time": "2022-10-31T16:55:16.586Z"
   },
   {
    "duration": 35,
    "start_time": "2022-10-31T16:55:16.617Z"
   },
   {
    "duration": 38,
    "start_time": "2022-10-31T16:55:16.654Z"
   },
   {
    "duration": 8,
    "start_time": "2022-10-31T16:55:16.693Z"
   },
   {
    "duration": 39,
    "start_time": "2022-10-31T16:55:16.704Z"
   },
   {
    "duration": 15,
    "start_time": "2022-10-31T16:55:16.745Z"
   },
   {
    "duration": 58,
    "start_time": "2022-10-31T16:55:16.761Z"
   },
   {
    "duration": 5,
    "start_time": "2022-10-31T16:55:16.821Z"
   },
   {
    "duration": 28,
    "start_time": "2022-10-31T16:55:16.827Z"
   },
   {
    "duration": 19,
    "start_time": "2022-10-31T16:55:16.857Z"
   },
   {
    "duration": 14,
    "start_time": "2022-10-31T16:55:16.878Z"
   },
   {
    "duration": 25,
    "start_time": "2022-10-31T16:55:16.894Z"
   },
   {
    "duration": 14,
    "start_time": "2022-10-31T16:55:16.921Z"
   },
   {
    "duration": 53,
    "start_time": "2022-10-31T16:55:16.936Z"
   },
   {
    "duration": 10,
    "start_time": "2022-10-31T16:55:16.991Z"
   },
   {
    "duration": 15,
    "start_time": "2022-10-31T16:55:17.002Z"
   },
   {
    "duration": 26,
    "start_time": "2022-10-31T16:55:17.019Z"
   },
   {
    "duration": 34,
    "start_time": "2022-10-31T16:55:17.046Z"
   },
   {
    "duration": 20,
    "start_time": "2022-10-31T16:55:17.082Z"
   },
   {
    "duration": 8,
    "start_time": "2022-10-31T16:55:17.104Z"
   },
   {
    "duration": 41,
    "start_time": "2022-10-31T16:55:17.114Z"
   },
   {
    "duration": 19,
    "start_time": "2022-10-31T16:55:17.156Z"
   },
   {
    "duration": 24,
    "start_time": "2022-10-31T16:55:17.179Z"
   },
   {
    "duration": 47,
    "start_time": "2022-10-31T16:55:17.205Z"
   },
   {
    "duration": 19,
    "start_time": "2022-10-31T16:55:17.254Z"
   },
   {
    "duration": 33,
    "start_time": "2022-10-31T16:55:17.275Z"
   },
   {
    "duration": 40,
    "start_time": "2022-10-31T16:55:17.309Z"
   },
   {
    "duration": 15,
    "start_time": "2022-10-31T16:55:17.351Z"
   },
   {
    "duration": 46,
    "start_time": "2022-10-31T16:55:17.368Z"
   },
   {
    "duration": 29,
    "start_time": "2022-10-31T16:55:17.416Z"
   },
   {
    "duration": 14,
    "start_time": "2022-10-31T16:55:17.447Z"
   },
   {
    "duration": 23,
    "start_time": "2022-10-31T16:55:17.463Z"
   },
   {
    "duration": 13,
    "start_time": "2022-10-31T16:55:17.488Z"
   },
   {
    "duration": 26,
    "start_time": "2022-10-31T16:55:17.503Z"
   },
   {
    "duration": 23,
    "start_time": "2022-10-31T16:55:17.531Z"
   },
   {
    "duration": 47,
    "start_time": "2022-10-31T16:55:17.555Z"
   },
   {
    "duration": 25,
    "start_time": "2022-10-31T16:55:17.604Z"
   },
   {
    "duration": 24,
    "start_time": "2022-10-31T16:55:17.631Z"
   },
   {
    "duration": 21,
    "start_time": "2022-10-31T16:55:17.657Z"
   },
   {
    "duration": 27,
    "start_time": "2022-10-31T16:55:17.680Z"
   },
   {
    "duration": 51,
    "start_time": "2022-10-31T16:55:17.709Z"
   },
   {
    "duration": 36,
    "start_time": "2022-10-31T16:55:17.761Z"
   },
   {
    "duration": 36,
    "start_time": "2022-10-31T16:55:17.799Z"
   },
   {
    "duration": 18,
    "start_time": "2022-10-31T16:55:17.837Z"
   },
   {
    "duration": 40,
    "start_time": "2022-10-31T16:55:17.857Z"
   },
   {
    "duration": 15,
    "start_time": "2022-10-31T16:55:17.898Z"
   },
   {
    "duration": 26,
    "start_time": "2022-10-31T16:55:17.914Z"
   },
   {
    "duration": 14,
    "start_time": "2022-10-31T16:55:17.941Z"
   },
   {
    "duration": 23,
    "start_time": "2022-10-31T16:55:17.957Z"
   },
   {
    "duration": 11,
    "start_time": "2022-10-31T16:55:17.981Z"
   },
   {
    "duration": 12,
    "start_time": "2022-10-31T16:55:17.994Z"
   },
   {
    "duration": 14,
    "start_time": "2022-10-31T16:55:18.007Z"
   },
   {
    "duration": 4,
    "start_time": "2022-10-31T16:55:18.022Z"
   },
   {
    "duration": 28,
    "start_time": "2022-10-31T16:55:18.027Z"
   },
   {
    "duration": 526,
    "start_time": "2022-10-31T16:55:18.056Z"
   },
   {
    "duration": 4,
    "start_time": "2022-10-31T16:55:18.583Z"
   },
   {
    "duration": 24,
    "start_time": "2022-10-31T16:55:18.588Z"
   },
   {
    "duration": 119,
    "start_time": "2022-10-31T16:55:18.614Z"
   },
   {
    "duration": 39,
    "start_time": "2022-10-31T16:55:18.735Z"
   },
   {
    "duration": 32,
    "start_time": "2022-10-31T16:55:18.776Z"
   },
   {
    "duration": 46,
    "start_time": "2022-10-31T16:55:18.809Z"
   },
   {
    "duration": 116,
    "start_time": "2022-10-31T16:55:18.857Z"
   },
   {
    "duration": 11,
    "start_time": "2022-10-31T16:55:18.975Z"
   },
   {
    "duration": 135,
    "start_time": "2022-10-31T16:55:18.987Z"
   },
   {
    "duration": 12,
    "start_time": "2022-10-31T16:55:19.124Z"
   },
   {
    "duration": 192,
    "start_time": "2022-10-31T16:55:19.138Z"
   },
   {
    "duration": 143,
    "start_time": "2022-10-31T16:55:19.332Z"
   },
   {
    "duration": 10,
    "start_time": "2022-10-31T16:55:19.477Z"
   },
   {
    "duration": 123,
    "start_time": "2022-10-31T16:55:19.489Z"
   },
   {
    "duration": 8,
    "start_time": "2022-10-31T16:55:19.613Z"
   },
   {
    "duration": 6,
    "start_time": "2022-10-31T16:55:19.623Z"
   },
   {
    "duration": 23,
    "start_time": "2022-10-31T16:55:19.631Z"
   },
   {
    "duration": 20,
    "start_time": "2022-10-31T16:55:19.656Z"
   },
   {
    "duration": 20,
    "start_time": "2022-10-31T16:55:19.678Z"
   },
   {
    "duration": 14,
    "start_time": "2022-10-31T16:55:19.699Z"
   },
   {
    "duration": 20,
    "start_time": "2022-10-31T16:55:19.714Z"
   },
   {
    "duration": 43,
    "start_time": "2022-10-31T16:55:19.739Z"
   },
   {
    "duration": 39,
    "start_time": "2022-10-31T16:55:19.784Z"
   },
   {
    "duration": 49,
    "start_time": "2022-10-31T16:55:43.096Z"
   },
   {
    "duration": 40,
    "start_time": "2022-10-31T16:56:32.193Z"
   },
   {
    "duration": 42,
    "start_time": "2022-10-31T16:56:53.206Z"
   },
   {
    "duration": 14,
    "start_time": "2022-10-31T17:06:31.366Z"
   },
   {
    "duration": 19,
    "start_time": "2022-10-31T17:40:32.934Z"
   },
   {
    "duration": 17,
    "start_time": "2022-10-31T17:42:07.128Z"
   },
   {
    "duration": 55,
    "start_time": "2022-10-31T17:45:13.526Z"
   },
   {
    "duration": 94,
    "start_time": "2022-10-31T17:59:49.522Z"
   },
   {
    "duration": 64,
    "start_time": "2022-10-31T18:00:00.493Z"
   },
   {
    "duration": 47,
    "start_time": "2022-10-31T18:00:20.451Z"
   },
   {
    "duration": 60,
    "start_time": "2022-10-31T18:00:26.439Z"
   },
   {
    "duration": 74,
    "start_time": "2022-10-31T18:01:01.101Z"
   },
   {
    "duration": 17,
    "start_time": "2022-10-31T18:01:01.177Z"
   },
   {
    "duration": 55,
    "start_time": "2022-10-31T18:01:01.195Z"
   },
   {
    "duration": 40,
    "start_time": "2022-10-31T18:01:01.253Z"
   },
   {
    "duration": 37,
    "start_time": "2022-10-31T18:01:01.295Z"
   },
   {
    "duration": 67,
    "start_time": "2022-10-31T18:01:01.334Z"
   },
   {
    "duration": 66,
    "start_time": "2022-10-31T18:01:01.403Z"
   },
   {
    "duration": 57,
    "start_time": "2022-10-31T18:01:01.471Z"
   },
   {
    "duration": 36,
    "start_time": "2022-10-31T18:01:01.530Z"
   },
   {
    "duration": 59,
    "start_time": "2022-10-31T18:01:01.570Z"
   },
   {
    "duration": 39,
    "start_time": "2022-10-31T18:01:01.631Z"
   },
   {
    "duration": 104,
    "start_time": "2022-10-31T18:01:01.672Z"
   },
   {
    "duration": 50,
    "start_time": "2022-10-31T18:01:01.778Z"
   },
   {
    "duration": 41,
    "start_time": "2022-10-31T18:01:01.830Z"
   },
   {
    "duration": 37,
    "start_time": "2022-10-31T18:01:01.873Z"
   },
   {
    "duration": 39,
    "start_time": "2022-10-31T18:01:01.911Z"
   },
   {
    "duration": 23,
    "start_time": "2022-10-31T18:01:01.952Z"
   },
   {
    "duration": 29,
    "start_time": "2022-10-31T18:01:01.977Z"
   },
   {
    "duration": 46,
    "start_time": "2022-10-31T18:01:02.008Z"
   },
   {
    "duration": 10,
    "start_time": "2022-10-31T18:01:02.056Z"
   },
   {
    "duration": 33,
    "start_time": "2022-10-31T18:01:02.067Z"
   },
   {
    "duration": 30,
    "start_time": "2022-10-31T18:01:02.102Z"
   },
   {
    "duration": 43,
    "start_time": "2022-10-31T18:01:02.133Z"
   },
   {
    "duration": 30,
    "start_time": "2022-10-31T18:01:02.178Z"
   },
   {
    "duration": 21,
    "start_time": "2022-10-31T18:01:02.210Z"
   },
   {
    "duration": 34,
    "start_time": "2022-10-31T18:01:02.233Z"
   },
   {
    "duration": 32,
    "start_time": "2022-10-31T18:01:02.269Z"
   },
   {
    "duration": 42,
    "start_time": "2022-10-31T18:01:02.306Z"
   },
   {
    "duration": 43,
    "start_time": "2022-10-31T18:01:02.349Z"
   },
   {
    "duration": 42,
    "start_time": "2022-10-31T18:01:02.393Z"
   },
   {
    "duration": 60,
    "start_time": "2022-10-31T18:01:02.437Z"
   },
   {
    "duration": 39,
    "start_time": "2022-10-31T18:01:02.499Z"
   },
   {
    "duration": 57,
    "start_time": "2022-10-31T18:01:02.539Z"
   },
   {
    "duration": 51,
    "start_time": "2022-10-31T18:01:02.598Z"
   },
   {
    "duration": 46,
    "start_time": "2022-10-31T18:01:02.651Z"
   },
   {
    "duration": 54,
    "start_time": "2022-10-31T18:01:02.699Z"
   },
   {
    "duration": 26,
    "start_time": "2022-10-31T18:01:02.755Z"
   },
   {
    "duration": 35,
    "start_time": "2022-10-31T18:01:02.783Z"
   },
   {
    "duration": 34,
    "start_time": "2022-10-31T18:01:02.820Z"
   },
   {
    "duration": 38,
    "start_time": "2022-10-31T18:01:02.856Z"
   },
   {
    "duration": 34,
    "start_time": "2022-10-31T18:01:02.896Z"
   },
   {
    "duration": 49,
    "start_time": "2022-10-31T18:01:02.932Z"
   },
   {
    "duration": 38,
    "start_time": "2022-10-31T18:01:02.983Z"
   },
   {
    "duration": 41,
    "start_time": "2022-10-31T18:01:03.023Z"
   },
   {
    "duration": 31,
    "start_time": "2022-10-31T18:01:03.066Z"
   },
   {
    "duration": 42,
    "start_time": "2022-10-31T18:01:03.099Z"
   },
   {
    "duration": 41,
    "start_time": "2022-10-31T18:01:03.143Z"
   },
   {
    "duration": 43,
    "start_time": "2022-10-31T18:01:03.186Z"
   },
   {
    "duration": 36,
    "start_time": "2022-10-31T18:01:03.231Z"
   },
   {
    "duration": 44,
    "start_time": "2022-10-31T18:01:03.268Z"
   },
   {
    "duration": 54,
    "start_time": "2022-10-31T18:01:03.314Z"
   },
   {
    "duration": 45,
    "start_time": "2022-10-31T18:01:03.369Z"
   },
   {
    "duration": 38,
    "start_time": "2022-10-31T18:01:03.416Z"
   },
   {
    "duration": 49,
    "start_time": "2022-10-31T18:01:03.456Z"
   },
   {
    "duration": 41,
    "start_time": "2022-10-31T18:01:03.507Z"
   },
   {
    "duration": 30,
    "start_time": "2022-10-31T18:01:03.550Z"
   },
   {
    "duration": 44,
    "start_time": "2022-10-31T18:01:03.581Z"
   },
   {
    "duration": 39,
    "start_time": "2022-10-31T18:01:03.627Z"
   },
   {
    "duration": 56,
    "start_time": "2022-10-31T18:01:03.668Z"
   },
   {
    "duration": 136,
    "start_time": "2022-10-31T18:01:03.726Z"
   },
   {
    "duration": 3,
    "start_time": "2022-10-31T18:01:03.864Z"
   },
   {
    "duration": 43,
    "start_time": "2022-10-31T18:01:03.868Z"
   },
   {
    "duration": 122,
    "start_time": "2022-10-31T18:01:03.913Z"
   },
   {
    "duration": 42,
    "start_time": "2022-10-31T18:01:04.036Z"
   },
   {
    "duration": 41,
    "start_time": "2022-10-31T18:01:04.080Z"
   },
   {
    "duration": 38,
    "start_time": "2022-10-31T18:01:04.123Z"
   },
   {
    "duration": 127,
    "start_time": "2022-10-31T18:01:04.163Z"
   },
   {
    "duration": 11,
    "start_time": "2022-10-31T18:01:04.292Z"
   },
   {
    "duration": 134,
    "start_time": "2022-10-31T18:01:04.305Z"
   },
   {
    "duration": 22,
    "start_time": "2022-10-31T18:01:04.441Z"
   },
   {
    "duration": 133,
    "start_time": "2022-10-31T18:01:04.465Z"
   },
   {
    "duration": 141,
    "start_time": "2022-10-31T18:01:04.600Z"
   },
   {
    "duration": 18,
    "start_time": "2022-10-31T18:01:04.743Z"
   },
   {
    "duration": 123,
    "start_time": "2022-10-31T18:01:04.763Z"
   },
   {
    "duration": 5,
    "start_time": "2022-10-31T18:01:04.888Z"
   },
   {
    "duration": 32,
    "start_time": "2022-10-31T18:01:04.895Z"
   },
   {
    "duration": 44,
    "start_time": "2022-10-31T18:01:04.929Z"
   },
   {
    "duration": 38,
    "start_time": "2022-10-31T18:01:04.975Z"
   },
   {
    "duration": 41,
    "start_time": "2022-10-31T18:01:05.015Z"
   },
   {
    "duration": 49,
    "start_time": "2022-10-31T18:01:05.058Z"
   },
   {
    "duration": 42,
    "start_time": "2022-10-31T18:01:05.109Z"
   },
   {
    "duration": 65,
    "start_time": "2022-10-31T18:01:05.157Z"
   },
   {
    "duration": 94,
    "start_time": "2022-10-31T18:01:05.224Z"
   },
   {
    "duration": 0,
    "start_time": "2022-10-31T18:01:05.320Z"
   },
   {
    "duration": 56,
    "start_time": "2022-10-31T18:01:59.816Z"
   },
   {
    "duration": 52,
    "start_time": "2022-10-31T18:02:15.299Z"
   },
   {
    "duration": 35,
    "start_time": "2022-10-31T18:02:21.070Z"
   },
   {
    "duration": 33,
    "start_time": "2022-10-31T18:02:37.637Z"
   },
   {
    "duration": 51,
    "start_time": "2022-10-31T18:03:16.750Z"
   },
   {
    "duration": 107,
    "start_time": "2022-10-31T18:03:27.325Z"
   },
   {
    "duration": 55,
    "start_time": "2022-10-31T18:03:42.499Z"
   },
   {
    "duration": 39,
    "start_time": "2022-10-31T18:04:03.615Z"
   },
   {
    "duration": 53,
    "start_time": "2022-10-31T18:04:16.329Z"
   },
   {
    "duration": 25,
    "start_time": "2022-10-31T18:04:47.646Z"
   },
   {
    "duration": 875,
    "start_time": "2022-10-31T18:23:27.733Z"
   },
   {
    "duration": 755,
    "start_time": "2022-10-31T18:23:47.833Z"
   },
   {
    "duration": 699,
    "start_time": "2022-10-31T18:25:16.164Z"
   },
   {
    "duration": 698,
    "start_time": "2022-10-31T18:26:18.496Z"
   },
   {
    "duration": 31,
    "start_time": "2022-10-31T18:26:40.633Z"
   },
   {
    "duration": 50,
    "start_time": "2022-10-31T18:27:47.301Z"
   },
   {
    "duration": 31,
    "start_time": "2022-10-31T18:36:55.677Z"
   },
   {
    "duration": 24,
    "start_time": "2022-10-31T19:27:19.201Z"
   },
   {
    "duration": 29,
    "start_time": "2022-10-31T19:27:28.876Z"
   },
   {
    "duration": 27,
    "start_time": "2022-10-31T19:27:41.834Z"
   },
   {
    "duration": 34,
    "start_time": "2022-10-31T19:27:51.470Z"
   },
   {
    "duration": 28,
    "start_time": "2022-10-31T19:27:59.389Z"
   },
   {
    "duration": 37,
    "start_time": "2022-10-31T19:28:11.531Z"
   },
   {
    "duration": 27,
    "start_time": "2022-10-31T19:28:40.955Z"
   },
   {
    "duration": 229,
    "start_time": "2022-10-31T19:34:57.208Z"
   },
   {
    "duration": 18,
    "start_time": "2022-10-31T19:35:30.725Z"
   },
   {
    "duration": 14,
    "start_time": "2022-10-31T19:38:01.642Z"
   },
   {
    "duration": 24,
    "start_time": "2022-10-31T20:00:09.752Z"
   },
   {
    "duration": 22,
    "start_time": "2022-10-31T20:00:34.145Z"
   },
   {
    "duration": 25,
    "start_time": "2022-10-31T20:07:07.545Z"
   },
   {
    "duration": 30,
    "start_time": "2022-10-31T20:07:18.655Z"
   },
   {
    "duration": 22,
    "start_time": "2022-10-31T20:10:24.115Z"
   },
   {
    "duration": 19,
    "start_time": "2022-10-31T20:10:56.917Z"
   },
   {
    "duration": 20,
    "start_time": "2022-10-31T20:11:33.693Z"
   },
   {
    "duration": 24,
    "start_time": "2022-10-31T20:11:42.176Z"
   },
   {
    "duration": 22,
    "start_time": "2022-10-31T20:13:23.934Z"
   },
   {
    "duration": 23,
    "start_time": "2022-10-31T20:15:34.023Z"
   },
   {
    "duration": 22,
    "start_time": "2022-10-31T20:15:47.406Z"
   },
   {
    "duration": 23,
    "start_time": "2022-10-31T20:16:12.564Z"
   },
   {
    "duration": 22,
    "start_time": "2022-10-31T20:16:24.710Z"
   },
   {
    "duration": 24,
    "start_time": "2022-10-31T20:16:33.997Z"
   },
   {
    "duration": 32,
    "start_time": "2022-10-31T20:17:47.591Z"
   },
   {
    "duration": 31,
    "start_time": "2022-10-31T20:19:09.581Z"
   },
   {
    "duration": 33,
    "start_time": "2022-10-31T20:27:19.401Z"
   },
   {
    "duration": 32,
    "start_time": "2022-10-31T20:27:36.039Z"
   },
   {
    "duration": 32,
    "start_time": "2022-10-31T20:27:58.887Z"
   },
   {
    "duration": 531,
    "start_time": "2022-11-01T12:07:01.596Z"
   },
   {
    "duration": 29,
    "start_time": "2022-11-01T12:07:02.129Z"
   },
   {
    "duration": 18,
    "start_time": "2022-11-01T12:07:02.159Z"
   },
   {
    "duration": 22,
    "start_time": "2022-11-01T12:07:02.180Z"
   },
   {
    "duration": 30,
    "start_time": "2022-11-01T12:07:02.204Z"
   },
   {
    "duration": 49,
    "start_time": "2022-11-01T12:07:02.236Z"
   },
   {
    "duration": 14,
    "start_time": "2022-11-01T12:07:02.287Z"
   },
   {
    "duration": 28,
    "start_time": "2022-11-01T12:07:02.303Z"
   },
   {
    "duration": 8,
    "start_time": "2022-11-01T12:07:02.332Z"
   },
   {
    "duration": 41,
    "start_time": "2022-11-01T12:07:02.343Z"
   },
   {
    "duration": 25,
    "start_time": "2022-11-01T12:07:02.385Z"
   },
   {
    "duration": 76,
    "start_time": "2022-11-01T12:07:02.412Z"
   },
   {
    "duration": 4,
    "start_time": "2022-11-01T12:07:02.490Z"
   },
   {
    "duration": 18,
    "start_time": "2022-11-01T12:07:02.495Z"
   },
   {
    "duration": 10,
    "start_time": "2022-11-01T12:07:02.515Z"
   },
   {
    "duration": 12,
    "start_time": "2022-11-01T12:07:02.527Z"
   },
   {
    "duration": 25,
    "start_time": "2022-11-01T12:07:02.540Z"
   },
   {
    "duration": 29,
    "start_time": "2022-11-01T12:07:02.566Z"
   },
   {
    "duration": 46,
    "start_time": "2022-11-01T12:07:02.597Z"
   },
   {
    "duration": 10,
    "start_time": "2022-11-01T12:07:02.646Z"
   },
   {
    "duration": 12,
    "start_time": "2022-11-01T12:07:02.658Z"
   },
   {
    "duration": 29,
    "start_time": "2022-11-01T12:07:02.671Z"
   },
   {
    "duration": 25,
    "start_time": "2022-11-01T12:07:02.702Z"
   },
   {
    "duration": 23,
    "start_time": "2022-11-01T12:07:02.729Z"
   },
   {
    "duration": 4,
    "start_time": "2022-11-01T12:07:02.754Z"
   },
   {
    "duration": 19,
    "start_time": "2022-11-01T12:07:02.760Z"
   },
   {
    "duration": 9,
    "start_time": "2022-11-01T12:07:02.781Z"
   },
   {
    "duration": 4,
    "start_time": "2022-11-01T12:07:02.795Z"
   },
   {
    "duration": 16,
    "start_time": "2022-11-01T12:07:02.831Z"
   },
   {
    "duration": 5,
    "start_time": "2022-11-01T12:07:02.849Z"
   },
   {
    "duration": 18,
    "start_time": "2022-11-01T12:07:02.856Z"
   },
   {
    "duration": 20,
    "start_time": "2022-11-01T12:07:02.876Z"
   },
   {
    "duration": 34,
    "start_time": "2022-11-01T12:07:02.898Z"
   },
   {
    "duration": 8,
    "start_time": "2022-11-01T12:07:02.934Z"
   },
   {
    "duration": 11,
    "start_time": "2022-11-01T12:07:02.944Z"
   },
   {
    "duration": 14,
    "start_time": "2022-11-01T12:07:02.957Z"
   },
   {
    "duration": 6,
    "start_time": "2022-11-01T12:07:02.973Z"
   },
   {
    "duration": 11,
    "start_time": "2022-11-01T12:07:02.981Z"
   },
   {
    "duration": 5,
    "start_time": "2022-11-01T12:07:02.994Z"
   },
   {
    "duration": 8,
    "start_time": "2022-11-01T12:07:03.032Z"
   },
   {
    "duration": 8,
    "start_time": "2022-11-01T12:07:03.042Z"
   },
   {
    "duration": 16,
    "start_time": "2022-11-01T12:07:03.051Z"
   },
   {
    "duration": 6,
    "start_time": "2022-11-01T12:07:03.069Z"
   },
   {
    "duration": 19,
    "start_time": "2022-11-01T12:07:03.077Z"
   },
   {
    "duration": 8,
    "start_time": "2022-11-01T12:07:03.097Z"
   },
   {
    "duration": 10,
    "start_time": "2022-11-01T12:07:03.132Z"
   },
   {
    "duration": 12,
    "start_time": "2022-11-01T12:07:03.144Z"
   },
   {
    "duration": 11,
    "start_time": "2022-11-01T12:07:03.158Z"
   },
   {
    "duration": 7,
    "start_time": "2022-11-01T12:07:03.170Z"
   },
   {
    "duration": 17,
    "start_time": "2022-11-01T12:07:03.178Z"
   },
   {
    "duration": 40,
    "start_time": "2022-11-01T12:07:03.197Z"
   },
   {
    "duration": 12,
    "start_time": "2022-11-01T12:07:03.239Z"
   },
   {
    "duration": 20,
    "start_time": "2022-11-01T12:07:03.253Z"
   },
   {
    "duration": 16,
    "start_time": "2022-11-01T12:07:03.274Z"
   },
   {
    "duration": 19,
    "start_time": "2022-11-01T12:07:03.292Z"
   },
   {
    "duration": 22,
    "start_time": "2022-11-01T12:07:03.333Z"
   },
   {
    "duration": 25,
    "start_time": "2022-11-01T12:07:03.357Z"
   },
   {
    "duration": 6,
    "start_time": "2022-11-01T12:07:03.384Z"
   },
   {
    "duration": 22,
    "start_time": "2022-11-01T12:07:03.392Z"
   },
   {
    "duration": 41,
    "start_time": "2022-11-01T12:07:03.416Z"
   },
   {
    "duration": 599,
    "start_time": "2022-11-01T12:07:03.460Z"
   },
   {
    "duration": 4,
    "start_time": "2022-11-01T12:07:04.061Z"
   },
   {
    "duration": 23,
    "start_time": "2022-11-01T12:07:04.067Z"
   },
   {
    "duration": 130,
    "start_time": "2022-11-01T12:07:04.092Z"
   },
   {
    "duration": 31,
    "start_time": "2022-11-01T12:07:04.232Z"
   },
   {
    "duration": 34,
    "start_time": "2022-11-01T12:07:04.264Z"
   },
   {
    "duration": 53,
    "start_time": "2022-11-01T12:07:04.300Z"
   },
   {
    "duration": 126,
    "start_time": "2022-11-01T12:07:04.354Z"
   },
   {
    "duration": 11,
    "start_time": "2022-11-01T12:07:04.483Z"
   },
   {
    "duration": 146,
    "start_time": "2022-11-01T12:07:04.496Z"
   },
   {
    "duration": 16,
    "start_time": "2022-11-01T12:07:04.644Z"
   },
   {
    "duration": 214,
    "start_time": "2022-11-01T12:07:04.662Z"
   },
   {
    "duration": 143,
    "start_time": "2022-11-01T12:07:04.878Z"
   },
   {
    "duration": 16,
    "start_time": "2022-11-01T12:07:05.023Z"
   },
   {
    "duration": 137,
    "start_time": "2022-11-01T12:07:05.041Z"
   },
   {
    "duration": 10,
    "start_time": "2022-11-01T12:07:05.180Z"
   },
   {
    "duration": 9,
    "start_time": "2022-11-01T12:07:05.192Z"
   },
   {
    "duration": 20,
    "start_time": "2022-11-01T12:07:05.203Z"
   },
   {
    "duration": 13,
    "start_time": "2022-11-01T12:07:05.225Z"
   },
   {
    "duration": 13,
    "start_time": "2022-11-01T12:07:05.240Z"
   },
   {
    "duration": 19,
    "start_time": "2022-11-01T12:07:05.255Z"
   },
   {
    "duration": 18,
    "start_time": "2022-11-01T12:07:05.279Z"
   },
   {
    "duration": 56,
    "start_time": "2022-11-01T12:07:05.299Z"
   },
   {
    "duration": 42,
    "start_time": "2022-11-01T12:07:05.357Z"
   },
   {
    "duration": 50,
    "start_time": "2022-11-01T12:07:05.401Z"
   },
   {
    "duration": 36,
    "start_time": "2022-11-01T12:07:05.454Z"
   },
   {
    "duration": 16,
    "start_time": "2022-11-01T12:09:59.744Z"
   },
   {
    "duration": 13,
    "start_time": "2022-11-01T12:10:24.584Z"
   },
   {
    "duration": 5,
    "start_time": "2022-11-01T12:12:03.644Z"
   },
   {
    "duration": 15,
    "start_time": "2022-11-01T12:12:11.885Z"
   },
   {
    "duration": 12,
    "start_time": "2022-11-01T12:12:32.144Z"
   },
   {
    "duration": 12,
    "start_time": "2022-11-01T12:12:33.085Z"
   },
   {
    "duration": 15,
    "start_time": "2022-11-01T12:12:33.856Z"
   },
   {
    "duration": 12,
    "start_time": "2022-11-01T12:12:34.784Z"
   },
   {
    "duration": 13,
    "start_time": "2022-11-01T12:12:35.724Z"
   },
   {
    "duration": 14,
    "start_time": "2022-11-01T12:12:36.973Z"
   },
   {
    "duration": 85,
    "start_time": "2022-11-01T12:17:13.693Z"
   },
   {
    "duration": 6,
    "start_time": "2022-11-01T12:18:18.025Z"
   },
   {
    "duration": 8,
    "start_time": "2022-11-01T12:18:51.399Z"
   },
   {
    "duration": 9,
    "start_time": "2022-11-01T12:19:11.945Z"
   },
   {
    "duration": 13,
    "start_time": "2022-11-01T12:26:54.366Z"
   },
   {
    "duration": 14,
    "start_time": "2022-11-01T12:26:56.958Z"
   },
   {
    "duration": 15,
    "start_time": "2022-11-01T12:27:06.945Z"
   },
   {
    "duration": 11,
    "start_time": "2022-11-01T12:27:10.193Z"
   },
   {
    "duration": 13,
    "start_time": "2022-11-01T12:27:15.665Z"
   },
   {
    "duration": 13,
    "start_time": "2022-11-01T12:27:27.685Z"
   },
   {
    "duration": 15,
    "start_time": "2022-11-01T12:27:30.965Z"
   },
   {
    "duration": 519,
    "start_time": "2022-11-01T12:31:04.665Z"
   },
   {
    "duration": 26,
    "start_time": "2022-11-01T12:31:05.186Z"
   },
   {
    "duration": 82,
    "start_time": "2022-11-01T12:31:05.214Z"
   },
   {
    "duration": 14,
    "start_time": "2022-11-01T12:31:05.301Z"
   },
   {
    "duration": 8,
    "start_time": "2022-11-01T12:31:05.319Z"
   },
   {
    "duration": 20,
    "start_time": "2022-11-01T12:31:05.329Z"
   },
   {
    "duration": 17,
    "start_time": "2022-11-01T12:31:05.351Z"
   },
   {
    "duration": 17,
    "start_time": "2022-11-01T12:31:05.370Z"
   },
   {
    "duration": 43,
    "start_time": "2022-11-01T12:31:05.389Z"
   },
   {
    "duration": 20,
    "start_time": "2022-11-01T12:31:05.434Z"
   },
   {
    "duration": 9,
    "start_time": "2022-11-01T12:31:05.456Z"
   },
   {
    "duration": 65,
    "start_time": "2022-11-01T12:31:05.467Z"
   },
   {
    "duration": 5,
    "start_time": "2022-11-01T12:31:05.534Z"
   },
   {
    "duration": 14,
    "start_time": "2022-11-01T12:31:05.542Z"
   },
   {
    "duration": 6,
    "start_time": "2022-11-01T12:31:05.559Z"
   },
   {
    "duration": 9,
    "start_time": "2022-11-01T12:31:05.567Z"
   },
   {
    "duration": 22,
    "start_time": "2022-11-01T12:31:05.577Z"
   },
   {
    "duration": 29,
    "start_time": "2022-11-01T12:31:05.602Z"
   },
   {
    "duration": 47,
    "start_time": "2022-11-01T12:31:05.634Z"
   },
   {
    "duration": 13,
    "start_time": "2022-11-01T12:31:05.684Z"
   },
   {
    "duration": 18,
    "start_time": "2022-11-01T12:31:05.698Z"
   },
   {
    "duration": 21,
    "start_time": "2022-11-01T12:31:05.733Z"
   },
   {
    "duration": 32,
    "start_time": "2022-11-01T12:31:05.756Z"
   },
   {
    "duration": 24,
    "start_time": "2022-11-01T12:31:05.790Z"
   },
   {
    "duration": 6,
    "start_time": "2022-11-01T12:31:05.816Z"
   },
   {
    "duration": 18,
    "start_time": "2022-11-01T12:31:05.831Z"
   },
   {
    "duration": 11,
    "start_time": "2022-11-01T12:31:05.851Z"
   },
   {
    "duration": 4,
    "start_time": "2022-11-01T12:31:05.865Z"
   },
   {
    "duration": 12,
    "start_time": "2022-11-01T12:31:05.872Z"
   },
   {
    "duration": 7,
    "start_time": "2022-11-01T12:31:05.886Z"
   },
   {
    "duration": 49,
    "start_time": "2022-11-01T12:31:05.895Z"
   },
   {
    "duration": 19,
    "start_time": "2022-11-01T12:31:05.946Z"
   },
   {
    "duration": 16,
    "start_time": "2022-11-01T12:31:05.967Z"
   },
   {
    "duration": 8,
    "start_time": "2022-11-01T12:31:05.986Z"
   },
   {
    "duration": 12,
    "start_time": "2022-11-01T12:31:05.995Z"
   },
   {
    "duration": 34,
    "start_time": "2022-11-01T12:31:06.009Z"
   },
   {
    "duration": 8,
    "start_time": "2022-11-01T12:31:06.045Z"
   },
   {
    "duration": 7,
    "start_time": "2022-11-01T12:31:06.055Z"
   },
   {
    "duration": 12,
    "start_time": "2022-11-01T12:31:06.064Z"
   },
   {
    "duration": 15,
    "start_time": "2022-11-01T12:31:06.079Z"
   },
   {
    "duration": 8,
    "start_time": "2022-11-01T12:31:06.135Z"
   },
   {
    "duration": 14,
    "start_time": "2022-11-01T12:31:06.145Z"
   },
   {
    "duration": 10,
    "start_time": "2022-11-01T12:31:06.162Z"
   },
   {
    "duration": 20,
    "start_time": "2022-11-01T12:31:06.174Z"
   },
   {
    "duration": 9,
    "start_time": "2022-11-01T12:31:06.196Z"
   },
   {
    "duration": 32,
    "start_time": "2022-11-01T12:31:06.207Z"
   },
   {
    "duration": 17,
    "start_time": "2022-11-01T12:31:06.240Z"
   },
   {
    "duration": 6,
    "start_time": "2022-11-01T12:31:06.259Z"
   },
   {
    "duration": 6,
    "start_time": "2022-11-01T12:31:06.267Z"
   },
   {
    "duration": 21,
    "start_time": "2022-11-01T12:31:06.275Z"
   },
   {
    "duration": 44,
    "start_time": "2022-11-01T12:31:06.298Z"
   },
   {
    "duration": 4,
    "start_time": "2022-11-01T12:31:06.344Z"
   },
   {
    "duration": 0,
    "start_time": "2022-11-01T12:31:06.350Z"
   },
   {
    "duration": 0,
    "start_time": "2022-11-01T12:31:06.351Z"
   },
   {
    "duration": 0,
    "start_time": "2022-11-01T12:31:06.354Z"
   },
   {
    "duration": 0,
    "start_time": "2022-11-01T12:31:06.355Z"
   },
   {
    "duration": 0,
    "start_time": "2022-11-01T12:31:06.357Z"
   },
   {
    "duration": 0,
    "start_time": "2022-11-01T12:31:06.358Z"
   },
   {
    "duration": 0,
    "start_time": "2022-11-01T12:31:06.361Z"
   },
   {
    "duration": 0,
    "start_time": "2022-11-01T12:31:06.362Z"
   },
   {
    "duration": 0,
    "start_time": "2022-11-01T12:31:06.363Z"
   },
   {
    "duration": 0,
    "start_time": "2022-11-01T12:31:06.365Z"
   },
   {
    "duration": 0,
    "start_time": "2022-11-01T12:31:06.367Z"
   },
   {
    "duration": 0,
    "start_time": "2022-11-01T12:31:06.369Z"
   },
   {
    "duration": 0,
    "start_time": "2022-11-01T12:31:06.371Z"
   },
   {
    "duration": 0,
    "start_time": "2022-11-01T12:31:06.372Z"
   },
   {
    "duration": 1,
    "start_time": "2022-11-01T12:31:06.373Z"
   },
   {
    "duration": 0,
    "start_time": "2022-11-01T12:31:06.375Z"
   },
   {
    "duration": 0,
    "start_time": "2022-11-01T12:31:06.377Z"
   },
   {
    "duration": 0,
    "start_time": "2022-11-01T12:31:06.378Z"
   },
   {
    "duration": 0,
    "start_time": "2022-11-01T12:31:06.379Z"
   },
   {
    "duration": 0,
    "start_time": "2022-11-01T12:31:06.380Z"
   },
   {
    "duration": 0,
    "start_time": "2022-11-01T12:31:06.432Z"
   },
   {
    "duration": 0,
    "start_time": "2022-11-01T12:31:06.434Z"
   },
   {
    "duration": 0,
    "start_time": "2022-11-01T12:31:06.436Z"
   },
   {
    "duration": 0,
    "start_time": "2022-11-01T12:31:06.437Z"
   },
   {
    "duration": 0,
    "start_time": "2022-11-01T12:31:06.438Z"
   },
   {
    "duration": 0,
    "start_time": "2022-11-01T12:31:06.440Z"
   },
   {
    "duration": 0,
    "start_time": "2022-11-01T12:31:06.441Z"
   },
   {
    "duration": 0,
    "start_time": "2022-11-01T12:31:06.443Z"
   },
   {
    "duration": 0,
    "start_time": "2022-11-01T12:31:06.444Z"
   },
   {
    "duration": 0,
    "start_time": "2022-11-01T12:31:06.446Z"
   },
   {
    "duration": 0,
    "start_time": "2022-11-01T12:31:06.447Z"
   },
   {
    "duration": 0,
    "start_time": "2022-11-01T12:31:06.450Z"
   },
   {
    "duration": 0,
    "start_time": "2022-11-01T12:31:06.451Z"
   },
   {
    "duration": 0,
    "start_time": "2022-11-01T12:31:06.453Z"
   },
   {
    "duration": 0,
    "start_time": "2022-11-01T12:31:06.454Z"
   },
   {
    "duration": 0,
    "start_time": "2022-11-01T12:31:06.455Z"
   },
   {
    "duration": 14,
    "start_time": "2022-11-01T12:31:59.785Z"
   },
   {
    "duration": 19,
    "start_time": "2022-11-01T12:32:02.344Z"
   },
   {
    "duration": 638,
    "start_time": "2022-11-01T12:32:16.343Z"
   },
   {
    "duration": 28,
    "start_time": "2022-11-01T12:32:16.983Z"
   },
   {
    "duration": 24,
    "start_time": "2022-11-01T12:32:17.032Z"
   },
   {
    "duration": 24,
    "start_time": "2022-11-01T12:32:17.058Z"
   },
   {
    "duration": 10,
    "start_time": "2022-11-01T12:32:17.085Z"
   },
   {
    "duration": 28,
    "start_time": "2022-11-01T12:32:17.096Z"
   },
   {
    "duration": 20,
    "start_time": "2022-11-01T12:32:17.132Z"
   },
   {
    "duration": 30,
    "start_time": "2022-11-01T12:32:17.154Z"
   },
   {
    "duration": 9,
    "start_time": "2022-11-01T12:32:17.185Z"
   },
   {
    "duration": 18,
    "start_time": "2022-11-01T12:32:17.196Z"
   },
   {
    "duration": 11,
    "start_time": "2022-11-01T12:32:17.232Z"
   },
   {
    "duration": 48,
    "start_time": "2022-11-01T12:32:17.245Z"
   },
   {
    "duration": 4,
    "start_time": "2022-11-01T12:32:17.296Z"
   },
   {
    "duration": 30,
    "start_time": "2022-11-01T12:32:17.303Z"
   },
   {
    "duration": 6,
    "start_time": "2022-11-01T12:32:17.336Z"
   },
   {
    "duration": 33,
    "start_time": "2022-11-01T12:32:17.344Z"
   },
   {
    "duration": 32,
    "start_time": "2022-11-01T12:32:17.379Z"
   },
   {
    "duration": 40,
    "start_time": "2022-11-01T12:32:17.413Z"
   },
   {
    "duration": 82,
    "start_time": "2022-11-01T12:32:17.455Z"
   },
   {
    "duration": 13,
    "start_time": "2022-11-01T12:32:17.540Z"
   },
   {
    "duration": 16,
    "start_time": "2022-11-01T12:32:17.555Z"
   },
   {
    "duration": 32,
    "start_time": "2022-11-01T12:32:17.574Z"
   },
   {
    "duration": 59,
    "start_time": "2022-11-01T12:32:17.608Z"
   },
   {
    "duration": 23,
    "start_time": "2022-11-01T12:32:17.669Z"
   },
   {
    "duration": 19,
    "start_time": "2022-11-01T12:32:17.694Z"
   },
   {
    "duration": 41,
    "start_time": "2022-11-01T12:32:17.715Z"
   },
   {
    "duration": 29,
    "start_time": "2022-11-01T12:32:17.759Z"
   },
   {
    "duration": 29,
    "start_time": "2022-11-01T12:32:17.790Z"
   },
   {
    "duration": 40,
    "start_time": "2022-11-01T12:32:17.821Z"
   },
   {
    "duration": 38,
    "start_time": "2022-11-01T12:32:17.863Z"
   },
   {
    "duration": 38,
    "start_time": "2022-11-01T12:32:17.903Z"
   },
   {
    "duration": 31,
    "start_time": "2022-11-01T12:32:17.943Z"
   },
   {
    "duration": 22,
    "start_time": "2022-11-01T12:32:17.976Z"
   },
   {
    "duration": 25,
    "start_time": "2022-11-01T12:32:18.000Z"
   },
   {
    "duration": 41,
    "start_time": "2022-11-01T12:32:18.027Z"
   },
   {
    "duration": 19,
    "start_time": "2022-11-01T12:32:18.070Z"
   },
   {
    "duration": 33,
    "start_time": "2022-11-01T12:32:18.091Z"
   },
   {
    "duration": 16,
    "start_time": "2022-11-01T12:32:18.127Z"
   },
   {
    "duration": 28,
    "start_time": "2022-11-01T12:32:18.145Z"
   },
   {
    "duration": 29,
    "start_time": "2022-11-01T12:32:18.175Z"
   },
   {
    "duration": 53,
    "start_time": "2022-11-01T12:32:18.211Z"
   },
   {
    "duration": 38,
    "start_time": "2022-11-01T12:32:18.266Z"
   },
   {
    "duration": 20,
    "start_time": "2022-11-01T12:32:18.306Z"
   },
   {
    "duration": 49,
    "start_time": "2022-11-01T12:32:18.328Z"
   },
   {
    "duration": 15,
    "start_time": "2022-11-01T12:32:18.379Z"
   },
   {
    "duration": 53,
    "start_time": "2022-11-01T12:32:18.396Z"
   },
   {
    "duration": 18,
    "start_time": "2022-11-01T12:32:18.451Z"
   },
   {
    "duration": 33,
    "start_time": "2022-11-01T12:32:18.472Z"
   },
   {
    "duration": 29,
    "start_time": "2022-11-01T12:32:18.507Z"
   },
   {
    "duration": 24,
    "start_time": "2022-11-01T12:32:18.538Z"
   },
   {
    "duration": 20,
    "start_time": "2022-11-01T12:32:18.565Z"
   },
   {
    "duration": 35,
    "start_time": "2022-11-01T12:32:18.588Z"
   },
   {
    "duration": 31,
    "start_time": "2022-11-01T12:32:18.625Z"
   },
   {
    "duration": 34,
    "start_time": "2022-11-01T12:32:18.658Z"
   },
   {
    "duration": 34,
    "start_time": "2022-11-01T12:32:18.694Z"
   },
   {
    "duration": 22,
    "start_time": "2022-11-01T12:32:18.730Z"
   },
   {
    "duration": 26,
    "start_time": "2022-11-01T12:32:18.754Z"
   },
   {
    "duration": 49,
    "start_time": "2022-11-01T12:32:18.782Z"
   },
   {
    "duration": 20,
    "start_time": "2022-11-01T12:32:18.834Z"
   },
   {
    "duration": 10,
    "start_time": "2022-11-01T12:32:18.856Z"
   },
   {
    "duration": 22,
    "start_time": "2022-11-01T12:32:18.868Z"
   },
   {
    "duration": 51,
    "start_time": "2022-11-01T12:32:18.892Z"
   },
   {
    "duration": 459,
    "start_time": "2022-11-01T12:32:18.948Z"
   },
   {
    "duration": 3,
    "start_time": "2022-11-01T12:32:19.409Z"
   },
   {
    "duration": 68,
    "start_time": "2022-11-01T12:32:19.414Z"
   },
   {
    "duration": 148,
    "start_time": "2022-11-01T12:32:19.484Z"
   },
   {
    "duration": 45,
    "start_time": "2022-11-01T12:32:19.634Z"
   },
   {
    "duration": 55,
    "start_time": "2022-11-01T12:32:19.680Z"
   },
   {
    "duration": 33,
    "start_time": "2022-11-01T12:32:19.737Z"
   },
   {
    "duration": 171,
    "start_time": "2022-11-01T12:32:19.773Z"
   },
   {
    "duration": 18,
    "start_time": "2022-11-01T12:32:19.947Z"
   },
   {
    "duration": 185,
    "start_time": "2022-11-01T12:32:19.967Z"
   },
   {
    "duration": 21,
    "start_time": "2022-11-01T12:32:20.155Z"
   },
   {
    "duration": 228,
    "start_time": "2022-11-01T12:32:20.178Z"
   },
   {
    "duration": 175,
    "start_time": "2022-11-01T12:32:20.408Z"
   },
   {
    "duration": 11,
    "start_time": "2022-11-01T12:32:20.584Z"
   },
   {
    "duration": 168,
    "start_time": "2022-11-01T12:32:20.597Z"
   },
   {
    "duration": 8,
    "start_time": "2022-11-01T12:32:20.767Z"
   },
   {
    "duration": 6,
    "start_time": "2022-11-01T12:32:20.777Z"
   },
   {
    "duration": 12,
    "start_time": "2022-11-01T12:32:20.785Z"
   },
   {
    "duration": 13,
    "start_time": "2022-11-01T12:32:20.798Z"
   },
   {
    "duration": 9,
    "start_time": "2022-11-01T12:32:20.831Z"
   },
   {
    "duration": 14,
    "start_time": "2022-11-01T12:32:20.842Z"
   },
   {
    "duration": 20,
    "start_time": "2022-11-01T12:32:20.858Z"
   },
   {
    "duration": 66,
    "start_time": "2022-11-01T12:32:20.880Z"
   },
   {
    "duration": 49,
    "start_time": "2022-11-01T12:32:20.949Z"
   },
   {
    "duration": 52,
    "start_time": "2022-11-01T12:32:21.000Z"
   },
   {
    "duration": 37,
    "start_time": "2022-11-01T12:32:21.055Z"
   },
   {
    "duration": 4,
    "start_time": "2022-11-01T12:33:32.652Z"
   },
   {
    "duration": 13,
    "start_time": "2022-11-01T12:33:36.574Z"
   },
   {
    "duration": 14,
    "start_time": "2022-11-01T12:33:47.602Z"
   },
   {
    "duration": 15,
    "start_time": "2022-11-01T12:34:10.922Z"
   },
   {
    "duration": 546,
    "start_time": "2022-11-01T12:34:19.761Z"
   },
   {
    "duration": 31,
    "start_time": "2022-11-01T12:34:20.309Z"
   },
   {
    "duration": 21,
    "start_time": "2022-11-01T12:34:20.343Z"
   },
   {
    "duration": 15,
    "start_time": "2022-11-01T12:34:20.367Z"
   },
   {
    "duration": 7,
    "start_time": "2022-11-01T12:34:20.383Z"
   },
   {
    "duration": 57,
    "start_time": "2022-11-01T12:34:20.392Z"
   },
   {
    "duration": 17,
    "start_time": "2022-11-01T12:34:20.451Z"
   },
   {
    "duration": 16,
    "start_time": "2022-11-01T12:34:20.470Z"
   },
   {
    "duration": 49,
    "start_time": "2022-11-01T12:34:20.487Z"
   },
   {
    "duration": 10,
    "start_time": "2022-11-01T12:34:20.539Z"
   },
   {
    "duration": 18,
    "start_time": "2022-11-01T12:34:20.550Z"
   },
   {
    "duration": 60,
    "start_time": "2022-11-01T12:34:20.572Z"
   },
   {
    "duration": 5,
    "start_time": "2022-11-01T12:34:20.635Z"
   },
   {
    "duration": 13,
    "start_time": "2022-11-01T12:34:20.642Z"
   },
   {
    "duration": 6,
    "start_time": "2022-11-01T12:34:20.657Z"
   },
   {
    "duration": 9,
    "start_time": "2022-11-01T12:34:20.665Z"
   },
   {
    "duration": 7,
    "start_time": "2022-11-01T12:34:20.676Z"
   },
   {
    "duration": 49,
    "start_time": "2022-11-01T12:34:20.684Z"
   },
   {
    "duration": 46,
    "start_time": "2022-11-01T12:34:20.735Z"
   },
   {
    "duration": 13,
    "start_time": "2022-11-01T12:34:20.783Z"
   },
   {
    "duration": 4,
    "start_time": "2022-11-01T12:34:20.798Z"
   },
   {
    "duration": 39,
    "start_time": "2022-11-01T12:34:20.804Z"
   },
   {
    "duration": 34,
    "start_time": "2022-11-01T12:34:20.845Z"
   },
   {
    "duration": 20,
    "start_time": "2022-11-01T12:34:20.881Z"
   },
   {
    "duration": 3,
    "start_time": "2022-11-01T12:34:20.903Z"
   },
   {
    "duration": 32,
    "start_time": "2022-11-01T12:34:20.908Z"
   },
   {
    "duration": 9,
    "start_time": "2022-11-01T12:34:20.942Z"
   },
   {
    "duration": 6,
    "start_time": "2022-11-01T12:34:20.955Z"
   },
   {
    "duration": 15,
    "start_time": "2022-11-01T12:34:20.964Z"
   },
   {
    "duration": 11,
    "start_time": "2022-11-01T12:34:20.981Z"
   },
   {
    "duration": 38,
    "start_time": "2022-11-01T12:34:20.994Z"
   },
   {
    "duration": 22,
    "start_time": "2022-11-01T12:34:21.034Z"
   },
   {
    "duration": 12,
    "start_time": "2022-11-01T12:34:21.058Z"
   },
   {
    "duration": 8,
    "start_time": "2022-11-01T12:34:21.073Z"
   },
   {
    "duration": 11,
    "start_time": "2022-11-01T12:34:21.083Z"
   },
   {
    "duration": 41,
    "start_time": "2022-11-01T12:34:21.095Z"
   },
   {
    "duration": 9,
    "start_time": "2022-11-01T12:34:21.138Z"
   },
   {
    "duration": 8,
    "start_time": "2022-11-01T12:34:21.149Z"
   },
   {
    "duration": 9,
    "start_time": "2022-11-01T12:34:21.159Z"
   },
   {
    "duration": 14,
    "start_time": "2022-11-01T12:34:21.170Z"
   },
   {
    "duration": 6,
    "start_time": "2022-11-01T12:34:21.185Z"
   },
   {
    "duration": 55,
    "start_time": "2022-11-01T12:34:21.192Z"
   },
   {
    "duration": 5,
    "start_time": "2022-11-01T12:34:21.249Z"
   },
   {
    "duration": 16,
    "start_time": "2022-11-01T12:34:21.256Z"
   },
   {
    "duration": 7,
    "start_time": "2022-11-01T12:34:21.274Z"
   },
   {
    "duration": 8,
    "start_time": "2022-11-01T12:34:21.284Z"
   },
   {
    "duration": 42,
    "start_time": "2022-11-01T12:34:21.297Z"
   },
   {
    "duration": 7,
    "start_time": "2022-11-01T12:34:21.342Z"
   },
   {
    "duration": 12,
    "start_time": "2022-11-01T12:34:21.351Z"
   },
   {
    "duration": 21,
    "start_time": "2022-11-01T12:34:21.365Z"
   },
   {
    "duration": 14,
    "start_time": "2022-11-01T12:34:21.389Z"
   },
   {
    "duration": 19,
    "start_time": "2022-11-01T12:34:21.431Z"
   },
   {
    "duration": 16,
    "start_time": "2022-11-01T12:34:21.452Z"
   },
   {
    "duration": 10,
    "start_time": "2022-11-01T12:34:21.471Z"
   },
   {
    "duration": 13,
    "start_time": "2022-11-01T12:34:21.483Z"
   },
   {
    "duration": 41,
    "start_time": "2022-11-01T12:34:21.498Z"
   },
   {
    "duration": 17,
    "start_time": "2022-11-01T12:34:21.541Z"
   },
   {
    "duration": 17,
    "start_time": "2022-11-01T12:34:21.561Z"
   },
   {
    "duration": 20,
    "start_time": "2022-11-01T12:34:21.580Z"
   },
   {
    "duration": 34,
    "start_time": "2022-11-01T12:34:21.601Z"
   },
   {
    "duration": 18,
    "start_time": "2022-11-01T12:34:21.638Z"
   },
   {
    "duration": 41,
    "start_time": "2022-11-01T12:34:21.659Z"
   },
   {
    "duration": 492,
    "start_time": "2022-11-01T12:34:21.701Z"
   },
   {
    "duration": 3,
    "start_time": "2022-11-01T12:34:22.195Z"
   },
   {
    "duration": 34,
    "start_time": "2022-11-01T12:34:22.200Z"
   },
   {
    "duration": 156,
    "start_time": "2022-11-01T12:34:22.237Z"
   },
   {
    "duration": 53,
    "start_time": "2022-11-01T12:34:22.395Z"
   },
   {
    "duration": 39,
    "start_time": "2022-11-01T12:34:22.451Z"
   },
   {
    "duration": 56,
    "start_time": "2022-11-01T12:34:22.493Z"
   },
   {
    "duration": 166,
    "start_time": "2022-11-01T12:34:22.552Z"
   },
   {
    "duration": 21,
    "start_time": "2022-11-01T12:34:22.721Z"
   },
   {
    "duration": 162,
    "start_time": "2022-11-01T12:34:22.744Z"
   },
   {
    "duration": 14,
    "start_time": "2022-11-01T12:34:22.907Z"
   },
   {
    "duration": 215,
    "start_time": "2022-11-01T12:34:22.932Z"
   },
   {
    "duration": 166,
    "start_time": "2022-11-01T12:34:23.149Z"
   },
   {
    "duration": 20,
    "start_time": "2022-11-01T12:34:23.317Z"
   },
   {
    "duration": 167,
    "start_time": "2022-11-01T12:34:23.340Z"
   },
   {
    "duration": 7,
    "start_time": "2022-11-01T12:34:23.509Z"
   },
   {
    "duration": 33,
    "start_time": "2022-11-01T12:34:23.531Z"
   },
   {
    "duration": 14,
    "start_time": "2022-11-01T12:34:23.567Z"
   },
   {
    "duration": 22,
    "start_time": "2022-11-01T12:34:23.583Z"
   },
   {
    "duration": 17,
    "start_time": "2022-11-01T12:34:23.610Z"
   },
   {
    "duration": 20,
    "start_time": "2022-11-01T12:34:23.629Z"
   },
   {
    "duration": 28,
    "start_time": "2022-11-01T12:34:23.651Z"
   },
   {
    "duration": 53,
    "start_time": "2022-11-01T12:34:23.681Z"
   },
   {
    "duration": 46,
    "start_time": "2022-11-01T12:34:23.737Z"
   },
   {
    "duration": 20,
    "start_time": "2022-11-01T12:34:23.785Z"
   },
   {
    "duration": 41,
    "start_time": "2022-11-01T12:34:23.831Z"
   },
   {
    "duration": 11,
    "start_time": "2022-11-01T12:39:21.682Z"
   },
   {
    "duration": 16,
    "start_time": "2022-11-01T12:39:46.242Z"
   },
   {
    "duration": 767,
    "start_time": "2022-11-01T12:42:07.941Z"
   },
   {
    "duration": 3,
    "start_time": "2022-11-01T12:42:34.942Z"
   },
   {
    "duration": 625,
    "start_time": "2022-11-01T12:42:37.121Z"
   },
   {
    "duration": 16,
    "start_time": "2022-11-01T12:42:54.301Z"
   },
   {
    "duration": 610,
    "start_time": "2022-11-01T12:43:17.041Z"
   },
   {
    "duration": 31,
    "start_time": "2022-11-01T12:43:49.202Z"
   },
   {
    "duration": 21,
    "start_time": "2022-11-01T12:44:05.069Z"
   },
   {
    "duration": 22,
    "start_time": "2022-11-01T12:44:18.569Z"
   },
   {
    "duration": 17,
    "start_time": "2022-11-01T12:46:20.841Z"
   },
   {
    "duration": 17,
    "start_time": "2022-11-01T12:46:30.542Z"
   },
   {
    "duration": 38,
    "start_time": "2022-11-01T12:52:00.402Z"
   },
   {
    "duration": 130,
    "start_time": "2022-11-01T13:29:07.162Z"
   },
   {
    "duration": 28,
    "start_time": "2022-11-01T13:29:21.743Z"
   },
   {
    "duration": 26,
    "start_time": "2022-11-01T13:29:45.811Z"
   },
   {
    "duration": 9,
    "start_time": "2022-11-01T13:29:59.323Z"
   },
   {
    "duration": 10,
    "start_time": "2022-11-01T13:30:11.623Z"
   }
  ],
  "colab": {
   "name": "dpp_template_part2.ipynb",
   "provenance": []
  },
  "kernelspec": {
   "display_name": "Python 3 (ipykernel)",
   "language": "python",
   "name": "python3"
  },
  "language_info": {
   "codemirror_mode": {
    "name": "ipython",
    "version": 3
   },
   "file_extension": ".py",
   "mimetype": "text/x-python",
   "name": "python",
   "nbconvert_exporter": "python",
   "pygments_lexer": "ipython3",
   "version": "3.9.5"
  },
  "toc": {
   "base_numbering": 1,
   "nav_menu": {},
   "number_sections": true,
   "sideBar": true,
   "skip_h1_title": true,
   "title_cell": "Table of Contents",
   "title_sidebar": "Contents",
   "toc_cell": false,
   "toc_position": {},
   "toc_section_display": true,
   "toc_window_display": false
  }
 },
 "nbformat": 4,
 "nbformat_minor": 5
}
